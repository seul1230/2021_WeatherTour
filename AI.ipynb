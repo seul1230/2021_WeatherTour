{
  "nbformat": 4,
  "nbformat_minor": 0,
  "metadata": {
    "colab": {
      "name": "AI.ipynb",
      "provenance": [],
      "collapsed_sections": []
    },
    "kernelspec": {
      "name": "python3",
      "display_name": "Python 3"
    },
    "language_info": {
      "name": "python"
    }
  },
  "cells": [
    {
      "cell_type": "code",
      "metadata": {
        "colab": {
          "resources": {
            "http://localhost:8080/nbextensions/google.colab/files.js": {
              "data": "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",
              "ok": true,
              "headers": [
                [
                  "content-type",
                  "application/javascript"
                ]
              ],
              "status": 200,
              "status_text": ""
            }
          },
          "base_uri": "https://localhost:8080/",
          "height": 75
        },
        "id": "-MaOIiNgoIzu",
        "outputId": "ea0edb13-4ebf-402b-b0d8-f56ca26f90e0"
      },
      "source": [
        "from google.colab import files\n",
        "myfile = files.upload()"
      ],
      "execution_count": null,
      "outputs": [
        {
          "output_type": "display_data",
          "data": {
            "text/html": [
              "\n",
              "     <input type=\"file\" id=\"files-c384be2c-30af-4caf-a32f-b4fdf3482246\" name=\"files[]\" multiple disabled\n",
              "        style=\"border:none\" />\n",
              "     <output id=\"result-c384be2c-30af-4caf-a32f-b4fdf3482246\">\n",
              "      Upload widget is only available when the cell has been executed in the\n",
              "      current browser session. Please rerun this cell to enable.\n",
              "      </output>\n",
              "      <script src=\"/nbextensions/google.colab/files.js\"></script> "
            ],
            "text/plain": [
              "<IPython.core.display.HTML object>"
            ]
          },
          "metadata": {
            "tags": []
          }
        },
        {
          "output_type": "stream",
          "text": [
            "Saving spring.csv to spring.csv\n"
          ],
          "name": "stdout"
        }
      ]
    },
    {
      "cell_type": "code",
      "metadata": {
        "colab": {
          "resources": {
            "http://localhost:8080/nbextensions/google.colab/files.js": {
              "data": "Ly8gQ29weXJpZ2h0IDIwMTcgR29vZ2xlIExMQwovLwovLyBMaWNlbnNlZCB1bmRlciB0aGUgQXBhY2hlIExpY2Vuc2UsIFZlcnNpb24gMi4wICh0aGUgIkxpY2Vuc2UiKTsKLy8geW91IG1heSBub3QgdXNlIHRoaXMgZmlsZSBleGNlcHQgaW4gY29tcGxpYW5jZSB3aXRoIHRoZSBMaWNlbnNlLgovLyBZb3UgbWF5IG9idGFpbiBhIGNvcHkgb2YgdGhlIExpY2Vuc2UgYXQKLy8KLy8gICAgICBodHRwOi8vd3d3LmFwYWNoZS5vcmcvbGljZW5zZXMvTElDRU5TRS0yLjAKLy8KLy8gVW5sZXNzIHJlcXVpcmVkIGJ5IGFwcGxpY2FibGUgbGF3IG9yIGFncmVlZCB0byBpbiB3cml0aW5nLCBzb2Z0d2FyZQovLyBkaXN0cmlidXRlZCB1bmRlciB0aGUgTGljZW5zZSBpcyBkaXN0cmlidXRlZCBvbiBhbiAiQVMgSVMiIEJBU0lTLAovLyBXSVRIT1VUIFdBUlJBTlRJRVMgT1IgQ09ORElUSU9OUyBPRiBBTlkgS0lORCwgZWl0aGVyIGV4cHJlc3Mgb3IgaW1wbGllZC4KLy8gU2VlIHRoZSBMaWNlbnNlIGZvciB0aGUgc3BlY2lmaWMgbGFuZ3VhZ2UgZ292ZXJuaW5nIHBlcm1pc3Npb25zIGFuZAovLyBsaW1pdGF0aW9ucyB1bmRlciB0aGUgTGljZW5zZS4KCi8qKgogKiBAZmlsZW92ZXJ2aWV3IEhlbHBlcnMgZm9yIGdvb2dsZS5jb2xhYiBQeXRob24gbW9kdWxlLgogKi8KKGZ1bmN0aW9uKHNjb3BlKSB7CmZ1bmN0aW9uIHNwYW4odGV4dCwgc3R5bGVBdHRyaWJ1dGVzID0ge30pIHsKICBjb25zdCBlbGVtZW50ID0gZG9jdW1lbnQuY3JlYXRlRWxlbWVudCgnc3BhbicpOwogIGVsZW1lbnQudGV4dENvbnRlbnQgPSB0ZXh0OwogIGZvciAoY29uc3Qga2V5IG9mIE9iamVjdC5rZXlzKHN0eWxlQXR0cmlidXRlcykpIHsKICAgIGVsZW1lbnQuc3R5bGVba2V5XSA9IHN0eWxlQXR0cmlidXRlc1trZXldOwogIH0KICByZXR1cm4gZWxlbWVudDsKfQoKLy8gTWF4IG51bWJlciBvZiBieXRlcyB3aGljaCB3aWxsIGJlIHVwbG9hZGVkIGF0IGEgdGltZS4KY29uc3QgTUFYX1BBWUxPQURfU0laRSA9IDEwMCAqIDEwMjQ7CgpmdW5jdGlvbiBfdXBsb2FkRmlsZXMoaW5wdXRJZCwgb3V0cHV0SWQpIHsKICBjb25zdCBzdGVwcyA9IHVwbG9hZEZpbGVzU3RlcChpbnB1dElkLCBvdXRwdXRJZCk7CiAgY29uc3Qgb3V0cHV0RWxlbWVudCA9IGRvY3VtZW50LmdldEVsZW1lbnRCeUlkKG91dHB1dElkKTsKICAvLyBDYWNoZSBzdGVwcyBvbiB0aGUgb3V0cHV0RWxlbWVudCB0byBtYWtlIGl0IGF2YWlsYWJsZSBmb3IgdGhlIG5leHQgY2FsbAogIC8vIHRvIHVwbG9hZEZpbGVzQ29udGludWUgZnJvbSBQeXRob24uCiAgb3V0cHV0RWxlbWVudC5zdGVwcyA9IHN0ZXBzOwoKICByZXR1cm4gX3VwbG9hZEZpbGVzQ29udGludWUob3V0cHV0SWQpOwp9CgovLyBUaGlzIGlzIHJvdWdobHkgYW4gYXN5bmMgZ2VuZXJhdG9yIChub3Qgc3VwcG9ydGVkIGluIHRoZSBicm93c2VyIHlldCksCi8vIHdoZXJlIHRoZXJlIGFyZSBtdWx0aXBsZSBhc3luY2hyb25vdXMgc3RlcHMgYW5kIHRoZSBQeXRob24gc2lkZSBpcyBnb2luZwovLyB0byBwb2xsIGZvciBjb21wbGV0aW9uIG9mIGVhY2ggc3RlcC4KLy8gVGhpcyB1c2VzIGEgUHJvbWlzZSB0byBibG9jayB0aGUgcHl0aG9uIHNpZGUgb24gY29tcGxldGlvbiBvZiBlYWNoIHN0ZXAsCi8vIHRoZW4gcGFzc2VzIHRoZSByZXN1bHQgb2YgdGhlIHByZXZpb3VzIHN0ZXAgYXMgdGhlIGlucHV0IHRvIHRoZSBuZXh0IHN0ZXAuCmZ1bmN0aW9uIF91cGxvYWRGaWxlc0NvbnRpbnVlKG91dHB1dElkKSB7CiAgY29uc3Qgb3V0cHV0RWxlbWVudCA9IGRvY3VtZW50LmdldEVsZW1lbnRCeUlkKG91dHB1dElkKTsKICBjb25zdCBzdGVwcyA9IG91dHB1dEVsZW1lbnQuc3RlcHM7CgogIGNvbnN0IG5leHQgPSBzdGVwcy5uZXh0KG91dHB1dEVsZW1lbnQubGFzdFByb21pc2VWYWx1ZSk7CiAgcmV0dXJuIFByb21pc2UucmVzb2x2ZShuZXh0LnZhbHVlLnByb21pc2UpLnRoZW4oKHZhbHVlKSA9PiB7CiAgICAvLyBDYWNoZSB0aGUgbGFzdCBwcm9taXNlIHZhbHVlIHRvIG1ha2UgaXQgYXZhaWxhYmxlIHRvIHRoZSBuZXh0CiAgICAvLyBzdGVwIG9mIHRoZSBnZW5lcmF0b3IuCiAgICBvdXRwdXRFbGVtZW50Lmxhc3RQcm9taXNlVmFsdWUgPSB2YWx1ZTsKICAgIHJldHVybiBuZXh0LnZhbHVlLnJlc3BvbnNlOwogIH0pOwp9CgovKioKICogR2VuZXJhdG9yIGZ1bmN0aW9uIHdoaWNoIGlzIGNhbGxlZCBiZXR3ZWVuIGVhY2ggYXN5bmMgc3RlcCBvZiB0aGUgdXBsb2FkCiAqIHByb2Nlc3MuCiAqIEBwYXJhbSB7c3RyaW5nfSBpbnB1dElkIEVsZW1lbnQgSUQgb2YgdGhlIGlucHV0IGZpbGUgcGlja2VyIGVsZW1lbnQuCiAqIEBwYXJhbSB7c3RyaW5nfSBvdXRwdXRJZCBFbGVtZW50IElEIG9mIHRoZSBvdXRwdXQgZGlzcGxheS4KICogQHJldHVybiB7IUl0ZXJhYmxlPCFPYmplY3Q+fSBJdGVyYWJsZSBvZiBuZXh0IHN0ZXBzLgogKi8KZnVuY3Rpb24qIHVwbG9hZEZpbGVzU3RlcChpbnB1dElkLCBvdXRwdXRJZCkgewogIGNvbnN0IGlucHV0RWxlbWVudCA9IGRvY3VtZW50LmdldEVsZW1lbnRCeUlkKGlucHV0SWQpOwogIGlucHV0RWxlbWVudC5kaXNhYmxlZCA9IGZhbHNlOwoKICBjb25zdCBvdXRwdXRFbGVtZW50ID0gZG9jdW1lbnQuZ2V0RWxlbWVudEJ5SWQob3V0cHV0SWQpOwogIG91dHB1dEVsZW1lbnQuaW5uZXJIVE1MID0gJyc7CgogIGNvbnN0IHBpY2tlZFByb21pc2UgPSBuZXcgUHJvbWlzZSgocmVzb2x2ZSkgPT4gewogICAgaW5wdXRFbGVtZW50LmFkZEV2ZW50TGlzdGVuZXIoJ2NoYW5nZScsIChlKSA9PiB7CiAgICAgIHJlc29sdmUoZS50YXJnZXQuZmlsZXMpOwogICAgfSk7CiAgfSk7CgogIGNvbnN0IGNhbmNlbCA9IGRvY3VtZW50LmNyZWF0ZUVsZW1lbnQoJ2J1dHRvbicpOwogIGlucHV0RWxlbWVudC5wYXJlbnRFbGVtZW50LmFwcGVuZENoaWxkKGNhbmNlbCk7CiAgY2FuY2VsLnRleHRDb250ZW50ID0gJ0NhbmNlbCB1cGxvYWQnOwogIGNvbnN0IGNhbmNlbFByb21pc2UgPSBuZXcgUHJvbWlzZSgocmVzb2x2ZSkgPT4gewogICAgY2FuY2VsLm9uY2xpY2sgPSAoKSA9PiB7CiAgICAgIHJlc29sdmUobnVsbCk7CiAgICB9OwogIH0pOwoKICAvLyBXYWl0IGZvciB0aGUgdXNlciB0byBwaWNrIHRoZSBmaWxlcy4KICBjb25zdCBmaWxlcyA9IHlpZWxkIHsKICAgIHByb21pc2U6IFByb21pc2UucmFjZShbcGlja2VkUHJvbWlzZSwgY2FuY2VsUHJvbWlzZV0pLAogICAgcmVzcG9uc2U6IHsKICAgICAgYWN0aW9uOiAnc3RhcnRpbmcnLAogICAgfQogIH07CgogIGNhbmNlbC5yZW1vdmUoKTsKCiAgLy8gRGlzYWJsZSB0aGUgaW5wdXQgZWxlbWVudCBzaW5jZSBmdXJ0aGVyIHBpY2tzIGFyZSBub3QgYWxsb3dlZC4KICBpbnB1dEVsZW1lbnQuZGlzYWJsZWQgPSB0cnVlOwoKICBpZiAoIWZpbGVzKSB7CiAgICByZXR1cm4gewogICAgICByZXNwb25zZTogewogICAgICAgIGFjdGlvbjogJ2NvbXBsZXRlJywKICAgICAgfQogICAgfTsKICB9CgogIGZvciAoY29uc3QgZmlsZSBvZiBmaWxlcykgewogICAgY29uc3QgbGkgPSBkb2N1bWVudC5jcmVhdGVFbGVtZW50KCdsaScpOwogICAgbGkuYXBwZW5kKHNwYW4oZmlsZS5uYW1lLCB7Zm9udFdlaWdodDogJ2JvbGQnfSkpOwogICAgbGkuYXBwZW5kKHNwYW4oCiAgICAgICAgYCgke2ZpbGUudHlwZSB8fCAnbi9hJ30pIC0gJHtmaWxlLnNpemV9IGJ5dGVzLCBgICsKICAgICAgICBgbGFzdCBtb2RpZmllZDogJHsKICAgICAgICAgICAgZmlsZS5sYXN0TW9kaWZpZWREYXRlID8gZmlsZS5sYXN0TW9kaWZpZWREYXRlLnRvTG9jYWxlRGF0ZVN0cmluZygpIDoKICAgICAgICAgICAgICAgICAgICAgICAgICAgICAgICAgICAgJ24vYSd9IC0gYCkpOwogICAgY29uc3QgcGVyY2VudCA9IHNwYW4oJzAlIGRvbmUnKTsKICAgIGxpLmFwcGVuZENoaWxkKHBlcmNlbnQpOwoKICAgIG91dHB1dEVsZW1lbnQuYXBwZW5kQ2hpbGQobGkpOwoKICAgIGNvbnN0IGZpbGVEYXRhUHJvbWlzZSA9IG5ldyBQcm9taXNlKChyZXNvbHZlKSA9PiB7CiAgICAgIGNvbnN0IHJlYWRlciA9IG5ldyBGaWxlUmVhZGVyKCk7CiAgICAgIHJlYWRlci5vbmxvYWQgPSAoZSkgPT4gewogICAgICAgIHJlc29sdmUoZS50YXJnZXQucmVzdWx0KTsKICAgICAgfTsKICAgICAgcmVhZGVyLnJlYWRBc0FycmF5QnVmZmVyKGZpbGUpOwogICAgfSk7CiAgICAvLyBXYWl0IGZvciB0aGUgZGF0YSB0byBiZSByZWFkeS4KICAgIGxldCBmaWxlRGF0YSA9IHlpZWxkIHsKICAgICAgcHJvbWlzZTogZmlsZURhdGFQcm9taXNlLAogICAgICByZXNwb25zZTogewogICAgICAgIGFjdGlvbjogJ2NvbnRpbnVlJywKICAgICAgfQogICAgfTsKCiAgICAvLyBVc2UgYSBjaHVua2VkIHNlbmRpbmcgdG8gYXZvaWQgbWVzc2FnZSBzaXplIGxpbWl0cy4gU2VlIGIvNjIxMTU2NjAuCiAgICBsZXQgcG9zaXRpb24gPSAwOwogICAgd2hpbGUgKHBvc2l0aW9uIDwgZmlsZURhdGEuYnl0ZUxlbmd0aCkgewogICAgICBjb25zdCBsZW5ndGggPSBNYXRoLm1pbihmaWxlRGF0YS5ieXRlTGVuZ3RoIC0gcG9zaXRpb24sIE1BWF9QQVlMT0FEX1NJWkUpOwogICAgICBjb25zdCBjaHVuayA9IG5ldyBVaW50OEFycmF5KGZpbGVEYXRhLCBwb3NpdGlvbiwgbGVuZ3RoKTsKICAgICAgcG9zaXRpb24gKz0gbGVuZ3RoOwoKICAgICAgY29uc3QgYmFzZTY0ID0gYnRvYShTdHJpbmcuZnJvbUNoYXJDb2RlLmFwcGx5KG51bGwsIGNodW5rKSk7CiAgICAgIHlpZWxkIHsKICAgICAgICByZXNwb25zZTogewogICAgICAgICAgYWN0aW9uOiAnYXBwZW5kJywKICAgICAgICAgIGZpbGU6IGZpbGUubmFtZSwKICAgICAgICAgIGRhdGE6IGJhc2U2NCwKICAgICAgICB9LAogICAgICB9OwogICAgICBwZXJjZW50LnRleHRDb250ZW50ID0KICAgICAgICAgIGAke01hdGgucm91bmQoKHBvc2l0aW9uIC8gZmlsZURhdGEuYnl0ZUxlbmd0aCkgKiAxMDApfSUgZG9uZWA7CiAgICB9CiAgfQoKICAvLyBBbGwgZG9uZS4KICB5aWVsZCB7CiAgICByZXNwb25zZTogewogICAgICBhY3Rpb246ICdjb21wbGV0ZScsCiAgICB9CiAgfTsKfQoKc2NvcGUuZ29vZ2xlID0gc2NvcGUuZ29vZ2xlIHx8IHt9OwpzY29wZS5nb29nbGUuY29sYWIgPSBzY29wZS5nb29nbGUuY29sYWIgfHwge307CnNjb3BlLmdvb2dsZS5jb2xhYi5fZmlsZXMgPSB7CiAgX3VwbG9hZEZpbGVzLAogIF91cGxvYWRGaWxlc0NvbnRpbnVlLAp9Owp9KShzZWxmKTsK",
              "ok": true,
              "headers": [
                [
                  "content-type",
                  "application/javascript"
                ]
              ],
              "status": 200,
              "status_text": ""
            }
          },
          "base_uri": "https://localhost:8080/",
          "height": 75
        },
        "id": "d6-15VAcPe74",
        "outputId": "6673f0e3-ba2c-4311-c306-80ff3abc09cd"
      },
      "source": [
        "from google.colab import files\n",
        "myfile = files.upload()"
      ],
      "execution_count": null,
      "outputs": [
        {
          "output_type": "display_data",
          "data": {
            "text/html": [
              "\n",
              "     <input type=\"file\" id=\"files-53cd6631-a8ba-49a1-98ce-7f7bd0868f9c\" name=\"files[]\" multiple disabled\n",
              "        style=\"border:none\" />\n",
              "     <output id=\"result-53cd6631-a8ba-49a1-98ce-7f7bd0868f9c\">\n",
              "      Upload widget is only available when the cell has been executed in the\n",
              "      current browser session. Please rerun this cell to enable.\n",
              "      </output>\n",
              "      <script src=\"/nbextensions/google.colab/files.js\"></script> "
            ],
            "text/plain": [
              "<IPython.core.display.HTML object>"
            ]
          },
          "metadata": {
            "tags": []
          }
        },
        {
          "output_type": "stream",
          "text": [
            "Saving summer.csv to summer.csv\n"
          ],
          "name": "stdout"
        }
      ]
    },
    {
      "cell_type": "code",
      "metadata": {
        "colab": {
          "resources": {
            "http://localhost:8080/nbextensions/google.colab/files.js": {
              "data": "Ly8gQ29weXJpZ2h0IDIwMTcgR29vZ2xlIExMQwovLwovLyBMaWNlbnNlZCB1bmRlciB0aGUgQXBhY2hlIExpY2Vuc2UsIFZlcnNpb24gMi4wICh0aGUgIkxpY2Vuc2UiKTsKLy8geW91IG1heSBub3QgdXNlIHRoaXMgZmlsZSBleGNlcHQgaW4gY29tcGxpYW5jZSB3aXRoIHRoZSBMaWNlbnNlLgovLyBZb3UgbWF5IG9idGFpbiBhIGNvcHkgb2YgdGhlIExpY2Vuc2UgYXQKLy8KLy8gICAgICBodHRwOi8vd3d3LmFwYWNoZS5vcmcvbGljZW5zZXMvTElDRU5TRS0yLjAKLy8KLy8gVW5sZXNzIHJlcXVpcmVkIGJ5IGFwcGxpY2FibGUgbGF3IG9yIGFncmVlZCB0byBpbiB3cml0aW5nLCBzb2Z0d2FyZQovLyBkaXN0cmlidXRlZCB1bmRlciB0aGUgTGljZW5zZSBpcyBkaXN0cmlidXRlZCBvbiBhbiAiQVMgSVMiIEJBU0lTLAovLyBXSVRIT1VUIFdBUlJBTlRJRVMgT1IgQ09ORElUSU9OUyBPRiBBTlkgS0lORCwgZWl0aGVyIGV4cHJlc3Mgb3IgaW1wbGllZC4KLy8gU2VlIHRoZSBMaWNlbnNlIGZvciB0aGUgc3BlY2lmaWMgbGFuZ3VhZ2UgZ292ZXJuaW5nIHBlcm1pc3Npb25zIGFuZAovLyBsaW1pdGF0aW9ucyB1bmRlciB0aGUgTGljZW5zZS4KCi8qKgogKiBAZmlsZW92ZXJ2aWV3IEhlbHBlcnMgZm9yIGdvb2dsZS5jb2xhYiBQeXRob24gbW9kdWxlLgogKi8KKGZ1bmN0aW9uKHNjb3BlKSB7CmZ1bmN0aW9uIHNwYW4odGV4dCwgc3R5bGVBdHRyaWJ1dGVzID0ge30pIHsKICBjb25zdCBlbGVtZW50ID0gZG9jdW1lbnQuY3JlYXRlRWxlbWVudCgnc3BhbicpOwogIGVsZW1lbnQudGV4dENvbnRlbnQgPSB0ZXh0OwogIGZvciAoY29uc3Qga2V5IG9mIE9iamVjdC5rZXlzKHN0eWxlQXR0cmlidXRlcykpIHsKICAgIGVsZW1lbnQuc3R5bGVba2V5XSA9IHN0eWxlQXR0cmlidXRlc1trZXldOwogIH0KICByZXR1cm4gZWxlbWVudDsKfQoKLy8gTWF4IG51bWJlciBvZiBieXRlcyB3aGljaCB3aWxsIGJlIHVwbG9hZGVkIGF0IGEgdGltZS4KY29uc3QgTUFYX1BBWUxPQURfU0laRSA9IDEwMCAqIDEwMjQ7CgpmdW5jdGlvbiBfdXBsb2FkRmlsZXMoaW5wdXRJZCwgb3V0cHV0SWQpIHsKICBjb25zdCBzdGVwcyA9IHVwbG9hZEZpbGVzU3RlcChpbnB1dElkLCBvdXRwdXRJZCk7CiAgY29uc3Qgb3V0cHV0RWxlbWVudCA9IGRvY3VtZW50LmdldEVsZW1lbnRCeUlkKG91dHB1dElkKTsKICAvLyBDYWNoZSBzdGVwcyBvbiB0aGUgb3V0cHV0RWxlbWVudCB0byBtYWtlIGl0IGF2YWlsYWJsZSBmb3IgdGhlIG5leHQgY2FsbAogIC8vIHRvIHVwbG9hZEZpbGVzQ29udGludWUgZnJvbSBQeXRob24uCiAgb3V0cHV0RWxlbWVudC5zdGVwcyA9IHN0ZXBzOwoKICByZXR1cm4gX3VwbG9hZEZpbGVzQ29udGludWUob3V0cHV0SWQpOwp9CgovLyBUaGlzIGlzIHJvdWdobHkgYW4gYXN5bmMgZ2VuZXJhdG9yIChub3Qgc3VwcG9ydGVkIGluIHRoZSBicm93c2VyIHlldCksCi8vIHdoZXJlIHRoZXJlIGFyZSBtdWx0aXBsZSBhc3luY2hyb25vdXMgc3RlcHMgYW5kIHRoZSBQeXRob24gc2lkZSBpcyBnb2luZwovLyB0byBwb2xsIGZvciBjb21wbGV0aW9uIG9mIGVhY2ggc3RlcC4KLy8gVGhpcyB1c2VzIGEgUHJvbWlzZSB0byBibG9jayB0aGUgcHl0aG9uIHNpZGUgb24gY29tcGxldGlvbiBvZiBlYWNoIHN0ZXAsCi8vIHRoZW4gcGFzc2VzIHRoZSByZXN1bHQgb2YgdGhlIHByZXZpb3VzIHN0ZXAgYXMgdGhlIGlucHV0IHRvIHRoZSBuZXh0IHN0ZXAuCmZ1bmN0aW9uIF91cGxvYWRGaWxlc0NvbnRpbnVlKG91dHB1dElkKSB7CiAgY29uc3Qgb3V0cHV0RWxlbWVudCA9IGRvY3VtZW50LmdldEVsZW1lbnRCeUlkKG91dHB1dElkKTsKICBjb25zdCBzdGVwcyA9IG91dHB1dEVsZW1lbnQuc3RlcHM7CgogIGNvbnN0IG5leHQgPSBzdGVwcy5uZXh0KG91dHB1dEVsZW1lbnQubGFzdFByb21pc2VWYWx1ZSk7CiAgcmV0dXJuIFByb21pc2UucmVzb2x2ZShuZXh0LnZhbHVlLnByb21pc2UpLnRoZW4oKHZhbHVlKSA9PiB7CiAgICAvLyBDYWNoZSB0aGUgbGFzdCBwcm9taXNlIHZhbHVlIHRvIG1ha2UgaXQgYXZhaWxhYmxlIHRvIHRoZSBuZXh0CiAgICAvLyBzdGVwIG9mIHRoZSBnZW5lcmF0b3IuCiAgICBvdXRwdXRFbGVtZW50Lmxhc3RQcm9taXNlVmFsdWUgPSB2YWx1ZTsKICAgIHJldHVybiBuZXh0LnZhbHVlLnJlc3BvbnNlOwogIH0pOwp9CgovKioKICogR2VuZXJhdG9yIGZ1bmN0aW9uIHdoaWNoIGlzIGNhbGxlZCBiZXR3ZWVuIGVhY2ggYXN5bmMgc3RlcCBvZiB0aGUgdXBsb2FkCiAqIHByb2Nlc3MuCiAqIEBwYXJhbSB7c3RyaW5nfSBpbnB1dElkIEVsZW1lbnQgSUQgb2YgdGhlIGlucHV0IGZpbGUgcGlja2VyIGVsZW1lbnQuCiAqIEBwYXJhbSB7c3RyaW5nfSBvdXRwdXRJZCBFbGVtZW50IElEIG9mIHRoZSBvdXRwdXQgZGlzcGxheS4KICogQHJldHVybiB7IUl0ZXJhYmxlPCFPYmplY3Q+fSBJdGVyYWJsZSBvZiBuZXh0IHN0ZXBzLgogKi8KZnVuY3Rpb24qIHVwbG9hZEZpbGVzU3RlcChpbnB1dElkLCBvdXRwdXRJZCkgewogIGNvbnN0IGlucHV0RWxlbWVudCA9IGRvY3VtZW50LmdldEVsZW1lbnRCeUlkKGlucHV0SWQpOwogIGlucHV0RWxlbWVudC5kaXNhYmxlZCA9IGZhbHNlOwoKICBjb25zdCBvdXRwdXRFbGVtZW50ID0gZG9jdW1lbnQuZ2V0RWxlbWVudEJ5SWQob3V0cHV0SWQpOwogIG91dHB1dEVsZW1lbnQuaW5uZXJIVE1MID0gJyc7CgogIGNvbnN0IHBpY2tlZFByb21pc2UgPSBuZXcgUHJvbWlzZSgocmVzb2x2ZSkgPT4gewogICAgaW5wdXRFbGVtZW50LmFkZEV2ZW50TGlzdGVuZXIoJ2NoYW5nZScsIChlKSA9PiB7CiAgICAgIHJlc29sdmUoZS50YXJnZXQuZmlsZXMpOwogICAgfSk7CiAgfSk7CgogIGNvbnN0IGNhbmNlbCA9IGRvY3VtZW50LmNyZWF0ZUVsZW1lbnQoJ2J1dHRvbicpOwogIGlucHV0RWxlbWVudC5wYXJlbnRFbGVtZW50LmFwcGVuZENoaWxkKGNhbmNlbCk7CiAgY2FuY2VsLnRleHRDb250ZW50ID0gJ0NhbmNlbCB1cGxvYWQnOwogIGNvbnN0IGNhbmNlbFByb21pc2UgPSBuZXcgUHJvbWlzZSgocmVzb2x2ZSkgPT4gewogICAgY2FuY2VsLm9uY2xpY2sgPSAoKSA9PiB7CiAgICAgIHJlc29sdmUobnVsbCk7CiAgICB9OwogIH0pOwoKICAvLyBXYWl0IGZvciB0aGUgdXNlciB0byBwaWNrIHRoZSBmaWxlcy4KICBjb25zdCBmaWxlcyA9IHlpZWxkIHsKICAgIHByb21pc2U6IFByb21pc2UucmFjZShbcGlja2VkUHJvbWlzZSwgY2FuY2VsUHJvbWlzZV0pLAogICAgcmVzcG9uc2U6IHsKICAgICAgYWN0aW9uOiAnc3RhcnRpbmcnLAogICAgfQogIH07CgogIGNhbmNlbC5yZW1vdmUoKTsKCiAgLy8gRGlzYWJsZSB0aGUgaW5wdXQgZWxlbWVudCBzaW5jZSBmdXJ0aGVyIHBpY2tzIGFyZSBub3QgYWxsb3dlZC4KICBpbnB1dEVsZW1lbnQuZGlzYWJsZWQgPSB0cnVlOwoKICBpZiAoIWZpbGVzKSB7CiAgICByZXR1cm4gewogICAgICByZXNwb25zZTogewogICAgICAgIGFjdGlvbjogJ2NvbXBsZXRlJywKICAgICAgfQogICAgfTsKICB9CgogIGZvciAoY29uc3QgZmlsZSBvZiBmaWxlcykgewogICAgY29uc3QgbGkgPSBkb2N1bWVudC5jcmVhdGVFbGVtZW50KCdsaScpOwogICAgbGkuYXBwZW5kKHNwYW4oZmlsZS5uYW1lLCB7Zm9udFdlaWdodDogJ2JvbGQnfSkpOwogICAgbGkuYXBwZW5kKHNwYW4oCiAgICAgICAgYCgke2ZpbGUudHlwZSB8fCAnbi9hJ30pIC0gJHtmaWxlLnNpemV9IGJ5dGVzLCBgICsKICAgICAgICBgbGFzdCBtb2RpZmllZDogJHsKICAgICAgICAgICAgZmlsZS5sYXN0TW9kaWZpZWREYXRlID8gZmlsZS5sYXN0TW9kaWZpZWREYXRlLnRvTG9jYWxlRGF0ZVN0cmluZygpIDoKICAgICAgICAgICAgICAgICAgICAgICAgICAgICAgICAgICAgJ24vYSd9IC0gYCkpOwogICAgY29uc3QgcGVyY2VudCA9IHNwYW4oJzAlIGRvbmUnKTsKICAgIGxpLmFwcGVuZENoaWxkKHBlcmNlbnQpOwoKICAgIG91dHB1dEVsZW1lbnQuYXBwZW5kQ2hpbGQobGkpOwoKICAgIGNvbnN0IGZpbGVEYXRhUHJvbWlzZSA9IG5ldyBQcm9taXNlKChyZXNvbHZlKSA9PiB7CiAgICAgIGNvbnN0IHJlYWRlciA9IG5ldyBGaWxlUmVhZGVyKCk7CiAgICAgIHJlYWRlci5vbmxvYWQgPSAoZSkgPT4gewogICAgICAgIHJlc29sdmUoZS50YXJnZXQucmVzdWx0KTsKICAgICAgfTsKICAgICAgcmVhZGVyLnJlYWRBc0FycmF5QnVmZmVyKGZpbGUpOwogICAgfSk7CiAgICAvLyBXYWl0IGZvciB0aGUgZGF0YSB0byBiZSByZWFkeS4KICAgIGxldCBmaWxlRGF0YSA9IHlpZWxkIHsKICAgICAgcHJvbWlzZTogZmlsZURhdGFQcm9taXNlLAogICAgICByZXNwb25zZTogewogICAgICAgIGFjdGlvbjogJ2NvbnRpbnVlJywKICAgICAgfQogICAgfTsKCiAgICAvLyBVc2UgYSBjaHVua2VkIHNlbmRpbmcgdG8gYXZvaWQgbWVzc2FnZSBzaXplIGxpbWl0cy4gU2VlIGIvNjIxMTU2NjAuCiAgICBsZXQgcG9zaXRpb24gPSAwOwogICAgd2hpbGUgKHBvc2l0aW9uIDwgZmlsZURhdGEuYnl0ZUxlbmd0aCkgewogICAgICBjb25zdCBsZW5ndGggPSBNYXRoLm1pbihmaWxlRGF0YS5ieXRlTGVuZ3RoIC0gcG9zaXRpb24sIE1BWF9QQVlMT0FEX1NJWkUpOwogICAgICBjb25zdCBjaHVuayA9IG5ldyBVaW50OEFycmF5KGZpbGVEYXRhLCBwb3NpdGlvbiwgbGVuZ3RoKTsKICAgICAgcG9zaXRpb24gKz0gbGVuZ3RoOwoKICAgICAgY29uc3QgYmFzZTY0ID0gYnRvYShTdHJpbmcuZnJvbUNoYXJDb2RlLmFwcGx5KG51bGwsIGNodW5rKSk7CiAgICAgIHlpZWxkIHsKICAgICAgICByZXNwb25zZTogewogICAgICAgICAgYWN0aW9uOiAnYXBwZW5kJywKICAgICAgICAgIGZpbGU6IGZpbGUubmFtZSwKICAgICAgICAgIGRhdGE6IGJhc2U2NCwKICAgICAgICB9LAogICAgICB9OwogICAgICBwZXJjZW50LnRleHRDb250ZW50ID0KICAgICAgICAgIGAke01hdGgucm91bmQoKHBvc2l0aW9uIC8gZmlsZURhdGEuYnl0ZUxlbmd0aCkgKiAxMDApfSUgZG9uZWA7CiAgICB9CiAgfQoKICAvLyBBbGwgZG9uZS4KICB5aWVsZCB7CiAgICByZXNwb25zZTogewogICAgICBhY3Rpb246ICdjb21wbGV0ZScsCiAgICB9CiAgfTsKfQoKc2NvcGUuZ29vZ2xlID0gc2NvcGUuZ29vZ2xlIHx8IHt9OwpzY29wZS5nb29nbGUuY29sYWIgPSBzY29wZS5nb29nbGUuY29sYWIgfHwge307CnNjb3BlLmdvb2dsZS5jb2xhYi5fZmlsZXMgPSB7CiAgX3VwbG9hZEZpbGVzLAogIF91cGxvYWRGaWxlc0NvbnRpbnVlLAp9Owp9KShzZWxmKTsK",
              "ok": true,
              "headers": [
                [
                  "content-type",
                  "application/javascript"
                ]
              ],
              "status": 200,
              "status_text": ""
            }
          },
          "base_uri": "https://localhost:8080/",
          "height": 75
        },
        "id": "pjexSqaSPkVB",
        "outputId": "8a3c6835-e591-44af-8961-3685ac5bd075"
      },
      "source": [
        "from google.colab import files\n",
        "myfile = files.upload()"
      ],
      "execution_count": null,
      "outputs": [
        {
          "output_type": "display_data",
          "data": {
            "text/html": [
              "\n",
              "     <input type=\"file\" id=\"files-ea56425d-85ea-486b-88a6-525f98d04ab8\" name=\"files[]\" multiple disabled\n",
              "        style=\"border:none\" />\n",
              "     <output id=\"result-ea56425d-85ea-486b-88a6-525f98d04ab8\">\n",
              "      Upload widget is only available when the cell has been executed in the\n",
              "      current browser session. Please rerun this cell to enable.\n",
              "      </output>\n",
              "      <script src=\"/nbextensions/google.colab/files.js\"></script> "
            ],
            "text/plain": [
              "<IPython.core.display.HTML object>"
            ]
          },
          "metadata": {
            "tags": []
          }
        },
        {
          "output_type": "stream",
          "text": [
            "Saving fall.csv to fall.csv\n"
          ],
          "name": "stdout"
        }
      ]
    },
    {
      "cell_type": "code",
      "metadata": {
        "colab": {
          "resources": {
            "http://localhost:8080/nbextensions/google.colab/files.js": {
              "data": "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",
              "ok": true,
              "headers": [
                [
                  "content-type",
                  "application/javascript"
                ]
              ],
              "status": 200,
              "status_text": ""
            }
          },
          "base_uri": "https://localhost:8080/",
          "height": 75
        },
        "id": "Lu8csOotwXzL",
        "outputId": "e0b1347f-cdd9-43fc-ada4-dd6ebce2f5fa"
      },
      "source": [
        "from google.colab import files\n",
        "myfile = files.upload()"
      ],
      "execution_count": null,
      "outputs": [
        {
          "output_type": "display_data",
          "data": {
            "text/html": [
              "\n",
              "     <input type=\"file\" id=\"files-979701ca-1f94-44a3-9dd3-8e3fed8e2ea2\" name=\"files[]\" multiple disabled\n",
              "        style=\"border:none\" />\n",
              "     <output id=\"result-979701ca-1f94-44a3-9dd3-8e3fed8e2ea2\">\n",
              "      Upload widget is only available when the cell has been executed in the\n",
              "      current browser session. Please rerun this cell to enable.\n",
              "      </output>\n",
              "      <script src=\"/nbextensions/google.colab/files.js\"></script> "
            ],
            "text/plain": [
              "<IPython.core.display.HTML object>"
            ]
          },
          "metadata": {
            "tags": []
          }
        },
        {
          "output_type": "stream",
          "text": [
            "Saving winter.csv to winter.csv\n"
          ],
          "name": "stdout"
        }
      ]
    },
    {
      "cell_type": "code",
      "metadata": {
        "colab": {
          "resources": {
            "http://localhost:8080/nbextensions/google.colab/files.js": {
              "data": "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",
              "ok": true,
              "headers": [
                [
                  "content-type",
                  "application/javascript"
                ]
              ],
              "status": 200,
              "status_text": ""
            }
          },
          "base_uri": "https://localhost:8080/",
          "height": 75
        },
        "id": "P4uMqLbMPtuf",
        "outputId": "e58a196f-a326-4c98-e310-40b0d344a29f"
      },
      "source": [
        "from google.colab import files\n",
        "myfile = files.upload()"
      ],
      "execution_count": null,
      "outputs": [
        {
          "output_type": "display_data",
          "data": {
            "text/html": [
              "\n",
              "     <input type=\"file\" id=\"files-ebc36dec-5d70-4e9f-aa8a-f2118150836a\" name=\"files[]\" multiple disabled\n",
              "        style=\"border:none\" />\n",
              "     <output id=\"result-ebc36dec-5d70-4e9f-aa8a-f2118150836a\">\n",
              "      Upload widget is only available when the cell has been executed in the\n",
              "      current browser session. Please rerun this cell to enable.\n",
              "      </output>\n",
              "      <script src=\"/nbextensions/google.colab/files.js\"></script> "
            ],
            "text/plain": [
              "<IPython.core.display.HTML object>"
            ]
          },
          "metadata": {
            "tags": []
          }
        },
        {
          "output_type": "stream",
          "text": [
            "Saving spring_test.csv to spring_test.csv\n"
          ],
          "name": "stdout"
        }
      ]
    },
    {
      "cell_type": "code",
      "metadata": {
        "colab": {
          "resources": {
            "http://localhost:8080/nbextensions/google.colab/files.js": {
              "data": "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",
              "ok": true,
              "headers": [
                [
                  "content-type",
                  "application/javascript"
                ]
              ],
              "status": 200,
              "status_text": ""
            }
          },
          "base_uri": "https://localhost:8080/",
          "height": 75
        },
        "id": "RsmktBvzbHTd",
        "outputId": "da47d716-2051-47b7-8b5b-9c4caf88407c"
      },
      "source": [
        "from google.colab import files\n",
        "myfile = files.upload()"
      ],
      "execution_count": null,
      "outputs": [
        {
          "output_type": "display_data",
          "data": {
            "text/html": [
              "\n",
              "     <input type=\"file\" id=\"files-597172d1-0793-4ef9-85a5-7c0f2d00d37b\" name=\"files[]\" multiple disabled\n",
              "        style=\"border:none\" />\n",
              "     <output id=\"result-597172d1-0793-4ef9-85a5-7c0f2d00d37b\">\n",
              "      Upload widget is only available when the cell has been executed in the\n",
              "      current browser session. Please rerun this cell to enable.\n",
              "      </output>\n",
              "      <script src=\"/nbextensions/google.colab/files.js\"></script> "
            ],
            "text/plain": [
              "<IPython.core.display.HTML object>"
            ]
          },
          "metadata": {
            "tags": []
          }
        },
        {
          "output_type": "stream",
          "text": [
            "Saving summer_test.csv to summer_test.csv\n"
          ],
          "name": "stdout"
        }
      ]
    },
    {
      "cell_type": "code",
      "metadata": {
        "colab": {
          "resources": {
            "http://localhost:8080/nbextensions/google.colab/files.js": {
              "data": "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",
              "ok": true,
              "headers": [
                [
                  "content-type",
                  "application/javascript"
                ]
              ],
              "status": 200,
              "status_text": ""
            }
          },
          "base_uri": "https://localhost:8080/",
          "height": 75
        },
        "id": "rUgZ3tlcbcbt",
        "outputId": "d4952d3f-a8ef-4c79-99aa-f4e541ccb5bd"
      },
      "source": [
        "from google.colab import files\n",
        "myfile = files.upload()"
      ],
      "execution_count": null,
      "outputs": [
        {
          "output_type": "display_data",
          "data": {
            "text/html": [
              "\n",
              "     <input type=\"file\" id=\"files-4e22d7fd-811b-40d9-b4d5-859b85d28d76\" name=\"files[]\" multiple disabled\n",
              "        style=\"border:none\" />\n",
              "     <output id=\"result-4e22d7fd-811b-40d9-b4d5-859b85d28d76\">\n",
              "      Upload widget is only available when the cell has been executed in the\n",
              "      current browser session. Please rerun this cell to enable.\n",
              "      </output>\n",
              "      <script src=\"/nbextensions/google.colab/files.js\"></script> "
            ],
            "text/plain": [
              "<IPython.core.display.HTML object>"
            ]
          },
          "metadata": {
            "tags": []
          }
        },
        {
          "output_type": "stream",
          "text": [
            "Saving fall_test.csv to fall_test.csv\n"
          ],
          "name": "stdout"
        }
      ]
    },
    {
      "cell_type": "code",
      "metadata": {
        "colab": {
          "resources": {
            "http://localhost:8080/nbextensions/google.colab/files.js": {
              "data": "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",
              "ok": true,
              "headers": [
                [
                  "content-type",
                  "application/javascript"
                ]
              ],
              "status": 200,
              "status_text": ""
            }
          },
          "base_uri": "https://localhost:8080/",
          "height": 75
        },
        "id": "hGyHMZmUbddY",
        "outputId": "ec9aa9eb-b4fb-4e2b-d153-f8e7cf6c44c3"
      },
      "source": [
        "from google.colab import files\n",
        "myfile = files.upload()"
      ],
      "execution_count": null,
      "outputs": [
        {
          "output_type": "display_data",
          "data": {
            "text/html": [
              "\n",
              "     <input type=\"file\" id=\"files-c102a796-9373-470c-a475-2188c56ed43a\" name=\"files[]\" multiple disabled\n",
              "        style=\"border:none\" />\n",
              "     <output id=\"result-c102a796-9373-470c-a475-2188c56ed43a\">\n",
              "      Upload widget is only available when the cell has been executed in the\n",
              "      current browser session. Please rerun this cell to enable.\n",
              "      </output>\n",
              "      <script src=\"/nbextensions/google.colab/files.js\"></script> "
            ],
            "text/plain": [
              "<IPython.core.display.HTML object>"
            ]
          },
          "metadata": {
            "tags": []
          }
        },
        {
          "output_type": "stream",
          "text": [
            "Saving winter_test.csv to winter_test.csv\n"
          ],
          "name": "stdout"
        }
      ]
    },
    {
      "cell_type": "code",
      "metadata": {
        "colab": {
          "base_uri": "https://localhost:8080/",
          "height": 197
        },
        "id": "d6MfCwmoovCO",
        "outputId": "fba4f086-f556-4e66-af75-ffecf7175928"
      },
      "source": [
        "import io\n",
        "import pandas as pd\n",
        "data_spring = pd.read_csv('spring.csv',encoding='CP949')\n",
        "data_spring.head()"
      ],
      "execution_count": null,
      "outputs": [
        {
          "output_type": "execute_result",
          "data": {
            "text/html": [
              "<div>\n",
              "<style scoped>\n",
              "    .dataframe tbody tr th:only-of-type {\n",
              "        vertical-align: middle;\n",
              "    }\n",
              "\n",
              "    .dataframe tbody tr th {\n",
              "        vertical-align: top;\n",
              "    }\n",
              "\n",
              "    .dataframe thead th {\n",
              "        text-align: right;\n",
              "    }\n",
              "</style>\n",
              "<table border=\"1\" class=\"dataframe\">\n",
              "  <thead>\n",
              "    <tr style=\"text-align: right;\">\n",
              "      <th></th>\n",
              "      <th>지점</th>\n",
              "      <th>지점명</th>\n",
              "      <th>일시</th>\n",
              "      <th>평균기온(°C)</th>\n",
              "      <th>일강수량(mm)</th>\n",
              "      <th>평균 풍속(m/s)</th>\n",
              "      <th>평균 상대습도(%)</th>\n",
              "      <th>일 최심적설(cm)</th>\n",
              "    </tr>\n",
              "  </thead>\n",
              "  <tbody>\n",
              "    <tr>\n",
              "      <th>0</th>\n",
              "      <td>90</td>\n",
              "      <td>속초</td>\n",
              "      <td>2020-03-01</td>\n",
              "      <td>6.8</td>\n",
              "      <td>1.3</td>\n",
              "      <td>1.9</td>\n",
              "      <td>78.5</td>\n",
              "      <td>NaN</td>\n",
              "    </tr>\n",
              "    <tr>\n",
              "      <th>1</th>\n",
              "      <td>90</td>\n",
              "      <td>속초</td>\n",
              "      <td>2020-03-02</td>\n",
              "      <td>4.4</td>\n",
              "      <td>0.6</td>\n",
              "      <td>2.5</td>\n",
              "      <td>66.5</td>\n",
              "      <td>NaN</td>\n",
              "    </tr>\n",
              "    <tr>\n",
              "      <th>2</th>\n",
              "      <td>90</td>\n",
              "      <td>속초</td>\n",
              "      <td>2020-03-03</td>\n",
              "      <td>6.0</td>\n",
              "      <td>0.0</td>\n",
              "      <td>2.4</td>\n",
              "      <td>74.3</td>\n",
              "      <td>NaN</td>\n",
              "    </tr>\n",
              "    <tr>\n",
              "      <th>3</th>\n",
              "      <td>90</td>\n",
              "      <td>속초</td>\n",
              "      <td>2020-03-04</td>\n",
              "      <td>4.6</td>\n",
              "      <td>NaN</td>\n",
              "      <td>3.4</td>\n",
              "      <td>39.4</td>\n",
              "      <td>NaN</td>\n",
              "    </tr>\n",
              "    <tr>\n",
              "      <th>4</th>\n",
              "      <td>90</td>\n",
              "      <td>속초</td>\n",
              "      <td>2020-03-05</td>\n",
              "      <td>2.9</td>\n",
              "      <td>NaN</td>\n",
              "      <td>1.4</td>\n",
              "      <td>47.0</td>\n",
              "      <td>NaN</td>\n",
              "    </tr>\n",
              "  </tbody>\n",
              "</table>\n",
              "</div>"
            ],
            "text/plain": [
              "   지점 지점명          일시  평균기온(°C)  일강수량(mm)  평균 풍속(m/s)  평균 상대습도(%)  일 최심적설(cm)\n",
              "0  90  속초  2020-03-01       6.8       1.3         1.9        78.5         NaN\n",
              "1  90  속초  2020-03-02       4.4       0.6         2.5        66.5         NaN\n",
              "2  90  속초  2020-03-03       6.0       0.0         2.4        74.3         NaN\n",
              "3  90  속초  2020-03-04       4.6       NaN         3.4        39.4         NaN\n",
              "4  90  속초  2020-03-05       2.9       NaN         1.4        47.0         NaN"
            ]
          },
          "metadata": {
            "tags": []
          },
          "execution_count": 9
        }
      ]
    },
    {
      "cell_type": "code",
      "metadata": {
        "colab": {
          "base_uri": "https://localhost:8080/",
          "height": 197
        },
        "id": "vJ96KoP5P2U6",
        "outputId": "10a8485b-c4d0-409d-d24e-f00b6b6fd532"
      },
      "source": [
        "import io\n",
        "import pandas as pd\n",
        "data_summer = pd.read_csv('summer.csv',encoding='CP949')\n",
        "data_summer.head()"
      ],
      "execution_count": null,
      "outputs": [
        {
          "output_type": "execute_result",
          "data": {
            "text/html": [
              "<div>\n",
              "<style scoped>\n",
              "    .dataframe tbody tr th:only-of-type {\n",
              "        vertical-align: middle;\n",
              "    }\n",
              "\n",
              "    .dataframe tbody tr th {\n",
              "        vertical-align: top;\n",
              "    }\n",
              "\n",
              "    .dataframe thead th {\n",
              "        text-align: right;\n",
              "    }\n",
              "</style>\n",
              "<table border=\"1\" class=\"dataframe\">\n",
              "  <thead>\n",
              "    <tr style=\"text-align: right;\">\n",
              "      <th></th>\n",
              "      <th>지점</th>\n",
              "      <th>지점명</th>\n",
              "      <th>일시</th>\n",
              "      <th>평균기온(°C)</th>\n",
              "      <th>일강수량(mm)</th>\n",
              "      <th>평균 풍속(m/s)</th>\n",
              "      <th>평균 상대습도(%)</th>\n",
              "      <th>일 최심적설(cm)</th>\n",
              "    </tr>\n",
              "  </thead>\n",
              "  <tbody>\n",
              "    <tr>\n",
              "      <th>0</th>\n",
              "      <td>90</td>\n",
              "      <td>속초</td>\n",
              "      <td>2020-06-01</td>\n",
              "      <td>23.9</td>\n",
              "      <td>NaN</td>\n",
              "      <td>2.8</td>\n",
              "      <td>40.8</td>\n",
              "      <td>NaN</td>\n",
              "    </tr>\n",
              "    <tr>\n",
              "      <th>1</th>\n",
              "      <td>90</td>\n",
              "      <td>속초</td>\n",
              "      <td>2020-06-02</td>\n",
              "      <td>19.3</td>\n",
              "      <td>0.0</td>\n",
              "      <td>1.9</td>\n",
              "      <td>56.5</td>\n",
              "      <td>NaN</td>\n",
              "    </tr>\n",
              "    <tr>\n",
              "      <th>2</th>\n",
              "      <td>90</td>\n",
              "      <td>속초</td>\n",
              "      <td>2020-06-03</td>\n",
              "      <td>22.6</td>\n",
              "      <td>NaN</td>\n",
              "      <td>3.0</td>\n",
              "      <td>58.4</td>\n",
              "      <td>NaN</td>\n",
              "    </tr>\n",
              "    <tr>\n",
              "      <th>3</th>\n",
              "      <td>90</td>\n",
              "      <td>속초</td>\n",
              "      <td>2020-06-04</td>\n",
              "      <td>25.9</td>\n",
              "      <td>NaN</td>\n",
              "      <td>2.5</td>\n",
              "      <td>51.0</td>\n",
              "      <td>NaN</td>\n",
              "    </tr>\n",
              "    <tr>\n",
              "      <th>4</th>\n",
              "      <td>90</td>\n",
              "      <td>속초</td>\n",
              "      <td>2020-06-05</td>\n",
              "      <td>18.9</td>\n",
              "      <td>NaN</td>\n",
              "      <td>2.8</td>\n",
              "      <td>82.5</td>\n",
              "      <td>NaN</td>\n",
              "    </tr>\n",
              "  </tbody>\n",
              "</table>\n",
              "</div>"
            ],
            "text/plain": [
              "   지점 지점명          일시  평균기온(°C)  일강수량(mm)  평균 풍속(m/s)  평균 상대습도(%)  일 최심적설(cm)\n",
              "0  90  속초  2020-06-01      23.9       NaN         2.8        40.8         NaN\n",
              "1  90  속초  2020-06-02      19.3       0.0         1.9        56.5         NaN\n",
              "2  90  속초  2020-06-03      22.6       NaN         3.0        58.4         NaN\n",
              "3  90  속초  2020-06-04      25.9       NaN         2.5        51.0         NaN\n",
              "4  90  속초  2020-06-05      18.9       NaN         2.8        82.5         NaN"
            ]
          },
          "metadata": {
            "tags": []
          },
          "execution_count": 10
        }
      ]
    },
    {
      "cell_type": "code",
      "metadata": {
        "colab": {
          "base_uri": "https://localhost:8080/",
          "height": 197
        },
        "id": "c2k1AUGiP477",
        "outputId": "449e44b7-dc4c-433e-ef17-0a3b4e32556f"
      },
      "source": [
        "import io\n",
        "import pandas as pd\n",
        "data_fall = pd.read_csv('fall.csv',encoding='CP949')\n",
        "data_fall.head()"
      ],
      "execution_count": null,
      "outputs": [
        {
          "output_type": "execute_result",
          "data": {
            "text/html": [
              "<div>\n",
              "<style scoped>\n",
              "    .dataframe tbody tr th:only-of-type {\n",
              "        vertical-align: middle;\n",
              "    }\n",
              "\n",
              "    .dataframe tbody tr th {\n",
              "        vertical-align: top;\n",
              "    }\n",
              "\n",
              "    .dataframe thead th {\n",
              "        text-align: right;\n",
              "    }\n",
              "</style>\n",
              "<table border=\"1\" class=\"dataframe\">\n",
              "  <thead>\n",
              "    <tr style=\"text-align: right;\">\n",
              "      <th></th>\n",
              "      <th>지점</th>\n",
              "      <th>지점명</th>\n",
              "      <th>일시</th>\n",
              "      <th>평균기온(°C)</th>\n",
              "      <th>일강수량(mm)</th>\n",
              "      <th>평균 풍속(m/s)</th>\n",
              "      <th>평균 상대습도(%)</th>\n",
              "      <th>일 최심적설(cm)</th>\n",
              "    </tr>\n",
              "  </thead>\n",
              "  <tbody>\n",
              "    <tr>\n",
              "      <th>0</th>\n",
              "      <td>90</td>\n",
              "      <td>속초</td>\n",
              "      <td>2020-09-01</td>\n",
              "      <td>24.0</td>\n",
              "      <td>0.7</td>\n",
              "      <td>1.9</td>\n",
              "      <td>85.3</td>\n",
              "      <td>NaN</td>\n",
              "    </tr>\n",
              "    <tr>\n",
              "      <th>1</th>\n",
              "      <td>90</td>\n",
              "      <td>속초</td>\n",
              "      <td>2020-09-02</td>\n",
              "      <td>23.0</td>\n",
              "      <td>147.1</td>\n",
              "      <td>1.9</td>\n",
              "      <td>97.4</td>\n",
              "      <td>NaN</td>\n",
              "    </tr>\n",
              "    <tr>\n",
              "      <th>2</th>\n",
              "      <td>90</td>\n",
              "      <td>속초</td>\n",
              "      <td>2020-09-03</td>\n",
              "      <td>25.3</td>\n",
              "      <td>64.4</td>\n",
              "      <td>3.8</td>\n",
              "      <td>68.6</td>\n",
              "      <td>NaN</td>\n",
              "    </tr>\n",
              "    <tr>\n",
              "      <th>3</th>\n",
              "      <td>90</td>\n",
              "      <td>속초</td>\n",
              "      <td>2020-09-04</td>\n",
              "      <td>23.7</td>\n",
              "      <td>NaN</td>\n",
              "      <td>1.4</td>\n",
              "      <td>55.8</td>\n",
              "      <td>NaN</td>\n",
              "    </tr>\n",
              "    <tr>\n",
              "      <th>4</th>\n",
              "      <td>90</td>\n",
              "      <td>속초</td>\n",
              "      <td>2020-09-05</td>\n",
              "      <td>20.7</td>\n",
              "      <td>NaN</td>\n",
              "      <td>0.8</td>\n",
              "      <td>78.3</td>\n",
              "      <td>NaN</td>\n",
              "    </tr>\n",
              "  </tbody>\n",
              "</table>\n",
              "</div>"
            ],
            "text/plain": [
              "   지점 지점명          일시  평균기온(°C)  일강수량(mm)  평균 풍속(m/s)  평균 상대습도(%)  일 최심적설(cm)\n",
              "0  90  속초  2020-09-01      24.0       0.7         1.9        85.3         NaN\n",
              "1  90  속초  2020-09-02      23.0     147.1         1.9        97.4         NaN\n",
              "2  90  속초  2020-09-03      25.3      64.4         3.8        68.6         NaN\n",
              "3  90  속초  2020-09-04      23.7       NaN         1.4        55.8         NaN\n",
              "4  90  속초  2020-09-05      20.7       NaN         0.8        78.3         NaN"
            ]
          },
          "metadata": {
            "tags": []
          },
          "execution_count": 11
        }
      ]
    },
    {
      "cell_type": "code",
      "metadata": {
        "colab": {
          "base_uri": "https://localhost:8080/",
          "height": 197
        },
        "id": "8ECo3-iqP5Kx",
        "outputId": "ad1d48f7-a199-4729-b616-f66a0e3cb30f"
      },
      "source": [
        "import io\n",
        "import pandas as pd\n",
        "data_winter = pd.read_csv('winter.csv',encoding='CP949')\n",
        "data_winter.head()"
      ],
      "execution_count": null,
      "outputs": [
        {
          "output_type": "execute_result",
          "data": {
            "text/html": [
              "<div>\n",
              "<style scoped>\n",
              "    .dataframe tbody tr th:only-of-type {\n",
              "        vertical-align: middle;\n",
              "    }\n",
              "\n",
              "    .dataframe tbody tr th {\n",
              "        vertical-align: top;\n",
              "    }\n",
              "\n",
              "    .dataframe thead th {\n",
              "        text-align: right;\n",
              "    }\n",
              "</style>\n",
              "<table border=\"1\" class=\"dataframe\">\n",
              "  <thead>\n",
              "    <tr style=\"text-align: right;\">\n",
              "      <th></th>\n",
              "      <th>지점</th>\n",
              "      <th>지점명</th>\n",
              "      <th>일시</th>\n",
              "      <th>평균기온(°C)</th>\n",
              "      <th>일강수량(mm)</th>\n",
              "      <th>평균 풍속(m/s)</th>\n",
              "      <th>평균 상대습도(%)</th>\n",
              "      <th>일 최심적설(cm)</th>\n",
              "    </tr>\n",
              "  </thead>\n",
              "  <tbody>\n",
              "    <tr>\n",
              "      <th>0</th>\n",
              "      <td>90</td>\n",
              "      <td>속초</td>\n",
              "      <td>2020-12-01</td>\n",
              "      <td>2.1</td>\n",
              "      <td>NaN</td>\n",
              "      <td>1.3</td>\n",
              "      <td>36.4</td>\n",
              "      <td>NaN</td>\n",
              "    </tr>\n",
              "    <tr>\n",
              "      <th>1</th>\n",
              "      <td>90</td>\n",
              "      <td>속초</td>\n",
              "      <td>2020-12-02</td>\n",
              "      <td>4.1</td>\n",
              "      <td>NaN</td>\n",
              "      <td>1.0</td>\n",
              "      <td>34.6</td>\n",
              "      <td>NaN</td>\n",
              "    </tr>\n",
              "    <tr>\n",
              "      <th>2</th>\n",
              "      <td>90</td>\n",
              "      <td>속초</td>\n",
              "      <td>2020-12-03</td>\n",
              "      <td>3.7</td>\n",
              "      <td>NaN</td>\n",
              "      <td>2.8</td>\n",
              "      <td>23.6</td>\n",
              "      <td>NaN</td>\n",
              "    </tr>\n",
              "    <tr>\n",
              "      <th>3</th>\n",
              "      <td>90</td>\n",
              "      <td>속초</td>\n",
              "      <td>2020-12-04</td>\n",
              "      <td>2.5</td>\n",
              "      <td>NaN</td>\n",
              "      <td>1.9</td>\n",
              "      <td>26.3</td>\n",
              "      <td>NaN</td>\n",
              "    </tr>\n",
              "    <tr>\n",
              "      <th>4</th>\n",
              "      <td>90</td>\n",
              "      <td>속초</td>\n",
              "      <td>2020-12-05</td>\n",
              "      <td>4.1</td>\n",
              "      <td>NaN</td>\n",
              "      <td>1.6</td>\n",
              "      <td>38.5</td>\n",
              "      <td>NaN</td>\n",
              "    </tr>\n",
              "  </tbody>\n",
              "</table>\n",
              "</div>"
            ],
            "text/plain": [
              "   지점 지점명          일시  평균기온(°C)  일강수량(mm)  평균 풍속(m/s)  평균 상대습도(%)  일 최심적설(cm)\n",
              "0  90  속초  2020-12-01       2.1       NaN         1.3        36.4         NaN\n",
              "1  90  속초  2020-12-02       4.1       NaN         1.0        34.6         NaN\n",
              "2  90  속초  2020-12-03       3.7       NaN         2.8        23.6         NaN\n",
              "3  90  속초  2020-12-04       2.5       NaN         1.9        26.3         NaN\n",
              "4  90  속초  2020-12-05       4.1       NaN         1.6        38.5         NaN"
            ]
          },
          "metadata": {
            "tags": []
          },
          "execution_count": 12
        }
      ]
    },
    {
      "cell_type": "code",
      "metadata": {
        "colab": {
          "base_uri": "https://localhost:8080/",
          "height": 197
        },
        "id": "y8mE5K1lwo5j",
        "outputId": "d85dc967-19f8-4bd4-fe9e-f6a62b650a8b"
      },
      "source": [
        "import io\n",
        "import pandas as pd\n",
        "data_spring_test = pd.read_csv('spring_test.csv',encoding='CP949')\n",
        "data_spring_test.head()\n",
        "\n"
      ],
      "execution_count": null,
      "outputs": [
        {
          "output_type": "execute_result",
          "data": {
            "text/html": [
              "<div>\n",
              "<style scoped>\n",
              "    .dataframe tbody tr th:only-of-type {\n",
              "        vertical-align: middle;\n",
              "    }\n",
              "\n",
              "    .dataframe tbody tr th {\n",
              "        vertical-align: top;\n",
              "    }\n",
              "\n",
              "    .dataframe thead th {\n",
              "        text-align: right;\n",
              "    }\n",
              "</style>\n",
              "<table border=\"1\" class=\"dataframe\">\n",
              "  <thead>\n",
              "    <tr style=\"text-align: right;\">\n",
              "      <th></th>\n",
              "      <th>지점</th>\n",
              "      <th>지점명</th>\n",
              "      <th>일시</th>\n",
              "      <th>평균기온(°C)</th>\n",
              "      <th>일강수량(mm)</th>\n",
              "      <th>평균 풍속(m/s)</th>\n",
              "      <th>평균 상대습도(%)</th>\n",
              "      <th>일 최심적설(cm)</th>\n",
              "    </tr>\n",
              "  </thead>\n",
              "  <tbody>\n",
              "    <tr>\n",
              "      <th>0</th>\n",
              "      <td>90</td>\n",
              "      <td>속초</td>\n",
              "      <td>2019-03-01</td>\n",
              "      <td>7.1</td>\n",
              "      <td>NaN</td>\n",
              "      <td>1.4</td>\n",
              "      <td>49.6</td>\n",
              "      <td>NaN</td>\n",
              "    </tr>\n",
              "    <tr>\n",
              "      <th>1</th>\n",
              "      <td>93</td>\n",
              "      <td>북춘천</td>\n",
              "      <td>2019-03-01</td>\n",
              "      <td>3.6</td>\n",
              "      <td>NaN</td>\n",
              "      <td>0.9</td>\n",
              "      <td>56.4</td>\n",
              "      <td>NaN</td>\n",
              "    </tr>\n",
              "    <tr>\n",
              "      <th>2</th>\n",
              "      <td>95</td>\n",
              "      <td>철원</td>\n",
              "      <td>2019-03-01</td>\n",
              "      <td>3.3</td>\n",
              "      <td>NaN</td>\n",
              "      <td>0.7</td>\n",
              "      <td>62.5</td>\n",
              "      <td>NaN</td>\n",
              "    </tr>\n",
              "    <tr>\n",
              "      <th>3</th>\n",
              "      <td>98</td>\n",
              "      <td>동두천</td>\n",
              "      <td>2019-03-01</td>\n",
              "      <td>4.8</td>\n",
              "      <td>NaN</td>\n",
              "      <td>1.3</td>\n",
              "      <td>55.4</td>\n",
              "      <td>NaN</td>\n",
              "    </tr>\n",
              "    <tr>\n",
              "      <th>4</th>\n",
              "      <td>99</td>\n",
              "      <td>파주</td>\n",
              "      <td>2019-03-01</td>\n",
              "      <td>2.8</td>\n",
              "      <td>NaN</td>\n",
              "      <td>0.9</td>\n",
              "      <td>66.8</td>\n",
              "      <td>NaN</td>\n",
              "    </tr>\n",
              "  </tbody>\n",
              "</table>\n",
              "</div>"
            ],
            "text/plain": [
              "   지점  지점명          일시  평균기온(°C)  일강수량(mm)  평균 풍속(m/s)  평균 상대습도(%)  일 최심적설(cm)\n",
              "0  90   속초  2019-03-01       7.1       NaN         1.4        49.6         NaN\n",
              "1  93  북춘천  2019-03-01       3.6       NaN         0.9        56.4         NaN\n",
              "2  95   철원  2019-03-01       3.3       NaN         0.7        62.5         NaN\n",
              "3  98  동두천  2019-03-01       4.8       NaN         1.3        55.4         NaN\n",
              "4  99   파주  2019-03-01       2.8       NaN         0.9        66.8         NaN"
            ]
          },
          "metadata": {
            "tags": []
          },
          "execution_count": 13
        }
      ]
    },
    {
      "cell_type": "code",
      "metadata": {
        "id": "FquIVcMCr-C9"
      },
      "source": [
        "df_spring = pd.DataFrame(data_spring)\n",
        "df_summer = pd.DataFrame(data_summer)\n",
        "df_fall = pd.DataFrame(data_fall)\n",
        "df_winter = pd.DataFrame(data_winter)\n",
        "df_spring_test = pd.DataFrame(data_spring_test)\n",
        "df_spring = df_spring.fillna(0)\n",
        "df_summer = df_summer.fillna(0)\n",
        "df_fall = df_fall.fillna(0)\n",
        "df_winter = df_winter.fillna(0)\n",
        "df_spring_test = df_spring_test.fillna(0)"
      ],
      "execution_count": null,
      "outputs": []
    },
    {
      "cell_type": "code",
      "metadata": {
        "id": "2Tu-L2zb1hHG"
      },
      "source": [
        "df_sp=df_spring.drop(['지점','일시'],axis=1)\n",
        "df_su=df_summer.drop(['지점','일시'],axis=1)\n",
        "df_fa=df_fall.drop(['지점','일시'],axis=1)\n",
        "df_wi=df_winter.drop(['지점','일시'],axis=1)\n",
        "df_spring_test=df_spring_test.drop(['지점','일시'],axis=1)"
      ],
      "execution_count": null,
      "outputs": []
    },
    {
      "cell_type": "code",
      "metadata": {
        "colab": {
          "base_uri": "https://localhost:8080/"
        },
        "id": "saV0m_eIr_1b",
        "outputId": "b1121e85-da73-4774-e965-059ac37cc57d"
      },
      "source": [
        "print(df_sp)"
      ],
      "execution_count": null,
      "outputs": [
        {
          "output_type": "stream",
          "text": [
            "     지점명  평균기온(°C)  일강수량(mm)  평균 풍속(m/s)  평균 상대습도(%)  일 최심적설(cm)\n",
            "0     속초       6.8       1.3         1.9        78.5         0.0\n",
            "1     속초       4.4       0.6         2.5        66.5         0.0\n",
            "2     속초       6.0       0.0         2.4        74.3         0.0\n",
            "3     속초       4.6       0.0         3.4        39.4         0.0\n",
            "4     속초       2.9       0.0         1.4        47.0         0.0\n",
            "...   ..       ...       ...         ...         ...         ...\n",
            "8731  남해      19.8       0.0         1.4        64.9         0.0\n",
            "8732  남해      20.2       0.0         1.5        62.9         0.0\n",
            "8733  남해      20.1       0.0         1.2        63.9         0.0\n",
            "8734  남해      19.8       0.0         1.0        61.4         0.0\n",
            "8735  남해      18.9       4.8         0.8        83.8         0.0\n",
            "\n",
            "[8736 rows x 6 columns]\n"
          ],
          "name": "stdout"
        }
      ]
    },
    {
      "cell_type": "code",
      "metadata": {
        "colab": {
          "base_uri": "https://localhost:8080/"
        },
        "id": "uI5bx7SYRLlu",
        "outputId": "d2ca54bb-8d2a-4a41-c5ba-52b1e0f8355a"
      },
      "source": [
        "print(df_su)"
      ],
      "execution_count": null,
      "outputs": [
        {
          "output_type": "stream",
          "text": [
            "     지점명  평균기온(°C)  일강수량(mm)  평균 풍속(m/s)  평균 상대습도(%)  일 최심적설(cm)\n",
            "0     속초      23.9       0.0         2.8        40.8         0.0\n",
            "1     속초      19.3       0.0         1.9        56.5         0.0\n",
            "2     속초      22.6       0.0         3.0        58.4         0.0\n",
            "3     속초      25.9       0.0         2.5        51.0         0.0\n",
            "4     속초      18.9       0.0         2.8        82.5         0.0\n",
            "...   ..       ...       ...         ...         ...         ...\n",
            "8735  남해      27.3      29.2         2.5        88.3         0.0\n",
            "8736  남해      25.8       8.5         0.8        93.1         0.0\n",
            "8737  남해      26.6       4.6         1.1        88.9         0.0\n",
            "8738  남해      27.6       0.0         0.8        84.4         0.0\n",
            "8739  남해      26.4       0.2         1.3        84.6         0.0\n",
            "\n",
            "[8740 rows x 6 columns]\n"
          ],
          "name": "stdout"
        }
      ]
    },
    {
      "cell_type": "code",
      "metadata": {
        "colab": {
          "base_uri": "https://localhost:8080/"
        },
        "id": "dywwtNqSRL88",
        "outputId": "479216d8-4057-41db-e502-3d9e5ab3207f"
      },
      "source": [
        "print(df_fa)"
      ],
      "execution_count": null,
      "outputs": [
        {
          "output_type": "stream",
          "text": [
            "     지점명  평균기온(°C)  일강수량(mm)  평균 풍속(m/s)  평균 상대습도(%)  일 최심적설(cm)\n",
            "0     속초      24.0       0.7         1.9        85.3         0.0\n",
            "1     속초      23.0     147.1         1.9        97.4         0.0\n",
            "2     속초      25.3      64.4         3.8        68.6         0.0\n",
            "3     속초      23.7       0.0         1.4        55.8         0.0\n",
            "4     속초      20.7       0.0         0.8        78.3         0.0\n",
            "...   ..       ...       ...         ...         ...         ...\n",
            "8639  남해       8.7       0.0         1.1        56.6         0.0\n",
            "8640  남해       8.7       0.0         2.3        57.1         0.0\n",
            "8641  남해       5.7       0.0         2.8        47.8         0.0\n",
            "8642  남해       4.6       0.0         1.9        61.5         0.0\n",
            "8643  남해       4.7       0.0         1.4        60.8         0.0\n",
            "\n",
            "[8644 rows x 6 columns]\n"
          ],
          "name": "stdout"
        }
      ]
    },
    {
      "cell_type": "code",
      "metadata": {
        "colab": {
          "base_uri": "https://localhost:8080/"
        },
        "id": "ipdfLoOzRNTJ",
        "outputId": "3367ce7a-bbf6-4366-9164-d9da58939edd"
      },
      "source": [
        "print(df_wi)"
      ],
      "execution_count": null,
      "outputs": [
        {
          "output_type": "stream",
          "text": [
            "     지점명  평균기온(°C)  일강수량(mm)  평균 풍속(m/s)  평균 상대습도(%)  일 최심적설(cm)\n",
            "0     속초       2.1       0.0         1.3        36.4         0.0\n",
            "1     속초       4.1       0.0         1.0        34.6         0.0\n",
            "2     속초       3.7       0.0         2.8        23.6         0.0\n",
            "3     속초       2.5       0.0         1.9        26.3         0.0\n",
            "4     속초       4.1       0.0         1.6        38.5         0.0\n",
            "...   ..       ...       ...         ...         ...         ...\n",
            "8545  남해       5.3       0.0         1.0        40.5         0.0\n",
            "8546  남해       6.0       8.6         1.1        81.0         0.0\n",
            "8547  남해       8.4       5.2         2.8        74.9         0.0\n",
            "8548  남해       7.9       0.0         3.8        61.4         0.0\n",
            "8549  남해       7.7       0.7         1.5        76.9         0.0\n",
            "\n",
            "[8550 rows x 6 columns]\n"
          ],
          "name": "stdout"
        }
      ]
    },
    {
      "cell_type": "code",
      "metadata": {
        "colab": {
          "base_uri": "https://localhost:8080/"
        },
        "id": "J6u4d4PQxLGU",
        "outputId": "58411f82-b482-4231-c765-8c246ec56edf"
      },
      "source": [
        "print(df_spring_test)"
      ],
      "execution_count": null,
      "outputs": [
        {
          "output_type": "stream",
          "text": [
            "     지점명  평균기온(°C)  일강수량(mm)  평균 풍속(m/s)  평균 상대습도(%)  일 최심적설(cm)\n",
            "0     속초       7.1       0.0         1.4        49.6         0.0\n",
            "1    북춘천       3.6       0.0         0.9        56.4         0.0\n",
            "2     철원       3.3       0.0         0.7        62.5         0.0\n",
            "3    동두천       4.8       0.0         1.3        55.4         0.0\n",
            "4     파주       2.8       0.0         0.9        66.8         0.0\n",
            "..   ...       ...       ...         ...         ...         ...\n",
            "280   합천      17.2       0.0         1.2        61.8         0.0\n",
            "281   밀양      16.7       0.0         1.2        62.9         0.0\n",
            "282   산청      17.5       0.0         2.8        60.9         0.0\n",
            "283   거제      16.7       0.0         1.2        81.3         0.0\n",
            "284   남해      17.3       0.0         1.3        68.8         0.0\n",
            "\n",
            "[285 rows x 6 columns]\n"
          ],
          "name": "stdout"
        }
      ]
    },
    {
      "cell_type": "code",
      "metadata": {
        "id": "mY7TejM-Rjsr"
      },
      "source": [
        "train_spring = df_sp.drop('지점명', axis=1)\n",
        "train_summer = df_su.drop('지점명', axis=1)\n",
        "train_fall = df_fa.drop('지점명', axis=1)\n",
        "train_winter = df_wi.drop('지점명', axis=1)\n",
        "test_spring = df_spring_test.drop('지점명',axis=1)"
      ],
      "execution_count": null,
      "outputs": []
    },
    {
      "cell_type": "code",
      "metadata": {
        "colab": {
          "base_uri": "https://localhost:8080/"
        },
        "id": "7bX93uE7RkKy",
        "outputId": "5abd21ab-acac-4e5c-a34c-01aee8e0c6ac"
      },
      "source": [
        "print(train_spring)\n",
        "print(train_summer)\n",
        "print(train_fall)\n",
        "print(train_winter)\n",
        "print(test_spring)"
      ],
      "execution_count": null,
      "outputs": [
        {
          "output_type": "stream",
          "text": [
            "      평균기온(°C)  일강수량(mm)  평균 풍속(m/s)  평균 상대습도(%)  일 최심적설(cm)\n",
            "0          6.8       1.3         1.9        78.5         0.0\n",
            "1          4.4       0.6         2.5        66.5         0.0\n",
            "2          6.0       0.0         2.4        74.3         0.0\n",
            "3          4.6       0.0         3.4        39.4         0.0\n",
            "4          2.9       0.0         1.4        47.0         0.0\n",
            "...        ...       ...         ...         ...         ...\n",
            "8731      19.8       0.0         1.4        64.9         0.0\n",
            "8732      20.2       0.0         1.5        62.9         0.0\n",
            "8733      20.1       0.0         1.2        63.9         0.0\n",
            "8734      19.8       0.0         1.0        61.4         0.0\n",
            "8735      18.9       4.8         0.8        83.8         0.0\n",
            "\n",
            "[8736 rows x 5 columns]\n",
            "      평균기온(°C)  일강수량(mm)  평균 풍속(m/s)  평균 상대습도(%)  일 최심적설(cm)\n",
            "0         23.9       0.0         2.8        40.8         0.0\n",
            "1         19.3       0.0         1.9        56.5         0.0\n",
            "2         22.6       0.0         3.0        58.4         0.0\n",
            "3         25.9       0.0         2.5        51.0         0.0\n",
            "4         18.9       0.0         2.8        82.5         0.0\n",
            "...        ...       ...         ...         ...         ...\n",
            "8735      27.3      29.2         2.5        88.3         0.0\n",
            "8736      25.8       8.5         0.8        93.1         0.0\n",
            "8737      26.6       4.6         1.1        88.9         0.0\n",
            "8738      27.6       0.0         0.8        84.4         0.0\n",
            "8739      26.4       0.2         1.3        84.6         0.0\n",
            "\n",
            "[8740 rows x 5 columns]\n",
            "      평균기온(°C)  일강수량(mm)  평균 풍속(m/s)  평균 상대습도(%)  일 최심적설(cm)\n",
            "0         24.0       0.7         1.9        85.3         0.0\n",
            "1         23.0     147.1         1.9        97.4         0.0\n",
            "2         25.3      64.4         3.8        68.6         0.0\n",
            "3         23.7       0.0         1.4        55.8         0.0\n",
            "4         20.7       0.0         0.8        78.3         0.0\n",
            "...        ...       ...         ...         ...         ...\n",
            "8639       8.7       0.0         1.1        56.6         0.0\n",
            "8640       8.7       0.0         2.3        57.1         0.0\n",
            "8641       5.7       0.0         2.8        47.8         0.0\n",
            "8642       4.6       0.0         1.9        61.5         0.0\n",
            "8643       4.7       0.0         1.4        60.8         0.0\n",
            "\n",
            "[8644 rows x 5 columns]\n",
            "      평균기온(°C)  일강수량(mm)  평균 풍속(m/s)  평균 상대습도(%)  일 최심적설(cm)\n",
            "0          2.1       0.0         1.3        36.4         0.0\n",
            "1          4.1       0.0         1.0        34.6         0.0\n",
            "2          3.7       0.0         2.8        23.6         0.0\n",
            "3          2.5       0.0         1.9        26.3         0.0\n",
            "4          4.1       0.0         1.6        38.5         0.0\n",
            "...        ...       ...         ...         ...         ...\n",
            "8545       5.3       0.0         1.0        40.5         0.0\n",
            "8546       6.0       8.6         1.1        81.0         0.0\n",
            "8547       8.4       5.2         2.8        74.9         0.0\n",
            "8548       7.9       0.0         3.8        61.4         0.0\n",
            "8549       7.7       0.7         1.5        76.9         0.0\n",
            "\n",
            "[8550 rows x 5 columns]\n",
            "     평균기온(°C)  일강수량(mm)  평균 풍속(m/s)  평균 상대습도(%)  일 최심적설(cm)\n",
            "0         7.1       0.0         1.4        49.6         0.0\n",
            "1         3.6       0.0         0.9        56.4         0.0\n",
            "2         3.3       0.0         0.7        62.5         0.0\n",
            "3         4.8       0.0         1.3        55.4         0.0\n",
            "4         2.8       0.0         0.9        66.8         0.0\n",
            "..        ...       ...         ...         ...         ...\n",
            "280      17.2       0.0         1.2        61.8         0.0\n",
            "281      16.7       0.0         1.2        62.9         0.0\n",
            "282      17.5       0.0         2.8        60.9         0.0\n",
            "283      16.7       0.0         1.2        81.3         0.0\n",
            "284      17.3       0.0         1.3        68.8         0.0\n",
            "\n",
            "[285 rows x 5 columns]\n"
          ],
          "name": "stdout"
        }
      ]
    },
    {
      "cell_type": "code",
      "metadata": {
        "id": "YCcHCspQ256g"
      },
      "source": [
        "y_label_spring=[]\n",
        "for i in range(len(train_spring)):\n",
        "  if train_spring['일강수량(mm)'][i]>0:\n",
        "    y_label_spring.append(0.0)\n",
        "  else:\n",
        "    y_label_spring.append(10.0)"
      ],
      "execution_count": null,
      "outputs": []
    },
    {
      "cell_type": "code",
      "metadata": {
        "id": "aWrER_gA6oWo"
      },
      "source": [
        "for i in range(len(train_spring)):\n",
        "  if y_label_spring[i]==10.0:\n",
        "    if train_spring['평균기온(°C)'][i]<13:\n",
        "      y_label_spring[i]-=3\n",
        "    elif train_spring['평균기온(°C)'][i]<17:\n",
        "      y_label_spring[i]-=2\n",
        "    elif train_spring['평균기온(°C)'][i]<20:\n",
        "      y_label_spring[i]-=1\n",
        "    if train_spring['평균 상대습도(%)'][i]>70:\n",
        "      y_label_spring[i]-=1\n",
        "    if train_spring['평균 풍속(m/s)'][i]>1.2:\n",
        "      y_label_spring[i]-=1 \n",
        "    if train_spring['평균 풍속(m/s)'][i]>9:\n",
        "      y_label_spring[i]-=3 "
      ],
      "execution_count": null,
      "outputs": []
    },
    {
      "cell_type": "code",
      "metadata": {
        "colab": {
          "base_uri": "https://localhost:8080/"
        },
        "id": "_wL2Q9sp8N1-",
        "outputId": "a92f8049-4b49-4f36-e766-a54439926ee8"
      },
      "source": [
        "print(y_label_spring)"
      ],
      "execution_count": null,
      "outputs": [
        {
          "output_type": "stream",
          "text": [
            "[0.0, 0.0, 5.0, 6.0, 6.0, 6.0, 5.0, 5.0, 6.0, 0.0, 6.0, 6.0, 6.0, 6.0, 0.0, 0.0, 6.0, 6.0, 0.0, 6.0, 0.0, 6.0, 6.0, 5.0, 5.0, 6.0, 0.0, 6.0, 5.0, 5.0, 5.0, 0.0, 6.0, 7.0, 6.0, 6.0, 6.0, 0.0, 0.0, 6.0, 5.0, 6.0, 5.0, 6.0, 7.0, 7.0, 5.0, 0.0, 0.0, 0.0, 0.0, 6.0, 6.0, 6.0, 6.0, 7.0, 0.0, 0.0, 8.0, 7.0, 8.0, 9.0, 9.0, 8.0, 6.0, 6.0, 6.0, 6.0, 0.0, 0.0, 7.0, 9.0, 8.0, 9.0, 9.0, 0.0, 0.0, 0.0, 0.0, 0.0, 0.0, 6.0, 0.0, 7.0, 0.0, 9.0, 0.0, 8.0, 8.0, 7.0, 7.0, 7.0, 0.0, 0.0, 6.0, 6.0, 7.0, 6.0, 6.0, 6.0, 7.0, 0.0, 6.0, 6.0, 6.0, 6.0, 6.0, 6.0, 0.0, 5.0, 0.0, 6.0, 7.0, 6.0, 6.0, 7.0, 7.0, 8.0, 0.0, 6.0, 7.0, 7.0, 7.0, 0.0, 5.0, 6.0, 6.0, 6.0, 6.0, 6.0, 6.0, 6.0, 7.0, 7.0, 0.0, 6.0, 6.0, 7.0, 7.0, 0.0, 0.0, 0.0, 0.0, 6.0, 6.0, 6.0, 6.0, 6.0, 6.0, 6.0, 6.0, 7.0, 7.0, 8.0, 7.0, 8.0, 8.0, 6.0, 8.0, 9.0, 0.0, 0.0, 6.0, 8.0, 0.0, 7.0, 8.0, 0.0, 0.0, 9.0, 0.0, 0.0, 6.0, 7.0, 7.0, 0.0, 0.0, 7.0, 0.0, 7.0, 8.0, 8.0, 9.0, 8.0, 0.0, 6.0, 5.0, 5.0, 6.0, 6.0, 6.0, 6.0, 6.0, 0.0, 6.0, 5.0, 0.0, 5.0, 5.0, 5.0, 0.0, 6.0, 6.0, 6.0, 0.0, 6.0, 6.0, 7.0, 7.0, 7.0, 0.0, 7.0, 7.0, 7.0, 7.0, 5.0, 6.0, 6.0, 6.0, 7.0, 6.0, 5.0, 6.0, 7.0, 7.0, 6.0, 0.0, 6.0, 6.0, 6.0, 7.0, 0.0, 0.0, 0.0, 5.0, 6.0, 6.0, 6.0, 6.0, 0.0, 5.0, 7.0, 6.0, 5.0, 6.0, 7.0, 7.0, 9.0, 8.0, 6.0, 8.0, 8.0, 0.0, 0.0, 0.0, 0.0, 0.0, 7.0, 8.0, 0.0, 0.0, 7.0, 0.0, 0.0, 5.0, 7.0, 7.0, 7.0, 0.0, 7.0, 0.0, 7.0, 0.0, 8.0, 9.0, 0.0, 0.0, 5.0, 5.0, 5.0, 6.0, 7.0, 7.0, 7.0, 7.0, 0.0, 6.0, 5.0, 0.0, 6.0, 5.0, 6.0, 0.0, 6.0, 6.0, 6.0, 5.0, 6.0, 6.0, 6.0, 6.0, 0.0, 0.0, 6.0, 6.0, 6.0, 6.0, 6.0, 6.0, 6.0, 6.0, 6.0, 6.0, 5.0, 6.0, 6.0, 7.0, 5.0, 5.0, 6.0, 6.0, 7.0, 7.0, 0.0, 6.0, 0.0, 0.0, 6.0, 6.0, 6.0, 6.0, 6.0, 6.0, 6.0, 6.0, 7.0, 6.0, 7.0, 7.0, 8.0, 8.0, 6.0, 9.0, 9.0, 0.0, 0.0, 0.0, 0.0, 0.0, 7.0, 9.0, 0.0, 0.0, 7.0, 0.0, 0.0, 6.0, 7.0, 8.0, 7.0, 0.0, 6.0, 0.0, 6.0, 7.0, 8.0, 9.0, 0.0, 0.0, 6.0, 5.0, 5.0, 5.0, 6.0, 6.0, 6.0, 6.0, 0.0, 6.0, 5.0, 0.0, 5.0, 5.0, 5.0, 0.0, 5.0, 6.0, 6.0, 5.0, 6.0, 6.0, 7.0, 6.0, 6.0, 0.0, 6.0, 6.0, 7.0, 7.0, 6.0, 5.0, 5.0, 6.0, 6.0, 6.0, 5.0, 6.0, 6.0, 6.0, 5.0, 0.0, 6.0, 6.0, 7.0, 7.0, 0.0, 6.0, 0.0, 0.0, 6.0, 6.0, 6.0, 5.0, 5.0, 6.0, 6.0, 5.0, 5.0, 6.0, 0.0, 0.0, 8.0, 7.0, 7.0, 8.0, 8.0, 0.0, 0.0, 0.0, 0.0, 0.0, 6.0, 8.0, 0.0, 0.0, 0.0, 0.0, 0.0, 7.0, 0.0, 7.0, 0.0, 0.0, 6.0, 0.0, 7.0, 7.0, 8.0, 9.0, 0.0, 5.0, 5.0, 0.0, 0.0, 5.0, 6.0, 6.0, 6.0, 5.0, 0.0, 5.0, 6.0, 5.0, 6.0, 0.0, 0.0, 0.0, 6.0, 0.0, 6.0, 0.0, 5.0, 5.0, 5.0, 5.0, 5.0, 0.0, 5.0, 0.0, 6.0, 5.0, 0.0, 5.0, 6.0, 5.0, 6.0, 6.0, 6.0, 5.0, 5.0, 6.0, 6.0, 0.0, 0.0, 6.0, 5.0, 5.0, 0.0, 0.0, 0.0, 0.0, 6.0, 6.0, 6.0, 6.0, 6.0, 0.0, 5.0, 6.0, 6.0, 7.0, 7.0, 7.0, 7.0, 6.0, 5.0, 5.0, 5.0, 0.0, 0.0, 0.0, 7.0, 0.0, 6.0, 7.0, 0.0, 0.0, 6.0, 0.0, 0.0, 0.0, 5.0, 0.0, 0.0, 0.0, 6.0, 0.0, 0.0, 5.0, 6.0, 7.0, 6.0, 6.0, 0.0, 5.0, 6.0, 7.0, 7.0, 7.0, 7.0, 7.0, 0.0, 6.0, 6.0, 6.0, 6.0, 6.0, 6.0, 0.0, 6.0, 0.0, 6.0, 0.0, 6.0, 6.0, 7.0, 7.0, 8.0, 0.0, 6.0, 6.0, 7.0, 7.0, 0.0, 6.0, 6.0, 6.0, 6.0, 6.0, 6.0, 6.0, 6.0, 6.0, 6.0, 0.0, 6.0, 6.0, 7.0, 7.0, 0.0, 6.0, 0.0, 0.0, 6.0, 6.0, 6.0, 6.0, 6.0, 6.0, 0.0, 7.0, 7.0, 7.0, 8.0, 9.0, 9.0, 8.0, 7.0, 8.0, 8.0, 0.0, 0.0, 6.0, 8.0, 0.0, 7.0, 8.0, 0.0, 0.0, 8.0, 0.0, 0.0, 6.0, 7.0, 0.0, 0.0, 0.0, 7.0, 0.0, 7.0, 7.0, 8.0, 9.0, 8.0, 5.0, 5.0, 5.0, 5.0, 6.0, 5.0, 5.0, 5.0, 5.0, 5.0, 6.0, 0.0, 6.0, 5.0, 6.0, 6.0, 5.0, 5.0, 5.0, 5.0, 5.0, 6.0, 5.0, 5.0, 5.0, 0.0, 6.0, 6.0, 5.0, 6.0, 5.0, 5.0, 5.0, 6.0, 6.0, 6.0, 5.0, 5.0, 6.0, 5.0, 5.0, 5.0, 0.0, 5.0, 5.0, 5.0, 0.0, 0.0, 5.0, 0.0, 5.0, 6.0, 6.0, 5.0, 5.0, 5.0, 6.0, 5.0, 6.0, 5.0, 5.0, 5.0, 5.0, 6.0, 5.0, 5.0, 6.0, 7.0, 0.0, 0.0, 0.0, 6.0, 5.0, 7.0, 6.0, 0.0, 0.0, 0.0, 0.0, 0.0, 5.0, 6.0, 0.0, 0.0, 0.0, 5.0, 0.0, 6.0, 6.0, 6.0, 7.0, 6.0, 5.0, 0.0, 5.0, 6.0, 6.0, 6.0, 6.0, 5.0, 6.0, 0.0, 6.0, 6.0, 6.0, 6.0, 0.0, 0.0, 0.0, 7.0, 0.0, 6.0, 0.0, 6.0, 6.0, 5.0, 6.0, 7.0, 0.0, 6.0, 0.0, 5.0, 6.0, 0.0, 6.0, 7.0, 6.0, 6.0, 6.0, 6.0, 0.0, 6.0, 5.0, 6.0, 0.0, 6.0, 7.0, 6.0, 5.0, 0.0, 0.0, 0.0, 0.0, 6.0, 6.0, 6.0, 6.0, 7.0, 0.0, 0.0, 7.0, 8.0, 8.0, 9.0, 9.0, 8.0, 0.0, 7.0, 6.0, 6.0, 0.0, 0.0, 8.0, 9.0, 8.0, 9.0, 9.0, 0.0, 7.0, 7.0, 0.0, 0.0, 0.0, 5.0, 0.0, 0.0, 0.0, 7.0, 0.0, 8.0, 8.0, 8.0, 8.0, 8.0, 5.0, 0.0, 5.0, 6.0, 6.0, 6.0, 5.0, 5.0, 6.0, 0.0, 6.0, 6.0, 6.0, 6.0, 0.0, 0.0, 0.0, 7.0, 0.0, 6.0, 0.0, 5.0, 6.0, 5.0, 5.0, 7.0, 0.0, 6.0, 0.0, 5.0, 6.0, 0.0, 6.0, 7.0, 6.0, 6.0, 6.0, 7.0, 0.0, 6.0, 5.0, 6.0, 0.0, 6.0, 8.0, 7.0, 5.0, 0.0, 0.0, 0.0, 0.0, 6.0, 6.0, 6.0, 6.0, 8.0, 0.0, 0.0, 7.0, 8.0, 9.0, 9.0, 9.0, 8.0, 0.0, 7.0, 6.0, 7.0, 0.0, 0.0, 7.0, 9.0, 8.0, 9.0, 9.0, 0.0, 6.0, 7.0, 0.0, 0.0, 0.0, 6.0, 0.0, 6.0, 0.0, 9.0, 7.0, 9.0, 8.0, 8.0, 9.0, 8.0, 5.0, 0.0, 0.0, 6.0, 6.0, 6.0, 5.0, 5.0, 5.0, 0.0, 6.0, 6.0, 6.0, 6.0, 0.0, 0.0, 6.0, 6.0, 6.0, 6.0, 0.0, 0.0, 6.0, 5.0, 5.0, 7.0, 0.0, 6.0, 0.0, 5.0, 5.0, 0.0, 6.0, 7.0, 6.0, 6.0, 6.0, 6.0, 0.0, 6.0, 5.0, 6.0, 0.0, 6.0, 7.0, 7.0, 5.0, 0.0, 0.0, 0.0, 0.0, 6.0, 6.0, 6.0, 6.0, 7.0, 0.0, 0.0, 7.0, 7.0, 8.0, 9.0, 9.0, 7.0, 0.0, 0.0, 6.0, 5.0, 0.0, 0.0, 7.0, 9.0, 8.0, 8.0, 9.0, 0.0, 0.0, 0.0, 0.0, 0.0, 0.0, 5.0, 0.0, 6.0, 0.0, 7.0, 0.0, 8.0, 7.0, 6.0, 6.0, 7.0, 0.0, 6.0, 6.0, 6.0, 6.0, 6.0, 6.0, 6.0, 6.0, 0.0, 6.0, 6.0, 0.0, 6.0, 6.0, 6.0, 5.0, 6.0, 6.0, 6.0, 6.0, 6.0, 6.0, 6.0, 6.0, 0.0, 0.0, 6.0, 6.0, 6.0, 6.0, 6.0, 6.0, 6.0, 6.0, 6.0, 6.0, 6.0, 6.0, 6.0, 6.0, 5.0, 6.0, 6.0, 7.0, 7.0, 7.0, 0.0, 6.0, 0.0, 0.0, 6.0, 6.0, 6.0, 6.0, 7.0, 6.0, 6.0, 7.0, 7.0, 8.0, 8.0, 8.0, 8.0, 8.0, 6.0, 8.0, 9.0, 0.0, 0.0, 0.0, 0.0, 0.0, 7.0, 8.0, 0.0, 0.0, 7.0, 0.0, 0.0, 6.0, 8.0, 7.0, 8.0, 0.0, 6.0, 0.0, 7.0, 7.0, 8.0, 9.0, 0.0, 5.0, 6.0, 5.0, 5.0, 6.0, 6.0, 6.0, 6.0, 6.0, 0.0, 6.0, 5.0, 6.0, 6.0, 6.0, 6.0, 5.0, 6.0, 5.0, 6.0, 5.0, 6.0, 6.0, 6.0, 6.0, 0.0, 0.0, 6.0, 6.0, 6.0, 6.0, 6.0, 5.0, 5.0, 6.0, 6.0, 6.0, 5.0, 6.0, 6.0, 5.0, 5.0, 6.0, 6.0, 6.0, 6.0, 7.0, 0.0, 5.0, 0.0, 5.0, 6.0, 6.0, 6.0, 5.0, 6.0, 6.0, 6.0, 5.0, 7.0, 6.0, 7.0, 7.0, 0.0, 6.0, 6.0, 8.0, 8.0, 0.0, 0.0, 0.0, 0.0, 0.0, 7.0, 8.0, 0.0, 0.0, 0.0, 0.0, 0.0, 6.0, 6.0, 7.0, 0.0, 0.0, 6.0, 0.0, 6.0, 7.0, 7.0, 8.0, 0.0, 6.0, 6.0, 7.0, 6.0, 6.0, 7.0, 7.0, 7.0, 7.0, 0.0, 6.0, 7.0, 6.0, 6.0, 6.0, 7.0, 0.0, 7.0, 6.0, 6.0, 7.0, 6.0, 6.0, 7.0, 7.0, 0.0, 0.0, 7.0, 7.0, 7.0, 7.0, 6.0, 6.0, 6.0, 6.0, 7.0, 7.0, 6.0, 6.0, 7.0, 7.0, 7.0, 6.0, 7.0, 7.0, 8.0, 7.0, 0.0, 6.0, 0.0, 0.0, 6.0, 6.0, 6.0, 6.0, 7.0, 6.0, 6.0, 7.0, 8.0, 8.0, 9.0, 0.0, 7.0, 10.0, 0.0, 9.0, 8.0, 0.0, 0.0, 0.0, 8.0, 0.0, 7.0, 9.0, 0.0, 8.0, 9.0, 0.0, 0.0, 6.0, 8.0, 8.0, 10.0, 0.0, 7.0, 8.0, 8.0, 0.0, 10.0, 10.0, 9.0, 5.0, 0.0, 5.0, 0.0, 0.0, 6.0, 5.0, 5.0, 5.0, 0.0, 0.0, 5.0, 6.0, 0.0, 0.0, 0.0, 5.0, 5.0, 5.0, 6.0, 0.0, 5.0, 5.0, 5.0, 5.0, 0.0, 0.0, 5.0, 5.0, 5.0, 5.0, 5.0, 6.0, 7.0, 6.0, 6.0, 5.0, 5.0, 0.0, 5.0, 5.0, 5.0, 5.0, 6.0, 6.0, 7.0, 5.0, 0.0, 5.0, 0.0, 0.0, 6.0, 0.0, 0.0, 0.0, 6.0, 5.0, 0.0, 7.0, 8.0, 7.0, 9.0, 9.0, 7.0, 6.0, 0.0, 0.0, 7.0, 6.0, 0.0, 7.0, 8.0, 8.0, 8.0, 9.0, 0.0, 0.0, 7.0, 6.0, 0.0, 0.0, 0.0, 5.0, 6.0, 0.0, 7.0, 7.0, 7.0, 8.0, 8.0, 8.0, 7.0, 5.0, 5.0, 5.0, 0.0, 5.0, 5.0, 6.0, 6.0, 0.0, 0.0, 5.0, 5.0, 0.0, 5.0, 5.0, 5.0, 5.0, 5.0, 5.0, 5.0, 5.0, 5.0, 5.0, 5.0, 5.0, 0.0, 0.0, 6.0, 5.0, 5.0, 5.0, 6.0, 5.0, 5.0, 6.0, 6.0, 5.0, 5.0, 6.0, 5.0, 5.0, 5.0, 5.0, 5.0, 5.0, 5.0, 6.0, 0.0, 5.0, 0.0, 0.0, 5.0, 5.0, 5.0, 5.0, 6.0, 5.0, 5.0, 6.0, 6.0, 6.0, 8.0, 0.0, 0.0, 7.0, 0.0, 7.0, 9.0, 0.0, 0.0, 0.0, 0.0, 0.0, 6.0, 10.0, 0.0, 0.0, 0.0, 0.0, 0.0, 7.0, 8.0, 7.0, 7.0, 0.0, 6.0, 0.0, 7.0, 7.0, 7.0, 8.0, 0.0, 6.0, 6.0, 0.0, 6.0, 6.0, 7.0, 7.0, 7.0, 7.0, 0.0, 6.0, 6.0, 6.0, 6.0, 6.0, 6.0, 0.0, 6.0, 0.0, 6.0, 7.0, 7.0, 6.0, 7.0, 7.0, 0.0, 0.0, 7.0, 6.0, 7.0, 7.0, 6.0, 6.0, 6.0, 6.0, 6.0, 6.0, 6.0, 6.0, 6.0, 7.0, 7.0, 5.0, 6.0, 6.0, 8.0, 7.0, 0.0, 0.0, 0.0, 0.0, 6.0, 6.0, 6.0, 6.0, 7.0, 6.0, 7.0, 6.0, 8.0, 7.0, 9.0, 9.0, 0.0, 7.0, 0.0, 8.0, 8.0, 0.0, 0.0, 6.0, 8.0, 0.0, 7.0, 9.0, 0.0, 0.0, 9.0, 0.0, 0.0, 6.0, 7.0, 7.0, 8.0, 0.0, 7.0, 7.0, 8.0, 7.0, 8.0, 10.0, 10.0, 5.0, 5.0, 5.0, 6.0, 6.0, 7.0, 6.0, 6.0, 0.0, 0.0, 6.0, 6.0, 6.0, 6.0, 6.0, 6.0, 6.0, 7.0, 6.0, 6.0, 7.0, 6.0, 6.0, 7.0, 7.0, 6.0, 0.0, 7.0, 6.0, 7.0, 7.0, 6.0, 6.0, 6.0, 6.0, 6.0, 6.0, 6.0, 6.0, 6.0, 7.0, 6.0, 5.0, 6.0, 6.0, 7.0, 7.0, 0.0, 0.0, 0.0, 0.0, 6.0, 0.0, 6.0, 6.0, 7.0, 6.0, 6.0, 6.0, 7.0, 6.0, 8.0, 9.0, 0.0, 7.0, 0.0, 7.0, 8.0, 0.0, 0.0, 0.0, 7.0, 0.0, 7.0, 9.0, 0.0, 8.0, 9.0, 0.0, 0.0, 6.0, 7.0, 7.0, 8.0, 0.0, 7.0, 7.0, 7.0, 0.0, 8.0, 10.0, 9.0, 5.0, 5.0, 5.0, 5.0, 6.0, 6.0, 6.0, 7.0, 0.0, 0.0, 6.0, 5.0, 6.0, 5.0, 6.0, 6.0, 5.0, 5.0, 5.0, 6.0, 5.0, 6.0, 5.0, 5.0, 6.0, 0.0, 0.0, 6.0, 6.0, 6.0, 6.0, 6.0, 6.0, 5.0, 6.0, 6.0, 5.0, 5.0, 6.0, 6.0, 5.0, 5.0, 0.0, 6.0, 6.0, 7.0, 7.0, 0.0, 0.0, 0.0, 0.0, 6.0, 6.0, 6.0, 5.0, 5.0, 6.0, 6.0, 5.0, 7.0, 6.0, 7.0, 7.0, 0.0, 7.0, 0.0, 7.0, 8.0, 0.0, 0.0, 0.0, 0.0, 6.0, 7.0, 8.0, 0.0, 0.0, 7.0, 0.0, 0.0, 7.0, 6.0, 7.0, 7.0, 0.0, 6.0, 0.0, 7.0, 7.0, 7.0, 8.0, 0.0, 5.0, 0.0, 0.0, 6.0, 6.0, 6.0, 5.0, 5.0, 5.0, 0.0, 6.0, 6.0, 5.0, 6.0, 0.0, 0.0, 6.0, 6.0, 6.0, 6.0, 7.0, 5.0, 6.0, 5.0, 5.0, 6.0, 0.0, 5.0, 0.0, 5.0, 5.0, 0.0, 6.0, 7.0, 6.0, 6.0, 6.0, 6.0, 5.0, 0.0, 6.0, 5.0, 0.0, 0.0, 7.0, 7.0, 5.0, 0.0, 5.0, 0.0, 0.0, 6.0, 6.0, 6.0, 6.0, 7.0, 0.0, 0.0, 7.0, 7.0, 9.0, 9.0, 9.0, 7.0, 7.0, 0.0, 6.0, 6.0, 6.0, 0.0, 7.0, 9.0, 8.0, 9.0, 9.0, 0.0, 6.0, 0.0, 0.0, 0.0, 5.0, 5.0, 6.0, 6.0, 7.0, 7.0, 0.0, 6.0, 0.0, 6.0, 6.0, 7.0, 5.0, 6.0, 5.0, 6.0, 6.0, 7.0, 7.0, 7.0, 0.0, 0.0, 6.0, 6.0, 6.0, 6.0, 6.0, 6.0, 5.0, 7.0, 6.0, 6.0, 7.0, 6.0, 6.0, 7.0, 8.0, 7.0, 0.0, 6.0, 7.0, 7.0, 7.0, 6.0, 6.0, 6.0, 6.0, 6.0, 6.0, 6.0, 6.0, 6.0, 6.0, 6.0, 0.0, 6.0, 7.0, 8.0, 7.0, 0.0, 6.0, 0.0, 5.0, 6.0, 6.0, 6.0, 6.0, 7.0, 6.0, 7.0, 7.0, 7.0, 8.0, 8.0, 9.0, 0.0, 8.0, 0.0, 7.0, 9.0, 0.0, 0.0, 0.0, 8.0, 7.0, 8.0, 10.0, 0.0, 7.0, 8.0, 0.0, 0.0, 6.0, 7.0, 7.0, 9.0, 0.0, 8.0, 7.0, 8.0, 7.0, 10.0, 10.0, 9.0, 5.0, 6.0, 5.0, 6.0, 6.0, 7.0, 7.0, 6.0, 0.0, 0.0, 6.0, 6.0, 6.0, 6.0, 6.0, 6.0, 5.0, 7.0, 6.0, 6.0, 7.0, 7.0, 6.0, 7.0, 8.0, 0.0, 0.0, 6.0, 6.0, 7.0, 7.0, 6.0, 7.0, 6.0, 6.0, 6.0, 6.0, 6.0, 6.0, 6.0, 6.0, 5.0, 0.0, 6.0, 6.0, 7.0, 7.0, 0.0, 0.0, 0.0, 5.0, 6.0, 6.0, 6.0, 6.0, 7.0, 6.0, 6.0, 7.0, 7.0, 8.0, 8.0, 8.0, 0.0, 8.0, 0.0, 7.0, 8.0, 0.0, 0.0, 0.0, 7.0, 0.0, 7.0, 9.0, 0.0, 7.0, 9.0, 0.0, 0.0, 7.0, 8.0, 0.0, 8.0, 0.0, 8.0, 8.0, 7.0, 7.0, 9.0, 8.0, 9.0, 0.0, 6.0, 5.0, 6.0, 6.0, 6.0, 0.0, 5.0, 0.0, 0.0, 6.0, 6.0, 6.0, 6.0, 6.0, 6.0, 6.0, 6.0, 6.0, 6.0, 7.0, 7.0, 6.0, 7.0, 6.0, 0.0, 0.0, 6.0, 5.0, 6.0, 6.0, 6.0, 6.0, 6.0, 6.0, 6.0, 6.0, 6.0, 6.0, 6.0, 6.0, 6.0, 0.0, 6.0, 6.0, 6.0, 6.0, 0.0, 0.0, 0.0, 5.0, 6.0, 6.0, 6.0, 6.0, 7.0, 6.0, 6.0, 7.0, 7.0, 8.0, 9.0, 9.0, 0.0, 8.0, 0.0, 7.0, 7.0, 0.0, 0.0, 6.0, 8.0, 7.0, 7.0, 8.0, 0.0, 7.0, 8.0, 0.0, 0.0, 5.0, 6.0, 6.0, 7.0, 0.0, 7.0, 7.0, 8.0, 8.0, 8.0, 8.0, 7.0, 6.0, 6.0, 5.0, 6.0, 6.0, 7.0, 7.0, 6.0, 6.0, 0.0, 6.0, 6.0, 6.0, 6.0, 6.0, 6.0, 6.0, 7.0, 6.0, 6.0, 6.0, 6.0, 6.0, 6.0, 7.0, 0.0, 0.0, 5.0, 5.0, 5.0, 7.0, 6.0, 6.0, 6.0, 6.0, 6.0, 6.0, 6.0, 6.0, 6.0, 6.0, 7.0, 0.0, 6.0, 6.0, 7.0, 6.0, 0.0, 0.0, 0.0, 0.0, 6.0, 6.0, 6.0, 6.0, 7.0, 6.0, 6.0, 7.0, 7.0, 8.0, 9.0, 9.0, 0.0, 8.0, 0.0, 6.0, 7.0, 0.0, 0.0, 6.0, 8.0, 8.0, 7.0, 9.0, 0.0, 8.0, 9.0, 0.0, 0.0, 6.0, 6.0, 6.0, 8.0, 0.0, 7.0, 7.0, 8.0, 8.0, 8.0, 9.0, 9.0, 5.0, 6.0, 6.0, 6.0, 6.0, 6.0, 0.0, 6.0, 0.0, 0.0, 6.0, 6.0, 6.0, 6.0, 6.0, 6.0, 5.0, 6.0, 6.0, 6.0, 7.0, 7.0, 6.0, 7.0, 7.0, 0.0, 0.0, 6.0, 6.0, 7.0, 7.0, 6.0, 6.0, 6.0, 6.0, 6.0, 6.0, 7.0, 6.0, 6.0, 6.0, 6.0, 0.0, 6.0, 7.0, 7.0, 7.0, 0.0, 0.0, 0.0, 5.0, 6.0, 6.0, 6.0, 6.0, 7.0, 7.0, 7.0, 7.0, 8.0, 8.0, 8.0, 9.0, 0.0, 8.0, 0.0, 8.0, 8.0, 0.0, 0.0, 6.0, 8.0, 8.0, 7.0, 9.0, 0.0, 8.0, 9.0, 0.0, 0.0, 7.0, 7.0, 8.0, 8.0, 0.0, 7.0, 8.0, 8.0, 8.0, 9.0, 9.0, 9.0, 5.0, 5.0, 0.0, 6.0, 6.0, 6.0, 0.0, 5.0, 0.0, 0.0, 6.0, 6.0, 6.0, 6.0, 6.0, 6.0, 6.0, 6.0, 7.0, 6.0, 7.0, 5.0, 6.0, 6.0, 7.0, 0.0, 0.0, 5.0, 5.0, 5.0, 5.0, 5.0, 6.0, 7.0, 6.0, 6.0, 6.0, 7.0, 6.0, 6.0, 6.0, 5.0, 0.0, 0.0, 7.0, 7.0, 5.0, 0.0, 0.0, 0.0, 0.0, 6.0, 6.0, 6.0, 6.0, 8.0, 5.0, 5.0, 7.0, 8.0, 9.0, 8.0, 9.0, 0.0, 7.0, 0.0, 6.0, 6.0, 0.0, 0.0, 8.0, 9.0, 9.0, 8.0, 9.0, 0.0, 7.0, 7.0, 0.0, 0.0, 6.0, 6.0, 6.0, 7.0, 8.0, 8.0, 8.0, 8.0, 9.0, 7.0, 9.0, 8.0, 5.0, 5.0, 5.0, 0.0, 5.0, 5.0, 6.0, 6.0, 0.0, 0.0, 6.0, 5.0, 5.0, 6.0, 0.0, 6.0, 5.0, 5.0, 5.0, 6.0, 6.0, 5.0, 5.0, 5.0, 6.0, 0.0, 0.0, 6.0, 6.0, 5.0, 5.0, 5.0, 5.0, 5.0, 6.0, 6.0, 5.0, 5.0, 6.0, 5.0, 5.0, 5.0, 0.0, 6.0, 5.0, 6.0, 7.0, 0.0, 0.0, 0.0, 5.0, 6.0, 6.0, 6.0, 6.0, 6.0, 6.0, 5.0, 5.0, 7.0, 7.0, 8.0, 8.0, 0.0, 6.0, 0.0, 7.0, 8.0, 0.0, 0.0, 0.0, 6.0, 6.0, 7.0, 8.0, 0.0, 6.0, 7.0, 0.0, 0.0, 6.0, 6.0, 7.0, 7.0, 0.0, 6.0, 7.0, 7.0, 7.0, 8.0, 8.0, 7.0, 5.0, 6.0, 5.0, 6.0, 6.0, 7.0, 0.0, 5.0, 0.0, 0.0, 6.0, 6.0, 6.0, 6.0, 6.0, 6.0, 6.0, 6.0, 6.0, 6.0, 7.0, 6.0, 6.0, 6.0, 7.0, 0.0, 0.0, 5.0, 5.0, 5.0, 5.0, 7.0, 6.0, 7.0, 6.0, 6.0, 6.0, 7.0, 6.0, 6.0, 5.0, 0.0, 0.0, 6.0, 7.0, 7.0, 5.0, 0.0, 0.0, 0.0, 0.0, 6.0, 6.0, 6.0, 6.0, 7.0, 7.0, 5.0, 7.0, 8.0, 8.0, 8.0, 8.0, 0.0, 8.0, 0.0, 7.0, 7.0, 0.0, 0.0, 7.0, 9.0, 9.0, 8.0, 8.0, 0.0, 0.0, 8.0, 0.0, 0.0, 7.0, 6.0, 7.0, 8.0, 8.0, 9.0, 9.0, 9.0, 9.0, 9.0, 9.0, 9.0, 5.0, 5.0, 5.0, 5.0, 6.0, 6.0, 0.0, 6.0, 0.0, 0.0, 6.0, 6.0, 6.0, 6.0, 6.0, 6.0, 5.0, 6.0, 6.0, 6.0, 7.0, 7.0, 5.0, 6.0, 7.0, 0.0, 0.0, 6.0, 6.0, 6.0, 6.0, 6.0, 6.0, 6.0, 6.0, 6.0, 6.0, 6.0, 6.0, 6.0, 5.0, 5.0, 0.0, 6.0, 6.0, 6.0, 7.0, 0.0, 0.0, 0.0, 5.0, 6.0, 6.0, 6.0, 6.0, 7.0, 7.0, 6.0, 6.0, 7.0, 8.0, 8.0, 0.0, 0.0, 7.0, 0.0, 8.0, 9.0, 0.0, 0.0, 0.0, 7.0, 6.0, 7.0, 9.0, 0.0, 8.0, 8.0, 0.0, 0.0, 6.0, 7.0, 7.0, 8.0, 0.0, 7.0, 7.0, 0.0, 7.0, 8.0, 10.0, 8.0, 5.0, 6.0, 5.0, 6.0, 6.0, 6.0, 0.0, 5.0, 0.0, 0.0, 6.0, 6.0, 6.0, 6.0, 0.0, 6.0, 6.0, 6.0, 7.0, 6.0, 7.0, 6.0, 6.0, 6.0, 5.0, 0.0, 0.0, 5.0, 0.0, 5.0, 5.0, 0.0, 6.0, 7.0, 6.0, 6.0, 6.0, 7.0, 6.0, 6.0, 6.0, 0.0, 0.0, 0.0, 7.0, 7.0, 5.0, 0.0, 0.0, 0.0, 0.0, 6.0, 6.0, 6.0, 6.0, 7.0, 5.0, 5.0, 7.0, 7.0, 8.0, 8.0, 8.0, 0.0, 0.0, 6.0, 6.0, 6.0, 6.0, 0.0, 7.0, 9.0, 8.0, 8.0, 9.0, 0.0, 0.0, 7.0, 0.0, 0.0, 6.0, 6.0, 6.0, 6.0, 8.0, 8.0, 7.0, 8.0, 7.0, 8.0, 9.0, 8.0, 5.0, 6.0, 5.0, 6.0, 6.0, 6.0, 0.0, 5.0, 0.0, 0.0, 6.0, 6.0, 6.0, 6.0, 6.0, 6.0, 6.0, 6.0, 6.0, 6.0, 7.0, 6.0, 7.0, 6.0, 5.0, 0.0, 0.0, 6.0, 5.0, 5.0, 5.0, 6.0, 6.0, 6.0, 7.0, 6.0, 6.0, 7.0, 7.0, 6.0, 6.0, 0.0, 0.0, 6.0, 7.0, 7.0, 5.0, 0.0, 6.0, 0.0, 0.0, 6.0, 6.0, 6.0, 6.0, 7.0, 7.0, 7.0, 7.0, 7.0, 6.0, 7.0, 0.0, 0.0, 8.0, 6.0, 7.0, 8.0, 8.0, 0.0, 7.0, 9.0, 8.0, 8.0, 8.0, 0.0, 0.0, 7.0, 0.0, 0.0, 6.0, 6.0, 6.0, 6.0, 7.0, 9.0, 8.0, 8.0, 7.0, 7.0, 9.0, 0.0, 6.0, 6.0, 5.0, 6.0, 6.0, 7.0, 0.0, 6.0, 0.0, 0.0, 6.0, 6.0, 6.0, 6.0, 6.0, 6.0, 5.0, 6.0, 6.0, 6.0, 7.0, 7.0, 6.0, 7.0, 7.0, 0.0, 0.0, 6.0, 7.0, 7.0, 7.0, 6.0, 6.0, 6.0, 6.0, 6.0, 7.0, 6.0, 6.0, 7.0, 6.0, 0.0, 0.0, 6.0, 7.0, 7.0, 7.0, 0.0, 6.0, 0.0, 5.0, 6.0, 6.0, 6.0, 6.0, 7.0, 7.0, 6.0, 7.0, 7.0, 7.0, 8.0, 0.0, 0.0, 8.0, 7.0, 8.0, 8.0, 0.0, 0.0, 6.0, 7.0, 6.0, 7.0, 8.0, 0.0, 8.0, 8.0, 0.0, 0.0, 7.0, 7.0, 7.0, 8.0, 0.0, 8.0, 7.0, 7.0, 7.0, 8.0, 9.0, 0.0, 5.0, 6.0, 5.0, 6.0, 6.0, 6.0, 0.0, 5.0, 0.0, 0.0, 6.0, 6.0, 6.0, 6.0, 6.0, 6.0, 6.0, 6.0, 6.0, 6.0, 6.0, 6.0, 6.0, 6.0, 7.0, 0.0, 0.0, 0.0, 6.0, 5.0, 5.0, 0.0, 6.0, 7.0, 6.0, 6.0, 6.0, 7.0, 7.0, 6.0, 6.0, 0.0, 0.0, 6.0, 7.0, 7.0, 5.0, 0.0, 6.0, 0.0, 0.0, 6.0, 6.0, 6.0, 6.0, 6.0, 7.0, 7.0, 7.0, 7.0, 6.0, 7.0, 0.0, 0.0, 7.0, 6.0, 7.0, 7.0, 7.0, 0.0, 7.0, 7.0, 8.0, 8.0, 9.0, 0.0, 0.0, 7.0, 0.0, 0.0, 6.0, 6.0, 6.0, 6.0, 7.0, 7.0, 7.0, 7.0, 7.0, 7.0, 9.0, 0.0, 5.0, 6.0, 5.0, 6.0, 6.0, 5.0, 0.0, 5.0, 0.0, 0.0, 6.0, 6.0, 5.0, 6.0, 6.0, 6.0, 6.0, 5.0, 6.0, 6.0, 6.0, 6.0, 7.0, 5.0, 5.0, 0.0, 0.0, 5.0, 5.0, 5.0, 6.0, 0.0, 6.0, 6.0, 6.0, 6.0, 5.0, 7.0, 7.0, 6.0, 5.0, 0.0, 0.0, 6.0, 6.0, 6.0, 5.0, 0.0, 6.0, 0.0, 0.0, 6.0, 6.0, 6.0, 6.0, 6.0, 6.0, 6.0, 7.0, 7.0, 7.0, 7.0, 0.0, 0.0, 0.0, 6.0, 7.0, 8.0, 7.0, 0.0, 6.0, 7.0, 7.0, 8.0, 7.0, 0.0, 0.0, 7.0, 0.0, 0.0, 6.0, 6.0, 6.0, 7.0, 7.0, 7.0, 7.0, 8.0, 7.0, 7.0, 8.0, 0.0, 5.0, 5.0, 5.0, 5.0, 5.0, 6.0, 0.0, 5.0, 0.0, 0.0, 6.0, 5.0, 5.0, 6.0, 5.0, 6.0, 5.0, 5.0, 5.0, 6.0, 6.0, 0.0, 5.0, 5.0, 7.0, 0.0, 0.0, 6.0, 5.0, 5.0, 5.0, 0.0, 5.0, 5.0, 5.0, 6.0, 5.0, 5.0, 6.0, 6.0, 5.0, 0.0, 0.0, 5.0, 5.0, 6.0, 6.0, 0.0, 5.0, 0.0, 5.0, 6.0, 6.0, 6.0, 6.0, 6.0, 6.0, 6.0, 5.0, 7.0, 7.0, 7.0, 0.0, 0.0, 6.0, 6.0, 7.0, 8.0, 0.0, 0.0, 0.0, 6.0, 6.0, 7.0, 8.0, 0.0, 0.0, 7.0, 0.0, 0.0, 6.0, 6.0, 7.0, 7.0, 0.0, 6.0, 7.0, 7.0, 7.0, 7.0, 8.0, 0.0, 5.0, 6.0, 5.0, 6.0, 6.0, 6.0, 0.0, 5.0, 0.0, 0.0, 6.0, 6.0, 6.0, 6.0, 6.0, 6.0, 6.0, 5.0, 6.0, 6.0, 5.0, 6.0, 6.0, 6.0, 5.0, 0.0, 0.0, 6.0, 5.0, 5.0, 6.0, 0.0, 6.0, 6.0, 6.0, 6.0, 6.0, 7.0, 7.0, 6.0, 5.0, 0.0, 0.0, 6.0, 7.0, 7.0, 5.0, 0.0, 6.0, 0.0, 6.0, 6.0, 6.0, 6.0, 6.0, 6.0, 7.0, 7.0, 7.0, 7.0, 6.0, 7.0, 0.0, 0.0, 8.0, 6.0, 7.0, 8.0, 6.0, 0.0, 7.0, 7.0, 8.0, 8.0, 8.0, 0.0, 0.0, 7.0, 0.0, 0.0, 6.0, 6.0, 6.0, 7.0, 7.0, 7.0, 7.0, 8.0, 7.0, 8.0, 9.0, 0.0, 5.0, 5.0, 5.0, 5.0, 5.0, 5.0, 5.0, 5.0, 0.0, 0.0, 6.0, 5.0, 5.0, 5.0, 5.0, 5.0, 5.0, 5.0, 5.0, 5.0, 5.0, 5.0, 5.0, 5.0, 0.0, 0.0, 0.0, 6.0, 5.0, 5.0, 5.0, 5.0, 5.0, 5.0, 5.0, 5.0, 5.0, 5.0, 5.0, 5.0, 5.0, 0.0, 5.0, 5.0, 5.0, 5.0, 5.0, 0.0, 5.0, 0.0, 5.0, 6.0, 6.0, 5.0, 6.0, 6.0, 5.0, 5.0, 7.0, 6.0, 6.0, 6.0, 0.0, 0.0, 6.0, 5.0, 6.0, 6.0, 0.0, 0.0, 6.0, 6.0, 6.0, 6.0, 6.0, 0.0, 6.0, 6.0, 0.0, 6.0, 6.0, 6.0, 6.0, 6.0, 0.0, 6.0, 6.0, 6.0, 6.0, 6.0, 0.0, 0.0, 5.0, 6.0, 5.0, 0.0, 6.0, 6.0, 0.0, 5.0, 0.0, 0.0, 6.0, 5.0, 6.0, 6.0, 6.0, 6.0, 5.0, 5.0, 6.0, 6.0, 6.0, 6.0, 6.0, 5.0, 5.0, 0.0, 0.0, 6.0, 5.0, 5.0, 5.0, 0.0, 6.0, 6.0, 6.0, 6.0, 6.0, 6.0, 6.0, 6.0, 5.0, 0.0, 0.0, 6.0, 7.0, 6.0, 6.0, 0.0, 5.0, 0.0, 0.0, 6.0, 6.0, 6.0, 6.0, 6.0, 7.0, 7.0, 7.0, 7.0, 7.0, 8.0, 0.0, 0.0, 7.0, 6.0, 7.0, 7.0, 0.0, 0.0, 6.0, 7.0, 6.0, 8.0, 7.0, 0.0, 0.0, 7.0, 0.0, 6.0, 6.0, 6.0, 6.0, 7.0, 7.0, 7.0, 7.0, 7.0, 7.0, 8.0, 0.0, 0.0, 5.0, 5.0, 5.0, 5.0, 5.0, 5.0, 0.0, 5.0, 0.0, 0.0, 5.0, 5.0, 5.0, 6.0, 6.0, 6.0, 5.0, 5.0, 5.0, 6.0, 6.0, 5.0, 5.0, 5.0, 7.0, 0.0, 0.0, 6.0, 5.0, 5.0, 5.0, 0.0, 5.0, 5.0, 5.0, 5.0, 5.0, 5.0, 5.0, 5.0, 5.0, 0.0, 0.0, 5.0, 6.0, 5.0, 7.0, 0.0, 5.0, 0.0, 5.0, 6.0, 6.0, 6.0, 6.0, 6.0, 5.0, 5.0, 5.0, 7.0, 7.0, 8.0, 0.0, 0.0, 6.0, 6.0, 7.0, 8.0, 0.0, 0.0, 0.0, 7.0, 6.0, 6.0, 8.0, 0.0, 6.0, 7.0, 0.0, 0.0, 6.0, 6.0, 7.0, 7.0, 0.0, 6.0, 7.0, 7.0, 7.0, 7.0, 8.0, 0.0, 5.0, 6.0, 6.0, 5.0, 6.0, 7.0, 0.0, 5.0, 0.0, 0.0, 6.0, 6.0, 6.0, 6.0, 6.0, 6.0, 5.0, 5.0, 5.0, 6.0, 5.0, 7.0, 6.0, 6.0, 5.0, 0.0, 0.0, 6.0, 5.0, 5.0, 6.0, 0.0, 6.0, 6.0, 6.0, 6.0, 6.0, 6.0, 6.0, 6.0, 5.0, 0.0, 0.0, 5.0, 6.0, 6.0, 5.0, 0.0, 5.0, 0.0, 5.0, 6.0, 6.0, 6.0, 6.0, 5.0, 6.0, 6.0, 6.0, 6.0, 6.0, 7.0, 0.0, 0.0, 7.0, 6.0, 7.0, 6.0, 0.0, 0.0, 6.0, 7.0, 7.0, 7.0, 6.0, 0.0, 0.0, 7.0, 0.0, 0.0, 6.0, 6.0, 6.0, 6.0, 0.0, 7.0, 7.0, 8.0, 7.0, 7.0, 8.0, 0.0, 5.0, 6.0, 5.0, 0.0, 7.0, 6.0, 6.0, 6.0, 0.0, 0.0, 6.0, 5.0, 6.0, 6.0, 6.0, 5.0, 5.0, 6.0, 6.0, 6.0, 5.0, 6.0, 5.0, 6.0, 6.0, 0.0, 0.0, 6.0, 6.0, 7.0, 7.0, 6.0, 5.0, 5.0, 6.0, 6.0, 5.0, 5.0, 6.0, 6.0, 5.0, 5.0, 0.0, 6.0, 6.0, 7.0, 8.0, 6.0, 0.0, 0.0, 0.0, 6.0, 6.0, 6.0, 6.0, 7.0, 6.0, 6.0, 5.0, 7.0, 6.0, 8.0, 8.0, 0.0, 7.0, 0.0, 6.0, 8.0, 0.0, 0.0, 0.0, 6.0, 6.0, 7.0, 9.0, 0.0, 6.0, 8.0, 0.0, 0.0, 7.0, 7.0, 8.0, 7.0, 0.0, 7.0, 8.0, 8.0, 8.0, 8.0, 9.0, 8.0, 0.0, 5.0, 5.0, 6.0, 6.0, 5.0, 0.0, 5.0, 0.0, 0.0, 6.0, 6.0, 6.0, 6.0, 6.0, 6.0, 7.0, 6.0, 7.0, 6.0, 8.0, 0.0, 6.0, 5.0, 7.0, 0.0, 5.0, 0.0, 5.0, 6.0, 0.0, 0.0, 6.0, 6.0, 6.0, 6.0, 6.0, 7.0, 6.0, 6.0, 5.0, 0.0, 0.0, 5.0, 7.0, 7.0, 7.0, 0.0, 5.0, 0.0, 0.0, 6.0, 6.0, 6.0, 7.0, 8.0, 7.0, 7.0, 7.0, 7.0, 8.0, 8.0, 0.0, 0.0, 7.0, 7.0, 7.0, 7.0, 0.0, 0.0, 6.0, 7.0, 8.0, 8.0, 9.0, 0.0, 0.0, 7.0, 0.0, 7.0, 6.0, 7.0, 7.0, 7.0, 8.0, 7.0, 7.0, 7.0, 7.0, 7.0, 0.0, 0.0, 0.0, 5.0, 5.0, 5.0, 5.0, 5.0, 0.0, 5.0, 0.0, 0.0, 6.0, 5.0, 5.0, 5.0, 5.0, 5.0, 5.0, 6.0, 5.0, 6.0, 6.0, 6.0, 5.0, 5.0, 0.0, 0.0, 0.0, 0.0, 5.0, 6.0, 6.0, 0.0, 5.0, 6.0, 5.0, 5.0, 5.0, 5.0, 6.0, 6.0, 5.0, 0.0, 0.0, 5.0, 6.0, 6.0, 6.0, 0.0, 5.0, 0.0, 6.0, 6.0, 6.0, 5.0, 6.0, 6.0, 5.0, 6.0, 6.0, 6.0, 7.0, 7.0, 0.0, 0.0, 6.0, 7.0, 7.0, 8.0, 0.0, 0.0, 6.0, 6.0, 6.0, 6.0, 8.0, 0.0, 0.0, 7.0, 7.0, 6.0, 6.0, 7.0, 7.0, 7.0, 0.0, 6.0, 0.0, 6.0, 7.0, 7.0, 0.0, 0.0, 0.0, 5.0, 0.0, 6.0, 6.0, 5.0, 0.0, 5.0, 0.0, 0.0, 6.0, 5.0, 6.0, 6.0, 6.0, 6.0, 5.0, 5.0, 6.0, 6.0, 6.0, 6.0, 7.0, 5.0, 0.0, 0.0, 0.0, 0.0, 5.0, 6.0, 0.0, 0.0, 6.0, 7.0, 6.0, 6.0, 6.0, 7.0, 7.0, 6.0, 7.0, 0.0, 0.0, 6.0, 7.0, 6.0, 6.0, 0.0, 5.0, 0.0, 0.0, 6.0, 6.0, 6.0, 6.0, 6.0, 7.0, 7.0, 7.0, 7.0, 7.0, 8.0, 0.0, 0.0, 7.0, 7.0, 7.0, 7.0, 7.0, 0.0, 6.0, 7.0, 8.0, 7.0, 7.0, 0.0, 0.0, 7.0, 0.0, 6.0, 6.0, 6.0, 7.0, 7.0, 0.0, 8.0, 0.0, 7.0, 7.0, 8.0, 0.0, 0.0, 5.0, 5.0, 5.0, 5.0, 6.0, 5.0, 0.0, 5.0, 0.0, 0.0, 6.0, 5.0, 6.0, 6.0, 6.0, 6.0, 5.0, 6.0, 6.0, 6.0, 6.0, 8.0, 6.0, 6.0, 0.0, 0.0, 0.0, 0.0, 5.0, 6.0, 0.0, 0.0, 6.0, 6.0, 7.0, 6.0, 6.0, 8.0, 7.0, 6.0, 6.0, 0.0, 0.0, 6.0, 7.0, 7.0, 6.0, 0.0, 6.0, 0.0, 6.0, 7.0, 6.0, 6.0, 6.0, 6.0, 6.0, 7.0, 7.0, 7.0, 7.0, 8.0, 0.0, 0.0, 8.0, 7.0, 8.0, 8.0, 0.0, 0.0, 7.0, 7.0, 7.0, 8.0, 8.0, 0.0, 0.0, 8.0, 0.0, 6.0, 7.0, 7.0, 7.0, 7.0, 8.0, 0.0, 0.0, 7.0, 8.0, 8.0, 0.0, 0.0, 6.0, 6.0, 6.0, 6.0, 7.0, 7.0, 0.0, 6.0, 0.0, 0.0, 6.0, 7.0, 7.0, 6.0, 6.0, 6.0, 6.0, 7.0, 6.0, 6.0, 5.0, 7.0, 6.0, 7.0, 7.0, 0.0, 0.0, 6.0, 6.0, 6.0, 6.0, 0.0, 7.0, 7.0, 6.0, 7.0, 7.0, 8.0, 7.0, 7.0, 6.0, 0.0, 0.0, 6.0, 7.0, 7.0, 6.0, 0.0, 7.0, 0.0, 6.0, 6.0, 6.0, 6.0, 6.0, 7.0, 8.0, 7.0, 7.0, 8.0, 7.0, 8.0, 0.0, 0.0, 9.0, 8.0, 8.0, 8.0, 7.0, 0.0, 8.0, 9.0, 8.0, 9.0, 9.0, 0.0, 0.0, 8.0, 0.0, 6.0, 7.0, 7.0, 7.0, 8.0, 8.0, 8.0, 8.0, 8.0, 8.0, 9.0, 8.0, 0.0, 0.0, 6.0, 5.0, 5.0, 6.0, 6.0, 6.0, 6.0, 6.0, 0.0, 6.0, 5.0, 6.0, 5.0, 6.0, 6.0, 5.0, 6.0, 6.0, 6.0, 0.0, 6.0, 6.0, 6.0, 6.0, 0.0, 0.0, 6.0, 6.0, 6.0, 6.0, 6.0, 5.0, 5.0, 6.0, 6.0, 6.0, 5.0, 6.0, 6.0, 5.0, 5.0, 6.0, 6.0, 6.0, 6.0, 6.0, 0.0, 5.0, 0.0, 0.0, 6.0, 6.0, 6.0, 5.0, 5.0, 6.0, 6.0, 5.0, 5.0, 6.0, 6.0, 0.0, 8.0, 7.0, 5.0, 8.0, 8.0, 0.0, 0.0, 0.0, 0.0, 7.0, 7.0, 8.0, 0.0, 0.0, 6.0, 0.0, 0.0, 6.0, 6.0, 7.0, 0.0, 0.0, 6.0, 0.0, 6.0, 7.0, 7.0, 8.0, 7.0, 6.0, 6.0, 6.0, 6.0, 6.0, 6.0, 6.0, 6.0, 7.0, 0.0, 6.0, 6.0, 0.0, 6.0, 6.0, 6.0, 0.0, 6.0, 6.0, 6.0, 7.0, 6.0, 6.0, 7.0, 7.0, 0.0, 0.0, 6.0, 7.0, 7.0, 7.0, 6.0, 6.0, 6.0, 6.0, 6.0, 6.0, 6.0, 6.0, 6.0, 6.0, 5.0, 5.0, 6.0, 6.0, 8.0, 7.0, 0.0, 0.0, 0.0, 0.0, 0.0, 6.0, 6.0, 6.0, 5.0, 6.0, 6.0, 6.0, 7.0, 6.0, 8.0, 0.0, 0.0, 8.0, 0.0, 8.0, 8.0, 0.0, 0.0, 0.0, 0.0, 0.0, 7.0, 9.0, 0.0, 0.0, 9.0, 0.0, 0.0, 6.0, 7.0, 8.0, 7.0, 0.0, 7.0, 7.0, 7.0, 7.0, 8.0, 9.0, 8.0, 6.0, 6.0, 5.0, 5.0, 6.0, 6.0, 6.0, 6.0, 7.0, 0.0, 6.0, 6.0, 6.0, 6.0, 6.0, 6.0, 6.0, 6.0, 0.0, 6.0, 5.0, 6.0, 6.0, 6.0, 7.0, 0.0, 0.0, 6.0, 7.0, 7.0, 7.0, 6.0, 6.0, 6.0, 6.0, 6.0, 6.0, 6.0, 6.0, 6.0, 7.0, 5.0, 5.0, 6.0, 6.0, 7.0, 7.0, 0.0, 0.0, 0.0, 0.0, 6.0, 6.0, 6.0, 6.0, 5.0, 6.0, 0.0, 7.0, 7.0, 6.0, 8.0, 9.0, 8.0, 8.0, 0.0, 8.0, 8.0, 0.0, 0.0, 0.0, 0.0, 0.0, 7.0, 9.0, 0.0, 0.0, 9.0, 0.0, 0.0, 6.0, 7.0, 8.0, 9.0, 0.0, 7.0, 8.0, 7.0, 8.0, 9.0, 9.0, 8.0, 0.0, 0.0, 5.0, 6.0, 6.0, 7.0, 7.0, 7.0, 6.0, 0.0, 6.0, 6.0, 6.0, 6.0, 0.0, 6.0, 0.0, 5.0, 0.0, 6.0, 0.0, 6.0, 6.0, 6.0, 7.0, 8.0, 0.0, 6.0, 6.0, 7.0, 7.0, 0.0, 6.0, 6.0, 6.0, 6.0, 6.0, 6.0, 6.0, 6.0, 6.0, 6.0, 0.0, 6.0, 6.0, 6.0, 6.0, 0.0, 0.0, 0.0, 0.0, 6.0, 6.0, 6.0, 6.0, 6.0, 7.0, 6.0, 6.0, 7.0, 7.0, 8.0, 7.0, 9.0, 7.0, 6.0, 7.0, 7.0, 0.0, 0.0, 0.0, 8.0, 0.0, 7.0, 8.0, 0.0, 0.0, 9.0, 0.0, 0.0, 0.0, 6.0, 6.0, 0.0, 0.0, 7.0, 0.0, 6.0, 7.0, 7.0, 9.0, 9.0, 0.0, 5.0, 6.0, 6.0, 7.0, 7.0, 7.0, 7.0, 7.0, 0.0, 6.0, 6.0, 6.0, 6.0, 6.0, 6.0, 6.0, 5.0, 6.0, 6.0, 0.0, 6.0, 6.0, 7.0, 7.0, 0.0, 0.0, 7.0, 7.0, 7.0, 7.0, 0.0, 5.0, 6.0, 6.0, 6.0, 6.0, 6.0, 6.0, 6.0, 6.0, 7.0, 0.0, 6.0, 6.0, 8.0, 7.0, 0.0, 6.0, 0.0, 0.0, 6.0, 6.0, 6.0, 6.0, 6.0, 6.0, 6.0, 6.0, 7.0, 7.0, 8.0, 8.0, 8.0, 8.0, 6.0, 8.0, 9.0, 0.0, 0.0, 7.0, 7.0, 0.0, 7.0, 8.0, 0.0, 0.0, 9.0, 0.0, 0.0, 6.0, 7.0, 7.0, 7.0, 0.0, 7.0, 0.0, 8.0, 7.0, 8.0, 10.0, 9.0, 5.0, 5.0, 5.0, 6.0, 7.0, 7.0, 6.0, 6.0, 6.0, 0.0, 6.0, 6.0, 6.0, 6.0, 0.0, 0.0, 0.0, 6.0, 0.0, 6.0, 6.0, 5.0, 5.0, 6.0, 7.0, 0.0, 0.0, 5.0, 6.0, 6.0, 6.0, 0.0, 7.0, 6.0, 6.0, 7.0, 7.0, 7.0, 5.0, 5.0, 6.0, 0.0, 0.0, 0.0, 7.0, 6.0, 5.0, 0.0, 5.0, 0.0, 0.0, 6.0, 6.0, 6.0, 6.0, 6.0, 0.0, 6.0, 6.0, 7.0, 7.0, 9.0, 7.0, 6.0, 6.0, 0.0, 5.0, 6.0, 0.0, 0.0, 6.0, 7.0, 0.0, 7.0, 8.0, 0.0, 6.0, 8.0, 0.0, 0.0, 5.0, 5.0, 0.0, 6.0, 0.0, 7.0, 7.0, 6.0, 0.0, 7.0, 7.0, 7.0, 0.0, 0.0, 0.0, 0.0, 5.0, 6.0, 6.0, 6.0, 6.0, 0.0, 6.0, 6.0, 6.0, 6.0, 0.0, 0.0, 0.0, 5.0, 0.0, 6.0, 0.0, 6.0, 5.0, 5.0, 6.0, 0.0, 0.0, 5.0, 5.0, 6.0, 6.0, 0.0, 5.0, 6.0, 6.0, 6.0, 6.0, 6.0, 6.0, 5.0, 5.0, 5.0, 0.0, 6.0, 6.0, 5.0, 5.0, 0.0, 0.0, 0.0, 0.0, 6.0, 6.0, 6.0, 6.0, 7.0, 0.0, 0.0, 5.0, 7.0, 8.0, 8.0, 8.0, 0.0, 7.0, 0.0, 6.0, 7.0, 0.0, 0.0, 0.0, 6.0, 0.0, 7.0, 7.0, 0.0, 0.0, 9.0, 0.0, 0.0, 6.0, 6.0, 0.0, 0.0, 0.0, 7.0, 0.0, 6.0, 7.0, 0.0, 7.0, 8.0, 5.0, 0.0, 6.0, 6.0, 6.0, 6.0, 6.0, 6.0, 7.0, 0.0, 6.0, 6.0, 6.0, 6.0, 5.0, 6.0, 0.0, 5.0, 6.0, 6.0, 6.0, 6.0, 6.0, 7.0, 7.0, 0.0, 0.0, 6.0, 5.0, 7.0, 7.0, 6.0, 6.0, 6.0, 6.0, 6.0, 6.0, 6.0, 6.0, 6.0, 6.0, 6.0, 5.0, 6.0, 6.0, 6.0, 7.0, 0.0, 0.0, 0.0, 0.0, 6.0, 6.0, 6.0, 6.0, 6.0, 6.0, 6.0, 6.0, 7.0, 7.0, 8.0, 8.0, 0.0, 7.0, 0.0, 6.0, 7.0, 0.0, 0.0, 0.0, 6.0, 0.0, 7.0, 0.0, 0.0, 0.0, 9.0, 0.0, 0.0, 6.0, 7.0, 7.0, 8.0, 0.0, 6.0, 7.0, 6.0, 7.0, 8.0, 8.0, 8.0, 6.0, 5.0, 6.0, 5.0, 6.0, 7.0, 6.0, 6.0, 0.0, 0.0, 6.0, 7.0, 6.0, 6.0, 6.0, 7.0, 6.0, 6.0, 6.0, 6.0, 6.0, 6.0, 6.0, 7.0, 7.0, 0.0, 0.0, 7.0, 5.0, 6.0, 7.0, 6.0, 7.0, 6.0, 6.0, 6.0, 7.0, 6.0, 6.0, 6.0, 6.0, 7.0, 0.0, 6.0, 7.0, 7.0, 7.0, 0.0, 5.0, 0.0, 5.0, 6.0, 6.0, 6.0, 6.0, 6.0, 6.0, 6.0, 6.0, 8.0, 7.0, 9.0, 9.0, 0.0, 7.0, 0.0, 7.0, 7.0, 0.0, 0.0, 0.0, 7.0, 6.0, 6.0, 9.0, 0.0, 8.0, 9.0, 0.0, 0.0, 5.0, 7.0, 7.0, 7.0, 0.0, 7.0, 8.0, 7.0, 8.0, 8.0, 8.0, 9.0, 5.0, 5.0, 5.0, 5.0, 6.0, 7.0, 6.0, 6.0, 0.0, 0.0, 6.0, 6.0, 6.0, 6.0, 6.0, 6.0, 6.0, 6.0, 6.0, 6.0, 5.0, 6.0, 6.0, 7.0, 7.0, 0.0, 0.0, 6.0, 7.0, 7.0, 7.0, 6.0, 6.0, 6.0, 6.0, 6.0, 6.0, 6.0, 6.0, 6.0, 6.0, 6.0, 0.0, 6.0, 6.0, 7.0, 7.0, 0.0, 6.0, 0.0, 5.0, 6.0, 0.0, 6.0, 6.0, 7.0, 6.0, 0.0, 6.0, 8.0, 6.0, 8.0, 9.0, 0.0, 7.0, 0.0, 7.0, 8.0, 0.0, 0.0, 0.0, 0.0, 6.0, 7.0, 9.0, 0.0, 0.0, 9.0, 0.0, 0.0, 7.0, 7.0, 7.0, 8.0, 0.0, 7.0, 8.0, 7.0, 8.0, 8.0, 9.0, 9.0, 6.0, 6.0, 6.0, 0.0, 6.0, 6.0, 6.0, 6.0, 0.0, 0.0, 7.0, 5.0, 7.0, 5.0, 6.0, 5.0, 5.0, 5.0, 5.0, 5.0, 5.0, 6.0, 5.0, 6.0, 6.0, 0.0, 0.0, 6.0, 6.0, 7.0, 7.0, 7.0, 6.0, 6.0, 6.0, 7.0, 6.0, 5.0, 6.0, 6.0, 6.0, 6.0, 0.0, 6.0, 6.0, 7.0, 7.0, 0.0, 0.0, 0.0, 0.0, 6.0, 6.0, 6.0, 5.0, 5.0, 7.0, 6.0, 5.0, 7.0, 6.0, 7.0, 8.0, 0.0, 7.0, 0.0, 8.0, 8.0, 0.0, 0.0, 0.0, 0.0, 6.0, 7.0, 9.0, 0.0, 0.0, 0.0, 0.0, 0.0, 7.0, 7.0, 8.0, 7.0, 0.0, 7.0, 7.0, 7.0, 6.0, 8.0, 9.0, 0.0, 6.0, 6.0, 6.0, 5.0, 6.0, 6.0, 6.0, 6.0, 0.0, 0.0, 6.0, 6.0, 6.0, 6.0, 5.0, 6.0, 6.0, 6.0, 6.0, 6.0, 6.0, 6.0, 5.0, 6.0, 6.0, 0.0, 0.0, 6.0, 7.0, 7.0, 7.0, 6.0, 7.0, 7.0, 6.0, 6.0, 7.0, 6.0, 6.0, 6.0, 5.0, 6.0, 0.0, 6.0, 7.0, 7.0, 8.0, 0.0, 0.0, 0.0, 0.0, 6.0, 6.0, 6.0, 6.0, 5.0, 6.0, 6.0, 5.0, 8.0, 6.0, 8.0, 9.0, 0.0, 7.0, 0.0, 7.0, 8.0, 0.0, 0.0, 0.0, 0.0, 0.0, 6.0, 9.0, 0.0, 7.0, 8.0, 0.0, 0.0, 7.0, 7.0, 8.0, 8.0, 0.0, 8.0, 7.0, 7.0, 7.0, 9.0, 0.0, 0.0, 5.0, 6.0, 6.0, 0.0, 6.0, 7.0, 6.0, 6.0, 0.0, 0.0, 6.0, 7.0, 6.0, 6.0, 6.0, 6.0, 5.0, 7.0, 6.0, 6.0, 7.0, 6.0, 6.0, 6.0, 7.0, 0.0, 0.0, 6.0, 7.0, 7.0, 7.0, 6.0, 7.0, 6.0, 6.0, 6.0, 6.0, 6.0, 6.0, 6.0, 7.0, 7.0, 0.0, 6.0, 7.0, 7.0, 7.0, 0.0, 0.0, 0.0, 5.0, 6.0, 6.0, 6.0, 6.0, 7.0, 6.0, 6.0, 6.0, 8.0, 6.0, 8.0, 9.0, 0.0, 7.0, 0.0, 9.0, 8.0, 0.0, 0.0, 6.0, 7.0, 0.0, 7.0, 9.0, 0.0, 7.0, 9.0, 0.0, 0.0, 7.0, 7.0, 8.0, 8.0, 0.0, 7.0, 8.0, 0.0, 7.0, 8.0, 9.0, 9.0, 6.0, 6.0, 5.0, 6.0, 6.0, 7.0, 7.0, 7.0, 0.0, 0.0, 6.0, 6.0, 6.0, 6.0, 6.0, 6.0, 5.0, 6.0, 6.0, 6.0, 7.0, 6.0, 6.0, 6.0, 7.0, 0.0, 0.0, 6.0, 7.0, 7.0, 6.0, 6.0, 6.0, 6.0, 6.0, 6.0, 6.0, 6.0, 6.0, 6.0, 6.0, 7.0, 0.0, 6.0, 6.0, 6.0, 7.0, 0.0, 0.0, 0.0, 5.0, 6.0, 6.0, 6.0, 6.0, 7.0, 6.0, 6.0, 6.0, 7.0, 8.0, 8.0, 8.0, 0.0, 7.0, 0.0, 8.0, 8.0, 0.0, 0.0, 0.0, 0.0, 6.0, 7.0, 9.0, 0.0, 0.0, 9.0, 0.0, 0.0, 6.0, 7.0, 7.0, 8.0, 0.0, 8.0, 8.0, 8.0, 8.0, 9.0, 10.0, 9.0, 5.0, 5.0, 5.0, 5.0, 5.0, 6.0, 6.0, 6.0, 0.0, 0.0, 5.0, 5.0, 5.0, 6.0, 6.0, 5.0, 5.0, 5.0, 5.0, 6.0, 6.0, 5.0, 5.0, 6.0, 5.0, 0.0, 0.0, 6.0, 6.0, 5.0, 5.0, 5.0, 5.0, 5.0, 5.0, 6.0, 5.0, 5.0, 5.0, 5.0, 5.0, 6.0, 0.0, 5.0, 6.0, 7.0, 7.0, 0.0, 0.0, 0.0, 5.0, 6.0, 6.0, 6.0, 6.0, 7.0, 5.0, 5.0, 5.0, 7.0, 7.0, 8.0, 0.0, 0.0, 6.0, 0.0, 7.0, 8.0, 0.0, 0.0, 6.0, 7.0, 6.0, 7.0, 8.0, 0.0, 6.0, 7.0, 0.0, 0.0, 6.0, 7.0, 7.0, 7.0, 0.0, 6.0, 7.0, 7.0, 7.0, 7.0, 9.0, 8.0, 6.0, 5.0, 6.0, 5.0, 5.0, 6.0, 0.0, 6.0, 0.0, 0.0, 6.0, 6.0, 5.0, 6.0, 0.0, 7.0, 5.0, 6.0, 6.0, 6.0, 5.0, 5.0, 5.0, 6.0, 6.0, 0.0, 0.0, 6.0, 6.0, 6.0, 6.0, 0.0, 7.0, 7.0, 5.0, 6.0, 7.0, 6.0, 6.0, 5.0, 5.0, 6.0, 6.0, 5.0, 7.0, 7.0, 6.0, 0.0, 5.0, 0.0, 0.0, 5.0, 6.0, 5.0, 6.0, 7.0, 6.0, 6.0, 5.0, 7.0, 6.0, 8.0, 8.0, 0.0, 8.0, 7.0, 7.0, 8.0, 0.0, 0.0, 0.0, 7.0, 6.0, 6.0, 8.0, 0.0, 8.0, 9.0, 0.0, 0.0, 7.0, 7.0, 7.0, 8.0, 0.0, 7.0, 8.0, 7.0, 7.0, 8.0, 8.0, 8.0, 6.0, 5.0, 6.0, 0.0, 5.0, 7.0, 0.0, 6.0, 0.0, 0.0, 6.0, 6.0, 5.0, 6.0, 6.0, 6.0, 5.0, 6.0, 6.0, 6.0, 7.0, 5.0, 5.0, 6.0, 8.0, 0.0, 0.0, 6.0, 6.0, 6.0, 7.0, 0.0, 6.0, 6.0, 6.0, 6.0, 6.0, 6.0, 6.0, 6.0, 6.0, 6.0, 0.0, 5.0, 7.0, 6.0, 7.0, 0.0, 0.0, 0.0, 0.0, 6.0, 6.0, 6.0, 6.0, 7.0, 6.0, 6.0, 6.0, 7.0, 8.0, 8.0, 8.0, 0.0, 7.0, 0.0, 7.0, 9.0, 0.0, 0.0, 0.0, 7.0, 6.0, 7.0, 9.0, 0.0, 6.0, 8.0, 0.0, 0.0, 6.0, 8.0, 7.0, 7.0, 0.0, 6.0, 7.0, 0.0, 7.0, 7.0, 9.0, 0.0, 0.0, 5.0, 5.0, 5.0, 6.0, 6.0, 0.0, 5.0, 0.0, 0.0, 6.0, 6.0, 5.0, 6.0, 0.0, 6.0, 5.0, 6.0, 6.0, 6.0, 6.0, 7.0, 6.0, 6.0, 6.0, 0.0, 0.0, 5.0, 5.0, 7.0, 6.0, 6.0, 6.0, 6.0, 6.0, 6.0, 6.0, 6.0, 6.0, 6.0, 5.0, 0.0, 0.0, 5.0, 6.0, 6.0, 7.0, 0.0, 0.0, 0.0, 5.0, 6.0, 6.0, 6.0, 6.0, 7.0, 6.0, 6.0, 6.0, 7.0, 6.0, 8.0, 0.0, 0.0, 8.0, 7.0, 9.0, 8.0, 0.0, 0.0, 0.0, 6.0, 6.0, 6.0, 8.0, 0.0, 8.0, 8.0, 0.0, 0.0, 7.0, 7.0, 7.0, 7.0, 0.0, 8.0, 7.0, 7.0, 7.0, 8.0, 8.0, 8.0, 5.0, 5.0, 5.0, 5.0, 5.0, 6.0, 0.0, 6.0, 0.0, 0.0, 5.0, 6.0, 5.0, 6.0, 6.0, 6.0, 5.0, 7.0, 6.0, 6.0, 7.0, 6.0, 6.0, 6.0, 5.0, 0.0, 0.0, 5.0, 6.0, 6.0, 6.0, 0.0, 6.0, 6.0, 5.0, 6.0, 6.0, 6.0, 6.0, 6.0, 5.0, 5.0, 5.0, 5.0, 7.0, 7.0, 6.0, 0.0, 0.0, 0.0, 0.0, 6.0, 6.0, 6.0, 6.0, 7.0, 6.0, 5.0, 5.0, 6.0, 6.0, 8.0, 0.0, 0.0, 7.0, 6.0, 7.0, 7.0, 0.0, 0.0, 0.0, 6.0, 6.0, 6.0, 8.0, 0.0, 7.0, 8.0, 0.0, 0.0, 6.0, 7.0, 7.0, 7.0, 0.0, 6.0, 7.0, 7.0, 6.0, 7.0, 8.0, 7.0, 6.0, 6.0, 5.0, 5.0, 6.0, 7.0, 0.0, 5.0, 0.0, 0.0, 6.0, 7.0, 6.0, 6.0, 6.0, 6.0, 5.0, 7.0, 6.0, 6.0, 7.0, 6.0, 5.0, 6.0, 7.0, 0.0, 0.0, 6.0, 6.0, 6.0, 6.0, 0.0, 6.0, 6.0, 6.0, 6.0, 6.0, 6.0, 6.0, 6.0, 5.0, 0.0, 0.0, 5.0, 7.0, 7.0, 7.0, 0.0, 0.0, 0.0, 0.0, 6.0, 6.0, 6.0, 6.0, 7.0, 6.0, 6.0, 5.0, 8.0, 8.0, 8.0, 0.0, 0.0, 7.0, 7.0, 7.0, 9.0, 0.0, 0.0, 0.0, 8.0, 6.0, 8.0, 8.0, 0.0, 7.0, 8.0, 0.0, 0.0, 7.0, 7.0, 8.0, 8.0, 0.0, 6.0, 7.0, 0.0, 7.0, 7.0, 9.0, 0.0, 5.0, 5.0, 5.0, 5.0, 5.0, 6.0, 0.0, 6.0, 0.0, 0.0, 5.0, 5.0, 5.0, 5.0, 5.0, 6.0, 5.0, 5.0, 5.0, 6.0, 6.0, 5.0, 5.0, 6.0, 7.0, 0.0, 0.0, 6.0, 6.0, 5.0, 5.0, 5.0, 5.0, 5.0, 5.0, 6.0, 5.0, 5.0, 6.0, 5.0, 5.0, 0.0, 0.0, 5.0, 6.0, 6.0, 7.0, 0.0, 5.0, 0.0, 5.0, 6.0, 6.0, 6.0, 6.0, 6.0, 5.0, 6.0, 5.0, 7.0, 7.0, 8.0, 0.0, 0.0, 6.0, 6.0, 7.0, 8.0, 0.0, 0.0, 0.0, 6.0, 6.0, 6.0, 8.0, 0.0, 7.0, 7.0, 0.0, 0.0, 7.0, 7.0, 7.0, 7.0, 0.0, 6.0, 7.0, 7.0, 6.0, 7.0, 8.0, 0.0, 5.0, 6.0, 5.0, 6.0, 6.0, 6.0, 0.0, 5.0, 0.0, 0.0, 6.0, 6.0, 6.0, 6.0, 6.0, 6.0, 6.0, 6.0, 6.0, 6.0, 7.0, 6.0, 7.0, 6.0, 5.0, 0.0, 0.0, 5.0, 5.0, 5.0, 5.0, 0.0, 6.0, 6.0, 6.0, 6.0, 6.0, 7.0, 7.0, 6.0, 6.0, 0.0, 0.0, 6.0, 7.0, 7.0, 5.0, 0.0, 6.0, 0.0, 6.0, 6.0, 6.0, 6.0, 6.0, 7.0, 7.0, 7.0, 7.0, 7.0, 7.0, 8.0, 0.0, 0.0, 8.0, 7.0, 7.0, 8.0, 7.0, 0.0, 7.0, 9.0, 8.0, 8.0, 8.0, 0.0, 0.0, 7.0, 0.0, 0.0, 6.0, 6.0, 6.0, 7.0, 7.0, 8.0, 7.0, 9.0, 8.0, 9.0, 10.0, 0.0, 0.0, 5.0, 5.0, 0.0, 5.0, 7.0, 0.0, 6.0, 0.0, 0.0, 6.0, 6.0, 5.0, 6.0, 6.0, 6.0, 5.0, 6.0, 6.0, 6.0, 5.0, 7.0, 6.0, 6.0, 6.0, 0.0, 0.0, 6.0, 5.0, 6.0, 6.0, 6.0, 6.0, 6.0, 6.0, 6.0, 6.0, 6.0, 6.0, 6.0, 6.0, 0.0, 0.0, 6.0, 6.0, 6.0, 6.0, 0.0, 5.0, 0.0, 5.0, 6.0, 6.0, 6.0, 6.0, 5.0, 6.0, 6.0, 6.0, 7.0, 6.0, 8.0, 0.0, 0.0, 7.0, 7.0, 8.0, 8.0, 0.0, 0.0, 0.0, 7.0, 6.0, 6.0, 8.0, 0.0, 7.0, 8.0, 0.0, 0.0, 6.0, 6.0, 7.0, 7.0, 0.0, 8.0, 7.0, 7.0, 7.0, 8.0, 8.0, 0.0, 6.0, 6.0, 5.0, 6.0, 6.0, 7.0, 0.0, 6.0, 0.0, 0.0, 6.0, 6.0, 6.0, 6.0, 6.0, 6.0, 6.0, 6.0, 7.0, 6.0, 7.0, 6.0, 7.0, 6.0, 8.0, 0.0, 0.0, 5.0, 5.0, 5.0, 6.0, 0.0, 6.0, 6.0, 7.0, 6.0, 7.0, 7.0, 7.0, 6.0, 0.0, 0.0, 0.0, 6.0, 8.0, 8.0, 7.0, 0.0, 6.0, 0.0, 6.0, 6.0, 6.0, 6.0, 6.0, 6.0, 7.0, 7.0, 7.0, 7.0, 7.0, 8.0, 0.0, 0.0, 8.0, 8.0, 7.0, 8.0, 8.0, 0.0, 7.0, 9.0, 8.0, 8.0, 9.0, 0.0, 0.0, 9.0, 0.0, 0.0, 6.0, 7.0, 7.0, 8.0, 9.0, 9.0, 9.0, 8.0, 9.0, 9.0, 9.0, 0.0, 5.0, 6.0, 5.0, 6.0, 6.0, 5.0, 0.0, 5.0, 0.0, 0.0, 6.0, 6.0, 6.0, 6.0, 6.0, 6.0, 6.0, 6.0, 6.0, 6.0, 6.0, 6.0, 6.0, 6.0, 5.0, 0.0, 0.0, 5.0, 5.0, 5.0, 6.0, 0.0, 6.0, 6.0, 6.0, 6.0, 6.0, 7.0, 7.0, 6.0, 6.0, 0.0, 0.0, 0.0, 7.0, 7.0, 6.0, 0.0, 6.0, 0.0, 6.0, 6.0, 6.0, 6.0, 6.0, 6.0, 7.0, 6.0, 7.0, 7.0, 7.0, 8.0, 0.0, 0.0, 8.0, 7.0, 7.0, 8.0, 7.0, 0.0, 7.0, 9.0, 8.0, 8.0, 8.0, 0.0, 0.0, 7.0, 0.0, 0.0, 6.0, 6.0, 6.0, 7.0, 7.0, 8.0, 7.0, 7.0, 8.0, 9.0, 10.0, 0.0, 5.0, 5.0, 5.0, 6.0, 6.0, 6.0, 0.0, 5.0, 0.0, 0.0, 6.0, 5.0, 6.0, 6.0, 6.0, 6.0, 5.0, 5.0, 5.0, 6.0, 5.0, 6.0, 6.0, 5.0, 0.0, 0.0, 0.0, 6.0, 5.0, 5.0, 5.0, 0.0, 6.0, 6.0, 6.0, 6.0, 6.0, 6.0, 6.0, 6.0, 5.0, 0.0, 0.0, 5.0, 7.0, 6.0, 5.0, 0.0, 6.0, 0.0, 5.0, 6.0, 6.0, 6.0, 6.0, 6.0, 7.0, 7.0, 7.0, 7.0, 6.0, 7.0, 0.0, 0.0, 8.0, 0.0, 7.0, 6.0, 0.0, 0.0, 6.0, 8.0, 7.0, 7.0, 7.0, 0.0, 0.0, 7.0, 0.0, 6.0, 7.0, 6.0, 7.0, 7.0, 0.0, 7.0, 7.0, 8.0, 7.0, 8.0, 8.0, 0.0, 0.0, 6.0, 5.0, 6.0, 6.0, 6.0, 0.0, 5.0, 0.0, 0.0, 6.0, 5.0, 6.0, 6.0, 6.0, 6.0, 5.0, 6.0, 6.0, 6.0, 5.0, 7.0, 6.0, 5.0, 5.0, 0.0, 0.0, 6.0, 5.0, 5.0, 5.0, 0.0, 6.0, 6.0, 6.0, 6.0, 6.0, 6.0, 6.0, 6.0, 7.0, 0.0, 0.0, 5.0, 6.0, 6.0, 5.0, 0.0, 5.0, 0.0, 0.0, 6.0, 6.0, 6.0, 6.0, 6.0, 7.0, 6.0, 6.0, 7.0, 6.0, 8.0, 0.0, 0.0, 7.0, 6.0, 7.0, 8.0, 0.0, 0.0, 0.0, 7.0, 6.0, 7.0, 8.0, 0.0, 0.0, 7.0, 0.0, 6.0, 6.0, 6.0, 7.0, 7.0, 0.0, 7.0, 7.0, 7.0, 7.0, 7.0, 8.0, 0.0, 6.0, 6.0, 5.0, 6.0, 6.0, 5.0, 0.0, 5.0, 0.0, 0.0, 6.0, 5.0, 6.0, 6.0, 6.0, 6.0, 5.0, 5.0, 6.0, 6.0, 6.0, 7.0, 6.0, 5.0, 5.0, 0.0, 0.0, 6.0, 6.0, 6.0, 6.0, 0.0, 6.0, 6.0, 6.0, 6.0, 6.0, 6.0, 6.0, 6.0, 5.0, 0.0, 0.0, 5.0, 7.0, 7.0, 5.0, 0.0, 5.0, 0.0, 0.0, 6.0, 6.0, 6.0, 6.0, 6.0, 6.0, 6.0, 6.0, 7.0, 6.0, 8.0, 0.0, 0.0, 7.0, 6.0, 7.0, 7.0, 0.0, 0.0, 6.0, 7.0, 6.0, 7.0, 6.0, 0.0, 0.0, 7.0, 0.0, 6.0, 6.0, 6.0, 7.0, 7.0, 0.0, 7.0, 8.0, 7.0, 7.0, 7.0, 8.0, 0.0, 0.0, 5.0, 5.0, 5.0, 6.0, 6.0, 0.0, 5.0, 0.0, 0.0, 5.0, 6.0, 5.0, 6.0, 5.0, 6.0, 5.0, 5.0, 5.0, 6.0, 6.0, 5.0, 5.0, 6.0, 5.0, 0.0, 0.0, 6.0, 6.0, 5.0, 5.0, 0.0, 5.0, 6.0, 5.0, 6.0, 6.0, 5.0, 6.0, 6.0, 5.0, 0.0, 0.0, 5.0, 5.0, 5.0, 5.0, 0.0, 5.0, 0.0, 5.0, 6.0, 6.0, 6.0, 6.0, 6.0, 6.0, 5.0, 5.0, 7.0, 6.0, 8.0, 0.0, 0.0, 7.0, 6.0, 7.0, 8.0, 0.0, 0.0, 0.0, 6.0, 6.0, 7.0, 0.0, 0.0, 0.0, 7.0, 0.0, 6.0, 6.0, 6.0, 7.0, 7.0, 0.0, 6.0, 7.0, 7.0, 7.0, 7.0, 0.0, 0.0, 5.0, 6.0, 6.0, 6.0, 6.0, 6.0, 0.0, 6.0, 0.0, 0.0, 6.0, 6.0, 6.0, 6.0, 6.0, 6.0, 5.0, 6.0, 6.0, 6.0, 5.0, 6.0, 6.0, 6.0, 5.0, 0.0, 5.0, 7.0, 6.0, 6.0, 6.0, 0.0, 6.0, 6.0, 6.0, 6.0, 7.0, 6.0, 6.0, 6.0, 6.0, 0.0, 0.0, 5.0, 7.0, 7.0, 5.0, 0.0, 5.0, 0.0, 5.0, 6.0, 6.0, 6.0, 6.0, 5.0, 6.0, 6.0, 6.0, 6.0, 6.0, 7.0, 0.0, 0.0, 7.0, 6.0, 8.0, 7.0, 6.0, 0.0, 6.0, 7.0, 6.0, 6.0, 7.0, 0.0, 0.0, 7.0, 0.0, 6.0, 6.0, 6.0, 6.0, 7.0, 8.0, 8.0, 8.0, 7.0, 7.0, 8.0, 8.0, 0.0, 5.0, 6.0, 6.0, 6.0, 6.0, 7.0, 0.0, 6.0, 0.0, 0.0, 6.0, 6.0, 7.0, 6.0, 6.0, 6.0, 6.0, 6.0, 6.0, 6.0, 7.0, 6.0, 6.0, 7.0, 6.0, 0.0, 0.0, 5.0, 6.0, 6.0, 6.0, 0.0, 6.0, 6.0, 6.0, 6.0, 6.0, 7.0, 7.0, 6.0, 0.0, 0.0, 0.0, 6.0, 6.0, 7.0, 6.0, 0.0, 6.0, 0.0, 6.0, 6.0, 6.0, 6.0, 6.0, 7.0, 7.0, 6.0, 7.0, 7.0, 6.0, 8.0, 0.0, 0.0, 9.0, 8.0, 7.0, 7.0, 0.0, 0.0, 7.0, 8.0, 8.0, 8.0, 8.0, 0.0, 0.0, 9.0, 0.0, 6.0, 7.0, 7.0, 8.0, 8.0, 8.0, 8.0, 9.0, 10.0, 8.0, 10.0, 9.0, 0.0, 5.0, 6.0, 6.0, 6.0, 6.0, 7.0, 0.0, 6.0, 0.0, 0.0, 6.0, 7.0, 6.0, 6.0, 6.0, 6.0, 6.0, 7.0, 6.0, 6.0, 7.0, 7.0, 6.0, 7.0, 6.0, 0.0, 0.0, 6.0, 6.0, 6.0, 7.0, 6.0, 6.0, 6.0, 6.0, 6.0, 6.0, 7.0, 6.0, 6.0, 6.0, 0.0, 0.0, 6.0, 6.0, 7.0, 6.0, 0.0, 6.0, 0.0, 0.0, 6.0, 6.0, 6.0, 6.0, 6.0, 7.0, 6.0, 8.0, 0.0, 0.0, 8.0, 7.0, 9.0, 8.0, 0.0, 0.0, 6.0, 8.0, 8.0, 7.0, 9.0, 0.0, 0.0, 9.0, 0.0, 0.0, 6.0, 8.0, 8.0, 8.0, 7.0, 8.0, 8.0, 8.0, 7.0, 8.0, 8.0, 9.0, 0.0, 6.0, 6.0, 6.0, 6.0, 7.0, 0.0, 6.0, 0.0, 0.0, 6.0, 7.0, 6.0, 6.0, 6.0, 6.0, 6.0, 7.0, 6.0, 6.0, 8.0, 6.0, 7.0, 7.0, 8.0, 0.0, 0.0, 7.0, 6.0, 6.0, 8.0, 0.0, 6.0, 7.0, 6.0, 6.0, 7.0, 7.0, 7.0, 6.0, 5.0, 0.0, 0.0, 6.0, 7.0, 8.0, 7.0, 0.0, 6.0, 0.0, 6.0, 6.0, 6.0, 6.0, 6.0, 7.0, 7.0, 7.0, 7.0, 7.0, 8.0, 8.0, 0.0, 0.0, 8.0, 7.0, 7.0, 8.0, 0.0, 0.0, 7.0, 9.0, 8.0, 8.0, 9.0, 0.0, 0.0, 8.0, 0.0, 0.0, 6.0, 7.0, 7.0, 7.0, 0.0, 9.0, 8.0, 10.0, 9.0, 10.0, 9.0, 0.0, 5.0, 5.0, 5.0, 5.0, 5.0, 5.0, 0.0, 5.0, 0.0, 0.0, 5.0, 5.0, 5.0, 6.0, 0.0, 5.0, 5.0, 5.0, 5.0, 6.0, 6.0, 5.0, 5.0, 5.0, 5.0, 0.0, 0.0, 6.0, 5.0, 5.0, 5.0, 0.0, 5.0, 5.0, 5.0, 6.0, 5.0, 5.0, 6.0, 6.0, 5.0, 0.0, 0.0, 5.0, 5.0, 6.0, 5.0, 0.0, 5.0, 0.0, 5.0, 6.0, 6.0, 6.0, 6.0, 6.0, 6.0, 6.0, 5.0, 7.0, 7.0, 8.0, 0.0, 0.0, 6.0, 6.0, 7.0, 7.0, 0.0, 0.0, 0.0, 6.0, 6.0, 6.0, 8.0, 0.0, 0.0, 6.0, 0.0, 6.0, 6.0, 6.0, 7.0, 7.0, 7.0, 6.0, 7.0, 7.0, 6.0, 7.0, 0.0, 0.0, 0.0, 0.0, 6.0, 6.0, 6.0, 7.0, 7.0, 6.0, 6.0, 0.0, 6.0, 6.0, 6.0, 6.0, 0.0, 5.0, 0.0, 5.0, 6.0, 6.0, 6.0, 5.0, 5.0, 5.0, 6.0, 0.0, 0.0, 6.0, 5.0, 6.0, 5.0, 5.0, 6.0, 6.0, 6.0, 6.0, 6.0, 6.0, 6.0, 5.0, 6.0, 5.0, 0.0, 6.0, 6.0, 6.0, 5.0, 0.0, 5.0, 0.0, 0.0, 6.0, 6.0, 6.0, 6.0, 6.0, 5.0, 5.0, 6.0, 7.0, 7.0, 7.0, 8.0, 0.0, 7.0, 0.0, 6.0, 6.0, 0.0, 0.0, 0.0, 7.0, 7.0, 7.0, 7.0, 0.0, 8.0, 8.0, 0.0, 0.0, 6.0, 5.0, 7.0, 7.0, 0.0, 7.0, 0.0, 6.0, 7.0, 0.0, 7.0, 7.0, 5.0, 0.0, 5.0, 6.0, 6.0, 6.0, 5.0, 5.0, 5.0, 0.0, 6.0, 6.0, 6.0, 6.0, 6.0, 6.0, 0.0, 6.0, 6.0, 6.0, 7.0, 7.0, 6.0, 6.0, 6.0, 0.0, 0.0, 5.0, 5.0, 5.0, 6.0, 6.0, 6.0, 6.0, 6.0, 6.0, 6.0, 6.0, 6.0, 6.0, 6.0, 6.0, 5.0, 6.0, 6.0, 7.0, 6.0, 0.0, 0.0, 0.0, 5.0, 6.0, 6.0, 6.0, 6.0, 6.0, 6.0, 6.0, 6.0, 7.0, 8.0, 9.0, 8.0, 0.0, 7.0, 0.0, 6.0, 7.0, 0.0, 0.0, 0.0, 8.0, 0.0, 7.0, 8.0, 0.0, 8.0, 8.0, 0.0, 0.0, 5.0, 6.0, 7.0, 7.0, 0.0, 7.0, 7.0, 8.0, 7.0, 7.0, 7.0, 8.0, 5.0, 6.0, 5.0, 6.0, 6.0, 6.0, 6.0, 5.0, 0.0, 0.0, 6.0, 6.0, 6.0, 6.0, 6.0, 6.0, 5.0, 6.0, 6.0, 6.0, 7.0, 7.0, 6.0, 6.0, 6.0, 0.0, 0.0, 6.0, 5.0, 5.0, 6.0, 6.0, 6.0, 6.0, 6.0, 6.0, 6.0, 6.0, 6.0, 6.0, 0.0, 6.0, 0.0, 6.0, 6.0, 7.0, 6.0, 0.0, 0.0, 0.0, 0.0, 6.0, 6.0, 6.0, 6.0, 7.0, 6.0, 6.0, 7.0, 7.0, 8.0, 8.0, 8.0, 0.0, 8.0, 0.0, 6.0, 7.0, 0.0, 0.0, 6.0, 8.0, 7.0, 7.0, 8.0, 0.0, 8.0, 9.0, 0.0, 0.0, 5.0, 6.0, 6.0, 7.0, 0.0, 7.0, 7.0, 8.0, 8.0, 7.0, 7.0, 8.0, 6.0, 0.0, 5.0, 5.0, 5.0, 6.0, 6.0, 5.0, 0.0, 0.0, 6.0, 6.0, 6.0, 6.0, 6.0, 6.0, 5.0, 5.0, 6.0, 6.0, 6.0, 5.0, 5.0, 5.0, 6.0, 0.0, 0.0, 6.0, 5.0, 6.0, 6.0, 5.0, 6.0, 6.0, 6.0, 5.0, 7.0, 6.0, 5.0, 5.0, 5.0, 6.0, 0.0, 5.0, 6.0, 6.0, 5.0, 0.0, 0.0, 0.0, 0.0, 6.0, 6.0, 6.0, 6.0, 7.0, 5.0, 5.0, 6.0, 7.0, 6.0, 8.0, 8.0, 0.0, 7.0, 0.0, 6.0, 5.0, 0.0, 0.0, 0.0, 7.0, 6.0, 7.0, 7.0, 0.0, 8.0, 9.0, 0.0, 0.0, 6.0, 6.0, 6.0, 8.0, 0.0, 8.0, 8.0, 7.0, 6.0, 7.0, 7.0, 7.0, 6.0, 5.0, 6.0, 6.0, 6.0, 6.0, 5.0, 5.0, 5.0, 0.0, 6.0, 6.0, 6.0, 6.0, 6.0, 6.0, 6.0, 6.0, 6.0, 6.0, 7.0, 5.0, 6.0, 5.0, 5.0, 0.0, 0.0, 5.0, 5.0, 5.0, 5.0, 0.0, 6.0, 7.0, 6.0, 6.0, 6.0, 7.0, 5.0, 6.0, 0.0, 5.0, 0.0, 6.0, 7.0, 7.0, 5.0, 0.0, 5.0, 0.0, 0.0, 6.0, 6.0, 6.0, 6.0, 7.0, 5.0, 0.0, 7.0, 7.0, 9.0, 9.0, 9.0, 7.0, 7.0, 0.0, 6.0, 5.0, 6.0, 0.0, 7.0, 9.0, 8.0, 8.0, 9.0, 0.0, 6.0, 0.0, 0.0, 0.0, 5.0, 5.0, 5.0, 6.0, 7.0, 7.0, 7.0, 7.0, 7.0, 7.0, 7.0, 7.0, 6.0, 6.0, 6.0, 6.0, 6.0, 7.0, 0.0, 6.0, 0.0, 0.0, 6.0, 7.0, 6.0, 6.0, 6.0, 7.0, 5.0, 7.0, 6.0, 6.0, 7.0, 6.0, 6.0, 6.0, 7.0, 0.0, 0.0, 6.0, 6.0, 6.0, 6.0, 6.0, 6.0, 6.0, 6.0, 6.0, 7.0, 6.0, 6.0, 6.0, 7.0, 7.0, 0.0, 6.0, 6.0, 7.0, 6.0, 0.0, 0.0, 0.0, 0.0, 6.0, 6.0, 6.0, 6.0, 7.0, 6.0, 6.0, 6.0, 8.0, 8.0, 8.0, 9.0, 0.0, 8.0, 0.0, 7.0, 7.0, 0.0, 0.0, 6.0, 7.0, 8.0, 7.0, 9.0, 0.0, 8.0, 9.0, 0.0, 0.0, 6.0, 7.0, 8.0, 8.0, 7.0, 8.0, 7.0, 7.0, 9.0, 8.0, 9.0, 9.0, 6.0, 6.0, 6.0, 6.0, 6.0, 7.0, 0.0, 6.0, 0.0, 0.0, 6.0, 7.0, 6.0, 6.0, 6.0, 6.0, 6.0, 7.0, 6.0, 6.0, 8.0, 7.0, 6.0, 7.0, 7.0, 0.0, 0.0, 6.0, 6.0, 6.0, 6.0, 7.0, 7.0, 7.0, 6.0, 6.0, 7.0, 7.0, 6.0, 7.0, 6.0, 6.0, 0.0, 6.0, 7.0, 8.0, 6.0, 0.0, 0.0, 0.0, 5.0, 6.0, 6.0, 6.0, 6.0, 7.0, 7.0, 7.0, 8.0, 8.0, 9.0, 9.0, 0.0, 0.0, 8.0, 0.0, 8.0, 7.0, 0.0, 0.0, 7.0, 9.0, 8.0, 8.0, 9.0, 0.0, 8.0, 9.0, 0.0, 0.0, 7.0, 7.0, 8.0, 8.0, 9.0, 7.0, 9.0, 9.0, 10.0, 10.0, 10.0, 9.0, 6.0, 6.0, 5.0, 6.0, 6.0, 7.0, 0.0, 6.0, 0.0, 0.0, 6.0, 6.0, 6.0, 6.0, 6.0, 6.0, 6.0, 6.0, 6.0, 6.0, 7.0, 5.0, 6.0, 5.0, 6.0, 0.0, 0.0, 5.0, 5.0, 5.0, 6.0, 6.0, 6.0, 6.0, 6.0, 6.0, 6.0, 7.0, 6.0, 5.0, 6.0, 6.0, 0.0, 6.0, 6.0, 7.0, 5.0, 0.0, 5.0, 0.0, 0.0, 6.0, 6.0, 6.0, 6.0, 7.0, 6.0, 5.0, 7.0, 7.0, 8.0, 8.0, 8.0, 0.0, 7.0, 0.0, 6.0, 6.0, 0.0, 0.0, 7.0, 9.0, 8.0, 8.0, 9.0, 0.0, 7.0, 0.0, 0.0, 0.0, 6.0, 6.0, 6.0, 8.0, 8.0, 7.0, 8.0, 8.0, 8.0, 8.0, 8.0, 8.0, 5.0, 6.0, 5.0, 6.0, 6.0, 6.0, 0.0, 5.0, 0.0, 0.0, 6.0, 6.0, 5.0, 6.0, 6.0, 6.0, 6.0, 6.0, 6.0, 6.0, 7.0, 6.0, 6.0, 5.0, 5.0, 0.0, 0.0, 5.0, 0.0, 5.0, 5.0, 5.0, 6.0, 6.0, 6.0, 6.0, 6.0, 7.0, 6.0, 6.0, 6.0, 0.0, 0.0, 0.0, 6.0, 7.0, 5.0, 0.0, 0.0, 0.0, 0.0, 6.0, 6.0, 6.0, 6.0, 7.0, 5.0, 5.0, 7.0, 7.0, 8.0, 8.0, 8.0, 0.0, 7.0, 0.0, 6.0, 6.0, 0.0, 0.0, 7.0, 9.0, 8.0, 8.0, 8.0, 0.0, 0.0, 8.0, 0.0, 0.0, 6.0, 6.0, 6.0, 7.0, 8.0, 8.0, 8.0, 8.0, 8.0, 7.0, 7.0, 8.0, 5.0, 6.0, 6.0, 6.0, 6.0, 7.0, 0.0, 6.0, 0.0, 0.0, 6.0, 6.0, 6.0, 6.0, 0.0, 6.0, 6.0, 6.0, 6.0, 6.0, 7.0, 7.0, 6.0, 6.0, 5.0, 0.0, 0.0, 5.0, 5.0, 6.0, 6.0, 6.0, 6.0, 6.0, 6.0, 6.0, 7.0, 6.0, 6.0, 6.0, 5.0, 5.0, 0.0, 6.0, 6.0, 7.0, 5.0, 0.0, 0.0, 0.0, 0.0, 6.0, 6.0, 6.0, 6.0, 7.0, 6.0, 6.0, 6.0, 7.0, 7.0, 8.0, 7.0, 0.0, 8.0, 6.0, 7.0, 7.0, 0.0, 0.0, 7.0, 8.0, 8.0, 7.0, 7.0, 0.0, 8.0, 8.0, 0.0, 0.0, 7.0, 6.0, 7.0, 7.0, 7.0, 8.0, 8.0, 8.0, 7.0, 8.0, 7.0, 8.0, 6.0, 6.0, 6.0, 6.0, 7.0, 7.0, 0.0, 6.0, 0.0, 0.0, 6.0, 6.0, 7.0, 6.0, 6.0, 6.0, 6.0, 7.0, 6.0, 6.0, 5.0, 7.0, 6.0, 7.0, 6.0, 0.0, 0.0, 6.0, 6.0, 6.0, 6.0, 7.0, 7.0, 6.0, 6.0, 7.0, 7.0, 7.0, 6.0, 6.0, 0.0, 0.0, 0.0, 6.0, 6.0, 7.0, 6.0, 0.0, 7.0, 0.0, 0.0, 6.0, 6.0, 6.0, 6.0, 7.0, 7.0, 6.0, 7.0, 7.0, 6.0, 8.0, 8.0, 0.0, 9.0, 8.0, 7.0, 7.0, 0.0, 0.0, 7.0, 8.0, 8.0, 8.0, 9.0, 0.0, 8.0, 9.0, 0.0, 0.0, 7.0, 8.0, 8.0, 8.0, 7.0, 8.0, 8.0, 9.0, 9.0, 9.0, 9.0, 9.0, 6.0, 6.0, 6.0, 6.0, 6.0, 7.0, 0.0, 6.0, 0.0, 0.0, 6.0, 7.0, 7.0, 6.0, 6.0, 7.0, 6.0, 7.0, 6.0, 6.0, 7.0, 7.0, 6.0, 7.0, 7.0, 0.0, 0.0, 6.0, 7.0, 7.0, 7.0, 0.0, 7.0, 7.0, 6.0, 7.0, 7.0, 7.0, 7.0, 7.0, 7.0, 0.0, 0.0, 6.0, 7.0, 7.0, 8.0, 0.0, 6.0, 0.0, 0.0, 6.0, 6.0, 6.0, 6.0, 7.0, 7.0, 7.0, 7.0, 8.0, 6.0, 7.0, 8.0, 0.0, 9.0, 7.0, 8.0, 7.0, 8.0, 0.0, 8.0, 9.0, 8.0, 8.0, 9.0, 0.0, 0.0, 8.0, 0.0, 0.0, 7.0, 7.0, 9.0, 8.0, 9.0, 9.0, 9.0, 10.0, 10.0, 10.0, 10.0, 10.0, 6.0, 6.0, 5.0, 6.0, 6.0, 7.0, 0.0, 5.0, 0.0, 0.0, 6.0, 7.0, 6.0, 6.0, 6.0, 6.0, 6.0, 6.0, 6.0, 6.0, 6.0, 7.0, 6.0, 6.0, 5.0, 0.0, 0.0, 6.0, 5.0, 6.0, 6.0, 6.0, 6.0, 6.0, 6.0, 6.0, 6.0, 7.0, 6.0, 6.0, 5.0, 0.0, 0.0, 6.0, 6.0, 7.0, 5.0, 0.0, 6.0, 0.0, 5.0, 6.0, 6.0, 6.0, 6.0, 7.0, 7.0, 6.0, 7.0, 7.0, 6.0, 7.0, 0.0, 0.0, 8.0, 7.0, 7.0, 7.0, 0.0, 0.0, 7.0, 8.0, 8.0, 7.0, 8.0, 0.0, 8.0, 8.0, 0.0, 0.0, 6.0, 6.0, 7.0, 7.0, 0.0, 8.0, 7.0, 9.0, 7.0, 8.0, 9.0, 8.0, 6.0, 6.0, 5.0, 6.0, 6.0, 6.0, 0.0, 5.0, 0.0, 0.0, 6.0, 6.0, 6.0, 6.0, 6.0, 6.0, 6.0, 5.0, 6.0, 6.0, 6.0, 6.0, 6.0, 5.0, 6.0, 0.0, 0.0, 5.0, 5.0, 5.0, 5.0, 0.0, 6.0, 6.0, 6.0, 5.0, 7.0, 6.0, 6.0, 5.0, 0.0, 0.0, 6.0, 7.0, 7.0, 5.0, 0.0, 6.0, 0.0, 0.0, 6.0, 6.0, 6.0, 6.0, 6.0, 7.0, 6.0, 7.0, 7.0, 7.0, 7.0, 0.0, 0.0, 8.0, 6.0, 6.0, 7.0, 7.0, 0.0, 6.0, 8.0, 8.0, 8.0, 9.0, 0.0, 0.0, 7.0, 0.0, 0.0, 6.0, 6.0, 6.0, 7.0, 7.0, 9.0, 8.0, 8.0, 7.0, 8.0, 7.0, 0.0, 6.0, 6.0, 6.0, 6.0, 7.0, 7.0, 0.0, 6.0, 0.0, 0.0, 6.0, 7.0, 7.0, 6.0, 6.0, 6.0, 6.0, 5.0, 6.0, 6.0, 6.0, 6.0, 7.0, 6.0, 7.0, 0.0, 0.0, 6.0, 6.0, 6.0, 6.0, 0.0, 6.0, 6.0, 6.0, 6.0, 7.0, 7.0, 7.0, 7.0, 6.0, 0.0, 0.0, 6.0, 7.0, 7.0, 5.0, 0.0, 6.0, 0.0, 0.0, 6.0, 6.0, 6.0, 6.0, 7.0, 7.0, 7.0, 7.0, 7.0, 7.0, 7.0, 0.0, 0.0, 9.0, 7.0, 7.0, 7.0, 6.0, 0.0, 7.0, 9.0, 8.0, 8.0, 9.0, 0.0, 0.0, 8.0, 0.0, 0.0, 6.0, 7.0, 6.0, 8.0, 8.0, 8.0, 8.0, 7.0, 8.0, 9.0, 8.0, 0.0]\n"
          ],
          "name": "stdout"
        }
      ]
    },
    {
      "cell_type": "code",
      "metadata": {
        "id": "uy5qEDll8Z6f"
      },
      "source": [
        "y_label_summer=[]\n",
        "for i in range(len(train_summer)):\n",
        "  if train_summer['일강수량(mm)'][i]>0:\n",
        "    y_label_summer.append(0.0)\n",
        "  else:\n",
        "    y_label_summer.append(10.0)\n"
      ],
      "execution_count": null,
      "outputs": []
    },
    {
      "cell_type": "code",
      "metadata": {
        "colab": {
          "base_uri": "https://localhost:8080/"
        },
        "id": "eo0DB5CFf_DP",
        "outputId": "c64f2759-fd60-4b37-c5e8-1a47112ee657"
      },
      "source": [
        "import numpy as np\n",
        "k=np.mean(train_summer['평균 풍속(m/s)'])\n",
        "print(k)"
      ],
      "execution_count": null,
      "outputs": [
        {
          "output_type": "stream",
          "text": [
            "1.7545423340961055\n"
          ],
          "name": "stdout"
        }
      ]
    },
    {
      "cell_type": "code",
      "metadata": {
        "colab": {
          "base_uri": "https://localhost:8080/"
        },
        "id": "tTAykkH9gY_k",
        "outputId": "2b8fae97-2b97-442b-c3c6-c9385fc83b6b"
      },
      "source": [
        "for i in range(len(train_summer)):\n",
        "  if train_summer['평균기온(°C)'][i]>9:\n",
        "    print(train_summer['평균 풍속(m/s)'][i])"
      ],
      "execution_count": null,
      "outputs": [
        {
          "output_type": "stream",
          "text": [
            "9.4\n",
            "9.4\n",
            "9.3\n",
            "11.4\n",
            "11.5\n",
            "9.4\n",
            "14.8\n",
            "12.2\n",
            "9.3\n",
            "10.1\n",
            "9.1\n",
            "10.0\n",
            "15.0\n",
            "9.2\n",
            "15.6\n"
          ],
          "name": "stdout"
        }
      ]
    },
    {
      "cell_type": "code",
      "metadata": {
        "id": "4JxlLjeSVaf0"
      },
      "source": [
        "for i in range(len(train_summer)):\n",
        "  if y_label_summer[i]==10.0:\n",
        "    if train_summer['평균기온(°C)'][i]>25:\n",
        "      y_label_summer[i]-=1\n",
        "    if train_summer['평균기온(°C)'][i]>28:\n",
        "      y_label_summer[i]-=1\n",
        "    if train_summer['평균기온(°C)'][i]>30:\n",
        "      y_label_summer[i]-=2\n",
        "    if train_summer['평균 상대습도(%)'][i]>65:\n",
        "      y_label_summer[i]-=1\n",
        "    if train_summer['평균 상대습도(%)'][i]>75:\n",
        "      y_label_summer[i]-=1\n",
        "    if train_summer['평균 풍속(m/s)'][i]>2:\n",
        "      y_label_summer[i]-=1 \n",
        "    if train_summer['평균 풍속(m/s)'][i]>9:\n",
        "      y_label_summer[i]-=2\n"
      ],
      "execution_count": null,
      "outputs": []
    },
    {
      "cell_type": "code",
      "metadata": {
        "colab": {
          "base_uri": "https://localhost:8080/"
        },
        "id": "MFAPyDbPhwPi",
        "outputId": "3931cffd-4cdd-4d40-889c-32280e8d26e7"
      },
      "source": [
        "print(y_label_summer)"
      ],
      "execution_count": null,
      "outputs": [
        {
          "output_type": "stream",
          "text": [
            "[9.0, 10.0, 9.0, 8.0, 7.0, 8.0, 8.0, 9.0, 9.0, 9.0, 9.0, 8.0, 9.0, 0.0, 7.0, 9.0, 9.0, 0.0, 0.0, 7.0, 7.0, 8.0, 8.0, 0.0, 0.0, 9.0, 0.0, 8.0, 0.0, 0.0, 0.0, 8.0, 7.0, 8.0, 9.0, 8.0, 8.0, 8.0, 8.0, 0.0, 0.0, 8.0, 0.0, 0.0, 8.0, 7.0, 7.0, 8.0, 0.0, 7.0, 8.0, 8.0, 0.0, 0.0, 0.0, 0.0, 0.0, 8.0, 0.0, 8.0, 8.0, 0.0, 0.0, 0.0, 0.0, 0.0, 0.0, 8.0, 0.0, 0.0, 0.0, 0.0, 7.0, 7.0, 0.0, 0.0, 7.0, 7.0, 7.0, 8.0, 0.0, 0.0, 0.0, 0.0, 8.0, 7.0, 0.0, 0.0, 7.0, 0.0, 0.0, 0.0, 9.0, 0.0, 9.0, 8.0, 9.0, 10.0, 9.0, 9.0, 8.0, 0.0, 0.0, 9.0, 9.0, 0.0, 9.0, 9.0, 10.0, 9.0, 0.0, 9.0, 9.0, 9.0, 9.0, 0.0, 0.0, 0.0, 0.0, 8.0, 0.0, 0.0, 0.0, 8.0, 9.0, 10.0, 9.0, 9.0, 8.0, 9.0, 8.0, 0.0, 9.0, 0.0, 0.0, 0.0, 0.0, 0.0, 0.0, 8.0, 0.0, 0.0, 7.0, 0.0, 0.0, 0.0, 0.0, 0.0, 0.0, 0.0, 0.0, 7.0, 0.0, 0.0, 0.0, 0.0, 0.0, 0.0, 0.0, 0.0, 0.0, 0.0, 0.0, 0.0, 7.0, 0.0, 0.0, 0.0, 0.0, 7.0, 7.0, 7.0, 7.0, 0.0, 0.0, 8.0, 7.0, 6.0, 0.0, 0.0, 0.0, 0.0, 0.0, 7.0, 0.0, 0.0, 8.0, 8.0, 8.0, 9.0, 8.0, 8.0, 9.0, 0.0, 8.0, 8.0, 10.0, 9.0, 9.0, 9.0, 9.0, 8.0, 8.0, 8.0, 9.0, 8.0, 7.0, 0.0, 0.0, 0.0, 0.0, 8.0, 0.0, 0.0, 0.0, 8.0, 8.0, 8.0, 8.0, 8.0, 8.0, 8.0, 8.0, 0.0, 7.0, 8.0, 0.0, 0.0, 8.0, 8.0, 8.0, 0.0, 0.0, 0.0, 8.0, 0.0, 0.0, 0.0, 7.0, 7.0, 0.0, 8.0, 0.0, 8.0, 0.0, 0.0, 0.0, 0.0, 0.0, 0.0, 0.0, 0.0, 0.0, 0.0, 0.0, 0.0, 7.0, 7.0, 0.0, 0.0, 6.0, 7.0, 7.0, 8.0, 7.0, 0.0, 0.0, 0.0, 8.0, 7.0, 6.0, 0.0, 0.0, 0.0, 0.0, 7.0, 0.0, 0.0, 8.0, 7.0, 9.0, 9.0, 8.0, 9.0, 9.0, 0.0, 8.0, 8.0, 9.0, 0.0, 8.0, 9.0, 9.0, 9.0, 9.0, 9.0, 9.0, 9.0, 8.0, 0.0, 0.0, 0.0, 8.0, 8.0, 0.0, 0.0, 0.0, 8.0, 8.0, 0.0, 8.0, 8.0, 8.0, 8.0, 8.0, 0.0, 0.0, 0.0, 0.0, 0.0, 8.0, 8.0, 7.0, 0.0, 0.0, 0.0, 0.0, 0.0, 0.0, 0.0, 9.0, 0.0, 0.0, 8.0, 0.0, 0.0, 0.0, 0.0, 0.0, 0.0, 0.0, 0.0, 0.0, 8.0, 0.0, 0.0, 0.0, 0.0, 7.0, 0.0, 0.0, 0.0, 6.0, 7.0, 7.0, 7.0, 7.0, 0.0, 0.0, 8.0, 7.0, 7.0, 6.0, 0.0, 0.0, 0.0, 0.0, 7.0, 8.0, 0.0, 8.0, 8.0, 8.0, 8.0, 8.0, 8.0, 9.0, 0.0, 7.0, 8.0, 9.0, 9.0, 8.0, 8.0, 8.0, 8.0, 0.0, 8.0, 8.0, 8.0, 9.0, 0.0, 0.0, 0.0, 8.0, 8.0, 0.0, 0.0, 0.0, 8.0, 0.0, 0.0, 8.0, 8.0, 8.0, 8.0, 8.0, 0.0, 8.0, 0.0, 0.0, 0.0, 8.0, 0.0, 8.0, 8.0, 0.0, 0.0, 8.0, 8.0, 0.0, 0.0, 8.0, 8.0, 0.0, 8.0, 0.0, 8.0, 0.0, 0.0, 0.0, 0.0, 0.0, 0.0, 0.0, 8.0, 0.0, 0.0, 0.0, 0.0, 7.0, 0.0, 0.0, 0.0, 7.0, 7.0, 8.0, 7.0, 7.0, 0.0, 0.0, 0.0, 8.0, 7.0, 0.0, 0.0, 0.0, 7.0, 0.0, 7.0, 8.0, 9.0, 8.0, 8.0, 7.0, 8.0, 9.0, 8.0, 9.0, 0.0, 0.0, 8.0, 9.0, 7.0, 9.0, 9.0, 8.0, 8.0, 8.0, 8.0, 8.0, 9.0, 8.0, 0.0, 0.0, 7.0, 0.0, 8.0, 0.0, 0.0, 0.0, 8.0, 8.0, 0.0, 8.0, 8.0, 7.0, 8.0, 8.0, 0.0, 0.0, 0.0, 0.0, 0.0, 0.0, 8.0, 8.0, 8.0, 8.0, 0.0, 8.0, 8.0, 0.0, 0.0, 0.0, 0.0, 0.0, 0.0, 0.0, 0.0, 7.0, 0.0, 0.0, 0.0, 0.0, 0.0, 0.0, 0.0, 0.0, 0.0, 0.0, 0.0, 7.0, 7.0, 0.0, 0.0, 7.0, 7.0, 7.0, 7.0, 7.0, 8.0, 0.0, 7.0, 8.0, 7.0, 0.0, 0.0, 0.0, 0.0, 0.0, 0.0, 9.0, 0.0, 9.0, 9.0, 9.0, 9.0, 10.0, 8.0, 8.0, 0.0, 8.0, 9.0, 9.0, 0.0, 9.0, 10.0, 9.0, 9.0, 0.0, 8.0, 9.0, 9.0, 9.0, 0.0, 0.0, 0.0, 9.0, 9.0, 0.0, 0.0, 0.0, 9.0, 9.0, 10.0, 9.0, 8.0, 9.0, 8.0, 8.0, 0.0, 8.0, 0.0, 0.0, 0.0, 9.0, 8.0, 7.0, 8.0, 0.0, 0.0, 8.0, 8.0, 0.0, 0.0, 0.0, 0.0, 0.0, 0.0, 0.0, 7.0, 0.0, 0.0, 0.0, 0.0, 0.0, 0.0, 0.0, 8.0, 0.0, 0.0, 0.0, 0.0, 7.0, 0.0, 0.0, 0.0, 7.0, 7.0, 7.0, 7.0, 7.0, 0.0, 0.0, 8.0, 7.0, 6.0, 0.0, 0.0, 0.0, 0.0, 0.0, 8.0, 8.0, 0.0, 7.0, 7.0, 8.0, 10.0, 7.0, 7.0, 10.0, 0.0, 7.0, 8.0, 8.0, 7.0, 9.0, 8.0, 7.0, 8.0, 0.0, 7.0, 7.0, 8.0, 0.0, 0.0, 0.0, 7.0, 0.0, 7.0, 0.0, 0.0, 0.0, 7.0, 0.0, 8.0, 7.0, 7.0, 7.0, 7.0, 8.0, 7.0, 8.0, 0.0, 0.0, 7.0, 7.0, 8.0, 8.0, 7.0, 0.0, 0.0, 8.0, 8.0, 0.0, 0.0, 7.0, 8.0, 0.0, 8.0, 0.0, 8.0, 0.0, 0.0, 0.0, 7.0, 0.0, 0.0, 0.0, 8.0, 0.0, 0.0, 0.0, 0.0, 7.0, 0.0, 0.0, 7.0, 7.0, 0.0, 7.0, 7.0, 0.0, 0.0, 0.0, 8.0, 7.0, 6.0, 0.0, 0.0, 0.0, 0.0, 8.0, 7.0, 9.0, 10.0, 10.0, 8.0, 8.0, 8.0, 9.0, 9.0, 9.0, 0.0, 0.0, 8.0, 10.0, 9.0, 8.0, 10.0, 10.0, 9.0, 0.0, 8.0, 8.0, 9.0, 8.0, 0.0, 8.0, 9.0, 0.0, 8.0, 0.0, 0.0, 0.0, 9.0, 8.0, 0.0, 9.0, 8.0, 8.0, 0.0, 8.0, 0.0, 0.0, 0.0, 0.0, 0.0, 0.0, 8.0, 8.0, 8.0, 8.0, 0.0, 8.0, 8.0, 0.0, 0.0, 0.0, 0.0, 0.0, 0.0, 0.0, 0.0, 8.0, 0.0, 0.0, 0.0, 0.0, 0.0, 0.0, 8.0, 0.0, 0.0, 0.0, 0.0, 8.0, 7.0, 5.0, 0.0, 7.0, 7.0, 7.0, 8.0, 0.0, 0.0, 0.0, 0.0, 7.0, 7.0, 8.0, 0.0, 0.0, 0.0, 0.0, 0.0, 9.0, 9.0, 8.0, 8.0, 8.0, 8.0, 9.0, 7.0, 7.0, 0.0, 0.0, 8.0, 9.0, 8.0, 8.0, 9.0, 8.0, 8.0, 0.0, 8.0, 8.0, 9.0, 8.0, 0.0, 8.0, 8.0, 0.0, 8.0, 0.0, 0.0, 0.0, 9.0, 8.0, 0.0, 8.0, 9.0, 8.0, 0.0, 8.0, 0.0, 0.0, 0.0, 0.0, 0.0, 8.0, 8.0, 8.0, 8.0, 8.0, 7.0, 8.0, 8.0, 0.0, 0.0, 0.0, 0.0, 0.0, 0.0, 0.0, 0.0, 7.0, 0.0, 0.0, 0.0, 0.0, 0.0, 0.0, 0.0, 0.0, 0.0, 0.0, 0.0, 6.0, 6.0, 0.0, 0.0, 7.0, 5.0, 5.0, 5.0, 0.0, 0.0, 0.0, 0.0, 8.0, 4.0, 0.0, 4.0, 0.0, 0.0, 0.0, 0.0, 9.0, 9.0, 9.0, 8.0, 7.0, 8.0, 8.0, 9.0, 9.0, 0.0, 0.0, 8.0, 9.0, 9.0, 8.0, 9.0, 9.0, 7.0, 0.0, 8.0, 8.0, 8.0, 8.0, 0.0, 8.0, 10.0, 0.0, 7.0, 0.0, 0.0, 0.0, 9.0, 0.0, 0.0, 8.0, 8.0, 8.0, 8.0, 8.0, 0.0, 0.0, 0.0, 0.0, 0.0, 0.0, 8.0, 8.0, 8.0, 8.0, 0.0, 9.0, 8.0, 0.0, 0.0, 0.0, 0.0, 0.0, 0.0, 0.0, 0.0, 8.0, 0.0, 0.0, 0.0, 0.0, 0.0, 0.0, 0.0, 0.0, 0.0, 0.0, 0.0, 7.0, 7.0, 8.0, 0.0, 8.0, 8.0, 8.0, 8.0, 0.0, 0.0, 0.0, 0.0, 8.0, 7.0, 8.0, 6.0, 0.0, 0.0, 0.0, 0.0, 0.0, 0.0, 8.0, 0.0, 9.0, 10.0, 8.0, 9.0, 8.0, 0.0, 7.0, 9.0, 9.0, 0.0, 9.0, 9.0, 10.0, 10.0, 0.0, 9.0, 9.0, 8.0, 9.0, 0.0, 0.0, 0.0, 9.0, 7.0, 0.0, 0.0, 8.0, 9.0, 0.0, 0.0, 9.0, 7.0, 7.0, 8.0, 9.0, 0.0, 8.0, 0.0, 0.0, 0.0, 10.0, 9.0, 8.0, 8.0, 0.0, 0.0, 8.0, 0.0, 0.0, 0.0, 8.0, 8.0, 0.0, 0.0, 0.0, 0.0, 0.0, 0.0, 0.0, 0.0, 0.0, 0.0, 0.0, 8.0, 0.0, 0.0, 0.0, 0.0, 7.0, 6.0, 0.0, 0.0, 6.0, 5.0, 7.0, 7.0, 7.0, 0.0, 0.0, 7.0, 7.0, 6.0, 0.0, 0.0, 0.0, 0.0, 0.0, 6.0, 0.0, 0.0, 7.0, 0.0, 8.0, 9.0, 7.0, 8.0, 10.0, 0.0, 7.0, 8.0, 9.0, 0.0, 7.0, 8.0, 8.0, 8.0, 0.0, 7.0, 8.0, 9.0, 9.0, 0.0, 0.0, 0.0, 8.0, 7.0, 0.0, 0.0, 0.0, 7.0, 0.0, 0.0, 8.0, 8.0, 7.0, 7.0, 7.0, 0.0, 8.0, 0.0, 0.0, 0.0, 9.0, 8.0, 8.0, 7.0, 0.0, 0.0, 8.0, 0.0, 0.0, 0.0, 9.0, 8.0, 0.0, 0.0, 0.0, 0.0, 8.0, 0.0, 0.0, 0.0, 0.0, 0.0, 0.0, 0.0, 0.0, 0.0, 0.0, 0.0, 0.0, 6.0, 0.0, 0.0, 6.0, 6.0, 7.0, 7.0, 6.0, 0.0, 0.0, 8.0, 7.0, 6.0, 0.0, 0.0, 0.0, 0.0, 0.0, 7.0, 0.0, 10.0, 0.0, 10.0, 10.0, 10.0, 10.0, 9.0, 9.0, 0.0, 0.0, 9.0, 9.0, 0.0, 10.0, 10.0, 10.0, 10.0, 10.0, 10.0, 9.0, 9.0, 9.0, 0.0, 0.0, 0.0, 10.0, 10.0, 0.0, 0.0, 0.0, 10.0, 10.0, 0.0, 10.0, 9.0, 0.0, 9.0, 9.0, 0.0, 10.0, 0.0, 0.0, 0.0, 0.0, 0.0, 0.0, 9.0, 0.0, 0.0, 8.0, 0.0, 0.0, 0.0, 0.0, 9.0, 9.0, 0.0, 0.0, 0.0, 0.0, 0.0, 0.0, 0.0, 0.0, 0.0, 0.0, 0.0, 0.0, 0.0, 0.0, 0.0, 7.0, 6.0, 0.0, 0.0, 7.0, 8.0, 7.0, 8.0, 8.0, 8.0, 0.0, 8.0, 8.0, 7.0, 0.0, 0.0, 0.0, 0.0, 0.0, 0.0, 9.0, 9.0, 8.0, 9.0, 8.0, 9.0, 9.0, 9.0, 9.0, 8.0, 0.0, 7.0, 7.0, 0.0, 8.0, 9.0, 8.0, 8.0, 7.0, 8.0, 8.0, 8.0, 7.0, 0.0, 0.0, 7.0, 9.0, 0.0, 8.0, 0.0, 0.0, 8.0, 7.0, 0.0, 7.0, 7.0, 0.0, 7.0, 8.0, 0.0, 0.0, 7.0, 0.0, 0.0, 0.0, 8.0, 8.0, 8.0, 8.0, 0.0, 8.0, 8.0, 0.0, 0.0, 0.0, 7.0, 0.0, 0.0, 0.0, 0.0, 7.0, 6.0, 0.0, 4.0, 0.0, 0.0, 0.0, 0.0, 0.0, 0.0, 0.0, 0.0, 6.0, 6.0, 3.0, 6.0, 6.0, 6.0, 6.0, 6.0, 7.0, 0.0, 7.0, 0.0, 7.0, 6.0, 7.0, 6.0, 6.0, 6.0, 0.0, 0.0, 0.0, 0.0, 0.0, 0.0, 8.0, 9.0, 8.0, 9.0, 9.0, 0.0, 6.0, 8.0, 0.0, 0.0, 8.0, 9.0, 9.0, 8.0, 0.0, 8.0, 9.0, 8.0, 9.0, 0.0, 0.0, 0.0, 8.0, 7.0, 0.0, 0.0, 0.0, 0.0, 0.0, 0.0, 8.0, 8.0, 8.0, 8.0, 8.0, 0.0, 8.0, 0.0, 0.0, 0.0, 0.0, 8.0, 8.0, 7.0, 0.0, 0.0, 8.0, 0.0, 0.0, 0.0, 8.0, 8.0, 0.0, 0.0, 0.0, 0.0, 0.0, 0.0, 0.0, 0.0, 0.0, 0.0, 0.0, 0.0, 0.0, 0.0, 0.0, 0.0, 7.0, 5.0, 6.0, 0.0, 6.0, 6.0, 7.0, 7.0, 7.0, 7.0, 0.0, 7.0, 7.0, 6.0, 0.0, 0.0, 0.0, 0.0, 0.0, 0.0, 9.0, 10.0, 9.0, 10.0, 10.0, 10.0, 10.0, 9.0, 9.0, 0.0, 0.0, 0.0, 0.0, 0.0, 10.0, 10.0, 10.0, 9.0, 9.0, 0.0, 9.0, 8.0, 9.0, 0.0, 0.0, 8.0, 0.0, 9.0, 0.0, 0.0, 0.0, 9.0, 0.0, 0.0, 9.0, 9.0, 9.0, 8.0, 9.0, 0.0, 9.0, 0.0, 0.0, 0.0, 0.0, 8.0, 9.0, 9.0, 0.0, 0.0, 8.0, 0.0, 0.0, 0.0, 0.0, 0.0, 0.0, 0.0, 0.0, 0.0, 8.0, 0.0, 0.0, 0.0, 0.0, 0.0, 0.0, 0.0, 0.0, 0.0, 0.0, 0.0, 7.0, 7.0, 7.0, 0.0, 7.0, 7.0, 7.0, 7.0, 7.0, 7.0, 0.0, 0.0, 7.0, 7.0, 0.0, 0.0, 0.0, 0.0, 0.0, 8.0, 0.0, 10.0, 0.0, 9.0, 9.0, 10.0, 10.0, 9.0, 9.0, 0.0, 0.0, 0.0, 0.0, 0.0, 9.0, 9.0, 9.0, 9.0, 9.0, 9.0, 8.0, 9.0, 9.0, 0.0, 0.0, 0.0, 9.0, 9.0, 0.0, 0.0, 0.0, 9.0, 0.0, 0.0, 8.0, 8.0, 8.0, 9.0, 8.0, 0.0, 9.0, 0.0, 0.0, 0.0, 0.0, 8.0, 0.0, 9.0, 0.0, 0.0, 9.0, 0.0, 0.0, 0.0, 0.0, 0.0, 0.0, 0.0, 0.0, 0.0, 7.0, 0.0, 0.0, 0.0, 0.0, 0.0, 0.0, 0.0, 0.0, 0.0, 0.0, 0.0, 0.0, 7.0, 6.0, 0.0, 7.0, 7.0, 7.0, 7.0, 7.0, 7.0, 0.0, 8.0, 7.0, 6.0, 0.0, 0.0, 0.0, 0.0, 0.0, 7.0, 7.0, 0.0, 0.0, 7.0, 0.0, 8.0, 0.0, 10.0, 10.0, 0.0, 0.0, 0.0, 0.0, 0.0, 7.0, 9.0, 8.0, 8.0, 9.0, 8.0, 9.0, 9.0, 9.0, 0.0, 0.0, 0.0, 9.0, 8.0, 0.0, 0.0, 8.0, 8.0, 8.0, 8.0, 8.0, 9.0, 8.0, 8.0, 8.0, 0.0, 8.0, 0.0, 0.0, 0.0, 0.0, 8.0, 8.0, 8.0, 0.0, 0.0, 8.0, 0.0, 0.0, 0.0, 9.0, 8.0, 0.0, 0.0, 0.0, 0.0, 0.0, 0.0, 0.0, 0.0, 6.0, 0.0, 0.0, 0.0, 0.0, 0.0, 0.0, 0.0, 0.0, 6.0, 0.0, 6.0, 6.0, 7.0, 7.0, 7.0, 7.0, 7.0, 7.0, 7.0, 7.0, 7.0, 0.0, 0.0, 0.0, 0.0, 0.0, 0.0, 9.0, 9.0, 8.0, 9.0, 7.0, 8.0, 8.0, 8.0, 8.0, 0.0, 0.0, 0.0, 0.0, 0.0, 8.0, 10.0, 8.0, 8.0, 7.0, 8.0, 8.0, 7.0, 8.0, 0.0, 0.0, 9.0, 0.0, 7.0, 0.0, 0.0, 0.0, 8.0, 0.0, 0.0, 7.0, 0.0, 8.0, 8.0, 8.0, 0.0, 7.0, 0.0, 0.0, 0.0, 7.0, 8.0, 8.0, 8.0, 8.0, 0.0, 8.0, 0.0, 0.0, 0.0, 0.0, 0.0, 0.0, 0.0, 0.0, 0.0, 7.0, 0.0, 0.0, 0.0, 0.0, 0.0, 0.0, 0.0, 0.0, 0.0, 0.0, 0.0, 7.0, 6.0, 0.0, 0.0, 6.0, 7.0, 7.0, 8.0, 7.0, 0.0, 0.0, 0.0, 8.0, 7.0, 0.0, 0.0, 6.0, 7.0, 0.0, 0.0, 0.0, 0.0, 0.0, 8.0, 9.0, 9.0, 10.0, 9.0, 9.0, 0.0, 0.0, 0.0, 0.0, 0.0, 10.0, 10.0, 10.0, 9.0, 0.0, 9.0, 0.0, 9.0, 9.0, 0.0, 0.0, 9.0, 9.0, 9.0, 0.0, 0.0, 0.0, 9.0, 9.0, 9.0, 9.0, 8.0, 9.0, 8.0, 9.0, 0.0, 8.0, 0.0, 0.0, 0.0, 0.0, 9.0, 0.0, 9.0, 0.0, 0.0, 8.0, 0.0, 0.0, 0.0, 0.0, 0.0, 0.0, 0.0, 0.0, 0.0, 7.0, 0.0, 0.0, 0.0, 0.0, 0.0, 0.0, 0.0, 0.0, 0.0, 0.0, 0.0, 0.0, 6.0, 5.0, 7.0, 7.0, 7.0, 7.0, 7.0, 7.0, 7.0, 7.0, 8.0, 7.0, 6.0, 0.0, 0.0, 0.0, 0.0, 6.0, 7.0, 0.0, 10.0, 8.0, 7.0, 8.0, 0.0, 9.0, 9.0, 9.0, 0.0, 0.0, 0.0, 0.0, 0.0, 9.0, 9.0, 9.0, 0.0, 9.0, 0.0, 8.0, 8.0, 8.0, 0.0, 0.0, 0.0, 8.0, 9.0, 0.0, 0.0, 0.0, 8.0, 0.0, 8.0, 8.0, 0.0, 0.0, 7.0, 6.0, 0.0, 7.0, 0.0, 0.0, 0.0, 0.0, 8.0, 8.0, 8.0, 0.0, 0.0, 7.0, 0.0, 0.0, 0.0, 0.0, 0.0, 0.0, 0.0, 0.0, 0.0, 0.0, 0.0, 0.0, 0.0, 0.0, 0.0, 0.0, 0.0, 0.0, 0.0, 0.0, 0.0, 0.0, 6.0, 0.0, 6.0, 6.0, 6.0, 6.0, 6.0, 6.0, 6.0, 0.0, 7.0, 6.0, 6.0, 0.0, 0.0, 0.0, 0.0, 0.0, 0.0, 0.0, 10.0, 10.0, 9.0, 9.0, 9.0, 10.0, 10.0, 9.0, 0.0, 0.0, 0.0, 0.0, 0.0, 9.0, 9.0, 9.0, 0.0, 9.0, 9.0, 9.0, 10.0, 10.0, 0.0, 0.0, 7.0, 9.0, 8.0, 0.0, 0.0, 0.0, 9.0, 0.0, 0.0, 8.0, 0.0, 8.0, 8.0, 0.0, 0.0, 0.0, 0.0, 0.0, 0.0, 0.0, 8.0, 8.0, 8.0, 7.0, 0.0, 9.0, 0.0, 0.0, 0.0, 0.0, 0.0, 0.0, 0.0, 0.0, 0.0, 0.0, 0.0, 7.0, 7.0, 7.0, 0.0, 0.0, 0.0, 0.0, 0.0, 0.0, 0.0, 0.0, 7.0, 0.0, 7.0, 8.0, 7.0, 7.0, 7.0, 8.0, 7.0, 0.0, 8.0, 7.0, 0.0, 0.0, 0.0, 0.0, 0.0, 0.0, 0.0, 9.0, 10.0, 10.0, 9.0, 10.0, 9.0, 10.0, 9.0, 9.0, 0.0, 0.0, 0.0, 0.0, 0.0, 9.0, 10.0, 10.0, 9.0, 9.0, 9.0, 10.0, 10.0, 9.0, 0.0, 0.0, 8.0, 8.0, 9.0, 0.0, 0.0, 0.0, 9.0, 0.0, 0.0, 9.0, 0.0, 8.0, 9.0, 8.0, 0.0, 8.0, 0.0, 0.0, 0.0, 0.0, 9.0, 9.0, 9.0, 8.0, 0.0, 8.0, 0.0, 0.0, 0.0, 0.0, 0.0, 0.0, 0.0, 0.0, 0.0, 7.0, 0.0, 0.0, 0.0, 0.0, 0.0, 0.0, 0.0, 0.0, 0.0, 0.0, 0.0, 0.0, 6.0, 6.0, 6.0, 7.0, 7.0, 7.0, 7.0, 8.0, 8.0, 0.0, 0.0, 7.0, 6.0, 0.0, 0.0, 0.0, 0.0, 0.0, 7.0, 0.0, 10.0, 9.0, 9.0, 9.0, 10.0, 10.0, 9.0, 8.0, 0.0, 0.0, 0.0, 0.0, 0.0, 10.0, 10.0, 9.0, 0.0, 9.0, 8.0, 8.0, 8.0, 8.0, 0.0, 0.0, 8.0, 8.0, 8.0, 0.0, 0.0, 8.0, 8.0, 0.0, 0.0, 8.0, 0.0, 0.0, 7.0, 0.0, 0.0, 7.0, 0.0, 0.0, 0.0, 0.0, 8.0, 8.0, 8.0, 0.0, 0.0, 8.0, 0.0, 0.0, 0.0, 0.0, 0.0, 0.0, 0.0, 0.0, 0.0, 7.0, 0.0, 0.0, 0.0, 0.0, 0.0, 0.0, 0.0, 0.0, 0.0, 0.0, 0.0, 0.0, 6.0, 6.0, 6.0, 6.0, 7.0, 7.0, 6.0, 6.0, 7.0, 7.0, 0.0, 7.0, 7.0, 0.0, 0.0, 0.0, 0.0, 0.0, 8.0, 9.0, 9.0, 8.0, 7.0, 7.0, 7.0, 9.0, 8.0, 7.0, 8.0, 0.0, 0.0, 0.0, 0.0, 8.0, 9.0, 10.0, 0.0, 0.0, 7.0, 7.0, 7.0, 8.0, 0.0, 0.0, 8.0, 7.0, 7.0, 0.0, 0.0, 0.0, 8.0, 0.0, 0.0, 8.0, 8.0, 7.0, 7.0, 0.0, 0.0, 7.0, 0.0, 0.0, 0.0, 0.0, 7.0, 7.0, 7.0, 8.0, 6.0, 0.0, 0.0, 0.0, 0.0, 0.0, 0.0, 0.0, 0.0, 0.0, 0.0, 6.0, 6.0, 6.0, 6.0, 4.0, 6.0, 0.0, 0.0, 0.0, 6.0, 0.0, 6.0, 5.0, 4.0, 4.0, 4.0, 5.0, 6.0, 4.0, 5.0, 6.0, 6.0, 7.0, 7.0, 7.0, 6.0, 0.0, 0.0, 6.0, 0.0, 6.0, 0.0, 0.0, 0.0, 0.0, 7.0, 0.0, 8.0, 9.0, 9.0, 9.0, 0.0, 0.0, 0.0, 0.0, 0.0, 7.0, 7.0, 0.0, 0.0, 0.0, 8.0, 8.0, 7.0, 9.0, 0.0, 0.0, 0.0, 8.0, 8.0, 0.0, 0.0, 8.0, 8.0, 0.0, 8.0, 8.0, 0.0, 0.0, 8.0, 8.0, 0.0, 8.0, 0.0, 0.0, 0.0, 0.0, 8.0, 8.0, 8.0, 0.0, 0.0, 8.0, 0.0, 0.0, 0.0, 0.0, 8.0, 0.0, 0.0, 0.0, 0.0, 0.0, 0.0, 6.0, 6.0, 5.0, 0.0, 0.0, 0.0, 0.0, 0.0, 0.0, 0.0, 0.0, 5.0, 6.0, 6.0, 6.0, 7.0, 7.0, 7.0, 7.0, 7.0, 0.0, 0.0, 7.0, 7.0, 0.0, 0.0, 0.0, 0.0, 0.0, 0.0, 9.0, 10.0, 10.0, 8.0, 8.0, 8.0, 9.0, 9.0, 8.0, 0.0, 0.0, 0.0, 0.0, 0.0, 8.0, 10.0, 10.0, 0.0, 0.0, 9.0, 9.0, 9.0, 9.0, 0.0, 0.0, 8.0, 9.0, 8.0, 0.0, 0.0, 0.0, 10.0, 0.0, 8.0, 9.0, 9.0, 8.0, 8.0, 8.0, 0.0, 7.0, 0.0, 0.0, 0.0, 0.0, 8.0, 8.0, 8.0, 7.0, 0.0, 0.0, 0.0, 0.0, 0.0, 0.0, 9.0, 0.0, 0.0, 0.0, 0.0, 0.0, 0.0, 7.0, 7.0, 7.0, 7.0, 0.0, 0.0, 0.0, 0.0, 0.0, 0.0, 6.0, 5.0, 5.0, 5.0, 6.0, 7.0, 8.0, 5.0, 8.0, 7.0, 7.0, 7.0, 7.0, 7.0, 6.0, 0.0, 7.0, 0.0, 0.0, 7.0, 0.0, 10.0, 9.0, 9.0, 8.0, 8.0, 9.0, 9.0, 9.0, 0.0, 0.0, 0.0, 0.0, 0.0, 9.0, 9.0, 0.0, 0.0, 9.0, 9.0, 9.0, 8.0, 9.0, 0.0, 0.0, 0.0, 9.0, 8.0, 0.0, 0.0, 0.0, 0.0, 0.0, 0.0, 0.0, 0.0, 0.0, 8.0, 8.0, 0.0, 7.0, 0.0, 0.0, 0.0, 0.0, 8.0, 8.0, 9.0, 0.0, 0.0, 0.0, 0.0, 0.0, 0.0, 0.0, 0.0, 0.0, 0.0, 0.0, 0.0, 0.0, 0.0, 7.0, 7.0, 7.0, 0.0, 0.0, 0.0, 0.0, 0.0, 0.0, 0.0, 6.0, 6.0, 6.0, 7.0, 7.0, 6.0, 7.0, 8.0, 8.0, 8.0, 0.0, 8.0, 7.0, 7.0, 0.0, 0.0, 0.0, 0.0, 7.0, 0.0, 10.0, 10.0, 10.0, 9.0, 9.0, 8.0, 10.0, 10.0, 9.0, 8.0, 0.0, 0.0, 0.0, 0.0, 9.0, 9.0, 9.0, 0.0, 0.0, 8.0, 8.0, 8.0, 9.0, 0.0, 0.0, 9.0, 9.0, 8.0, 0.0, 0.0, 0.0, 9.0, 0.0, 8.0, 8.0, 8.0, 8.0, 8.0, 0.0, 0.0, 8.0, 0.0, 0.0, 0.0, 0.0, 8.0, 8.0, 8.0, 0.0, 6.0, 0.0, 0.0, 0.0, 0.0, 0.0, 8.0, 0.0, 0.0, 0.0, 0.0, 7.0, 6.0, 5.0, 5.0, 5.0, 5.0, 0.0, 0.0, 0.0, 0.0, 0.0, 0.0, 0.0, 5.0, 5.0, 5.0, 7.0, 6.0, 6.0, 7.0, 8.0, 7.0, 7.0, 0.0, 7.0, 6.0, 5.0, 0.0, 0.0, 6.0, 7.0, 0.0, 10.0, 10.0, 8.0, 9.0, 9.0, 9.0, 10.0, 10.0, 10.0, 10.0, 0.0, 0.0, 0.0, 0.0, 10.0, 10.0, 0.0, 0.0, 0.0, 8.0, 9.0, 9.0, 9.0, 0.0, 0.0, 9.0, 9.0, 8.0, 0.0, 0.0, 0.0, 9.0, 0.0, 0.0, 8.0, 0.0, 8.0, 9.0, 0.0, 0.0, 8.0, 0.0, 0.0, 0.0, 0.0, 8.0, 8.0, 8.0, 0.0, 0.0, 0.0, 0.0, 0.0, 0.0, 0.0, 8.0, 0.0, 0.0, 0.0, 0.0, 7.0, 7.0, 7.0, 7.0, 7.0, 0.0, 0.0, 0.0, 0.0, 0.0, 0.0, 0.0, 0.0, 7.0, 5.0, 5.0, 6.0, 6.0, 7.0, 6.0, 7.0, 7.0, 7.0, 7.0, 7.0, 7.0, 0.0, 0.0, 0.0, 0.0, 0.0, 8.0, 10.0, 10.0, 8.0, 8.0, 8.0, 0.0, 9.0, 9.0, 9.0, 0.0, 0.0, 0.0, 0.0, 0.0, 9.0, 9.0, 0.0, 0.0, 0.0, 8.0, 8.0, 8.0, 8.0, 0.0, 7.0, 8.0, 7.0, 8.0, 0.0, 0.0, 8.0, 8.0, 0.0, 8.0, 8.0, 0.0, 7.0, 8.0, 8.0, 0.0, 8.0, 0.0, 0.0, 0.0, 0.0, 8.0, 8.0, 7.0, 6.0, 0.0, 0.0, 0.0, 0.0, 0.0, 0.0, 8.0, 0.0, 0.0, 0.0, 0.0, 7.0, 0.0, 0.0, 6.0, 5.0, 0.0, 0.0, 0.0, 0.0, 0.0, 0.0, 0.0, 0.0, 5.0, 5.0, 5.0, 6.0, 6.0, 6.0, 6.0, 6.0, 7.0, 7.0, 7.0, 6.0, 6.0, 0.0, 5.0, 5.0, 0.0, 6.0, 0.0, 8.0, 9.0, 7.0, 7.0, 7.0, 8.0, 9.0, 10.0, 10.0, 8.0, 0.0, 0.0, 0.0, 0.0, 9.0, 9.0, 10.0, 0.0, 0.0, 8.0, 8.0, 9.0, 9.0, 0.0, 0.0, 7.0, 8.0, 8.0, 0.0, 0.0, 7.0, 9.0, 0.0, 7.0, 7.0, 0.0, 0.0, 7.0, 0.0, 0.0, 7.0, 0.0, 0.0, 0.0, 8.0, 7.0, 8.0, 7.0, 0.0, 0.0, 0.0, 0.0, 0.0, 0.0, 0.0, 7.0, 0.0, 0.0, 0.0, 0.0, 6.0, 6.0, 6.0, 6.0, 6.0, 6.0, 0.0, 0.0, 0.0, 0.0, 0.0, 0.0, 0.0, 6.0, 6.0, 5.0, 5.0, 5.0, 6.0, 6.0, 6.0, 6.0, 7.0, 6.0, 7.0, 5.0, 5.0, 0.0, 0.0, 0.0, 5.0, 7.0, 0.0, 8.0, 7.0, 7.0, 8.0, 8.0, 10.0, 10.0, 10.0, 8.0, 0.0, 0.0, 0.0, 0.0, 9.0, 9.0, 9.0, 0.0, 0.0, 8.0, 9.0, 8.0, 9.0, 0.0, 0.0, 7.0, 8.0, 8.0, 0.0, 0.0, 7.0, 8.0, 0.0, 8.0, 8.0, 0.0, 7.0, 8.0, 0.0, 0.0, 8.0, 0.0, 0.0, 0.0, 0.0, 8.0, 9.0, 8.0, 0.0, 0.0, 0.0, 0.0, 0.0, 0.0, 0.0, 8.0, 0.0, 0.0, 0.0, 0.0, 9.0, 6.0, 6.0, 6.0, 6.0, 6.0, 0.0, 0.0, 0.0, 0.0, 0.0, 0.0, 0.0, 6.0, 6.0, 6.0, 6.0, 6.0, 7.0, 7.0, 7.0, 7.0, 7.0, 7.0, 7.0, 6.0, 0.0, 0.0, 0.0, 0.0, 7.0, 7.0, 7.0, 7.0, 0.0, 7.0, 8.0, 7.0, 8.0, 10.0, 8.0, 0.0, 0.0, 0.0, 0.0, 0.0, 7.0, 7.0, 0.0, 0.0, 0.0, 7.0, 7.0, 8.0, 8.0, 0.0, 7.0, 8.0, 8.0, 7.0, 0.0, 0.0, 7.0, 8.0, 0.0, 0.0, 8.0, 0.0, 7.0, 7.0, 7.0, 0.0, 7.0, 0.0, 0.0, 0.0, 0.0, 8.0, 8.0, 0.0, 6.0, 0.0, 0.0, 0.0, 0.0, 0.0, 7.0, 7.0, 0.0, 0.0, 0.0, 0.0, 7.0, 6.0, 6.0, 6.0, 5.0, 5.0, 0.0, 0.0, 0.0, 0.0, 0.0, 0.0, 0.0, 5.0, 5.0, 5.0, 5.0, 5.0, 7.0, 6.0, 6.0, 7.0, 6.0, 7.0, 5.0, 6.0, 0.0, 0.0, 5.0, 0.0, 6.0, 0.0, 9.0, 9.0, 8.0, 7.0, 7.0, 0.0, 10.0, 10.0, 10.0, 0.0, 0.0, 0.0, 0.0, 0.0, 8.0, 9.0, 0.0, 0.0, 0.0, 0.0, 7.0, 8.0, 9.0, 0.0, 0.0, 7.0, 8.0, 7.0, 0.0, 0.0, 8.0, 7.0, 0.0, 0.0, 8.0, 0.0, 0.0, 8.0, 0.0, 0.0, 7.0, 0.0, 0.0, 0.0, 0.0, 8.0, 8.0, 8.0, 0.0, 0.0, 0.0, 0.0, 0.0, 0.0, 0.0, 8.0, 0.0, 0.0, 0.0, 0.0, 6.0, 6.0, 6.0, 6.0, 7.0, 6.0, 0.0, 0.0, 0.0, 6.0, 0.0, 0.0, 0.0, 6.0, 6.0, 6.0, 6.0, 5.0, 6.0, 6.0, 6.0, 7.0, 7.0, 7.0, 7.0, 6.0, 0.0, 0.0, 0.0, 0.0, 7.0, 6.0, 7.0, 7.0, 7.0, 7.0, 7.0, 7.0, 7.0, 9.0, 8.0, 0.0, 0.0, 0.0, 0.0, 0.0, 8.0, 7.0, 0.0, 0.0, 0.0, 7.0, 8.0, 8.0, 7.0, 0.0, 7.0, 8.0, 8.0, 7.0, 0.0, 0.0, 7.0, 7.0, 0.0, 0.0, 8.0, 0.0, 8.0, 7.0, 0.0, 0.0, 7.0, 0.0, 0.0, 0.0, 7.0, 8.0, 8.0, 7.0, 5.0, 0.0, 0.0, 0.0, 0.0, 0.0, 0.0, 7.0, 0.0, 0.0, 0.0, 0.0, 7.0, 7.0, 7.0, 7.0, 6.0, 0.0, 0.0, 0.0, 0.0, 0.0, 0.0, 0.0, 0.0, 6.0, 6.0, 6.0, 6.0, 6.0, 7.0, 7.0, 7.0, 7.0, 7.0, 6.0, 6.0, 6.0, 0.0, 7.0, 7.0, 0.0, 7.0, 6.0, 9.0, 9.0, 8.0, 8.0, 8.0, 7.0, 9.0, 9.0, 9.0, 0.0, 0.0, 0.0, 0.0, 0.0, 9.0, 8.0, 0.0, 0.0, 0.0, 7.0, 7.0, 8.0, 7.0, 0.0, 0.0, 8.0, 8.0, 8.0, 0.0, 0.0, 8.0, 8.0, 0.0, 8.0, 0.0, 0.0, 8.0, 8.0, 0.0, 0.0, 8.0, 0.0, 0.0, 0.0, 0.0, 0.0, 8.0, 0.0, 0.0, 0.0, 0.0, 0.0, 0.0, 0.0, 7.0, 8.0, 0.0, 0.0, 0.0, 0.0, 7.0, 7.0, 7.0, 7.0, 6.0, 6.0, 0.0, 0.0, 0.0, 5.0, 0.0, 0.0, 0.0, 5.0, 5.0, 5.0, 7.0, 7.0, 6.0, 7.0, 7.0, 7.0, 6.0, 7.0, 6.0, 6.0, 0.0, 0.0, 0.0, 0.0, 7.0, 6.0, 0.0, 9.0, 7.0, 7.0, 8.0, 8.0, 8.0, 9.0, 9.0, 0.0, 0.0, 0.0, 0.0, 0.0, 8.0, 8.0, 0.0, 0.0, 0.0, 8.0, 7.0, 8.0, 8.0, 0.0, 0.0, 8.0, 8.0, 7.0, 0.0, 0.0, 7.0, 8.0, 0.0, 8.0, 8.0, 0.0, 0.0, 8.0, 7.0, 0.0, 8.0, 0.0, 0.0, 0.0, 0.0, 8.0, 8.0, 7.0, 0.0, 0.0, 0.0, 0.0, 0.0, 0.0, 0.0, 8.0, 0.0, 0.0, 0.0, 0.0, 7.0, 0.0, 6.0, 5.0, 5.0, 0.0, 0.0, 0.0, 0.0, 0.0, 0.0, 0.0, 0.0, 6.0, 5.0, 5.0, 5.0, 7.0, 7.0, 7.0, 7.0, 7.0, 7.0, 7.0, 0.0, 6.0, 0.0, 0.0, 0.0, 0.0, 7.0, 0.0, 9.0, 10.0, 8.0, 8.0, 8.0, 0.0, 8.0, 9.0, 9.0, 0.0, 0.0, 0.0, 0.0, 0.0, 8.0, 8.0, 0.0, 0.0, 0.0, 8.0, 8.0, 8.0, 8.0, 0.0, 0.0, 7.0, 8.0, 8.0, 0.0, 0.0, 7.0, 8.0, 0.0, 0.0, 8.0, 8.0, 0.0, 8.0, 0.0, 0.0, 7.0, 0.0, 0.0, 0.0, 0.0, 8.0, 8.0, 8.0, 0.0, 0.0, 0.0, 0.0, 0.0, 0.0, 0.0, 8.0, 0.0, 0.0, 0.0, 0.0, 7.0, 0.0, 7.0, 7.0, 0.0, 0.0, 0.0, 0.0, 0.0, 0.0, 0.0, 0.0, 0.0, 7.0, 6.0, 7.0, 7.0, 7.0, 7.0, 6.0, 7.0, 7.0, 7.0, 0.0, 7.0, 0.0, 0.0, 0.0, 0.0, 0.0, 7.0, 7.0, 8.0, 0.0, 0.0, 7.0, 8.0, 8.0, 8.0, 9.0, 10.0, 0.0, 0.0, 0.0, 0.0, 0.0, 7.0, 9.0, 9.0, 8.0, 8.0, 8.0, 9.0, 9.0, 8.0, 0.0, 0.0, 0.0, 8.0, 8.0, 0.0, 0.0, 0.0, 8.0, 0.0, 8.0, 8.0, 8.0, 0.0, 8.0, 8.0, 0.0, 8.0, 0.0, 0.0, 0.0, 0.0, 8.0, 8.0, 8.0, 0.0, 0.0, 8.0, 0.0, 0.0, 0.0, 0.0, 0.0, 8.0, 0.0, 0.0, 0.0, 0.0, 0.0, 0.0, 0.0, 0.0, 0.0, 0.0, 0.0, 0.0, 0.0, 0.0, 0.0, 0.0, 5.0, 6.0, 6.0, 6.0, 7.0, 7.0, 7.0, 7.0, 7.0, 0.0, 7.0, 7.0, 7.0, 0.0, 0.0, 0.0, 0.0, 7.0, 0.0, 0.0, 9.0, 8.0, 8.0, 8.0, 7.0, 7.0, 9.0, 8.0, 0.0, 7.0, 0.0, 0.0, 0.0, 7.0, 7.0, 0.0, 0.0, 0.0, 7.0, 7.0, 7.0, 8.0, 0.0, 0.0, 7.0, 0.0, 7.0, 0.0, 7.0, 8.0, 8.0, 0.0, 0.0, 8.0, 0.0, 0.0, 8.0, 0.0, 0.0, 7.0, 0.0, 0.0, 0.0, 7.0, 0.0, 8.0, 0.0, 6.0, 0.0, 0.0, 6.0, 0.0, 0.0, 7.0, 7.0, 0.0, 0.0, 0.0, 7.0, 7.0, 7.0, 6.0, 7.0, 5.0, 0.0, 4.0, 5.0, 5.0, 5.0, 0.0, 0.0, 4.0, 4.0, 5.0, 4.0, 6.0, 6.0, 6.0, 6.0, 7.0, 6.0, 0.0, 5.0, 7.0, 0.0, 0.0, 0.0, 0.0, 0.0, 6.0, 6.0, 7.0, 7.0, 0.0, 7.0, 7.0, 7.0, 7.0, 8.0, 6.0, 0.0, 7.0, 0.0, 0.0, 0.0, 7.0, 7.0, 0.0, 0.0, 0.0, 7.0, 7.0, 7.0, 7.0, 0.0, 0.0, 7.0, 0.0, 7.0, 0.0, 5.0, 7.0, 7.0, 0.0, 0.0, 8.0, 0.0, 0.0, 7.0, 0.0, 0.0, 7.0, 0.0, 0.0, 0.0, 7.0, 7.0, 7.0, 0.0, 0.0, 0.0, 0.0, 0.0, 0.0, 5.0, 7.0, 7.0, 0.0, 0.0, 6.0, 6.0, 6.0, 6.0, 6.0, 6.0, 5.0, 0.0, 0.0, 0.0, 6.0, 6.0, 0.0, 0.0, 5.0, 5.0, 5.0, 5.0, 5.0, 5.0, 5.0, 5.0, 6.0, 6.0, 0.0, 0.0, 5.0, 0.0, 0.0, 6.0, 0.0, 0.0, 6.0, 5.0, 8.0, 7.0, 0.0, 8.0, 8.0, 8.0, 8.0, 8.0, 8.0, 0.0, 0.0, 0.0, 0.0, 0.0, 0.0, 8.0, 0.0, 0.0, 0.0, 7.0, 7.0, 8.0, 8.0, 0.0, 0.0, 8.0, 0.0, 9.0, 0.0, 8.0, 8.0, 9.0, 0.0, 0.0, 0.0, 0.0, 0.0, 8.0, 0.0, 0.0, 8.0, 0.0, 0.0, 7.0, 7.0, 7.0, 7.0, 0.0, 0.0, 0.0, 0.0, 0.0, 0.0, 0.0, 7.0, 8.0, 0.0, 0.0, 6.0, 0.0, 7.0, 7.0, 7.0, 7.0, 6.0, 7.0, 0.0, 0.0, 0.0, 6.0, 0.0, 0.0, 0.0, 5.0, 5.0, 5.0, 5.0, 7.0, 8.0, 7.0, 7.0, 7.0, 7.0, 7.0, 6.0, 0.0, 0.0, 6.0, 0.0, 6.0, 7.0, 6.0, 8.0, 8.0, 0.0, 8.0, 8.0, 8.0, 8.0, 9.0, 7.0, 0.0, 0.0, 0.0, 0.0, 0.0, 8.0, 9.0, 0.0, 0.0, 0.0, 8.0, 7.0, 8.0, 8.0, 0.0, 0.0, 8.0, 0.0, 8.0, 0.0, 7.0, 8.0, 9.0, 0.0, 0.0, 0.0, 0.0, 0.0, 8.0, 0.0, 0.0, 0.0, 0.0, 0.0, 7.0, 8.0, 8.0, 8.0, 0.0, 0.0, 0.0, 0.0, 0.0, 0.0, 0.0, 7.0, 8.0, 0.0, 0.0, 0.0, 7.0, 7.0, 7.0, 7.0, 7.0, 7.0, 0.0, 0.0, 7.0, 6.0, 0.0, 0.0, 0.0, 0.0, 7.0, 7.0, 7.0, 6.0, 7.0, 7.0, 7.0, 7.0, 7.0, 7.0, 7.0, 6.0, 0.0, 0.0, 6.0, 0.0, 0.0, 7.0, 6.0, 10.0, 10.0, 8.0, 8.0, 9.0, 0.0, 9.0, 10.0, 9.0, 0.0, 0.0, 0.0, 0.0, 0.0, 8.0, 10.0, 0.0, 0.0, 0.0, 8.0, 8.0, 8.0, 8.0, 0.0, 0.0, 8.0, 8.0, 7.0, 0.0, 0.0, 8.0, 8.0, 0.0, 8.0, 8.0, 8.0, 8.0, 8.0, 0.0, 0.0, 8.0, 0.0, 0.0, 0.0, 0.0, 8.0, 8.0, 8.0, 0.0, 0.0, 0.0, 0.0, 0.0, 0.0, 0.0, 8.0, 0.0, 0.0, 0.0, 0.0, 7.0, 7.0, 7.0, 7.0, 7.0, 0.0, 0.0, 0.0, 0.0, 0.0, 0.0, 0.0, 0.0, 7.0, 6.0, 6.0, 6.0, 6.0, 6.0, 6.0, 6.0, 7.0, 7.0, 7.0, 7.0, 7.0, 0.0, 0.0, 0.0, 0.0, 7.0, 0.0, 8.0, 0.0, 0.0, 0.0, 8.0, 8.0, 7.0, 8.0, 10.0, 0.0, 8.0, 8.0, 10.0, 7.0, 7.0, 7.0, 8.0, 9.0, 0.0, 7.0, 9.0, 9.0, 9.0, 0.0, 0.0, 0.0, 8.0, 7.0, 0.0, 0.0, 0.0, 8.0, 0.0, 0.0, 8.0, 8.0, 8.0, 8.0, 8.0, 0.0, 8.0, 0.0, 0.0, 0.0, 9.0, 8.0, 8.0, 8.0, 0.0, 0.0, 8.0, 0.0, 0.0, 0.0, 8.0, 7.0, 0.0, 8.0, 0.0, 8.0, 0.0, 0.0, 0.0, 0.0, 0.0, 0.0, 0.0, 8.0, 0.0, 0.0, 0.0, 0.0, 7.0, 0.0, 0.0, 0.0, 6.0, 7.0, 8.0, 7.0, 7.0, 0.0, 0.0, 0.0, 7.0, 7.0, 0.0, 0.0, 0.0, 7.0, 0.0, 7.0, 0.0, 9.0, 9.0, 9.0, 9.0, 10.0, 9.0, 9.0, 9.0, 0.0, 0.0, 8.0, 0.0, 0.0, 9.0, 10.0, 9.0, 9.0, 9.0, 9.0, 9.0, 9.0, 8.0, 0.0, 0.0, 0.0, 8.0, 9.0, 0.0, 0.0, 8.0, 8.0, 9.0, 0.0, 9.0, 9.0, 9.0, 8.0, 8.0, 0.0, 8.0, 0.0, 0.0, 0.0, 0.0, 8.0, 0.0, 8.0, 0.0, 0.0, 0.0, 0.0, 0.0, 0.0, 9.0, 9.0, 0.0, 0.0, 0.0, 0.0, 0.0, 0.0, 0.0, 0.0, 0.0, 0.0, 0.0, 8.0, 0.0, 0.0, 0.0, 0.0, 7.0, 7.0, 0.0, 0.0, 7.0, 7.0, 7.0, 7.0, 7.0, 7.0, 0.0, 8.0, 7.0, 7.0, 0.0, 0.0, 0.0, 0.0, 0.0, 0.0, 0.0, 0.0, 0.0, 8.0, 9.0, 9.0, 9.0, 9.0, 9.0, 0.0, 0.0, 0.0, 0.0, 0.0, 9.0, 9.0, 9.0, 8.0, 9.0, 9.0, 8.0, 9.0, 8.0, 0.0, 0.0, 0.0, 8.0, 9.0, 0.0, 0.0, 0.0, 8.0, 0.0, 0.0, 8.0, 8.0, 8.0, 8.0, 8.0, 0.0, 9.0, 0.0, 0.0, 0.0, 0.0, 8.0, 0.0, 8.0, 0.0, 0.0, 8.0, 0.0, 0.0, 0.0, 0.0, 8.0, 0.0, 0.0, 0.0, 0.0, 7.0, 0.0, 0.0, 0.0, 0.0, 0.0, 0.0, 0.0, 0.0, 0.0, 0.0, 0.0, 7.0, 6.0, 0.0, 0.0, 7.0, 7.0, 7.0, 7.0, 7.0, 7.0, 0.0, 8.0, 7.0, 6.0, 0.0, 0.0, 0.0, 0.0, 0.0, 7.0, 9.0, 0.0, 0.0, 8.0, 9.0, 9.0, 9.0, 9.0, 8.0, 9.0, 9.0, 9.0, 10.0, 0.0, 9.0, 10.0, 10.0, 9.0, 8.0, 9.0, 10.0, 9.0, 10.0, 0.0, 0.0, 0.0, 0.0, 0.0, 0.0, 0.0, 0.0, 0.0, 9.0, 10.0, 9.0, 9.0, 8.0, 8.0, 9.0, 0.0, 9.0, 9.0, 0.0, 0.0, 0.0, 8.0, 9.0, 9.0, 0.0, 0.0, 9.0, 8.0, 0.0, 0.0, 0.0, 0.0, 0.0, 0.0, 0.0, 8.0, 7.0, 0.0, 0.0, 0.0, 0.0, 0.0, 0.0, 0.0, 0.0, 0.0, 0.0, 0.0, 7.0, 0.0, 6.0, 0.0, 0.0, 7.0, 7.0, 7.0, 7.0, 0.0, 0.0, 8.0, 8.0, 7.0, 0.0, 0.0, 0.0, 0.0, 0.0, 8.0, 0.0, 9.0, 10.0, 9.0, 10.0, 10.0, 10.0, 9.0, 9.0, 0.0, 8.0, 9.0, 9.0, 0.0, 10.0, 10.0, 10.0, 9.0, 9.0, 9.0, 9.0, 9.0, 9.0, 0.0, 0.0, 0.0, 9.0, 9.0, 0.0, 0.0, 0.0, 9.0, 10.0, 0.0, 9.0, 9.0, 8.0, 9.0, 8.0, 0.0, 9.0, 0.0, 0.0, 0.0, 9.0, 0.0, 0.0, 8.0, 0.0, 0.0, 9.0, 8.0, 0.0, 0.0, 0.0, 0.0, 0.0, 0.0, 0.0, 0.0, 7.0, 0.0, 0.0, 0.0, 0.0, 0.0, 0.0, 8.0, 0.0, 0.0, 0.0, 0.0, 7.0, 7.0, 0.0, 0.0, 7.0, 7.0, 7.0, 7.0, 7.0, 0.0, 0.0, 8.0, 7.0, 7.0, 7.0, 0.0, 0.0, 0.0, 0.0, 8.0, 10.0, 10.0, 10.0, 10.0, 9.0, 10.0, 10.0, 10.0, 9.0, 0.0, 0.0, 0.0, 9.0, 0.0, 10.0, 10.0, 10.0, 8.0, 8.0, 8.0, 8.0, 10.0, 10.0, 0.0, 0.0, 9.0, 9.0, 0.0, 0.0, 0.0, 8.0, 8.0, 8.0, 0.0, 8.0, 0.0, 8.0, 8.0, 8.0, 0.0, 0.0, 0.0, 0.0, 0.0, 8.0, 8.0, 8.0, 8.0, 8.0, 0.0, 8.0, 8.0, 0.0, 0.0, 0.0, 0.0, 0.0, 0.0, 0.0, 0.0, 9.0, 0.0, 0.0, 0.0, 0.0, 0.0, 0.0, 0.0, 0.0, 0.0, 0.0, 0.0, 7.0, 8.0, 7.0, 0.0, 8.0, 8.0, 8.0, 9.0, 8.0, 8.0, 0.0, 0.0, 8.0, 7.0, 0.0, 0.0, 0.0, 0.0, 0.0, 0.0, 8.0, 9.0, 8.0, 8.0, 9.0, 9.0, 9.0, 9.0, 8.0, 0.0, 0.0, 8.0, 9.0, 0.0, 10.0, 10.0, 10.0, 9.0, 9.0, 0.0, 8.0, 8.0, 9.0, 0.0, 0.0, 0.0, 0.0, 0.0, 0.0, 0.0, 0.0, 8.0, 0.0, 0.0, 8.0, 9.0, 8.0, 9.0, 8.0, 0.0, 8.0, 0.0, 0.0, 0.0, 0.0, 8.0, 9.0, 8.0, 8.0, 0.0, 8.0, 0.0, 0.0, 0.0, 0.0, 0.0, 0.0, 0.0, 0.0, 0.0, 0.0, 0.0, 0.0, 0.0, 0.0, 0.0, 0.0, 0.0, 0.0, 0.0, 0.0, 0.0, 8.0, 0.0, 0.0, 0.0, 7.0, 7.0, 7.0, 7.0, 7.0, 8.0, 0.0, 0.0, 8.0, 7.0, 0.0, 0.0, 0.0, 0.0, 0.0, 8.0, 0.0, 10.0, 0.0, 8.0, 10.0, 10.0, 9.0, 9.0, 8.0, 0.0, 0.0, 0.0, 9.0, 0.0, 8.0, 9.0, 9.0, 8.0, 9.0, 9.0, 0.0, 8.0, 9.0, 0.0, 0.0, 0.0, 0.0, 8.0, 0.0, 0.0, 0.0, 9.0, 0.0, 0.0, 8.0, 8.0, 8.0, 9.0, 9.0, 0.0, 9.0, 0.0, 0.0, 0.0, 0.0, 8.0, 8.0, 8.0, 0.0, 0.0, 8.0, 0.0, 0.0, 0.0, 0.0, 8.0, 0.0, 0.0, 0.0, 0.0, 8.0, 0.0, 0.0, 0.0, 0.0, 0.0, 0.0, 0.0, 0.0, 0.0, 0.0, 0.0, 8.0, 7.0, 0.0, 0.0, 7.0, 7.0, 8.0, 7.0, 7.0, 7.0, 0.0, 0.0, 8.0, 7.0, 0.0, 0.0, 0.0, 0.0, 0.0, 8.0, 0.0, 10.0, 9.0, 9.0, 9.0, 10.0, 10.0, 9.0, 8.0, 0.0, 0.0, 0.0, 0.0, 0.0, 9.0, 8.0, 9.0, 8.0, 9.0, 0.0, 8.0, 9.0, 8.0, 0.0, 0.0, 0.0, 8.0, 9.0, 0.0, 0.0, 0.0, 8.0, 0.0, 0.0, 8.0, 0.0, 8.0, 8.0, 7.0, 0.0, 8.0, 0.0, 0.0, 0.0, 0.0, 8.0, 8.0, 9.0, 0.0, 0.0, 0.0, 0.0, 0.0, 0.0, 0.0, 0.0, 0.0, 0.0, 0.0, 0.0, 7.0, 0.0, 0.0, 0.0, 0.0, 0.0, 0.0, 0.0, 0.0, 0.0, 0.0, 0.0, 0.0, 7.0, 7.0, 7.0, 7.0, 7.0, 7.0, 7.0, 7.0, 7.0, 0.0, 8.0, 7.0, 7.0, 0.0, 0.0, 0.0, 0.0, 0.0, 8.0, 0.0, 9.0, 8.0, 8.0, 9.0, 9.0, 8.0, 9.0, 10.0, 0.0, 0.0, 0.0, 0.0, 0.0, 9.0, 9.0, 8.0, 8.0, 9.0, 8.0, 9.0, 8.0, 9.0, 0.0, 0.0, 8.0, 8.0, 8.0, 0.0, 0.0, 0.0, 8.0, 8.0, 8.0, 8.0, 8.0, 8.0, 8.0, 8.0, 0.0, 8.0, 0.0, 0.0, 0.0, 0.0, 8.0, 8.0, 8.0, 0.0, 0.0, 8.0, 0.0, 0.0, 0.0, 0.0, 0.0, 0.0, 0.0, 0.0, 0.0, 7.0, 0.0, 0.0, 0.0, 0.0, 0.0, 0.0, 0.0, 0.0, 0.0, 0.0, 0.0, 0.0, 7.0, 7.0, 7.0, 7.0, 7.0, 7.0, 7.0, 7.0, 7.0, 0.0, 8.0, 7.0, 7.0, 0.0, 0.0, 0.0, 0.0, 7.0, 6.0, 0.0, 0.0, 0.0, 0.0, 0.0, 8.0, 8.0, 9.0, 10.0, 0.0, 0.0, 0.0, 0.0, 0.0, 8.0, 8.0, 8.0, 0.0, 0.0, 8.0, 9.0, 8.0, 9.0, 0.0, 0.0, 0.0, 8.0, 8.0, 0.0, 0.0, 8.0, 8.0, 0.0, 8.0, 8.0, 8.0, 8.0, 8.0, 8.0, 0.0, 8.0, 0.0, 0.0, 0.0, 0.0, 8.0, 8.0, 8.0, 0.0, 0.0, 8.0, 0.0, 0.0, 0.0, 0.0, 0.0, 0.0, 0.0, 0.0, 0.0, 0.0, 0.0, 0.0, 0.0, 6.0, 0.0, 0.0, 0.0, 0.0, 0.0, 0.0, 0.0, 0.0, 6.0, 6.0, 6.0, 6.0, 7.0, 7.0, 7.0, 7.0, 7.0, 7.0, 7.0, 7.0, 7.0, 0.0, 0.0, 0.0, 0.0, 7.0, 7.0, 0.0, 0.0, 0.0, 8.0, 0.0, 8.0, 9.0, 9.0, 9.0, 0.0, 0.0, 0.0, 0.0, 0.0, 8.0, 8.0, 8.0, 0.0, 0.0, 8.0, 9.0, 8.0, 8.0, 0.0, 0.0, 8.0, 8.0, 8.0, 0.0, 0.0, 8.0, 0.0, 0.0, 8.0, 8.0, 8.0, 8.0, 8.0, 7.0, 0.0, 7.0, 0.0, 0.0, 0.0, 0.0, 8.0, 8.0, 8.0, 0.0, 0.0, 7.0, 0.0, 0.0, 0.0, 0.0, 0.0, 0.0, 0.0, 0.0, 0.0, 0.0, 0.0, 0.0, 0.0, 0.0, 0.0, 0.0, 0.0, 0.0, 0.0, 0.0, 0.0, 0.0, 6.0, 7.0, 7.0, 7.0, 7.0, 7.0, 7.0, 7.0, 7.0, 7.0, 7.0, 7.0, 6.0, 0.0, 0.0, 0.0, 0.0, 0.0, 7.0, 0.0, 10.0, 0.0, 9.0, 8.0, 0.0, 0.0, 9.0, 9.0, 0.0, 0.0, 0.0, 0.0, 0.0, 9.0, 9.0, 8.0, 0.0, 9.0, 8.0, 9.0, 8.0, 8.0, 0.0, 0.0, 8.0, 8.0, 8.0, 0.0, 0.0, 0.0, 8.0, 0.0, 0.0, 0.0, 0.0, 0.0, 8.0, 0.0, 0.0, 7.0, 0.0, 0.0, 0.0, 0.0, 8.0, 8.0, 8.0, 0.0, 0.0, 7.0, 0.0, 0.0, 0.0, 0.0, 0.0, 0.0, 0.0, 0.0, 0.0, 0.0, 0.0, 0.0, 7.0, 7.0, 0.0, 0.0, 0.0, 0.0, 0.0, 0.0, 0.0, 0.0, 7.0, 0.0, 6.0, 7.0, 7.0, 7.0, 7.0, 7.0, 7.0, 0.0, 7.0, 7.0, 7.0, 0.0, 0.0, 0.0, 0.0, 0.0, 7.0, 0.0, 10.0, 0.0, 9.0, 9.0, 0.0, 9.0, 10.0, 9.0, 0.0, 0.0, 0.0, 0.0, 0.0, 10.0, 9.0, 9.0, 0.0, 0.0, 8.0, 10.0, 9.0, 8.0, 0.0, 0.0, 0.0, 9.0, 9.0, 0.0, 0.0, 0.0, 9.0, 0.0, 8.0, 8.0, 8.0, 8.0, 8.0, 8.0, 0.0, 8.0, 0.0, 0.0, 0.0, 0.0, 8.0, 8.0, 9.0, 0.0, 0.0, 9.0, 0.0, 0.0, 0.0, 0.0, 8.0, 0.0, 0.0, 0.0, 0.0, 0.0, 0.0, 0.0, 0.0, 0.0, 0.0, 0.0, 0.0, 0.0, 0.0, 0.0, 0.0, 0.0, 6.0, 6.0, 6.0, 7.0, 7.0, 7.0, 7.0, 7.0, 7.0, 0.0, 7.0, 7.0, 7.0, 0.0, 0.0, 0.0, 0.0, 0.0, 0.0, 0.0, 0.0, 8.0, 8.0, 8.0, 8.0, 8.0, 9.0, 9.0, 0.0, 0.0, 0.0, 0.0, 0.0, 8.0, 8.0, 0.0, 0.0, 0.0, 8.0, 8.0, 8.0, 9.0, 0.0, 0.0, 8.0, 8.0, 8.0, 0.0, 0.0, 8.0, 0.0, 0.0, 8.0, 8.0, 0.0, 0.0, 8.0, 0.0, 0.0, 8.0, 0.0, 0.0, 0.0, 0.0, 8.0, 8.0, 0.0, 0.0, 0.0, 0.0, 0.0, 0.0, 0.0, 0.0, 0.0, 0.0, 0.0, 0.0, 0.0, 0.0, 0.0, 6.0, 6.0, 5.0, 0.0, 0.0, 0.0, 0.0, 0.0, 0.0, 0.0, 0.0, 5.0, 5.0, 5.0, 7.0, 7.0, 7.0, 7.0, 7.0, 7.0, 0.0, 7.0, 0.0, 6.0, 0.0, 5.0, 0.0, 0.0, 7.0, 7.0, 0.0, 9.0, 8.0, 9.0, 8.0, 0.0, 8.0, 9.0, 9.0, 0.0, 0.0, 0.0, 0.0, 0.0, 8.0, 8.0, 0.0, 0.0, 0.0, 8.0, 8.0, 8.0, 9.0, 0.0, 0.0, 0.0, 8.0, 8.0, 0.0, 0.0, 0.0, 8.0, 0.0, 0.0, 8.0, 0.0, 0.0, 8.0, 8.0, 0.0, 8.0, 0.0, 0.0, 0.0, 0.0, 8.0, 8.0, 8.0, 0.0, 0.0, 0.0, 0.0, 0.0, 0.0, 0.0, 0.0, 0.0, 0.0, 0.0, 0.0, 0.0, 0.0, 0.0, 7.0, 7.0, 0.0, 0.0, 0.0, 0.0, 0.0, 0.0, 0.0, 0.0, 7.0, 7.0, 7.0, 7.0, 7.0, 7.0, 7.0, 7.0, 7.0, 0.0, 7.0, 7.0, 7.0, 0.0, 0.0, 0.0, 0.0, 0.0, 7.0, 9.0, 10.0, 9.0, 8.0, 8.0, 8.0, 9.0, 9.0, 9.0, 0.0, 0.0, 0.0, 0.0, 0.0, 9.0, 9.0, 0.0, 0.0, 0.0, 8.0, 9.0, 9.0, 9.0, 0.0, 0.0, 0.0, 8.0, 8.0, 0.0, 0.0, 0.0, 8.0, 0.0, 0.0, 0.0, 0.0, 0.0, 8.0, 0.0, 0.0, 8.0, 0.0, 0.0, 0.0, 0.0, 8.0, 8.0, 9.0, 7.0, 0.0, 0.0, 0.0, 0.0, 0.0, 0.0, 8.0, 0.0, 0.0, 0.0, 0.0, 0.0, 0.0, 6.0, 7.0, 6.0, 0.0, 0.0, 0.0, 0.0, 0.0, 0.0, 0.0, 0.0, 6.0, 5.0, 6.0, 6.0, 7.0, 7.0, 7.0, 7.0, 7.0, 0.0, 0.0, 7.0, 7.0, 0.0, 0.0, 0.0, 0.0, 7.0, 0.0, 0.0, 10.0, 9.0, 0.0, 8.0, 0.0, 8.0, 9.0, 8.0, 0.0, 0.0, 0.0, 0.0, 0.0, 9.0, 9.0, 0.0, 0.0, 0.0, 8.0, 9.0, 9.0, 8.0, 0.0, 0.0, 0.0, 8.0, 9.0, 0.0, 0.0, 0.0, 8.0, 0.0, 8.0, 0.0, 0.0, 7.0, 7.0, 8.0, 0.0, 7.0, 0.0, 0.0, 0.0, 0.0, 0.0, 8.0, 8.0, 6.0, 0.0, 0.0, 0.0, 0.0, 0.0, 0.0, 8.0, 0.0, 0.0, 0.0, 0.0, 0.0, 0.0, 6.0, 0.0, 7.0, 0.0, 0.0, 0.0, 0.0, 0.0, 0.0, 0.0, 0.0, 6.0, 5.0, 6.0, 7.0, 7.0, 7.0, 7.0, 7.0, 7.0, 7.0, 7.0, 7.0, 0.0, 0.0, 0.0, 0.0, 0.0, 0.0, 6.0, 0.0, 10.0, 9.0, 9.0, 8.0, 0.0, 8.0, 8.0, 9.0, 0.0, 0.0, 0.0, 0.0, 0.0, 8.0, 8.0, 0.0, 0.0, 0.0, 0.0, 8.0, 8.0, 8.0, 0.0, 0.0, 0.0, 8.0, 8.0, 0.0, 0.0, 0.0, 8.0, 0.0, 0.0, 8.0, 0.0, 8.0, 8.0, 8.0, 0.0, 0.0, 0.0, 0.0, 0.0, 0.0, 8.0, 8.0, 8.0, 7.0, 0.0, 0.0, 0.0, 0.0, 0.0, 0.0, 0.0, 0.0, 0.0, 0.0, 0.0, 0.0, 0.0, 0.0, 6.0, 7.0, 0.0, 0.0, 0.0, 0.0, 0.0, 0.0, 0.0, 0.0, 7.0, 0.0, 7.0, 7.0, 7.0, 7.0, 7.0, 8.0, 7.0, 0.0, 8.0, 7.0, 7.0, 0.0, 0.0, 0.0, 0.0, 7.0, 7.0, 0.0, 10.0, 8.0, 9.0, 8.0, 8.0, 8.0, 10.0, 9.0, 0.0, 0.0, 0.0, 0.0, 0.0, 9.0, 9.0, 0.0, 0.0, 0.0, 8.0, 9.0, 8.0, 10.0, 0.0, 0.0, 8.0, 8.0, 8.0, 0.0, 0.0, 0.0, 8.0, 0.0, 0.0, 0.0, 0.0, 0.0, 8.0, 0.0, 0.0, 8.0, 0.0, 0.0, 0.0, 0.0, 0.0, 8.0, 0.0, 6.0, 0.0, 0.0, 0.0, 0.0, 0.0, 0.0, 8.0, 0.0, 0.0, 0.0, 0.0, 0.0, 0.0, 6.0, 6.0, 6.0, 0.0, 0.0, 0.0, 0.0, 0.0, 0.0, 0.0, 0.0, 5.0, 5.0, 7.0, 6.0, 7.0, 7.0, 7.0, 7.0, 7.0, 7.0, 7.0, 7.0, 7.0, 0.0, 0.0, 0.0, 0.0, 0.0, 0.0, 0.0, 9.0, 0.0, 8.0, 8.0, 8.0, 8.0, 9.0, 9.0, 0.0, 0.0, 0.0, 0.0, 0.0, 8.0, 9.0, 0.0, 0.0, 0.0, 8.0, 0.0, 8.0, 9.0, 0.0, 0.0, 8.0, 8.0, 8.0, 0.0, 0.0, 0.0, 8.0, 0.0, 8.0, 0.0, 0.0, 0.0, 8.0, 8.0, 0.0, 8.0, 0.0, 0.0, 0.0, 0.0, 8.0, 8.0, 7.0, 0.0, 0.0, 0.0, 0.0, 0.0, 0.0, 0.0, 8.0, 0.0, 0.0, 0.0, 0.0, 0.0, 0.0, 6.0, 6.0, 5.0, 0.0, 0.0, 0.0, 0.0, 0.0, 0.0, 0.0, 0.0, 5.0, 5.0, 5.0, 5.0, 7.0, 7.0, 7.0, 7.0, 7.0, 7.0, 7.0, 7.0, 6.0, 0.0, 0.0, 0.0, 0.0, 7.0, 0.0, 10.0, 9.0, 8.0, 9.0, 9.0, 10.0, 10.0, 10.0, 9.0, 8.0, 0.0, 0.0, 0.0, 0.0, 10.0, 10.0, 0.0, 0.0, 0.0, 9.0, 9.0, 9.0, 9.0, 0.0, 0.0, 8.0, 8.0, 8.0, 0.0, 0.0, 0.0, 8.0, 0.0, 0.0, 8.0, 0.0, 8.0, 8.0, 0.0, 0.0, 8.0, 0.0, 0.0, 0.0, 0.0, 8.0, 8.0, 8.0, 0.0, 0.0, 0.0, 0.0, 0.0, 0.0, 0.0, 8.0, 0.0, 0.0, 0.0, 0.0, 7.0, 7.0, 6.0, 6.0, 7.0, 6.0, 0.0, 0.0, 0.0, 0.0, 0.0, 0.0, 0.0, 6.0, 5.0, 6.0, 6.0, 6.0, 6.0, 6.0, 7.0, 7.0, 7.0, 7.0, 7.0, 6.0, 5.0, 0.0, 0.0, 0.0, 6.0, 7.0, 0.0, 10.0, 8.0, 7.0, 9.0, 0.0, 9.0, 9.0, 9.0, 0.0, 0.0, 0.0, 0.0, 0.0, 9.0, 9.0, 0.0, 0.0, 0.0, 8.0, 9.0, 9.0, 10.0, 0.0, 0.0, 0.0, 8.0, 9.0, 0.0, 0.0, 8.0, 8.0, 0.0, 8.0, 8.0, 0.0, 8.0, 8.0, 0.0, 0.0, 8.0, 0.0, 0.0, 0.0, 0.0, 8.0, 8.0, 8.0, 6.0, 0.0, 0.0, 0.0, 0.0, 0.0, 0.0, 8.0, 0.0, 0.0, 0.0, 0.0, 0.0, 0.0, 0.0, 7.0, 6.0, 0.0, 0.0, 0.0, 0.0, 0.0, 0.0, 0.0, 0.0, 6.0, 5.0, 6.0, 7.0, 7.0, 6.0, 7.0, 7.0, 7.0, 0.0, 7.0, 7.0, 7.0, 0.0, 0.0, 0.0, 0.0, 0.0, 7.0, 10.0, 10.0, 8.0, 9.0, 9.0, 9.0, 10.0, 10.0, 9.0, 9.0, 0.0, 0.0, 0.0, 0.0, 10.0, 10.0, 0.0, 0.0, 0.0, 8.0, 8.0, 9.0, 9.0, 0.0, 0.0, 7.0, 8.0, 8.0, 0.0, 0.0, 8.0, 8.0, 0.0, 8.0, 8.0, 8.0, 7.0, 7.0, 0.0, 0.0, 8.0, 0.0, 0.0, 0.0, 0.0, 8.0, 8.0, 8.0, 0.0, 0.0, 0.0, 0.0, 0.0, 0.0, 0.0, 7.0, 0.0, 0.0, 0.0, 0.0, 7.0, 6.0, 6.0, 6.0, 6.0, 0.0, 0.0, 0.0, 0.0, 0.0, 0.0, 0.0, 0.0, 6.0, 6.0, 6.0, 6.0, 4.0, 4.0, 4.0, 4.0, 7.0, 7.0, 7.0, 7.0, 5.0, 0.0, 10.0, 0.0, 0.0, 0.0, 7.0, 9.0, 9.0, 7.0, 8.0, 9.0, 9.0, 9.0, 10.0, 9.0, 8.0, 0.0, 0.0, 0.0, 0.0, 8.0, 9.0, 0.0, 0.0, 8.0, 8.0, 8.0, 9.0, 9.0, 0.0, 0.0, 7.0, 7.0, 7.0, 0.0, 0.0, 8.0, 9.0, 0.0, 8.0, 8.0, 8.0, 7.0, 7.0, 0.0, 0.0, 7.0, 0.0, 0.0, 0.0, 0.0, 9.0, 7.0, 8.0, 0.0, 0.0, 0.0, 0.0, 0.0, 0.0, 0.0, 8.0, 0.0, 0.0, 0.0, 0.0, 7.0, 6.0, 6.0, 5.0, 6.0, 6.0, 0.0, 0.0, 0.0, 0.0, 0.0, 0.0, 0.0, 5.0, 5.0, 5.0, 5.0, 6.0, 6.0, 6.0, 5.0, 7.0, 6.0, 7.0, 7.0, 7.0, 5.0, 0.0, 0.0, 0.0, 0.0, 6.0, 8.0, 9.0, 8.0, 7.0, 7.0, 0.0, 8.0, 9.0, 8.0, 0.0, 0.0, 0.0, 0.0, 0.0, 8.0, 8.0, 0.0, 0.0, 0.0, 8.0, 7.0, 7.0, 7.0, 0.0, 0.0, 7.0, 8.0, 7.0, 0.0, 0.0, 8.0, 7.0, 0.0, 8.0, 8.0, 8.0, 6.0, 7.0, 0.0, 0.0, 7.0, 0.0, 0.0, 0.0, 0.0, 8.0, 8.0, 0.0, 0.0, 0.0, 0.0, 0.0, 0.0, 0.0, 0.0, 8.0, 0.0, 0.0, 0.0, 0.0, 7.0, 7.0, 7.0, 6.0, 5.0, 0.0, 0.0, 0.0, 0.0, 6.0, 0.0, 0.0, 0.0, 7.0, 6.0, 5.0, 7.0, 5.0, 5.0, 5.0, 5.0, 7.0, 7.0, 7.0, 7.0, 5.0, 0.0, 0.0, 0.0, 0.0, 0.0, 6.0, 8.0, 10.0, 8.0, 8.0, 0.0, 7.0, 10.0, 10.0, 9.0, 0.0, 0.0, 0.0, 0.0, 0.0, 8.0, 10.0, 0.0, 0.0, 0.0, 8.0, 9.0, 9.0, 9.0, 0.0, 0.0, 9.0, 8.0, 7.0, 0.0, 0.0, 0.0, 8.0, 0.0, 0.0, 0.0, 8.0, 0.0, 8.0, 0.0, 0.0, 8.0, 0.0, 0.0, 0.0, 0.0, 0.0, 8.0, 0.0, 0.0, 0.0, 0.0, 0.0, 0.0, 0.0, 0.0, 8.0, 0.0, 0.0, 0.0, 0.0, 0.0, 7.0, 0.0, 7.0, 6.0, 0.0, 0.0, 0.0, 0.0, 5.0, 0.0, 0.0, 0.0, 7.0, 5.0, 5.0, 7.0, 6.0, 6.0, 8.0, 7.0, 7.0, 7.0, 7.0, 7.0, 5.0, 0.0, 0.0, 0.0, 0.0, 0.0, 6.0, 9.0, 9.0, 8.0, 8.0, 8.0, 7.0, 9.0, 10.0, 9.0, 0.0, 0.0, 0.0, 0.0, 0.0, 9.0, 9.0, 0.0, 0.0, 0.0, 8.0, 8.0, 8.0, 9.0, 0.0, 0.0, 8.0, 8.0, 8.0, 0.0, 0.0, 9.0, 8.0, 0.0, 8.0, 8.0, 8.0, 8.0, 8.0, 0.0, 0.0, 8.0, 0.0, 0.0, 0.0, 0.0, 0.0, 8.0, 0.0, 7.0, 0.0, 0.0, 0.0, 0.0, 0.0, 8.0, 8.0, 0.0, 0.0, 0.0, 0.0, 7.0, 7.0, 0.0, 7.0, 6.0, 0.0, 0.0, 0.0, 0.0, 6.0, 0.0, 0.0, 0.0, 7.0, 6.0, 7.0, 7.0, 7.0, 7.0, 7.0, 7.0, 7.0, 7.0, 7.0, 7.0, 5.0, 0.0, 0.0, 6.0, 0.0, 0.0, 7.0, 7.0, 9.0, 8.0, 8.0, 8.0, 7.0, 10.0, 10.0, 9.0, 0.0, 0.0, 0.0, 0.0, 0.0, 9.0, 8.0, 0.0, 0.0, 0.0, 8.0, 8.0, 8.0, 8.0, 7.0, 10.0, 10.0, 8.0, 8.0, 0.0, 0.0, 7.0, 8.0, 0.0, 8.0, 0.0, 8.0, 8.0, 8.0, 0.0, 0.0, 8.0, 0.0, 0.0, 0.0, 0.0, 8.0, 8.0, 0.0, 6.0, 0.0, 0.0, 0.0, 0.0, 0.0, 7.0, 8.0, 0.0, 0.0, 0.0, 0.0, 7.0, 7.0, 6.0, 6.0, 6.0, 0.0, 0.0, 0.0, 0.0, 5.0, 0.0, 0.0, 5.0, 6.0, 5.0, 5.0, 7.0, 7.0, 7.0, 7.0, 7.0, 7.0, 7.0, 7.0, 6.0, 5.0, 0.0, 0.0, 6.0, 0.0, 0.0, 7.0, 9.0, 10.0, 8.0, 8.0, 8.0, 0.0, 9.0, 10.0, 9.0, 0.0, 0.0, 0.0, 0.0, 0.0, 9.0, 9.0, 0.0, 0.0, 0.0, 8.0, 8.0, 8.0, 8.0, 0.0, 0.0, 8.0, 8.0, 8.0, 0.0, 0.0, 8.0, 8.0, 0.0, 8.0, 8.0, 0.0, 8.0, 8.0, 0.0, 0.0, 8.0, 0.0, 0.0, 8.0, 0.0, 8.0, 8.0, 0.0, 0.0, 0.0, 0.0, 0.0, 0.0, 0.0, 8.0, 8.0, 0.0, 7.0, 0.0, 0.0, 7.0, 7.0, 7.0, 7.0, 7.0, 0.0, 0.0, 0.0, 0.0, 6.0, 0.0, 0.0, 0.0, 7.0, 6.0, 7.0, 7.0, 7.0, 7.0, 7.0, 7.0, 7.0, 7.0, 7.0, 7.0, 7.0, 0.0, 0.0, 0.0, 0.0, 7.0, 7.0, 9.0, 10.0, 9.0, 8.0, 8.0, 9.0, 10.0, 10.0, 9.0, 0.0, 0.0, 0.0, 0.0, 0.0, 10.0, 10.0, 0.0, 0.0, 0.0, 9.0, 9.0, 9.0, 9.0, 0.0, 0.0, 8.0, 8.0, 8.0, 0.0, 0.0, 9.0, 8.0, 0.0, 8.0, 8.0, 8.0, 7.0, 7.0, 0.0, 0.0, 7.0, 0.0, 0.0, 0.0, 0.0, 0.0, 9.0, 8.0, 0.0, 0.0, 0.0, 0.0, 0.0, 0.0, 0.0, 8.0, 0.0, 0.0, 0.0, 0.0, 0.0, 7.0, 6.0, 5.0, 7.0, 0.0, 0.0, 0.0, 0.0, 0.0, 0.0, 0.0, 0.0, 6.0, 6.0, 6.0, 6.0, 6.0, 10.0, 6.0, 6.0, 7.0, 7.0, 7.0, 7.0, 6.0, 0.0, 0.0, 0.0, 0.0, 0.0, 0.0, 9.0, 10.0, 10.0, 8.0, 9.0, 0.0, 0.0, 9.0, 10.0, 0.0, 0.0, 0.0, 0.0, 0.0, 9.0, 10.0, 0.0, 0.0, 0.0, 8.0, 9.0, 9.0, 9.0, 0.0, 0.0, 8.0, 8.0, 9.0, 0.0, 0.0, 0.0, 8.0, 0.0, 8.0, 8.0, 8.0, 7.0, 9.0, 0.0, 0.0, 8.0, 0.0, 0.0, 0.0, 0.0, 0.0, 8.0, 8.0, 8.0, 0.0, 0.0, 0.0, 0.0, 0.0, 0.0, 0.0, 0.0, 0.0, 0.0, 0.0, 0.0, 0.0, 7.0, 0.0, 7.0, 0.0, 0.0, 0.0, 0.0, 0.0, 0.0, 0.0, 0.0, 7.0, 7.0, 7.0, 7.0, 7.0, 7.0, 7.0, 8.0, 7.0, 0.0, 7.0, 7.0, 7.0, 0.0, 0.0, 0.0, 0.0, 0.0, 0.0, 10.0, 10.0, 9.0, 9.0, 9.0, 0.0, 10.0, 10.0, 9.0, 0.0, 0.0, 0.0, 0.0, 0.0, 10.0, 10.0, 0.0, 0.0, 0.0, 9.0, 9.0, 9.0, 10.0, 0.0, 0.0, 9.0, 9.0, 9.0, 0.0, 0.0, 9.0, 9.0, 0.0, 9.0, 8.0, 8.0, 0.0, 8.0, 0.0, 0.0, 8.0, 0.0, 0.0, 0.0, 0.0, 0.0, 9.0, 8.0, 0.0, 0.0, 0.0, 0.0, 0.0, 0.0, 0.0, 8.0, 0.0, 0.0, 0.0, 0.0, 0.0, 7.0, 7.0, 7.0, 6.0, 0.0, 0.0, 0.0, 0.0, 0.0, 0.0, 0.0, 0.0, 6.0, 6.0, 7.0, 6.0, 7.0, 7.0, 7.0, 7.0, 7.0, 8.0, 8.0, 8.0, 0.0, 0.0, 0.0, 0.0, 0.0, 7.0, 7.0, 8.0, 8.0, 8.0, 8.0, 8.0, 8.0, 10.0, 10.0, 9.0, 0.0, 0.0, 0.0, 0.0, 0.0, 8.0, 8.0, 0.0, 0.0, 0.0, 8.0, 8.0, 8.0, 8.0, 0.0, 0.0, 8.0, 8.0, 8.0, 0.0, 0.0, 7.0, 8.0, 0.0, 0.0, 8.0, 8.0, 8.0, 7.0, 0.0, 0.0, 8.0, 0.0, 0.0, 7.0, 0.0, 8.0, 8.0, 0.0, 6.0, 0.0, 0.0, 0.0, 0.0, 0.0, 8.0, 8.0, 0.0, 0.0, 0.0, 0.0, 7.0, 6.0, 6.0, 6.0, 6.0, 0.0, 0.0, 0.0, 0.0, 6.0, 0.0, 0.0, 0.0, 6.0, 5.0, 5.0, 5.0, 7.0, 7.0, 7.0, 7.0, 7.0, 0.0, 7.0, 6.0, 5.0, 0.0, 6.0, 6.0, 0.0, 7.0, 7.0, 10.0, 10.0, 9.0, 9.0, 9.0, 10.0, 9.0, 9.0, 9.0, 0.0, 0.0, 0.0, 0.0, 0.0, 9.0, 9.0, 9.0, 8.0, 8.0, 8.0, 8.0, 9.0, 10.0, 0.0, 0.0, 0.0, 8.0, 0.0, 0.0, 0.0, 0.0, 8.0, 8.0, 0.0, 8.0, 0.0, 8.0, 8.0, 8.0, 0.0, 8.0, 0.0, 0.0, 0.0, 8.0, 8.0, 8.0, 8.0, 0.0, 0.0, 8.0, 0.0, 0.0, 0.0, 0.0, 0.0, 0.0, 0.0, 0.0, 0.0, 8.0, 0.0, 0.0, 0.0, 0.0, 0.0, 0.0, 0.0, 0.0, 0.0, 0.0, 0.0, 8.0, 7.0, 7.0, 0.0, 8.0, 8.0, 8.0, 8.0, 8.0, 8.0, 0.0, 0.0, 8.0, 7.0, 0.0, 0.0, 0.0, 0.0, 0.0, 8.0, 9.0, 10.0, 8.0, 10.0, 9.0, 10.0, 10.0, 8.0, 9.0, 0.0, 0.0, 0.0, 0.0, 0.0, 9.0, 9.0, 9.0, 8.0, 9.0, 0.0, 9.0, 9.0, 9.0, 0.0, 0.0, 7.0, 8.0, 9.0, 0.0, 0.0, 0.0, 9.0, 8.0, 0.0, 8.0, 0.0, 7.0, 9.0, 9.0, 0.0, 9.0, 0.0, 0.0, 0.0, 0.0, 8.0, 8.0, 8.0, 0.0, 0.0, 8.0, 0.0, 0.0, 0.0, 0.0, 0.0, 0.0, 0.0, 0.0, 0.0, 8.0, 0.0, 0.0, 0.0, 0.0, 0.0, 0.0, 0.0, 0.0, 0.0, 0.0, 0.0, 0.0, 7.0, 7.0, 0.0, 7.0, 7.0, 7.0, 6.0, 7.0, 7.0, 0.0, 0.0, 7.0, 7.0, 0.0, 0.0, 0.0, 0.0, 0.0, 0.0, 9.0, 0.0, 9.0, 10.0, 10.0, 10.0, 10.0, 8.0, 9.0, 0.0, 0.0, 0.0, 0.0, 0.0, 10.0, 10.0, 9.0, 8.0, 9.0, 8.0, 9.0, 9.0, 9.0, 0.0, 0.0, 0.0, 8.0, 9.0, 0.0, 0.0, 0.0, 8.0, 0.0, 0.0, 8.0, 0.0, 8.0, 8.0, 8.0, 0.0, 8.0, 0.0, 0.0, 0.0, 0.0, 8.0, 8.0, 8.0, 0.0, 0.0, 8.0, 0.0, 0.0, 0.0, 0.0, 0.0, 0.0, 0.0, 0.0, 0.0, 0.0, 0.0, 0.0, 0.0, 0.0, 0.0, 0.0, 0.0, 0.0, 0.0, 0.0, 0.0, 0.0, 7.0, 7.0, 7.0, 7.0, 7.0, 7.0, 7.0, 7.0, 7.0, 0.0, 8.0, 7.0, 7.0, 0.0, 0.0, 0.0, 0.0, 0.0, 8.0, 9.0, 10.0, 9.0, 9.0, 8.0, 9.0, 9.0, 9.0, 9.0, 0.0, 0.0, 0.0, 0.0, 0.0, 8.0, 9.0, 8.0, 0.0, 8.0, 8.0, 8.0, 9.0, 9.0, 0.0, 0.0, 7.0, 8.0, 8.0, 0.0, 0.0, 0.0, 8.0, 0.0, 0.0, 8.0, 0.0, 8.0, 8.0, 8.0, 0.0, 8.0, 0.0, 0.0, 0.0, 0.0, 8.0, 8.0, 8.0, 8.0, 0.0, 0.0, 0.0, 0.0, 0.0, 0.0, 0.0, 0.0, 0.0, 0.0, 0.0, 8.0, 0.0, 0.0, 7.0, 7.0, 0.0, 0.0, 0.0, 0.0, 0.0, 0.0, 0.0, 0.0, 7.0, 7.0, 7.0, 7.0, 7.0, 7.0, 7.0, 7.0, 8.0, 7.0, 0.0, 8.0, 7.0, 0.0, 0.0, 0.0, 0.0, 0.0, 8.0, 9.0, 9.0, 9.0, 8.0, 7.0, 7.0, 8.0, 9.0, 8.0, 0.0, 0.0, 0.0, 0.0, 0.0, 9.0, 9.0, 8.0, 9.0, 7.0, 8.0, 8.0, 8.0, 8.0, 0.0, 0.0, 8.0, 9.0, 0.0, 0.0, 0.0, 8.0, 9.0, 0.0, 0.0, 8.0, 0.0, 8.0, 8.0, 8.0, 0.0, 0.0, 0.0, 0.0, 0.0, 0.0, 8.0, 8.0, 8.0, 8.0, 7.0, 0.0, 0.0, 0.0, 0.0, 0.0, 0.0, 0.0, 0.0, 0.0, 0.0, 6.0, 0.0, 0.0, 7.0, 7.0, 7.0, 0.0, 0.0, 0.0, 0.0, 0.0, 0.0, 7.0, 6.0, 7.0, 6.0, 7.0, 7.0, 6.0, 6.0, 6.0, 8.0, 0.0, 0.0, 8.0, 7.0, 7.0, 6.0, 7.0, 7.0, 6.0, 0.0, 9.0, 10.0, 10.0, 10.0, 9.0, 10.0, 10.0, 10.0, 9.0, 0.0, 0.0, 0.0, 0.0, 0.0, 9.0, 10.0, 9.0, 0.0, 9.0, 9.0, 9.0, 9.0, 9.0, 0.0, 0.0, 8.0, 8.0, 9.0, 0.0, 0.0, 0.0, 8.0, 0.0, 0.0, 8.0, 0.0, 8.0, 8.0, 8.0, 0.0, 7.0, 0.0, 0.0, 0.0, 0.0, 8.0, 9.0, 8.0, 0.0, 0.0, 7.0, 0.0, 0.0, 0.0, 0.0, 0.0, 0.0, 0.0, 0.0, 0.0, 7.0, 7.0, 7.0, 7.0, 7.0, 0.0, 0.0, 0.0, 0.0, 0.0, 0.0, 0.0, 0.0, 6.0, 6.0, 6.0, 7.0, 7.0, 7.0, 7.0, 7.0, 7.0, 7.0, 0.0, 7.0, 7.0, 0.0, 0.0, 0.0, 0.0, 0.0, 8.0, 0.0, 10.0, 9.0, 9.0, 8.0, 10.0, 10.0, 9.0, 8.0, 0.0, 0.0, 0.0, 0.0, 0.0, 9.0, 10.0, 8.0, 0.0, 0.0, 9.0, 8.0, 9.0, 8.0, 0.0, 0.0, 8.0, 8.0, 7.0, 0.0, 0.0, 0.0, 8.0, 0.0, 8.0, 8.0, 0.0, 7.0, 7.0, 7.0, 0.0, 7.0, 0.0, 0.0, 0.0, 0.0, 8.0, 9.0, 8.0, 0.0, 0.0, 7.0, 0.0, 0.0, 0.0, 0.0, 0.0, 0.0, 0.0, 0.0, 0.0, 7.0, 0.0, 7.0, 0.0, 7.0, 0.0, 0.0, 0.0, 0.0, 0.0, 0.0, 0.0, 0.0, 6.0, 6.0, 6.0, 6.0, 7.0, 6.0, 6.0, 8.0, 9.0, 8.0, 0.0, 8.0, 7.0, 7.0, 0.0, 0.0, 0.0, 0.0, 0.0, 9.0, 10.0, 10.0, 9.0, 8.0, 8.0, 10.0, 10.0, 9.0, 9.0, 0.0, 0.0, 0.0, 0.0, 9.0, 9.0, 9.0, 0.0, 0.0, 9.0, 9.0, 9.0, 9.0, 0.0, 0.0, 9.0, 9.0, 9.0, 0.0, 0.0, 0.0, 8.0, 0.0, 0.0, 8.0, 8.0, 7.0, 8.0, 7.0, 0.0, 8.0, 0.0, 0.0, 0.0, 0.0, 8.0, 8.0, 8.0, 8.0, 0.0, 0.0, 0.0, 0.0, 0.0, 0.0, 0.0, 0.0, 0.0, 0.0, 0.0, 7.0, 7.0, 7.0, 8.0, 7.0, 7.0, 0.0, 0.0, 0.0, 0.0, 0.0, 0.0, 7.0, 7.0, 7.0, 7.0, 7.0, 7.0, 7.0, 7.0, 8.0, 7.0, 7.0, 7.0, 7.0, 0.0, 0.0, 0.0, 0.0, 0.0, 7.0, 8.0, 9.0, 9.0, 10.0, 8.0, 8.0, 7.0, 10.0, 9.0, 8.0, 8.0, 0.0, 0.0, 0.0, 0.0, 9.0, 9.0, 9.0, 0.0, 7.0, 8.0, 8.0, 9.0, 9.0, 0.0, 0.0, 8.0, 8.0, 7.0, 0.0, 0.0, 0.0, 8.0, 0.0, 0.0, 8.0, 8.0, 0.0, 8.0, 0.0, 0.0, 8.0, 0.0, 0.0, 0.0, 0.0, 8.0, 8.0, 8.0, 0.0, 6.0, 8.0, 0.0, 0.0, 0.0, 0.0, 0.0, 0.0, 0.0, 0.0, 0.0, 0.0, 0.0, 6.0, 6.0, 5.0, 5.0, 0.0, 0.0, 0.0, 0.0, 0.0, 0.0, 6.0, 5.0, 6.0, 4.0, 7.0, 6.0, 5.0, 6.0, 6.0, 7.0, 7.0, 7.0, 7.0, 6.0, 0.0, 0.0, 7.0, 5.0, 6.0, 0.0, 9.0, 10.0, 9.0, 10.0, 9.0, 0.0, 9.0, 9.0, 9.0, 0.0, 0.0, 0.0, 0.0, 0.0, 9.0, 10.0, 0.0, 0.0, 0.0, 8.0, 8.0, 9.0, 9.0, 0.0, 0.0, 9.0, 8.0, 9.0, 0.0, 0.0, 8.0, 8.0, 0.0, 8.0, 8.0, 8.0, 8.0, 8.0, 0.0, 0.0, 7.0, 0.0, 0.0, 0.0, 0.0, 0.0, 8.0, 8.0, 0.0, 0.0, 0.0, 0.0, 0.0, 0.0, 0.0, 0.0, 0.0, 0.0, 0.0, 0.0, 0.0, 0.0, 7.0, 7.0, 7.0, 0.0, 0.0, 0.0, 0.0, 0.0, 0.0, 0.0, 0.0, 7.0, 7.0, 7.0, 7.0, 7.0, 7.0, 7.0, 7.0, 7.0, 0.0, 7.0, 7.0, 0.0, 0.0, 0.0, 0.0, 0.0, 7.0, 0.0, 10.0, 10.0, 9.0, 8.0, 8.0, 9.0, 10.0, 10.0, 9.0, 8.0, 0.0, 0.0, 0.0, 0.0, 10.0, 10.0, 0.0, 0.0, 0.0, 8.0, 8.0, 9.0, 9.0, 0.0, 0.0, 9.0, 8.0, 7.0, 0.0, 0.0, 8.0, 8.0, 0.0, 8.0, 8.0, 0.0, 7.0, 7.0, 0.0, 0.0, 7.0, 0.0, 0.0, 0.0, 0.0, 0.0, 8.0, 8.0, 8.0, 0.0, 0.0, 0.0, 0.0, 0.0, 0.0, 0.0, 0.0, 0.0, 0.0, 0.0, 0.0, 7.0, 7.0, 7.0, 7.0, 0.0, 0.0, 0.0, 0.0, 0.0, 0.0, 0.0, 0.0, 6.0, 6.0, 6.0, 6.0, 7.0, 6.0, 6.0, 6.0, 7.0, 7.0, 0.0, 7.0, 0.0, 0.0, 0.0, 0.0, 0.0, 7.0, 0.0, 10.0, 10.0, 9.0, 8.0, 9.0, 10.0, 10.0, 10.0, 9.0, 9.0, 0.0, 0.0, 0.0, 0.0, 10.0, 10.0, 10.0, 0.0, 0.0, 9.0, 10.0, 10.0, 10.0, 0.0, 0.0, 8.0, 8.0, 8.0, 0.0, 0.0, 9.0, 9.0, 0.0, 8.0, 8.0, 8.0, 7.0, 8.0, 0.0, 0.0, 7.0, 0.0, 0.0, 0.0, 0.0, 0.0, 9.0, 9.0, 0.0, 0.0, 0.0, 0.0, 0.0, 0.0, 0.0, 8.0, 0.0, 0.0, 0.0, 0.0, 0.0, 7.0, 6.0, 7.0, 7.0, 0.0, 0.0, 0.0, 0.0, 0.0, 0.0, 0.0, 0.0, 6.0, 6.0, 7.0, 6.0, 6.0, 7.0, 7.0, 7.0, 8.0, 8.0, 0.0, 8.0, 7.0, 6.0, 0.0, 0.0, 0.0, 0.0, 8.0, 9.0, 10.0, 8.0, 9.0, 9.0, 0.0, 9.0, 9.0, 9.0, 8.0, 0.0, 0.0, 0.0, 0.0, 9.0, 10.0, 0.0, 0.0, 0.0, 8.0, 8.0, 8.0, 9.0, 0.0, 8.0, 8.0, 8.0, 8.0, 0.0, 0.0, 8.0, 8.0, 0.0, 8.0, 8.0, 8.0, 8.0, 8.0, 0.0, 0.0, 8.0, 0.0, 0.0, 0.0, 0.0, 8.0, 8.0, 8.0, 0.0, 0.0, 0.0, 0.0, 0.0, 0.0, 0.0, 8.0, 0.0, 0.0, 0.0, 0.0, 0.0, 7.0, 7.0, 7.0, 7.0, 0.0, 0.0, 0.0, 0.0, 0.0, 0.0, 0.0, 0.0, 7.0, 6.0, 6.0, 7.0, 7.0, 6.0, 8.0, 8.0, 7.0, 7.0, 0.0, 7.0, 0.0, 0.0, 0.0, 0.0, 0.0, 7.0, 0.0, 0.0, 10.0, 8.0, 7.0, 9.0, 8.0, 10.0, 10.0, 10.0, 9.0, 0.0, 0.0, 0.0, 0.0, 9.0, 10.0, 9.0, 0.0, 0.0, 8.0, 7.0, 9.0, 9.0, 0.0, 0.0, 7.0, 8.0, 9.0, 0.0, 0.0, 9.0, 8.0, 0.0, 8.0, 8.0, 0.0, 0.0, 8.0, 0.0, 0.0, 8.0, 0.0, 0.0, 0.0, 0.0, 8.0, 8.0, 8.0, 0.0, 0.0, 0.0, 0.0, 0.0, 0.0, 0.0, 8.0, 0.0, 0.0, 0.0, 0.0, 7.0, 7.0, 6.0, 6.0, 7.0, 6.0, 0.0, 0.0, 0.0, 0.0, 0.0, 0.0, 0.0, 7.0, 6.0, 6.0, 6.0, 6.0, 7.0, 6.0, 7.0, 6.0, 7.0, 0.0, 7.0, 0.0, 5.0, 0.0, 0.0, 0.0, 7.0, 7.0, 10.0, 10.0, 8.0, 9.0, 8.0, 0.0, 10.0, 10.0, 10.0, 0.0, 0.0, 0.0, 0.0, 0.0, 10.0, 10.0, 0.0, 0.0, 0.0, 8.0, 8.0, 9.0, 9.0, 0.0, 0.0, 9.0, 8.0, 7.0, 0.0, 0.0, 9.0, 8.0, 0.0, 8.0, 8.0, 0.0, 8.0, 8.0, 0.0, 0.0, 8.0, 0.0, 0.0, 0.0, 0.0, 8.0, 8.0, 8.0, 0.0, 0.0, 0.0, 0.0, 0.0, 0.0, 0.0, 8.0, 0.0, 0.0, 0.0, 0.0, 7.0, 7.0, 7.0, 7.0, 0.0, 0.0, 0.0, 0.0, 0.0, 0.0, 0.0, 0.0, 0.0, 7.0, 6.0, 6.0, 7.0, 7.0, 7.0, 6.0, 7.0, 7.0, 7.0, 7.0, 7.0, 7.0, 0.0, 0.0, 0.0, 0.0, 7.0, 0.0]\n"
          ],
          "name": "stdout"
        }
      ]
    },
    {
      "cell_type": "code",
      "metadata": {
        "id": "Ht3sEyl6V5bZ"
      },
      "source": [
        "y_label_fall=[]\n",
        "for i in range(len(train_fall)):\n",
        "  if train_fall['일강수량(mm)'][i]>0:\n",
        "    y_label_fall.append(0.0)\n",
        "  else:\n",
        "    y_label_fall.append(10.0)\n"
      ],
      "execution_count": null,
      "outputs": []
    },
    {
      "cell_type": "code",
      "metadata": {
        "id": "xwu4gDrjV5qp"
      },
      "source": [
        "for i in range(len(train_fall)):\n",
        "  if y_label_fall[i]==10.0:\n",
        "    if train_fall['평균기온(°C)'][i]<15:\n",
        "      y_label_fall[i]-=1\n",
        "    if train_fall['평균기온(°C)'][i]<10:\n",
        "      y_label_fall[i]-=1\n",
        "    if train_fall['평균기온(°C)'][i]>25:\n",
        "      y_label_fall[i]-=1\n",
        "    if train_fall['평균 상대습도(%)'][i]>59:\n",
        "      y_label_fall[i]-=1\n",
        "    if train_fall['평균 풍속(m/s)'][i]>1.2:\n",
        "      y_label_fall[i]-=1 \n",
        "    if train_fall['평균 풍속(m/s)'][i]>9:\n",
        "      y_label_fall[i]-=2\n"
      ],
      "execution_count": null,
      "outputs": []
    },
    {
      "cell_type": "code",
      "metadata": {
        "colab": {
          "base_uri": "https://localhost:8080/"
        },
        "id": "CptmnwzpkmhH",
        "outputId": "68972438-f1cd-4653-af18-790ed3a1dce3"
      },
      "source": [
        "print(y_label_fall)"
      ],
      "execution_count": null,
      "outputs": [
        {
          "output_type": "stream",
          "text": [
            "[0.0, 0.0, 0.0, 9.0, 9.0, 0.0, 0.0, 8.0, 0.0, 8.0, 0.0, 0.0, 0.0, 9.0, 8.0, 0.0, 9.0, 9.0, 9.0, 9.0, 8.0, 8.0, 0.0, 0.0, 0.0, 0.0, 0.0, 8.0, 9.0, 0.0, 8.0, 9.0, 9.0, 9.0, 8.0, 8.0, 7.0, 8.0, 8.0, 7.0, 7.0, 9.0, 7.0, 8.0, 8.0, 9.0, 7.0, 8.0, 8.0, 7.0, 8.0, 9.0, 8.0, 8.0, 9.0, 7.0, 8.0, 8.0, 8.0, 7.0, 8.0, 0.0, 8.0, 7.0, 7.0, 8.0, 9.0, 9.0, 8.0, 7.0, 7.0, 7.0, 8.0, 8.0, 7.0, 8.0, 7.0, 7.0, 0.0, 0.0, 7.0, 6.0, 0.0, 7.0, 7.0, 7.0, 0.0, 0.0, 7.0, 7.0, 7.0, 0.0, 0.0, 0.0, 8.0, 9.0, 0.0, 0.0, 0.0, 0.0, 0.0, 0.0, 0.0, 9.0, 9.0, 9.0, 0.0, 9.0, 0.0, 9.0, 9.0, 9.0, 9.0, 8.0, 8.0, 9.0, 9.0, 9.0, 9.0, 9.0, 9.0, 9.0, 0.0, 9.0, 0.0, 8.0, 8.0, 8.0, 7.0, 7.0, 8.0, 8.0, 8.0, 8.0, 8.0, 7.0, 7.0, 7.0, 7.0, 8.0, 8.0, 7.0, 8.0, 6.0, 6.0, 7.0, 7.0, 7.0, 8.0, 7.0, 7.0, 7.0, 0.0, 7.0, 7.0, 8.0, 7.0, 7.0, 7.0, 7.0, 7.0, 7.0, 7.0, 7.0, 7.0, 7.0, 7.0, 7.0, 8.0, 0.0, 0.0, 6.0, 0.0, 0.0, 7.0, 7.0, 7.0, 7.0, 7.0, 7.0, 7.0, 7.0, 8.0, 0.0, 0.0, 8.0, 9.0, 0.0, 0.0, 0.0, 0.0, 0.0, 0.0, 0.0, 8.0, 9.0, 9.0, 0.0, 8.0, 0.0, 9.0, 9.0, 9.0, 9.0, 8.0, 8.0, 8.0, 8.0, 9.0, 9.0, 9.0, 8.0, 9.0, 0.0, 9.0, 0.0, 8.0, 8.0, 8.0, 7.0, 7.0, 7.0, 8.0, 8.0, 8.0, 7.0, 7.0, 7.0, 7.0, 7.0, 8.0, 8.0, 7.0, 0.0, 6.0, 6.0, 7.0, 7.0, 8.0, 8.0, 7.0, 7.0, 8.0, 0.0, 7.0, 7.0, 8.0, 7.0, 8.0, 0.0, 7.0, 8.0, 7.0, 7.0, 7.0, 7.0, 7.0, 7.0, 7.0, 8.0, 0.0, 0.0, 6.0, 7.0, 0.0, 7.0, 7.0, 7.0, 7.0, 7.0, 7.0, 7.0, 7.0, 8.0, 0.0, 0.0, 8.0, 9.0, 0.0, 0.0, 8.0, 0.0, 0.0, 0.0, 0.0, 9.0, 9.0, 9.0, 0.0, 9.0, 8.0, 8.0, 9.0, 9.0, 9.0, 8.0, 8.0, 8.0, 8.0, 9.0, 9.0, 9.0, 9.0, 9.0, 0.0, 9.0, 0.0, 7.0, 8.0, 8.0, 7.0, 8.0, 8.0, 8.0, 8.0, 8.0, 8.0, 7.0, 7.0, 7.0, 8.0, 8.0, 8.0, 8.0, 7.0, 6.0, 7.0, 7.0, 8.0, 8.0, 9.0, 8.0, 8.0, 8.0, 0.0, 6.0, 7.0, 8.0, 7.0, 8.0, 7.0, 7.0, 8.0, 7.0, 8.0, 7.0, 8.0, 8.0, 7.0, 7.0, 8.0, 0.0, 0.0, 6.0, 0.0, 0.0, 7.0, 7.0, 7.0, 7.0, 6.0, 7.0, 6.0, 7.0, 8.0, 0.0, 0.0, 0.0, 9.0, 0.0, 0.0, 8.0, 0.0, 0.0, 0.0, 0.0, 8.0, 9.0, 9.0, 0.0, 9.0, 0.0, 9.0, 9.0, 9.0, 8.0, 8.0, 8.0, 8.0, 8.0, 9.0, 9.0, 9.0, 8.0, 8.0, 0.0, 9.0, 7.0, 7.0, 8.0, 8.0, 7.0, 7.0, 7.0, 8.0, 8.0, 7.0, 7.0, 7.0, 7.0, 7.0, 8.0, 8.0, 8.0, 8.0, 7.0, 6.0, 6.0, 7.0, 7.0, 8.0, 8.0, 7.0, 7.0, 7.0, 0.0, 0.0, 7.0, 8.0, 7.0, 8.0, 7.0, 7.0, 8.0, 7.0, 7.0, 7.0, 7.0, 7.0, 7.0, 7.0, 0.0, 0.0, 0.0, 6.0, 0.0, 0.0, 7.0, 7.0, 7.0, 7.0, 6.0, 7.0, 7.0, 7.0, 0.0, 0.0, 0.0, 8.0, 9.0, 0.0, 0.0, 0.0, 0.0, 8.0, 0.0, 0.0, 0.0, 8.0, 9.0, 0.0, 8.0, 8.0, 8.0, 7.0, 8.0, 7.0, 0.0, 0.0, 0.0, 0.0, 0.0, 8.0, 8.0, 0.0, 0.0, 8.0, 0.0, 7.0, 6.0, 7.0, 7.0, 6.0, 7.0, 7.0, 7.0, 7.0, 6.0, 6.0, 7.0, 6.0, 6.0, 6.0, 7.0, 7.0, 6.0, 6.0, 6.0, 7.0, 7.0, 7.0, 7.0, 6.0, 7.0, 6.0, 6.0, 0.0, 7.0, 7.0, 7.0, 7.0, 7.0, 7.0, 7.0, 7.0, 7.0, 7.0, 7.0, 6.0, 7.0, 6.0, 6.0, 7.0, 0.0, 0.0, 6.0, 6.0, 0.0, 6.0, 7.0, 6.0, 7.0, 6.0, 7.0, 6.0, 7.0, 8.0, 0.0, 0.0, 8.0, 8.0, 0.0, 0.0, 0.0, 0.0, 0.0, 0.0, 0.0, 9.0, 9.0, 9.0, 0.0, 9.0, 0.0, 9.0, 8.0, 8.0, 8.0, 8.0, 8.0, 8.0, 0.0, 9.0, 9.0, 9.0, 8.0, 8.0, 9.0, 9.0, 0.0, 7.0, 8.0, 7.0, 7.0, 7.0, 7.0, 8.0, 8.0, 8.0, 8.0, 7.0, 7.0, 8.0, 8.0, 8.0, 8.0, 8.0, 7.0, 6.0, 7.0, 7.0, 7.0, 8.0, 8.0, 7.0, 7.0, 8.0, 0.0, 7.0, 7.0, 8.0, 7.0, 8.0, 8.0, 7.0, 7.0, 7.0, 7.0, 7.0, 7.0, 7.0, 7.0, 7.0, 8.0, 0.0, 0.0, 6.0, 7.0, 0.0, 7.0, 7.0, 7.0, 7.0, 7.0, 7.0, 7.0, 7.0, 0.0, 0.0, 0.0, 0.0, 8.0, 8.0, 0.0, 8.0, 0.0, 8.0, 0.0, 0.0, 8.0, 8.0, 8.0, 0.0, 8.0, 8.0, 8.0, 8.0, 8.0, 8.0, 8.0, 8.0, 8.0, 8.0, 8.0, 8.0, 8.0, 8.0, 8.0, 0.0, 8.0, 8.0, 9.0, 9.0, 8.0, 8.0, 9.0, 8.0, 8.0, 0.0, 9.0, 0.0, 8.0, 0.0, 7.0, 8.0, 8.0, 8.0, 0.0, 8.0, 6.0, 8.0, 7.0, 7.0, 7.0, 8.0, 8.0, 8.0, 0.0, 0.0, 0.0, 7.0, 7.0, 7.0, 7.0, 7.0, 7.0, 0.0, 8.0, 7.0, 7.0, 7.0, 8.0, 7.0, 7.0, 7.0, 0.0, 0.0, 6.0, 6.0, 6.0, 6.0, 6.0, 6.0, 6.0, 7.0, 7.0, 7.0, 7.0, 0.0, 0.0, 0.0, 9.0, 9.0, 0.0, 0.0, 9.0, 0.0, 8.0, 0.0, 0.0, 0.0, 9.0, 9.0, 0.0, 9.0, 9.0, 9.0, 8.0, 8.0, 9.0, 0.0, 0.0, 0.0, 0.0, 0.0, 9.0, 9.0, 0.0, 0.0, 8.0, 0.0, 9.0, 8.0, 8.0, 8.0, 8.0, 9.0, 7.0, 8.0, 9.0, 7.0, 8.0, 9.0, 8.0, 8.0, 8.0, 8.0, 8.0, 7.0, 9.0, 8.0, 8.0, 8.0, 9.0, 8.0, 7.0, 9.0, 8.0, 9.0, 9.0, 9.0, 7.0, 7.0, 8.0, 9.0, 9.0, 8.0, 7.0, 7.0, 7.0, 8.0, 8.0, 8.0, 9.0, 7.0, 8.0, 9.0, 0.0, 7.0, 7.0, 7.0, 7.0, 8.0, 7.0, 7.0, 7.0, 7.0, 7.0, 7.0, 0.0, 0.0, 0.0, 9.0, 8.0, 0.0, 0.0, 8.0, 0.0, 8.0, 0.0, 0.0, 0.0, 8.0, 8.0, 0.0, 8.0, 9.0, 9.0, 8.0, 8.0, 8.0, 0.0, 0.0, 0.0, 0.0, 0.0, 8.0, 8.0, 0.0, 0.0, 8.0, 0.0, 9.0, 9.0, 7.0, 7.0, 8.0, 8.0, 8.0, 8.0, 8.0, 7.0, 7.0, 8.0, 8.0, 7.0, 9.0, 7.0, 8.0, 9.0, 9.0, 8.0, 8.0, 9.0, 8.0, 9.0, 9.0, 8.0, 7.0, 8.0, 9.0, 8.0, 7.0, 7.0, 8.0, 9.0, 9.0, 8.0, 7.0, 7.0, 8.0, 9.0, 8.0, 7.0, 8.0, 7.0, 9.0, 8.0, 0.0, 7.0, 6.0, 7.0, 7.0, 7.0, 7.0, 7.0, 7.0, 7.0, 7.0, 7.0, 8.0, 0.0, 0.0, 9.0, 0.0, 0.0, 0.0, 9.0, 9.0, 8.0, 8.0, 0.0, 0.0, 8.0, 8.0, 0.0, 9.0, 9.0, 8.0, 8.0, 8.0, 8.0, 0.0, 0.0, 0.0, 0.0, 8.0, 8.0, 8.0, 0.0, 9.0, 9.0, 0.0, 8.0, 8.0, 7.0, 7.0, 7.0, 8.0, 8.0, 7.0, 9.0, 7.0, 7.0, 7.0, 7.0, 7.0, 8.0, 7.0, 7.0, 7.0, 8.0, 8.0, 8.0, 9.0, 8.0, 7.0, 7.0, 8.0, 7.0, 7.0, 8.0, 8.0, 7.0, 7.0, 8.0, 9.0, 9.0, 8.0, 7.0, 7.0, 7.0, 8.0, 8.0, 7.0, 8.0, 7.0, 7.0, 9.0, 0.0, 7.0, 6.0, 7.0, 7.0, 7.0, 7.0, 6.0, 7.0, 7.0, 7.0, 7.0, 7.0, 0.0, 0.0, 8.0, 8.0, 0.0, 0.0, 8.0, 0.0, 0.0, 0.0, 0.0, 8.0, 8.0, 8.0, 0.0, 8.0, 8.0, 0.0, 9.0, 9.0, 9.0, 8.0, 8.0, 8.0, 8.0, 8.0, 8.0, 8.0, 0.0, 8.0, 8.0, 8.0, 8.0, 8.0, 8.0, 9.0, 9.0, 9.0, 8.0, 8.0, 8.0, 8.0, 8.0, 8.0, 7.0, 7.0, 7.0, 8.0, 8.0, 7.0, 7.0, 7.0, 7.0, 7.0, 7.0, 7.0, 8.0, 8.0, 8.0, 7.0, 0.0, 0.0, 0.0, 7.0, 6.0, 7.0, 0.0, 7.0, 7.0, 7.0, 7.0, 8.0, 7.0, 7.0, 7.0, 7.0, 0.0, 0.0, 0.0, 6.0, 0.0, 0.0, 6.0, 7.0, 6.0, 6.0, 6.0, 7.0, 6.0, 7.0, 7.0, 0.0, 0.0, 8.0, 8.0, 0.0, 0.0, 8.0, 0.0, 8.0, 8.0, 0.0, 8.0, 8.0, 8.0, 0.0, 8.0, 8.0, 0.0, 8.0, 9.0, 9.0, 9.0, 9.0, 8.0, 8.0, 8.0, 8.0, 8.0, 8.0, 8.0, 0.0, 0.0, 8.0, 8.0, 8.0, 9.0, 9.0, 9.0, 9.0, 8.0, 8.0, 8.0, 8.0, 8.0, 7.0, 0.0, 7.0, 8.0, 8.0, 8.0, 0.0, 7.0, 8.0, 7.0, 7.0, 7.0, 8.0, 8.0, 8.0, 7.0, 0.0, 0.0, 0.0, 7.0, 7.0, 7.0, 7.0, 7.0, 7.0, 7.0, 7.0, 7.0, 7.0, 7.0, 7.0, 7.0, 0.0, 0.0, 0.0, 6.0, 0.0, 0.0, 7.0, 7.0, 7.0, 6.0, 7.0, 7.0, 7.0, 7.0, 8.0, 0.0, 0.0, 8.0, 9.0, 0.0, 0.0, 0.0, 0.0, 9.0, 0.0, 0.0, 9.0, 9.0, 9.0, 0.0, 9.0, 9.0, 0.0, 9.0, 9.0, 9.0, 8.0, 8.0, 8.0, 9.0, 9.0, 9.0, 9.0, 9.0, 9.0, 0.0, 0.0, 8.0, 8.0, 8.0, 8.0, 8.0, 9.0, 9.0, 9.0, 9.0, 8.0, 8.0, 9.0, 8.0, 8.0, 8.0, 8.0, 8.0, 8.0, 8.0, 8.0, 8.0, 7.0, 8.0, 8.0, 9.0, 8.0, 8.0, 8.0, 0.0, 0.0, 0.0, 8.0, 8.0, 8.0, 8.0, 7.0, 8.0, 8.0, 8.0, 8.0, 7.0, 8.0, 7.0, 7.0, 8.0, 0.0, 0.0, 6.0, 7.0, 0.0, 7.0, 7.0, 7.0, 7.0, 6.0, 7.0, 7.0, 8.0, 8.0, 0.0, 0.0, 8.0, 0.0, 0.0, 0.0, 6.0, 8.0, 8.0, 0.0, 0.0, 0.0, 8.0, 8.0, 0.0, 8.0, 8.0, 8.0, 8.0, 8.0, 8.0, 8.0, 0.0, 0.0, 0.0, 0.0, 8.0, 8.0, 0.0, 0.0, 8.0, 0.0, 8.0, 9.0, 9.0, 8.0, 8.0, 8.0, 8.0, 8.0, 8.0, 0.0, 0.0, 0.0, 0.0, 7.0, 8.0, 9.0, 8.0, 0.0, 0.0, 0.0, 8.0, 8.0, 9.0, 8.0, 8.0, 7.0, 7.0, 7.0, 0.0, 8.0, 0.0, 7.0, 8.0, 8.0, 8.0, 8.0, 7.0, 7.0, 8.0, 7.0, 7.0, 7.0, 7.0, 7.0, 7.0, 0.0, 0.0, 0.0, 6.0, 0.0, 0.0, 6.0, 6.0, 0.0, 0.0, 0.0, 0.0, 7.0, 0.0, 0.0, 0.0, 8.0, 8.0, 0.0, 0.0, 8.0, 0.0, 9.0, 0.0, 0.0, 8.0, 8.0, 9.0, 8.0, 8.0, 8.0, 0.0, 8.0, 9.0, 8.0, 8.0, 8.0, 8.0, 8.0, 8.0, 9.0, 9.0, 0.0, 8.0, 8.0, 0.0, 8.0, 7.0, 7.0, 9.0, 9.0, 9.0, 8.0, 8.0, 8.0, 7.0, 8.0, 9.0, 8.0, 0.0, 8.0, 8.0, 8.0, 8.0, 7.0, 7.0, 7.0, 7.0, 8.0, 8.0, 7.0, 8.0, 8.0, 7.0, 0.0, 0.0, 0.0, 7.0, 7.0, 8.0, 7.0, 7.0, 7.0, 6.0, 7.0, 7.0, 8.0, 8.0, 7.0, 8.0, 0.0, 0.0, 0.0, 6.0, 6.0, 0.0, 6.0, 8.0, 7.0, 7.0, 6.0, 7.0, 6.0, 6.0, 0.0, 0.0, 0.0, 9.0, 9.0, 0.0, 0.0, 0.0, 0.0, 9.0, 0.0, 0.0, 9.0, 9.0, 9.0, 0.0, 9.0, 9.0, 0.0, 9.0, 9.0, 8.0, 8.0, 8.0, 8.0, 8.0, 9.0, 9.0, 9.0, 9.0, 9.0, 9.0, 0.0, 0.0, 8.0, 8.0, 7.0, 7.0, 8.0, 8.0, 8.0, 8.0, 8.0, 0.0, 8.0, 7.0, 8.0, 7.0, 8.0, 8.0, 8.0, 8.0, 7.0, 8.0, 7.0, 7.0, 8.0, 8.0, 8.0, 7.0, 7.0, 0.0, 7.0, 0.0, 8.0, 8.0, 8.0, 7.0, 7.0, 7.0, 8.0, 8.0, 8.0, 7.0, 7.0, 7.0, 8.0, 8.0, 0.0, 0.0, 6.0, 7.0, 0.0, 7.0, 7.0, 7.0, 7.0, 6.0, 8.0, 8.0, 8.0, 7.0, 0.0, 0.0, 8.0, 9.0, 0.0, 0.0, 8.0, 0.0, 9.0, 0.0, 0.0, 9.0, 9.0, 9.0, 0.0, 9.0, 8.0, 0.0, 9.0, 9.0, 8.0, 8.0, 8.0, 8.0, 8.0, 9.0, 9.0, 9.0, 9.0, 9.0, 0.0, 0.0, 0.0, 7.0, 8.0, 8.0, 7.0, 7.0, 8.0, 9.0, 9.0, 8.0, 8.0, 7.0, 7.0, 7.0, 7.0, 8.0, 8.0, 8.0, 8.0, 6.0, 6.0, 7.0, 7.0, 7.0, 8.0, 7.0, 7.0, 8.0, 0.0, 7.0, 0.0, 8.0, 7.0, 8.0, 7.0, 7.0, 7.0, 7.0, 7.0, 7.0, 7.0, 7.0, 7.0, 7.0, 0.0, 0.0, 0.0, 6.0, 6.0, 0.0, 6.0, 7.0, 7.0, 7.0, 6.0, 7.0, 6.0, 7.0, 8.0, 0.0, 0.0, 8.0, 9.0, 0.0, 0.0, 8.0, 0.0, 8.0, 0.0, 0.0, 8.0, 9.0, 0.0, 0.0, 9.0, 8.0, 8.0, 8.0, 9.0, 8.0, 8.0, 8.0, 8.0, 8.0, 8.0, 9.0, 9.0, 9.0, 8.0, 8.0, 0.0, 8.0, 7.0, 7.0, 8.0, 9.0, 9.0, 8.0, 9.0, 8.0, 8.0, 7.0, 9.0, 8.0, 0.0, 8.0, 8.0, 8.0, 8.0, 0.0, 7.0, 7.0, 8.0, 8.0, 8.0, 7.0, 7.0, 9.0, 7.0, 0.0, 0.0, 0.0, 6.0, 7.0, 8.0, 7.0, 7.0, 6.0, 6.0, 7.0, 7.0, 7.0, 7.0, 7.0, 8.0, 0.0, 0.0, 0.0, 6.0, 6.0, 0.0, 6.0, 7.0, 7.0, 7.0, 6.0, 7.0, 0.0, 6.0, 0.0, 0.0, 0.0, 8.0, 0.0, 0.0, 0.0, 8.0, 8.0, 8.0, 0.0, 0.0, 0.0, 8.0, 8.0, 0.0, 8.0, 8.0, 8.0, 8.0, 8.0, 0.0, 0.0, 0.0, 0.0, 0.0, 0.0, 8.0, 8.0, 8.0, 8.0, 8.0, 0.0, 0.0, 8.0, 7.0, 0.0, 8.0, 8.0, 8.0, 8.0, 8.0, 7.0, 7.0, 7.0, 7.0, 7.0, 7.0, 7.0, 7.0, 8.0, 8.0, 8.0, 7.0, 8.0, 7.0, 7.0, 7.0, 7.0, 0.0, 7.0, 7.0, 8.0, 7.0, 7.0, 8.0, 9.0, 10.0, 8.0, 7.0, 7.0, 6.0, 8.0, 8.0, 7.0, 8.0, 7.0, 0.0, 8.0, 0.0, 6.0, 6.0, 0.0, 7.0, 6.0, 7.0, 6.0, 7.0, 7.0, 7.0, 7.0, 7.0, 0.0, 0.0, 8.0, 8.0, 0.0, 0.0, 8.0, 0.0, 9.0, 0.0, 0.0, 8.0, 8.0, 9.0, 0.0, 9.0, 8.0, 8.0, 8.0, 9.0, 8.0, 8.0, 8.0, 8.0, 8.0, 8.0, 9.0, 9.0, 9.0, 9.0, 8.0, 0.0, 8.0, 8.0, 8.0, 8.0, 9.0, 9.0, 8.0, 9.0, 9.0, 9.0, 9.0, 9.0, 8.0, 8.0, 8.0, 8.0, 8.0, 8.0, 7.0, 8.0, 7.0, 8.0, 8.0, 8.0, 8.0, 9.0, 9.0, 9.0, 0.0, 8.0, 7.0, 7.0, 8.0, 8.0, 8.0, 7.0, 8.0, 8.0, 8.0, 8.0, 8.0, 8.0, 8.0, 8.0, 0.0, 0.0, 0.0, 6.0, 6.0, 0.0, 7.0, 8.0, 8.0, 7.0, 6.0, 7.0, 7.0, 7.0, 7.0, 0.0, 0.0, 8.0, 9.0, 0.0, 0.0, 0.0, 0.0, 9.0, 0.0, 0.0, 9.0, 9.0, 0.0, 0.0, 9.0, 8.0, 0.0, 9.0, 9.0, 8.0, 8.0, 8.0, 9.0, 9.0, 9.0, 9.0, 9.0, 9.0, 8.0, 8.0, 0.0, 0.0, 7.0, 8.0, 8.0, 9.0, 9.0, 8.0, 8.0, 0.0, 8.0, 8.0, 9.0, 8.0, 8.0, 8.0, 8.0, 8.0, 8.0, 7.0, 7.0, 6.0, 8.0, 8.0, 8.0, 8.0, 9.0, 8.0, 8.0, 0.0, 7.0, 0.0, 7.0, 7.0, 0.0, 7.0, 7.0, 7.0, 7.0, 7.0, 7.0, 8.0, 8.0, 8.0, 8.0, 0.0, 0.0, 0.0, 6.0, 6.0, 0.0, 6.0, 8.0, 7.0, 7.0, 6.0, 7.0, 7.0, 6.0, 0.0, 0.0, 0.0, 8.0, 0.0, 0.0, 0.0, 8.0, 0.0, 9.0, 0.0, 0.0, 9.0, 8.0, 8.0, 0.0, 0.0, 0.0, 8.0, 8.0, 8.0, 8.0, 8.0, 8.0, 6.0, 9.0, 8.0, 9.0, 9.0, 9.0, 9.0, 8.0, 0.0, 0.0, 8.0, 7.0, 7.0, 9.0, 9.0, 8.0, 7.0, 8.0, 8.0, 7.0, 8.0, 7.0, 7.0, 7.0, 8.0, 8.0, 0.0, 7.0, 7.0, 7.0, 8.0, 7.0, 7.0, 8.0, 7.0, 7.0, 7.0, 0.0, 6.0, 0.0, 7.0, 8.0, 7.0, 8.0, 7.0, 7.0, 7.0, 8.0, 8.0, 6.0, 6.0, 7.0, 7.0, 0.0, 0.0, 0.0, 6.0, 6.0, 0.0, 7.0, 7.0, 7.0, 6.0, 7.0, 7.0, 7.0, 7.0, 9.0, 0.0, 0.0, 9.0, 0.0, 0.0, 0.0, 8.0, 0.0, 9.0, 0.0, 0.0, 9.0, 9.0, 8.0, 0.0, 0.0, 8.0, 9.0, 8.0, 8.0, 8.0, 8.0, 9.0, 9.0, 9.0, 9.0, 9.0, 9.0, 9.0, 8.0, 9.0, 0.0, 8.0, 8.0, 8.0, 7.0, 8.0, 8.0, 9.0, 8.0, 9.0, 7.0, 8.0, 8.0, 8.0, 8.0, 8.0, 8.0, 8.0, 0.0, 7.0, 7.0, 7.0, 7.0, 8.0, 8.0, 7.0, 7.0, 6.0, 7.0, 0.0, 0.0, 7.0, 7.0, 8.0, 8.0, 8.0, 7.0, 7.0, 8.0, 8.0, 7.0, 7.0, 6.0, 7.0, 8.0, 0.0, 0.0, 0.0, 6.0, 7.0, 0.0, 7.0, 7.0, 7.0, 7.0, 6.0, 7.0, 7.0, 7.0, 0.0, 0.0, 0.0, 9.0, 0.0, 0.0, 0.0, 8.0, 0.0, 9.0, 0.0, 0.0, 9.0, 9.0, 9.0, 0.0, 0.0, 8.0, 8.0, 8.0, 9.0, 9.0, 9.0, 9.0, 9.0, 9.0, 9.0, 9.0, 9.0, 9.0, 9.0, 9.0, 0.0, 0.0, 8.0, 8.0, 8.0, 8.0, 8.0, 9.0, 8.0, 9.0, 7.0, 8.0, 9.0, 8.0, 8.0, 8.0, 8.0, 8.0, 0.0, 7.0, 8.0, 7.0, 7.0, 8.0, 8.0, 8.0, 9.0, 7.0, 7.0, 0.0, 7.0, 7.0, 7.0, 8.0, 8.0, 7.0, 8.0, 7.0, 7.0, 8.0, 7.0, 7.0, 7.0, 8.0, 8.0, 0.0, 0.0, 0.0, 6.0, 7.0, 0.0, 7.0, 8.0, 7.0, 7.0, 7.0, 7.0, 6.0, 7.0, 0.0, 0.0, 0.0, 8.0, 0.0, 0.0, 0.0, 7.0, 0.0, 0.0, 0.0, 0.0, 8.0, 8.0, 8.0, 0.0, 0.0, 0.0, 8.0, 9.0, 8.0, 8.0, 0.0, 0.0, 0.0, 0.0, 0.0, 8.0, 8.0, 8.0, 8.0, 8.0, 0.0, 8.0, 9.0, 9.0, 8.0, 8.0, 8.0, 8.0, 8.0, 8.0, 8.0, 9.0, 8.0, 8.0, 8.0, 7.0, 8.0, 8.0, 0.0, 0.0, 8.0, 8.0, 9.0, 9.0, 8.0, 9.0, 8.0, 7.0, 7.0, 0.0, 8.0, 7.0, 7.0, 8.0, 8.0, 9.0, 8.0, 7.0, 7.0, 8.0, 8.0, 8.0, 7.0, 7.0, 7.0, 8.0, 8.0, 0.0, 8.0, 6.0, 0.0, 7.0, 7.0, 7.0, 6.0, 7.0, 7.0, 7.0, 7.0, 0.0, 0.0, 0.0, 8.0, 9.0, 0.0, 0.0, 0.0, 0.0, 8.0, 0.0, 0.0, 8.0, 8.0, 8.0, 0.0, 0.0, 8.0, 0.0, 8.0, 9.0, 8.0, 8.0, 8.0, 8.0, 8.0, 8.0, 8.0, 9.0, 8.0, 8.0, 8.0, 0.0, 0.0, 7.0, 7.0, 9.0, 9.0, 9.0, 8.0, 8.0, 0.0, 8.0, 7.0, 8.0, 8.0, 7.0, 7.0, 7.0, 8.0, 8.0, 7.0, 8.0, 8.0, 7.0, 7.0, 8.0, 7.0, 7.0, 8.0, 8.0, 0.0, 7.0, 0.0, 7.0, 7.0, 8.0, 7.0, 6.0, 6.0, 7.0, 7.0, 7.0, 8.0, 8.0, 8.0, 8.0, 0.0, 0.0, 0.0, 6.0, 6.0, 0.0, 6.0, 8.0, 7.0, 7.0, 6.0, 7.0, 7.0, 6.0, 7.0, 0.0, 0.0, 8.0, 0.0, 0.0, 0.0, 7.0, 0.0, 0.0, 0.0, 0.0, 8.0, 8.0, 8.0, 0.0, 0.0, 0.0, 8.0, 8.0, 8.0, 8.0, 8.0, 8.0, 8.0, 8.0, 8.0, 8.0, 9.0, 8.0, 8.0, 8.0, 0.0, 0.0, 9.0, 9.0, 8.0, 9.0, 9.0, 8.0, 9.0, 8.0, 9.0, 7.0, 8.0, 8.0, 7.0, 7.0, 8.0, 7.0, 0.0, 8.0, 8.0, 8.0, 8.0, 8.0, 8.0, 9.0, 9.0, 7.0, 8.0, 0.0, 7.0, 7.0, 7.0, 8.0, 9.0, 8.0, 8.0, 7.0, 7.0, 8.0, 7.0, 9.0, 7.0, 8.0, 7.0, 0.0, 8.0, 0.0, 6.0, 6.0, 0.0, 7.0, 8.0, 7.0, 6.0, 7.0, 7.0, 7.0, 7.0, 0.0, 0.0, 0.0, 8.0, 9.0, 0.0, 0.0, 8.0, 0.0, 9.0, 0.0, 0.0, 0.0, 8.0, 0.0, 0.0, 9.0, 8.0, 8.0, 8.0, 8.0, 9.0, 8.0, 9.0, 8.0, 9.0, 8.0, 8.0, 8.0, 8.0, 9.0, 8.0, 0.0, 0.0, 7.0, 7.0, 10.0, 9.0, 9.0, 9.0, 9.0, 8.0, 7.0, 8.0, 9.0, 8.0, 8.0, 8.0, 8.0, 8.0, 0.0, 7.0, 8.0, 8.0, 7.0, 7.0, 8.0, 7.0, 8.0, 8.0, 8.0, 0.0, 7.0, 0.0, 7.0, 8.0, 8.0, 7.0, 6.0, 7.0, 7.0, 7.0, 8.0, 7.0, 8.0, 7.0, 8.0, 0.0, 0.0, 0.0, 6.0, 7.0, 0.0, 6.0, 8.0, 6.0, 7.0, 6.0, 7.0, 7.0, 7.0, 8.0, 0.0, 0.0, 8.0, 0.0, 0.0, 0.0, 8.0, 0.0, 8.0, 0.0, 0.0, 8.0, 9.0, 8.0, 0.0, 0.0, 0.0, 8.0, 9.0, 8.0, 8.0, 8.0, 8.0, 0.0, 8.0, 0.0, 8.0, 8.0, 8.0, 8.0, 8.0, 8.0, 0.0, 9.0, 8.0, 8.0, 9.0, 8.0, 8.0, 8.0, 8.0, 9.0, 9.0, 7.0, 8.0, 7.0, 7.0, 8.0, 8.0, 0.0, 0.0, 8.0, 8.0, 8.0, 7.0, 8.0, 9.0, 8.0, 7.0, 7.0, 0.0, 0.0, 7.0, 7.0, 8.0, 8.0, 8.0, 8.0, 7.0, 7.0, 8.0, 8.0, 8.0, 7.0, 7.0, 7.0, 9.0, 0.0, 0.0, 7.0, 6.0, 0.0, 7.0, 7.0, 7.0, 6.0, 7.0, 7.0, 7.0, 7.0, 7.0, 0.0, 0.0, 8.0, 0.0, 0.0, 0.0, 8.0, 9.0, 0.0, 0.0, 0.0, 9.0, 9.0, 8.0, 0.0, 0.0, 0.0, 9.0, 10.0, 10.0, 8.0, 8.0, 8.0, 8.0, 9.0, 8.0, 9.0, 9.0, 8.0, 8.0, 9.0, 9.0, 9.0, 9.0, 9.0, 9.0, 9.0, 9.0, 9.0, 9.0, 9.0, 9.0, 9.0, 9.0, 8.0, 8.0, 9.0, 10.0, 9.0, 0.0, 0.0, 8.0, 8.0, 8.0, 8.0, 8.0, 10.0, 8.0, 8.0, 8.0, 0.0, 0.0, 7.0, 7.0, 9.0, 9.0, 10.0, 8.0, 7.0, 8.0, 9.0, 8.0, 9.0, 8.0, 8.0, 8.0, 9.0, 0.0, 0.0, 8.0, 6.0, 0.0, 7.0, 7.0, 7.0, 7.0, 7.0, 7.0, 7.0, 7.0, 0.0, 0.0, 0.0, 8.0, 9.0, 0.0, 0.0, 8.0, 0.0, 9.0, 0.0, 0.0, 0.0, 9.0, 8.0, 0.0, 0.0, 0.0, 9.0, 9.0, 9.0, 8.0, 8.0, 8.0, 8.0, 9.0, 9.0, 9.0, 9.0, 9.0, 9.0, 9.0, 0.0, 0.0, 9.0, 9.0, 9.0, 9.0, 9.0, 9.0, 9.0, 9.0, 8.0, 9.0, 9.0, 9.0, 8.0, 9.0, 8.0, 9.0, 0.0, 8.0, 8.0, 9.0, 8.0, 8.0, 8.0, 9.0, 8.0, 9.0, 8.0, 0.0, 0.0, 7.0, 7.0, 9.0, 8.0, 8.0, 7.0, 7.0, 7.0, 9.0, 9.0, 8.0, 8.0, 8.0, 8.0, 0.0, 0.0, 0.0, 6.0, 7.0, 0.0, 6.0, 7.0, 7.0, 7.0, 8.0, 7.0, 6.0, 7.0, 7.0, 0.0, 0.0, 8.0, 0.0, 0.0, 0.0, 8.0, 8.0, 8.0, 0.0, 0.0, 8.0, 8.0, 8.0, 0.0, 0.0, 0.0, 9.0, 9.0, 8.0, 8.0, 8.0, 8.0, 8.0, 8.0, 8.0, 8.0, 8.0, 8.0, 8.0, 8.0, 8.0, 8.0, 9.0, 9.0, 9.0, 9.0, 9.0, 8.0, 8.0, 8.0, 9.0, 9.0, 9.0, 0.0, 9.0, 9.0, 9.0, 8.0, 0.0, 0.0, 8.0, 8.0, 8.0, 9.0, 9.0, 9.0, 9.0, 9.0, 9.0, 8.0, 0.0, 7.0, 7.0, 8.0, 9.0, 9.0, 8.0, 7.0, 8.0, 8.0, 8.0, 9.0, 8.0, 8.0, 9.0, 8.0, 8.0, 0.0, 8.0, 7.0, 0.0, 7.0, 7.0, 8.0, 8.0, 7.0, 7.0, 7.0, 7.0, 7.0, 0.0, 0.0, 8.0, 0.0, 0.0, 0.0, 8.0, 8.0, 8.0, 0.0, 8.0, 9.0, 8.0, 8.0, 0.0, 0.0, 0.0, 8.0, 8.0, 8.0, 8.0, 8.0, 8.0, 8.0, 8.0, 8.0, 8.0, 8.0, 8.0, 8.0, 8.0, 8.0, 8.0, 9.0, 8.0, 8.0, 9.0, 9.0, 8.0, 8.0, 9.0, 9.0, 9.0, 9.0, 0.0, 8.0, 8.0, 8.0, 8.0, 0.0, 0.0, 8.0, 8.0, 7.0, 7.0, 8.0, 8.0, 8.0, 7.0, 7.0, 0.0, 0.0, 8.0, 7.0, 8.0, 9.0, 8.0, 8.0, 7.0, 7.0, 8.0, 7.0, 7.0, 7.0, 7.0, 8.0, 0.0, 8.0, 0.0, 7.0, 7.0, 0.0, 7.0, 7.0, 7.0, 7.0, 7.0, 7.0, 7.0, 7.0, 0.0, 0.0, 0.0, 8.0, 8.0, 0.0, 0.0, 8.0, 0.0, 8.0, 0.0, 0.0, 0.0, 8.0, 8.0, 0.0, 0.0, 0.0, 8.0, 8.0, 8.0, 8.0, 8.0, 8.0, 8.0, 8.0, 8.0, 8.0, 8.0, 8.0, 8.0, 8.0, 0.0, 0.0, 9.0, 8.0, 8.0, 9.0, 8.0, 8.0, 8.0, 8.0, 9.0, 9.0, 8.0, 8.0, 7.0, 7.0, 8.0, 8.0, 0.0, 7.0, 8.0, 8.0, 7.0, 7.0, 7.0, 8.0, 8.0, 8.0, 7.0, 0.0, 0.0, 0.0, 7.0, 8.0, 7.0, 7.0, 7.0, 7.0, 6.0, 7.0, 7.0, 7.0, 7.0, 7.0, 7.0, 0.0, 0.0, 0.0, 6.0, 7.0, 0.0, 6.0, 7.0, 7.0, 6.0, 6.0, 7.0, 6.0, 6.0, 7.0, 0.0, 0.0, 8.0, 0.0, 0.0, 0.0, 8.0, 0.0, 9.0, 0.0, 0.0, 0.0, 0.0, 8.0, 0.0, 0.0, 0.0, 8.0, 9.0, 9.0, 8.0, 8.0, 0.0, 8.0, 8.0, 8.0, 8.0, 8.0, 8.0, 8.0, 8.0, 8.0, 8.0, 9.0, 9.0, 9.0, 7.0, 9.0, 8.0, 8.0, 8.0, 9.0, 9.0, 9.0, 9.0, 9.0, 8.0, 9.0, 8.0, 0.0, 0.0, 8.0, 8.0, 9.0, 7.0, 8.0, 8.0, 8.0, 9.0, 7.0, 0.0, 0.0, 8.0, 7.0, 8.0, 8.0, 8.0, 8.0, 8.0, 8.0, 8.0, 7.0, 8.0, 8.0, 7.0, 8.0, 8.0, 8.0, 0.0, 7.0, 7.0, 0.0, 7.0, 7.0, 8.0, 8.0, 7.0, 7.0, 7.0, 7.0, 7.0, 0.0, 8.0, 8.0, 8.0, 0.0, 0.0, 8.0, 0.0, 8.0, 0.0, 8.0, 8.0, 8.0, 0.0, 0.0, 0.0, 0.0, 8.0, 8.0, 8.0, 8.0, 8.0, 8.0, 8.0, 8.0, 8.0, 8.0, 8.0, 8.0, 8.0, 8.0, 0.0, 0.0, 8.0, 8.0, 8.0, 8.0, 8.0, 8.0, 8.0, 0.0, 8.0, 8.0, 8.0, 8.0, 8.0, 8.0, 8.0, 8.0, 0.0, 0.0, 5.0, 5.0, 8.0, 8.0, 8.0, 8.0, 7.0, 8.0, 8.0, 0.0, 8.0, 0.0, 7.0, 7.0, 0.0, 8.0, 5.0, 8.0, 7.0, 7.0, 7.0, 7.0, 7.0, 8.0, 7.0, 0.0, 0.0, 0.0, 5.0, 0.0, 0.0, 4.0, 6.0, 7.0, 7.0, 4.0, 4.0, 6.0, 6.0, 7.0, 0.0, 0.0, 8.0, 0.0, 0.0, 0.0, 7.0, 0.0, 8.0, 0.0, 0.0, 0.0, 8.0, 8.0, 0.0, 0.0, 0.0, 8.0, 9.0, 9.0, 9.0, 0.0, 0.0, 9.0, 8.0, 0.0, 8.0, 9.0, 8.0, 8.0, 8.0, 8.0, 8.0, 9.0, 10.0, 9.0, 9.0, 9.0, 9.0, 8.0, 8.0, 9.0, 9.0, 9.0, 9.0, 9.0, 9.0, 9.0, 8.0, 0.0, 0.0, 8.0, 8.0, 8.0, 8.0, 9.0, 8.0, 8.0, 9.0, 7.0, 0.0, 0.0, 8.0, 7.0, 9.0, 8.0, 8.0, 8.0, 8.0, 8.0, 9.0, 7.0, 8.0, 7.0, 8.0, 8.0, 8.0, 8.0, 0.0, 7.0, 7.0, 0.0, 6.0, 8.0, 8.0, 8.0, 6.0, 7.0, 6.0, 6.0, 0.0, 0.0, 0.0, 8.0, 9.0, 0.0, 0.0, 8.0, 0.0, 9.0, 0.0, 0.0, 0.0, 8.0, 8.0, 0.0, 0.0, 0.0, 8.0, 8.0, 8.0, 8.0, 8.0, 8.0, 8.0, 8.0, 8.0, 8.0, 8.0, 8.0, 8.0, 8.0, 0.0, 0.0, 7.0, 7.0, 8.0, 8.0, 8.0, 8.0, 8.0, 8.0, 7.0, 7.0, 8.0, 7.0, 7.0, 7.0, 7.0, 7.0, 0.0, 7.0, 8.0, 8.0, 7.0, 7.0, 7.0, 7.0, 8.0, 7.0, 7.0, 0.0, 0.0, 0.0, 7.0, 6.0, 7.0, 7.0, 6.0, 7.0, 6.0, 6.0, 7.0, 6.0, 8.0, 7.0, 7.0, 0.0, 0.0, 0.0, 6.0, 6.0, 0.0, 6.0, 7.0, 6.0, 6.0, 6.0, 7.0, 6.0, 6.0, 8.0, 0.0, 0.0, 9.0, 0.0, 0.0, 0.0, 9.0, 0.0, 0.0, 0.0, 0.0, 0.0, 9.0, 9.0, 0.0, 0.0, 0.0, 0.0, 8.0, 9.0, 9.0, 9.0, 9.0, 9.0, 9.0, 9.0, 9.0, 9.0, 9.0, 9.0, 9.0, 0.0, 0.0, 8.0, 7.0, 8.0, 7.0, 8.0, 9.0, 9.0, 8.0, 7.0, 7.0, 7.0, 8.0, 7.0, 7.0, 8.0, 8.0, 0.0, 7.0, 8.0, 8.0, 7.0, 8.0, 8.0, 8.0, 8.0, 7.0, 7.0, 0.0, 0.0, 6.0, 6.0, 7.0, 8.0, 7.0, 8.0, 7.0, 6.0, 7.0, 7.0, 6.0, 7.0, 6.0, 8.0, 9.0, 0.0, 0.0, 6.0, 6.0, 0.0, 6.0, 7.0, 7.0, 7.0, 6.0, 7.0, 6.0, 6.0, 0.0, 0.0, 0.0, 8.0, 9.0, 0.0, 0.0, 8.0, 0.0, 8.0, 0.0, 0.0, 8.0, 8.0, 9.0, 0.0, 9.0, 8.0, 8.0, 8.0, 9.0, 9.0, 8.0, 8.0, 8.0, 8.0, 8.0, 9.0, 9.0, 0.0, 8.0, 0.0, 0.0, 8.0, 7.0, 7.0, 7.0, 8.0, 8.0, 8.0, 9.0, 9.0, 7.0, 8.0, 8.0, 8.0, 0.0, 8.0, 8.0, 8.0, 8.0, 7.0, 8.0, 6.0, 7.0, 8.0, 8.0, 8.0, 7.0, 7.0, 8.0, 0.0, 7.0, 0.0, 7.0, 7.0, 8.0, 7.0, 8.0, 6.0, 6.0, 7.0, 7.0, 7.0, 7.0, 7.0, 7.0, 0.0, 0.0, 0.0, 6.0, 6.0, 0.0, 7.0, 7.0, 7.0, 7.0, 6.0, 7.0, 7.0, 7.0, 0.0, 0.0, 0.0, 7.0, 0.0, 0.0, 0.0, 7.0, 7.0, 8.0, 0.0, 8.0, 0.0, 8.0, 8.0, 0.0, 0.0, 0.0, 9.0, 9.0, 8.0, 8.0, 0.0, 8.0, 0.0, 8.0, 0.0, 8.0, 8.0, 8.0, 8.0, 8.0, 8.0, 0.0, 9.0, 9.0, 9.0, 8.0, 8.0, 8.0, 8.0, 8.0, 9.0, 9.0, 9.0, 0.0, 9.0, 8.0, 8.0, 8.0, 0.0, 0.0, 9.0, 9.0, 8.0, 8.0, 8.0, 8.0, 9.0, 9.0, 9.0, 0.0, 0.0, 8.0, 8.0, 8.0, 8.0, 8.0, 8.0, 8.0, 8.0, 7.0, 7.0, 7.0, 8.0, 8.0, 0.0, 8.0, 8.0, 0.0, 7.0, 7.0, 0.0, 7.0, 8.0, 8.0, 0.0, 7.0, 7.0, 6.0, 0.0, 7.0, 0.0, 8.0, 8.0, 0.0, 0.0, 0.0, 8.0, 8.0, 0.0, 0.0, 8.0, 0.0, 0.0, 8.0, 0.0, 0.0, 0.0, 8.0, 8.0, 8.0, 8.0, 0.0, 8.0, 8.0, 0.0, 8.0, 8.0, 8.0, 8.0, 8.0, 8.0, 8.0, 0.0, 6.0, 8.0, 8.0, 8.0, 8.0, 8.0, 8.0, 8.0, 8.0, 9.0, 9.0, 0.0, 8.0, 8.0, 8.0, 8.0, 0.0, 0.0, 5.0, 6.0, 8.0, 8.0, 8.0, 8.0, 8.0, 8.0, 8.0, 0.0, 0.0, 5.0, 7.0, 7.0, 8.0, 8.0, 5.0, 6.0, 7.0, 7.0, 8.0, 8.0, 8.0, 8.0, 0.0, 8.0, 8.0, 0.0, 5.0, 7.0, 0.0, 4.0, 8.0, 7.0, 0.0, 5.0, 4.0, 4.0, 0.0, 0.0, 0.0, 0.0, 8.0, 0.0, 0.0, 0.0, 7.0, 7.0, 8.0, 0.0, 0.0, 0.0, 8.0, 8.0, 0.0, 0.0, 0.0, 8.0, 8.0, 8.0, 8.0, 0.0, 8.0, 0.0, 0.0, 0.0, 8.0, 8.0, 8.0, 8.0, 8.0, 8.0, 0.0, 9.0, 9.0, 9.0, 9.0, 9.0, 0.0, 8.0, 8.0, 9.0, 9.0, 9.0, 0.0, 8.0, 8.0, 8.0, 9.0, 0.0, 0.0, 8.0, 8.0, 8.0, 8.0, 8.0, 8.0, 8.0, 9.0, 9.0, 0.0, 0.0, 8.0, 8.0, 8.0, 0.0, 8.0, 8.0, 8.0, 8.0, 7.0, 7.0, 8.0, 8.0, 0.0, 8.0, 0.0, 8.0, 0.0, 7.0, 7.0, 7.0, 7.0, 7.0, 8.0, 0.0, 8.0, 7.0, 6.0, 7.0, 7.0, 0.0, 0.0, 8.0, 0.0, 0.0, 0.0, 0.0, 8.0, 8.0, 0.0, 9.0, 0.0, 0.0, 9.0, 0.0, 0.0, 0.0, 8.0, 9.0, 8.0, 8.0, 0.0, 8.0, 8.0, 8.0, 0.0, 8.0, 8.0, 8.0, 8.0, 8.0, 9.0, 0.0, 8.0, 9.0, 8.0, 8.0, 8.0, 8.0, 8.0, 9.0, 8.0, 9.0, 9.0, 0.0, 9.0, 9.0, 9.0, 8.0, 0.0, 0.0, 9.0, 8.0, 8.0, 8.0, 8.0, 9.0, 8.0, 8.0, 8.0, 0.0, 0.0, 8.0, 7.0, 8.0, 0.0, 9.0, 9.0, 8.0, 8.0, 7.0, 8.0, 9.0, 8.0, 8.0, 0.0, 9.0, 8.0, 0.0, 8.0, 7.0, 0.0, 7.0, 8.0, 7.0, 0.0, 7.0, 6.0, 6.0, 6.0, 8.0, 0.0, 0.0, 9.0, 0.0, 0.0, 0.0, 0.0, 0.0, 0.0, 0.0, 0.0, 0.0, 9.0, 9.0, 0.0, 0.0, 0.0, 9.0, 9.0, 9.0, 9.0, 9.0, 8.0, 9.0, 9.0, 9.0, 9.0, 9.0, 9.0, 9.0, 9.0, 9.0, 0.0, 9.0, 9.0, 9.0, 9.0, 9.0, 9.0, 9.0, 9.0, 8.0, 8.0, 9.0, 8.0, 8.0, 8.0, 8.0, 8.0, 0.0, 0.0, 8.0, 7.0, 8.0, 8.0, 8.0, 8.0, 8.0, 8.0, 7.0, 0.0, 0.0, 7.0, 7.0, 7.0, 8.0, 8.0, 8.0, 7.0, 8.0, 7.0, 7.0, 7.0, 7.0, 8.0, 8.0, 9.0, 0.0, 0.0, 7.0, 7.0, 0.0, 8.0, 7.0, 7.0, 7.0, 7.0, 7.0, 7.0, 8.0, 7.0, 0.0, 0.0, 8.0, 8.0, 0.0, 0.0, 8.0, 0.0, 0.0, 0.0, 0.0, 8.0, 8.0, 8.0, 0.0, 8.0, 8.0, 8.0, 8.0, 9.0, 8.0, 8.0, 8.0, 8.0, 8.0, 8.0, 8.0, 9.0, 8.0, 8.0, 0.0, 9.0, 8.0, 7.0, 7.0, 9.0, 9.0, 9.0, 8.0, 9.0, 8.0, 8.0, 8.0, 8.0, 8.0, 8.0, 7.0, 7.0, 8.0, 8.0, 0.0, 7.0, 7.0, 7.0, 8.0, 7.0, 8.0, 8.0, 8.0, 7.0, 0.0, 8.0, 7.0, 7.0, 6.0, 8.0, 7.0, 7.0, 7.0, 6.0, 7.0, 7.0, 8.0, 7.0, 7.0, 7.0, 0.0, 0.0, 0.0, 6.0, 0.0, 0.0, 6.0, 7.0, 7.0, 7.0, 6.0, 7.0, 6.0, 6.0, 7.0, 0.0, 0.0, 8.0, 9.0, 0.0, 0.0, 0.0, 0.0, 9.0, 0.0, 0.0, 9.0, 9.0, 9.0, 0.0, 9.0, 8.0, 0.0, 9.0, 9.0, 9.0, 8.0, 8.0, 8.0, 8.0, 9.0, 9.0, 9.0, 9.0, 9.0, 9.0, 0.0, 0.0, 7.0, 8.0, 8.0, 8.0, 8.0, 9.0, 8.0, 9.0, 8.0, 8.0, 9.0, 8.0, 8.0, 8.0, 8.0, 8.0, 8.0, 7.0, 7.0, 7.0, 7.0, 7.0, 8.0, 8.0, 8.0, 7.0, 8.0, 0.0, 0.0, 0.0, 8.0, 7.0, 8.0, 8.0, 7.0, 7.0, 7.0, 7.0, 7.0, 7.0, 7.0, 7.0, 7.0, 8.0, 0.0, 0.0, 6.0, 7.0, 0.0, 6.0, 7.0, 7.0, 7.0, 6.0, 7.0, 7.0, 7.0, 0.0, 0.0, 0.0, 0.0, 9.0, 0.0, 0.0, 0.0, 0.0, 9.0, 0.0, 0.0, 9.0, 9.0, 9.0, 0.0, 9.0, 8.0, 0.0, 9.0, 9.0, 9.0, 9.0, 8.0, 8.0, 9.0, 9.0, 9.0, 9.0, 9.0, 9.0, 9.0, 0.0, 8.0, 8.0, 8.0, 8.0, 9.0, 9.0, 9.0, 9.0, 9.0, 8.0, 8.0, 8.0, 7.0, 8.0, 8.0, 8.0, 8.0, 8.0, 8.0, 7.0, 7.0, 7.0, 8.0, 8.0, 9.0, 8.0, 7.0, 8.0, 0.0, 8.0, 0.0, 8.0, 7.0, 8.0, 7.0, 7.0, 8.0, 7.0, 7.0, 7.0, 7.0, 7.0, 7.0, 7.0, 8.0, 0.0, 0.0, 6.0, 7.0, 0.0, 6.0, 7.0, 7.0, 7.0, 6.0, 7.0, 7.0, 7.0, 9.0, 0.0, 0.0, 8.0, 9.0, 0.0, 0.0, 0.0, 0.0, 9.0, 0.0, 0.0, 9.0, 9.0, 9.0, 0.0, 8.0, 8.0, 9.0, 9.0, 9.0, 8.0, 8.0, 8.0, 8.0, 8.0, 9.0, 9.0, 9.0, 0.0, 8.0, 0.0, 9.0, 8.0, 7.0, 8.0, 8.0, 7.0, 7.0, 7.0, 8.0, 8.0, 8.0, 8.0, 7.0, 7.0, 7.0, 7.0, 8.0, 8.0, 7.0, 7.0, 7.0, 7.0, 7.0, 7.0, 7.0, 8.0, 7.0, 7.0, 6.0, 0.0, 7.0, 7.0, 7.0, 8.0, 8.0, 8.0, 7.0, 8.0, 8.0, 7.0, 7.0, 7.0, 7.0, 7.0, 7.0, 8.0, 0.0, 0.0, 6.0, 7.0, 0.0, 6.0, 7.0, 7.0, 7.0, 7.0, 7.0, 7.0, 7.0, 0.0, 0.0, 0.0, 0.0, 9.0, 0.0, 0.0, 0.0, 0.0, 0.0, 0.0, 0.0, 9.0, 9.0, 9.0, 9.0, 9.0, 8.0, 9.0, 9.0, 9.0, 9.0, 9.0, 8.0, 9.0, 9.0, 9.0, 9.0, 9.0, 9.0, 9.0, 9.0, 0.0, 0.0, 7.0, 8.0, 8.0, 8.0, 7.0, 8.0, 8.0, 8.0, 8.0, 8.0, 7.0, 7.0, 7.0, 7.0, 8.0, 8.0, 8.0, 8.0, 6.0, 6.0, 7.0, 7.0, 8.0, 8.0, 8.0, 7.0, 7.0, 0.0, 0.0, 0.0, 8.0, 8.0, 8.0, 7.0, 7.0, 8.0, 8.0, 7.0, 7.0, 7.0, 7.0, 7.0, 7.0, 8.0, 0.0, 0.0, 6.0, 7.0, 0.0, 7.0, 7.0, 7.0, 7.0, 7.0, 7.0, 7.0, 7.0, 8.0, 0.0, 0.0, 8.0, 0.0, 0.0, 0.0, 8.0, 0.0, 9.0, 0.0, 0.0, 0.0, 9.0, 9.0, 0.0, 9.0, 9.0, 8.0, 8.0, 8.0, 7.0, 0.0, 0.0, 0.0, 0.0, 0.0, 8.0, 8.0, 8.0, 7.0, 8.0, 0.0, 8.0, 7.0, 7.0, 7.0, 7.0, 7.0, 7.0, 8.0, 8.0, 6.0, 0.0, 7.0, 7.0, 7.0, 7.0, 7.0, 7.0, 7.0, 8.0, 7.0, 7.0, 7.0, 7.0, 7.0, 9.0, 7.0, 6.0, 7.0, 6.0, 8.0, 7.0, 8.0, 8.0, 8.0, 8.0, 7.0, 7.0, 8.0, 8.0, 8.0, 8.0, 7.0, 7.0, 7.0, 0.0, 0.0, 0.0, 6.0, 7.0, 0.0, 7.0, 7.0, 7.0, 7.0, 6.0, 8.0, 8.0, 7.0, 0.0, 0.0, 0.0, 8.0, 0.0, 0.0, 0.0, 0.0, 0.0, 0.0, 0.0, 0.0, 9.0, 9.0, 9.0, 0.0, 8.0, 8.0, 9.0, 7.0, 8.0, 7.0, 7.0, 0.0, 0.0, 0.0, 0.0, 8.0, 9.0, 8.0, 9.0, 8.0, 0.0, 0.0, 7.0, 8.0, 7.0, 7.0, 8.0, 7.0, 8.0, 9.0, 8.0, 7.0, 7.0, 7.0, 7.0, 7.0, 7.0, 8.0, 7.0, 7.0, 7.0, 7.0, 6.0, 7.0, 7.0, 7.0, 7.0, 7.0, 7.0, 0.0, 6.0, 7.0, 7.0, 8.0, 7.0, 7.0, 7.0, 7.0, 7.0, 7.0, 7.0, 7.0, 7.0, 6.0, 7.0, 8.0, 0.0, 0.0, 6.0, 7.0, 0.0, 6.0, 7.0, 6.0, 7.0, 6.0, 7.0, 6.0, 7.0, 0.0, 0.0, 0.0, 9.0, 9.0, 0.0, 0.0, 0.0, 0.0, 9.0, 0.0, 0.0, 9.0, 9.0, 9.0, 0.0, 0.0, 8.0, 0.0, 8.0, 8.0, 8.0, 8.0, 8.0, 9.0, 9.0, 9.0, 8.0, 8.0, 9.0, 9.0, 9.0, 0.0, 0.0, 7.0, 7.0, 7.0, 7.0, 7.0, 8.0, 8.0, 8.0, 8.0, 7.0, 7.0, 7.0, 7.0, 7.0, 7.0, 8.0, 7.0, 8.0, 6.0, 6.0, 7.0, 7.0, 7.0, 8.0, 7.0, 7.0, 7.0, 0.0, 7.0, 0.0, 8.0, 7.0, 8.0, 7.0, 7.0, 7.0, 7.0, 7.0, 7.0, 7.0, 7.0, 7.0, 7.0, 8.0, 0.0, 0.0, 6.0, 7.0, 0.0, 6.0, 7.0, 7.0, 7.0, 6.0, 7.0, 7.0, 7.0, 8.0, 0.0, 0.0, 9.0, 9.0, 0.0, 0.0, 0.0, 0.0, 9.0, 0.0, 0.0, 9.0, 9.0, 9.0, 0.0, 9.0, 9.0, 9.0, 9.0, 8.0, 9.0, 9.0, 9.0, 9.0, 9.0, 9.0, 9.0, 9.0, 9.0, 9.0, 9.0, 0.0, 0.0, 7.0, 8.0, 8.0, 7.0, 8.0, 8.0, 8.0, 0.0, 7.0, 7.0, 7.0, 7.0, 7.0, 7.0, 7.0, 8.0, 0.0, 8.0, 6.0, 6.0, 7.0, 7.0, 7.0, 8.0, 7.0, 7.0, 7.0, 0.0, 7.0, 0.0, 8.0, 7.0, 0.0, 8.0, 7.0, 8.0, 7.0, 7.0, 7.0, 7.0, 7.0, 7.0, 7.0, 0.0, 0.0, 0.0, 6.0, 6.0, 0.0, 6.0, 7.0, 7.0, 7.0, 6.0, 7.0, 7.0, 7.0, 0.0, 0.0, 0.0, 9.0, 9.0, 0.0, 0.0, 8.0, 0.0, 9.0, 0.0, 0.0, 9.0, 9.0, 9.0, 0.0, 9.0, 8.0, 0.0, 9.0, 9.0, 8.0, 8.0, 8.0, 8.0, 8.0, 9.0, 9.0, 9.0, 9.0, 9.0, 0.0, 0.0, 8.0, 7.0, 8.0, 8.0, 8.0, 7.0, 9.0, 8.0, 9.0, 8.0, 8.0, 7.0, 7.0, 8.0, 8.0, 8.0, 8.0, 8.0, 7.0, 6.0, 6.0, 7.0, 7.0, 8.0, 8.0, 7.0, 7.0, 8.0, 0.0, 7.0, 0.0, 7.0, 7.0, 8.0, 8.0, 7.0, 7.0, 7.0, 7.0, 7.0, 7.0, 7.0, 7.0, 7.0, 0.0, 0.0, 0.0, 6.0, 6.0, 0.0, 6.0, 7.0, 7.0, 7.0, 6.0, 7.0, 7.0, 7.0, 0.0, 0.0, 0.0, 8.0, 9.0, 0.0, 0.0, 8.0, 0.0, 8.0, 0.0, 0.0, 9.0, 9.0, 9.0, 0.0, 0.0, 9.0, 8.0, 9.0, 9.0, 8.0, 8.0, 8.0, 8.0, 8.0, 8.0, 9.0, 9.0, 9.0, 8.0, 0.0, 0.0, 0.0, 8.0, 8.0, 9.0, 9.0, 9.0, 9.0, 9.0, 0.0, 8.0, 8.0, 9.0, 8.0, 0.0, 8.0, 8.0, 8.0, 9.0, 8.0, 8.0, 9.0, 8.0, 8.0, 8.0, 8.0, 9.0, 9.0, 8.0, 0.0, 8.0, 0.0, 8.0, 7.0, 8.0, 8.0, 7.0, 8.0, 8.0, 7.0, 7.0, 8.0, 8.0, 8.0, 8.0, 0.0, 0.0, 0.0, 6.0, 6.0, 0.0, 6.0, 7.0, 7.0, 6.0, 6.0, 7.0, 6.0, 6.0, 0.0, 0.0, 0.0, 9.0, 9.0, 0.0, 0.0, 8.0, 0.0, 9.0, 0.0, 0.0, 9.0, 9.0, 0.0, 0.0, 0.0, 9.0, 0.0, 9.0, 9.0, 8.0, 8.0, 8.0, 8.0, 8.0, 8.0, 9.0, 9.0, 9.0, 9.0, 9.0, 0.0, 0.0, 8.0, 8.0, 8.0, 9.0, 9.0, 8.0, 9.0, 0.0, 8.0, 8.0, 8.0, 8.0, 8.0, 8.0, 8.0, 8.0, 8.0, 8.0, 6.0, 7.0, 7.0, 8.0, 8.0, 8.0, 7.0, 7.0, 8.0, 0.0, 8.0, 0.0, 7.0, 7.0, 0.0, 8.0, 6.0, 7.0, 7.0, 7.0, 7.0, 7.0, 7.0, 7.0, 7.0, 0.0, 0.0, 0.0, 6.0, 7.0, 0.0, 6.0, 8.0, 7.0, 7.0, 6.0, 7.0, 7.0, 6.0, 7.0, 0.0, 0.0, 9.0, 9.0, 0.0, 0.0, 0.0, 0.0, 9.0, 0.0, 0.0, 0.0, 9.0, 0.0, 0.0, 0.0, 9.0, 8.0, 9.0, 9.0, 9.0, 8.0, 8.0, 9.0, 9.0, 9.0, 9.0, 9.0, 9.0, 9.0, 9.0, 0.0, 0.0, 7.0, 8.0, 9.0, 9.0, 8.0, 9.0, 9.0, 0.0, 8.0, 8.0, 8.0, 7.0, 8.0, 7.0, 8.0, 8.0, 0.0, 8.0, 6.0, 6.0, 7.0, 7.0, 8.0, 8.0, 7.0, 7.0, 8.0, 0.0, 7.0, 0.0, 7.0, 7.0, 0.0, 8.0, 7.0, 8.0, 7.0, 7.0, 7.0, 7.0, 7.0, 7.0, 7.0, 0.0, 0.0, 0.0, 6.0, 7.0, 0.0, 7.0, 7.0, 7.0, 7.0, 6.0, 7.0, 7.0, 7.0, 7.0, 0.0, 0.0, 8.0, 8.0, 0.0, 0.0, 8.0, 0.0, 9.0, 0.0, 0.0, 9.0, 9.0, 9.0, 0.0, 0.0, 9.0, 8.0, 8.0, 9.0, 8.0, 8.0, 8.0, 8.0, 8.0, 9.0, 9.0, 9.0, 9.0, 9.0, 9.0, 0.0, 0.0, 7.0, 8.0, 8.0, 9.0, 9.0, 8.0, 9.0, 0.0, 8.0, 8.0, 9.0, 8.0, 8.0, 8.0, 8.0, 8.0, 8.0, 7.0, 7.0, 7.0, 8.0, 8.0, 8.0, 8.0, 8.0, 8.0, 8.0, 0.0, 7.0, 0.0, 8.0, 7.0, 0.0, 8.0, 7.0, 8.0, 7.0, 8.0, 8.0, 7.0, 8.0, 8.0, 8.0, 0.0, 0.0, 0.0, 6.0, 6.0, 0.0, 7.0, 8.0, 7.0, 7.0, 6.0, 7.0, 7.0, 7.0, 0.0, 0.0, 0.0, 8.0, 9.0, 0.0, 0.0, 0.0, 0.0, 9.0, 0.0, 0.0, 9.0, 9.0, 9.0, 0.0, 0.0, 9.0, 0.0, 9.0, 9.0, 8.0, 8.0, 8.0, 8.0, 8.0, 9.0, 9.0, 9.0, 8.0, 9.0, 9.0, 0.0, 0.0, 7.0, 8.0, 9.0, 8.0, 8.0, 9.0, 9.0, 9.0, 8.0, 8.0, 9.0, 8.0, 8.0, 8.0, 8.0, 8.0, 0.0, 7.0, 8.0, 7.0, 8.0, 8.0, 8.0, 8.0, 8.0, 8.0, 8.0, 0.0, 8.0, 0.0, 7.0, 7.0, 8.0, 8.0, 7.0, 7.0, 7.0, 7.0, 7.0, 7.0, 8.0, 8.0, 8.0, 0.0, 0.0, 0.0, 6.0, 7.0, 0.0, 6.0, 7.0, 7.0, 6.0, 6.0, 6.0, 7.0, 7.0, 8.0, 0.0, 0.0, 9.0, 9.0, 0.0, 0.0, 8.0, 0.0, 9.0, 0.0, 0.0, 0.0, 9.0, 9.0, 0.0, 0.0, 0.0, 0.0, 9.0, 9.0, 9.0, 9.0, 9.0, 9.0, 9.0, 9.0, 9.0, 9.0, 9.0, 9.0, 9.0, 0.0, 0.0, 7.0, 8.0, 8.0, 7.0, 7.0, 8.0, 9.0, 9.0, 8.0, 8.0, 8.0, 7.0, 8.0, 8.0, 8.0, 8.0, 0.0, 8.0, 6.0, 6.0, 7.0, 7.0, 8.0, 8.0, 7.0, 7.0, 7.0, 0.0, 7.0, 0.0, 7.0, 7.0, 7.0, 8.0, 6.0, 8.0, 7.0, 7.0, 7.0, 7.0, 7.0, 7.0, 8.0, 0.0, 0.0, 0.0, 6.0, 7.0, 0.0, 6.0, 8.0, 7.0, 7.0, 6.0, 7.0, 7.0, 6.0, 0.0, 0.0, 0.0, 8.0, 9.0, 0.0, 0.0, 8.0, 0.0, 9.0, 0.0, 0.0, 0.0, 9.0, 9.0, 0.0, 0.0, 0.0, 0.0, 9.0, 9.0, 9.0, 9.0, 8.0, 8.0, 8.0, 8.0, 9.0, 8.0, 9.0, 9.0, 8.0, 0.0, 0.0, 7.0, 8.0, 9.0, 8.0, 9.0, 9.0, 9.0, 8.0, 8.0, 8.0, 9.0, 8.0, 8.0, 8.0, 8.0, 8.0, 0.0, 7.0, 8.0, 7.0, 8.0, 8.0, 8.0, 8.0, 9.0, 8.0, 9.0, 0.0, 8.0, 0.0, 7.0, 7.0, 8.0, 8.0, 7.0, 8.0, 7.0, 7.0, 8.0, 7.0, 8.0, 8.0, 8.0, 0.0, 0.0, 0.0, 6.0, 7.0, 0.0, 6.0, 7.0, 7.0, 7.0, 6.0, 7.0, 7.0, 6.0, 7.0, 0.0, 0.0, 8.0, 8.0, 0.0, 0.0, 0.0, 0.0, 0.0, 0.0, 0.0, 0.0, 9.0, 8.0, 0.0, 0.0, 0.0, 8.0, 8.0, 8.0, 8.0, 8.0, 8.0, 8.0, 8.0, 8.0, 8.0, 8.0, 9.0, 8.0, 8.0, 0.0, 0.0, 7.0, 7.0, 8.0, 9.0, 9.0, 8.0, 8.0, 9.0, 7.0, 8.0, 8.0, 8.0, 7.0, 7.0, 7.0, 7.0, 0.0, 8.0, 6.0, 6.0, 7.0, 7.0, 7.0, 8.0, 7.0, 7.0, 8.0, 0.0, 0.0, 0.0, 6.0, 7.0, 0.0, 8.0, 6.0, 7.0, 7.0, 6.0, 6.0, 6.0, 8.0, 8.0, 7.0, 0.0, 0.0, 0.0, 6.0, 6.0, 0.0, 6.0, 6.0, 6.0, 7.0, 6.0, 7.0, 7.0, 6.0, 9.0, 0.0, 0.0, 8.0, 0.0, 0.0, 0.0, 0.0, 0.0, 0.0, 0.0, 0.0, 0.0, 9.0, 9.0, 0.0, 0.0, 0.0, 9.0, 8.0, 8.0, 8.0, 9.0, 9.0, 9.0, 9.0, 9.0, 8.0, 8.0, 9.0, 9.0, 8.0, 0.0, 0.0, 7.0, 7.0, 8.0, 7.0, 7.0, 8.0, 8.0, 7.0, 6.0, 7.0, 6.0, 7.0, 7.0, 7.0, 7.0, 7.0, 0.0, 7.0, 6.0, 6.0, 7.0, 7.0, 7.0, 7.0, 7.0, 7.0, 7.0, 0.0, 7.0, 6.0, 6.0, 7.0, 0.0, 8.0, 6.0, 6.0, 6.0, 7.0, 7.0, 7.0, 7.0, 7.0, 7.0, 0.0, 0.0, 0.0, 6.0, 7.0, 0.0, 6.0, 6.0, 6.0, 7.0, 6.0, 6.0, 6.0, 6.0, 0.0, 0.0, 0.0, 8.0, 9.0, 0.0, 0.0, 0.0, 0.0, 0.0, 0.0, 0.0, 0.0, 9.0, 9.0, 0.0, 0.0, 0.0, 9.0, 9.0, 9.0, 9.0, 9.0, 8.0, 8.0, 8.0, 8.0, 9.0, 8.0, 8.0, 9.0, 9.0, 0.0, 0.0, 7.0, 7.0, 8.0, 8.0, 8.0, 8.0, 9.0, 9.0, 7.0, 8.0, 8.0, 8.0, 8.0, 8.0, 8.0, 8.0, 0.0, 7.0, 8.0, 8.0, 8.0, 8.0, 8.0, 8.0, 8.0, 8.0, 8.0, 0.0, 8.0, 0.0, 7.0, 8.0, 0.0, 8.0, 6.0, 7.0, 6.0, 7.0, 7.0, 7.0, 8.0, 8.0, 8.0, 0.0, 0.0, 0.0, 6.0, 6.0, 0.0, 6.0, 7.0, 6.0, 6.0, 6.0, 7.0, 7.0, 6.0, 0.0, 0.0, 0.0, 8.0, 9.0, 0.0, 0.0, 8.0, 0.0, 9.0, 0.0, 0.0, 0.0, 9.0, 9.0, 0.0, 0.0, 0.0, 8.0, 9.0, 9.0, 9.0, 9.0, 9.0, 8.0, 9.0, 9.0, 9.0, 8.0, 8.0, 9.0, 9.0, 0.0, 0.0, 7.0, 7.0, 8.0, 8.0, 9.0, 9.0, 9.0, 8.0, 7.0, 7.0, 8.0, 8.0, 8.0, 7.0, 7.0, 8.0, 0.0, 7.0, 8.0, 8.0, 8.0, 8.0, 8.0, 7.0, 8.0, 8.0, 8.0, 0.0, 0.0, 0.0, 7.0, 8.0, 8.0, 8.0, 6.0, 7.0, 7.0, 7.0, 7.0, 7.0, 8.0, 8.0, 8.0, 0.0, 0.0, 0.0, 6.0, 6.0, 0.0, 6.0, 7.0, 6.0, 6.0, 6.0, 7.0, 7.0, 6.0, 8.0, 0.0, 0.0, 8.0, 0.0, 0.0, 0.0, 8.0, 8.0, 8.0, 0.0, 0.0, 8.0, 9.0, 8.0, 0.0, 0.0, 0.0, 8.0, 8.0, 9.0, 8.0, 8.0, 8.0, 8.0, 8.0, 8.0, 9.0, 8.0, 8.0, 8.0, 9.0, 8.0, 0.0, 9.0, 9.0, 8.0, 9.0, 9.0, 9.0, 8.0, 8.0, 9.0, 9.0, 9.0, 7.0, 8.0, 8.0, 9.0, 8.0, 0.0, 0.0, 8.0, 8.0, 8.0, 7.0, 8.0, 8.0, 8.0, 7.0, 8.0, 0.0, 0.0, 7.0, 7.0, 8.0, 9.0, 9.0, 8.0, 7.0, 7.0, 9.0, 8.0, 8.0, 7.0, 8.0, 7.0, 8.0, 0.0, 0.0, 7.0, 6.0, 0.0, 7.0, 7.0, 7.0, 7.0, 7.0, 7.0, 7.0, 7.0, 8.0, 0.0, 0.0, 9.0, 0.0, 0.0, 0.0, 0.0, 0.0, 9.0, 0.0, 0.0, 0.0, 9.0, 9.0, 0.0, 0.0, 0.0, 0.0, 8.0, 9.0, 8.0, 8.0, 8.0, 9.0, 9.0, 9.0, 9.0, 8.0, 8.0, 9.0, 8.0, 0.0, 0.0, 7.0, 7.0, 8.0, 9.0, 9.0, 9.0, 9.0, 8.0, 7.0, 7.0, 8.0, 8.0, 7.0, 7.0, 8.0, 8.0, 0.0, 7.0, 8.0, 6.0, 7.0, 8.0, 8.0, 7.0, 7.0, 7.0, 8.0, 0.0, 0.0, 6.0, 6.0, 7.0, 0.0, 7.0, 6.0, 7.0, 6.0, 7.0, 7.0, 6.0, 8.0, 8.0, 8.0, 0.0, 0.0, 0.0, 6.0, 7.0, 0.0, 6.0, 7.0, 6.0, 6.0, 6.0, 7.0, 6.0, 6.0, 7.0, 0.0, 0.0, 9.0, 0.0, 0.0, 0.0, 7.0, 7.0, 0.0, 0.0, 0.0, 9.0, 9.0, 9.0, 0.0, 0.0, 0.0, 9.0, 8.0, 8.0, 8.0, 8.0, 8.0, 8.0, 8.0, 8.0, 8.0, 9.0, 9.0, 9.0, 9.0, 9.0, 0.0, 9.0, 8.0, 8.0, 9.0, 9.0, 8.0, 9.0, 9.0, 9.0, 9.0, 9.0, 9.0, 9.0, 9.0, 9.0, 9.0, 0.0, 0.0, 8.0, 8.0, 8.0, 8.0, 8.0, 9.0, 9.0, 7.0, 8.0, 0.0, 0.0, 7.0, 7.0, 9.0, 8.0, 9.0, 8.0, 7.0, 8.0, 9.0, 8.0, 8.0, 8.0, 8.0, 9.0, 0.0, 0.0, 0.0, 7.0, 7.0, 0.0, 7.0, 8.0, 7.0, 8.0, 7.0, 7.0, 7.0, 7.0, 7.0, 0.0, 0.0, 8.0, 0.0, 0.0, 0.0, 8.0, 8.0, 8.0, 0.0, 0.0, 8.0, 8.0, 8.0, 0.0, 0.0, 0.0, 8.0, 8.0, 8.0, 8.0, 8.0, 8.0, 8.0, 8.0, 8.0, 8.0, 8.0, 8.0, 8.0, 8.0, 8.0, 0.0, 9.0, 8.0, 8.0, 9.0, 9.0, 8.0, 8.0, 8.0, 8.0, 9.0, 8.0, 8.0, 8.0, 9.0, 8.0, 8.0, 0.0, 0.0, 8.0, 8.0, 8.0, 8.0, 8.0, 8.0, 7.0, 7.0, 7.0, 0.0, 0.0, 7.0, 7.0, 8.0, 8.0, 8.0, 8.0, 7.0, 7.0, 7.0, 8.0, 7.0, 7.0, 8.0, 7.0, 8.0, 0.0, 0.0, 7.0, 7.0, 0.0, 7.0, 7.0, 7.0, 6.0, 6.0, 7.0, 7.0, 7.0, 7.0, 0.0, 0.0, 8.0, 0.0, 0.0, 0.0, 8.0, 0.0, 8.0, 0.0, 0.0, 0.0, 8.0, 8.0, 0.0, 0.0, 0.0, 8.0, 8.0, 8.0, 8.0, 8.0, 0.0, 8.0, 8.0, 8.0, 8.0, 8.0, 8.0, 8.0, 8.0, 8.0, 0.0, 9.0, 8.0, 8.0, 8.0, 8.0, 8.0, 8.0, 8.0, 9.0, 9.0, 9.0, 7.0, 7.0, 8.0, 7.0, 7.0, 0.0, 8.0, 8.0, 8.0, 8.0, 7.0, 7.0, 8.0, 8.0, 7.0, 7.0, 0.0, 0.0, 7.0, 7.0, 7.0, 8.0, 8.0, 8.0, 7.0, 8.0, 7.0, 7.0, 7.0, 7.0, 7.0, 7.0, 8.0, 0.0, 0.0, 7.0, 6.0, 0.0, 6.0, 7.0, 7.0, 8.0, 7.0, 7.0, 6.0, 7.0, 7.0, 0.0, 0.0, 9.0, 10.0, 0.0, 0.0, 9.0, 0.0, 0.0, 0.0, 0.0, 0.0, 0.0, 8.0, 0.0, 0.0, 0.0, 9.0, 8.0, 9.0, 8.0, 9.0, 0.0, 9.0, 0.0, 0.0, 9.0, 9.0, 8.0, 8.0, 8.0, 0.0, 0.0, 9.0, 9.0, 8.0, 8.0, 8.0, 9.0, 8.0, 8.0, 9.0, 9.0, 9.0, 8.0, 7.0, 7.0, 8.0, 8.0, 0.0, 0.0, 8.0, 8.0, 7.0, 7.0, 8.0, 8.0, 8.0, 8.0, 7.0, 0.0, 0.0, 0.0, 6.0, 8.0, 8.0, 7.0, 7.0, 7.0, 6.0, 6.0, 6.0, 7.0, 7.0, 8.0, 9.0, 8.0, 8.0, 0.0, 7.0, 7.0, 0.0, 7.0, 7.0, 7.0, 8.0, 7.0, 7.0, 6.0, 6.0, 7.0, 0.0, 0.0, 9.0, 9.0, 0.0, 0.0, 0.0, 0.0, 9.0, 0.0, 0.0, 0.0, 9.0, 9.0, 0.0, 0.0, 0.0, 9.0, 9.0, 9.0, 9.0, 9.0, 0.0, 9.0, 9.0, 0.0, 9.0, 9.0, 9.0, 9.0, 9.0, 9.0, 8.0, 9.0, 8.0, 9.0, 8.0, 9.0, 9.0, 9.0, 8.0, 7.0, 7.0, 8.0, 8.0, 8.0, 8.0, 8.0, 8.0, 0.0, 7.0, 8.0, 7.0, 7.0, 8.0, 8.0, 8.0, 8.0, 8.0, 8.0, 0.0, 0.0, 6.0, 6.0, 7.0, 8.0, 8.0, 6.0, 7.0, 6.0, 7.0, 7.0, 7.0, 8.0, 8.0, 7.0, 8.0, 0.0, 0.0, 6.0, 6.0, 0.0, 6.0, 7.0, 7.0, 7.0, 7.0, 7.0, 6.0, 6.0, 7.0, 0.0, 0.0, 9.0, 8.0, 0.0, 0.0, 8.0, 0.0, 0.0, 0.0, 0.0, 0.0, 9.0, 8.0, 0.0, 0.0, 0.0, 9.0, 9.0, 9.0, 8.0, 8.0, 8.0, 9.0, 9.0, 8.0, 9.0, 8.0, 8.0, 9.0, 9.0, 0.0, 0.0, 9.0, 8.0, 9.0, 8.0, 8.0, 9.0, 9.0, 8.0, 7.0, 7.0, 8.0, 8.0, 8.0, 8.0, 8.0, 8.0, 0.0, 0.0, 8.0, 7.0, 8.0, 8.0, 8.0, 7.0, 8.0, 7.0, 7.0, 0.0, 0.0, 0.0, 6.0, 7.0, 8.0, 8.0, 7.0, 7.0, 6.0, 7.0, 7.0, 7.0, 7.0, 8.0, 8.0, 9.0, 0.0, 0.0, 7.0, 7.0, 0.0, 6.0, 7.0, 7.0, 6.0, 6.0, 7.0, 6.0, 6.0, 8.0, 0.0, 0.0, 9.0, 0.0, 0.0, 0.0, 8.0, 0.0, 9.0, 0.0, 0.0, 0.0, 9.0, 9.0, 0.0, 0.0, 0.0, 9.0, 9.0, 9.0, 8.0, 8.0, 0.0, 9.0, 9.0, 9.0, 9.0, 9.0, 9.0, 9.0, 9.0, 9.0, 8.0, 9.0, 8.0, 9.0, 9.0, 9.0, 9.0, 9.0, 8.0, 7.0, 8.0, 9.0, 8.0, 8.0, 8.0, 8.0, 8.0, 0.0, 0.0, 8.0, 8.0, 7.0, 8.0, 8.0, 8.0, 9.0, 8.0, 8.0, 0.0, 0.0, 6.0, 7.0, 7.0, 8.0, 8.0, 8.0, 7.0, 7.0, 7.0, 7.0, 7.0, 8.0, 8.0, 8.0, 9.0, 0.0, 0.0, 6.0, 7.0, 0.0, 6.0, 8.0, 8.0, 7.0, 7.0, 7.0, 6.0, 6.0, 8.0, 0.0, 0.0, 9.0, 0.0, 0.0, 0.0, 7.0, 0.0, 0.0, 0.0, 0.0, 0.0, 9.0, 9.0, 0.0, 0.0, 0.0, 9.0, 9.0, 9.0, 8.0, 8.0, 0.0, 9.0, 9.0, 8.0, 9.0, 9.0, 9.0, 9.0, 9.0, 0.0, 0.0, 9.0, 8.0, 8.0, 9.0, 9.0, 8.0, 9.0, 9.0, 8.0, 8.0, 8.0, 8.0, 8.0, 8.0, 8.0, 8.0, 0.0, 0.0, 8.0, 6.0, 8.0, 8.0, 8.0, 8.0, 8.0, 8.0, 8.0, 0.0, 0.0, 6.0, 7.0, 7.0, 0.0, 7.0, 8.0, 7.0, 7.0, 7.0, 7.0, 7.0, 7.0, 7.0, 8.0, 0.0, 0.0, 0.0, 7.0, 7.0, 0.0, 7.0, 7.0, 7.0, 7.0, 6.0, 7.0, 6.0, 7.0, 0.0, 0.0, 0.0, 9.0, 0.0, 0.0, 0.0, 0.0, 0.0, 0.0, 0.0, 0.0, 0.0, 9.0, 9.0, 0.0, 0.0, 0.0, 9.0, 9.0, 9.0, 9.0, 9.0, 9.0, 9.0, 9.0, 9.0, 9.0, 9.0, 9.0, 9.0, 9.0, 0.0, 0.0, 8.0, 8.0, 8.0, 8.0, 8.0, 9.0, 9.0, 9.0, 7.0, 8.0, 8.0, 7.0, 8.0, 8.0, 8.0, 8.0, 0.0, 7.0, 8.0, 8.0, 8.0, 8.0, 8.0, 7.0, 9.0, 7.0, 7.0, 0.0, 0.0, 7.0, 7.0, 7.0, 0.0, 7.0, 8.0, 7.0, 8.0, 7.0, 7.0, 7.0, 7.0, 7.0, 8.0, 0.0, 0.0, 0.0, 6.0, 7.0, 0.0, 7.0, 8.0, 7.0, 7.0, 7.0, 7.0, 7.0, 7.0, 7.0, 0.0, 0.0, 9.0, 0.0, 0.0, 0.0, 8.0, 0.0, 0.0, 0.0, 0.0, 0.0, 9.0, 9.0, 0.0, 0.0, 0.0, 9.0, 9.0, 9.0, 9.0, 8.0, 0.0, 8.0, 9.0, 8.0, 9.0, 10.0, 9.0, 9.0, 9.0, 9.0, 8.0, 9.0, 10.0, 9.0, 9.0, 9.0, 9.0, 9.0, 9.0, 9.0, 10.0, 10.0, 9.0, 10.0, 10.0, 10.0, 9.0, 0.0, 0.0, 8.0, 8.0, 8.0, 8.0, 9.0, 9.0, 9.0, 8.0, 8.0, 0.0, 0.0, 7.0, 8.0, 9.0, 8.0, 9.0, 8.0, 7.0, 8.0, 9.0, 8.0, 9.0, 9.0, 8.0, 9.0, 8.0, 0.0, 0.0, 6.0, 7.0, 0.0, 7.0, 8.0, 7.0, 9.0, 7.0, 7.0, 7.0, 7.0, 7.0, 0.0, 0.0, 8.0, 9.0, 0.0, 0.0, 7.0, 0.0, 9.0, 0.0, 0.0, 0.0, 9.0, 8.0, 0.0, 0.0, 0.0, 9.0, 8.0, 8.0, 8.0, 8.0, 0.0, 8.0, 9.0, 8.0, 9.0, 8.0, 8.0, 9.0, 9.0, 0.0, 0.0, 9.0, 8.0, 8.0, 8.0, 8.0, 8.0, 9.0, 8.0, 9.0, 9.0, 9.0, 7.0, 7.0, 8.0, 7.0, 8.0, 0.0, 7.0, 8.0, 7.0, 7.0, 7.0, 7.0, 8.0, 8.0, 7.0, 7.0, 0.0, 0.0, 0.0, 6.0, 8.0, 8.0, 7.0, 7.0, 7.0, 7.0, 6.0, 7.0, 7.0, 7.0, 8.0, 7.0, 8.0, 0.0, 0.0, 7.0, 7.0, 0.0, 6.0, 7.0, 7.0, 7.0, 6.0, 7.0, 0.0, 6.0, 9.0, 0.0, 0.0, 9.0, 0.0, 0.0, 0.0, 8.0, 0.0, 9.0, 8.0, 0.0, 9.0, 9.0, 9.0, 0.0, 9.0, 9.0, 8.0, 7.0, 8.0, 7.0, 8.0, 8.0, 8.0, 8.0, 8.0, 8.0, 8.0, 9.0, 9.0, 9.0, 0.0, 0.0, 7.0, 7.0, 7.0, 7.0, 8.0, 7.0, 8.0, 8.0, 8.0, 7.0, 7.0, 7.0, 7.0, 7.0, 7.0, 7.0, 0.0, 7.0, 6.0, 7.0, 7.0, 7.0, 7.0, 7.0, 7.0, 6.0, 7.0, 0.0, 6.0, 7.0, 7.0, 8.0, 7.0, 6.0, 7.0, 7.0, 7.0, 7.0, 7.0, 7.0, 7.0, 7.0, 7.0, 0.0, 0.0, 0.0, 6.0, 7.0, 0.0, 6.0, 7.0, 6.0, 7.0, 6.0, 7.0, 6.0, 6.0, 9.0, 0.0, 0.0, 8.0, 0.0, 0.0, 0.0, 8.0, 0.0, 0.0, 0.0, 0.0, 8.0, 8.0, 9.0, 0.0, 9.0, 8.0, 0.0, 8.0, 8.0, 8.0, 8.0, 8.0, 8.0, 8.0, 8.0, 7.0, 8.0, 8.0, 9.0, 8.0, 0.0, 0.0, 8.0, 7.0, 7.0, 7.0, 7.0, 7.0, 8.0, 7.0, 7.0, 7.0, 7.0, 8.0, 7.0, 6.0, 7.0, 7.0, 8.0, 7.0, 7.0, 7.0, 8.0, 7.0, 7.0, 8.0, 7.0, 6.0, 6.0, 0.0, 6.0, 0.0, 7.0, 7.0, 7.0, 7.0, 8.0, 7.0, 7.0, 6.0, 6.0, 6.0, 6.0, 6.0, 6.0, 0.0, 0.0, 0.0, 6.0, 7.0, 0.0, 7.0, 6.0, 6.0, 6.0, 6.0, 7.0, 7.0, 7.0, 0.0, 0.0, 0.0, 9.0, 0.0, 0.0, 0.0, 8.0, 0.0, 0.0, 0.0, 0.0, 9.0, 9.0, 9.0, 0.0, 0.0, 8.0, 8.0, 8.0, 8.0, 8.0, 8.0, 8.0, 8.0, 9.0, 9.0, 9.0, 9.0, 9.0, 9.0, 9.0, 0.0, 0.0, 8.0, 7.0, 7.0, 7.0, 7.0, 8.0, 8.0, 0.0, 8.0, 8.0, 8.0, 8.0, 7.0, 7.0, 7.0, 7.0, 0.0, 7.0, 7.0, 7.0, 7.0, 7.0, 8.0, 8.0, 8.0, 7.0, 7.0, 0.0, 7.0, 7.0, 7.0, 6.0, 7.0, 7.0, 8.0, 7.0, 7.0, 7.0, 7.0, 6.0, 6.0, 7.0, 8.0, 0.0, 0.0, 0.0, 6.0, 7.0, 0.0, 7.0, 7.0, 7.0, 6.0, 6.0, 7.0, 7.0, 7.0, 9.0, 0.0, 0.0, 9.0, 0.0, 0.0, 0.0, 8.0, 0.0, 9.0, 0.0, 0.0, 9.0, 9.0, 9.0, 9.0, 0.0, 0.0, 9.0, 8.0, 8.0, 8.0, 9.0, 9.0, 9.0, 9.0, 9.0, 8.0, 8.0, 9.0, 9.0, 9.0, 0.0, 8.0, 7.0, 8.0, 8.0, 8.0, 8.0, 8.0, 8.0, 8.0, 8.0, 7.0, 8.0, 8.0, 7.0, 7.0, 7.0, 8.0, 0.0, 8.0, 6.0, 7.0, 7.0, 7.0, 7.0, 8.0, 7.0, 7.0, 7.0, 0.0, 6.0, 7.0, 7.0, 7.0, 7.0, 7.0, 7.0, 7.0, 7.0, 7.0, 7.0, 7.0, 7.0, 7.0, 7.0, 0.0, 0.0, 0.0, 6.0, 7.0, 0.0, 6.0, 7.0, 7.0, 6.0, 7.0, 6.0, 7.0, 0.0, 0.0, 0.0, 8.0, 0.0, 0.0, 0.0, 8.0, 8.0, 8.0, 0.0, 0.0, 0.0, 8.0, 8.0, 9.0, 0.0, 0.0, 8.0, 8.0, 8.0, 8.0, 8.0, 0.0, 0.0, 0.0, 8.0, 8.0, 8.0, 8.0, 8.0, 8.0, 0.0, 0.0, 8.0, 7.0, 8.0, 9.0, 8.0, 8.0, 8.0, 8.0, 7.0, 8.0, 7.0, 8.0, 7.0, 7.0, 7.0, 7.0, 0.0, 8.0, 8.0, 8.0, 8.0, 7.0, 7.0, 7.0, 7.0, 7.0, 7.0, 0.0, 8.0, 7.0, 7.0, 8.0, 8.0, 9.0, 8.0, 7.0, 7.0, 7.0, 8.0, 8.0, 7.0, 7.0, 7.0, 0.0, 8.0, 0.0, 6.0, 6.0, 0.0, 7.0, 7.0, 7.0, 6.0, 7.0, 7.0, 7.0, 7.0, 9.0, 0.0, 0.0, 9.0, 0.0, 0.0, 0.0, 8.0, 0.0, 9.0, 0.0, 0.0, 9.0, 9.0, 9.0, 9.0, 0.0, 0.0, 9.0, 9.0, 9.0, 9.0, 9.0, 8.0, 8.0, 9.0, 9.0, 9.0, 9.0, 9.0, 9.0, 9.0, 0.0, 0.0, 7.0, 8.0, 8.0, 8.0, 8.0, 8.0, 8.0, 8.0, 8.0, 7.0, 8.0, 8.0, 8.0, 7.0, 8.0, 8.0, 0.0, 8.0, 7.0, 6.0, 7.0, 7.0, 7.0, 8.0, 7.0, 7.0, 7.0, 0.0, 8.0, 7.0, 8.0, 8.0, 8.0, 7.0, 7.0, 8.0, 8.0, 7.0, 7.0, 7.0, 7.0, 7.0, 7.0, 0.0, 0.0, 0.0, 6.0, 7.0, 0.0, 6.0, 7.0, 7.0, 7.0, 6.0, 7.0, 7.0, 7.0, 9.0, 0.0, 0.0, 9.0, 0.0, 0.0, 0.0, 9.0, 0.0, 9.0, 0.0, 0.0, 9.0, 9.0, 9.0, 0.0, 0.0, 0.0, 9.0, 9.0, 9.0, 9.0, 9.0, 9.0, 9.0, 9.0, 9.0, 9.0, 9.0, 9.0, 9.0, 9.0, 0.0, 9.0, 9.0, 8.0, 9.0, 8.0, 8.0, 9.0, 9.0, 9.0, 9.0, 8.0, 9.0, 8.0, 8.0, 8.0, 8.0, 8.0, 0.0, 8.0, 8.0, 8.0, 9.0, 8.0, 8.0, 10.0, 9.0, 8.0, 8.0, 0.0, 8.0, 7.0, 8.0, 8.0, 8.0, 9.0, 8.0, 8.0, 8.0, 8.0, 7.0, 7.0, 7.0, 8.0, 8.0, 0.0, 0.0, 0.0, 6.0, 7.0, 0.0, 7.0, 8.0, 8.0, 7.0, 7.0, 8.0, 8.0, 7.0, 8.0, 0.0, 0.0, 9.0, 0.0, 0.0, 0.0, 0.0, 0.0, 0.0, 0.0, 0.0, 9.0, 9.0, 8.0, 0.0, 0.0, 0.0, 9.0, 8.0, 9.0, 8.0, 8.0, 8.0, 9.0, 8.0, 8.0, 9.0, 9.0, 9.0, 9.0, 9.0, 0.0, 0.0, 8.0, 8.0, 8.0, 9.0, 8.0, 8.0, 8.0, 9.0, 7.0, 8.0, 8.0, 8.0, 8.0, 8.0, 8.0, 8.0, 0.0, 7.0, 8.0, 8.0, 8.0, 8.0, 8.0, 8.0, 8.0, 6.0, 7.0, 0.0, 8.0, 7.0, 7.0, 8.0, 8.0, 7.0, 7.0, 7.0, 7.0, 7.0, 7.0, 7.0, 7.0, 7.0, 8.0, 0.0, 9.0, 0.0, 6.0, 7.0, 0.0, 7.0, 7.0, 6.0, 7.0, 6.0, 7.0, 7.0, 7.0, 8.0, 0.0, 0.0, 8.0, 0.0, 0.0, 0.0, 8.0, 0.0, 0.0, 0.0, 0.0, 8.0, 8.0, 8.0, 0.0, 0.0, 0.0, 8.0, 8.0, 8.0, 8.0, 0.0, 0.0, 0.0, 0.0, 0.0, 8.0, 9.0, 8.0, 8.0, 8.0, 0.0, 0.0, 9.0, 7.0, 8.0, 9.0, 8.0, 8.0, 8.0, 8.0, 8.0, 7.0, 7.0, 7.0, 7.0, 8.0, 7.0, 7.0, 0.0, 0.0, 8.0, 8.0, 8.0, 7.0, 7.0, 7.0, 7.0, 7.0, 7.0, 0.0, 0.0, 7.0, 7.0, 7.0, 8.0, 8.0, 8.0, 7.0, 7.0, 6.0, 6.0, 6.0, 6.0, 7.0, 7.0, 7.0, 8.0, 0.0, 6.0, 6.0, 0.0, 7.0, 7.0, 7.0, 6.0, 7.0, 7.0, 7.0, 7.0, 9.0, 0.0, 0.0, 9.0, 0.0, 0.0, 0.0, 0.0, 0.0, 0.0, 0.0, 0.0, 0.0, 9.0, 9.0, 0.0, 0.0, 0.0, 9.0, 9.0, 8.0, 9.0, 9.0, 9.0, 8.0, 9.0, 9.0, 8.0, 9.0, 9.0, 9.0, 9.0, 0.0, 8.0, 7.0, 8.0, 8.0, 8.0, 7.0, 9.0, 8.0, 9.0, 7.0, 8.0, 9.0, 7.0, 8.0, 7.0, 8.0, 8.0, 0.0, 7.0, 8.0, 7.0, 8.0, 8.0, 8.0, 8.0, 8.0, 7.0, 7.0, 0.0, 8.0, 7.0, 7.0, 7.0, 7.0, 7.0, 7.0, 7.0, 7.0, 7.0, 7.0, 7.0, 7.0, 7.0, 7.0, 0.0, 8.0, 0.0, 6.0, 7.0, 0.0, 6.0, 8.0, 6.0, 7.0, 6.0, 7.0, 6.0, 6.0, 9.0, 0.0, 0.0, 9.0, 0.0, 0.0, 0.0, 0.0, 0.0, 0.0, 0.0, 0.0, 0.0, 9.0, 9.0, 0.0, 0.0, 0.0, 9.0, 9.0, 9.0, 9.0, 9.0, 9.0, 8.0, 9.0, 9.0, 9.0, 9.0, 9.0, 9.0, 9.0, 0.0, 0.0, 9.0, 8.0, 8.0, 8.0, 8.0, 9.0, 9.0, 9.0, 8.0, 8.0, 8.0, 8.0, 8.0, 8.0, 8.0, 8.0, 0.0, 8.0, 7.0, 6.0, 8.0, 8.0, 8.0, 8.0, 7.0, 8.0, 7.0, 0.0, 0.0, 7.0, 7.0, 7.0, 8.0, 8.0, 8.0, 7.0, 7.0, 7.0, 7.0, 7.0, 7.0, 7.0, 8.0, 0.0, 9.0, 0.0, 6.0, 7.0, 0.0, 7.0, 7.0, 7.0, 7.0, 6.0, 8.0, 7.0, 7.0, 8.0, 0.0, 0.0, 9.0, 0.0, 0.0, 0.0, 9.0, 0.0, 0.0, 0.0, 0.0, 9.0, 9.0, 9.0, 0.0, 0.0, 0.0, 9.0, 8.0, 9.0, 8.0, 8.0, 8.0, 8.0, 8.0, 8.0, 9.0, 9.0, 9.0, 9.0, 9.0, 9.0, 0.0, 9.0, 10.0, 8.0, 9.0, 9.0, 8.0, 9.0, 9.0, 9.0, 8.0, 8.0, 8.0, 8.0, 8.0, 8.0, 8.0, 0.0, 0.0, 8.0, 8.0, 8.0, 8.0, 8.0, 8.0, 8.0, 8.0, 8.0, 8.0, 0.0, 7.0, 8.0, 8.0, 8.0, 8.0, 8.0, 7.0, 8.0, 7.0, 7.0, 7.0, 8.0, 7.0, 8.0, 9.0, 0.0, 0.0, 7.0, 7.0, 0.0, 8.0, 8.0, 7.0, 7.0, 6.0, 7.0, 8.0, 8.0, 9.0, 0.0, 0.0, 9.0, 0.0, 0.0, 0.0, 9.0, 0.0, 0.0, 0.0, 0.0, 0.0, 9.0, 8.0, 0.0, 0.0, 0.0, 8.0, 8.0, 9.0, 9.0, 9.0, 9.0, 9.0, 9.0, 9.0, 9.0, 9.0, 9.0, 9.0, 9.0, 0.0, 0.0, 9.0, 8.0, 8.0, 8.0, 8.0, 9.0, 9.0, 8.0, 8.0, 7.0, 9.0, 8.0, 8.0, 8.0, 8.0, 8.0, 0.0, 7.0, 8.0, 8.0, 8.0, 8.0, 8.0, 8.0, 8.0, 7.0, 7.0, 0.0, 0.0, 7.0, 7.0, 7.0, 7.0, 7.0, 8.0, 7.0, 7.0, 7.0, 7.0, 7.0, 7.0, 7.0, 8.0, 0.0, 0.0, 0.0, 6.0, 7.0, 0.0, 7.0, 7.0, 6.0, 7.0, 6.0, 7.0, 7.0, 7.0, 7.0, 0.0, 0.0, 9.0, 0.0, 0.0, 0.0, 8.0, 8.0, 9.0, 0.0, 0.0, 8.0, 9.0, 8.0, 0.0, 0.0, 0.0, 9.0, 9.0, 8.0, 8.0, 8.0, 8.0, 8.0, 8.0, 8.0, 8.0, 9.0, 9.0, 8.0, 9.0, 9.0, 9.0, 9.0, 8.0, 8.0, 9.0, 9.0, 8.0, 9.0, 9.0, 10.0, 10.0, 10.0, 0.0, 9.0, 9.0, 9.0, 9.0, 0.0, 0.0, 8.0, 8.0, 7.0, 8.0, 8.0, 8.0, 9.0, 8.0, 8.0, 0.0, 0.0, 7.0, 7.0, 8.0, 8.0, 9.0, 8.0, 7.0, 7.0, 7.0, 8.0, 8.0, 8.0, 8.0, 0.0, 9.0, 8.0, 0.0, 7.0, 8.0, 0.0, 7.0, 8.0, 8.0, 8.0, 7.0, 7.0, 7.0, 7.0, 7.0, 0.0, 0.0, 9.0, 0.0, 0.0, 0.0, 8.0, 0.0, 0.0, 0.0, 8.0, 0.0, 9.0, 9.0, 0.0, 0.0, 0.0, 9.0, 9.0, 8.0, 8.0, 8.0, 0.0, 9.0, 8.0, 0.0, 8.0, 9.0, 9.0, 9.0, 9.0, 9.0, 0.0, 9.0, 9.0, 8.0, 8.0, 9.0, 8.0, 8.0, 9.0, 10.0, 10.0, 9.0, 8.0, 9.0, 9.0, 7.0, 9.0, 0.0, 0.0, 8.0, 8.0, 8.0, 8.0, 8.0, 8.0, 9.0, 7.0, 7.0, 0.0, 0.0, 8.0, 7.0, 8.0, 8.0, 9.0, 8.0, 7.0, 8.0, 7.0, 8.0, 8.0, 8.0, 8.0, 8.0, 9.0, 8.0, 0.0, 7.0, 7.0, 0.0, 6.0, 8.0, 8.0, 8.0, 7.0, 7.0, 6.0, 6.0]\n"
          ],
          "name": "stdout"
        }
      ]
    },
    {
      "cell_type": "code",
      "metadata": {
        "id": "azMXJDaFVxz2"
      },
      "source": [
        "y_label_winter=[]\n",
        "for i in range(len(train_winter)):\n",
        "  if train_winter['일강수량(mm)'][i]>0 or train_winter['일 최심적설(cm)'][i]>10:\n",
        "    y_label_winter.append(0.0)\n",
        "  else:\n",
        "    y_label_winter.append(10.0)\n"
      ],
      "execution_count": null,
      "outputs": []
    },
    {
      "cell_type": "code",
      "metadata": {
        "id": "0Wij8DMrWOuf"
      },
      "source": [
        "for i in range(len(train_winter)):\n",
        "  if y_label_winter[i]==10.0:\n",
        "    if train_winter['평균기온(°C)'][i]<1.5:\n",
        "      y_label_winter[i]-=2\n",
        "    if train_winter['평균 상대습도(%)'][i]<59:\n",
        "      y_label_winter[i]-=1\n",
        "    if train_winter['평균 풍속(m/s)'][i]>2.3:\n",
        "      y_label_winter[i]-=1 \n",
        "    if train_winter['평균 풍속(m/s)'][i]>2.3:\n",
        "      y_label_winter[i]-=1 \n",
        "    if train_winter['일 최심적설(cm)'][i]>0.5:\n",
        "      y_label_winter[i]-=3\n",
        "    "
      ],
      "execution_count": null,
      "outputs": []
    },
    {
      "cell_type": "code",
      "metadata": {
        "colab": {
          "base_uri": "https://localhost:8080/"
        },
        "id": "wXt9rz-4Wf-v",
        "outputId": "c5bb5420-291f-4179-e525-706142f29736"
      },
      "source": [
        "print(y_label_spring)\n",
        "print(y_label_summer)\n",
        "print(y_label_fall)\n",
        "print(y_label_winter)"
      ],
      "execution_count": null,
      "outputs": [
        {
          "output_type": "stream",
          "text": [
            "[0.0, 0.0, 5.0, 6.0, 6.0, 6.0, 5.0, 5.0, 6.0, 0.0, 6.0, 6.0, 6.0, 6.0, 0.0, 0.0, 6.0, 6.0, 0.0, 6.0, 0.0, 6.0, 6.0, 5.0, 5.0, 6.0, 0.0, 6.0, 5.0, 5.0, 5.0, 0.0, 6.0, 7.0, 6.0, 6.0, 6.0, 0.0, 0.0, 6.0, 5.0, 6.0, 5.0, 6.0, 7.0, 7.0, 5.0, 0.0, 0.0, 0.0, 0.0, 6.0, 6.0, 6.0, 6.0, 7.0, 0.0, 0.0, 8.0, 7.0, 8.0, 9.0, 9.0, 8.0, 6.0, 6.0, 6.0, 6.0, 0.0, 0.0, 7.0, 9.0, 8.0, 9.0, 9.0, 0.0, 0.0, 0.0, 0.0, 0.0, 0.0, 6.0, 0.0, 7.0, 0.0, 9.0, 0.0, 8.0, 8.0, 7.0, 7.0, 7.0, 0.0, 0.0, 6.0, 6.0, 7.0, 6.0, 6.0, 6.0, 7.0, 0.0, 6.0, 6.0, 6.0, 6.0, 6.0, 6.0, 0.0, 5.0, 0.0, 6.0, 7.0, 6.0, 6.0, 7.0, 7.0, 8.0, 0.0, 6.0, 7.0, 7.0, 7.0, 0.0, 5.0, 6.0, 6.0, 6.0, 6.0, 6.0, 6.0, 6.0, 7.0, 7.0, 0.0, 6.0, 6.0, 7.0, 7.0, 0.0, 0.0, 0.0, 0.0, 6.0, 6.0, 6.0, 6.0, 6.0, 6.0, 6.0, 6.0, 7.0, 7.0, 8.0, 7.0, 8.0, 8.0, 6.0, 8.0, 9.0, 0.0, 0.0, 6.0, 8.0, 0.0, 7.0, 8.0, 0.0, 0.0, 9.0, 0.0, 0.0, 6.0, 7.0, 7.0, 0.0, 0.0, 7.0, 0.0, 7.0, 8.0, 8.0, 9.0, 8.0, 0.0, 6.0, 5.0, 5.0, 6.0, 6.0, 6.0, 6.0, 6.0, 0.0, 6.0, 5.0, 0.0, 5.0, 5.0, 5.0, 0.0, 6.0, 6.0, 6.0, 0.0, 6.0, 6.0, 7.0, 7.0, 7.0, 0.0, 7.0, 7.0, 7.0, 7.0, 5.0, 6.0, 6.0, 6.0, 7.0, 6.0, 5.0, 6.0, 7.0, 7.0, 6.0, 0.0, 6.0, 6.0, 6.0, 7.0, 0.0, 0.0, 0.0, 5.0, 6.0, 6.0, 6.0, 6.0, 0.0, 5.0, 7.0, 6.0, 5.0, 6.0, 7.0, 7.0, 9.0, 8.0, 6.0, 8.0, 8.0, 0.0, 0.0, 0.0, 0.0, 0.0, 7.0, 8.0, 0.0, 0.0, 7.0, 0.0, 0.0, 5.0, 7.0, 7.0, 7.0, 0.0, 7.0, 0.0, 7.0, 0.0, 8.0, 9.0, 0.0, 0.0, 5.0, 5.0, 5.0, 6.0, 7.0, 7.0, 7.0, 7.0, 0.0, 6.0, 5.0, 0.0, 6.0, 5.0, 6.0, 0.0, 6.0, 6.0, 6.0, 5.0, 6.0, 6.0, 6.0, 6.0, 0.0, 0.0, 6.0, 6.0, 6.0, 6.0, 6.0, 6.0, 6.0, 6.0, 6.0, 6.0, 5.0, 6.0, 6.0, 7.0, 5.0, 5.0, 6.0, 6.0, 7.0, 7.0, 0.0, 6.0, 0.0, 0.0, 6.0, 6.0, 6.0, 6.0, 6.0, 6.0, 6.0, 6.0, 7.0, 6.0, 7.0, 7.0, 8.0, 8.0, 6.0, 9.0, 9.0, 0.0, 0.0, 0.0, 0.0, 0.0, 7.0, 9.0, 0.0, 0.0, 7.0, 0.0, 0.0, 6.0, 7.0, 8.0, 7.0, 0.0, 6.0, 0.0, 6.0, 7.0, 8.0, 9.0, 0.0, 0.0, 6.0, 5.0, 5.0, 5.0, 6.0, 6.0, 6.0, 6.0, 0.0, 6.0, 5.0, 0.0, 5.0, 5.0, 5.0, 0.0, 5.0, 6.0, 6.0, 5.0, 6.0, 6.0, 7.0, 6.0, 6.0, 0.0, 6.0, 6.0, 7.0, 7.0, 6.0, 5.0, 5.0, 6.0, 6.0, 6.0, 5.0, 6.0, 6.0, 6.0, 5.0, 0.0, 6.0, 6.0, 7.0, 7.0, 0.0, 6.0, 0.0, 0.0, 6.0, 6.0, 6.0, 5.0, 5.0, 6.0, 6.0, 5.0, 5.0, 6.0, 0.0, 0.0, 8.0, 7.0, 7.0, 8.0, 8.0, 0.0, 0.0, 0.0, 0.0, 0.0, 6.0, 8.0, 0.0, 0.0, 0.0, 0.0, 0.0, 7.0, 0.0, 7.0, 0.0, 0.0, 6.0, 0.0, 7.0, 7.0, 8.0, 9.0, 0.0, 5.0, 5.0, 0.0, 0.0, 5.0, 6.0, 6.0, 6.0, 5.0, 0.0, 5.0, 6.0, 5.0, 6.0, 0.0, 0.0, 0.0, 6.0, 0.0, 6.0, 0.0, 5.0, 5.0, 5.0, 5.0, 5.0, 0.0, 5.0, 0.0, 6.0, 5.0, 0.0, 5.0, 6.0, 5.0, 6.0, 6.0, 6.0, 5.0, 5.0, 6.0, 6.0, 0.0, 0.0, 6.0, 5.0, 5.0, 0.0, 0.0, 0.0, 0.0, 6.0, 6.0, 6.0, 6.0, 6.0, 0.0, 5.0, 6.0, 6.0, 7.0, 7.0, 7.0, 7.0, 6.0, 5.0, 5.0, 5.0, 0.0, 0.0, 0.0, 7.0, 0.0, 6.0, 7.0, 0.0, 0.0, 6.0, 0.0, 0.0, 0.0, 5.0, 0.0, 0.0, 0.0, 6.0, 0.0, 0.0, 5.0, 6.0, 7.0, 6.0, 6.0, 0.0, 5.0, 6.0, 7.0, 7.0, 7.0, 7.0, 7.0, 0.0, 6.0, 6.0, 6.0, 6.0, 6.0, 6.0, 0.0, 6.0, 0.0, 6.0, 0.0, 6.0, 6.0, 7.0, 7.0, 8.0, 0.0, 6.0, 6.0, 7.0, 7.0, 0.0, 6.0, 6.0, 6.0, 6.0, 6.0, 6.0, 6.0, 6.0, 6.0, 6.0, 0.0, 6.0, 6.0, 7.0, 7.0, 0.0, 6.0, 0.0, 0.0, 6.0, 6.0, 6.0, 6.0, 6.0, 6.0, 0.0, 7.0, 7.0, 7.0, 8.0, 9.0, 9.0, 8.0, 7.0, 8.0, 8.0, 0.0, 0.0, 6.0, 8.0, 0.0, 7.0, 8.0, 0.0, 0.0, 8.0, 0.0, 0.0, 6.0, 7.0, 0.0, 0.0, 0.0, 7.0, 0.0, 7.0, 7.0, 8.0, 9.0, 8.0, 5.0, 5.0, 5.0, 5.0, 6.0, 5.0, 5.0, 5.0, 5.0, 5.0, 6.0, 0.0, 6.0, 5.0, 6.0, 6.0, 5.0, 5.0, 5.0, 5.0, 5.0, 6.0, 5.0, 5.0, 5.0, 0.0, 6.0, 6.0, 5.0, 6.0, 5.0, 5.0, 5.0, 6.0, 6.0, 6.0, 5.0, 5.0, 6.0, 5.0, 5.0, 5.0, 0.0, 5.0, 5.0, 5.0, 0.0, 0.0, 5.0, 0.0, 5.0, 6.0, 6.0, 5.0, 5.0, 5.0, 6.0, 5.0, 6.0, 5.0, 5.0, 5.0, 5.0, 6.0, 5.0, 5.0, 6.0, 7.0, 0.0, 0.0, 0.0, 6.0, 5.0, 7.0, 6.0, 0.0, 0.0, 0.0, 0.0, 0.0, 5.0, 6.0, 0.0, 0.0, 0.0, 5.0, 0.0, 6.0, 6.0, 6.0, 7.0, 6.0, 5.0, 0.0, 5.0, 6.0, 6.0, 6.0, 6.0, 5.0, 6.0, 0.0, 6.0, 6.0, 6.0, 6.0, 0.0, 0.0, 0.0, 7.0, 0.0, 6.0, 0.0, 6.0, 6.0, 5.0, 6.0, 7.0, 0.0, 6.0, 0.0, 5.0, 6.0, 0.0, 6.0, 7.0, 6.0, 6.0, 6.0, 6.0, 0.0, 6.0, 5.0, 6.0, 0.0, 6.0, 7.0, 6.0, 5.0, 0.0, 0.0, 0.0, 0.0, 6.0, 6.0, 6.0, 6.0, 7.0, 0.0, 0.0, 7.0, 8.0, 8.0, 9.0, 9.0, 8.0, 0.0, 7.0, 6.0, 6.0, 0.0, 0.0, 8.0, 9.0, 8.0, 9.0, 9.0, 0.0, 7.0, 7.0, 0.0, 0.0, 0.0, 5.0, 0.0, 0.0, 0.0, 7.0, 0.0, 8.0, 8.0, 8.0, 8.0, 8.0, 5.0, 0.0, 5.0, 6.0, 6.0, 6.0, 5.0, 5.0, 6.0, 0.0, 6.0, 6.0, 6.0, 6.0, 0.0, 0.0, 0.0, 7.0, 0.0, 6.0, 0.0, 5.0, 6.0, 5.0, 5.0, 7.0, 0.0, 6.0, 0.0, 5.0, 6.0, 0.0, 6.0, 7.0, 6.0, 6.0, 6.0, 7.0, 0.0, 6.0, 5.0, 6.0, 0.0, 6.0, 8.0, 7.0, 5.0, 0.0, 0.0, 0.0, 0.0, 6.0, 6.0, 6.0, 6.0, 8.0, 0.0, 0.0, 7.0, 8.0, 9.0, 9.0, 9.0, 8.0, 0.0, 7.0, 6.0, 7.0, 0.0, 0.0, 7.0, 9.0, 8.0, 9.0, 9.0, 0.0, 6.0, 7.0, 0.0, 0.0, 0.0, 6.0, 0.0, 6.0, 0.0, 9.0, 7.0, 9.0, 8.0, 8.0, 9.0, 8.0, 5.0, 0.0, 0.0, 6.0, 6.0, 6.0, 5.0, 5.0, 5.0, 0.0, 6.0, 6.0, 6.0, 6.0, 0.0, 0.0, 6.0, 6.0, 6.0, 6.0, 0.0, 0.0, 6.0, 5.0, 5.0, 7.0, 0.0, 6.0, 0.0, 5.0, 5.0, 0.0, 6.0, 7.0, 6.0, 6.0, 6.0, 6.0, 0.0, 6.0, 5.0, 6.0, 0.0, 6.0, 7.0, 7.0, 5.0, 0.0, 0.0, 0.0, 0.0, 6.0, 6.0, 6.0, 6.0, 7.0, 0.0, 0.0, 7.0, 7.0, 8.0, 9.0, 9.0, 7.0, 0.0, 0.0, 6.0, 5.0, 0.0, 0.0, 7.0, 9.0, 8.0, 8.0, 9.0, 0.0, 0.0, 0.0, 0.0, 0.0, 0.0, 5.0, 0.0, 6.0, 0.0, 7.0, 0.0, 8.0, 7.0, 6.0, 6.0, 7.0, 0.0, 6.0, 6.0, 6.0, 6.0, 6.0, 6.0, 6.0, 6.0, 0.0, 6.0, 6.0, 0.0, 6.0, 6.0, 6.0, 5.0, 6.0, 6.0, 6.0, 6.0, 6.0, 6.0, 6.0, 6.0, 0.0, 0.0, 6.0, 6.0, 6.0, 6.0, 6.0, 6.0, 6.0, 6.0, 6.0, 6.0, 6.0, 6.0, 6.0, 6.0, 5.0, 6.0, 6.0, 7.0, 7.0, 7.0, 0.0, 6.0, 0.0, 0.0, 6.0, 6.0, 6.0, 6.0, 7.0, 6.0, 6.0, 7.0, 7.0, 8.0, 8.0, 8.0, 8.0, 8.0, 6.0, 8.0, 9.0, 0.0, 0.0, 0.0, 0.0, 0.0, 7.0, 8.0, 0.0, 0.0, 7.0, 0.0, 0.0, 6.0, 8.0, 7.0, 8.0, 0.0, 6.0, 0.0, 7.0, 7.0, 8.0, 9.0, 0.0, 5.0, 6.0, 5.0, 5.0, 6.0, 6.0, 6.0, 6.0, 6.0, 0.0, 6.0, 5.0, 6.0, 6.0, 6.0, 6.0, 5.0, 6.0, 5.0, 6.0, 5.0, 6.0, 6.0, 6.0, 6.0, 0.0, 0.0, 6.0, 6.0, 6.0, 6.0, 6.0, 5.0, 5.0, 6.0, 6.0, 6.0, 5.0, 6.0, 6.0, 5.0, 5.0, 6.0, 6.0, 6.0, 6.0, 7.0, 0.0, 5.0, 0.0, 5.0, 6.0, 6.0, 6.0, 5.0, 6.0, 6.0, 6.0, 5.0, 7.0, 6.0, 7.0, 7.0, 0.0, 6.0, 6.0, 8.0, 8.0, 0.0, 0.0, 0.0, 0.0, 0.0, 7.0, 8.0, 0.0, 0.0, 0.0, 0.0, 0.0, 6.0, 6.0, 7.0, 0.0, 0.0, 6.0, 0.0, 6.0, 7.0, 7.0, 8.0, 0.0, 6.0, 6.0, 7.0, 6.0, 6.0, 7.0, 7.0, 7.0, 7.0, 0.0, 6.0, 7.0, 6.0, 6.0, 6.0, 7.0, 0.0, 7.0, 6.0, 6.0, 7.0, 6.0, 6.0, 7.0, 7.0, 0.0, 0.0, 7.0, 7.0, 7.0, 7.0, 6.0, 6.0, 6.0, 6.0, 7.0, 7.0, 6.0, 6.0, 7.0, 7.0, 7.0, 6.0, 7.0, 7.0, 8.0, 7.0, 0.0, 6.0, 0.0, 0.0, 6.0, 6.0, 6.0, 6.0, 7.0, 6.0, 6.0, 7.0, 8.0, 8.0, 9.0, 0.0, 7.0, 10.0, 0.0, 9.0, 8.0, 0.0, 0.0, 0.0, 8.0, 0.0, 7.0, 9.0, 0.0, 8.0, 9.0, 0.0, 0.0, 6.0, 8.0, 8.0, 10.0, 0.0, 7.0, 8.0, 8.0, 0.0, 10.0, 10.0, 9.0, 5.0, 0.0, 5.0, 0.0, 0.0, 6.0, 5.0, 5.0, 5.0, 0.0, 0.0, 5.0, 6.0, 0.0, 0.0, 0.0, 5.0, 5.0, 5.0, 6.0, 0.0, 5.0, 5.0, 5.0, 5.0, 0.0, 0.0, 5.0, 5.0, 5.0, 5.0, 5.0, 6.0, 7.0, 6.0, 6.0, 5.0, 5.0, 0.0, 5.0, 5.0, 5.0, 5.0, 6.0, 6.0, 7.0, 5.0, 0.0, 5.0, 0.0, 0.0, 6.0, 0.0, 0.0, 0.0, 6.0, 5.0, 0.0, 7.0, 8.0, 7.0, 9.0, 9.0, 7.0, 6.0, 0.0, 0.0, 7.0, 6.0, 0.0, 7.0, 8.0, 8.0, 8.0, 9.0, 0.0, 0.0, 7.0, 6.0, 0.0, 0.0, 0.0, 5.0, 6.0, 0.0, 7.0, 7.0, 7.0, 8.0, 8.0, 8.0, 7.0, 5.0, 5.0, 5.0, 0.0, 5.0, 5.0, 6.0, 6.0, 0.0, 0.0, 5.0, 5.0, 0.0, 5.0, 5.0, 5.0, 5.0, 5.0, 5.0, 5.0, 5.0, 5.0, 5.0, 5.0, 5.0, 0.0, 0.0, 6.0, 5.0, 5.0, 5.0, 6.0, 5.0, 5.0, 6.0, 6.0, 5.0, 5.0, 6.0, 5.0, 5.0, 5.0, 5.0, 5.0, 5.0, 5.0, 6.0, 0.0, 5.0, 0.0, 0.0, 5.0, 5.0, 5.0, 5.0, 6.0, 5.0, 5.0, 6.0, 6.0, 6.0, 8.0, 0.0, 0.0, 7.0, 0.0, 7.0, 9.0, 0.0, 0.0, 0.0, 0.0, 0.0, 6.0, 10.0, 0.0, 0.0, 0.0, 0.0, 0.0, 7.0, 8.0, 7.0, 7.0, 0.0, 6.0, 0.0, 7.0, 7.0, 7.0, 8.0, 0.0, 6.0, 6.0, 0.0, 6.0, 6.0, 7.0, 7.0, 7.0, 7.0, 0.0, 6.0, 6.0, 6.0, 6.0, 6.0, 6.0, 0.0, 6.0, 0.0, 6.0, 7.0, 7.0, 6.0, 7.0, 7.0, 0.0, 0.0, 7.0, 6.0, 7.0, 7.0, 6.0, 6.0, 6.0, 6.0, 6.0, 6.0, 6.0, 6.0, 6.0, 7.0, 7.0, 5.0, 6.0, 6.0, 8.0, 7.0, 0.0, 0.0, 0.0, 0.0, 6.0, 6.0, 6.0, 6.0, 7.0, 6.0, 7.0, 6.0, 8.0, 7.0, 9.0, 9.0, 0.0, 7.0, 0.0, 8.0, 8.0, 0.0, 0.0, 6.0, 8.0, 0.0, 7.0, 9.0, 0.0, 0.0, 9.0, 0.0, 0.0, 6.0, 7.0, 7.0, 8.0, 0.0, 7.0, 7.0, 8.0, 7.0, 8.0, 10.0, 10.0, 5.0, 5.0, 5.0, 6.0, 6.0, 7.0, 6.0, 6.0, 0.0, 0.0, 6.0, 6.0, 6.0, 6.0, 6.0, 6.0, 6.0, 7.0, 6.0, 6.0, 7.0, 6.0, 6.0, 7.0, 7.0, 6.0, 0.0, 7.0, 6.0, 7.0, 7.0, 6.0, 6.0, 6.0, 6.0, 6.0, 6.0, 6.0, 6.0, 6.0, 7.0, 6.0, 5.0, 6.0, 6.0, 7.0, 7.0, 0.0, 0.0, 0.0, 0.0, 6.0, 0.0, 6.0, 6.0, 7.0, 6.0, 6.0, 6.0, 7.0, 6.0, 8.0, 9.0, 0.0, 7.0, 0.0, 7.0, 8.0, 0.0, 0.0, 0.0, 7.0, 0.0, 7.0, 9.0, 0.0, 8.0, 9.0, 0.0, 0.0, 6.0, 7.0, 7.0, 8.0, 0.0, 7.0, 7.0, 7.0, 0.0, 8.0, 10.0, 9.0, 5.0, 5.0, 5.0, 5.0, 6.0, 6.0, 6.0, 7.0, 0.0, 0.0, 6.0, 5.0, 6.0, 5.0, 6.0, 6.0, 5.0, 5.0, 5.0, 6.0, 5.0, 6.0, 5.0, 5.0, 6.0, 0.0, 0.0, 6.0, 6.0, 6.0, 6.0, 6.0, 6.0, 5.0, 6.0, 6.0, 5.0, 5.0, 6.0, 6.0, 5.0, 5.0, 0.0, 6.0, 6.0, 7.0, 7.0, 0.0, 0.0, 0.0, 0.0, 6.0, 6.0, 6.0, 5.0, 5.0, 6.0, 6.0, 5.0, 7.0, 6.0, 7.0, 7.0, 0.0, 7.0, 0.0, 7.0, 8.0, 0.0, 0.0, 0.0, 0.0, 6.0, 7.0, 8.0, 0.0, 0.0, 7.0, 0.0, 0.0, 7.0, 6.0, 7.0, 7.0, 0.0, 6.0, 0.0, 7.0, 7.0, 7.0, 8.0, 0.0, 5.0, 0.0, 0.0, 6.0, 6.0, 6.0, 5.0, 5.0, 5.0, 0.0, 6.0, 6.0, 5.0, 6.0, 0.0, 0.0, 6.0, 6.0, 6.0, 6.0, 7.0, 5.0, 6.0, 5.0, 5.0, 6.0, 0.0, 5.0, 0.0, 5.0, 5.0, 0.0, 6.0, 7.0, 6.0, 6.0, 6.0, 6.0, 5.0, 0.0, 6.0, 5.0, 0.0, 0.0, 7.0, 7.0, 5.0, 0.0, 5.0, 0.0, 0.0, 6.0, 6.0, 6.0, 6.0, 7.0, 0.0, 0.0, 7.0, 7.0, 9.0, 9.0, 9.0, 7.0, 7.0, 0.0, 6.0, 6.0, 6.0, 0.0, 7.0, 9.0, 8.0, 9.0, 9.0, 0.0, 6.0, 0.0, 0.0, 0.0, 5.0, 5.0, 6.0, 6.0, 7.0, 7.0, 0.0, 6.0, 0.0, 6.0, 6.0, 7.0, 5.0, 6.0, 5.0, 6.0, 6.0, 7.0, 7.0, 7.0, 0.0, 0.0, 6.0, 6.0, 6.0, 6.0, 6.0, 6.0, 5.0, 7.0, 6.0, 6.0, 7.0, 6.0, 6.0, 7.0, 8.0, 7.0, 0.0, 6.0, 7.0, 7.0, 7.0, 6.0, 6.0, 6.0, 6.0, 6.0, 6.0, 6.0, 6.0, 6.0, 6.0, 6.0, 0.0, 6.0, 7.0, 8.0, 7.0, 0.0, 6.0, 0.0, 5.0, 6.0, 6.0, 6.0, 6.0, 7.0, 6.0, 7.0, 7.0, 7.0, 8.0, 8.0, 9.0, 0.0, 8.0, 0.0, 7.0, 9.0, 0.0, 0.0, 0.0, 8.0, 7.0, 8.0, 10.0, 0.0, 7.0, 8.0, 0.0, 0.0, 6.0, 7.0, 7.0, 9.0, 0.0, 8.0, 7.0, 8.0, 7.0, 10.0, 10.0, 9.0, 5.0, 6.0, 5.0, 6.0, 6.0, 7.0, 7.0, 6.0, 0.0, 0.0, 6.0, 6.0, 6.0, 6.0, 6.0, 6.0, 5.0, 7.0, 6.0, 6.0, 7.0, 7.0, 6.0, 7.0, 8.0, 0.0, 0.0, 6.0, 6.0, 7.0, 7.0, 6.0, 7.0, 6.0, 6.0, 6.0, 6.0, 6.0, 6.0, 6.0, 6.0, 5.0, 0.0, 6.0, 6.0, 7.0, 7.0, 0.0, 0.0, 0.0, 5.0, 6.0, 6.0, 6.0, 6.0, 7.0, 6.0, 6.0, 7.0, 7.0, 8.0, 8.0, 8.0, 0.0, 8.0, 0.0, 7.0, 8.0, 0.0, 0.0, 0.0, 7.0, 0.0, 7.0, 9.0, 0.0, 7.0, 9.0, 0.0, 0.0, 7.0, 8.0, 0.0, 8.0, 0.0, 8.0, 8.0, 7.0, 7.0, 9.0, 8.0, 9.0, 0.0, 6.0, 5.0, 6.0, 6.0, 6.0, 0.0, 5.0, 0.0, 0.0, 6.0, 6.0, 6.0, 6.0, 6.0, 6.0, 6.0, 6.0, 6.0, 6.0, 7.0, 7.0, 6.0, 7.0, 6.0, 0.0, 0.0, 6.0, 5.0, 6.0, 6.0, 6.0, 6.0, 6.0, 6.0, 6.0, 6.0, 6.0, 6.0, 6.0, 6.0, 6.0, 0.0, 6.0, 6.0, 6.0, 6.0, 0.0, 0.0, 0.0, 5.0, 6.0, 6.0, 6.0, 6.0, 7.0, 6.0, 6.0, 7.0, 7.0, 8.0, 9.0, 9.0, 0.0, 8.0, 0.0, 7.0, 7.0, 0.0, 0.0, 6.0, 8.0, 7.0, 7.0, 8.0, 0.0, 7.0, 8.0, 0.0, 0.0, 5.0, 6.0, 6.0, 7.0, 0.0, 7.0, 7.0, 8.0, 8.0, 8.0, 8.0, 7.0, 6.0, 6.0, 5.0, 6.0, 6.0, 7.0, 7.0, 6.0, 6.0, 0.0, 6.0, 6.0, 6.0, 6.0, 6.0, 6.0, 6.0, 7.0, 6.0, 6.0, 6.0, 6.0, 6.0, 6.0, 7.0, 0.0, 0.0, 5.0, 5.0, 5.0, 7.0, 6.0, 6.0, 6.0, 6.0, 6.0, 6.0, 6.0, 6.0, 6.0, 6.0, 7.0, 0.0, 6.0, 6.0, 7.0, 6.0, 0.0, 0.0, 0.0, 0.0, 6.0, 6.0, 6.0, 6.0, 7.0, 6.0, 6.0, 7.0, 7.0, 8.0, 9.0, 9.0, 0.0, 8.0, 0.0, 6.0, 7.0, 0.0, 0.0, 6.0, 8.0, 8.0, 7.0, 9.0, 0.0, 8.0, 9.0, 0.0, 0.0, 6.0, 6.0, 6.0, 8.0, 0.0, 7.0, 7.0, 8.0, 8.0, 8.0, 9.0, 9.0, 5.0, 6.0, 6.0, 6.0, 6.0, 6.0, 0.0, 6.0, 0.0, 0.0, 6.0, 6.0, 6.0, 6.0, 6.0, 6.0, 5.0, 6.0, 6.0, 6.0, 7.0, 7.0, 6.0, 7.0, 7.0, 0.0, 0.0, 6.0, 6.0, 7.0, 7.0, 6.0, 6.0, 6.0, 6.0, 6.0, 6.0, 7.0, 6.0, 6.0, 6.0, 6.0, 0.0, 6.0, 7.0, 7.0, 7.0, 0.0, 0.0, 0.0, 5.0, 6.0, 6.0, 6.0, 6.0, 7.0, 7.0, 7.0, 7.0, 8.0, 8.0, 8.0, 9.0, 0.0, 8.0, 0.0, 8.0, 8.0, 0.0, 0.0, 6.0, 8.0, 8.0, 7.0, 9.0, 0.0, 8.0, 9.0, 0.0, 0.0, 7.0, 7.0, 8.0, 8.0, 0.0, 7.0, 8.0, 8.0, 8.0, 9.0, 9.0, 9.0, 5.0, 5.0, 0.0, 6.0, 6.0, 6.0, 0.0, 5.0, 0.0, 0.0, 6.0, 6.0, 6.0, 6.0, 6.0, 6.0, 6.0, 6.0, 7.0, 6.0, 7.0, 5.0, 6.0, 6.0, 7.0, 0.0, 0.0, 5.0, 5.0, 5.0, 5.0, 5.0, 6.0, 7.0, 6.0, 6.0, 6.0, 7.0, 6.0, 6.0, 6.0, 5.0, 0.0, 0.0, 7.0, 7.0, 5.0, 0.0, 0.0, 0.0, 0.0, 6.0, 6.0, 6.0, 6.0, 8.0, 5.0, 5.0, 7.0, 8.0, 9.0, 8.0, 9.0, 0.0, 7.0, 0.0, 6.0, 6.0, 0.0, 0.0, 8.0, 9.0, 9.0, 8.0, 9.0, 0.0, 7.0, 7.0, 0.0, 0.0, 6.0, 6.0, 6.0, 7.0, 8.0, 8.0, 8.0, 8.0, 9.0, 7.0, 9.0, 8.0, 5.0, 5.0, 5.0, 0.0, 5.0, 5.0, 6.0, 6.0, 0.0, 0.0, 6.0, 5.0, 5.0, 6.0, 0.0, 6.0, 5.0, 5.0, 5.0, 6.0, 6.0, 5.0, 5.0, 5.0, 6.0, 0.0, 0.0, 6.0, 6.0, 5.0, 5.0, 5.0, 5.0, 5.0, 6.0, 6.0, 5.0, 5.0, 6.0, 5.0, 5.0, 5.0, 0.0, 6.0, 5.0, 6.0, 7.0, 0.0, 0.0, 0.0, 5.0, 6.0, 6.0, 6.0, 6.0, 6.0, 6.0, 5.0, 5.0, 7.0, 7.0, 8.0, 8.0, 0.0, 6.0, 0.0, 7.0, 8.0, 0.0, 0.0, 0.0, 6.0, 6.0, 7.0, 8.0, 0.0, 6.0, 7.0, 0.0, 0.0, 6.0, 6.0, 7.0, 7.0, 0.0, 6.0, 7.0, 7.0, 7.0, 8.0, 8.0, 7.0, 5.0, 6.0, 5.0, 6.0, 6.0, 7.0, 0.0, 5.0, 0.0, 0.0, 6.0, 6.0, 6.0, 6.0, 6.0, 6.0, 6.0, 6.0, 6.0, 6.0, 7.0, 6.0, 6.0, 6.0, 7.0, 0.0, 0.0, 5.0, 5.0, 5.0, 5.0, 7.0, 6.0, 7.0, 6.0, 6.0, 6.0, 7.0, 6.0, 6.0, 5.0, 0.0, 0.0, 6.0, 7.0, 7.0, 5.0, 0.0, 0.0, 0.0, 0.0, 6.0, 6.0, 6.0, 6.0, 7.0, 7.0, 5.0, 7.0, 8.0, 8.0, 8.0, 8.0, 0.0, 8.0, 0.0, 7.0, 7.0, 0.0, 0.0, 7.0, 9.0, 9.0, 8.0, 8.0, 0.0, 0.0, 8.0, 0.0, 0.0, 7.0, 6.0, 7.0, 8.0, 8.0, 9.0, 9.0, 9.0, 9.0, 9.0, 9.0, 9.0, 5.0, 5.0, 5.0, 5.0, 6.0, 6.0, 0.0, 6.0, 0.0, 0.0, 6.0, 6.0, 6.0, 6.0, 6.0, 6.0, 5.0, 6.0, 6.0, 6.0, 7.0, 7.0, 5.0, 6.0, 7.0, 0.0, 0.0, 6.0, 6.0, 6.0, 6.0, 6.0, 6.0, 6.0, 6.0, 6.0, 6.0, 6.0, 6.0, 6.0, 5.0, 5.0, 0.0, 6.0, 6.0, 6.0, 7.0, 0.0, 0.0, 0.0, 5.0, 6.0, 6.0, 6.0, 6.0, 7.0, 7.0, 6.0, 6.0, 7.0, 8.0, 8.0, 0.0, 0.0, 7.0, 0.0, 8.0, 9.0, 0.0, 0.0, 0.0, 7.0, 6.0, 7.0, 9.0, 0.0, 8.0, 8.0, 0.0, 0.0, 6.0, 7.0, 7.0, 8.0, 0.0, 7.0, 7.0, 0.0, 7.0, 8.0, 10.0, 8.0, 5.0, 6.0, 5.0, 6.0, 6.0, 6.0, 0.0, 5.0, 0.0, 0.0, 6.0, 6.0, 6.0, 6.0, 0.0, 6.0, 6.0, 6.0, 7.0, 6.0, 7.0, 6.0, 6.0, 6.0, 5.0, 0.0, 0.0, 5.0, 0.0, 5.0, 5.0, 0.0, 6.0, 7.0, 6.0, 6.0, 6.0, 7.0, 6.0, 6.0, 6.0, 0.0, 0.0, 0.0, 7.0, 7.0, 5.0, 0.0, 0.0, 0.0, 0.0, 6.0, 6.0, 6.0, 6.0, 7.0, 5.0, 5.0, 7.0, 7.0, 8.0, 8.0, 8.0, 0.0, 0.0, 6.0, 6.0, 6.0, 6.0, 0.0, 7.0, 9.0, 8.0, 8.0, 9.0, 0.0, 0.0, 7.0, 0.0, 0.0, 6.0, 6.0, 6.0, 6.0, 8.0, 8.0, 7.0, 8.0, 7.0, 8.0, 9.0, 8.0, 5.0, 6.0, 5.0, 6.0, 6.0, 6.0, 0.0, 5.0, 0.0, 0.0, 6.0, 6.0, 6.0, 6.0, 6.0, 6.0, 6.0, 6.0, 6.0, 6.0, 7.0, 6.0, 7.0, 6.0, 5.0, 0.0, 0.0, 6.0, 5.0, 5.0, 5.0, 6.0, 6.0, 6.0, 7.0, 6.0, 6.0, 7.0, 7.0, 6.0, 6.0, 0.0, 0.0, 6.0, 7.0, 7.0, 5.0, 0.0, 6.0, 0.0, 0.0, 6.0, 6.0, 6.0, 6.0, 7.0, 7.0, 7.0, 7.0, 7.0, 6.0, 7.0, 0.0, 0.0, 8.0, 6.0, 7.0, 8.0, 8.0, 0.0, 7.0, 9.0, 8.0, 8.0, 8.0, 0.0, 0.0, 7.0, 0.0, 0.0, 6.0, 6.0, 6.0, 6.0, 7.0, 9.0, 8.0, 8.0, 7.0, 7.0, 9.0, 0.0, 6.0, 6.0, 5.0, 6.0, 6.0, 7.0, 0.0, 6.0, 0.0, 0.0, 6.0, 6.0, 6.0, 6.0, 6.0, 6.0, 5.0, 6.0, 6.0, 6.0, 7.0, 7.0, 6.0, 7.0, 7.0, 0.0, 0.0, 6.0, 7.0, 7.0, 7.0, 6.0, 6.0, 6.0, 6.0, 6.0, 7.0, 6.0, 6.0, 7.0, 6.0, 0.0, 0.0, 6.0, 7.0, 7.0, 7.0, 0.0, 6.0, 0.0, 5.0, 6.0, 6.0, 6.0, 6.0, 7.0, 7.0, 6.0, 7.0, 7.0, 7.0, 8.0, 0.0, 0.0, 8.0, 7.0, 8.0, 8.0, 0.0, 0.0, 6.0, 7.0, 6.0, 7.0, 8.0, 0.0, 8.0, 8.0, 0.0, 0.0, 7.0, 7.0, 7.0, 8.0, 0.0, 8.0, 7.0, 7.0, 7.0, 8.0, 9.0, 0.0, 5.0, 6.0, 5.0, 6.0, 6.0, 6.0, 0.0, 5.0, 0.0, 0.0, 6.0, 6.0, 6.0, 6.0, 6.0, 6.0, 6.0, 6.0, 6.0, 6.0, 6.0, 6.0, 6.0, 6.0, 7.0, 0.0, 0.0, 0.0, 6.0, 5.0, 5.0, 0.0, 6.0, 7.0, 6.0, 6.0, 6.0, 7.0, 7.0, 6.0, 6.0, 0.0, 0.0, 6.0, 7.0, 7.0, 5.0, 0.0, 6.0, 0.0, 0.0, 6.0, 6.0, 6.0, 6.0, 6.0, 7.0, 7.0, 7.0, 7.0, 6.0, 7.0, 0.0, 0.0, 7.0, 6.0, 7.0, 7.0, 7.0, 0.0, 7.0, 7.0, 8.0, 8.0, 9.0, 0.0, 0.0, 7.0, 0.0, 0.0, 6.0, 6.0, 6.0, 6.0, 7.0, 7.0, 7.0, 7.0, 7.0, 7.0, 9.0, 0.0, 5.0, 6.0, 5.0, 6.0, 6.0, 5.0, 0.0, 5.0, 0.0, 0.0, 6.0, 6.0, 5.0, 6.0, 6.0, 6.0, 6.0, 5.0, 6.0, 6.0, 6.0, 6.0, 7.0, 5.0, 5.0, 0.0, 0.0, 5.0, 5.0, 5.0, 6.0, 0.0, 6.0, 6.0, 6.0, 6.0, 5.0, 7.0, 7.0, 6.0, 5.0, 0.0, 0.0, 6.0, 6.0, 6.0, 5.0, 0.0, 6.0, 0.0, 0.0, 6.0, 6.0, 6.0, 6.0, 6.0, 6.0, 6.0, 7.0, 7.0, 7.0, 7.0, 0.0, 0.0, 0.0, 6.0, 7.0, 8.0, 7.0, 0.0, 6.0, 7.0, 7.0, 8.0, 7.0, 0.0, 0.0, 7.0, 0.0, 0.0, 6.0, 6.0, 6.0, 7.0, 7.0, 7.0, 7.0, 8.0, 7.0, 7.0, 8.0, 0.0, 5.0, 5.0, 5.0, 5.0, 5.0, 6.0, 0.0, 5.0, 0.0, 0.0, 6.0, 5.0, 5.0, 6.0, 5.0, 6.0, 5.0, 5.0, 5.0, 6.0, 6.0, 0.0, 5.0, 5.0, 7.0, 0.0, 0.0, 6.0, 5.0, 5.0, 5.0, 0.0, 5.0, 5.0, 5.0, 6.0, 5.0, 5.0, 6.0, 6.0, 5.0, 0.0, 0.0, 5.0, 5.0, 6.0, 6.0, 0.0, 5.0, 0.0, 5.0, 6.0, 6.0, 6.0, 6.0, 6.0, 6.0, 6.0, 5.0, 7.0, 7.0, 7.0, 0.0, 0.0, 6.0, 6.0, 7.0, 8.0, 0.0, 0.0, 0.0, 6.0, 6.0, 7.0, 8.0, 0.0, 0.0, 7.0, 0.0, 0.0, 6.0, 6.0, 7.0, 7.0, 0.0, 6.0, 7.0, 7.0, 7.0, 7.0, 8.0, 0.0, 5.0, 6.0, 5.0, 6.0, 6.0, 6.0, 0.0, 5.0, 0.0, 0.0, 6.0, 6.0, 6.0, 6.0, 6.0, 6.0, 6.0, 5.0, 6.0, 6.0, 5.0, 6.0, 6.0, 6.0, 5.0, 0.0, 0.0, 6.0, 5.0, 5.0, 6.0, 0.0, 6.0, 6.0, 6.0, 6.0, 6.0, 7.0, 7.0, 6.0, 5.0, 0.0, 0.0, 6.0, 7.0, 7.0, 5.0, 0.0, 6.0, 0.0, 6.0, 6.0, 6.0, 6.0, 6.0, 6.0, 7.0, 7.0, 7.0, 7.0, 6.0, 7.0, 0.0, 0.0, 8.0, 6.0, 7.0, 8.0, 6.0, 0.0, 7.0, 7.0, 8.0, 8.0, 8.0, 0.0, 0.0, 7.0, 0.0, 0.0, 6.0, 6.0, 6.0, 7.0, 7.0, 7.0, 7.0, 8.0, 7.0, 8.0, 9.0, 0.0, 5.0, 5.0, 5.0, 5.0, 5.0, 5.0, 5.0, 5.0, 0.0, 0.0, 6.0, 5.0, 5.0, 5.0, 5.0, 5.0, 5.0, 5.0, 5.0, 5.0, 5.0, 5.0, 5.0, 5.0, 0.0, 0.0, 0.0, 6.0, 5.0, 5.0, 5.0, 5.0, 5.0, 5.0, 5.0, 5.0, 5.0, 5.0, 5.0, 5.0, 5.0, 0.0, 5.0, 5.0, 5.0, 5.0, 5.0, 0.0, 5.0, 0.0, 5.0, 6.0, 6.0, 5.0, 6.0, 6.0, 5.0, 5.0, 7.0, 6.0, 6.0, 6.0, 0.0, 0.0, 6.0, 5.0, 6.0, 6.0, 0.0, 0.0, 6.0, 6.0, 6.0, 6.0, 6.0, 0.0, 6.0, 6.0, 0.0, 6.0, 6.0, 6.0, 6.0, 6.0, 0.0, 6.0, 6.0, 6.0, 6.0, 6.0, 0.0, 0.0, 5.0, 6.0, 5.0, 0.0, 6.0, 6.0, 0.0, 5.0, 0.0, 0.0, 6.0, 5.0, 6.0, 6.0, 6.0, 6.0, 5.0, 5.0, 6.0, 6.0, 6.0, 6.0, 6.0, 5.0, 5.0, 0.0, 0.0, 6.0, 5.0, 5.0, 5.0, 0.0, 6.0, 6.0, 6.0, 6.0, 6.0, 6.0, 6.0, 6.0, 5.0, 0.0, 0.0, 6.0, 7.0, 6.0, 6.0, 0.0, 5.0, 0.0, 0.0, 6.0, 6.0, 6.0, 6.0, 6.0, 7.0, 7.0, 7.0, 7.0, 7.0, 8.0, 0.0, 0.0, 7.0, 6.0, 7.0, 7.0, 0.0, 0.0, 6.0, 7.0, 6.0, 8.0, 7.0, 0.0, 0.0, 7.0, 0.0, 6.0, 6.0, 6.0, 6.0, 7.0, 7.0, 7.0, 7.0, 7.0, 7.0, 8.0, 0.0, 0.0, 5.0, 5.0, 5.0, 5.0, 5.0, 5.0, 0.0, 5.0, 0.0, 0.0, 5.0, 5.0, 5.0, 6.0, 6.0, 6.0, 5.0, 5.0, 5.0, 6.0, 6.0, 5.0, 5.0, 5.0, 7.0, 0.0, 0.0, 6.0, 5.0, 5.0, 5.0, 0.0, 5.0, 5.0, 5.0, 5.0, 5.0, 5.0, 5.0, 5.0, 5.0, 0.0, 0.0, 5.0, 6.0, 5.0, 7.0, 0.0, 5.0, 0.0, 5.0, 6.0, 6.0, 6.0, 6.0, 6.0, 5.0, 5.0, 5.0, 7.0, 7.0, 8.0, 0.0, 0.0, 6.0, 6.0, 7.0, 8.0, 0.0, 0.0, 0.0, 7.0, 6.0, 6.0, 8.0, 0.0, 6.0, 7.0, 0.0, 0.0, 6.0, 6.0, 7.0, 7.0, 0.0, 6.0, 7.0, 7.0, 7.0, 7.0, 8.0, 0.0, 5.0, 6.0, 6.0, 5.0, 6.0, 7.0, 0.0, 5.0, 0.0, 0.0, 6.0, 6.0, 6.0, 6.0, 6.0, 6.0, 5.0, 5.0, 5.0, 6.0, 5.0, 7.0, 6.0, 6.0, 5.0, 0.0, 0.0, 6.0, 5.0, 5.0, 6.0, 0.0, 6.0, 6.0, 6.0, 6.0, 6.0, 6.0, 6.0, 6.0, 5.0, 0.0, 0.0, 5.0, 6.0, 6.0, 5.0, 0.0, 5.0, 0.0, 5.0, 6.0, 6.0, 6.0, 6.0, 5.0, 6.0, 6.0, 6.0, 6.0, 6.0, 7.0, 0.0, 0.0, 7.0, 6.0, 7.0, 6.0, 0.0, 0.0, 6.0, 7.0, 7.0, 7.0, 6.0, 0.0, 0.0, 7.0, 0.0, 0.0, 6.0, 6.0, 6.0, 6.0, 0.0, 7.0, 7.0, 8.0, 7.0, 7.0, 8.0, 0.0, 5.0, 6.0, 5.0, 0.0, 7.0, 6.0, 6.0, 6.0, 0.0, 0.0, 6.0, 5.0, 6.0, 6.0, 6.0, 5.0, 5.0, 6.0, 6.0, 6.0, 5.0, 6.0, 5.0, 6.0, 6.0, 0.0, 0.0, 6.0, 6.0, 7.0, 7.0, 6.0, 5.0, 5.0, 6.0, 6.0, 5.0, 5.0, 6.0, 6.0, 5.0, 5.0, 0.0, 6.0, 6.0, 7.0, 8.0, 6.0, 0.0, 0.0, 0.0, 6.0, 6.0, 6.0, 6.0, 7.0, 6.0, 6.0, 5.0, 7.0, 6.0, 8.0, 8.0, 0.0, 7.0, 0.0, 6.0, 8.0, 0.0, 0.0, 0.0, 6.0, 6.0, 7.0, 9.0, 0.0, 6.0, 8.0, 0.0, 0.0, 7.0, 7.0, 8.0, 7.0, 0.0, 7.0, 8.0, 8.0, 8.0, 8.0, 9.0, 8.0, 0.0, 5.0, 5.0, 6.0, 6.0, 5.0, 0.0, 5.0, 0.0, 0.0, 6.0, 6.0, 6.0, 6.0, 6.0, 6.0, 7.0, 6.0, 7.0, 6.0, 8.0, 0.0, 6.0, 5.0, 7.0, 0.0, 5.0, 0.0, 5.0, 6.0, 0.0, 0.0, 6.0, 6.0, 6.0, 6.0, 6.0, 7.0, 6.0, 6.0, 5.0, 0.0, 0.0, 5.0, 7.0, 7.0, 7.0, 0.0, 5.0, 0.0, 0.0, 6.0, 6.0, 6.0, 7.0, 8.0, 7.0, 7.0, 7.0, 7.0, 8.0, 8.0, 0.0, 0.0, 7.0, 7.0, 7.0, 7.0, 0.0, 0.0, 6.0, 7.0, 8.0, 8.0, 9.0, 0.0, 0.0, 7.0, 0.0, 7.0, 6.0, 7.0, 7.0, 7.0, 8.0, 7.0, 7.0, 7.0, 7.0, 7.0, 0.0, 0.0, 0.0, 5.0, 5.0, 5.0, 5.0, 5.0, 0.0, 5.0, 0.0, 0.0, 6.0, 5.0, 5.0, 5.0, 5.0, 5.0, 5.0, 6.0, 5.0, 6.0, 6.0, 6.0, 5.0, 5.0, 0.0, 0.0, 0.0, 0.0, 5.0, 6.0, 6.0, 0.0, 5.0, 6.0, 5.0, 5.0, 5.0, 5.0, 6.0, 6.0, 5.0, 0.0, 0.0, 5.0, 6.0, 6.0, 6.0, 0.0, 5.0, 0.0, 6.0, 6.0, 6.0, 5.0, 6.0, 6.0, 5.0, 6.0, 6.0, 6.0, 7.0, 7.0, 0.0, 0.0, 6.0, 7.0, 7.0, 8.0, 0.0, 0.0, 6.0, 6.0, 6.0, 6.0, 8.0, 0.0, 0.0, 7.0, 7.0, 6.0, 6.0, 7.0, 7.0, 7.0, 0.0, 6.0, 0.0, 6.0, 7.0, 7.0, 0.0, 0.0, 0.0, 5.0, 0.0, 6.0, 6.0, 5.0, 0.0, 5.0, 0.0, 0.0, 6.0, 5.0, 6.0, 6.0, 6.0, 6.0, 5.0, 5.0, 6.0, 6.0, 6.0, 6.0, 7.0, 5.0, 0.0, 0.0, 0.0, 0.0, 5.0, 6.0, 0.0, 0.0, 6.0, 7.0, 6.0, 6.0, 6.0, 7.0, 7.0, 6.0, 7.0, 0.0, 0.0, 6.0, 7.0, 6.0, 6.0, 0.0, 5.0, 0.0, 0.0, 6.0, 6.0, 6.0, 6.0, 6.0, 7.0, 7.0, 7.0, 7.0, 7.0, 8.0, 0.0, 0.0, 7.0, 7.0, 7.0, 7.0, 7.0, 0.0, 6.0, 7.0, 8.0, 7.0, 7.0, 0.0, 0.0, 7.0, 0.0, 6.0, 6.0, 6.0, 7.0, 7.0, 0.0, 8.0, 0.0, 7.0, 7.0, 8.0, 0.0, 0.0, 5.0, 5.0, 5.0, 5.0, 6.0, 5.0, 0.0, 5.0, 0.0, 0.0, 6.0, 5.0, 6.0, 6.0, 6.0, 6.0, 5.0, 6.0, 6.0, 6.0, 6.0, 8.0, 6.0, 6.0, 0.0, 0.0, 0.0, 0.0, 5.0, 6.0, 0.0, 0.0, 6.0, 6.0, 7.0, 6.0, 6.0, 8.0, 7.0, 6.0, 6.0, 0.0, 0.0, 6.0, 7.0, 7.0, 6.0, 0.0, 6.0, 0.0, 6.0, 7.0, 6.0, 6.0, 6.0, 6.0, 6.0, 7.0, 7.0, 7.0, 7.0, 8.0, 0.0, 0.0, 8.0, 7.0, 8.0, 8.0, 0.0, 0.0, 7.0, 7.0, 7.0, 8.0, 8.0, 0.0, 0.0, 8.0, 0.0, 6.0, 7.0, 7.0, 7.0, 7.0, 8.0, 0.0, 0.0, 7.0, 8.0, 8.0, 0.0, 0.0, 6.0, 6.0, 6.0, 6.0, 7.0, 7.0, 0.0, 6.0, 0.0, 0.0, 6.0, 7.0, 7.0, 6.0, 6.0, 6.0, 6.0, 7.0, 6.0, 6.0, 5.0, 7.0, 6.0, 7.0, 7.0, 0.0, 0.0, 6.0, 6.0, 6.0, 6.0, 0.0, 7.0, 7.0, 6.0, 7.0, 7.0, 8.0, 7.0, 7.0, 6.0, 0.0, 0.0, 6.0, 7.0, 7.0, 6.0, 0.0, 7.0, 0.0, 6.0, 6.0, 6.0, 6.0, 6.0, 7.0, 8.0, 7.0, 7.0, 8.0, 7.0, 8.0, 0.0, 0.0, 9.0, 8.0, 8.0, 8.0, 7.0, 0.0, 8.0, 9.0, 8.0, 9.0, 9.0, 0.0, 0.0, 8.0, 0.0, 6.0, 7.0, 7.0, 7.0, 8.0, 8.0, 8.0, 8.0, 8.0, 8.0, 9.0, 8.0, 0.0, 0.0, 6.0, 5.0, 5.0, 6.0, 6.0, 6.0, 6.0, 6.0, 0.0, 6.0, 5.0, 6.0, 5.0, 6.0, 6.0, 5.0, 6.0, 6.0, 6.0, 0.0, 6.0, 6.0, 6.0, 6.0, 0.0, 0.0, 6.0, 6.0, 6.0, 6.0, 6.0, 5.0, 5.0, 6.0, 6.0, 6.0, 5.0, 6.0, 6.0, 5.0, 5.0, 6.0, 6.0, 6.0, 6.0, 6.0, 0.0, 5.0, 0.0, 0.0, 6.0, 6.0, 6.0, 5.0, 5.0, 6.0, 6.0, 5.0, 5.0, 6.0, 6.0, 0.0, 8.0, 7.0, 5.0, 8.0, 8.0, 0.0, 0.0, 0.0, 0.0, 7.0, 7.0, 8.0, 0.0, 0.0, 6.0, 0.0, 0.0, 6.0, 6.0, 7.0, 0.0, 0.0, 6.0, 0.0, 6.0, 7.0, 7.0, 8.0, 7.0, 6.0, 6.0, 6.0, 6.0, 6.0, 6.0, 6.0, 6.0, 7.0, 0.0, 6.0, 6.0, 0.0, 6.0, 6.0, 6.0, 0.0, 6.0, 6.0, 6.0, 7.0, 6.0, 6.0, 7.0, 7.0, 0.0, 0.0, 6.0, 7.0, 7.0, 7.0, 6.0, 6.0, 6.0, 6.0, 6.0, 6.0, 6.0, 6.0, 6.0, 6.0, 5.0, 5.0, 6.0, 6.0, 8.0, 7.0, 0.0, 0.0, 0.0, 0.0, 0.0, 6.0, 6.0, 6.0, 5.0, 6.0, 6.0, 6.0, 7.0, 6.0, 8.0, 0.0, 0.0, 8.0, 0.0, 8.0, 8.0, 0.0, 0.0, 0.0, 0.0, 0.0, 7.0, 9.0, 0.0, 0.0, 9.0, 0.0, 0.0, 6.0, 7.0, 8.0, 7.0, 0.0, 7.0, 7.0, 7.0, 7.0, 8.0, 9.0, 8.0, 6.0, 6.0, 5.0, 5.0, 6.0, 6.0, 6.0, 6.0, 7.0, 0.0, 6.0, 6.0, 6.0, 6.0, 6.0, 6.0, 6.0, 6.0, 0.0, 6.0, 5.0, 6.0, 6.0, 6.0, 7.0, 0.0, 0.0, 6.0, 7.0, 7.0, 7.0, 6.0, 6.0, 6.0, 6.0, 6.0, 6.0, 6.0, 6.0, 6.0, 7.0, 5.0, 5.0, 6.0, 6.0, 7.0, 7.0, 0.0, 0.0, 0.0, 0.0, 6.0, 6.0, 6.0, 6.0, 5.0, 6.0, 0.0, 7.0, 7.0, 6.0, 8.0, 9.0, 8.0, 8.0, 0.0, 8.0, 8.0, 0.0, 0.0, 0.0, 0.0, 0.0, 7.0, 9.0, 0.0, 0.0, 9.0, 0.0, 0.0, 6.0, 7.0, 8.0, 9.0, 0.0, 7.0, 8.0, 7.0, 8.0, 9.0, 9.0, 8.0, 0.0, 0.0, 5.0, 6.0, 6.0, 7.0, 7.0, 7.0, 6.0, 0.0, 6.0, 6.0, 6.0, 6.0, 0.0, 6.0, 0.0, 5.0, 0.0, 6.0, 0.0, 6.0, 6.0, 6.0, 7.0, 8.0, 0.0, 6.0, 6.0, 7.0, 7.0, 0.0, 6.0, 6.0, 6.0, 6.0, 6.0, 6.0, 6.0, 6.0, 6.0, 6.0, 0.0, 6.0, 6.0, 6.0, 6.0, 0.0, 0.0, 0.0, 0.0, 6.0, 6.0, 6.0, 6.0, 6.0, 7.0, 6.0, 6.0, 7.0, 7.0, 8.0, 7.0, 9.0, 7.0, 6.0, 7.0, 7.0, 0.0, 0.0, 0.0, 8.0, 0.0, 7.0, 8.0, 0.0, 0.0, 9.0, 0.0, 0.0, 0.0, 6.0, 6.0, 0.0, 0.0, 7.0, 0.0, 6.0, 7.0, 7.0, 9.0, 9.0, 0.0, 5.0, 6.0, 6.0, 7.0, 7.0, 7.0, 7.0, 7.0, 0.0, 6.0, 6.0, 6.0, 6.0, 6.0, 6.0, 6.0, 5.0, 6.0, 6.0, 0.0, 6.0, 6.0, 7.0, 7.0, 0.0, 0.0, 7.0, 7.0, 7.0, 7.0, 0.0, 5.0, 6.0, 6.0, 6.0, 6.0, 6.0, 6.0, 6.0, 6.0, 7.0, 0.0, 6.0, 6.0, 8.0, 7.0, 0.0, 6.0, 0.0, 0.0, 6.0, 6.0, 6.0, 6.0, 6.0, 6.0, 6.0, 6.0, 7.0, 7.0, 8.0, 8.0, 8.0, 8.0, 6.0, 8.0, 9.0, 0.0, 0.0, 7.0, 7.0, 0.0, 7.0, 8.0, 0.0, 0.0, 9.0, 0.0, 0.0, 6.0, 7.0, 7.0, 7.0, 0.0, 7.0, 0.0, 8.0, 7.0, 8.0, 10.0, 9.0, 5.0, 5.0, 5.0, 6.0, 7.0, 7.0, 6.0, 6.0, 6.0, 0.0, 6.0, 6.0, 6.0, 6.0, 0.0, 0.0, 0.0, 6.0, 0.0, 6.0, 6.0, 5.0, 5.0, 6.0, 7.0, 0.0, 0.0, 5.0, 6.0, 6.0, 6.0, 0.0, 7.0, 6.0, 6.0, 7.0, 7.0, 7.0, 5.0, 5.0, 6.0, 0.0, 0.0, 0.0, 7.0, 6.0, 5.0, 0.0, 5.0, 0.0, 0.0, 6.0, 6.0, 6.0, 6.0, 6.0, 0.0, 6.0, 6.0, 7.0, 7.0, 9.0, 7.0, 6.0, 6.0, 0.0, 5.0, 6.0, 0.0, 0.0, 6.0, 7.0, 0.0, 7.0, 8.0, 0.0, 6.0, 8.0, 0.0, 0.0, 5.0, 5.0, 0.0, 6.0, 0.0, 7.0, 7.0, 6.0, 0.0, 7.0, 7.0, 7.0, 0.0, 0.0, 0.0, 0.0, 5.0, 6.0, 6.0, 6.0, 6.0, 0.0, 6.0, 6.0, 6.0, 6.0, 0.0, 0.0, 0.0, 5.0, 0.0, 6.0, 0.0, 6.0, 5.0, 5.0, 6.0, 0.0, 0.0, 5.0, 5.0, 6.0, 6.0, 0.0, 5.0, 6.0, 6.0, 6.0, 6.0, 6.0, 6.0, 5.0, 5.0, 5.0, 0.0, 6.0, 6.0, 5.0, 5.0, 0.0, 0.0, 0.0, 0.0, 6.0, 6.0, 6.0, 6.0, 7.0, 0.0, 0.0, 5.0, 7.0, 8.0, 8.0, 8.0, 0.0, 7.0, 0.0, 6.0, 7.0, 0.0, 0.0, 0.0, 6.0, 0.0, 7.0, 7.0, 0.0, 0.0, 9.0, 0.0, 0.0, 6.0, 6.0, 0.0, 0.0, 0.0, 7.0, 0.0, 6.0, 7.0, 0.0, 7.0, 8.0, 5.0, 0.0, 6.0, 6.0, 6.0, 6.0, 6.0, 6.0, 7.0, 0.0, 6.0, 6.0, 6.0, 6.0, 5.0, 6.0, 0.0, 5.0, 6.0, 6.0, 6.0, 6.0, 6.0, 7.0, 7.0, 0.0, 0.0, 6.0, 5.0, 7.0, 7.0, 6.0, 6.0, 6.0, 6.0, 6.0, 6.0, 6.0, 6.0, 6.0, 6.0, 6.0, 5.0, 6.0, 6.0, 6.0, 7.0, 0.0, 0.0, 0.0, 0.0, 6.0, 6.0, 6.0, 6.0, 6.0, 6.0, 6.0, 6.0, 7.0, 7.0, 8.0, 8.0, 0.0, 7.0, 0.0, 6.0, 7.0, 0.0, 0.0, 0.0, 6.0, 0.0, 7.0, 0.0, 0.0, 0.0, 9.0, 0.0, 0.0, 6.0, 7.0, 7.0, 8.0, 0.0, 6.0, 7.0, 6.0, 7.0, 8.0, 8.0, 8.0, 6.0, 5.0, 6.0, 5.0, 6.0, 7.0, 6.0, 6.0, 0.0, 0.0, 6.0, 7.0, 6.0, 6.0, 6.0, 7.0, 6.0, 6.0, 6.0, 6.0, 6.0, 6.0, 6.0, 7.0, 7.0, 0.0, 0.0, 7.0, 5.0, 6.0, 7.0, 6.0, 7.0, 6.0, 6.0, 6.0, 7.0, 6.0, 6.0, 6.0, 6.0, 7.0, 0.0, 6.0, 7.0, 7.0, 7.0, 0.0, 5.0, 0.0, 5.0, 6.0, 6.0, 6.0, 6.0, 6.0, 6.0, 6.0, 6.0, 8.0, 7.0, 9.0, 9.0, 0.0, 7.0, 0.0, 7.0, 7.0, 0.0, 0.0, 0.0, 7.0, 6.0, 6.0, 9.0, 0.0, 8.0, 9.0, 0.0, 0.0, 5.0, 7.0, 7.0, 7.0, 0.0, 7.0, 8.0, 7.0, 8.0, 8.0, 8.0, 9.0, 5.0, 5.0, 5.0, 5.0, 6.0, 7.0, 6.0, 6.0, 0.0, 0.0, 6.0, 6.0, 6.0, 6.0, 6.0, 6.0, 6.0, 6.0, 6.0, 6.0, 5.0, 6.0, 6.0, 7.0, 7.0, 0.0, 0.0, 6.0, 7.0, 7.0, 7.0, 6.0, 6.0, 6.0, 6.0, 6.0, 6.0, 6.0, 6.0, 6.0, 6.0, 6.0, 0.0, 6.0, 6.0, 7.0, 7.0, 0.0, 6.0, 0.0, 5.0, 6.0, 0.0, 6.0, 6.0, 7.0, 6.0, 0.0, 6.0, 8.0, 6.0, 8.0, 9.0, 0.0, 7.0, 0.0, 7.0, 8.0, 0.0, 0.0, 0.0, 0.0, 6.0, 7.0, 9.0, 0.0, 0.0, 9.0, 0.0, 0.0, 7.0, 7.0, 7.0, 8.0, 0.0, 7.0, 8.0, 7.0, 8.0, 8.0, 9.0, 9.0, 6.0, 6.0, 6.0, 0.0, 6.0, 6.0, 6.0, 6.0, 0.0, 0.0, 7.0, 5.0, 7.0, 5.0, 6.0, 5.0, 5.0, 5.0, 5.0, 5.0, 5.0, 6.0, 5.0, 6.0, 6.0, 0.0, 0.0, 6.0, 6.0, 7.0, 7.0, 7.0, 6.0, 6.0, 6.0, 7.0, 6.0, 5.0, 6.0, 6.0, 6.0, 6.0, 0.0, 6.0, 6.0, 7.0, 7.0, 0.0, 0.0, 0.0, 0.0, 6.0, 6.0, 6.0, 5.0, 5.0, 7.0, 6.0, 5.0, 7.0, 6.0, 7.0, 8.0, 0.0, 7.0, 0.0, 8.0, 8.0, 0.0, 0.0, 0.0, 0.0, 6.0, 7.0, 9.0, 0.0, 0.0, 0.0, 0.0, 0.0, 7.0, 7.0, 8.0, 7.0, 0.0, 7.0, 7.0, 7.0, 6.0, 8.0, 9.0, 0.0, 6.0, 6.0, 6.0, 5.0, 6.0, 6.0, 6.0, 6.0, 0.0, 0.0, 6.0, 6.0, 6.0, 6.0, 5.0, 6.0, 6.0, 6.0, 6.0, 6.0, 6.0, 6.0, 5.0, 6.0, 6.0, 0.0, 0.0, 6.0, 7.0, 7.0, 7.0, 6.0, 7.0, 7.0, 6.0, 6.0, 7.0, 6.0, 6.0, 6.0, 5.0, 6.0, 0.0, 6.0, 7.0, 7.0, 8.0, 0.0, 0.0, 0.0, 0.0, 6.0, 6.0, 6.0, 6.0, 5.0, 6.0, 6.0, 5.0, 8.0, 6.0, 8.0, 9.0, 0.0, 7.0, 0.0, 7.0, 8.0, 0.0, 0.0, 0.0, 0.0, 0.0, 6.0, 9.0, 0.0, 7.0, 8.0, 0.0, 0.0, 7.0, 7.0, 8.0, 8.0, 0.0, 8.0, 7.0, 7.0, 7.0, 9.0, 0.0, 0.0, 5.0, 6.0, 6.0, 0.0, 6.0, 7.0, 6.0, 6.0, 0.0, 0.0, 6.0, 7.0, 6.0, 6.0, 6.0, 6.0, 5.0, 7.0, 6.0, 6.0, 7.0, 6.0, 6.0, 6.0, 7.0, 0.0, 0.0, 6.0, 7.0, 7.0, 7.0, 6.0, 7.0, 6.0, 6.0, 6.0, 6.0, 6.0, 6.0, 6.0, 7.0, 7.0, 0.0, 6.0, 7.0, 7.0, 7.0, 0.0, 0.0, 0.0, 5.0, 6.0, 6.0, 6.0, 6.0, 7.0, 6.0, 6.0, 6.0, 8.0, 6.0, 8.0, 9.0, 0.0, 7.0, 0.0, 9.0, 8.0, 0.0, 0.0, 6.0, 7.0, 0.0, 7.0, 9.0, 0.0, 7.0, 9.0, 0.0, 0.0, 7.0, 7.0, 8.0, 8.0, 0.0, 7.0, 8.0, 0.0, 7.0, 8.0, 9.0, 9.0, 6.0, 6.0, 5.0, 6.0, 6.0, 7.0, 7.0, 7.0, 0.0, 0.0, 6.0, 6.0, 6.0, 6.0, 6.0, 6.0, 5.0, 6.0, 6.0, 6.0, 7.0, 6.0, 6.0, 6.0, 7.0, 0.0, 0.0, 6.0, 7.0, 7.0, 6.0, 6.0, 6.0, 6.0, 6.0, 6.0, 6.0, 6.0, 6.0, 6.0, 6.0, 7.0, 0.0, 6.0, 6.0, 6.0, 7.0, 0.0, 0.0, 0.0, 5.0, 6.0, 6.0, 6.0, 6.0, 7.0, 6.0, 6.0, 6.0, 7.0, 8.0, 8.0, 8.0, 0.0, 7.0, 0.0, 8.0, 8.0, 0.0, 0.0, 0.0, 0.0, 6.0, 7.0, 9.0, 0.0, 0.0, 9.0, 0.0, 0.0, 6.0, 7.0, 7.0, 8.0, 0.0, 8.0, 8.0, 8.0, 8.0, 9.0, 10.0, 9.0, 5.0, 5.0, 5.0, 5.0, 5.0, 6.0, 6.0, 6.0, 0.0, 0.0, 5.0, 5.0, 5.0, 6.0, 6.0, 5.0, 5.0, 5.0, 5.0, 6.0, 6.0, 5.0, 5.0, 6.0, 5.0, 0.0, 0.0, 6.0, 6.0, 5.0, 5.0, 5.0, 5.0, 5.0, 5.0, 6.0, 5.0, 5.0, 5.0, 5.0, 5.0, 6.0, 0.0, 5.0, 6.0, 7.0, 7.0, 0.0, 0.0, 0.0, 5.0, 6.0, 6.0, 6.0, 6.0, 7.0, 5.0, 5.0, 5.0, 7.0, 7.0, 8.0, 0.0, 0.0, 6.0, 0.0, 7.0, 8.0, 0.0, 0.0, 6.0, 7.0, 6.0, 7.0, 8.0, 0.0, 6.0, 7.0, 0.0, 0.0, 6.0, 7.0, 7.0, 7.0, 0.0, 6.0, 7.0, 7.0, 7.0, 7.0, 9.0, 8.0, 6.0, 5.0, 6.0, 5.0, 5.0, 6.0, 0.0, 6.0, 0.0, 0.0, 6.0, 6.0, 5.0, 6.0, 0.0, 7.0, 5.0, 6.0, 6.0, 6.0, 5.0, 5.0, 5.0, 6.0, 6.0, 0.0, 0.0, 6.0, 6.0, 6.0, 6.0, 0.0, 7.0, 7.0, 5.0, 6.0, 7.0, 6.0, 6.0, 5.0, 5.0, 6.0, 6.0, 5.0, 7.0, 7.0, 6.0, 0.0, 5.0, 0.0, 0.0, 5.0, 6.0, 5.0, 6.0, 7.0, 6.0, 6.0, 5.0, 7.0, 6.0, 8.0, 8.0, 0.0, 8.0, 7.0, 7.0, 8.0, 0.0, 0.0, 0.0, 7.0, 6.0, 6.0, 8.0, 0.0, 8.0, 9.0, 0.0, 0.0, 7.0, 7.0, 7.0, 8.0, 0.0, 7.0, 8.0, 7.0, 7.0, 8.0, 8.0, 8.0, 6.0, 5.0, 6.0, 0.0, 5.0, 7.0, 0.0, 6.0, 0.0, 0.0, 6.0, 6.0, 5.0, 6.0, 6.0, 6.0, 5.0, 6.0, 6.0, 6.0, 7.0, 5.0, 5.0, 6.0, 8.0, 0.0, 0.0, 6.0, 6.0, 6.0, 7.0, 0.0, 6.0, 6.0, 6.0, 6.0, 6.0, 6.0, 6.0, 6.0, 6.0, 6.0, 0.0, 5.0, 7.0, 6.0, 7.0, 0.0, 0.0, 0.0, 0.0, 6.0, 6.0, 6.0, 6.0, 7.0, 6.0, 6.0, 6.0, 7.0, 8.0, 8.0, 8.0, 0.0, 7.0, 0.0, 7.0, 9.0, 0.0, 0.0, 0.0, 7.0, 6.0, 7.0, 9.0, 0.0, 6.0, 8.0, 0.0, 0.0, 6.0, 8.0, 7.0, 7.0, 0.0, 6.0, 7.0, 0.0, 7.0, 7.0, 9.0, 0.0, 0.0, 5.0, 5.0, 5.0, 6.0, 6.0, 0.0, 5.0, 0.0, 0.0, 6.0, 6.0, 5.0, 6.0, 0.0, 6.0, 5.0, 6.0, 6.0, 6.0, 6.0, 7.0, 6.0, 6.0, 6.0, 0.0, 0.0, 5.0, 5.0, 7.0, 6.0, 6.0, 6.0, 6.0, 6.0, 6.0, 6.0, 6.0, 6.0, 6.0, 5.0, 0.0, 0.0, 5.0, 6.0, 6.0, 7.0, 0.0, 0.0, 0.0, 5.0, 6.0, 6.0, 6.0, 6.0, 7.0, 6.0, 6.0, 6.0, 7.0, 6.0, 8.0, 0.0, 0.0, 8.0, 7.0, 9.0, 8.0, 0.0, 0.0, 0.0, 6.0, 6.0, 6.0, 8.0, 0.0, 8.0, 8.0, 0.0, 0.0, 7.0, 7.0, 7.0, 7.0, 0.0, 8.0, 7.0, 7.0, 7.0, 8.0, 8.0, 8.0, 5.0, 5.0, 5.0, 5.0, 5.0, 6.0, 0.0, 6.0, 0.0, 0.0, 5.0, 6.0, 5.0, 6.0, 6.0, 6.0, 5.0, 7.0, 6.0, 6.0, 7.0, 6.0, 6.0, 6.0, 5.0, 0.0, 0.0, 5.0, 6.0, 6.0, 6.0, 0.0, 6.0, 6.0, 5.0, 6.0, 6.0, 6.0, 6.0, 6.0, 5.0, 5.0, 5.0, 5.0, 7.0, 7.0, 6.0, 0.0, 0.0, 0.0, 0.0, 6.0, 6.0, 6.0, 6.0, 7.0, 6.0, 5.0, 5.0, 6.0, 6.0, 8.0, 0.0, 0.0, 7.0, 6.0, 7.0, 7.0, 0.0, 0.0, 0.0, 6.0, 6.0, 6.0, 8.0, 0.0, 7.0, 8.0, 0.0, 0.0, 6.0, 7.0, 7.0, 7.0, 0.0, 6.0, 7.0, 7.0, 6.0, 7.0, 8.0, 7.0, 6.0, 6.0, 5.0, 5.0, 6.0, 7.0, 0.0, 5.0, 0.0, 0.0, 6.0, 7.0, 6.0, 6.0, 6.0, 6.0, 5.0, 7.0, 6.0, 6.0, 7.0, 6.0, 5.0, 6.0, 7.0, 0.0, 0.0, 6.0, 6.0, 6.0, 6.0, 0.0, 6.0, 6.0, 6.0, 6.0, 6.0, 6.0, 6.0, 6.0, 5.0, 0.0, 0.0, 5.0, 7.0, 7.0, 7.0, 0.0, 0.0, 0.0, 0.0, 6.0, 6.0, 6.0, 6.0, 7.0, 6.0, 6.0, 5.0, 8.0, 8.0, 8.0, 0.0, 0.0, 7.0, 7.0, 7.0, 9.0, 0.0, 0.0, 0.0, 8.0, 6.0, 8.0, 8.0, 0.0, 7.0, 8.0, 0.0, 0.0, 7.0, 7.0, 8.0, 8.0, 0.0, 6.0, 7.0, 0.0, 7.0, 7.0, 9.0, 0.0, 5.0, 5.0, 5.0, 5.0, 5.0, 6.0, 0.0, 6.0, 0.0, 0.0, 5.0, 5.0, 5.0, 5.0, 5.0, 6.0, 5.0, 5.0, 5.0, 6.0, 6.0, 5.0, 5.0, 6.0, 7.0, 0.0, 0.0, 6.0, 6.0, 5.0, 5.0, 5.0, 5.0, 5.0, 5.0, 6.0, 5.0, 5.0, 6.0, 5.0, 5.0, 0.0, 0.0, 5.0, 6.0, 6.0, 7.0, 0.0, 5.0, 0.0, 5.0, 6.0, 6.0, 6.0, 6.0, 6.0, 5.0, 6.0, 5.0, 7.0, 7.0, 8.0, 0.0, 0.0, 6.0, 6.0, 7.0, 8.0, 0.0, 0.0, 0.0, 6.0, 6.0, 6.0, 8.0, 0.0, 7.0, 7.0, 0.0, 0.0, 7.0, 7.0, 7.0, 7.0, 0.0, 6.0, 7.0, 7.0, 6.0, 7.0, 8.0, 0.0, 5.0, 6.0, 5.0, 6.0, 6.0, 6.0, 0.0, 5.0, 0.0, 0.0, 6.0, 6.0, 6.0, 6.0, 6.0, 6.0, 6.0, 6.0, 6.0, 6.0, 7.0, 6.0, 7.0, 6.0, 5.0, 0.0, 0.0, 5.0, 5.0, 5.0, 5.0, 0.0, 6.0, 6.0, 6.0, 6.0, 6.0, 7.0, 7.0, 6.0, 6.0, 0.0, 0.0, 6.0, 7.0, 7.0, 5.0, 0.0, 6.0, 0.0, 6.0, 6.0, 6.0, 6.0, 6.0, 7.0, 7.0, 7.0, 7.0, 7.0, 7.0, 8.0, 0.0, 0.0, 8.0, 7.0, 7.0, 8.0, 7.0, 0.0, 7.0, 9.0, 8.0, 8.0, 8.0, 0.0, 0.0, 7.0, 0.0, 0.0, 6.0, 6.0, 6.0, 7.0, 7.0, 8.0, 7.0, 9.0, 8.0, 9.0, 10.0, 0.0, 0.0, 5.0, 5.0, 0.0, 5.0, 7.0, 0.0, 6.0, 0.0, 0.0, 6.0, 6.0, 5.0, 6.0, 6.0, 6.0, 5.0, 6.0, 6.0, 6.0, 5.0, 7.0, 6.0, 6.0, 6.0, 0.0, 0.0, 6.0, 5.0, 6.0, 6.0, 6.0, 6.0, 6.0, 6.0, 6.0, 6.0, 6.0, 6.0, 6.0, 6.0, 0.0, 0.0, 6.0, 6.0, 6.0, 6.0, 0.0, 5.0, 0.0, 5.0, 6.0, 6.0, 6.0, 6.0, 5.0, 6.0, 6.0, 6.0, 7.0, 6.0, 8.0, 0.0, 0.0, 7.0, 7.0, 8.0, 8.0, 0.0, 0.0, 0.0, 7.0, 6.0, 6.0, 8.0, 0.0, 7.0, 8.0, 0.0, 0.0, 6.0, 6.0, 7.0, 7.0, 0.0, 8.0, 7.0, 7.0, 7.0, 8.0, 8.0, 0.0, 6.0, 6.0, 5.0, 6.0, 6.0, 7.0, 0.0, 6.0, 0.0, 0.0, 6.0, 6.0, 6.0, 6.0, 6.0, 6.0, 6.0, 6.0, 7.0, 6.0, 7.0, 6.0, 7.0, 6.0, 8.0, 0.0, 0.0, 5.0, 5.0, 5.0, 6.0, 0.0, 6.0, 6.0, 7.0, 6.0, 7.0, 7.0, 7.0, 6.0, 0.0, 0.0, 0.0, 6.0, 8.0, 8.0, 7.0, 0.0, 6.0, 0.0, 6.0, 6.0, 6.0, 6.0, 6.0, 6.0, 7.0, 7.0, 7.0, 7.0, 7.0, 8.0, 0.0, 0.0, 8.0, 8.0, 7.0, 8.0, 8.0, 0.0, 7.0, 9.0, 8.0, 8.0, 9.0, 0.0, 0.0, 9.0, 0.0, 0.0, 6.0, 7.0, 7.0, 8.0, 9.0, 9.0, 9.0, 8.0, 9.0, 9.0, 9.0, 0.0, 5.0, 6.0, 5.0, 6.0, 6.0, 5.0, 0.0, 5.0, 0.0, 0.0, 6.0, 6.0, 6.0, 6.0, 6.0, 6.0, 6.0, 6.0, 6.0, 6.0, 6.0, 6.0, 6.0, 6.0, 5.0, 0.0, 0.0, 5.0, 5.0, 5.0, 6.0, 0.0, 6.0, 6.0, 6.0, 6.0, 6.0, 7.0, 7.0, 6.0, 6.0, 0.0, 0.0, 0.0, 7.0, 7.0, 6.0, 0.0, 6.0, 0.0, 6.0, 6.0, 6.0, 6.0, 6.0, 6.0, 7.0, 6.0, 7.0, 7.0, 7.0, 8.0, 0.0, 0.0, 8.0, 7.0, 7.0, 8.0, 7.0, 0.0, 7.0, 9.0, 8.0, 8.0, 8.0, 0.0, 0.0, 7.0, 0.0, 0.0, 6.0, 6.0, 6.0, 7.0, 7.0, 8.0, 7.0, 7.0, 8.0, 9.0, 10.0, 0.0, 5.0, 5.0, 5.0, 6.0, 6.0, 6.0, 0.0, 5.0, 0.0, 0.0, 6.0, 5.0, 6.0, 6.0, 6.0, 6.0, 5.0, 5.0, 5.0, 6.0, 5.0, 6.0, 6.0, 5.0, 0.0, 0.0, 0.0, 6.0, 5.0, 5.0, 5.0, 0.0, 6.0, 6.0, 6.0, 6.0, 6.0, 6.0, 6.0, 6.0, 5.0, 0.0, 0.0, 5.0, 7.0, 6.0, 5.0, 0.0, 6.0, 0.0, 5.0, 6.0, 6.0, 6.0, 6.0, 6.0, 7.0, 7.0, 7.0, 7.0, 6.0, 7.0, 0.0, 0.0, 8.0, 0.0, 7.0, 6.0, 0.0, 0.0, 6.0, 8.0, 7.0, 7.0, 7.0, 0.0, 0.0, 7.0, 0.0, 6.0, 7.0, 6.0, 7.0, 7.0, 0.0, 7.0, 7.0, 8.0, 7.0, 8.0, 8.0, 0.0, 0.0, 6.0, 5.0, 6.0, 6.0, 6.0, 0.0, 5.0, 0.0, 0.0, 6.0, 5.0, 6.0, 6.0, 6.0, 6.0, 5.0, 6.0, 6.0, 6.0, 5.0, 7.0, 6.0, 5.0, 5.0, 0.0, 0.0, 6.0, 5.0, 5.0, 5.0, 0.0, 6.0, 6.0, 6.0, 6.0, 6.0, 6.0, 6.0, 6.0, 7.0, 0.0, 0.0, 5.0, 6.0, 6.0, 5.0, 0.0, 5.0, 0.0, 0.0, 6.0, 6.0, 6.0, 6.0, 6.0, 7.0, 6.0, 6.0, 7.0, 6.0, 8.0, 0.0, 0.0, 7.0, 6.0, 7.0, 8.0, 0.0, 0.0, 0.0, 7.0, 6.0, 7.0, 8.0, 0.0, 0.0, 7.0, 0.0, 6.0, 6.0, 6.0, 7.0, 7.0, 0.0, 7.0, 7.0, 7.0, 7.0, 7.0, 8.0, 0.0, 6.0, 6.0, 5.0, 6.0, 6.0, 5.0, 0.0, 5.0, 0.0, 0.0, 6.0, 5.0, 6.0, 6.0, 6.0, 6.0, 5.0, 5.0, 6.0, 6.0, 6.0, 7.0, 6.0, 5.0, 5.0, 0.0, 0.0, 6.0, 6.0, 6.0, 6.0, 0.0, 6.0, 6.0, 6.0, 6.0, 6.0, 6.0, 6.0, 6.0, 5.0, 0.0, 0.0, 5.0, 7.0, 7.0, 5.0, 0.0, 5.0, 0.0, 0.0, 6.0, 6.0, 6.0, 6.0, 6.0, 6.0, 6.0, 6.0, 7.0, 6.0, 8.0, 0.0, 0.0, 7.0, 6.0, 7.0, 7.0, 0.0, 0.0, 6.0, 7.0, 6.0, 7.0, 6.0, 0.0, 0.0, 7.0, 0.0, 6.0, 6.0, 6.0, 7.0, 7.0, 0.0, 7.0, 8.0, 7.0, 7.0, 7.0, 8.0, 0.0, 0.0, 5.0, 5.0, 5.0, 6.0, 6.0, 0.0, 5.0, 0.0, 0.0, 5.0, 6.0, 5.0, 6.0, 5.0, 6.0, 5.0, 5.0, 5.0, 6.0, 6.0, 5.0, 5.0, 6.0, 5.0, 0.0, 0.0, 6.0, 6.0, 5.0, 5.0, 0.0, 5.0, 6.0, 5.0, 6.0, 6.0, 5.0, 6.0, 6.0, 5.0, 0.0, 0.0, 5.0, 5.0, 5.0, 5.0, 0.0, 5.0, 0.0, 5.0, 6.0, 6.0, 6.0, 6.0, 6.0, 6.0, 5.0, 5.0, 7.0, 6.0, 8.0, 0.0, 0.0, 7.0, 6.0, 7.0, 8.0, 0.0, 0.0, 0.0, 6.0, 6.0, 7.0, 0.0, 0.0, 0.0, 7.0, 0.0, 6.0, 6.0, 6.0, 7.0, 7.0, 0.0, 6.0, 7.0, 7.0, 7.0, 7.0, 0.0, 0.0, 5.0, 6.0, 6.0, 6.0, 6.0, 6.0, 0.0, 6.0, 0.0, 0.0, 6.0, 6.0, 6.0, 6.0, 6.0, 6.0, 5.0, 6.0, 6.0, 6.0, 5.0, 6.0, 6.0, 6.0, 5.0, 0.0, 5.0, 7.0, 6.0, 6.0, 6.0, 0.0, 6.0, 6.0, 6.0, 6.0, 7.0, 6.0, 6.0, 6.0, 6.0, 0.0, 0.0, 5.0, 7.0, 7.0, 5.0, 0.0, 5.0, 0.0, 5.0, 6.0, 6.0, 6.0, 6.0, 5.0, 6.0, 6.0, 6.0, 6.0, 6.0, 7.0, 0.0, 0.0, 7.0, 6.0, 8.0, 7.0, 6.0, 0.0, 6.0, 7.0, 6.0, 6.0, 7.0, 0.0, 0.0, 7.0, 0.0, 6.0, 6.0, 6.0, 6.0, 7.0, 8.0, 8.0, 8.0, 7.0, 7.0, 8.0, 8.0, 0.0, 5.0, 6.0, 6.0, 6.0, 6.0, 7.0, 0.0, 6.0, 0.0, 0.0, 6.0, 6.0, 7.0, 6.0, 6.0, 6.0, 6.0, 6.0, 6.0, 6.0, 7.0, 6.0, 6.0, 7.0, 6.0, 0.0, 0.0, 5.0, 6.0, 6.0, 6.0, 0.0, 6.0, 6.0, 6.0, 6.0, 6.0, 7.0, 7.0, 6.0, 0.0, 0.0, 0.0, 6.0, 6.0, 7.0, 6.0, 0.0, 6.0, 0.0, 6.0, 6.0, 6.0, 6.0, 6.0, 7.0, 7.0, 6.0, 7.0, 7.0, 6.0, 8.0, 0.0, 0.0, 9.0, 8.0, 7.0, 7.0, 0.0, 0.0, 7.0, 8.0, 8.0, 8.0, 8.0, 0.0, 0.0, 9.0, 0.0, 6.0, 7.0, 7.0, 8.0, 8.0, 8.0, 8.0, 9.0, 10.0, 8.0, 10.0, 9.0, 0.0, 5.0, 6.0, 6.0, 6.0, 6.0, 7.0, 0.0, 6.0, 0.0, 0.0, 6.0, 7.0, 6.0, 6.0, 6.0, 6.0, 6.0, 7.0, 6.0, 6.0, 7.0, 7.0, 6.0, 7.0, 6.0, 0.0, 0.0, 6.0, 6.0, 6.0, 7.0, 6.0, 6.0, 6.0, 6.0, 6.0, 6.0, 7.0, 6.0, 6.0, 6.0, 0.0, 0.0, 6.0, 6.0, 7.0, 6.0, 0.0, 6.0, 0.0, 0.0, 6.0, 6.0, 6.0, 6.0, 6.0, 7.0, 6.0, 8.0, 0.0, 0.0, 8.0, 7.0, 9.0, 8.0, 0.0, 0.0, 6.0, 8.0, 8.0, 7.0, 9.0, 0.0, 0.0, 9.0, 0.0, 0.0, 6.0, 8.0, 8.0, 8.0, 7.0, 8.0, 8.0, 8.0, 7.0, 8.0, 8.0, 9.0, 0.0, 6.0, 6.0, 6.0, 6.0, 7.0, 0.0, 6.0, 0.0, 0.0, 6.0, 7.0, 6.0, 6.0, 6.0, 6.0, 6.0, 7.0, 6.0, 6.0, 8.0, 6.0, 7.0, 7.0, 8.0, 0.0, 0.0, 7.0, 6.0, 6.0, 8.0, 0.0, 6.0, 7.0, 6.0, 6.0, 7.0, 7.0, 7.0, 6.0, 5.0, 0.0, 0.0, 6.0, 7.0, 8.0, 7.0, 0.0, 6.0, 0.0, 6.0, 6.0, 6.0, 6.0, 6.0, 7.0, 7.0, 7.0, 7.0, 7.0, 8.0, 8.0, 0.0, 0.0, 8.0, 7.0, 7.0, 8.0, 0.0, 0.0, 7.0, 9.0, 8.0, 8.0, 9.0, 0.0, 0.0, 8.0, 0.0, 0.0, 6.0, 7.0, 7.0, 7.0, 0.0, 9.0, 8.0, 10.0, 9.0, 10.0, 9.0, 0.0, 5.0, 5.0, 5.0, 5.0, 5.0, 5.0, 0.0, 5.0, 0.0, 0.0, 5.0, 5.0, 5.0, 6.0, 0.0, 5.0, 5.0, 5.0, 5.0, 6.0, 6.0, 5.0, 5.0, 5.0, 5.0, 0.0, 0.0, 6.0, 5.0, 5.0, 5.0, 0.0, 5.0, 5.0, 5.0, 6.0, 5.0, 5.0, 6.0, 6.0, 5.0, 0.0, 0.0, 5.0, 5.0, 6.0, 5.0, 0.0, 5.0, 0.0, 5.0, 6.0, 6.0, 6.0, 6.0, 6.0, 6.0, 6.0, 5.0, 7.0, 7.0, 8.0, 0.0, 0.0, 6.0, 6.0, 7.0, 7.0, 0.0, 0.0, 0.0, 6.0, 6.0, 6.0, 8.0, 0.0, 0.0, 6.0, 0.0, 6.0, 6.0, 6.0, 7.0, 7.0, 7.0, 6.0, 7.0, 7.0, 6.0, 7.0, 0.0, 0.0, 0.0, 0.0, 6.0, 6.0, 6.0, 7.0, 7.0, 6.0, 6.0, 0.0, 6.0, 6.0, 6.0, 6.0, 0.0, 5.0, 0.0, 5.0, 6.0, 6.0, 6.0, 5.0, 5.0, 5.0, 6.0, 0.0, 0.0, 6.0, 5.0, 6.0, 5.0, 5.0, 6.0, 6.0, 6.0, 6.0, 6.0, 6.0, 6.0, 5.0, 6.0, 5.0, 0.0, 6.0, 6.0, 6.0, 5.0, 0.0, 5.0, 0.0, 0.0, 6.0, 6.0, 6.0, 6.0, 6.0, 5.0, 5.0, 6.0, 7.0, 7.0, 7.0, 8.0, 0.0, 7.0, 0.0, 6.0, 6.0, 0.0, 0.0, 0.0, 7.0, 7.0, 7.0, 7.0, 0.0, 8.0, 8.0, 0.0, 0.0, 6.0, 5.0, 7.0, 7.0, 0.0, 7.0, 0.0, 6.0, 7.0, 0.0, 7.0, 7.0, 5.0, 0.0, 5.0, 6.0, 6.0, 6.0, 5.0, 5.0, 5.0, 0.0, 6.0, 6.0, 6.0, 6.0, 6.0, 6.0, 0.0, 6.0, 6.0, 6.0, 7.0, 7.0, 6.0, 6.0, 6.0, 0.0, 0.0, 5.0, 5.0, 5.0, 6.0, 6.0, 6.0, 6.0, 6.0, 6.0, 6.0, 6.0, 6.0, 6.0, 6.0, 6.0, 5.0, 6.0, 6.0, 7.0, 6.0, 0.0, 0.0, 0.0, 5.0, 6.0, 6.0, 6.0, 6.0, 6.0, 6.0, 6.0, 6.0, 7.0, 8.0, 9.0, 8.0, 0.0, 7.0, 0.0, 6.0, 7.0, 0.0, 0.0, 0.0, 8.0, 0.0, 7.0, 8.0, 0.0, 8.0, 8.0, 0.0, 0.0, 5.0, 6.0, 7.0, 7.0, 0.0, 7.0, 7.0, 8.0, 7.0, 7.0, 7.0, 8.0, 5.0, 6.0, 5.0, 6.0, 6.0, 6.0, 6.0, 5.0, 0.0, 0.0, 6.0, 6.0, 6.0, 6.0, 6.0, 6.0, 5.0, 6.0, 6.0, 6.0, 7.0, 7.0, 6.0, 6.0, 6.0, 0.0, 0.0, 6.0, 5.0, 5.0, 6.0, 6.0, 6.0, 6.0, 6.0, 6.0, 6.0, 6.0, 6.0, 6.0, 0.0, 6.0, 0.0, 6.0, 6.0, 7.0, 6.0, 0.0, 0.0, 0.0, 0.0, 6.0, 6.0, 6.0, 6.0, 7.0, 6.0, 6.0, 7.0, 7.0, 8.0, 8.0, 8.0, 0.0, 8.0, 0.0, 6.0, 7.0, 0.0, 0.0, 6.0, 8.0, 7.0, 7.0, 8.0, 0.0, 8.0, 9.0, 0.0, 0.0, 5.0, 6.0, 6.0, 7.0, 0.0, 7.0, 7.0, 8.0, 8.0, 7.0, 7.0, 8.0, 6.0, 0.0, 5.0, 5.0, 5.0, 6.0, 6.0, 5.0, 0.0, 0.0, 6.0, 6.0, 6.0, 6.0, 6.0, 6.0, 5.0, 5.0, 6.0, 6.0, 6.0, 5.0, 5.0, 5.0, 6.0, 0.0, 0.0, 6.0, 5.0, 6.0, 6.0, 5.0, 6.0, 6.0, 6.0, 5.0, 7.0, 6.0, 5.0, 5.0, 5.0, 6.0, 0.0, 5.0, 6.0, 6.0, 5.0, 0.0, 0.0, 0.0, 0.0, 6.0, 6.0, 6.0, 6.0, 7.0, 5.0, 5.0, 6.0, 7.0, 6.0, 8.0, 8.0, 0.0, 7.0, 0.0, 6.0, 5.0, 0.0, 0.0, 0.0, 7.0, 6.0, 7.0, 7.0, 0.0, 8.0, 9.0, 0.0, 0.0, 6.0, 6.0, 6.0, 8.0, 0.0, 8.0, 8.0, 7.0, 6.0, 7.0, 7.0, 7.0, 6.0, 5.0, 6.0, 6.0, 6.0, 6.0, 5.0, 5.0, 5.0, 0.0, 6.0, 6.0, 6.0, 6.0, 6.0, 6.0, 6.0, 6.0, 6.0, 6.0, 7.0, 5.0, 6.0, 5.0, 5.0, 0.0, 0.0, 5.0, 5.0, 5.0, 5.0, 0.0, 6.0, 7.0, 6.0, 6.0, 6.0, 7.0, 5.0, 6.0, 0.0, 5.0, 0.0, 6.0, 7.0, 7.0, 5.0, 0.0, 5.0, 0.0, 0.0, 6.0, 6.0, 6.0, 6.0, 7.0, 5.0, 0.0, 7.0, 7.0, 9.0, 9.0, 9.0, 7.0, 7.0, 0.0, 6.0, 5.0, 6.0, 0.0, 7.0, 9.0, 8.0, 8.0, 9.0, 0.0, 6.0, 0.0, 0.0, 0.0, 5.0, 5.0, 5.0, 6.0, 7.0, 7.0, 7.0, 7.0, 7.0, 7.0, 7.0, 7.0, 6.0, 6.0, 6.0, 6.0, 6.0, 7.0, 0.0, 6.0, 0.0, 0.0, 6.0, 7.0, 6.0, 6.0, 6.0, 7.0, 5.0, 7.0, 6.0, 6.0, 7.0, 6.0, 6.0, 6.0, 7.0, 0.0, 0.0, 6.0, 6.0, 6.0, 6.0, 6.0, 6.0, 6.0, 6.0, 6.0, 7.0, 6.0, 6.0, 6.0, 7.0, 7.0, 0.0, 6.0, 6.0, 7.0, 6.0, 0.0, 0.0, 0.0, 0.0, 6.0, 6.0, 6.0, 6.0, 7.0, 6.0, 6.0, 6.0, 8.0, 8.0, 8.0, 9.0, 0.0, 8.0, 0.0, 7.0, 7.0, 0.0, 0.0, 6.0, 7.0, 8.0, 7.0, 9.0, 0.0, 8.0, 9.0, 0.0, 0.0, 6.0, 7.0, 8.0, 8.0, 7.0, 8.0, 7.0, 7.0, 9.0, 8.0, 9.0, 9.0, 6.0, 6.0, 6.0, 6.0, 6.0, 7.0, 0.0, 6.0, 0.0, 0.0, 6.0, 7.0, 6.0, 6.0, 6.0, 6.0, 6.0, 7.0, 6.0, 6.0, 8.0, 7.0, 6.0, 7.0, 7.0, 0.0, 0.0, 6.0, 6.0, 6.0, 6.0, 7.0, 7.0, 7.0, 6.0, 6.0, 7.0, 7.0, 6.0, 7.0, 6.0, 6.0, 0.0, 6.0, 7.0, 8.0, 6.0, 0.0, 0.0, 0.0, 5.0, 6.0, 6.0, 6.0, 6.0, 7.0, 7.0, 7.0, 8.0, 8.0, 9.0, 9.0, 0.0, 0.0, 8.0, 0.0, 8.0, 7.0, 0.0, 0.0, 7.0, 9.0, 8.0, 8.0, 9.0, 0.0, 8.0, 9.0, 0.0, 0.0, 7.0, 7.0, 8.0, 8.0, 9.0, 7.0, 9.0, 9.0, 10.0, 10.0, 10.0, 9.0, 6.0, 6.0, 5.0, 6.0, 6.0, 7.0, 0.0, 6.0, 0.0, 0.0, 6.0, 6.0, 6.0, 6.0, 6.0, 6.0, 6.0, 6.0, 6.0, 6.0, 7.0, 5.0, 6.0, 5.0, 6.0, 0.0, 0.0, 5.0, 5.0, 5.0, 6.0, 6.0, 6.0, 6.0, 6.0, 6.0, 6.0, 7.0, 6.0, 5.0, 6.0, 6.0, 0.0, 6.0, 6.0, 7.0, 5.0, 0.0, 5.0, 0.0, 0.0, 6.0, 6.0, 6.0, 6.0, 7.0, 6.0, 5.0, 7.0, 7.0, 8.0, 8.0, 8.0, 0.0, 7.0, 0.0, 6.0, 6.0, 0.0, 0.0, 7.0, 9.0, 8.0, 8.0, 9.0, 0.0, 7.0, 0.0, 0.0, 0.0, 6.0, 6.0, 6.0, 8.0, 8.0, 7.0, 8.0, 8.0, 8.0, 8.0, 8.0, 8.0, 5.0, 6.0, 5.0, 6.0, 6.0, 6.0, 0.0, 5.0, 0.0, 0.0, 6.0, 6.0, 5.0, 6.0, 6.0, 6.0, 6.0, 6.0, 6.0, 6.0, 7.0, 6.0, 6.0, 5.0, 5.0, 0.0, 0.0, 5.0, 0.0, 5.0, 5.0, 5.0, 6.0, 6.0, 6.0, 6.0, 6.0, 7.0, 6.0, 6.0, 6.0, 0.0, 0.0, 0.0, 6.0, 7.0, 5.0, 0.0, 0.0, 0.0, 0.0, 6.0, 6.0, 6.0, 6.0, 7.0, 5.0, 5.0, 7.0, 7.0, 8.0, 8.0, 8.0, 0.0, 7.0, 0.0, 6.0, 6.0, 0.0, 0.0, 7.0, 9.0, 8.0, 8.0, 8.0, 0.0, 0.0, 8.0, 0.0, 0.0, 6.0, 6.0, 6.0, 7.0, 8.0, 8.0, 8.0, 8.0, 8.0, 7.0, 7.0, 8.0, 5.0, 6.0, 6.0, 6.0, 6.0, 7.0, 0.0, 6.0, 0.0, 0.0, 6.0, 6.0, 6.0, 6.0, 0.0, 6.0, 6.0, 6.0, 6.0, 6.0, 7.0, 7.0, 6.0, 6.0, 5.0, 0.0, 0.0, 5.0, 5.0, 6.0, 6.0, 6.0, 6.0, 6.0, 6.0, 6.0, 7.0, 6.0, 6.0, 6.0, 5.0, 5.0, 0.0, 6.0, 6.0, 7.0, 5.0, 0.0, 0.0, 0.0, 0.0, 6.0, 6.0, 6.0, 6.0, 7.0, 6.0, 6.0, 6.0, 7.0, 7.0, 8.0, 7.0, 0.0, 8.0, 6.0, 7.0, 7.0, 0.0, 0.0, 7.0, 8.0, 8.0, 7.0, 7.0, 0.0, 8.0, 8.0, 0.0, 0.0, 7.0, 6.0, 7.0, 7.0, 7.0, 8.0, 8.0, 8.0, 7.0, 8.0, 7.0, 8.0, 6.0, 6.0, 6.0, 6.0, 7.0, 7.0, 0.0, 6.0, 0.0, 0.0, 6.0, 6.0, 7.0, 6.0, 6.0, 6.0, 6.0, 7.0, 6.0, 6.0, 5.0, 7.0, 6.0, 7.0, 6.0, 0.0, 0.0, 6.0, 6.0, 6.0, 6.0, 7.0, 7.0, 6.0, 6.0, 7.0, 7.0, 7.0, 6.0, 6.0, 0.0, 0.0, 0.0, 6.0, 6.0, 7.0, 6.0, 0.0, 7.0, 0.0, 0.0, 6.0, 6.0, 6.0, 6.0, 7.0, 7.0, 6.0, 7.0, 7.0, 6.0, 8.0, 8.0, 0.0, 9.0, 8.0, 7.0, 7.0, 0.0, 0.0, 7.0, 8.0, 8.0, 8.0, 9.0, 0.0, 8.0, 9.0, 0.0, 0.0, 7.0, 8.0, 8.0, 8.0, 7.0, 8.0, 8.0, 9.0, 9.0, 9.0, 9.0, 9.0, 6.0, 6.0, 6.0, 6.0, 6.0, 7.0, 0.0, 6.0, 0.0, 0.0, 6.0, 7.0, 7.0, 6.0, 6.0, 7.0, 6.0, 7.0, 6.0, 6.0, 7.0, 7.0, 6.0, 7.0, 7.0, 0.0, 0.0, 6.0, 7.0, 7.0, 7.0, 0.0, 7.0, 7.0, 6.0, 7.0, 7.0, 7.0, 7.0, 7.0, 7.0, 0.0, 0.0, 6.0, 7.0, 7.0, 8.0, 0.0, 6.0, 0.0, 0.0, 6.0, 6.0, 6.0, 6.0, 7.0, 7.0, 7.0, 7.0, 8.0, 6.0, 7.0, 8.0, 0.0, 9.0, 7.0, 8.0, 7.0, 8.0, 0.0, 8.0, 9.0, 8.0, 8.0, 9.0, 0.0, 0.0, 8.0, 0.0, 0.0, 7.0, 7.0, 9.0, 8.0, 9.0, 9.0, 9.0, 10.0, 10.0, 10.0, 10.0, 10.0, 6.0, 6.0, 5.0, 6.0, 6.0, 7.0, 0.0, 5.0, 0.0, 0.0, 6.0, 7.0, 6.0, 6.0, 6.0, 6.0, 6.0, 6.0, 6.0, 6.0, 6.0, 7.0, 6.0, 6.0, 5.0, 0.0, 0.0, 6.0, 5.0, 6.0, 6.0, 6.0, 6.0, 6.0, 6.0, 6.0, 6.0, 7.0, 6.0, 6.0, 5.0, 0.0, 0.0, 6.0, 6.0, 7.0, 5.0, 0.0, 6.0, 0.0, 5.0, 6.0, 6.0, 6.0, 6.0, 7.0, 7.0, 6.0, 7.0, 7.0, 6.0, 7.0, 0.0, 0.0, 8.0, 7.0, 7.0, 7.0, 0.0, 0.0, 7.0, 8.0, 8.0, 7.0, 8.0, 0.0, 8.0, 8.0, 0.0, 0.0, 6.0, 6.0, 7.0, 7.0, 0.0, 8.0, 7.0, 9.0, 7.0, 8.0, 9.0, 8.0, 6.0, 6.0, 5.0, 6.0, 6.0, 6.0, 0.0, 5.0, 0.0, 0.0, 6.0, 6.0, 6.0, 6.0, 6.0, 6.0, 6.0, 5.0, 6.0, 6.0, 6.0, 6.0, 6.0, 5.0, 6.0, 0.0, 0.0, 5.0, 5.0, 5.0, 5.0, 0.0, 6.0, 6.0, 6.0, 5.0, 7.0, 6.0, 6.0, 5.0, 0.0, 0.0, 6.0, 7.0, 7.0, 5.0, 0.0, 6.0, 0.0, 0.0, 6.0, 6.0, 6.0, 6.0, 6.0, 7.0, 6.0, 7.0, 7.0, 7.0, 7.0, 0.0, 0.0, 8.0, 6.0, 6.0, 7.0, 7.0, 0.0, 6.0, 8.0, 8.0, 8.0, 9.0, 0.0, 0.0, 7.0, 0.0, 0.0, 6.0, 6.0, 6.0, 7.0, 7.0, 9.0, 8.0, 8.0, 7.0, 8.0, 7.0, 0.0, 6.0, 6.0, 6.0, 6.0, 7.0, 7.0, 0.0, 6.0, 0.0, 0.0, 6.0, 7.0, 7.0, 6.0, 6.0, 6.0, 6.0, 5.0, 6.0, 6.0, 6.0, 6.0, 7.0, 6.0, 7.0, 0.0, 0.0, 6.0, 6.0, 6.0, 6.0, 0.0, 6.0, 6.0, 6.0, 6.0, 7.0, 7.0, 7.0, 7.0, 6.0, 0.0, 0.0, 6.0, 7.0, 7.0, 5.0, 0.0, 6.0, 0.0, 0.0, 6.0, 6.0, 6.0, 6.0, 7.0, 7.0, 7.0, 7.0, 7.0, 7.0, 7.0, 0.0, 0.0, 9.0, 7.0, 7.0, 7.0, 6.0, 0.0, 7.0, 9.0, 8.0, 8.0, 9.0, 0.0, 0.0, 8.0, 0.0, 0.0, 6.0, 7.0, 6.0, 8.0, 8.0, 8.0, 8.0, 7.0, 8.0, 9.0, 8.0, 0.0]\n",
            "[9.0, 10.0, 9.0, 8.0, 7.0, 8.0, 8.0, 9.0, 9.0, 9.0, 9.0, 8.0, 9.0, 0.0, 7.0, 9.0, 9.0, 0.0, 0.0, 7.0, 7.0, 8.0, 8.0, 0.0, 0.0, 9.0, 0.0, 8.0, 0.0, 0.0, 0.0, 8.0, 7.0, 8.0, 9.0, 8.0, 8.0, 8.0, 8.0, 0.0, 0.0, 8.0, 0.0, 0.0, 8.0, 7.0, 7.0, 8.0, 0.0, 7.0, 8.0, 8.0, 0.0, 0.0, 0.0, 0.0, 0.0, 8.0, 0.0, 8.0, 8.0, 0.0, 0.0, 0.0, 0.0, 0.0, 0.0, 8.0, 0.0, 0.0, 0.0, 0.0, 7.0, 7.0, 0.0, 0.0, 7.0, 7.0, 7.0, 8.0, 0.0, 0.0, 0.0, 0.0, 8.0, 7.0, 0.0, 0.0, 7.0, 0.0, 0.0, 0.0, 9.0, 0.0, 9.0, 8.0, 9.0, 10.0, 9.0, 9.0, 8.0, 0.0, 0.0, 9.0, 9.0, 0.0, 9.0, 9.0, 10.0, 9.0, 0.0, 9.0, 9.0, 9.0, 9.0, 0.0, 0.0, 0.0, 0.0, 8.0, 0.0, 0.0, 0.0, 8.0, 9.0, 10.0, 9.0, 9.0, 8.0, 9.0, 8.0, 0.0, 9.0, 0.0, 0.0, 0.0, 0.0, 0.0, 0.0, 8.0, 0.0, 0.0, 7.0, 0.0, 0.0, 0.0, 0.0, 0.0, 0.0, 0.0, 0.0, 7.0, 0.0, 0.0, 0.0, 0.0, 0.0, 0.0, 0.0, 0.0, 0.0, 0.0, 0.0, 0.0, 7.0, 0.0, 0.0, 0.0, 0.0, 7.0, 7.0, 7.0, 7.0, 0.0, 0.0, 8.0, 7.0, 6.0, 0.0, 0.0, 0.0, 0.0, 0.0, 7.0, 0.0, 0.0, 8.0, 8.0, 8.0, 9.0, 8.0, 8.0, 9.0, 0.0, 8.0, 8.0, 10.0, 9.0, 9.0, 9.0, 9.0, 8.0, 8.0, 8.0, 9.0, 8.0, 7.0, 0.0, 0.0, 0.0, 0.0, 8.0, 0.0, 0.0, 0.0, 8.0, 8.0, 8.0, 8.0, 8.0, 8.0, 8.0, 8.0, 0.0, 7.0, 8.0, 0.0, 0.0, 8.0, 8.0, 8.0, 0.0, 0.0, 0.0, 8.0, 0.0, 0.0, 0.0, 7.0, 7.0, 0.0, 8.0, 0.0, 8.0, 0.0, 0.0, 0.0, 0.0, 0.0, 0.0, 0.0, 0.0, 0.0, 0.0, 0.0, 0.0, 7.0, 7.0, 0.0, 0.0, 6.0, 7.0, 7.0, 8.0, 7.0, 0.0, 0.0, 0.0, 8.0, 7.0, 6.0, 0.0, 0.0, 0.0, 0.0, 7.0, 0.0, 0.0, 8.0, 7.0, 9.0, 9.0, 8.0, 9.0, 9.0, 0.0, 8.0, 8.0, 9.0, 0.0, 8.0, 9.0, 9.0, 9.0, 9.0, 9.0, 9.0, 9.0, 8.0, 0.0, 0.0, 0.0, 8.0, 8.0, 0.0, 0.0, 0.0, 8.0, 8.0, 0.0, 8.0, 8.0, 8.0, 8.0, 8.0, 0.0, 0.0, 0.0, 0.0, 0.0, 8.0, 8.0, 7.0, 0.0, 0.0, 0.0, 0.0, 0.0, 0.0, 0.0, 9.0, 0.0, 0.0, 8.0, 0.0, 0.0, 0.0, 0.0, 0.0, 0.0, 0.0, 0.0, 0.0, 8.0, 0.0, 0.0, 0.0, 0.0, 7.0, 0.0, 0.0, 0.0, 6.0, 7.0, 7.0, 7.0, 7.0, 0.0, 0.0, 8.0, 7.0, 7.0, 6.0, 0.0, 0.0, 0.0, 0.0, 7.0, 8.0, 0.0, 8.0, 8.0, 8.0, 8.0, 8.0, 8.0, 9.0, 0.0, 7.0, 8.0, 9.0, 9.0, 8.0, 8.0, 8.0, 8.0, 0.0, 8.0, 8.0, 8.0, 9.0, 0.0, 0.0, 0.0, 8.0, 8.0, 0.0, 0.0, 0.0, 8.0, 0.0, 0.0, 8.0, 8.0, 8.0, 8.0, 8.0, 0.0, 8.0, 0.0, 0.0, 0.0, 8.0, 0.0, 8.0, 8.0, 0.0, 0.0, 8.0, 8.0, 0.0, 0.0, 8.0, 8.0, 0.0, 8.0, 0.0, 8.0, 0.0, 0.0, 0.0, 0.0, 0.0, 0.0, 0.0, 8.0, 0.0, 0.0, 0.0, 0.0, 7.0, 0.0, 0.0, 0.0, 7.0, 7.0, 8.0, 7.0, 7.0, 0.0, 0.0, 0.0, 8.0, 7.0, 0.0, 0.0, 0.0, 7.0, 0.0, 7.0, 8.0, 9.0, 8.0, 8.0, 7.0, 8.0, 9.0, 8.0, 9.0, 0.0, 0.0, 8.0, 9.0, 7.0, 9.0, 9.0, 8.0, 8.0, 8.0, 8.0, 8.0, 9.0, 8.0, 0.0, 0.0, 7.0, 0.0, 8.0, 0.0, 0.0, 0.0, 8.0, 8.0, 0.0, 8.0, 8.0, 7.0, 8.0, 8.0, 0.0, 0.0, 0.0, 0.0, 0.0, 0.0, 8.0, 8.0, 8.0, 8.0, 0.0, 8.0, 8.0, 0.0, 0.0, 0.0, 0.0, 0.0, 0.0, 0.0, 0.0, 7.0, 0.0, 0.0, 0.0, 0.0, 0.0, 0.0, 0.0, 0.0, 0.0, 0.0, 0.0, 7.0, 7.0, 0.0, 0.0, 7.0, 7.0, 7.0, 7.0, 7.0, 8.0, 0.0, 7.0, 8.0, 7.0, 0.0, 0.0, 0.0, 0.0, 0.0, 0.0, 9.0, 0.0, 9.0, 9.0, 9.0, 9.0, 10.0, 8.0, 8.0, 0.0, 8.0, 9.0, 9.0, 0.0, 9.0, 10.0, 9.0, 9.0, 0.0, 8.0, 9.0, 9.0, 9.0, 0.0, 0.0, 0.0, 9.0, 9.0, 0.0, 0.0, 0.0, 9.0, 9.0, 10.0, 9.0, 8.0, 9.0, 8.0, 8.0, 0.0, 8.0, 0.0, 0.0, 0.0, 9.0, 8.0, 7.0, 8.0, 0.0, 0.0, 8.0, 8.0, 0.0, 0.0, 0.0, 0.0, 0.0, 0.0, 0.0, 7.0, 0.0, 0.0, 0.0, 0.0, 0.0, 0.0, 0.0, 8.0, 0.0, 0.0, 0.0, 0.0, 7.0, 0.0, 0.0, 0.0, 7.0, 7.0, 7.0, 7.0, 7.0, 0.0, 0.0, 8.0, 7.0, 6.0, 0.0, 0.0, 0.0, 0.0, 0.0, 8.0, 8.0, 0.0, 7.0, 7.0, 8.0, 10.0, 7.0, 7.0, 10.0, 0.0, 7.0, 8.0, 8.0, 7.0, 9.0, 8.0, 7.0, 8.0, 0.0, 7.0, 7.0, 8.0, 0.0, 0.0, 0.0, 7.0, 0.0, 7.0, 0.0, 0.0, 0.0, 7.0, 0.0, 8.0, 7.0, 7.0, 7.0, 7.0, 8.0, 7.0, 8.0, 0.0, 0.0, 7.0, 7.0, 8.0, 8.0, 7.0, 0.0, 0.0, 8.0, 8.0, 0.0, 0.0, 7.0, 8.0, 0.0, 8.0, 0.0, 8.0, 0.0, 0.0, 0.0, 7.0, 0.0, 0.0, 0.0, 8.0, 0.0, 0.0, 0.0, 0.0, 7.0, 0.0, 0.0, 7.0, 7.0, 0.0, 7.0, 7.0, 0.0, 0.0, 0.0, 8.0, 7.0, 6.0, 0.0, 0.0, 0.0, 0.0, 8.0, 7.0, 9.0, 10.0, 10.0, 8.0, 8.0, 8.0, 9.0, 9.0, 9.0, 0.0, 0.0, 8.0, 10.0, 9.0, 8.0, 10.0, 10.0, 9.0, 0.0, 8.0, 8.0, 9.0, 8.0, 0.0, 8.0, 9.0, 0.0, 8.0, 0.0, 0.0, 0.0, 9.0, 8.0, 0.0, 9.0, 8.0, 8.0, 0.0, 8.0, 0.0, 0.0, 0.0, 0.0, 0.0, 0.0, 8.0, 8.0, 8.0, 8.0, 0.0, 8.0, 8.0, 0.0, 0.0, 0.0, 0.0, 0.0, 0.0, 0.0, 0.0, 8.0, 0.0, 0.0, 0.0, 0.0, 0.0, 0.0, 8.0, 0.0, 0.0, 0.0, 0.0, 8.0, 7.0, 5.0, 0.0, 7.0, 7.0, 7.0, 8.0, 0.0, 0.0, 0.0, 0.0, 7.0, 7.0, 8.0, 0.0, 0.0, 0.0, 0.0, 0.0, 9.0, 9.0, 8.0, 8.0, 8.0, 8.0, 9.0, 7.0, 7.0, 0.0, 0.0, 8.0, 9.0, 8.0, 8.0, 9.0, 8.0, 8.0, 0.0, 8.0, 8.0, 9.0, 8.0, 0.0, 8.0, 8.0, 0.0, 8.0, 0.0, 0.0, 0.0, 9.0, 8.0, 0.0, 8.0, 9.0, 8.0, 0.0, 8.0, 0.0, 0.0, 0.0, 0.0, 0.0, 8.0, 8.0, 8.0, 8.0, 8.0, 7.0, 8.0, 8.0, 0.0, 0.0, 0.0, 0.0, 0.0, 0.0, 0.0, 0.0, 7.0, 0.0, 0.0, 0.0, 0.0, 0.0, 0.0, 0.0, 0.0, 0.0, 0.0, 0.0, 6.0, 6.0, 0.0, 0.0, 7.0, 5.0, 5.0, 5.0, 0.0, 0.0, 0.0, 0.0, 8.0, 4.0, 0.0, 4.0, 0.0, 0.0, 0.0, 0.0, 9.0, 9.0, 9.0, 8.0, 7.0, 8.0, 8.0, 9.0, 9.0, 0.0, 0.0, 8.0, 9.0, 9.0, 8.0, 9.0, 9.0, 7.0, 0.0, 8.0, 8.0, 8.0, 8.0, 0.0, 8.0, 10.0, 0.0, 7.0, 0.0, 0.0, 0.0, 9.0, 0.0, 0.0, 8.0, 8.0, 8.0, 8.0, 8.0, 0.0, 0.0, 0.0, 0.0, 0.0, 0.0, 8.0, 8.0, 8.0, 8.0, 0.0, 9.0, 8.0, 0.0, 0.0, 0.0, 0.0, 0.0, 0.0, 0.0, 0.0, 8.0, 0.0, 0.0, 0.0, 0.0, 0.0, 0.0, 0.0, 0.0, 0.0, 0.0, 0.0, 7.0, 7.0, 8.0, 0.0, 8.0, 8.0, 8.0, 8.0, 0.0, 0.0, 0.0, 0.0, 8.0, 7.0, 8.0, 6.0, 0.0, 0.0, 0.0, 0.0, 0.0, 0.0, 8.0, 0.0, 9.0, 10.0, 8.0, 9.0, 8.0, 0.0, 7.0, 9.0, 9.0, 0.0, 9.0, 9.0, 10.0, 10.0, 0.0, 9.0, 9.0, 8.0, 9.0, 0.0, 0.0, 0.0, 9.0, 7.0, 0.0, 0.0, 8.0, 9.0, 0.0, 0.0, 9.0, 7.0, 7.0, 8.0, 9.0, 0.0, 8.0, 0.0, 0.0, 0.0, 10.0, 9.0, 8.0, 8.0, 0.0, 0.0, 8.0, 0.0, 0.0, 0.0, 8.0, 8.0, 0.0, 0.0, 0.0, 0.0, 0.0, 0.0, 0.0, 0.0, 0.0, 0.0, 0.0, 8.0, 0.0, 0.0, 0.0, 0.0, 7.0, 6.0, 0.0, 0.0, 6.0, 5.0, 7.0, 7.0, 7.0, 0.0, 0.0, 7.0, 7.0, 6.0, 0.0, 0.0, 0.0, 0.0, 0.0, 6.0, 0.0, 0.0, 7.0, 0.0, 8.0, 9.0, 7.0, 8.0, 10.0, 0.0, 7.0, 8.0, 9.0, 0.0, 7.0, 8.0, 8.0, 8.0, 0.0, 7.0, 8.0, 9.0, 9.0, 0.0, 0.0, 0.0, 8.0, 7.0, 0.0, 0.0, 0.0, 7.0, 0.0, 0.0, 8.0, 8.0, 7.0, 7.0, 7.0, 0.0, 8.0, 0.0, 0.0, 0.0, 9.0, 8.0, 8.0, 7.0, 0.0, 0.0, 8.0, 0.0, 0.0, 0.0, 9.0, 8.0, 0.0, 0.0, 0.0, 0.0, 8.0, 0.0, 0.0, 0.0, 0.0, 0.0, 0.0, 0.0, 0.0, 0.0, 0.0, 0.0, 0.0, 6.0, 0.0, 0.0, 6.0, 6.0, 7.0, 7.0, 6.0, 0.0, 0.0, 8.0, 7.0, 6.0, 0.0, 0.0, 0.0, 0.0, 0.0, 7.0, 0.0, 10.0, 0.0, 10.0, 10.0, 10.0, 10.0, 9.0, 9.0, 0.0, 0.0, 9.0, 9.0, 0.0, 10.0, 10.0, 10.0, 10.0, 10.0, 10.0, 9.0, 9.0, 9.0, 0.0, 0.0, 0.0, 10.0, 10.0, 0.0, 0.0, 0.0, 10.0, 10.0, 0.0, 10.0, 9.0, 0.0, 9.0, 9.0, 0.0, 10.0, 0.0, 0.0, 0.0, 0.0, 0.0, 0.0, 9.0, 0.0, 0.0, 8.0, 0.0, 0.0, 0.0, 0.0, 9.0, 9.0, 0.0, 0.0, 0.0, 0.0, 0.0, 0.0, 0.0, 0.0, 0.0, 0.0, 0.0, 0.0, 0.0, 0.0, 0.0, 7.0, 6.0, 0.0, 0.0, 7.0, 8.0, 7.0, 8.0, 8.0, 8.0, 0.0, 8.0, 8.0, 7.0, 0.0, 0.0, 0.0, 0.0, 0.0, 0.0, 9.0, 9.0, 8.0, 9.0, 8.0, 9.0, 9.0, 9.0, 9.0, 8.0, 0.0, 7.0, 7.0, 0.0, 8.0, 9.0, 8.0, 8.0, 7.0, 8.0, 8.0, 8.0, 7.0, 0.0, 0.0, 7.0, 9.0, 0.0, 8.0, 0.0, 0.0, 8.0, 7.0, 0.0, 7.0, 7.0, 0.0, 7.0, 8.0, 0.0, 0.0, 7.0, 0.0, 0.0, 0.0, 8.0, 8.0, 8.0, 8.0, 0.0, 8.0, 8.0, 0.0, 0.0, 0.0, 7.0, 0.0, 0.0, 0.0, 0.0, 7.0, 6.0, 0.0, 4.0, 0.0, 0.0, 0.0, 0.0, 0.0, 0.0, 0.0, 0.0, 6.0, 6.0, 3.0, 6.0, 6.0, 6.0, 6.0, 6.0, 7.0, 0.0, 7.0, 0.0, 7.0, 6.0, 7.0, 6.0, 6.0, 6.0, 0.0, 0.0, 0.0, 0.0, 0.0, 0.0, 8.0, 9.0, 8.0, 9.0, 9.0, 0.0, 6.0, 8.0, 0.0, 0.0, 8.0, 9.0, 9.0, 8.0, 0.0, 8.0, 9.0, 8.0, 9.0, 0.0, 0.0, 0.0, 8.0, 7.0, 0.0, 0.0, 0.0, 0.0, 0.0, 0.0, 8.0, 8.0, 8.0, 8.0, 8.0, 0.0, 8.0, 0.0, 0.0, 0.0, 0.0, 8.0, 8.0, 7.0, 0.0, 0.0, 8.0, 0.0, 0.0, 0.0, 8.0, 8.0, 0.0, 0.0, 0.0, 0.0, 0.0, 0.0, 0.0, 0.0, 0.0, 0.0, 0.0, 0.0, 0.0, 0.0, 0.0, 0.0, 7.0, 5.0, 6.0, 0.0, 6.0, 6.0, 7.0, 7.0, 7.0, 7.0, 0.0, 7.0, 7.0, 6.0, 0.0, 0.0, 0.0, 0.0, 0.0, 0.0, 9.0, 10.0, 9.0, 10.0, 10.0, 10.0, 10.0, 9.0, 9.0, 0.0, 0.0, 0.0, 0.0, 0.0, 10.0, 10.0, 10.0, 9.0, 9.0, 0.0, 9.0, 8.0, 9.0, 0.0, 0.0, 8.0, 0.0, 9.0, 0.0, 0.0, 0.0, 9.0, 0.0, 0.0, 9.0, 9.0, 9.0, 8.0, 9.0, 0.0, 9.0, 0.0, 0.0, 0.0, 0.0, 8.0, 9.0, 9.0, 0.0, 0.0, 8.0, 0.0, 0.0, 0.0, 0.0, 0.0, 0.0, 0.0, 0.0, 0.0, 8.0, 0.0, 0.0, 0.0, 0.0, 0.0, 0.0, 0.0, 0.0, 0.0, 0.0, 0.0, 7.0, 7.0, 7.0, 0.0, 7.0, 7.0, 7.0, 7.0, 7.0, 7.0, 0.0, 0.0, 7.0, 7.0, 0.0, 0.0, 0.0, 0.0, 0.0, 8.0, 0.0, 10.0, 0.0, 9.0, 9.0, 10.0, 10.0, 9.0, 9.0, 0.0, 0.0, 0.0, 0.0, 0.0, 9.0, 9.0, 9.0, 9.0, 9.0, 9.0, 8.0, 9.0, 9.0, 0.0, 0.0, 0.0, 9.0, 9.0, 0.0, 0.0, 0.0, 9.0, 0.0, 0.0, 8.0, 8.0, 8.0, 9.0, 8.0, 0.0, 9.0, 0.0, 0.0, 0.0, 0.0, 8.0, 0.0, 9.0, 0.0, 0.0, 9.0, 0.0, 0.0, 0.0, 0.0, 0.0, 0.0, 0.0, 0.0, 0.0, 7.0, 0.0, 0.0, 0.0, 0.0, 0.0, 0.0, 0.0, 0.0, 0.0, 0.0, 0.0, 0.0, 7.0, 6.0, 0.0, 7.0, 7.0, 7.0, 7.0, 7.0, 7.0, 0.0, 8.0, 7.0, 6.0, 0.0, 0.0, 0.0, 0.0, 0.0, 7.0, 7.0, 0.0, 0.0, 7.0, 0.0, 8.0, 0.0, 10.0, 10.0, 0.0, 0.0, 0.0, 0.0, 0.0, 7.0, 9.0, 8.0, 8.0, 9.0, 8.0, 9.0, 9.0, 9.0, 0.0, 0.0, 0.0, 9.0, 8.0, 0.0, 0.0, 8.0, 8.0, 8.0, 8.0, 8.0, 9.0, 8.0, 8.0, 8.0, 0.0, 8.0, 0.0, 0.0, 0.0, 0.0, 8.0, 8.0, 8.0, 0.0, 0.0, 8.0, 0.0, 0.0, 0.0, 9.0, 8.0, 0.0, 0.0, 0.0, 0.0, 0.0, 0.0, 0.0, 0.0, 6.0, 0.0, 0.0, 0.0, 0.0, 0.0, 0.0, 0.0, 0.0, 6.0, 0.0, 6.0, 6.0, 7.0, 7.0, 7.0, 7.0, 7.0, 7.0, 7.0, 7.0, 7.0, 0.0, 0.0, 0.0, 0.0, 0.0, 0.0, 9.0, 9.0, 8.0, 9.0, 7.0, 8.0, 8.0, 8.0, 8.0, 0.0, 0.0, 0.0, 0.0, 0.0, 8.0, 10.0, 8.0, 8.0, 7.0, 8.0, 8.0, 7.0, 8.0, 0.0, 0.0, 9.0, 0.0, 7.0, 0.0, 0.0, 0.0, 8.0, 0.0, 0.0, 7.0, 0.0, 8.0, 8.0, 8.0, 0.0, 7.0, 0.0, 0.0, 0.0, 7.0, 8.0, 8.0, 8.0, 8.0, 0.0, 8.0, 0.0, 0.0, 0.0, 0.0, 0.0, 0.0, 0.0, 0.0, 0.0, 7.0, 0.0, 0.0, 0.0, 0.0, 0.0, 0.0, 0.0, 0.0, 0.0, 0.0, 0.0, 7.0, 6.0, 0.0, 0.0, 6.0, 7.0, 7.0, 8.0, 7.0, 0.0, 0.0, 0.0, 8.0, 7.0, 0.0, 0.0, 6.0, 7.0, 0.0, 0.0, 0.0, 0.0, 0.0, 8.0, 9.0, 9.0, 10.0, 9.0, 9.0, 0.0, 0.0, 0.0, 0.0, 0.0, 10.0, 10.0, 10.0, 9.0, 0.0, 9.0, 0.0, 9.0, 9.0, 0.0, 0.0, 9.0, 9.0, 9.0, 0.0, 0.0, 0.0, 9.0, 9.0, 9.0, 9.0, 8.0, 9.0, 8.0, 9.0, 0.0, 8.0, 0.0, 0.0, 0.0, 0.0, 9.0, 0.0, 9.0, 0.0, 0.0, 8.0, 0.0, 0.0, 0.0, 0.0, 0.0, 0.0, 0.0, 0.0, 0.0, 7.0, 0.0, 0.0, 0.0, 0.0, 0.0, 0.0, 0.0, 0.0, 0.0, 0.0, 0.0, 0.0, 6.0, 5.0, 7.0, 7.0, 7.0, 7.0, 7.0, 7.0, 7.0, 7.0, 8.0, 7.0, 6.0, 0.0, 0.0, 0.0, 0.0, 6.0, 7.0, 0.0, 10.0, 8.0, 7.0, 8.0, 0.0, 9.0, 9.0, 9.0, 0.0, 0.0, 0.0, 0.0, 0.0, 9.0, 9.0, 9.0, 0.0, 9.0, 0.0, 8.0, 8.0, 8.0, 0.0, 0.0, 0.0, 8.0, 9.0, 0.0, 0.0, 0.0, 8.0, 0.0, 8.0, 8.0, 0.0, 0.0, 7.0, 6.0, 0.0, 7.0, 0.0, 0.0, 0.0, 0.0, 8.0, 8.0, 8.0, 0.0, 0.0, 7.0, 0.0, 0.0, 0.0, 0.0, 0.0, 0.0, 0.0, 0.0, 0.0, 0.0, 0.0, 0.0, 0.0, 0.0, 0.0, 0.0, 0.0, 0.0, 0.0, 0.0, 0.0, 0.0, 6.0, 0.0, 6.0, 6.0, 6.0, 6.0, 6.0, 6.0, 6.0, 0.0, 7.0, 6.0, 6.0, 0.0, 0.0, 0.0, 0.0, 0.0, 0.0, 0.0, 10.0, 10.0, 9.0, 9.0, 9.0, 10.0, 10.0, 9.0, 0.0, 0.0, 0.0, 0.0, 0.0, 9.0, 9.0, 9.0, 0.0, 9.0, 9.0, 9.0, 10.0, 10.0, 0.0, 0.0, 7.0, 9.0, 8.0, 0.0, 0.0, 0.0, 9.0, 0.0, 0.0, 8.0, 0.0, 8.0, 8.0, 0.0, 0.0, 0.0, 0.0, 0.0, 0.0, 0.0, 8.0, 8.0, 8.0, 7.0, 0.0, 9.0, 0.0, 0.0, 0.0, 0.0, 0.0, 0.0, 0.0, 0.0, 0.0, 0.0, 0.0, 7.0, 7.0, 7.0, 0.0, 0.0, 0.0, 0.0, 0.0, 0.0, 0.0, 0.0, 7.0, 0.0, 7.0, 8.0, 7.0, 7.0, 7.0, 8.0, 7.0, 0.0, 8.0, 7.0, 0.0, 0.0, 0.0, 0.0, 0.0, 0.0, 0.0, 9.0, 10.0, 10.0, 9.0, 10.0, 9.0, 10.0, 9.0, 9.0, 0.0, 0.0, 0.0, 0.0, 0.0, 9.0, 10.0, 10.0, 9.0, 9.0, 9.0, 10.0, 10.0, 9.0, 0.0, 0.0, 8.0, 8.0, 9.0, 0.0, 0.0, 0.0, 9.0, 0.0, 0.0, 9.0, 0.0, 8.0, 9.0, 8.0, 0.0, 8.0, 0.0, 0.0, 0.0, 0.0, 9.0, 9.0, 9.0, 8.0, 0.0, 8.0, 0.0, 0.0, 0.0, 0.0, 0.0, 0.0, 0.0, 0.0, 0.0, 7.0, 0.0, 0.0, 0.0, 0.0, 0.0, 0.0, 0.0, 0.0, 0.0, 0.0, 0.0, 0.0, 6.0, 6.0, 6.0, 7.0, 7.0, 7.0, 7.0, 8.0, 8.0, 0.0, 0.0, 7.0, 6.0, 0.0, 0.0, 0.0, 0.0, 0.0, 7.0, 0.0, 10.0, 9.0, 9.0, 9.0, 10.0, 10.0, 9.0, 8.0, 0.0, 0.0, 0.0, 0.0, 0.0, 10.0, 10.0, 9.0, 0.0, 9.0, 8.0, 8.0, 8.0, 8.0, 0.0, 0.0, 8.0, 8.0, 8.0, 0.0, 0.0, 8.0, 8.0, 0.0, 0.0, 8.0, 0.0, 0.0, 7.0, 0.0, 0.0, 7.0, 0.0, 0.0, 0.0, 0.0, 8.0, 8.0, 8.0, 0.0, 0.0, 8.0, 0.0, 0.0, 0.0, 0.0, 0.0, 0.0, 0.0, 0.0, 0.0, 7.0, 0.0, 0.0, 0.0, 0.0, 0.0, 0.0, 0.0, 0.0, 0.0, 0.0, 0.0, 0.0, 6.0, 6.0, 6.0, 6.0, 7.0, 7.0, 6.0, 6.0, 7.0, 7.0, 0.0, 7.0, 7.0, 0.0, 0.0, 0.0, 0.0, 0.0, 8.0, 9.0, 9.0, 8.0, 7.0, 7.0, 7.0, 9.0, 8.0, 7.0, 8.0, 0.0, 0.0, 0.0, 0.0, 8.0, 9.0, 10.0, 0.0, 0.0, 7.0, 7.0, 7.0, 8.0, 0.0, 0.0, 8.0, 7.0, 7.0, 0.0, 0.0, 0.0, 8.0, 0.0, 0.0, 8.0, 8.0, 7.0, 7.0, 0.0, 0.0, 7.0, 0.0, 0.0, 0.0, 0.0, 7.0, 7.0, 7.0, 8.0, 6.0, 0.0, 0.0, 0.0, 0.0, 0.0, 0.0, 0.0, 0.0, 0.0, 0.0, 6.0, 6.0, 6.0, 6.0, 4.0, 6.0, 0.0, 0.0, 0.0, 6.0, 0.0, 6.0, 5.0, 4.0, 4.0, 4.0, 5.0, 6.0, 4.0, 5.0, 6.0, 6.0, 7.0, 7.0, 7.0, 6.0, 0.0, 0.0, 6.0, 0.0, 6.0, 0.0, 0.0, 0.0, 0.0, 7.0, 0.0, 8.0, 9.0, 9.0, 9.0, 0.0, 0.0, 0.0, 0.0, 0.0, 7.0, 7.0, 0.0, 0.0, 0.0, 8.0, 8.0, 7.0, 9.0, 0.0, 0.0, 0.0, 8.0, 8.0, 0.0, 0.0, 8.0, 8.0, 0.0, 8.0, 8.0, 0.0, 0.0, 8.0, 8.0, 0.0, 8.0, 0.0, 0.0, 0.0, 0.0, 8.0, 8.0, 8.0, 0.0, 0.0, 8.0, 0.0, 0.0, 0.0, 0.0, 8.0, 0.0, 0.0, 0.0, 0.0, 0.0, 0.0, 6.0, 6.0, 5.0, 0.0, 0.0, 0.0, 0.0, 0.0, 0.0, 0.0, 0.0, 5.0, 6.0, 6.0, 6.0, 7.0, 7.0, 7.0, 7.0, 7.0, 0.0, 0.0, 7.0, 7.0, 0.0, 0.0, 0.0, 0.0, 0.0, 0.0, 9.0, 10.0, 10.0, 8.0, 8.0, 8.0, 9.0, 9.0, 8.0, 0.0, 0.0, 0.0, 0.0, 0.0, 8.0, 10.0, 10.0, 0.0, 0.0, 9.0, 9.0, 9.0, 9.0, 0.0, 0.0, 8.0, 9.0, 8.0, 0.0, 0.0, 0.0, 10.0, 0.0, 8.0, 9.0, 9.0, 8.0, 8.0, 8.0, 0.0, 7.0, 0.0, 0.0, 0.0, 0.0, 8.0, 8.0, 8.0, 7.0, 0.0, 0.0, 0.0, 0.0, 0.0, 0.0, 9.0, 0.0, 0.0, 0.0, 0.0, 0.0, 0.0, 7.0, 7.0, 7.0, 7.0, 0.0, 0.0, 0.0, 0.0, 0.0, 0.0, 6.0, 5.0, 5.0, 5.0, 6.0, 7.0, 8.0, 5.0, 8.0, 7.0, 7.0, 7.0, 7.0, 7.0, 6.0, 0.0, 7.0, 0.0, 0.0, 7.0, 0.0, 10.0, 9.0, 9.0, 8.0, 8.0, 9.0, 9.0, 9.0, 0.0, 0.0, 0.0, 0.0, 0.0, 9.0, 9.0, 0.0, 0.0, 9.0, 9.0, 9.0, 8.0, 9.0, 0.0, 0.0, 0.0, 9.0, 8.0, 0.0, 0.0, 0.0, 0.0, 0.0, 0.0, 0.0, 0.0, 0.0, 8.0, 8.0, 0.0, 7.0, 0.0, 0.0, 0.0, 0.0, 8.0, 8.0, 9.0, 0.0, 0.0, 0.0, 0.0, 0.0, 0.0, 0.0, 0.0, 0.0, 0.0, 0.0, 0.0, 0.0, 0.0, 7.0, 7.0, 7.0, 0.0, 0.0, 0.0, 0.0, 0.0, 0.0, 0.0, 6.0, 6.0, 6.0, 7.0, 7.0, 6.0, 7.0, 8.0, 8.0, 8.0, 0.0, 8.0, 7.0, 7.0, 0.0, 0.0, 0.0, 0.0, 7.0, 0.0, 10.0, 10.0, 10.0, 9.0, 9.0, 8.0, 10.0, 10.0, 9.0, 8.0, 0.0, 0.0, 0.0, 0.0, 9.0, 9.0, 9.0, 0.0, 0.0, 8.0, 8.0, 8.0, 9.0, 0.0, 0.0, 9.0, 9.0, 8.0, 0.0, 0.0, 0.0, 9.0, 0.0, 8.0, 8.0, 8.0, 8.0, 8.0, 0.0, 0.0, 8.0, 0.0, 0.0, 0.0, 0.0, 8.0, 8.0, 8.0, 0.0, 6.0, 0.0, 0.0, 0.0, 0.0, 0.0, 8.0, 0.0, 0.0, 0.0, 0.0, 7.0, 6.0, 5.0, 5.0, 5.0, 5.0, 0.0, 0.0, 0.0, 0.0, 0.0, 0.0, 0.0, 5.0, 5.0, 5.0, 7.0, 6.0, 6.0, 7.0, 8.0, 7.0, 7.0, 0.0, 7.0, 6.0, 5.0, 0.0, 0.0, 6.0, 7.0, 0.0, 10.0, 10.0, 8.0, 9.0, 9.0, 9.0, 10.0, 10.0, 10.0, 10.0, 0.0, 0.0, 0.0, 0.0, 10.0, 10.0, 0.0, 0.0, 0.0, 8.0, 9.0, 9.0, 9.0, 0.0, 0.0, 9.0, 9.0, 8.0, 0.0, 0.0, 0.0, 9.0, 0.0, 0.0, 8.0, 0.0, 8.0, 9.0, 0.0, 0.0, 8.0, 0.0, 0.0, 0.0, 0.0, 8.0, 8.0, 8.0, 0.0, 0.0, 0.0, 0.0, 0.0, 0.0, 0.0, 8.0, 0.0, 0.0, 0.0, 0.0, 7.0, 7.0, 7.0, 7.0, 7.0, 0.0, 0.0, 0.0, 0.0, 0.0, 0.0, 0.0, 0.0, 7.0, 5.0, 5.0, 6.0, 6.0, 7.0, 6.0, 7.0, 7.0, 7.0, 7.0, 7.0, 7.0, 0.0, 0.0, 0.0, 0.0, 0.0, 8.0, 10.0, 10.0, 8.0, 8.0, 8.0, 0.0, 9.0, 9.0, 9.0, 0.0, 0.0, 0.0, 0.0, 0.0, 9.0, 9.0, 0.0, 0.0, 0.0, 8.0, 8.0, 8.0, 8.0, 0.0, 7.0, 8.0, 7.0, 8.0, 0.0, 0.0, 8.0, 8.0, 0.0, 8.0, 8.0, 0.0, 7.0, 8.0, 8.0, 0.0, 8.0, 0.0, 0.0, 0.0, 0.0, 8.0, 8.0, 7.0, 6.0, 0.0, 0.0, 0.0, 0.0, 0.0, 0.0, 8.0, 0.0, 0.0, 0.0, 0.0, 7.0, 0.0, 0.0, 6.0, 5.0, 0.0, 0.0, 0.0, 0.0, 0.0, 0.0, 0.0, 0.0, 5.0, 5.0, 5.0, 6.0, 6.0, 6.0, 6.0, 6.0, 7.0, 7.0, 7.0, 6.0, 6.0, 0.0, 5.0, 5.0, 0.0, 6.0, 0.0, 8.0, 9.0, 7.0, 7.0, 7.0, 8.0, 9.0, 10.0, 10.0, 8.0, 0.0, 0.0, 0.0, 0.0, 9.0, 9.0, 10.0, 0.0, 0.0, 8.0, 8.0, 9.0, 9.0, 0.0, 0.0, 7.0, 8.0, 8.0, 0.0, 0.0, 7.0, 9.0, 0.0, 7.0, 7.0, 0.0, 0.0, 7.0, 0.0, 0.0, 7.0, 0.0, 0.0, 0.0, 8.0, 7.0, 8.0, 7.0, 0.0, 0.0, 0.0, 0.0, 0.0, 0.0, 0.0, 7.0, 0.0, 0.0, 0.0, 0.0, 6.0, 6.0, 6.0, 6.0, 6.0, 6.0, 0.0, 0.0, 0.0, 0.0, 0.0, 0.0, 0.0, 6.0, 6.0, 5.0, 5.0, 5.0, 6.0, 6.0, 6.0, 6.0, 7.0, 6.0, 7.0, 5.0, 5.0, 0.0, 0.0, 0.0, 5.0, 7.0, 0.0, 8.0, 7.0, 7.0, 8.0, 8.0, 10.0, 10.0, 10.0, 8.0, 0.0, 0.0, 0.0, 0.0, 9.0, 9.0, 9.0, 0.0, 0.0, 8.0, 9.0, 8.0, 9.0, 0.0, 0.0, 7.0, 8.0, 8.0, 0.0, 0.0, 7.0, 8.0, 0.0, 8.0, 8.0, 0.0, 7.0, 8.0, 0.0, 0.0, 8.0, 0.0, 0.0, 0.0, 0.0, 8.0, 9.0, 8.0, 0.0, 0.0, 0.0, 0.0, 0.0, 0.0, 0.0, 8.0, 0.0, 0.0, 0.0, 0.0, 9.0, 6.0, 6.0, 6.0, 6.0, 6.0, 0.0, 0.0, 0.0, 0.0, 0.0, 0.0, 0.0, 6.0, 6.0, 6.0, 6.0, 6.0, 7.0, 7.0, 7.0, 7.0, 7.0, 7.0, 7.0, 6.0, 0.0, 0.0, 0.0, 0.0, 7.0, 7.0, 7.0, 7.0, 0.0, 7.0, 8.0, 7.0, 8.0, 10.0, 8.0, 0.0, 0.0, 0.0, 0.0, 0.0, 7.0, 7.0, 0.0, 0.0, 0.0, 7.0, 7.0, 8.0, 8.0, 0.0, 7.0, 8.0, 8.0, 7.0, 0.0, 0.0, 7.0, 8.0, 0.0, 0.0, 8.0, 0.0, 7.0, 7.0, 7.0, 0.0, 7.0, 0.0, 0.0, 0.0, 0.0, 8.0, 8.0, 0.0, 6.0, 0.0, 0.0, 0.0, 0.0, 0.0, 7.0, 7.0, 0.0, 0.0, 0.0, 0.0, 7.0, 6.0, 6.0, 6.0, 5.0, 5.0, 0.0, 0.0, 0.0, 0.0, 0.0, 0.0, 0.0, 5.0, 5.0, 5.0, 5.0, 5.0, 7.0, 6.0, 6.0, 7.0, 6.0, 7.0, 5.0, 6.0, 0.0, 0.0, 5.0, 0.0, 6.0, 0.0, 9.0, 9.0, 8.0, 7.0, 7.0, 0.0, 10.0, 10.0, 10.0, 0.0, 0.0, 0.0, 0.0, 0.0, 8.0, 9.0, 0.0, 0.0, 0.0, 0.0, 7.0, 8.0, 9.0, 0.0, 0.0, 7.0, 8.0, 7.0, 0.0, 0.0, 8.0, 7.0, 0.0, 0.0, 8.0, 0.0, 0.0, 8.0, 0.0, 0.0, 7.0, 0.0, 0.0, 0.0, 0.0, 8.0, 8.0, 8.0, 0.0, 0.0, 0.0, 0.0, 0.0, 0.0, 0.0, 8.0, 0.0, 0.0, 0.0, 0.0, 6.0, 6.0, 6.0, 6.0, 7.0, 6.0, 0.0, 0.0, 0.0, 6.0, 0.0, 0.0, 0.0, 6.0, 6.0, 6.0, 6.0, 5.0, 6.0, 6.0, 6.0, 7.0, 7.0, 7.0, 7.0, 6.0, 0.0, 0.0, 0.0, 0.0, 7.0, 6.0, 7.0, 7.0, 7.0, 7.0, 7.0, 7.0, 7.0, 9.0, 8.0, 0.0, 0.0, 0.0, 0.0, 0.0, 8.0, 7.0, 0.0, 0.0, 0.0, 7.0, 8.0, 8.0, 7.0, 0.0, 7.0, 8.0, 8.0, 7.0, 0.0, 0.0, 7.0, 7.0, 0.0, 0.0, 8.0, 0.0, 8.0, 7.0, 0.0, 0.0, 7.0, 0.0, 0.0, 0.0, 7.0, 8.0, 8.0, 7.0, 5.0, 0.0, 0.0, 0.0, 0.0, 0.0, 0.0, 7.0, 0.0, 0.0, 0.0, 0.0, 7.0, 7.0, 7.0, 7.0, 6.0, 0.0, 0.0, 0.0, 0.0, 0.0, 0.0, 0.0, 0.0, 6.0, 6.0, 6.0, 6.0, 6.0, 7.0, 7.0, 7.0, 7.0, 7.0, 6.0, 6.0, 6.0, 0.0, 7.0, 7.0, 0.0, 7.0, 6.0, 9.0, 9.0, 8.0, 8.0, 8.0, 7.0, 9.0, 9.0, 9.0, 0.0, 0.0, 0.0, 0.0, 0.0, 9.0, 8.0, 0.0, 0.0, 0.0, 7.0, 7.0, 8.0, 7.0, 0.0, 0.0, 8.0, 8.0, 8.0, 0.0, 0.0, 8.0, 8.0, 0.0, 8.0, 0.0, 0.0, 8.0, 8.0, 0.0, 0.0, 8.0, 0.0, 0.0, 0.0, 0.0, 0.0, 8.0, 0.0, 0.0, 0.0, 0.0, 0.0, 0.0, 0.0, 7.0, 8.0, 0.0, 0.0, 0.0, 0.0, 7.0, 7.0, 7.0, 7.0, 6.0, 6.0, 0.0, 0.0, 0.0, 5.0, 0.0, 0.0, 0.0, 5.0, 5.0, 5.0, 7.0, 7.0, 6.0, 7.0, 7.0, 7.0, 6.0, 7.0, 6.0, 6.0, 0.0, 0.0, 0.0, 0.0, 7.0, 6.0, 0.0, 9.0, 7.0, 7.0, 8.0, 8.0, 8.0, 9.0, 9.0, 0.0, 0.0, 0.0, 0.0, 0.0, 8.0, 8.0, 0.0, 0.0, 0.0, 8.0, 7.0, 8.0, 8.0, 0.0, 0.0, 8.0, 8.0, 7.0, 0.0, 0.0, 7.0, 8.0, 0.0, 8.0, 8.0, 0.0, 0.0, 8.0, 7.0, 0.0, 8.0, 0.0, 0.0, 0.0, 0.0, 8.0, 8.0, 7.0, 0.0, 0.0, 0.0, 0.0, 0.0, 0.0, 0.0, 8.0, 0.0, 0.0, 0.0, 0.0, 7.0, 0.0, 6.0, 5.0, 5.0, 0.0, 0.0, 0.0, 0.0, 0.0, 0.0, 0.0, 0.0, 6.0, 5.0, 5.0, 5.0, 7.0, 7.0, 7.0, 7.0, 7.0, 7.0, 7.0, 0.0, 6.0, 0.0, 0.0, 0.0, 0.0, 7.0, 0.0, 9.0, 10.0, 8.0, 8.0, 8.0, 0.0, 8.0, 9.0, 9.0, 0.0, 0.0, 0.0, 0.0, 0.0, 8.0, 8.0, 0.0, 0.0, 0.0, 8.0, 8.0, 8.0, 8.0, 0.0, 0.0, 7.0, 8.0, 8.0, 0.0, 0.0, 7.0, 8.0, 0.0, 0.0, 8.0, 8.0, 0.0, 8.0, 0.0, 0.0, 7.0, 0.0, 0.0, 0.0, 0.0, 8.0, 8.0, 8.0, 0.0, 0.0, 0.0, 0.0, 0.0, 0.0, 0.0, 8.0, 0.0, 0.0, 0.0, 0.0, 7.0, 0.0, 7.0, 7.0, 0.0, 0.0, 0.0, 0.0, 0.0, 0.0, 0.0, 0.0, 0.0, 7.0, 6.0, 7.0, 7.0, 7.0, 7.0, 6.0, 7.0, 7.0, 7.0, 0.0, 7.0, 0.0, 0.0, 0.0, 0.0, 0.0, 7.0, 7.0, 8.0, 0.0, 0.0, 7.0, 8.0, 8.0, 8.0, 9.0, 10.0, 0.0, 0.0, 0.0, 0.0, 0.0, 7.0, 9.0, 9.0, 8.0, 8.0, 8.0, 9.0, 9.0, 8.0, 0.0, 0.0, 0.0, 8.0, 8.0, 0.0, 0.0, 0.0, 8.0, 0.0, 8.0, 8.0, 8.0, 0.0, 8.0, 8.0, 0.0, 8.0, 0.0, 0.0, 0.0, 0.0, 8.0, 8.0, 8.0, 0.0, 0.0, 8.0, 0.0, 0.0, 0.0, 0.0, 0.0, 8.0, 0.0, 0.0, 0.0, 0.0, 0.0, 0.0, 0.0, 0.0, 0.0, 0.0, 0.0, 0.0, 0.0, 0.0, 0.0, 0.0, 5.0, 6.0, 6.0, 6.0, 7.0, 7.0, 7.0, 7.0, 7.0, 0.0, 7.0, 7.0, 7.0, 0.0, 0.0, 0.0, 0.0, 7.0, 0.0, 0.0, 9.0, 8.0, 8.0, 8.0, 7.0, 7.0, 9.0, 8.0, 0.0, 7.0, 0.0, 0.0, 0.0, 7.0, 7.0, 0.0, 0.0, 0.0, 7.0, 7.0, 7.0, 8.0, 0.0, 0.0, 7.0, 0.0, 7.0, 0.0, 7.0, 8.0, 8.0, 0.0, 0.0, 8.0, 0.0, 0.0, 8.0, 0.0, 0.0, 7.0, 0.0, 0.0, 0.0, 7.0, 0.0, 8.0, 0.0, 6.0, 0.0, 0.0, 6.0, 0.0, 0.0, 7.0, 7.0, 0.0, 0.0, 0.0, 7.0, 7.0, 7.0, 6.0, 7.0, 5.0, 0.0, 4.0, 5.0, 5.0, 5.0, 0.0, 0.0, 4.0, 4.0, 5.0, 4.0, 6.0, 6.0, 6.0, 6.0, 7.0, 6.0, 0.0, 5.0, 7.0, 0.0, 0.0, 0.0, 0.0, 0.0, 6.0, 6.0, 7.0, 7.0, 0.0, 7.0, 7.0, 7.0, 7.0, 8.0, 6.0, 0.0, 7.0, 0.0, 0.0, 0.0, 7.0, 7.0, 0.0, 0.0, 0.0, 7.0, 7.0, 7.0, 7.0, 0.0, 0.0, 7.0, 0.0, 7.0, 0.0, 5.0, 7.0, 7.0, 0.0, 0.0, 8.0, 0.0, 0.0, 7.0, 0.0, 0.0, 7.0, 0.0, 0.0, 0.0, 7.0, 7.0, 7.0, 0.0, 0.0, 0.0, 0.0, 0.0, 0.0, 5.0, 7.0, 7.0, 0.0, 0.0, 6.0, 6.0, 6.0, 6.0, 6.0, 6.0, 5.0, 0.0, 0.0, 0.0, 6.0, 6.0, 0.0, 0.0, 5.0, 5.0, 5.0, 5.0, 5.0, 5.0, 5.0, 5.0, 6.0, 6.0, 0.0, 0.0, 5.0, 0.0, 0.0, 6.0, 0.0, 0.0, 6.0, 5.0, 8.0, 7.0, 0.0, 8.0, 8.0, 8.0, 8.0, 8.0, 8.0, 0.0, 0.0, 0.0, 0.0, 0.0, 0.0, 8.0, 0.0, 0.0, 0.0, 7.0, 7.0, 8.0, 8.0, 0.0, 0.0, 8.0, 0.0, 9.0, 0.0, 8.0, 8.0, 9.0, 0.0, 0.0, 0.0, 0.0, 0.0, 8.0, 0.0, 0.0, 8.0, 0.0, 0.0, 7.0, 7.0, 7.0, 7.0, 0.0, 0.0, 0.0, 0.0, 0.0, 0.0, 0.0, 7.0, 8.0, 0.0, 0.0, 6.0, 0.0, 7.0, 7.0, 7.0, 7.0, 6.0, 7.0, 0.0, 0.0, 0.0, 6.0, 0.0, 0.0, 0.0, 5.0, 5.0, 5.0, 5.0, 7.0, 8.0, 7.0, 7.0, 7.0, 7.0, 7.0, 6.0, 0.0, 0.0, 6.0, 0.0, 6.0, 7.0, 6.0, 8.0, 8.0, 0.0, 8.0, 8.0, 8.0, 8.0, 9.0, 7.0, 0.0, 0.0, 0.0, 0.0, 0.0, 8.0, 9.0, 0.0, 0.0, 0.0, 8.0, 7.0, 8.0, 8.0, 0.0, 0.0, 8.0, 0.0, 8.0, 0.0, 7.0, 8.0, 9.0, 0.0, 0.0, 0.0, 0.0, 0.0, 8.0, 0.0, 0.0, 0.0, 0.0, 0.0, 7.0, 8.0, 8.0, 8.0, 0.0, 0.0, 0.0, 0.0, 0.0, 0.0, 0.0, 7.0, 8.0, 0.0, 0.0, 0.0, 7.0, 7.0, 7.0, 7.0, 7.0, 7.0, 0.0, 0.0, 7.0, 6.0, 0.0, 0.0, 0.0, 0.0, 7.0, 7.0, 7.0, 6.0, 7.0, 7.0, 7.0, 7.0, 7.0, 7.0, 7.0, 6.0, 0.0, 0.0, 6.0, 0.0, 0.0, 7.0, 6.0, 10.0, 10.0, 8.0, 8.0, 9.0, 0.0, 9.0, 10.0, 9.0, 0.0, 0.0, 0.0, 0.0, 0.0, 8.0, 10.0, 0.0, 0.0, 0.0, 8.0, 8.0, 8.0, 8.0, 0.0, 0.0, 8.0, 8.0, 7.0, 0.0, 0.0, 8.0, 8.0, 0.0, 8.0, 8.0, 8.0, 8.0, 8.0, 0.0, 0.0, 8.0, 0.0, 0.0, 0.0, 0.0, 8.0, 8.0, 8.0, 0.0, 0.0, 0.0, 0.0, 0.0, 0.0, 0.0, 8.0, 0.0, 0.0, 0.0, 0.0, 7.0, 7.0, 7.0, 7.0, 7.0, 0.0, 0.0, 0.0, 0.0, 0.0, 0.0, 0.0, 0.0, 7.0, 6.0, 6.0, 6.0, 6.0, 6.0, 6.0, 6.0, 7.0, 7.0, 7.0, 7.0, 7.0, 0.0, 0.0, 0.0, 0.0, 7.0, 0.0, 8.0, 0.0, 0.0, 0.0, 8.0, 8.0, 7.0, 8.0, 10.0, 0.0, 8.0, 8.0, 10.0, 7.0, 7.0, 7.0, 8.0, 9.0, 0.0, 7.0, 9.0, 9.0, 9.0, 0.0, 0.0, 0.0, 8.0, 7.0, 0.0, 0.0, 0.0, 8.0, 0.0, 0.0, 8.0, 8.0, 8.0, 8.0, 8.0, 0.0, 8.0, 0.0, 0.0, 0.0, 9.0, 8.0, 8.0, 8.0, 0.0, 0.0, 8.0, 0.0, 0.0, 0.0, 8.0, 7.0, 0.0, 8.0, 0.0, 8.0, 0.0, 0.0, 0.0, 0.0, 0.0, 0.0, 0.0, 8.0, 0.0, 0.0, 0.0, 0.0, 7.0, 0.0, 0.0, 0.0, 6.0, 7.0, 8.0, 7.0, 7.0, 0.0, 0.0, 0.0, 7.0, 7.0, 0.0, 0.0, 0.0, 7.0, 0.0, 7.0, 0.0, 9.0, 9.0, 9.0, 9.0, 10.0, 9.0, 9.0, 9.0, 0.0, 0.0, 8.0, 0.0, 0.0, 9.0, 10.0, 9.0, 9.0, 9.0, 9.0, 9.0, 9.0, 8.0, 0.0, 0.0, 0.0, 8.0, 9.0, 0.0, 0.0, 8.0, 8.0, 9.0, 0.0, 9.0, 9.0, 9.0, 8.0, 8.0, 0.0, 8.0, 0.0, 0.0, 0.0, 0.0, 8.0, 0.0, 8.0, 0.0, 0.0, 0.0, 0.0, 0.0, 0.0, 9.0, 9.0, 0.0, 0.0, 0.0, 0.0, 0.0, 0.0, 0.0, 0.0, 0.0, 0.0, 0.0, 8.0, 0.0, 0.0, 0.0, 0.0, 7.0, 7.0, 0.0, 0.0, 7.0, 7.0, 7.0, 7.0, 7.0, 7.0, 0.0, 8.0, 7.0, 7.0, 0.0, 0.0, 0.0, 0.0, 0.0, 0.0, 0.0, 0.0, 0.0, 8.0, 9.0, 9.0, 9.0, 9.0, 9.0, 0.0, 0.0, 0.0, 0.0, 0.0, 9.0, 9.0, 9.0, 8.0, 9.0, 9.0, 8.0, 9.0, 8.0, 0.0, 0.0, 0.0, 8.0, 9.0, 0.0, 0.0, 0.0, 8.0, 0.0, 0.0, 8.0, 8.0, 8.0, 8.0, 8.0, 0.0, 9.0, 0.0, 0.0, 0.0, 0.0, 8.0, 0.0, 8.0, 0.0, 0.0, 8.0, 0.0, 0.0, 0.0, 0.0, 8.0, 0.0, 0.0, 0.0, 0.0, 7.0, 0.0, 0.0, 0.0, 0.0, 0.0, 0.0, 0.0, 0.0, 0.0, 0.0, 0.0, 7.0, 6.0, 0.0, 0.0, 7.0, 7.0, 7.0, 7.0, 7.0, 7.0, 0.0, 8.0, 7.0, 6.0, 0.0, 0.0, 0.0, 0.0, 0.0, 7.0, 9.0, 0.0, 0.0, 8.0, 9.0, 9.0, 9.0, 9.0, 8.0, 9.0, 9.0, 9.0, 10.0, 0.0, 9.0, 10.0, 10.0, 9.0, 8.0, 9.0, 10.0, 9.0, 10.0, 0.0, 0.0, 0.0, 0.0, 0.0, 0.0, 0.0, 0.0, 0.0, 9.0, 10.0, 9.0, 9.0, 8.0, 8.0, 9.0, 0.0, 9.0, 9.0, 0.0, 0.0, 0.0, 8.0, 9.0, 9.0, 0.0, 0.0, 9.0, 8.0, 0.0, 0.0, 0.0, 0.0, 0.0, 0.0, 0.0, 8.0, 7.0, 0.0, 0.0, 0.0, 0.0, 0.0, 0.0, 0.0, 0.0, 0.0, 0.0, 0.0, 7.0, 0.0, 6.0, 0.0, 0.0, 7.0, 7.0, 7.0, 7.0, 0.0, 0.0, 8.0, 8.0, 7.0, 0.0, 0.0, 0.0, 0.0, 0.0, 8.0, 0.0, 9.0, 10.0, 9.0, 10.0, 10.0, 10.0, 9.0, 9.0, 0.0, 8.0, 9.0, 9.0, 0.0, 10.0, 10.0, 10.0, 9.0, 9.0, 9.0, 9.0, 9.0, 9.0, 0.0, 0.0, 0.0, 9.0, 9.0, 0.0, 0.0, 0.0, 9.0, 10.0, 0.0, 9.0, 9.0, 8.0, 9.0, 8.0, 0.0, 9.0, 0.0, 0.0, 0.0, 9.0, 0.0, 0.0, 8.0, 0.0, 0.0, 9.0, 8.0, 0.0, 0.0, 0.0, 0.0, 0.0, 0.0, 0.0, 0.0, 7.0, 0.0, 0.0, 0.0, 0.0, 0.0, 0.0, 8.0, 0.0, 0.0, 0.0, 0.0, 7.0, 7.0, 0.0, 0.0, 7.0, 7.0, 7.0, 7.0, 7.0, 0.0, 0.0, 8.0, 7.0, 7.0, 7.0, 0.0, 0.0, 0.0, 0.0, 8.0, 10.0, 10.0, 10.0, 10.0, 9.0, 10.0, 10.0, 10.0, 9.0, 0.0, 0.0, 0.0, 9.0, 0.0, 10.0, 10.0, 10.0, 8.0, 8.0, 8.0, 8.0, 10.0, 10.0, 0.0, 0.0, 9.0, 9.0, 0.0, 0.0, 0.0, 8.0, 8.0, 8.0, 0.0, 8.0, 0.0, 8.0, 8.0, 8.0, 0.0, 0.0, 0.0, 0.0, 0.0, 8.0, 8.0, 8.0, 8.0, 8.0, 0.0, 8.0, 8.0, 0.0, 0.0, 0.0, 0.0, 0.0, 0.0, 0.0, 0.0, 9.0, 0.0, 0.0, 0.0, 0.0, 0.0, 0.0, 0.0, 0.0, 0.0, 0.0, 0.0, 7.0, 8.0, 7.0, 0.0, 8.0, 8.0, 8.0, 9.0, 8.0, 8.0, 0.0, 0.0, 8.0, 7.0, 0.0, 0.0, 0.0, 0.0, 0.0, 0.0, 8.0, 9.0, 8.0, 8.0, 9.0, 9.0, 9.0, 9.0, 8.0, 0.0, 0.0, 8.0, 9.0, 0.0, 10.0, 10.0, 10.0, 9.0, 9.0, 0.0, 8.0, 8.0, 9.0, 0.0, 0.0, 0.0, 0.0, 0.0, 0.0, 0.0, 0.0, 8.0, 0.0, 0.0, 8.0, 9.0, 8.0, 9.0, 8.0, 0.0, 8.0, 0.0, 0.0, 0.0, 0.0, 8.0, 9.0, 8.0, 8.0, 0.0, 8.0, 0.0, 0.0, 0.0, 0.0, 0.0, 0.0, 0.0, 0.0, 0.0, 0.0, 0.0, 0.0, 0.0, 0.0, 0.0, 0.0, 0.0, 0.0, 0.0, 0.0, 0.0, 8.0, 0.0, 0.0, 0.0, 7.0, 7.0, 7.0, 7.0, 7.0, 8.0, 0.0, 0.0, 8.0, 7.0, 0.0, 0.0, 0.0, 0.0, 0.0, 8.0, 0.0, 10.0, 0.0, 8.0, 10.0, 10.0, 9.0, 9.0, 8.0, 0.0, 0.0, 0.0, 9.0, 0.0, 8.0, 9.0, 9.0, 8.0, 9.0, 9.0, 0.0, 8.0, 9.0, 0.0, 0.0, 0.0, 0.0, 8.0, 0.0, 0.0, 0.0, 9.0, 0.0, 0.0, 8.0, 8.0, 8.0, 9.0, 9.0, 0.0, 9.0, 0.0, 0.0, 0.0, 0.0, 8.0, 8.0, 8.0, 0.0, 0.0, 8.0, 0.0, 0.0, 0.0, 0.0, 8.0, 0.0, 0.0, 0.0, 0.0, 8.0, 0.0, 0.0, 0.0, 0.0, 0.0, 0.0, 0.0, 0.0, 0.0, 0.0, 0.0, 8.0, 7.0, 0.0, 0.0, 7.0, 7.0, 8.0, 7.0, 7.0, 7.0, 0.0, 0.0, 8.0, 7.0, 0.0, 0.0, 0.0, 0.0, 0.0, 8.0, 0.0, 10.0, 9.0, 9.0, 9.0, 10.0, 10.0, 9.0, 8.0, 0.0, 0.0, 0.0, 0.0, 0.0, 9.0, 8.0, 9.0, 8.0, 9.0, 0.0, 8.0, 9.0, 8.0, 0.0, 0.0, 0.0, 8.0, 9.0, 0.0, 0.0, 0.0, 8.0, 0.0, 0.0, 8.0, 0.0, 8.0, 8.0, 7.0, 0.0, 8.0, 0.0, 0.0, 0.0, 0.0, 8.0, 8.0, 9.0, 0.0, 0.0, 0.0, 0.0, 0.0, 0.0, 0.0, 0.0, 0.0, 0.0, 0.0, 0.0, 7.0, 0.0, 0.0, 0.0, 0.0, 0.0, 0.0, 0.0, 0.0, 0.0, 0.0, 0.0, 0.0, 7.0, 7.0, 7.0, 7.0, 7.0, 7.0, 7.0, 7.0, 7.0, 0.0, 8.0, 7.0, 7.0, 0.0, 0.0, 0.0, 0.0, 0.0, 8.0, 0.0, 9.0, 8.0, 8.0, 9.0, 9.0, 8.0, 9.0, 10.0, 0.0, 0.0, 0.0, 0.0, 0.0, 9.0, 9.0, 8.0, 8.0, 9.0, 8.0, 9.0, 8.0, 9.0, 0.0, 0.0, 8.0, 8.0, 8.0, 0.0, 0.0, 0.0, 8.0, 8.0, 8.0, 8.0, 8.0, 8.0, 8.0, 8.0, 0.0, 8.0, 0.0, 0.0, 0.0, 0.0, 8.0, 8.0, 8.0, 0.0, 0.0, 8.0, 0.0, 0.0, 0.0, 0.0, 0.0, 0.0, 0.0, 0.0, 0.0, 7.0, 0.0, 0.0, 0.0, 0.0, 0.0, 0.0, 0.0, 0.0, 0.0, 0.0, 0.0, 0.0, 7.0, 7.0, 7.0, 7.0, 7.0, 7.0, 7.0, 7.0, 7.0, 0.0, 8.0, 7.0, 7.0, 0.0, 0.0, 0.0, 0.0, 7.0, 6.0, 0.0, 0.0, 0.0, 0.0, 0.0, 8.0, 8.0, 9.0, 10.0, 0.0, 0.0, 0.0, 0.0, 0.0, 8.0, 8.0, 8.0, 0.0, 0.0, 8.0, 9.0, 8.0, 9.0, 0.0, 0.0, 0.0, 8.0, 8.0, 0.0, 0.0, 8.0, 8.0, 0.0, 8.0, 8.0, 8.0, 8.0, 8.0, 8.0, 0.0, 8.0, 0.0, 0.0, 0.0, 0.0, 8.0, 8.0, 8.0, 0.0, 0.0, 8.0, 0.0, 0.0, 0.0, 0.0, 0.0, 0.0, 0.0, 0.0, 0.0, 0.0, 0.0, 0.0, 0.0, 6.0, 0.0, 0.0, 0.0, 0.0, 0.0, 0.0, 0.0, 0.0, 6.0, 6.0, 6.0, 6.0, 7.0, 7.0, 7.0, 7.0, 7.0, 7.0, 7.0, 7.0, 7.0, 0.0, 0.0, 0.0, 0.0, 7.0, 7.0, 0.0, 0.0, 0.0, 8.0, 0.0, 8.0, 9.0, 9.0, 9.0, 0.0, 0.0, 0.0, 0.0, 0.0, 8.0, 8.0, 8.0, 0.0, 0.0, 8.0, 9.0, 8.0, 8.0, 0.0, 0.0, 8.0, 8.0, 8.0, 0.0, 0.0, 8.0, 0.0, 0.0, 8.0, 8.0, 8.0, 8.0, 8.0, 7.0, 0.0, 7.0, 0.0, 0.0, 0.0, 0.0, 8.0, 8.0, 8.0, 0.0, 0.0, 7.0, 0.0, 0.0, 0.0, 0.0, 0.0, 0.0, 0.0, 0.0, 0.0, 0.0, 0.0, 0.0, 0.0, 0.0, 0.0, 0.0, 0.0, 0.0, 0.0, 0.0, 0.0, 0.0, 6.0, 7.0, 7.0, 7.0, 7.0, 7.0, 7.0, 7.0, 7.0, 7.0, 7.0, 7.0, 6.0, 0.0, 0.0, 0.0, 0.0, 0.0, 7.0, 0.0, 10.0, 0.0, 9.0, 8.0, 0.0, 0.0, 9.0, 9.0, 0.0, 0.0, 0.0, 0.0, 0.0, 9.0, 9.0, 8.0, 0.0, 9.0, 8.0, 9.0, 8.0, 8.0, 0.0, 0.0, 8.0, 8.0, 8.0, 0.0, 0.0, 0.0, 8.0, 0.0, 0.0, 0.0, 0.0, 0.0, 8.0, 0.0, 0.0, 7.0, 0.0, 0.0, 0.0, 0.0, 8.0, 8.0, 8.0, 0.0, 0.0, 7.0, 0.0, 0.0, 0.0, 0.0, 0.0, 0.0, 0.0, 0.0, 0.0, 0.0, 0.0, 0.0, 7.0, 7.0, 0.0, 0.0, 0.0, 0.0, 0.0, 0.0, 0.0, 0.0, 7.0, 0.0, 6.0, 7.0, 7.0, 7.0, 7.0, 7.0, 7.0, 0.0, 7.0, 7.0, 7.0, 0.0, 0.0, 0.0, 0.0, 0.0, 7.0, 0.0, 10.0, 0.0, 9.0, 9.0, 0.0, 9.0, 10.0, 9.0, 0.0, 0.0, 0.0, 0.0, 0.0, 10.0, 9.0, 9.0, 0.0, 0.0, 8.0, 10.0, 9.0, 8.0, 0.0, 0.0, 0.0, 9.0, 9.0, 0.0, 0.0, 0.0, 9.0, 0.0, 8.0, 8.0, 8.0, 8.0, 8.0, 8.0, 0.0, 8.0, 0.0, 0.0, 0.0, 0.0, 8.0, 8.0, 9.0, 0.0, 0.0, 9.0, 0.0, 0.0, 0.0, 0.0, 8.0, 0.0, 0.0, 0.0, 0.0, 0.0, 0.0, 0.0, 0.0, 0.0, 0.0, 0.0, 0.0, 0.0, 0.0, 0.0, 0.0, 0.0, 6.0, 6.0, 6.0, 7.0, 7.0, 7.0, 7.0, 7.0, 7.0, 0.0, 7.0, 7.0, 7.0, 0.0, 0.0, 0.0, 0.0, 0.0, 0.0, 0.0, 0.0, 8.0, 8.0, 8.0, 8.0, 8.0, 9.0, 9.0, 0.0, 0.0, 0.0, 0.0, 0.0, 8.0, 8.0, 0.0, 0.0, 0.0, 8.0, 8.0, 8.0, 9.0, 0.0, 0.0, 8.0, 8.0, 8.0, 0.0, 0.0, 8.0, 0.0, 0.0, 8.0, 8.0, 0.0, 0.0, 8.0, 0.0, 0.0, 8.0, 0.0, 0.0, 0.0, 0.0, 8.0, 8.0, 0.0, 0.0, 0.0, 0.0, 0.0, 0.0, 0.0, 0.0, 0.0, 0.0, 0.0, 0.0, 0.0, 0.0, 0.0, 6.0, 6.0, 5.0, 0.0, 0.0, 0.0, 0.0, 0.0, 0.0, 0.0, 0.0, 5.0, 5.0, 5.0, 7.0, 7.0, 7.0, 7.0, 7.0, 7.0, 0.0, 7.0, 0.0, 6.0, 0.0, 5.0, 0.0, 0.0, 7.0, 7.0, 0.0, 9.0, 8.0, 9.0, 8.0, 0.0, 8.0, 9.0, 9.0, 0.0, 0.0, 0.0, 0.0, 0.0, 8.0, 8.0, 0.0, 0.0, 0.0, 8.0, 8.0, 8.0, 9.0, 0.0, 0.0, 0.0, 8.0, 8.0, 0.0, 0.0, 0.0, 8.0, 0.0, 0.0, 8.0, 0.0, 0.0, 8.0, 8.0, 0.0, 8.0, 0.0, 0.0, 0.0, 0.0, 8.0, 8.0, 8.0, 0.0, 0.0, 0.0, 0.0, 0.0, 0.0, 0.0, 0.0, 0.0, 0.0, 0.0, 0.0, 0.0, 0.0, 0.0, 7.0, 7.0, 0.0, 0.0, 0.0, 0.0, 0.0, 0.0, 0.0, 0.0, 7.0, 7.0, 7.0, 7.0, 7.0, 7.0, 7.0, 7.0, 7.0, 0.0, 7.0, 7.0, 7.0, 0.0, 0.0, 0.0, 0.0, 0.0, 7.0, 9.0, 10.0, 9.0, 8.0, 8.0, 8.0, 9.0, 9.0, 9.0, 0.0, 0.0, 0.0, 0.0, 0.0, 9.0, 9.0, 0.0, 0.0, 0.0, 8.0, 9.0, 9.0, 9.0, 0.0, 0.0, 0.0, 8.0, 8.0, 0.0, 0.0, 0.0, 8.0, 0.0, 0.0, 0.0, 0.0, 0.0, 8.0, 0.0, 0.0, 8.0, 0.0, 0.0, 0.0, 0.0, 8.0, 8.0, 9.0, 7.0, 0.0, 0.0, 0.0, 0.0, 0.0, 0.0, 8.0, 0.0, 0.0, 0.0, 0.0, 0.0, 0.0, 6.0, 7.0, 6.0, 0.0, 0.0, 0.0, 0.0, 0.0, 0.0, 0.0, 0.0, 6.0, 5.0, 6.0, 6.0, 7.0, 7.0, 7.0, 7.0, 7.0, 0.0, 0.0, 7.0, 7.0, 0.0, 0.0, 0.0, 0.0, 7.0, 0.0, 0.0, 10.0, 9.0, 0.0, 8.0, 0.0, 8.0, 9.0, 8.0, 0.0, 0.0, 0.0, 0.0, 0.0, 9.0, 9.0, 0.0, 0.0, 0.0, 8.0, 9.0, 9.0, 8.0, 0.0, 0.0, 0.0, 8.0, 9.0, 0.0, 0.0, 0.0, 8.0, 0.0, 8.0, 0.0, 0.0, 7.0, 7.0, 8.0, 0.0, 7.0, 0.0, 0.0, 0.0, 0.0, 0.0, 8.0, 8.0, 6.0, 0.0, 0.0, 0.0, 0.0, 0.0, 0.0, 8.0, 0.0, 0.0, 0.0, 0.0, 0.0, 0.0, 6.0, 0.0, 7.0, 0.0, 0.0, 0.0, 0.0, 0.0, 0.0, 0.0, 0.0, 6.0, 5.0, 6.0, 7.0, 7.0, 7.0, 7.0, 7.0, 7.0, 7.0, 7.0, 7.0, 0.0, 0.0, 0.0, 0.0, 0.0, 0.0, 6.0, 0.0, 10.0, 9.0, 9.0, 8.0, 0.0, 8.0, 8.0, 9.0, 0.0, 0.0, 0.0, 0.0, 0.0, 8.0, 8.0, 0.0, 0.0, 0.0, 0.0, 8.0, 8.0, 8.0, 0.0, 0.0, 0.0, 8.0, 8.0, 0.0, 0.0, 0.0, 8.0, 0.0, 0.0, 8.0, 0.0, 8.0, 8.0, 8.0, 0.0, 0.0, 0.0, 0.0, 0.0, 0.0, 8.0, 8.0, 8.0, 7.0, 0.0, 0.0, 0.0, 0.0, 0.0, 0.0, 0.0, 0.0, 0.0, 0.0, 0.0, 0.0, 0.0, 0.0, 6.0, 7.0, 0.0, 0.0, 0.0, 0.0, 0.0, 0.0, 0.0, 0.0, 7.0, 0.0, 7.0, 7.0, 7.0, 7.0, 7.0, 8.0, 7.0, 0.0, 8.0, 7.0, 7.0, 0.0, 0.0, 0.0, 0.0, 7.0, 7.0, 0.0, 10.0, 8.0, 9.0, 8.0, 8.0, 8.0, 10.0, 9.0, 0.0, 0.0, 0.0, 0.0, 0.0, 9.0, 9.0, 0.0, 0.0, 0.0, 8.0, 9.0, 8.0, 10.0, 0.0, 0.0, 8.0, 8.0, 8.0, 0.0, 0.0, 0.0, 8.0, 0.0, 0.0, 0.0, 0.0, 0.0, 8.0, 0.0, 0.0, 8.0, 0.0, 0.0, 0.0, 0.0, 0.0, 8.0, 0.0, 6.0, 0.0, 0.0, 0.0, 0.0, 0.0, 0.0, 8.0, 0.0, 0.0, 0.0, 0.0, 0.0, 0.0, 6.0, 6.0, 6.0, 0.0, 0.0, 0.0, 0.0, 0.0, 0.0, 0.0, 0.0, 5.0, 5.0, 7.0, 6.0, 7.0, 7.0, 7.0, 7.0, 7.0, 7.0, 7.0, 7.0, 7.0, 0.0, 0.0, 0.0, 0.0, 0.0, 0.0, 0.0, 9.0, 0.0, 8.0, 8.0, 8.0, 8.0, 9.0, 9.0, 0.0, 0.0, 0.0, 0.0, 0.0, 8.0, 9.0, 0.0, 0.0, 0.0, 8.0, 0.0, 8.0, 9.0, 0.0, 0.0, 8.0, 8.0, 8.0, 0.0, 0.0, 0.0, 8.0, 0.0, 8.0, 0.0, 0.0, 0.0, 8.0, 8.0, 0.0, 8.0, 0.0, 0.0, 0.0, 0.0, 8.0, 8.0, 7.0, 0.0, 0.0, 0.0, 0.0, 0.0, 0.0, 0.0, 8.0, 0.0, 0.0, 0.0, 0.0, 0.0, 0.0, 6.0, 6.0, 5.0, 0.0, 0.0, 0.0, 0.0, 0.0, 0.0, 0.0, 0.0, 5.0, 5.0, 5.0, 5.0, 7.0, 7.0, 7.0, 7.0, 7.0, 7.0, 7.0, 7.0, 6.0, 0.0, 0.0, 0.0, 0.0, 7.0, 0.0, 10.0, 9.0, 8.0, 9.0, 9.0, 10.0, 10.0, 10.0, 9.0, 8.0, 0.0, 0.0, 0.0, 0.0, 10.0, 10.0, 0.0, 0.0, 0.0, 9.0, 9.0, 9.0, 9.0, 0.0, 0.0, 8.0, 8.0, 8.0, 0.0, 0.0, 0.0, 8.0, 0.0, 0.0, 8.0, 0.0, 8.0, 8.0, 0.0, 0.0, 8.0, 0.0, 0.0, 0.0, 0.0, 8.0, 8.0, 8.0, 0.0, 0.0, 0.0, 0.0, 0.0, 0.0, 0.0, 8.0, 0.0, 0.0, 0.0, 0.0, 7.0, 7.0, 6.0, 6.0, 7.0, 6.0, 0.0, 0.0, 0.0, 0.0, 0.0, 0.0, 0.0, 6.0, 5.0, 6.0, 6.0, 6.0, 6.0, 6.0, 7.0, 7.0, 7.0, 7.0, 7.0, 6.0, 5.0, 0.0, 0.0, 0.0, 6.0, 7.0, 0.0, 10.0, 8.0, 7.0, 9.0, 0.0, 9.0, 9.0, 9.0, 0.0, 0.0, 0.0, 0.0, 0.0, 9.0, 9.0, 0.0, 0.0, 0.0, 8.0, 9.0, 9.0, 10.0, 0.0, 0.0, 0.0, 8.0, 9.0, 0.0, 0.0, 8.0, 8.0, 0.0, 8.0, 8.0, 0.0, 8.0, 8.0, 0.0, 0.0, 8.0, 0.0, 0.0, 0.0, 0.0, 8.0, 8.0, 8.0, 6.0, 0.0, 0.0, 0.0, 0.0, 0.0, 0.0, 8.0, 0.0, 0.0, 0.0, 0.0, 0.0, 0.0, 0.0, 7.0, 6.0, 0.0, 0.0, 0.0, 0.0, 0.0, 0.0, 0.0, 0.0, 6.0, 5.0, 6.0, 7.0, 7.0, 6.0, 7.0, 7.0, 7.0, 0.0, 7.0, 7.0, 7.0, 0.0, 0.0, 0.0, 0.0, 0.0, 7.0, 10.0, 10.0, 8.0, 9.0, 9.0, 9.0, 10.0, 10.0, 9.0, 9.0, 0.0, 0.0, 0.0, 0.0, 10.0, 10.0, 0.0, 0.0, 0.0, 8.0, 8.0, 9.0, 9.0, 0.0, 0.0, 7.0, 8.0, 8.0, 0.0, 0.0, 8.0, 8.0, 0.0, 8.0, 8.0, 8.0, 7.0, 7.0, 0.0, 0.0, 8.0, 0.0, 0.0, 0.0, 0.0, 8.0, 8.0, 8.0, 0.0, 0.0, 0.0, 0.0, 0.0, 0.0, 0.0, 7.0, 0.0, 0.0, 0.0, 0.0, 7.0, 6.0, 6.0, 6.0, 6.0, 0.0, 0.0, 0.0, 0.0, 0.0, 0.0, 0.0, 0.0, 6.0, 6.0, 6.0, 6.0, 4.0, 4.0, 4.0, 4.0, 7.0, 7.0, 7.0, 7.0, 5.0, 0.0, 10.0, 0.0, 0.0, 0.0, 7.0, 9.0, 9.0, 7.0, 8.0, 9.0, 9.0, 9.0, 10.0, 9.0, 8.0, 0.0, 0.0, 0.0, 0.0, 8.0, 9.0, 0.0, 0.0, 8.0, 8.0, 8.0, 9.0, 9.0, 0.0, 0.0, 7.0, 7.0, 7.0, 0.0, 0.0, 8.0, 9.0, 0.0, 8.0, 8.0, 8.0, 7.0, 7.0, 0.0, 0.0, 7.0, 0.0, 0.0, 0.0, 0.0, 9.0, 7.0, 8.0, 0.0, 0.0, 0.0, 0.0, 0.0, 0.0, 0.0, 8.0, 0.0, 0.0, 0.0, 0.0, 7.0, 6.0, 6.0, 5.0, 6.0, 6.0, 0.0, 0.0, 0.0, 0.0, 0.0, 0.0, 0.0, 5.0, 5.0, 5.0, 5.0, 6.0, 6.0, 6.0, 5.0, 7.0, 6.0, 7.0, 7.0, 7.0, 5.0, 0.0, 0.0, 0.0, 0.0, 6.0, 8.0, 9.0, 8.0, 7.0, 7.0, 0.0, 8.0, 9.0, 8.0, 0.0, 0.0, 0.0, 0.0, 0.0, 8.0, 8.0, 0.0, 0.0, 0.0, 8.0, 7.0, 7.0, 7.0, 0.0, 0.0, 7.0, 8.0, 7.0, 0.0, 0.0, 8.0, 7.0, 0.0, 8.0, 8.0, 8.0, 6.0, 7.0, 0.0, 0.0, 7.0, 0.0, 0.0, 0.0, 0.0, 8.0, 8.0, 0.0, 0.0, 0.0, 0.0, 0.0, 0.0, 0.0, 0.0, 8.0, 0.0, 0.0, 0.0, 0.0, 7.0, 7.0, 7.0, 6.0, 5.0, 0.0, 0.0, 0.0, 0.0, 6.0, 0.0, 0.0, 0.0, 7.0, 6.0, 5.0, 7.0, 5.0, 5.0, 5.0, 5.0, 7.0, 7.0, 7.0, 7.0, 5.0, 0.0, 0.0, 0.0, 0.0, 0.0, 6.0, 8.0, 10.0, 8.0, 8.0, 0.0, 7.0, 10.0, 10.0, 9.0, 0.0, 0.0, 0.0, 0.0, 0.0, 8.0, 10.0, 0.0, 0.0, 0.0, 8.0, 9.0, 9.0, 9.0, 0.0, 0.0, 9.0, 8.0, 7.0, 0.0, 0.0, 0.0, 8.0, 0.0, 0.0, 0.0, 8.0, 0.0, 8.0, 0.0, 0.0, 8.0, 0.0, 0.0, 0.0, 0.0, 0.0, 8.0, 0.0, 0.0, 0.0, 0.0, 0.0, 0.0, 0.0, 0.0, 8.0, 0.0, 0.0, 0.0, 0.0, 0.0, 7.0, 0.0, 7.0, 6.0, 0.0, 0.0, 0.0, 0.0, 5.0, 0.0, 0.0, 0.0, 7.0, 5.0, 5.0, 7.0, 6.0, 6.0, 8.0, 7.0, 7.0, 7.0, 7.0, 7.0, 5.0, 0.0, 0.0, 0.0, 0.0, 0.0, 6.0, 9.0, 9.0, 8.0, 8.0, 8.0, 7.0, 9.0, 10.0, 9.0, 0.0, 0.0, 0.0, 0.0, 0.0, 9.0, 9.0, 0.0, 0.0, 0.0, 8.0, 8.0, 8.0, 9.0, 0.0, 0.0, 8.0, 8.0, 8.0, 0.0, 0.0, 9.0, 8.0, 0.0, 8.0, 8.0, 8.0, 8.0, 8.0, 0.0, 0.0, 8.0, 0.0, 0.0, 0.0, 0.0, 0.0, 8.0, 0.0, 7.0, 0.0, 0.0, 0.0, 0.0, 0.0, 8.0, 8.0, 0.0, 0.0, 0.0, 0.0, 7.0, 7.0, 0.0, 7.0, 6.0, 0.0, 0.0, 0.0, 0.0, 6.0, 0.0, 0.0, 0.0, 7.0, 6.0, 7.0, 7.0, 7.0, 7.0, 7.0, 7.0, 7.0, 7.0, 7.0, 7.0, 5.0, 0.0, 0.0, 6.0, 0.0, 0.0, 7.0, 7.0, 9.0, 8.0, 8.0, 8.0, 7.0, 10.0, 10.0, 9.0, 0.0, 0.0, 0.0, 0.0, 0.0, 9.0, 8.0, 0.0, 0.0, 0.0, 8.0, 8.0, 8.0, 8.0, 7.0, 10.0, 10.0, 8.0, 8.0, 0.0, 0.0, 7.0, 8.0, 0.0, 8.0, 0.0, 8.0, 8.0, 8.0, 0.0, 0.0, 8.0, 0.0, 0.0, 0.0, 0.0, 8.0, 8.0, 0.0, 6.0, 0.0, 0.0, 0.0, 0.0, 0.0, 7.0, 8.0, 0.0, 0.0, 0.0, 0.0, 7.0, 7.0, 6.0, 6.0, 6.0, 0.0, 0.0, 0.0, 0.0, 5.0, 0.0, 0.0, 5.0, 6.0, 5.0, 5.0, 7.0, 7.0, 7.0, 7.0, 7.0, 7.0, 7.0, 7.0, 6.0, 5.0, 0.0, 0.0, 6.0, 0.0, 0.0, 7.0, 9.0, 10.0, 8.0, 8.0, 8.0, 0.0, 9.0, 10.0, 9.0, 0.0, 0.0, 0.0, 0.0, 0.0, 9.0, 9.0, 0.0, 0.0, 0.0, 8.0, 8.0, 8.0, 8.0, 0.0, 0.0, 8.0, 8.0, 8.0, 0.0, 0.0, 8.0, 8.0, 0.0, 8.0, 8.0, 0.0, 8.0, 8.0, 0.0, 0.0, 8.0, 0.0, 0.0, 8.0, 0.0, 8.0, 8.0, 0.0, 0.0, 0.0, 0.0, 0.0, 0.0, 0.0, 8.0, 8.0, 0.0, 7.0, 0.0, 0.0, 7.0, 7.0, 7.0, 7.0, 7.0, 0.0, 0.0, 0.0, 0.0, 6.0, 0.0, 0.0, 0.0, 7.0, 6.0, 7.0, 7.0, 7.0, 7.0, 7.0, 7.0, 7.0, 7.0, 7.0, 7.0, 7.0, 0.0, 0.0, 0.0, 0.0, 7.0, 7.0, 9.0, 10.0, 9.0, 8.0, 8.0, 9.0, 10.0, 10.0, 9.0, 0.0, 0.0, 0.0, 0.0, 0.0, 10.0, 10.0, 0.0, 0.0, 0.0, 9.0, 9.0, 9.0, 9.0, 0.0, 0.0, 8.0, 8.0, 8.0, 0.0, 0.0, 9.0, 8.0, 0.0, 8.0, 8.0, 8.0, 7.0, 7.0, 0.0, 0.0, 7.0, 0.0, 0.0, 0.0, 0.0, 0.0, 9.0, 8.0, 0.0, 0.0, 0.0, 0.0, 0.0, 0.0, 0.0, 8.0, 0.0, 0.0, 0.0, 0.0, 0.0, 7.0, 6.0, 5.0, 7.0, 0.0, 0.0, 0.0, 0.0, 0.0, 0.0, 0.0, 0.0, 6.0, 6.0, 6.0, 6.0, 6.0, 10.0, 6.0, 6.0, 7.0, 7.0, 7.0, 7.0, 6.0, 0.0, 0.0, 0.0, 0.0, 0.0, 0.0, 9.0, 10.0, 10.0, 8.0, 9.0, 0.0, 0.0, 9.0, 10.0, 0.0, 0.0, 0.0, 0.0, 0.0, 9.0, 10.0, 0.0, 0.0, 0.0, 8.0, 9.0, 9.0, 9.0, 0.0, 0.0, 8.0, 8.0, 9.0, 0.0, 0.0, 0.0, 8.0, 0.0, 8.0, 8.0, 8.0, 7.0, 9.0, 0.0, 0.0, 8.0, 0.0, 0.0, 0.0, 0.0, 0.0, 8.0, 8.0, 8.0, 0.0, 0.0, 0.0, 0.0, 0.0, 0.0, 0.0, 0.0, 0.0, 0.0, 0.0, 0.0, 0.0, 7.0, 0.0, 7.0, 0.0, 0.0, 0.0, 0.0, 0.0, 0.0, 0.0, 0.0, 7.0, 7.0, 7.0, 7.0, 7.0, 7.0, 7.0, 8.0, 7.0, 0.0, 7.0, 7.0, 7.0, 0.0, 0.0, 0.0, 0.0, 0.0, 0.0, 10.0, 10.0, 9.0, 9.0, 9.0, 0.0, 10.0, 10.0, 9.0, 0.0, 0.0, 0.0, 0.0, 0.0, 10.0, 10.0, 0.0, 0.0, 0.0, 9.0, 9.0, 9.0, 10.0, 0.0, 0.0, 9.0, 9.0, 9.0, 0.0, 0.0, 9.0, 9.0, 0.0, 9.0, 8.0, 8.0, 0.0, 8.0, 0.0, 0.0, 8.0, 0.0, 0.0, 0.0, 0.0, 0.0, 9.0, 8.0, 0.0, 0.0, 0.0, 0.0, 0.0, 0.0, 0.0, 8.0, 0.0, 0.0, 0.0, 0.0, 0.0, 7.0, 7.0, 7.0, 6.0, 0.0, 0.0, 0.0, 0.0, 0.0, 0.0, 0.0, 0.0, 6.0, 6.0, 7.0, 6.0, 7.0, 7.0, 7.0, 7.0, 7.0, 8.0, 8.0, 8.0, 0.0, 0.0, 0.0, 0.0, 0.0, 7.0, 7.0, 8.0, 8.0, 8.0, 8.0, 8.0, 8.0, 10.0, 10.0, 9.0, 0.0, 0.0, 0.0, 0.0, 0.0, 8.0, 8.0, 0.0, 0.0, 0.0, 8.0, 8.0, 8.0, 8.0, 0.0, 0.0, 8.0, 8.0, 8.0, 0.0, 0.0, 7.0, 8.0, 0.0, 0.0, 8.0, 8.0, 8.0, 7.0, 0.0, 0.0, 8.0, 0.0, 0.0, 7.0, 0.0, 8.0, 8.0, 0.0, 6.0, 0.0, 0.0, 0.0, 0.0, 0.0, 8.0, 8.0, 0.0, 0.0, 0.0, 0.0, 7.0, 6.0, 6.0, 6.0, 6.0, 0.0, 0.0, 0.0, 0.0, 6.0, 0.0, 0.0, 0.0, 6.0, 5.0, 5.0, 5.0, 7.0, 7.0, 7.0, 7.0, 7.0, 0.0, 7.0, 6.0, 5.0, 0.0, 6.0, 6.0, 0.0, 7.0, 7.0, 10.0, 10.0, 9.0, 9.0, 9.0, 10.0, 9.0, 9.0, 9.0, 0.0, 0.0, 0.0, 0.0, 0.0, 9.0, 9.0, 9.0, 8.0, 8.0, 8.0, 8.0, 9.0, 10.0, 0.0, 0.0, 0.0, 8.0, 0.0, 0.0, 0.0, 0.0, 8.0, 8.0, 0.0, 8.0, 0.0, 8.0, 8.0, 8.0, 0.0, 8.0, 0.0, 0.0, 0.0, 8.0, 8.0, 8.0, 8.0, 0.0, 0.0, 8.0, 0.0, 0.0, 0.0, 0.0, 0.0, 0.0, 0.0, 0.0, 0.0, 8.0, 0.0, 0.0, 0.0, 0.0, 0.0, 0.0, 0.0, 0.0, 0.0, 0.0, 0.0, 8.0, 7.0, 7.0, 0.0, 8.0, 8.0, 8.0, 8.0, 8.0, 8.0, 0.0, 0.0, 8.0, 7.0, 0.0, 0.0, 0.0, 0.0, 0.0, 8.0, 9.0, 10.0, 8.0, 10.0, 9.0, 10.0, 10.0, 8.0, 9.0, 0.0, 0.0, 0.0, 0.0, 0.0, 9.0, 9.0, 9.0, 8.0, 9.0, 0.0, 9.0, 9.0, 9.0, 0.0, 0.0, 7.0, 8.0, 9.0, 0.0, 0.0, 0.0, 9.0, 8.0, 0.0, 8.0, 0.0, 7.0, 9.0, 9.0, 0.0, 9.0, 0.0, 0.0, 0.0, 0.0, 8.0, 8.0, 8.0, 0.0, 0.0, 8.0, 0.0, 0.0, 0.0, 0.0, 0.0, 0.0, 0.0, 0.0, 0.0, 8.0, 0.0, 0.0, 0.0, 0.0, 0.0, 0.0, 0.0, 0.0, 0.0, 0.0, 0.0, 0.0, 7.0, 7.0, 0.0, 7.0, 7.0, 7.0, 6.0, 7.0, 7.0, 0.0, 0.0, 7.0, 7.0, 0.0, 0.0, 0.0, 0.0, 0.0, 0.0, 9.0, 0.0, 9.0, 10.0, 10.0, 10.0, 10.0, 8.0, 9.0, 0.0, 0.0, 0.0, 0.0, 0.0, 10.0, 10.0, 9.0, 8.0, 9.0, 8.0, 9.0, 9.0, 9.0, 0.0, 0.0, 0.0, 8.0, 9.0, 0.0, 0.0, 0.0, 8.0, 0.0, 0.0, 8.0, 0.0, 8.0, 8.0, 8.0, 0.0, 8.0, 0.0, 0.0, 0.0, 0.0, 8.0, 8.0, 8.0, 0.0, 0.0, 8.0, 0.0, 0.0, 0.0, 0.0, 0.0, 0.0, 0.0, 0.0, 0.0, 0.0, 0.0, 0.0, 0.0, 0.0, 0.0, 0.0, 0.0, 0.0, 0.0, 0.0, 0.0, 0.0, 7.0, 7.0, 7.0, 7.0, 7.0, 7.0, 7.0, 7.0, 7.0, 0.0, 8.0, 7.0, 7.0, 0.0, 0.0, 0.0, 0.0, 0.0, 8.0, 9.0, 10.0, 9.0, 9.0, 8.0, 9.0, 9.0, 9.0, 9.0, 0.0, 0.0, 0.0, 0.0, 0.0, 8.0, 9.0, 8.0, 0.0, 8.0, 8.0, 8.0, 9.0, 9.0, 0.0, 0.0, 7.0, 8.0, 8.0, 0.0, 0.0, 0.0, 8.0, 0.0, 0.0, 8.0, 0.0, 8.0, 8.0, 8.0, 0.0, 8.0, 0.0, 0.0, 0.0, 0.0, 8.0, 8.0, 8.0, 8.0, 0.0, 0.0, 0.0, 0.0, 0.0, 0.0, 0.0, 0.0, 0.0, 0.0, 0.0, 8.0, 0.0, 0.0, 7.0, 7.0, 0.0, 0.0, 0.0, 0.0, 0.0, 0.0, 0.0, 0.0, 7.0, 7.0, 7.0, 7.0, 7.0, 7.0, 7.0, 7.0, 8.0, 7.0, 0.0, 8.0, 7.0, 0.0, 0.0, 0.0, 0.0, 0.0, 8.0, 9.0, 9.0, 9.0, 8.0, 7.0, 7.0, 8.0, 9.0, 8.0, 0.0, 0.0, 0.0, 0.0, 0.0, 9.0, 9.0, 8.0, 9.0, 7.0, 8.0, 8.0, 8.0, 8.0, 0.0, 0.0, 8.0, 9.0, 0.0, 0.0, 0.0, 8.0, 9.0, 0.0, 0.0, 8.0, 0.0, 8.0, 8.0, 8.0, 0.0, 0.0, 0.0, 0.0, 0.0, 0.0, 8.0, 8.0, 8.0, 8.0, 7.0, 0.0, 0.0, 0.0, 0.0, 0.0, 0.0, 0.0, 0.0, 0.0, 0.0, 6.0, 0.0, 0.0, 7.0, 7.0, 7.0, 0.0, 0.0, 0.0, 0.0, 0.0, 0.0, 7.0, 6.0, 7.0, 6.0, 7.0, 7.0, 6.0, 6.0, 6.0, 8.0, 0.0, 0.0, 8.0, 7.0, 7.0, 6.0, 7.0, 7.0, 6.0, 0.0, 9.0, 10.0, 10.0, 10.0, 9.0, 10.0, 10.0, 10.0, 9.0, 0.0, 0.0, 0.0, 0.0, 0.0, 9.0, 10.0, 9.0, 0.0, 9.0, 9.0, 9.0, 9.0, 9.0, 0.0, 0.0, 8.0, 8.0, 9.0, 0.0, 0.0, 0.0, 8.0, 0.0, 0.0, 8.0, 0.0, 8.0, 8.0, 8.0, 0.0, 7.0, 0.0, 0.0, 0.0, 0.0, 8.0, 9.0, 8.0, 0.0, 0.0, 7.0, 0.0, 0.0, 0.0, 0.0, 0.0, 0.0, 0.0, 0.0, 0.0, 7.0, 7.0, 7.0, 7.0, 7.0, 0.0, 0.0, 0.0, 0.0, 0.0, 0.0, 0.0, 0.0, 6.0, 6.0, 6.0, 7.0, 7.0, 7.0, 7.0, 7.0, 7.0, 7.0, 0.0, 7.0, 7.0, 0.0, 0.0, 0.0, 0.0, 0.0, 8.0, 0.0, 10.0, 9.0, 9.0, 8.0, 10.0, 10.0, 9.0, 8.0, 0.0, 0.0, 0.0, 0.0, 0.0, 9.0, 10.0, 8.0, 0.0, 0.0, 9.0, 8.0, 9.0, 8.0, 0.0, 0.0, 8.0, 8.0, 7.0, 0.0, 0.0, 0.0, 8.0, 0.0, 8.0, 8.0, 0.0, 7.0, 7.0, 7.0, 0.0, 7.0, 0.0, 0.0, 0.0, 0.0, 8.0, 9.0, 8.0, 0.0, 0.0, 7.0, 0.0, 0.0, 0.0, 0.0, 0.0, 0.0, 0.0, 0.0, 0.0, 7.0, 0.0, 7.0, 0.0, 7.0, 0.0, 0.0, 0.0, 0.0, 0.0, 0.0, 0.0, 0.0, 6.0, 6.0, 6.0, 6.0, 7.0, 6.0, 6.0, 8.0, 9.0, 8.0, 0.0, 8.0, 7.0, 7.0, 0.0, 0.0, 0.0, 0.0, 0.0, 9.0, 10.0, 10.0, 9.0, 8.0, 8.0, 10.0, 10.0, 9.0, 9.0, 0.0, 0.0, 0.0, 0.0, 9.0, 9.0, 9.0, 0.0, 0.0, 9.0, 9.0, 9.0, 9.0, 0.0, 0.0, 9.0, 9.0, 9.0, 0.0, 0.0, 0.0, 8.0, 0.0, 0.0, 8.0, 8.0, 7.0, 8.0, 7.0, 0.0, 8.0, 0.0, 0.0, 0.0, 0.0, 8.0, 8.0, 8.0, 8.0, 0.0, 0.0, 0.0, 0.0, 0.0, 0.0, 0.0, 0.0, 0.0, 0.0, 0.0, 7.0, 7.0, 7.0, 8.0, 7.0, 7.0, 0.0, 0.0, 0.0, 0.0, 0.0, 0.0, 7.0, 7.0, 7.0, 7.0, 7.0, 7.0, 7.0, 7.0, 8.0, 7.0, 7.0, 7.0, 7.0, 0.0, 0.0, 0.0, 0.0, 0.0, 7.0, 8.0, 9.0, 9.0, 10.0, 8.0, 8.0, 7.0, 10.0, 9.0, 8.0, 8.0, 0.0, 0.0, 0.0, 0.0, 9.0, 9.0, 9.0, 0.0, 7.0, 8.0, 8.0, 9.0, 9.0, 0.0, 0.0, 8.0, 8.0, 7.0, 0.0, 0.0, 0.0, 8.0, 0.0, 0.0, 8.0, 8.0, 0.0, 8.0, 0.0, 0.0, 8.0, 0.0, 0.0, 0.0, 0.0, 8.0, 8.0, 8.0, 0.0, 6.0, 8.0, 0.0, 0.0, 0.0, 0.0, 0.0, 0.0, 0.0, 0.0, 0.0, 0.0, 0.0, 6.0, 6.0, 5.0, 5.0, 0.0, 0.0, 0.0, 0.0, 0.0, 0.0, 6.0, 5.0, 6.0, 4.0, 7.0, 6.0, 5.0, 6.0, 6.0, 7.0, 7.0, 7.0, 7.0, 6.0, 0.0, 0.0, 7.0, 5.0, 6.0, 0.0, 9.0, 10.0, 9.0, 10.0, 9.0, 0.0, 9.0, 9.0, 9.0, 0.0, 0.0, 0.0, 0.0, 0.0, 9.0, 10.0, 0.0, 0.0, 0.0, 8.0, 8.0, 9.0, 9.0, 0.0, 0.0, 9.0, 8.0, 9.0, 0.0, 0.0, 8.0, 8.0, 0.0, 8.0, 8.0, 8.0, 8.0, 8.0, 0.0, 0.0, 7.0, 0.0, 0.0, 0.0, 0.0, 0.0, 8.0, 8.0, 0.0, 0.0, 0.0, 0.0, 0.0, 0.0, 0.0, 0.0, 0.0, 0.0, 0.0, 0.0, 0.0, 0.0, 7.0, 7.0, 7.0, 0.0, 0.0, 0.0, 0.0, 0.0, 0.0, 0.0, 0.0, 7.0, 7.0, 7.0, 7.0, 7.0, 7.0, 7.0, 7.0, 7.0, 0.0, 7.0, 7.0, 0.0, 0.0, 0.0, 0.0, 0.0, 7.0, 0.0, 10.0, 10.0, 9.0, 8.0, 8.0, 9.0, 10.0, 10.0, 9.0, 8.0, 0.0, 0.0, 0.0, 0.0, 10.0, 10.0, 0.0, 0.0, 0.0, 8.0, 8.0, 9.0, 9.0, 0.0, 0.0, 9.0, 8.0, 7.0, 0.0, 0.0, 8.0, 8.0, 0.0, 8.0, 8.0, 0.0, 7.0, 7.0, 0.0, 0.0, 7.0, 0.0, 0.0, 0.0, 0.0, 0.0, 8.0, 8.0, 8.0, 0.0, 0.0, 0.0, 0.0, 0.0, 0.0, 0.0, 0.0, 0.0, 0.0, 0.0, 0.0, 7.0, 7.0, 7.0, 7.0, 0.0, 0.0, 0.0, 0.0, 0.0, 0.0, 0.0, 0.0, 6.0, 6.0, 6.0, 6.0, 7.0, 6.0, 6.0, 6.0, 7.0, 7.0, 0.0, 7.0, 0.0, 0.0, 0.0, 0.0, 0.0, 7.0, 0.0, 10.0, 10.0, 9.0, 8.0, 9.0, 10.0, 10.0, 10.0, 9.0, 9.0, 0.0, 0.0, 0.0, 0.0, 10.0, 10.0, 10.0, 0.0, 0.0, 9.0, 10.0, 10.0, 10.0, 0.0, 0.0, 8.0, 8.0, 8.0, 0.0, 0.0, 9.0, 9.0, 0.0, 8.0, 8.0, 8.0, 7.0, 8.0, 0.0, 0.0, 7.0, 0.0, 0.0, 0.0, 0.0, 0.0, 9.0, 9.0, 0.0, 0.0, 0.0, 0.0, 0.0, 0.0, 0.0, 8.0, 0.0, 0.0, 0.0, 0.0, 0.0, 7.0, 6.0, 7.0, 7.0, 0.0, 0.0, 0.0, 0.0, 0.0, 0.0, 0.0, 0.0, 6.0, 6.0, 7.0, 6.0, 6.0, 7.0, 7.0, 7.0, 8.0, 8.0, 0.0, 8.0, 7.0, 6.0, 0.0, 0.0, 0.0, 0.0, 8.0, 9.0, 10.0, 8.0, 9.0, 9.0, 0.0, 9.0, 9.0, 9.0, 8.0, 0.0, 0.0, 0.0, 0.0, 9.0, 10.0, 0.0, 0.0, 0.0, 8.0, 8.0, 8.0, 9.0, 0.0, 8.0, 8.0, 8.0, 8.0, 0.0, 0.0, 8.0, 8.0, 0.0, 8.0, 8.0, 8.0, 8.0, 8.0, 0.0, 0.0, 8.0, 0.0, 0.0, 0.0, 0.0, 8.0, 8.0, 8.0, 0.0, 0.0, 0.0, 0.0, 0.0, 0.0, 0.0, 8.0, 0.0, 0.0, 0.0, 0.0, 0.0, 7.0, 7.0, 7.0, 7.0, 0.0, 0.0, 0.0, 0.0, 0.0, 0.0, 0.0, 0.0, 7.0, 6.0, 6.0, 7.0, 7.0, 6.0, 8.0, 8.0, 7.0, 7.0, 0.0, 7.0, 0.0, 0.0, 0.0, 0.0, 0.0, 7.0, 0.0, 0.0, 10.0, 8.0, 7.0, 9.0, 8.0, 10.0, 10.0, 10.0, 9.0, 0.0, 0.0, 0.0, 0.0, 9.0, 10.0, 9.0, 0.0, 0.0, 8.0, 7.0, 9.0, 9.0, 0.0, 0.0, 7.0, 8.0, 9.0, 0.0, 0.0, 9.0, 8.0, 0.0, 8.0, 8.0, 0.0, 0.0, 8.0, 0.0, 0.0, 8.0, 0.0, 0.0, 0.0, 0.0, 8.0, 8.0, 8.0, 0.0, 0.0, 0.0, 0.0, 0.0, 0.0, 0.0, 8.0, 0.0, 0.0, 0.0, 0.0, 7.0, 7.0, 6.0, 6.0, 7.0, 6.0, 0.0, 0.0, 0.0, 0.0, 0.0, 0.0, 0.0, 7.0, 6.0, 6.0, 6.0, 6.0, 7.0, 6.0, 7.0, 6.0, 7.0, 0.0, 7.0, 0.0, 5.0, 0.0, 0.0, 0.0, 7.0, 7.0, 10.0, 10.0, 8.0, 9.0, 8.0, 0.0, 10.0, 10.0, 10.0, 0.0, 0.0, 0.0, 0.0, 0.0, 10.0, 10.0, 0.0, 0.0, 0.0, 8.0, 8.0, 9.0, 9.0, 0.0, 0.0, 9.0, 8.0, 7.0, 0.0, 0.0, 9.0, 8.0, 0.0, 8.0, 8.0, 0.0, 8.0, 8.0, 0.0, 0.0, 8.0, 0.0, 0.0, 0.0, 0.0, 8.0, 8.0, 8.0, 0.0, 0.0, 0.0, 0.0, 0.0, 0.0, 0.0, 8.0, 0.0, 0.0, 0.0, 0.0, 7.0, 7.0, 7.0, 7.0, 0.0, 0.0, 0.0, 0.0, 0.0, 0.0, 0.0, 0.0, 0.0, 7.0, 6.0, 6.0, 7.0, 7.0, 7.0, 6.0, 7.0, 7.0, 7.0, 7.0, 7.0, 7.0, 0.0, 0.0, 0.0, 0.0, 7.0, 0.0]\n",
            "[0.0, 0.0, 0.0, 9.0, 9.0, 0.0, 0.0, 8.0, 0.0, 8.0, 0.0, 0.0, 0.0, 9.0, 8.0, 0.0, 9.0, 9.0, 9.0, 9.0, 8.0, 8.0, 0.0, 0.0, 0.0, 0.0, 0.0, 8.0, 9.0, 0.0, 8.0, 9.0, 9.0, 9.0, 8.0, 8.0, 7.0, 8.0, 8.0, 7.0, 7.0, 9.0, 7.0, 8.0, 8.0, 9.0, 7.0, 8.0, 8.0, 7.0, 8.0, 9.0, 8.0, 8.0, 9.0, 7.0, 8.0, 8.0, 8.0, 7.0, 8.0, 0.0, 8.0, 7.0, 7.0, 8.0, 9.0, 9.0, 8.0, 7.0, 7.0, 7.0, 8.0, 8.0, 7.0, 8.0, 7.0, 7.0, 0.0, 0.0, 7.0, 6.0, 0.0, 7.0, 7.0, 7.0, 0.0, 0.0, 7.0, 7.0, 7.0, 0.0, 0.0, 0.0, 8.0, 9.0, 0.0, 0.0, 0.0, 0.0, 0.0, 0.0, 0.0, 9.0, 9.0, 9.0, 0.0, 9.0, 0.0, 9.0, 9.0, 9.0, 9.0, 8.0, 8.0, 9.0, 9.0, 9.0, 9.0, 9.0, 9.0, 9.0, 0.0, 9.0, 0.0, 8.0, 8.0, 8.0, 7.0, 7.0, 8.0, 8.0, 8.0, 8.0, 8.0, 7.0, 7.0, 7.0, 7.0, 8.0, 8.0, 7.0, 8.0, 6.0, 6.0, 7.0, 7.0, 7.0, 8.0, 7.0, 7.0, 7.0, 0.0, 7.0, 7.0, 8.0, 7.0, 7.0, 7.0, 7.0, 7.0, 7.0, 7.0, 7.0, 7.0, 7.0, 7.0, 7.0, 8.0, 0.0, 0.0, 6.0, 0.0, 0.0, 7.0, 7.0, 7.0, 7.0, 7.0, 7.0, 7.0, 7.0, 8.0, 0.0, 0.0, 8.0, 9.0, 0.0, 0.0, 0.0, 0.0, 0.0, 0.0, 0.0, 8.0, 9.0, 9.0, 0.0, 8.0, 0.0, 9.0, 9.0, 9.0, 9.0, 8.0, 8.0, 8.0, 8.0, 9.0, 9.0, 9.0, 8.0, 9.0, 0.0, 9.0, 0.0, 8.0, 8.0, 8.0, 7.0, 7.0, 7.0, 8.0, 8.0, 8.0, 7.0, 7.0, 7.0, 7.0, 7.0, 8.0, 8.0, 7.0, 0.0, 6.0, 6.0, 7.0, 7.0, 8.0, 8.0, 7.0, 7.0, 8.0, 0.0, 7.0, 7.0, 8.0, 7.0, 8.0, 0.0, 7.0, 8.0, 7.0, 7.0, 7.0, 7.0, 7.0, 7.0, 7.0, 8.0, 0.0, 0.0, 6.0, 7.0, 0.0, 7.0, 7.0, 7.0, 7.0, 7.0, 7.0, 7.0, 7.0, 8.0, 0.0, 0.0, 8.0, 9.0, 0.0, 0.0, 8.0, 0.0, 0.0, 0.0, 0.0, 9.0, 9.0, 9.0, 0.0, 9.0, 8.0, 8.0, 9.0, 9.0, 9.0, 8.0, 8.0, 8.0, 8.0, 9.0, 9.0, 9.0, 9.0, 9.0, 0.0, 9.0, 0.0, 7.0, 8.0, 8.0, 7.0, 8.0, 8.0, 8.0, 8.0, 8.0, 8.0, 7.0, 7.0, 7.0, 8.0, 8.0, 8.0, 8.0, 7.0, 6.0, 7.0, 7.0, 8.0, 8.0, 9.0, 8.0, 8.0, 8.0, 0.0, 6.0, 7.0, 8.0, 7.0, 8.0, 7.0, 7.0, 8.0, 7.0, 8.0, 7.0, 8.0, 8.0, 7.0, 7.0, 8.0, 0.0, 0.0, 6.0, 0.0, 0.0, 7.0, 7.0, 7.0, 7.0, 6.0, 7.0, 6.0, 7.0, 8.0, 0.0, 0.0, 0.0, 9.0, 0.0, 0.0, 8.0, 0.0, 0.0, 0.0, 0.0, 8.0, 9.0, 9.0, 0.0, 9.0, 0.0, 9.0, 9.0, 9.0, 8.0, 8.0, 8.0, 8.0, 8.0, 9.0, 9.0, 9.0, 8.0, 8.0, 0.0, 9.0, 7.0, 7.0, 8.0, 8.0, 7.0, 7.0, 7.0, 8.0, 8.0, 7.0, 7.0, 7.0, 7.0, 7.0, 8.0, 8.0, 8.0, 8.0, 7.0, 6.0, 6.0, 7.0, 7.0, 8.0, 8.0, 7.0, 7.0, 7.0, 0.0, 0.0, 7.0, 8.0, 7.0, 8.0, 7.0, 7.0, 8.0, 7.0, 7.0, 7.0, 7.0, 7.0, 7.0, 7.0, 0.0, 0.0, 0.0, 6.0, 0.0, 0.0, 7.0, 7.0, 7.0, 7.0, 6.0, 7.0, 7.0, 7.0, 0.0, 0.0, 0.0, 8.0, 9.0, 0.0, 0.0, 0.0, 0.0, 8.0, 0.0, 0.0, 0.0, 8.0, 9.0, 0.0, 8.0, 8.0, 8.0, 7.0, 8.0, 7.0, 0.0, 0.0, 0.0, 0.0, 0.0, 8.0, 8.0, 0.0, 0.0, 8.0, 0.0, 7.0, 6.0, 7.0, 7.0, 6.0, 7.0, 7.0, 7.0, 7.0, 6.0, 6.0, 7.0, 6.0, 6.0, 6.0, 7.0, 7.0, 6.0, 6.0, 6.0, 7.0, 7.0, 7.0, 7.0, 6.0, 7.0, 6.0, 6.0, 0.0, 7.0, 7.0, 7.0, 7.0, 7.0, 7.0, 7.0, 7.0, 7.0, 7.0, 7.0, 6.0, 7.0, 6.0, 6.0, 7.0, 0.0, 0.0, 6.0, 6.0, 0.0, 6.0, 7.0, 6.0, 7.0, 6.0, 7.0, 6.0, 7.0, 8.0, 0.0, 0.0, 8.0, 8.0, 0.0, 0.0, 0.0, 0.0, 0.0, 0.0, 0.0, 9.0, 9.0, 9.0, 0.0, 9.0, 0.0, 9.0, 8.0, 8.0, 8.0, 8.0, 8.0, 8.0, 0.0, 9.0, 9.0, 9.0, 8.0, 8.0, 9.0, 9.0, 0.0, 7.0, 8.0, 7.0, 7.0, 7.0, 7.0, 8.0, 8.0, 8.0, 8.0, 7.0, 7.0, 8.0, 8.0, 8.0, 8.0, 8.0, 7.0, 6.0, 7.0, 7.0, 7.0, 8.0, 8.0, 7.0, 7.0, 8.0, 0.0, 7.0, 7.0, 8.0, 7.0, 8.0, 8.0, 7.0, 7.0, 7.0, 7.0, 7.0, 7.0, 7.0, 7.0, 7.0, 8.0, 0.0, 0.0, 6.0, 7.0, 0.0, 7.0, 7.0, 7.0, 7.0, 7.0, 7.0, 7.0, 7.0, 0.0, 0.0, 0.0, 0.0, 8.0, 8.0, 0.0, 8.0, 0.0, 8.0, 0.0, 0.0, 8.0, 8.0, 8.0, 0.0, 8.0, 8.0, 8.0, 8.0, 8.0, 8.0, 8.0, 8.0, 8.0, 8.0, 8.0, 8.0, 8.0, 8.0, 8.0, 0.0, 8.0, 8.0, 9.0, 9.0, 8.0, 8.0, 9.0, 8.0, 8.0, 0.0, 9.0, 0.0, 8.0, 0.0, 7.0, 8.0, 8.0, 8.0, 0.0, 8.0, 6.0, 8.0, 7.0, 7.0, 7.0, 8.0, 8.0, 8.0, 0.0, 0.0, 0.0, 7.0, 7.0, 7.0, 7.0, 7.0, 7.0, 0.0, 8.0, 7.0, 7.0, 7.0, 8.0, 7.0, 7.0, 7.0, 0.0, 0.0, 6.0, 6.0, 6.0, 6.0, 6.0, 6.0, 6.0, 7.0, 7.0, 7.0, 7.0, 0.0, 0.0, 0.0, 9.0, 9.0, 0.0, 0.0, 9.0, 0.0, 8.0, 0.0, 0.0, 0.0, 9.0, 9.0, 0.0, 9.0, 9.0, 9.0, 8.0, 8.0, 9.0, 0.0, 0.0, 0.0, 0.0, 0.0, 9.0, 9.0, 0.0, 0.0, 8.0, 0.0, 9.0, 8.0, 8.0, 8.0, 8.0, 9.0, 7.0, 8.0, 9.0, 7.0, 8.0, 9.0, 8.0, 8.0, 8.0, 8.0, 8.0, 7.0, 9.0, 8.0, 8.0, 8.0, 9.0, 8.0, 7.0, 9.0, 8.0, 9.0, 9.0, 9.0, 7.0, 7.0, 8.0, 9.0, 9.0, 8.0, 7.0, 7.0, 7.0, 8.0, 8.0, 8.0, 9.0, 7.0, 8.0, 9.0, 0.0, 7.0, 7.0, 7.0, 7.0, 8.0, 7.0, 7.0, 7.0, 7.0, 7.0, 7.0, 0.0, 0.0, 0.0, 9.0, 8.0, 0.0, 0.0, 8.0, 0.0, 8.0, 0.0, 0.0, 0.0, 8.0, 8.0, 0.0, 8.0, 9.0, 9.0, 8.0, 8.0, 8.0, 0.0, 0.0, 0.0, 0.0, 0.0, 8.0, 8.0, 0.0, 0.0, 8.0, 0.0, 9.0, 9.0, 7.0, 7.0, 8.0, 8.0, 8.0, 8.0, 8.0, 7.0, 7.0, 8.0, 8.0, 7.0, 9.0, 7.0, 8.0, 9.0, 9.0, 8.0, 8.0, 9.0, 8.0, 9.0, 9.0, 8.0, 7.0, 8.0, 9.0, 8.0, 7.0, 7.0, 8.0, 9.0, 9.0, 8.0, 7.0, 7.0, 8.0, 9.0, 8.0, 7.0, 8.0, 7.0, 9.0, 8.0, 0.0, 7.0, 6.0, 7.0, 7.0, 7.0, 7.0, 7.0, 7.0, 7.0, 7.0, 7.0, 8.0, 0.0, 0.0, 9.0, 0.0, 0.0, 0.0, 9.0, 9.0, 8.0, 8.0, 0.0, 0.0, 8.0, 8.0, 0.0, 9.0, 9.0, 8.0, 8.0, 8.0, 8.0, 0.0, 0.0, 0.0, 0.0, 8.0, 8.0, 8.0, 0.0, 9.0, 9.0, 0.0, 8.0, 8.0, 7.0, 7.0, 7.0, 8.0, 8.0, 7.0, 9.0, 7.0, 7.0, 7.0, 7.0, 7.0, 8.0, 7.0, 7.0, 7.0, 8.0, 8.0, 8.0, 9.0, 8.0, 7.0, 7.0, 8.0, 7.0, 7.0, 8.0, 8.0, 7.0, 7.0, 8.0, 9.0, 9.0, 8.0, 7.0, 7.0, 7.0, 8.0, 8.0, 7.0, 8.0, 7.0, 7.0, 9.0, 0.0, 7.0, 6.0, 7.0, 7.0, 7.0, 7.0, 6.0, 7.0, 7.0, 7.0, 7.0, 7.0, 0.0, 0.0, 8.0, 8.0, 0.0, 0.0, 8.0, 0.0, 0.0, 0.0, 0.0, 8.0, 8.0, 8.0, 0.0, 8.0, 8.0, 0.0, 9.0, 9.0, 9.0, 8.0, 8.0, 8.0, 8.0, 8.0, 8.0, 8.0, 0.0, 8.0, 8.0, 8.0, 8.0, 8.0, 8.0, 9.0, 9.0, 9.0, 8.0, 8.0, 8.0, 8.0, 8.0, 8.0, 7.0, 7.0, 7.0, 8.0, 8.0, 7.0, 7.0, 7.0, 7.0, 7.0, 7.0, 7.0, 8.0, 8.0, 8.0, 7.0, 0.0, 0.0, 0.0, 7.0, 6.0, 7.0, 0.0, 7.0, 7.0, 7.0, 7.0, 8.0, 7.0, 7.0, 7.0, 7.0, 0.0, 0.0, 0.0, 6.0, 0.0, 0.0, 6.0, 7.0, 6.0, 6.0, 6.0, 7.0, 6.0, 7.0, 7.0, 0.0, 0.0, 8.0, 8.0, 0.0, 0.0, 8.0, 0.0, 8.0, 8.0, 0.0, 8.0, 8.0, 8.0, 0.0, 8.0, 8.0, 0.0, 8.0, 9.0, 9.0, 9.0, 9.0, 8.0, 8.0, 8.0, 8.0, 8.0, 8.0, 8.0, 0.0, 0.0, 8.0, 8.0, 8.0, 9.0, 9.0, 9.0, 9.0, 8.0, 8.0, 8.0, 8.0, 8.0, 7.0, 0.0, 7.0, 8.0, 8.0, 8.0, 0.0, 7.0, 8.0, 7.0, 7.0, 7.0, 8.0, 8.0, 8.0, 7.0, 0.0, 0.0, 0.0, 7.0, 7.0, 7.0, 7.0, 7.0, 7.0, 7.0, 7.0, 7.0, 7.0, 7.0, 7.0, 7.0, 0.0, 0.0, 0.0, 6.0, 0.0, 0.0, 7.0, 7.0, 7.0, 6.0, 7.0, 7.0, 7.0, 7.0, 8.0, 0.0, 0.0, 8.0, 9.0, 0.0, 0.0, 0.0, 0.0, 9.0, 0.0, 0.0, 9.0, 9.0, 9.0, 0.0, 9.0, 9.0, 0.0, 9.0, 9.0, 9.0, 8.0, 8.0, 8.0, 9.0, 9.0, 9.0, 9.0, 9.0, 9.0, 0.0, 0.0, 8.0, 8.0, 8.0, 8.0, 8.0, 9.0, 9.0, 9.0, 9.0, 8.0, 8.0, 9.0, 8.0, 8.0, 8.0, 8.0, 8.0, 8.0, 8.0, 8.0, 8.0, 7.0, 8.0, 8.0, 9.0, 8.0, 8.0, 8.0, 0.0, 0.0, 0.0, 8.0, 8.0, 8.0, 8.0, 7.0, 8.0, 8.0, 8.0, 8.0, 7.0, 8.0, 7.0, 7.0, 8.0, 0.0, 0.0, 6.0, 7.0, 0.0, 7.0, 7.0, 7.0, 7.0, 6.0, 7.0, 7.0, 8.0, 8.0, 0.0, 0.0, 8.0, 0.0, 0.0, 0.0, 6.0, 8.0, 8.0, 0.0, 0.0, 0.0, 8.0, 8.0, 0.0, 8.0, 8.0, 8.0, 8.0, 8.0, 8.0, 8.0, 0.0, 0.0, 0.0, 0.0, 8.0, 8.0, 0.0, 0.0, 8.0, 0.0, 8.0, 9.0, 9.0, 8.0, 8.0, 8.0, 8.0, 8.0, 8.0, 0.0, 0.0, 0.0, 0.0, 7.0, 8.0, 9.0, 8.0, 0.0, 0.0, 0.0, 8.0, 8.0, 9.0, 8.0, 8.0, 7.0, 7.0, 7.0, 0.0, 8.0, 0.0, 7.0, 8.0, 8.0, 8.0, 8.0, 7.0, 7.0, 8.0, 7.0, 7.0, 7.0, 7.0, 7.0, 7.0, 0.0, 0.0, 0.0, 6.0, 0.0, 0.0, 6.0, 6.0, 0.0, 0.0, 0.0, 0.0, 7.0, 0.0, 0.0, 0.0, 8.0, 8.0, 0.0, 0.0, 8.0, 0.0, 9.0, 0.0, 0.0, 8.0, 8.0, 9.0, 8.0, 8.0, 8.0, 0.0, 8.0, 9.0, 8.0, 8.0, 8.0, 8.0, 8.0, 8.0, 9.0, 9.0, 0.0, 8.0, 8.0, 0.0, 8.0, 7.0, 7.0, 9.0, 9.0, 9.0, 8.0, 8.0, 8.0, 7.0, 8.0, 9.0, 8.0, 0.0, 8.0, 8.0, 8.0, 8.0, 7.0, 7.0, 7.0, 7.0, 8.0, 8.0, 7.0, 8.0, 8.0, 7.0, 0.0, 0.0, 0.0, 7.0, 7.0, 8.0, 7.0, 7.0, 7.0, 6.0, 7.0, 7.0, 8.0, 8.0, 7.0, 8.0, 0.0, 0.0, 0.0, 6.0, 6.0, 0.0, 6.0, 8.0, 7.0, 7.0, 6.0, 7.0, 6.0, 6.0, 0.0, 0.0, 0.0, 9.0, 9.0, 0.0, 0.0, 0.0, 0.0, 9.0, 0.0, 0.0, 9.0, 9.0, 9.0, 0.0, 9.0, 9.0, 0.0, 9.0, 9.0, 8.0, 8.0, 8.0, 8.0, 8.0, 9.0, 9.0, 9.0, 9.0, 9.0, 9.0, 0.0, 0.0, 8.0, 8.0, 7.0, 7.0, 8.0, 8.0, 8.0, 8.0, 8.0, 0.0, 8.0, 7.0, 8.0, 7.0, 8.0, 8.0, 8.0, 8.0, 7.0, 8.0, 7.0, 7.0, 8.0, 8.0, 8.0, 7.0, 7.0, 0.0, 7.0, 0.0, 8.0, 8.0, 8.0, 7.0, 7.0, 7.0, 8.0, 8.0, 8.0, 7.0, 7.0, 7.0, 8.0, 8.0, 0.0, 0.0, 6.0, 7.0, 0.0, 7.0, 7.0, 7.0, 7.0, 6.0, 8.0, 8.0, 8.0, 7.0, 0.0, 0.0, 8.0, 9.0, 0.0, 0.0, 8.0, 0.0, 9.0, 0.0, 0.0, 9.0, 9.0, 9.0, 0.0, 9.0, 8.0, 0.0, 9.0, 9.0, 8.0, 8.0, 8.0, 8.0, 8.0, 9.0, 9.0, 9.0, 9.0, 9.0, 0.0, 0.0, 0.0, 7.0, 8.0, 8.0, 7.0, 7.0, 8.0, 9.0, 9.0, 8.0, 8.0, 7.0, 7.0, 7.0, 7.0, 8.0, 8.0, 8.0, 8.0, 6.0, 6.0, 7.0, 7.0, 7.0, 8.0, 7.0, 7.0, 8.0, 0.0, 7.0, 0.0, 8.0, 7.0, 8.0, 7.0, 7.0, 7.0, 7.0, 7.0, 7.0, 7.0, 7.0, 7.0, 7.0, 0.0, 0.0, 0.0, 6.0, 6.0, 0.0, 6.0, 7.0, 7.0, 7.0, 6.0, 7.0, 6.0, 7.0, 8.0, 0.0, 0.0, 8.0, 9.0, 0.0, 0.0, 8.0, 0.0, 8.0, 0.0, 0.0, 8.0, 9.0, 0.0, 0.0, 9.0, 8.0, 8.0, 8.0, 9.0, 8.0, 8.0, 8.0, 8.0, 8.0, 8.0, 9.0, 9.0, 9.0, 8.0, 8.0, 0.0, 8.0, 7.0, 7.0, 8.0, 9.0, 9.0, 8.0, 9.0, 8.0, 8.0, 7.0, 9.0, 8.0, 0.0, 8.0, 8.0, 8.0, 8.0, 0.0, 7.0, 7.0, 8.0, 8.0, 8.0, 7.0, 7.0, 9.0, 7.0, 0.0, 0.0, 0.0, 6.0, 7.0, 8.0, 7.0, 7.0, 6.0, 6.0, 7.0, 7.0, 7.0, 7.0, 7.0, 8.0, 0.0, 0.0, 0.0, 6.0, 6.0, 0.0, 6.0, 7.0, 7.0, 7.0, 6.0, 7.0, 0.0, 6.0, 0.0, 0.0, 0.0, 8.0, 0.0, 0.0, 0.0, 8.0, 8.0, 8.0, 0.0, 0.0, 0.0, 8.0, 8.0, 0.0, 8.0, 8.0, 8.0, 8.0, 8.0, 0.0, 0.0, 0.0, 0.0, 0.0, 0.0, 8.0, 8.0, 8.0, 8.0, 8.0, 0.0, 0.0, 8.0, 7.0, 0.0, 8.0, 8.0, 8.0, 8.0, 8.0, 7.0, 7.0, 7.0, 7.0, 7.0, 7.0, 7.0, 7.0, 8.0, 8.0, 8.0, 7.0, 8.0, 7.0, 7.0, 7.0, 7.0, 0.0, 7.0, 7.0, 8.0, 7.0, 7.0, 8.0, 9.0, 10.0, 8.0, 7.0, 7.0, 6.0, 8.0, 8.0, 7.0, 8.0, 7.0, 0.0, 8.0, 0.0, 6.0, 6.0, 0.0, 7.0, 6.0, 7.0, 6.0, 7.0, 7.0, 7.0, 7.0, 7.0, 0.0, 0.0, 8.0, 8.0, 0.0, 0.0, 8.0, 0.0, 9.0, 0.0, 0.0, 8.0, 8.0, 9.0, 0.0, 9.0, 8.0, 8.0, 8.0, 9.0, 8.0, 8.0, 8.0, 8.0, 8.0, 8.0, 9.0, 9.0, 9.0, 9.0, 8.0, 0.0, 8.0, 8.0, 8.0, 8.0, 9.0, 9.0, 8.0, 9.0, 9.0, 9.0, 9.0, 9.0, 8.0, 8.0, 8.0, 8.0, 8.0, 8.0, 7.0, 8.0, 7.0, 8.0, 8.0, 8.0, 8.0, 9.0, 9.0, 9.0, 0.0, 8.0, 7.0, 7.0, 8.0, 8.0, 8.0, 7.0, 8.0, 8.0, 8.0, 8.0, 8.0, 8.0, 8.0, 8.0, 0.0, 0.0, 0.0, 6.0, 6.0, 0.0, 7.0, 8.0, 8.0, 7.0, 6.0, 7.0, 7.0, 7.0, 7.0, 0.0, 0.0, 8.0, 9.0, 0.0, 0.0, 0.0, 0.0, 9.0, 0.0, 0.0, 9.0, 9.0, 0.0, 0.0, 9.0, 8.0, 0.0, 9.0, 9.0, 8.0, 8.0, 8.0, 9.0, 9.0, 9.0, 9.0, 9.0, 9.0, 8.0, 8.0, 0.0, 0.0, 7.0, 8.0, 8.0, 9.0, 9.0, 8.0, 8.0, 0.0, 8.0, 8.0, 9.0, 8.0, 8.0, 8.0, 8.0, 8.0, 8.0, 7.0, 7.0, 6.0, 8.0, 8.0, 8.0, 8.0, 9.0, 8.0, 8.0, 0.0, 7.0, 0.0, 7.0, 7.0, 0.0, 7.0, 7.0, 7.0, 7.0, 7.0, 7.0, 8.0, 8.0, 8.0, 8.0, 0.0, 0.0, 0.0, 6.0, 6.0, 0.0, 6.0, 8.0, 7.0, 7.0, 6.0, 7.0, 7.0, 6.0, 0.0, 0.0, 0.0, 8.0, 0.0, 0.0, 0.0, 8.0, 0.0, 9.0, 0.0, 0.0, 9.0, 8.0, 8.0, 0.0, 0.0, 0.0, 8.0, 8.0, 8.0, 8.0, 8.0, 8.0, 6.0, 9.0, 8.0, 9.0, 9.0, 9.0, 9.0, 8.0, 0.0, 0.0, 8.0, 7.0, 7.0, 9.0, 9.0, 8.0, 7.0, 8.0, 8.0, 7.0, 8.0, 7.0, 7.0, 7.0, 8.0, 8.0, 0.0, 7.0, 7.0, 7.0, 8.0, 7.0, 7.0, 8.0, 7.0, 7.0, 7.0, 0.0, 6.0, 0.0, 7.0, 8.0, 7.0, 8.0, 7.0, 7.0, 7.0, 8.0, 8.0, 6.0, 6.0, 7.0, 7.0, 0.0, 0.0, 0.0, 6.0, 6.0, 0.0, 7.0, 7.0, 7.0, 6.0, 7.0, 7.0, 7.0, 7.0, 9.0, 0.0, 0.0, 9.0, 0.0, 0.0, 0.0, 8.0, 0.0, 9.0, 0.0, 0.0, 9.0, 9.0, 8.0, 0.0, 0.0, 8.0, 9.0, 8.0, 8.0, 8.0, 8.0, 9.0, 9.0, 9.0, 9.0, 9.0, 9.0, 9.0, 8.0, 9.0, 0.0, 8.0, 8.0, 8.0, 7.0, 8.0, 8.0, 9.0, 8.0, 9.0, 7.0, 8.0, 8.0, 8.0, 8.0, 8.0, 8.0, 8.0, 0.0, 7.0, 7.0, 7.0, 7.0, 8.0, 8.0, 7.0, 7.0, 6.0, 7.0, 0.0, 0.0, 7.0, 7.0, 8.0, 8.0, 8.0, 7.0, 7.0, 8.0, 8.0, 7.0, 7.0, 6.0, 7.0, 8.0, 0.0, 0.0, 0.0, 6.0, 7.0, 0.0, 7.0, 7.0, 7.0, 7.0, 6.0, 7.0, 7.0, 7.0, 0.0, 0.0, 0.0, 9.0, 0.0, 0.0, 0.0, 8.0, 0.0, 9.0, 0.0, 0.0, 9.0, 9.0, 9.0, 0.0, 0.0, 8.0, 8.0, 8.0, 9.0, 9.0, 9.0, 9.0, 9.0, 9.0, 9.0, 9.0, 9.0, 9.0, 9.0, 9.0, 0.0, 0.0, 8.0, 8.0, 8.0, 8.0, 8.0, 9.0, 8.0, 9.0, 7.0, 8.0, 9.0, 8.0, 8.0, 8.0, 8.0, 8.0, 0.0, 7.0, 8.0, 7.0, 7.0, 8.0, 8.0, 8.0, 9.0, 7.0, 7.0, 0.0, 7.0, 7.0, 7.0, 8.0, 8.0, 7.0, 8.0, 7.0, 7.0, 8.0, 7.0, 7.0, 7.0, 8.0, 8.0, 0.0, 0.0, 0.0, 6.0, 7.0, 0.0, 7.0, 8.0, 7.0, 7.0, 7.0, 7.0, 6.0, 7.0, 0.0, 0.0, 0.0, 8.0, 0.0, 0.0, 0.0, 7.0, 0.0, 0.0, 0.0, 0.0, 8.0, 8.0, 8.0, 0.0, 0.0, 0.0, 8.0, 9.0, 8.0, 8.0, 0.0, 0.0, 0.0, 0.0, 0.0, 8.0, 8.0, 8.0, 8.0, 8.0, 0.0, 8.0, 9.0, 9.0, 8.0, 8.0, 8.0, 8.0, 8.0, 8.0, 8.0, 9.0, 8.0, 8.0, 8.0, 7.0, 8.0, 8.0, 0.0, 0.0, 8.0, 8.0, 9.0, 9.0, 8.0, 9.0, 8.0, 7.0, 7.0, 0.0, 8.0, 7.0, 7.0, 8.0, 8.0, 9.0, 8.0, 7.0, 7.0, 8.0, 8.0, 8.0, 7.0, 7.0, 7.0, 8.0, 8.0, 0.0, 8.0, 6.0, 0.0, 7.0, 7.0, 7.0, 6.0, 7.0, 7.0, 7.0, 7.0, 0.0, 0.0, 0.0, 8.0, 9.0, 0.0, 0.0, 0.0, 0.0, 8.0, 0.0, 0.0, 8.0, 8.0, 8.0, 0.0, 0.0, 8.0, 0.0, 8.0, 9.0, 8.0, 8.0, 8.0, 8.0, 8.0, 8.0, 8.0, 9.0, 8.0, 8.0, 8.0, 0.0, 0.0, 7.0, 7.0, 9.0, 9.0, 9.0, 8.0, 8.0, 0.0, 8.0, 7.0, 8.0, 8.0, 7.0, 7.0, 7.0, 8.0, 8.0, 7.0, 8.0, 8.0, 7.0, 7.0, 8.0, 7.0, 7.0, 8.0, 8.0, 0.0, 7.0, 0.0, 7.0, 7.0, 8.0, 7.0, 6.0, 6.0, 7.0, 7.0, 7.0, 8.0, 8.0, 8.0, 8.0, 0.0, 0.0, 0.0, 6.0, 6.0, 0.0, 6.0, 8.0, 7.0, 7.0, 6.0, 7.0, 7.0, 6.0, 7.0, 0.0, 0.0, 8.0, 0.0, 0.0, 0.0, 7.0, 0.0, 0.0, 0.0, 0.0, 8.0, 8.0, 8.0, 0.0, 0.0, 0.0, 8.0, 8.0, 8.0, 8.0, 8.0, 8.0, 8.0, 8.0, 8.0, 8.0, 9.0, 8.0, 8.0, 8.0, 0.0, 0.0, 9.0, 9.0, 8.0, 9.0, 9.0, 8.0, 9.0, 8.0, 9.0, 7.0, 8.0, 8.0, 7.0, 7.0, 8.0, 7.0, 0.0, 8.0, 8.0, 8.0, 8.0, 8.0, 8.0, 9.0, 9.0, 7.0, 8.0, 0.0, 7.0, 7.0, 7.0, 8.0, 9.0, 8.0, 8.0, 7.0, 7.0, 8.0, 7.0, 9.0, 7.0, 8.0, 7.0, 0.0, 8.0, 0.0, 6.0, 6.0, 0.0, 7.0, 8.0, 7.0, 6.0, 7.0, 7.0, 7.0, 7.0, 0.0, 0.0, 0.0, 8.0, 9.0, 0.0, 0.0, 8.0, 0.0, 9.0, 0.0, 0.0, 0.0, 8.0, 0.0, 0.0, 9.0, 8.0, 8.0, 8.0, 8.0, 9.0, 8.0, 9.0, 8.0, 9.0, 8.0, 8.0, 8.0, 8.0, 9.0, 8.0, 0.0, 0.0, 7.0, 7.0, 10.0, 9.0, 9.0, 9.0, 9.0, 8.0, 7.0, 8.0, 9.0, 8.0, 8.0, 8.0, 8.0, 8.0, 0.0, 7.0, 8.0, 8.0, 7.0, 7.0, 8.0, 7.0, 8.0, 8.0, 8.0, 0.0, 7.0, 0.0, 7.0, 8.0, 8.0, 7.0, 6.0, 7.0, 7.0, 7.0, 8.0, 7.0, 8.0, 7.0, 8.0, 0.0, 0.0, 0.0, 6.0, 7.0, 0.0, 6.0, 8.0, 6.0, 7.0, 6.0, 7.0, 7.0, 7.0, 8.0, 0.0, 0.0, 8.0, 0.0, 0.0, 0.0, 8.0, 0.0, 8.0, 0.0, 0.0, 8.0, 9.0, 8.0, 0.0, 0.0, 0.0, 8.0, 9.0, 8.0, 8.0, 8.0, 8.0, 0.0, 8.0, 0.0, 8.0, 8.0, 8.0, 8.0, 8.0, 8.0, 0.0, 9.0, 8.0, 8.0, 9.0, 8.0, 8.0, 8.0, 8.0, 9.0, 9.0, 7.0, 8.0, 7.0, 7.0, 8.0, 8.0, 0.0, 0.0, 8.0, 8.0, 8.0, 7.0, 8.0, 9.0, 8.0, 7.0, 7.0, 0.0, 0.0, 7.0, 7.0, 8.0, 8.0, 8.0, 8.0, 7.0, 7.0, 8.0, 8.0, 8.0, 7.0, 7.0, 7.0, 9.0, 0.0, 0.0, 7.0, 6.0, 0.0, 7.0, 7.0, 7.0, 6.0, 7.0, 7.0, 7.0, 7.0, 7.0, 0.0, 0.0, 8.0, 0.0, 0.0, 0.0, 8.0, 9.0, 0.0, 0.0, 0.0, 9.0, 9.0, 8.0, 0.0, 0.0, 0.0, 9.0, 10.0, 10.0, 8.0, 8.0, 8.0, 8.0, 9.0, 8.0, 9.0, 9.0, 8.0, 8.0, 9.0, 9.0, 9.0, 9.0, 9.0, 9.0, 9.0, 9.0, 9.0, 9.0, 9.0, 9.0, 9.0, 9.0, 8.0, 8.0, 9.0, 10.0, 9.0, 0.0, 0.0, 8.0, 8.0, 8.0, 8.0, 8.0, 10.0, 8.0, 8.0, 8.0, 0.0, 0.0, 7.0, 7.0, 9.0, 9.0, 10.0, 8.0, 7.0, 8.0, 9.0, 8.0, 9.0, 8.0, 8.0, 8.0, 9.0, 0.0, 0.0, 8.0, 6.0, 0.0, 7.0, 7.0, 7.0, 7.0, 7.0, 7.0, 7.0, 7.0, 0.0, 0.0, 0.0, 8.0, 9.0, 0.0, 0.0, 8.0, 0.0, 9.0, 0.0, 0.0, 0.0, 9.0, 8.0, 0.0, 0.0, 0.0, 9.0, 9.0, 9.0, 8.0, 8.0, 8.0, 8.0, 9.0, 9.0, 9.0, 9.0, 9.0, 9.0, 9.0, 0.0, 0.0, 9.0, 9.0, 9.0, 9.0, 9.0, 9.0, 9.0, 9.0, 8.0, 9.0, 9.0, 9.0, 8.0, 9.0, 8.0, 9.0, 0.0, 8.0, 8.0, 9.0, 8.0, 8.0, 8.0, 9.0, 8.0, 9.0, 8.0, 0.0, 0.0, 7.0, 7.0, 9.0, 8.0, 8.0, 7.0, 7.0, 7.0, 9.0, 9.0, 8.0, 8.0, 8.0, 8.0, 0.0, 0.0, 0.0, 6.0, 7.0, 0.0, 6.0, 7.0, 7.0, 7.0, 8.0, 7.0, 6.0, 7.0, 7.0, 0.0, 0.0, 8.0, 0.0, 0.0, 0.0, 8.0, 8.0, 8.0, 0.0, 0.0, 8.0, 8.0, 8.0, 0.0, 0.0, 0.0, 9.0, 9.0, 8.0, 8.0, 8.0, 8.0, 8.0, 8.0, 8.0, 8.0, 8.0, 8.0, 8.0, 8.0, 8.0, 8.0, 9.0, 9.0, 9.0, 9.0, 9.0, 8.0, 8.0, 8.0, 9.0, 9.0, 9.0, 0.0, 9.0, 9.0, 9.0, 8.0, 0.0, 0.0, 8.0, 8.0, 8.0, 9.0, 9.0, 9.0, 9.0, 9.0, 9.0, 8.0, 0.0, 7.0, 7.0, 8.0, 9.0, 9.0, 8.0, 7.0, 8.0, 8.0, 8.0, 9.0, 8.0, 8.0, 9.0, 8.0, 8.0, 0.0, 8.0, 7.0, 0.0, 7.0, 7.0, 8.0, 8.0, 7.0, 7.0, 7.0, 7.0, 7.0, 0.0, 0.0, 8.0, 0.0, 0.0, 0.0, 8.0, 8.0, 8.0, 0.0, 8.0, 9.0, 8.0, 8.0, 0.0, 0.0, 0.0, 8.0, 8.0, 8.0, 8.0, 8.0, 8.0, 8.0, 8.0, 8.0, 8.0, 8.0, 8.0, 8.0, 8.0, 8.0, 8.0, 9.0, 8.0, 8.0, 9.0, 9.0, 8.0, 8.0, 9.0, 9.0, 9.0, 9.0, 0.0, 8.0, 8.0, 8.0, 8.0, 0.0, 0.0, 8.0, 8.0, 7.0, 7.0, 8.0, 8.0, 8.0, 7.0, 7.0, 0.0, 0.0, 8.0, 7.0, 8.0, 9.0, 8.0, 8.0, 7.0, 7.0, 8.0, 7.0, 7.0, 7.0, 7.0, 8.0, 0.0, 8.0, 0.0, 7.0, 7.0, 0.0, 7.0, 7.0, 7.0, 7.0, 7.0, 7.0, 7.0, 7.0, 0.0, 0.0, 0.0, 8.0, 8.0, 0.0, 0.0, 8.0, 0.0, 8.0, 0.0, 0.0, 0.0, 8.0, 8.0, 0.0, 0.0, 0.0, 8.0, 8.0, 8.0, 8.0, 8.0, 8.0, 8.0, 8.0, 8.0, 8.0, 8.0, 8.0, 8.0, 8.0, 0.0, 0.0, 9.0, 8.0, 8.0, 9.0, 8.0, 8.0, 8.0, 8.0, 9.0, 9.0, 8.0, 8.0, 7.0, 7.0, 8.0, 8.0, 0.0, 7.0, 8.0, 8.0, 7.0, 7.0, 7.0, 8.0, 8.0, 8.0, 7.0, 0.0, 0.0, 0.0, 7.0, 8.0, 7.0, 7.0, 7.0, 7.0, 6.0, 7.0, 7.0, 7.0, 7.0, 7.0, 7.0, 0.0, 0.0, 0.0, 6.0, 7.0, 0.0, 6.0, 7.0, 7.0, 6.0, 6.0, 7.0, 6.0, 6.0, 7.0, 0.0, 0.0, 8.0, 0.0, 0.0, 0.0, 8.0, 0.0, 9.0, 0.0, 0.0, 0.0, 0.0, 8.0, 0.0, 0.0, 0.0, 8.0, 9.0, 9.0, 8.0, 8.0, 0.0, 8.0, 8.0, 8.0, 8.0, 8.0, 8.0, 8.0, 8.0, 8.0, 8.0, 9.0, 9.0, 9.0, 7.0, 9.0, 8.0, 8.0, 8.0, 9.0, 9.0, 9.0, 9.0, 9.0, 8.0, 9.0, 8.0, 0.0, 0.0, 8.0, 8.0, 9.0, 7.0, 8.0, 8.0, 8.0, 9.0, 7.0, 0.0, 0.0, 8.0, 7.0, 8.0, 8.0, 8.0, 8.0, 8.0, 8.0, 8.0, 7.0, 8.0, 8.0, 7.0, 8.0, 8.0, 8.0, 0.0, 7.0, 7.0, 0.0, 7.0, 7.0, 8.0, 8.0, 7.0, 7.0, 7.0, 7.0, 7.0, 0.0, 8.0, 8.0, 8.0, 0.0, 0.0, 8.0, 0.0, 8.0, 0.0, 8.0, 8.0, 8.0, 0.0, 0.0, 0.0, 0.0, 8.0, 8.0, 8.0, 8.0, 8.0, 8.0, 8.0, 8.0, 8.0, 8.0, 8.0, 8.0, 8.0, 8.0, 0.0, 0.0, 8.0, 8.0, 8.0, 8.0, 8.0, 8.0, 8.0, 0.0, 8.0, 8.0, 8.0, 8.0, 8.0, 8.0, 8.0, 8.0, 0.0, 0.0, 5.0, 5.0, 8.0, 8.0, 8.0, 8.0, 7.0, 8.0, 8.0, 0.0, 8.0, 0.0, 7.0, 7.0, 0.0, 8.0, 5.0, 8.0, 7.0, 7.0, 7.0, 7.0, 7.0, 8.0, 7.0, 0.0, 0.0, 0.0, 5.0, 0.0, 0.0, 4.0, 6.0, 7.0, 7.0, 4.0, 4.0, 6.0, 6.0, 7.0, 0.0, 0.0, 8.0, 0.0, 0.0, 0.0, 7.0, 0.0, 8.0, 0.0, 0.0, 0.0, 8.0, 8.0, 0.0, 0.0, 0.0, 8.0, 9.0, 9.0, 9.0, 0.0, 0.0, 9.0, 8.0, 0.0, 8.0, 9.0, 8.0, 8.0, 8.0, 8.0, 8.0, 9.0, 10.0, 9.0, 9.0, 9.0, 9.0, 8.0, 8.0, 9.0, 9.0, 9.0, 9.0, 9.0, 9.0, 9.0, 8.0, 0.0, 0.0, 8.0, 8.0, 8.0, 8.0, 9.0, 8.0, 8.0, 9.0, 7.0, 0.0, 0.0, 8.0, 7.0, 9.0, 8.0, 8.0, 8.0, 8.0, 8.0, 9.0, 7.0, 8.0, 7.0, 8.0, 8.0, 8.0, 8.0, 0.0, 7.0, 7.0, 0.0, 6.0, 8.0, 8.0, 8.0, 6.0, 7.0, 6.0, 6.0, 0.0, 0.0, 0.0, 8.0, 9.0, 0.0, 0.0, 8.0, 0.0, 9.0, 0.0, 0.0, 0.0, 8.0, 8.0, 0.0, 0.0, 0.0, 8.0, 8.0, 8.0, 8.0, 8.0, 8.0, 8.0, 8.0, 8.0, 8.0, 8.0, 8.0, 8.0, 8.0, 0.0, 0.0, 7.0, 7.0, 8.0, 8.0, 8.0, 8.0, 8.0, 8.0, 7.0, 7.0, 8.0, 7.0, 7.0, 7.0, 7.0, 7.0, 0.0, 7.0, 8.0, 8.0, 7.0, 7.0, 7.0, 7.0, 8.0, 7.0, 7.0, 0.0, 0.0, 0.0, 7.0, 6.0, 7.0, 7.0, 6.0, 7.0, 6.0, 6.0, 7.0, 6.0, 8.0, 7.0, 7.0, 0.0, 0.0, 0.0, 6.0, 6.0, 0.0, 6.0, 7.0, 6.0, 6.0, 6.0, 7.0, 6.0, 6.0, 8.0, 0.0, 0.0, 9.0, 0.0, 0.0, 0.0, 9.0, 0.0, 0.0, 0.0, 0.0, 0.0, 9.0, 9.0, 0.0, 0.0, 0.0, 0.0, 8.0, 9.0, 9.0, 9.0, 9.0, 9.0, 9.0, 9.0, 9.0, 9.0, 9.0, 9.0, 9.0, 0.0, 0.0, 8.0, 7.0, 8.0, 7.0, 8.0, 9.0, 9.0, 8.0, 7.0, 7.0, 7.0, 8.0, 7.0, 7.0, 8.0, 8.0, 0.0, 7.0, 8.0, 8.0, 7.0, 8.0, 8.0, 8.0, 8.0, 7.0, 7.0, 0.0, 0.0, 6.0, 6.0, 7.0, 8.0, 7.0, 8.0, 7.0, 6.0, 7.0, 7.0, 6.0, 7.0, 6.0, 8.0, 9.0, 0.0, 0.0, 6.0, 6.0, 0.0, 6.0, 7.0, 7.0, 7.0, 6.0, 7.0, 6.0, 6.0, 0.0, 0.0, 0.0, 8.0, 9.0, 0.0, 0.0, 8.0, 0.0, 8.0, 0.0, 0.0, 8.0, 8.0, 9.0, 0.0, 9.0, 8.0, 8.0, 8.0, 9.0, 9.0, 8.0, 8.0, 8.0, 8.0, 8.0, 9.0, 9.0, 0.0, 8.0, 0.0, 0.0, 8.0, 7.0, 7.0, 7.0, 8.0, 8.0, 8.0, 9.0, 9.0, 7.0, 8.0, 8.0, 8.0, 0.0, 8.0, 8.0, 8.0, 8.0, 7.0, 8.0, 6.0, 7.0, 8.0, 8.0, 8.0, 7.0, 7.0, 8.0, 0.0, 7.0, 0.0, 7.0, 7.0, 8.0, 7.0, 8.0, 6.0, 6.0, 7.0, 7.0, 7.0, 7.0, 7.0, 7.0, 0.0, 0.0, 0.0, 6.0, 6.0, 0.0, 7.0, 7.0, 7.0, 7.0, 6.0, 7.0, 7.0, 7.0, 0.0, 0.0, 0.0, 7.0, 0.0, 0.0, 0.0, 7.0, 7.0, 8.0, 0.0, 8.0, 0.0, 8.0, 8.0, 0.0, 0.0, 0.0, 9.0, 9.0, 8.0, 8.0, 0.0, 8.0, 0.0, 8.0, 0.0, 8.0, 8.0, 8.0, 8.0, 8.0, 8.0, 0.0, 9.0, 9.0, 9.0, 8.0, 8.0, 8.0, 8.0, 8.0, 9.0, 9.0, 9.0, 0.0, 9.0, 8.0, 8.0, 8.0, 0.0, 0.0, 9.0, 9.0, 8.0, 8.0, 8.0, 8.0, 9.0, 9.0, 9.0, 0.0, 0.0, 8.0, 8.0, 8.0, 8.0, 8.0, 8.0, 8.0, 8.0, 7.0, 7.0, 7.0, 8.0, 8.0, 0.0, 8.0, 8.0, 0.0, 7.0, 7.0, 0.0, 7.0, 8.0, 8.0, 0.0, 7.0, 7.0, 6.0, 0.0, 7.0, 0.0, 8.0, 8.0, 0.0, 0.0, 0.0, 8.0, 8.0, 0.0, 0.0, 8.0, 0.0, 0.0, 8.0, 0.0, 0.0, 0.0, 8.0, 8.0, 8.0, 8.0, 0.0, 8.0, 8.0, 0.0, 8.0, 8.0, 8.0, 8.0, 8.0, 8.0, 8.0, 0.0, 6.0, 8.0, 8.0, 8.0, 8.0, 8.0, 8.0, 8.0, 8.0, 9.0, 9.0, 0.0, 8.0, 8.0, 8.0, 8.0, 0.0, 0.0, 5.0, 6.0, 8.0, 8.0, 8.0, 8.0, 8.0, 8.0, 8.0, 0.0, 0.0, 5.0, 7.0, 7.0, 8.0, 8.0, 5.0, 6.0, 7.0, 7.0, 8.0, 8.0, 8.0, 8.0, 0.0, 8.0, 8.0, 0.0, 5.0, 7.0, 0.0, 4.0, 8.0, 7.0, 0.0, 5.0, 4.0, 4.0, 0.0, 0.0, 0.0, 0.0, 8.0, 0.0, 0.0, 0.0, 7.0, 7.0, 8.0, 0.0, 0.0, 0.0, 8.0, 8.0, 0.0, 0.0, 0.0, 8.0, 8.0, 8.0, 8.0, 0.0, 8.0, 0.0, 0.0, 0.0, 8.0, 8.0, 8.0, 8.0, 8.0, 8.0, 0.0, 9.0, 9.0, 9.0, 9.0, 9.0, 0.0, 8.0, 8.0, 9.0, 9.0, 9.0, 0.0, 8.0, 8.0, 8.0, 9.0, 0.0, 0.0, 8.0, 8.0, 8.0, 8.0, 8.0, 8.0, 8.0, 9.0, 9.0, 0.0, 0.0, 8.0, 8.0, 8.0, 0.0, 8.0, 8.0, 8.0, 8.0, 7.0, 7.0, 8.0, 8.0, 0.0, 8.0, 0.0, 8.0, 0.0, 7.0, 7.0, 7.0, 7.0, 7.0, 8.0, 0.0, 8.0, 7.0, 6.0, 7.0, 7.0, 0.0, 0.0, 8.0, 0.0, 0.0, 0.0, 0.0, 8.0, 8.0, 0.0, 9.0, 0.0, 0.0, 9.0, 0.0, 0.0, 0.0, 8.0, 9.0, 8.0, 8.0, 0.0, 8.0, 8.0, 8.0, 0.0, 8.0, 8.0, 8.0, 8.0, 8.0, 9.0, 0.0, 8.0, 9.0, 8.0, 8.0, 8.0, 8.0, 8.0, 9.0, 8.0, 9.0, 9.0, 0.0, 9.0, 9.0, 9.0, 8.0, 0.0, 0.0, 9.0, 8.0, 8.0, 8.0, 8.0, 9.0, 8.0, 8.0, 8.0, 0.0, 0.0, 8.0, 7.0, 8.0, 0.0, 9.0, 9.0, 8.0, 8.0, 7.0, 8.0, 9.0, 8.0, 8.0, 0.0, 9.0, 8.0, 0.0, 8.0, 7.0, 0.0, 7.0, 8.0, 7.0, 0.0, 7.0, 6.0, 6.0, 6.0, 8.0, 0.0, 0.0, 9.0, 0.0, 0.0, 0.0, 0.0, 0.0, 0.0, 0.0, 0.0, 0.0, 9.0, 9.0, 0.0, 0.0, 0.0, 9.0, 9.0, 9.0, 9.0, 9.0, 8.0, 9.0, 9.0, 9.0, 9.0, 9.0, 9.0, 9.0, 9.0, 9.0, 0.0, 9.0, 9.0, 9.0, 9.0, 9.0, 9.0, 9.0, 9.0, 8.0, 8.0, 9.0, 8.0, 8.0, 8.0, 8.0, 8.0, 0.0, 0.0, 8.0, 7.0, 8.0, 8.0, 8.0, 8.0, 8.0, 8.0, 7.0, 0.0, 0.0, 7.0, 7.0, 7.0, 8.0, 8.0, 8.0, 7.0, 8.0, 7.0, 7.0, 7.0, 7.0, 8.0, 8.0, 9.0, 0.0, 0.0, 7.0, 7.0, 0.0, 8.0, 7.0, 7.0, 7.0, 7.0, 7.0, 7.0, 8.0, 7.0, 0.0, 0.0, 8.0, 8.0, 0.0, 0.0, 8.0, 0.0, 0.0, 0.0, 0.0, 8.0, 8.0, 8.0, 0.0, 8.0, 8.0, 8.0, 8.0, 9.0, 8.0, 8.0, 8.0, 8.0, 8.0, 8.0, 8.0, 9.0, 8.0, 8.0, 0.0, 9.0, 8.0, 7.0, 7.0, 9.0, 9.0, 9.0, 8.0, 9.0, 8.0, 8.0, 8.0, 8.0, 8.0, 8.0, 7.0, 7.0, 8.0, 8.0, 0.0, 7.0, 7.0, 7.0, 8.0, 7.0, 8.0, 8.0, 8.0, 7.0, 0.0, 8.0, 7.0, 7.0, 6.0, 8.0, 7.0, 7.0, 7.0, 6.0, 7.0, 7.0, 8.0, 7.0, 7.0, 7.0, 0.0, 0.0, 0.0, 6.0, 0.0, 0.0, 6.0, 7.0, 7.0, 7.0, 6.0, 7.0, 6.0, 6.0, 7.0, 0.0, 0.0, 8.0, 9.0, 0.0, 0.0, 0.0, 0.0, 9.0, 0.0, 0.0, 9.0, 9.0, 9.0, 0.0, 9.0, 8.0, 0.0, 9.0, 9.0, 9.0, 8.0, 8.0, 8.0, 8.0, 9.0, 9.0, 9.0, 9.0, 9.0, 9.0, 0.0, 0.0, 7.0, 8.0, 8.0, 8.0, 8.0, 9.0, 8.0, 9.0, 8.0, 8.0, 9.0, 8.0, 8.0, 8.0, 8.0, 8.0, 8.0, 7.0, 7.0, 7.0, 7.0, 7.0, 8.0, 8.0, 8.0, 7.0, 8.0, 0.0, 0.0, 0.0, 8.0, 7.0, 8.0, 8.0, 7.0, 7.0, 7.0, 7.0, 7.0, 7.0, 7.0, 7.0, 7.0, 8.0, 0.0, 0.0, 6.0, 7.0, 0.0, 6.0, 7.0, 7.0, 7.0, 6.0, 7.0, 7.0, 7.0, 0.0, 0.0, 0.0, 0.0, 9.0, 0.0, 0.0, 0.0, 0.0, 9.0, 0.0, 0.0, 9.0, 9.0, 9.0, 0.0, 9.0, 8.0, 0.0, 9.0, 9.0, 9.0, 9.0, 8.0, 8.0, 9.0, 9.0, 9.0, 9.0, 9.0, 9.0, 9.0, 0.0, 8.0, 8.0, 8.0, 8.0, 9.0, 9.0, 9.0, 9.0, 9.0, 8.0, 8.0, 8.0, 7.0, 8.0, 8.0, 8.0, 8.0, 8.0, 8.0, 7.0, 7.0, 7.0, 8.0, 8.0, 9.0, 8.0, 7.0, 8.0, 0.0, 8.0, 0.0, 8.0, 7.0, 8.0, 7.0, 7.0, 8.0, 7.0, 7.0, 7.0, 7.0, 7.0, 7.0, 7.0, 8.0, 0.0, 0.0, 6.0, 7.0, 0.0, 6.0, 7.0, 7.0, 7.0, 6.0, 7.0, 7.0, 7.0, 9.0, 0.0, 0.0, 8.0, 9.0, 0.0, 0.0, 0.0, 0.0, 9.0, 0.0, 0.0, 9.0, 9.0, 9.0, 0.0, 8.0, 8.0, 9.0, 9.0, 9.0, 8.0, 8.0, 8.0, 8.0, 8.0, 9.0, 9.0, 9.0, 0.0, 8.0, 0.0, 9.0, 8.0, 7.0, 8.0, 8.0, 7.0, 7.0, 7.0, 8.0, 8.0, 8.0, 8.0, 7.0, 7.0, 7.0, 7.0, 8.0, 8.0, 7.0, 7.0, 7.0, 7.0, 7.0, 7.0, 7.0, 8.0, 7.0, 7.0, 6.0, 0.0, 7.0, 7.0, 7.0, 8.0, 8.0, 8.0, 7.0, 8.0, 8.0, 7.0, 7.0, 7.0, 7.0, 7.0, 7.0, 8.0, 0.0, 0.0, 6.0, 7.0, 0.0, 6.0, 7.0, 7.0, 7.0, 7.0, 7.0, 7.0, 7.0, 0.0, 0.0, 0.0, 0.0, 9.0, 0.0, 0.0, 0.0, 0.0, 0.0, 0.0, 0.0, 9.0, 9.0, 9.0, 9.0, 9.0, 8.0, 9.0, 9.0, 9.0, 9.0, 9.0, 8.0, 9.0, 9.0, 9.0, 9.0, 9.0, 9.0, 9.0, 9.0, 0.0, 0.0, 7.0, 8.0, 8.0, 8.0, 7.0, 8.0, 8.0, 8.0, 8.0, 8.0, 7.0, 7.0, 7.0, 7.0, 8.0, 8.0, 8.0, 8.0, 6.0, 6.0, 7.0, 7.0, 8.0, 8.0, 8.0, 7.0, 7.0, 0.0, 0.0, 0.0, 8.0, 8.0, 8.0, 7.0, 7.0, 8.0, 8.0, 7.0, 7.0, 7.0, 7.0, 7.0, 7.0, 8.0, 0.0, 0.0, 6.0, 7.0, 0.0, 7.0, 7.0, 7.0, 7.0, 7.0, 7.0, 7.0, 7.0, 8.0, 0.0, 0.0, 8.0, 0.0, 0.0, 0.0, 8.0, 0.0, 9.0, 0.0, 0.0, 0.0, 9.0, 9.0, 0.0, 9.0, 9.0, 8.0, 8.0, 8.0, 7.0, 0.0, 0.0, 0.0, 0.0, 0.0, 8.0, 8.0, 8.0, 7.0, 8.0, 0.0, 8.0, 7.0, 7.0, 7.0, 7.0, 7.0, 7.0, 8.0, 8.0, 6.0, 0.0, 7.0, 7.0, 7.0, 7.0, 7.0, 7.0, 7.0, 8.0, 7.0, 7.0, 7.0, 7.0, 7.0, 9.0, 7.0, 6.0, 7.0, 6.0, 8.0, 7.0, 8.0, 8.0, 8.0, 8.0, 7.0, 7.0, 8.0, 8.0, 8.0, 8.0, 7.0, 7.0, 7.0, 0.0, 0.0, 0.0, 6.0, 7.0, 0.0, 7.0, 7.0, 7.0, 7.0, 6.0, 8.0, 8.0, 7.0, 0.0, 0.0, 0.0, 8.0, 0.0, 0.0, 0.0, 0.0, 0.0, 0.0, 0.0, 0.0, 9.0, 9.0, 9.0, 0.0, 8.0, 8.0, 9.0, 7.0, 8.0, 7.0, 7.0, 0.0, 0.0, 0.0, 0.0, 8.0, 9.0, 8.0, 9.0, 8.0, 0.0, 0.0, 7.0, 8.0, 7.0, 7.0, 8.0, 7.0, 8.0, 9.0, 8.0, 7.0, 7.0, 7.0, 7.0, 7.0, 7.0, 8.0, 7.0, 7.0, 7.0, 7.0, 6.0, 7.0, 7.0, 7.0, 7.0, 7.0, 7.0, 0.0, 6.0, 7.0, 7.0, 8.0, 7.0, 7.0, 7.0, 7.0, 7.0, 7.0, 7.0, 7.0, 7.0, 6.0, 7.0, 8.0, 0.0, 0.0, 6.0, 7.0, 0.0, 6.0, 7.0, 6.0, 7.0, 6.0, 7.0, 6.0, 7.0, 0.0, 0.0, 0.0, 9.0, 9.0, 0.0, 0.0, 0.0, 0.0, 9.0, 0.0, 0.0, 9.0, 9.0, 9.0, 0.0, 0.0, 8.0, 0.0, 8.0, 8.0, 8.0, 8.0, 8.0, 9.0, 9.0, 9.0, 8.0, 8.0, 9.0, 9.0, 9.0, 0.0, 0.0, 7.0, 7.0, 7.0, 7.0, 7.0, 8.0, 8.0, 8.0, 8.0, 7.0, 7.0, 7.0, 7.0, 7.0, 7.0, 8.0, 7.0, 8.0, 6.0, 6.0, 7.0, 7.0, 7.0, 8.0, 7.0, 7.0, 7.0, 0.0, 7.0, 0.0, 8.0, 7.0, 8.0, 7.0, 7.0, 7.0, 7.0, 7.0, 7.0, 7.0, 7.0, 7.0, 7.0, 8.0, 0.0, 0.0, 6.0, 7.0, 0.0, 6.0, 7.0, 7.0, 7.0, 6.0, 7.0, 7.0, 7.0, 8.0, 0.0, 0.0, 9.0, 9.0, 0.0, 0.0, 0.0, 0.0, 9.0, 0.0, 0.0, 9.0, 9.0, 9.0, 0.0, 9.0, 9.0, 9.0, 9.0, 8.0, 9.0, 9.0, 9.0, 9.0, 9.0, 9.0, 9.0, 9.0, 9.0, 9.0, 9.0, 0.0, 0.0, 7.0, 8.0, 8.0, 7.0, 8.0, 8.0, 8.0, 0.0, 7.0, 7.0, 7.0, 7.0, 7.0, 7.0, 7.0, 8.0, 0.0, 8.0, 6.0, 6.0, 7.0, 7.0, 7.0, 8.0, 7.0, 7.0, 7.0, 0.0, 7.0, 0.0, 8.0, 7.0, 0.0, 8.0, 7.0, 8.0, 7.0, 7.0, 7.0, 7.0, 7.0, 7.0, 7.0, 0.0, 0.0, 0.0, 6.0, 6.0, 0.0, 6.0, 7.0, 7.0, 7.0, 6.0, 7.0, 7.0, 7.0, 0.0, 0.0, 0.0, 9.0, 9.0, 0.0, 0.0, 8.0, 0.0, 9.0, 0.0, 0.0, 9.0, 9.0, 9.0, 0.0, 9.0, 8.0, 0.0, 9.0, 9.0, 8.0, 8.0, 8.0, 8.0, 8.0, 9.0, 9.0, 9.0, 9.0, 9.0, 0.0, 0.0, 8.0, 7.0, 8.0, 8.0, 8.0, 7.0, 9.0, 8.0, 9.0, 8.0, 8.0, 7.0, 7.0, 8.0, 8.0, 8.0, 8.0, 8.0, 7.0, 6.0, 6.0, 7.0, 7.0, 8.0, 8.0, 7.0, 7.0, 8.0, 0.0, 7.0, 0.0, 7.0, 7.0, 8.0, 8.0, 7.0, 7.0, 7.0, 7.0, 7.0, 7.0, 7.0, 7.0, 7.0, 0.0, 0.0, 0.0, 6.0, 6.0, 0.0, 6.0, 7.0, 7.0, 7.0, 6.0, 7.0, 7.0, 7.0, 0.0, 0.0, 0.0, 8.0, 9.0, 0.0, 0.0, 8.0, 0.0, 8.0, 0.0, 0.0, 9.0, 9.0, 9.0, 0.0, 0.0, 9.0, 8.0, 9.0, 9.0, 8.0, 8.0, 8.0, 8.0, 8.0, 8.0, 9.0, 9.0, 9.0, 8.0, 0.0, 0.0, 0.0, 8.0, 8.0, 9.0, 9.0, 9.0, 9.0, 9.0, 0.0, 8.0, 8.0, 9.0, 8.0, 0.0, 8.0, 8.0, 8.0, 9.0, 8.0, 8.0, 9.0, 8.0, 8.0, 8.0, 8.0, 9.0, 9.0, 8.0, 0.0, 8.0, 0.0, 8.0, 7.0, 8.0, 8.0, 7.0, 8.0, 8.0, 7.0, 7.0, 8.0, 8.0, 8.0, 8.0, 0.0, 0.0, 0.0, 6.0, 6.0, 0.0, 6.0, 7.0, 7.0, 6.0, 6.0, 7.0, 6.0, 6.0, 0.0, 0.0, 0.0, 9.0, 9.0, 0.0, 0.0, 8.0, 0.0, 9.0, 0.0, 0.0, 9.0, 9.0, 0.0, 0.0, 0.0, 9.0, 0.0, 9.0, 9.0, 8.0, 8.0, 8.0, 8.0, 8.0, 8.0, 9.0, 9.0, 9.0, 9.0, 9.0, 0.0, 0.0, 8.0, 8.0, 8.0, 9.0, 9.0, 8.0, 9.0, 0.0, 8.0, 8.0, 8.0, 8.0, 8.0, 8.0, 8.0, 8.0, 8.0, 8.0, 6.0, 7.0, 7.0, 8.0, 8.0, 8.0, 7.0, 7.0, 8.0, 0.0, 8.0, 0.0, 7.0, 7.0, 0.0, 8.0, 6.0, 7.0, 7.0, 7.0, 7.0, 7.0, 7.0, 7.0, 7.0, 0.0, 0.0, 0.0, 6.0, 7.0, 0.0, 6.0, 8.0, 7.0, 7.0, 6.0, 7.0, 7.0, 6.0, 7.0, 0.0, 0.0, 9.0, 9.0, 0.0, 0.0, 0.0, 0.0, 9.0, 0.0, 0.0, 0.0, 9.0, 0.0, 0.0, 0.0, 9.0, 8.0, 9.0, 9.0, 9.0, 8.0, 8.0, 9.0, 9.0, 9.0, 9.0, 9.0, 9.0, 9.0, 9.0, 0.0, 0.0, 7.0, 8.0, 9.0, 9.0, 8.0, 9.0, 9.0, 0.0, 8.0, 8.0, 8.0, 7.0, 8.0, 7.0, 8.0, 8.0, 0.0, 8.0, 6.0, 6.0, 7.0, 7.0, 8.0, 8.0, 7.0, 7.0, 8.0, 0.0, 7.0, 0.0, 7.0, 7.0, 0.0, 8.0, 7.0, 8.0, 7.0, 7.0, 7.0, 7.0, 7.0, 7.0, 7.0, 0.0, 0.0, 0.0, 6.0, 7.0, 0.0, 7.0, 7.0, 7.0, 7.0, 6.0, 7.0, 7.0, 7.0, 7.0, 0.0, 0.0, 8.0, 8.0, 0.0, 0.0, 8.0, 0.0, 9.0, 0.0, 0.0, 9.0, 9.0, 9.0, 0.0, 0.0, 9.0, 8.0, 8.0, 9.0, 8.0, 8.0, 8.0, 8.0, 8.0, 9.0, 9.0, 9.0, 9.0, 9.0, 9.0, 0.0, 0.0, 7.0, 8.0, 8.0, 9.0, 9.0, 8.0, 9.0, 0.0, 8.0, 8.0, 9.0, 8.0, 8.0, 8.0, 8.0, 8.0, 8.0, 7.0, 7.0, 7.0, 8.0, 8.0, 8.0, 8.0, 8.0, 8.0, 8.0, 0.0, 7.0, 0.0, 8.0, 7.0, 0.0, 8.0, 7.0, 8.0, 7.0, 8.0, 8.0, 7.0, 8.0, 8.0, 8.0, 0.0, 0.0, 0.0, 6.0, 6.0, 0.0, 7.0, 8.0, 7.0, 7.0, 6.0, 7.0, 7.0, 7.0, 0.0, 0.0, 0.0, 8.0, 9.0, 0.0, 0.0, 0.0, 0.0, 9.0, 0.0, 0.0, 9.0, 9.0, 9.0, 0.0, 0.0, 9.0, 0.0, 9.0, 9.0, 8.0, 8.0, 8.0, 8.0, 8.0, 9.0, 9.0, 9.0, 8.0, 9.0, 9.0, 0.0, 0.0, 7.0, 8.0, 9.0, 8.0, 8.0, 9.0, 9.0, 9.0, 8.0, 8.0, 9.0, 8.0, 8.0, 8.0, 8.0, 8.0, 0.0, 7.0, 8.0, 7.0, 8.0, 8.0, 8.0, 8.0, 8.0, 8.0, 8.0, 0.0, 8.0, 0.0, 7.0, 7.0, 8.0, 8.0, 7.0, 7.0, 7.0, 7.0, 7.0, 7.0, 8.0, 8.0, 8.0, 0.0, 0.0, 0.0, 6.0, 7.0, 0.0, 6.0, 7.0, 7.0, 6.0, 6.0, 6.0, 7.0, 7.0, 8.0, 0.0, 0.0, 9.0, 9.0, 0.0, 0.0, 8.0, 0.0, 9.0, 0.0, 0.0, 0.0, 9.0, 9.0, 0.0, 0.0, 0.0, 0.0, 9.0, 9.0, 9.0, 9.0, 9.0, 9.0, 9.0, 9.0, 9.0, 9.0, 9.0, 9.0, 9.0, 0.0, 0.0, 7.0, 8.0, 8.0, 7.0, 7.0, 8.0, 9.0, 9.0, 8.0, 8.0, 8.0, 7.0, 8.0, 8.0, 8.0, 8.0, 0.0, 8.0, 6.0, 6.0, 7.0, 7.0, 8.0, 8.0, 7.0, 7.0, 7.0, 0.0, 7.0, 0.0, 7.0, 7.0, 7.0, 8.0, 6.0, 8.0, 7.0, 7.0, 7.0, 7.0, 7.0, 7.0, 8.0, 0.0, 0.0, 0.0, 6.0, 7.0, 0.0, 6.0, 8.0, 7.0, 7.0, 6.0, 7.0, 7.0, 6.0, 0.0, 0.0, 0.0, 8.0, 9.0, 0.0, 0.0, 8.0, 0.0, 9.0, 0.0, 0.0, 0.0, 9.0, 9.0, 0.0, 0.0, 0.0, 0.0, 9.0, 9.0, 9.0, 9.0, 8.0, 8.0, 8.0, 8.0, 9.0, 8.0, 9.0, 9.0, 8.0, 0.0, 0.0, 7.0, 8.0, 9.0, 8.0, 9.0, 9.0, 9.0, 8.0, 8.0, 8.0, 9.0, 8.0, 8.0, 8.0, 8.0, 8.0, 0.0, 7.0, 8.0, 7.0, 8.0, 8.0, 8.0, 8.0, 9.0, 8.0, 9.0, 0.0, 8.0, 0.0, 7.0, 7.0, 8.0, 8.0, 7.0, 8.0, 7.0, 7.0, 8.0, 7.0, 8.0, 8.0, 8.0, 0.0, 0.0, 0.0, 6.0, 7.0, 0.0, 6.0, 7.0, 7.0, 7.0, 6.0, 7.0, 7.0, 6.0, 7.0, 0.0, 0.0, 8.0, 8.0, 0.0, 0.0, 0.0, 0.0, 0.0, 0.0, 0.0, 0.0, 9.0, 8.0, 0.0, 0.0, 0.0, 8.0, 8.0, 8.0, 8.0, 8.0, 8.0, 8.0, 8.0, 8.0, 8.0, 8.0, 9.0, 8.0, 8.0, 0.0, 0.0, 7.0, 7.0, 8.0, 9.0, 9.0, 8.0, 8.0, 9.0, 7.0, 8.0, 8.0, 8.0, 7.0, 7.0, 7.0, 7.0, 0.0, 8.0, 6.0, 6.0, 7.0, 7.0, 7.0, 8.0, 7.0, 7.0, 8.0, 0.0, 0.0, 0.0, 6.0, 7.0, 0.0, 8.0, 6.0, 7.0, 7.0, 6.0, 6.0, 6.0, 8.0, 8.0, 7.0, 0.0, 0.0, 0.0, 6.0, 6.0, 0.0, 6.0, 6.0, 6.0, 7.0, 6.0, 7.0, 7.0, 6.0, 9.0, 0.0, 0.0, 8.0, 0.0, 0.0, 0.0, 0.0, 0.0, 0.0, 0.0, 0.0, 0.0, 9.0, 9.0, 0.0, 0.0, 0.0, 9.0, 8.0, 8.0, 8.0, 9.0, 9.0, 9.0, 9.0, 9.0, 8.0, 8.0, 9.0, 9.0, 8.0, 0.0, 0.0, 7.0, 7.0, 8.0, 7.0, 7.0, 8.0, 8.0, 7.0, 6.0, 7.0, 6.0, 7.0, 7.0, 7.0, 7.0, 7.0, 0.0, 7.0, 6.0, 6.0, 7.0, 7.0, 7.0, 7.0, 7.0, 7.0, 7.0, 0.0, 7.0, 6.0, 6.0, 7.0, 0.0, 8.0, 6.0, 6.0, 6.0, 7.0, 7.0, 7.0, 7.0, 7.0, 7.0, 0.0, 0.0, 0.0, 6.0, 7.0, 0.0, 6.0, 6.0, 6.0, 7.0, 6.0, 6.0, 6.0, 6.0, 0.0, 0.0, 0.0, 8.0, 9.0, 0.0, 0.0, 0.0, 0.0, 0.0, 0.0, 0.0, 0.0, 9.0, 9.0, 0.0, 0.0, 0.0, 9.0, 9.0, 9.0, 9.0, 9.0, 8.0, 8.0, 8.0, 8.0, 9.0, 8.0, 8.0, 9.0, 9.0, 0.0, 0.0, 7.0, 7.0, 8.0, 8.0, 8.0, 8.0, 9.0, 9.0, 7.0, 8.0, 8.0, 8.0, 8.0, 8.0, 8.0, 8.0, 0.0, 7.0, 8.0, 8.0, 8.0, 8.0, 8.0, 8.0, 8.0, 8.0, 8.0, 0.0, 8.0, 0.0, 7.0, 8.0, 0.0, 8.0, 6.0, 7.0, 6.0, 7.0, 7.0, 7.0, 8.0, 8.0, 8.0, 0.0, 0.0, 0.0, 6.0, 6.0, 0.0, 6.0, 7.0, 6.0, 6.0, 6.0, 7.0, 7.0, 6.0, 0.0, 0.0, 0.0, 8.0, 9.0, 0.0, 0.0, 8.0, 0.0, 9.0, 0.0, 0.0, 0.0, 9.0, 9.0, 0.0, 0.0, 0.0, 8.0, 9.0, 9.0, 9.0, 9.0, 9.0, 8.0, 9.0, 9.0, 9.0, 8.0, 8.0, 9.0, 9.0, 0.0, 0.0, 7.0, 7.0, 8.0, 8.0, 9.0, 9.0, 9.0, 8.0, 7.0, 7.0, 8.0, 8.0, 8.0, 7.0, 7.0, 8.0, 0.0, 7.0, 8.0, 8.0, 8.0, 8.0, 8.0, 7.0, 8.0, 8.0, 8.0, 0.0, 0.0, 0.0, 7.0, 8.0, 8.0, 8.0, 6.0, 7.0, 7.0, 7.0, 7.0, 7.0, 8.0, 8.0, 8.0, 0.0, 0.0, 0.0, 6.0, 6.0, 0.0, 6.0, 7.0, 6.0, 6.0, 6.0, 7.0, 7.0, 6.0, 8.0, 0.0, 0.0, 8.0, 0.0, 0.0, 0.0, 8.0, 8.0, 8.0, 0.0, 0.0, 8.0, 9.0, 8.0, 0.0, 0.0, 0.0, 8.0, 8.0, 9.0, 8.0, 8.0, 8.0, 8.0, 8.0, 8.0, 9.0, 8.0, 8.0, 8.0, 9.0, 8.0, 0.0, 9.0, 9.0, 8.0, 9.0, 9.0, 9.0, 8.0, 8.0, 9.0, 9.0, 9.0, 7.0, 8.0, 8.0, 9.0, 8.0, 0.0, 0.0, 8.0, 8.0, 8.0, 7.0, 8.0, 8.0, 8.0, 7.0, 8.0, 0.0, 0.0, 7.0, 7.0, 8.0, 9.0, 9.0, 8.0, 7.0, 7.0, 9.0, 8.0, 8.0, 7.0, 8.0, 7.0, 8.0, 0.0, 0.0, 7.0, 6.0, 0.0, 7.0, 7.0, 7.0, 7.0, 7.0, 7.0, 7.0, 7.0, 8.0, 0.0, 0.0, 9.0, 0.0, 0.0, 0.0, 0.0, 0.0, 9.0, 0.0, 0.0, 0.0, 9.0, 9.0, 0.0, 0.0, 0.0, 0.0, 8.0, 9.0, 8.0, 8.0, 8.0, 9.0, 9.0, 9.0, 9.0, 8.0, 8.0, 9.0, 8.0, 0.0, 0.0, 7.0, 7.0, 8.0, 9.0, 9.0, 9.0, 9.0, 8.0, 7.0, 7.0, 8.0, 8.0, 7.0, 7.0, 8.0, 8.0, 0.0, 7.0, 8.0, 6.0, 7.0, 8.0, 8.0, 7.0, 7.0, 7.0, 8.0, 0.0, 0.0, 6.0, 6.0, 7.0, 0.0, 7.0, 6.0, 7.0, 6.0, 7.0, 7.0, 6.0, 8.0, 8.0, 8.0, 0.0, 0.0, 0.0, 6.0, 7.0, 0.0, 6.0, 7.0, 6.0, 6.0, 6.0, 7.0, 6.0, 6.0, 7.0, 0.0, 0.0, 9.0, 0.0, 0.0, 0.0, 7.0, 7.0, 0.0, 0.0, 0.0, 9.0, 9.0, 9.0, 0.0, 0.0, 0.0, 9.0, 8.0, 8.0, 8.0, 8.0, 8.0, 8.0, 8.0, 8.0, 8.0, 9.0, 9.0, 9.0, 9.0, 9.0, 0.0, 9.0, 8.0, 8.0, 9.0, 9.0, 8.0, 9.0, 9.0, 9.0, 9.0, 9.0, 9.0, 9.0, 9.0, 9.0, 9.0, 0.0, 0.0, 8.0, 8.0, 8.0, 8.0, 8.0, 9.0, 9.0, 7.0, 8.0, 0.0, 0.0, 7.0, 7.0, 9.0, 8.0, 9.0, 8.0, 7.0, 8.0, 9.0, 8.0, 8.0, 8.0, 8.0, 9.0, 0.0, 0.0, 0.0, 7.0, 7.0, 0.0, 7.0, 8.0, 7.0, 8.0, 7.0, 7.0, 7.0, 7.0, 7.0, 0.0, 0.0, 8.0, 0.0, 0.0, 0.0, 8.0, 8.0, 8.0, 0.0, 0.0, 8.0, 8.0, 8.0, 0.0, 0.0, 0.0, 8.0, 8.0, 8.0, 8.0, 8.0, 8.0, 8.0, 8.0, 8.0, 8.0, 8.0, 8.0, 8.0, 8.0, 8.0, 0.0, 9.0, 8.0, 8.0, 9.0, 9.0, 8.0, 8.0, 8.0, 8.0, 9.0, 8.0, 8.0, 8.0, 9.0, 8.0, 8.0, 0.0, 0.0, 8.0, 8.0, 8.0, 8.0, 8.0, 8.0, 7.0, 7.0, 7.0, 0.0, 0.0, 7.0, 7.0, 8.0, 8.0, 8.0, 8.0, 7.0, 7.0, 7.0, 8.0, 7.0, 7.0, 8.0, 7.0, 8.0, 0.0, 0.0, 7.0, 7.0, 0.0, 7.0, 7.0, 7.0, 6.0, 6.0, 7.0, 7.0, 7.0, 7.0, 0.0, 0.0, 8.0, 0.0, 0.0, 0.0, 8.0, 0.0, 8.0, 0.0, 0.0, 0.0, 8.0, 8.0, 0.0, 0.0, 0.0, 8.0, 8.0, 8.0, 8.0, 8.0, 0.0, 8.0, 8.0, 8.0, 8.0, 8.0, 8.0, 8.0, 8.0, 8.0, 0.0, 9.0, 8.0, 8.0, 8.0, 8.0, 8.0, 8.0, 8.0, 9.0, 9.0, 9.0, 7.0, 7.0, 8.0, 7.0, 7.0, 0.0, 8.0, 8.0, 8.0, 8.0, 7.0, 7.0, 8.0, 8.0, 7.0, 7.0, 0.0, 0.0, 7.0, 7.0, 7.0, 8.0, 8.0, 8.0, 7.0, 8.0, 7.0, 7.0, 7.0, 7.0, 7.0, 7.0, 8.0, 0.0, 0.0, 7.0, 6.0, 0.0, 6.0, 7.0, 7.0, 8.0, 7.0, 7.0, 6.0, 7.0, 7.0, 0.0, 0.0, 9.0, 10.0, 0.0, 0.0, 9.0, 0.0, 0.0, 0.0, 0.0, 0.0, 0.0, 8.0, 0.0, 0.0, 0.0, 9.0, 8.0, 9.0, 8.0, 9.0, 0.0, 9.0, 0.0, 0.0, 9.0, 9.0, 8.0, 8.0, 8.0, 0.0, 0.0, 9.0, 9.0, 8.0, 8.0, 8.0, 9.0, 8.0, 8.0, 9.0, 9.0, 9.0, 8.0, 7.0, 7.0, 8.0, 8.0, 0.0, 0.0, 8.0, 8.0, 7.0, 7.0, 8.0, 8.0, 8.0, 8.0, 7.0, 0.0, 0.0, 0.0, 6.0, 8.0, 8.0, 7.0, 7.0, 7.0, 6.0, 6.0, 6.0, 7.0, 7.0, 8.0, 9.0, 8.0, 8.0, 0.0, 7.0, 7.0, 0.0, 7.0, 7.0, 7.0, 8.0, 7.0, 7.0, 6.0, 6.0, 7.0, 0.0, 0.0, 9.0, 9.0, 0.0, 0.0, 0.0, 0.0, 9.0, 0.0, 0.0, 0.0, 9.0, 9.0, 0.0, 0.0, 0.0, 9.0, 9.0, 9.0, 9.0, 9.0, 0.0, 9.0, 9.0, 0.0, 9.0, 9.0, 9.0, 9.0, 9.0, 9.0, 8.0, 9.0, 8.0, 9.0, 8.0, 9.0, 9.0, 9.0, 8.0, 7.0, 7.0, 8.0, 8.0, 8.0, 8.0, 8.0, 8.0, 0.0, 7.0, 8.0, 7.0, 7.0, 8.0, 8.0, 8.0, 8.0, 8.0, 8.0, 0.0, 0.0, 6.0, 6.0, 7.0, 8.0, 8.0, 6.0, 7.0, 6.0, 7.0, 7.0, 7.0, 8.0, 8.0, 7.0, 8.0, 0.0, 0.0, 6.0, 6.0, 0.0, 6.0, 7.0, 7.0, 7.0, 7.0, 7.0, 6.0, 6.0, 7.0, 0.0, 0.0, 9.0, 8.0, 0.0, 0.0, 8.0, 0.0, 0.0, 0.0, 0.0, 0.0, 9.0, 8.0, 0.0, 0.0, 0.0, 9.0, 9.0, 9.0, 8.0, 8.0, 8.0, 9.0, 9.0, 8.0, 9.0, 8.0, 8.0, 9.0, 9.0, 0.0, 0.0, 9.0, 8.0, 9.0, 8.0, 8.0, 9.0, 9.0, 8.0, 7.0, 7.0, 8.0, 8.0, 8.0, 8.0, 8.0, 8.0, 0.0, 0.0, 8.0, 7.0, 8.0, 8.0, 8.0, 7.0, 8.0, 7.0, 7.0, 0.0, 0.0, 0.0, 6.0, 7.0, 8.0, 8.0, 7.0, 7.0, 6.0, 7.0, 7.0, 7.0, 7.0, 8.0, 8.0, 9.0, 0.0, 0.0, 7.0, 7.0, 0.0, 6.0, 7.0, 7.0, 6.0, 6.0, 7.0, 6.0, 6.0, 8.0, 0.0, 0.0, 9.0, 0.0, 0.0, 0.0, 8.0, 0.0, 9.0, 0.0, 0.0, 0.0, 9.0, 9.0, 0.0, 0.0, 0.0, 9.0, 9.0, 9.0, 8.0, 8.0, 0.0, 9.0, 9.0, 9.0, 9.0, 9.0, 9.0, 9.0, 9.0, 9.0, 8.0, 9.0, 8.0, 9.0, 9.0, 9.0, 9.0, 9.0, 8.0, 7.0, 8.0, 9.0, 8.0, 8.0, 8.0, 8.0, 8.0, 0.0, 0.0, 8.0, 8.0, 7.0, 8.0, 8.0, 8.0, 9.0, 8.0, 8.0, 0.0, 0.0, 6.0, 7.0, 7.0, 8.0, 8.0, 8.0, 7.0, 7.0, 7.0, 7.0, 7.0, 8.0, 8.0, 8.0, 9.0, 0.0, 0.0, 6.0, 7.0, 0.0, 6.0, 8.0, 8.0, 7.0, 7.0, 7.0, 6.0, 6.0, 8.0, 0.0, 0.0, 9.0, 0.0, 0.0, 0.0, 7.0, 0.0, 0.0, 0.0, 0.0, 0.0, 9.0, 9.0, 0.0, 0.0, 0.0, 9.0, 9.0, 9.0, 8.0, 8.0, 0.0, 9.0, 9.0, 8.0, 9.0, 9.0, 9.0, 9.0, 9.0, 0.0, 0.0, 9.0, 8.0, 8.0, 9.0, 9.0, 8.0, 9.0, 9.0, 8.0, 8.0, 8.0, 8.0, 8.0, 8.0, 8.0, 8.0, 0.0, 0.0, 8.0, 6.0, 8.0, 8.0, 8.0, 8.0, 8.0, 8.0, 8.0, 0.0, 0.0, 6.0, 7.0, 7.0, 0.0, 7.0, 8.0, 7.0, 7.0, 7.0, 7.0, 7.0, 7.0, 7.0, 8.0, 0.0, 0.0, 0.0, 7.0, 7.0, 0.0, 7.0, 7.0, 7.0, 7.0, 6.0, 7.0, 6.0, 7.0, 0.0, 0.0, 0.0, 9.0, 0.0, 0.0, 0.0, 0.0, 0.0, 0.0, 0.0, 0.0, 0.0, 9.0, 9.0, 0.0, 0.0, 0.0, 9.0, 9.0, 9.0, 9.0, 9.0, 9.0, 9.0, 9.0, 9.0, 9.0, 9.0, 9.0, 9.0, 9.0, 0.0, 0.0, 8.0, 8.0, 8.0, 8.0, 8.0, 9.0, 9.0, 9.0, 7.0, 8.0, 8.0, 7.0, 8.0, 8.0, 8.0, 8.0, 0.0, 7.0, 8.0, 8.0, 8.0, 8.0, 8.0, 7.0, 9.0, 7.0, 7.0, 0.0, 0.0, 7.0, 7.0, 7.0, 0.0, 7.0, 8.0, 7.0, 8.0, 7.0, 7.0, 7.0, 7.0, 7.0, 8.0, 0.0, 0.0, 0.0, 6.0, 7.0, 0.0, 7.0, 8.0, 7.0, 7.0, 7.0, 7.0, 7.0, 7.0, 7.0, 0.0, 0.0, 9.0, 0.0, 0.0, 0.0, 8.0, 0.0, 0.0, 0.0, 0.0, 0.0, 9.0, 9.0, 0.0, 0.0, 0.0, 9.0, 9.0, 9.0, 9.0, 8.0, 0.0, 8.0, 9.0, 8.0, 9.0, 10.0, 9.0, 9.0, 9.0, 9.0, 8.0, 9.0, 10.0, 9.0, 9.0, 9.0, 9.0, 9.0, 9.0, 9.0, 10.0, 10.0, 9.0, 10.0, 10.0, 10.0, 9.0, 0.0, 0.0, 8.0, 8.0, 8.0, 8.0, 9.0, 9.0, 9.0, 8.0, 8.0, 0.0, 0.0, 7.0, 8.0, 9.0, 8.0, 9.0, 8.0, 7.0, 8.0, 9.0, 8.0, 9.0, 9.0, 8.0, 9.0, 8.0, 0.0, 0.0, 6.0, 7.0, 0.0, 7.0, 8.0, 7.0, 9.0, 7.0, 7.0, 7.0, 7.0, 7.0, 0.0, 0.0, 8.0, 9.0, 0.0, 0.0, 7.0, 0.0, 9.0, 0.0, 0.0, 0.0, 9.0, 8.0, 0.0, 0.0, 0.0, 9.0, 8.0, 8.0, 8.0, 8.0, 0.0, 8.0, 9.0, 8.0, 9.0, 8.0, 8.0, 9.0, 9.0, 0.0, 0.0, 9.0, 8.0, 8.0, 8.0, 8.0, 8.0, 9.0, 8.0, 9.0, 9.0, 9.0, 7.0, 7.0, 8.0, 7.0, 8.0, 0.0, 7.0, 8.0, 7.0, 7.0, 7.0, 7.0, 8.0, 8.0, 7.0, 7.0, 0.0, 0.0, 0.0, 6.0, 8.0, 8.0, 7.0, 7.0, 7.0, 7.0, 6.0, 7.0, 7.0, 7.0, 8.0, 7.0, 8.0, 0.0, 0.0, 7.0, 7.0, 0.0, 6.0, 7.0, 7.0, 7.0, 6.0, 7.0, 0.0, 6.0, 9.0, 0.0, 0.0, 9.0, 0.0, 0.0, 0.0, 8.0, 0.0, 9.0, 8.0, 0.0, 9.0, 9.0, 9.0, 0.0, 9.0, 9.0, 8.0, 7.0, 8.0, 7.0, 8.0, 8.0, 8.0, 8.0, 8.0, 8.0, 8.0, 9.0, 9.0, 9.0, 0.0, 0.0, 7.0, 7.0, 7.0, 7.0, 8.0, 7.0, 8.0, 8.0, 8.0, 7.0, 7.0, 7.0, 7.0, 7.0, 7.0, 7.0, 0.0, 7.0, 6.0, 7.0, 7.0, 7.0, 7.0, 7.0, 7.0, 6.0, 7.0, 0.0, 6.0, 7.0, 7.0, 8.0, 7.0, 6.0, 7.0, 7.0, 7.0, 7.0, 7.0, 7.0, 7.0, 7.0, 7.0, 0.0, 0.0, 0.0, 6.0, 7.0, 0.0, 6.0, 7.0, 6.0, 7.0, 6.0, 7.0, 6.0, 6.0, 9.0, 0.0, 0.0, 8.0, 0.0, 0.0, 0.0, 8.0, 0.0, 0.0, 0.0, 0.0, 8.0, 8.0, 9.0, 0.0, 9.0, 8.0, 0.0, 8.0, 8.0, 8.0, 8.0, 8.0, 8.0, 8.0, 8.0, 7.0, 8.0, 8.0, 9.0, 8.0, 0.0, 0.0, 8.0, 7.0, 7.0, 7.0, 7.0, 7.0, 8.0, 7.0, 7.0, 7.0, 7.0, 8.0, 7.0, 6.0, 7.0, 7.0, 8.0, 7.0, 7.0, 7.0, 8.0, 7.0, 7.0, 8.0, 7.0, 6.0, 6.0, 0.0, 6.0, 0.0, 7.0, 7.0, 7.0, 7.0, 8.0, 7.0, 7.0, 6.0, 6.0, 6.0, 6.0, 6.0, 6.0, 0.0, 0.0, 0.0, 6.0, 7.0, 0.0, 7.0, 6.0, 6.0, 6.0, 6.0, 7.0, 7.0, 7.0, 0.0, 0.0, 0.0, 9.0, 0.0, 0.0, 0.0, 8.0, 0.0, 0.0, 0.0, 0.0, 9.0, 9.0, 9.0, 0.0, 0.0, 8.0, 8.0, 8.0, 8.0, 8.0, 8.0, 8.0, 8.0, 9.0, 9.0, 9.0, 9.0, 9.0, 9.0, 9.0, 0.0, 0.0, 8.0, 7.0, 7.0, 7.0, 7.0, 8.0, 8.0, 0.0, 8.0, 8.0, 8.0, 8.0, 7.0, 7.0, 7.0, 7.0, 0.0, 7.0, 7.0, 7.0, 7.0, 7.0, 8.0, 8.0, 8.0, 7.0, 7.0, 0.0, 7.0, 7.0, 7.0, 6.0, 7.0, 7.0, 8.0, 7.0, 7.0, 7.0, 7.0, 6.0, 6.0, 7.0, 8.0, 0.0, 0.0, 0.0, 6.0, 7.0, 0.0, 7.0, 7.0, 7.0, 6.0, 6.0, 7.0, 7.0, 7.0, 9.0, 0.0, 0.0, 9.0, 0.0, 0.0, 0.0, 8.0, 0.0, 9.0, 0.0, 0.0, 9.0, 9.0, 9.0, 9.0, 0.0, 0.0, 9.0, 8.0, 8.0, 8.0, 9.0, 9.0, 9.0, 9.0, 9.0, 8.0, 8.0, 9.0, 9.0, 9.0, 0.0, 8.0, 7.0, 8.0, 8.0, 8.0, 8.0, 8.0, 8.0, 8.0, 8.0, 7.0, 8.0, 8.0, 7.0, 7.0, 7.0, 8.0, 0.0, 8.0, 6.0, 7.0, 7.0, 7.0, 7.0, 8.0, 7.0, 7.0, 7.0, 0.0, 6.0, 7.0, 7.0, 7.0, 7.0, 7.0, 7.0, 7.0, 7.0, 7.0, 7.0, 7.0, 7.0, 7.0, 7.0, 0.0, 0.0, 0.0, 6.0, 7.0, 0.0, 6.0, 7.0, 7.0, 6.0, 7.0, 6.0, 7.0, 0.0, 0.0, 0.0, 8.0, 0.0, 0.0, 0.0, 8.0, 8.0, 8.0, 0.0, 0.0, 0.0, 8.0, 8.0, 9.0, 0.0, 0.0, 8.0, 8.0, 8.0, 8.0, 8.0, 0.0, 0.0, 0.0, 8.0, 8.0, 8.0, 8.0, 8.0, 8.0, 0.0, 0.0, 8.0, 7.0, 8.0, 9.0, 8.0, 8.0, 8.0, 8.0, 7.0, 8.0, 7.0, 8.0, 7.0, 7.0, 7.0, 7.0, 0.0, 8.0, 8.0, 8.0, 8.0, 7.0, 7.0, 7.0, 7.0, 7.0, 7.0, 0.0, 8.0, 7.0, 7.0, 8.0, 8.0, 9.0, 8.0, 7.0, 7.0, 7.0, 8.0, 8.0, 7.0, 7.0, 7.0, 0.0, 8.0, 0.0, 6.0, 6.0, 0.0, 7.0, 7.0, 7.0, 6.0, 7.0, 7.0, 7.0, 7.0, 9.0, 0.0, 0.0, 9.0, 0.0, 0.0, 0.0, 8.0, 0.0, 9.0, 0.0, 0.0, 9.0, 9.0, 9.0, 9.0, 0.0, 0.0, 9.0, 9.0, 9.0, 9.0, 9.0, 8.0, 8.0, 9.0, 9.0, 9.0, 9.0, 9.0, 9.0, 9.0, 0.0, 0.0, 7.0, 8.0, 8.0, 8.0, 8.0, 8.0, 8.0, 8.0, 8.0, 7.0, 8.0, 8.0, 8.0, 7.0, 8.0, 8.0, 0.0, 8.0, 7.0, 6.0, 7.0, 7.0, 7.0, 8.0, 7.0, 7.0, 7.0, 0.0, 8.0, 7.0, 8.0, 8.0, 8.0, 7.0, 7.0, 8.0, 8.0, 7.0, 7.0, 7.0, 7.0, 7.0, 7.0, 0.0, 0.0, 0.0, 6.0, 7.0, 0.0, 6.0, 7.0, 7.0, 7.0, 6.0, 7.0, 7.0, 7.0, 9.0, 0.0, 0.0, 9.0, 0.0, 0.0, 0.0, 9.0, 0.0, 9.0, 0.0, 0.0, 9.0, 9.0, 9.0, 0.0, 0.0, 0.0, 9.0, 9.0, 9.0, 9.0, 9.0, 9.0, 9.0, 9.0, 9.0, 9.0, 9.0, 9.0, 9.0, 9.0, 0.0, 9.0, 9.0, 8.0, 9.0, 8.0, 8.0, 9.0, 9.0, 9.0, 9.0, 8.0, 9.0, 8.0, 8.0, 8.0, 8.0, 8.0, 0.0, 8.0, 8.0, 8.0, 9.0, 8.0, 8.0, 10.0, 9.0, 8.0, 8.0, 0.0, 8.0, 7.0, 8.0, 8.0, 8.0, 9.0, 8.0, 8.0, 8.0, 8.0, 7.0, 7.0, 7.0, 8.0, 8.0, 0.0, 0.0, 0.0, 6.0, 7.0, 0.0, 7.0, 8.0, 8.0, 7.0, 7.0, 8.0, 8.0, 7.0, 8.0, 0.0, 0.0, 9.0, 0.0, 0.0, 0.0, 0.0, 0.0, 0.0, 0.0, 0.0, 9.0, 9.0, 8.0, 0.0, 0.0, 0.0, 9.0, 8.0, 9.0, 8.0, 8.0, 8.0, 9.0, 8.0, 8.0, 9.0, 9.0, 9.0, 9.0, 9.0, 0.0, 0.0, 8.0, 8.0, 8.0, 9.0, 8.0, 8.0, 8.0, 9.0, 7.0, 8.0, 8.0, 8.0, 8.0, 8.0, 8.0, 8.0, 0.0, 7.0, 8.0, 8.0, 8.0, 8.0, 8.0, 8.0, 8.0, 6.0, 7.0, 0.0, 8.0, 7.0, 7.0, 8.0, 8.0, 7.0, 7.0, 7.0, 7.0, 7.0, 7.0, 7.0, 7.0, 7.0, 8.0, 0.0, 9.0, 0.0, 6.0, 7.0, 0.0, 7.0, 7.0, 6.0, 7.0, 6.0, 7.0, 7.0, 7.0, 8.0, 0.0, 0.0, 8.0, 0.0, 0.0, 0.0, 8.0, 0.0, 0.0, 0.0, 0.0, 8.0, 8.0, 8.0, 0.0, 0.0, 0.0, 8.0, 8.0, 8.0, 8.0, 0.0, 0.0, 0.0, 0.0, 0.0, 8.0, 9.0, 8.0, 8.0, 8.0, 0.0, 0.0, 9.0, 7.0, 8.0, 9.0, 8.0, 8.0, 8.0, 8.0, 8.0, 7.0, 7.0, 7.0, 7.0, 8.0, 7.0, 7.0, 0.0, 0.0, 8.0, 8.0, 8.0, 7.0, 7.0, 7.0, 7.0, 7.0, 7.0, 0.0, 0.0, 7.0, 7.0, 7.0, 8.0, 8.0, 8.0, 7.0, 7.0, 6.0, 6.0, 6.0, 6.0, 7.0, 7.0, 7.0, 8.0, 0.0, 6.0, 6.0, 0.0, 7.0, 7.0, 7.0, 6.0, 7.0, 7.0, 7.0, 7.0, 9.0, 0.0, 0.0, 9.0, 0.0, 0.0, 0.0, 0.0, 0.0, 0.0, 0.0, 0.0, 0.0, 9.0, 9.0, 0.0, 0.0, 0.0, 9.0, 9.0, 8.0, 9.0, 9.0, 9.0, 8.0, 9.0, 9.0, 8.0, 9.0, 9.0, 9.0, 9.0, 0.0, 8.0, 7.0, 8.0, 8.0, 8.0, 7.0, 9.0, 8.0, 9.0, 7.0, 8.0, 9.0, 7.0, 8.0, 7.0, 8.0, 8.0, 0.0, 7.0, 8.0, 7.0, 8.0, 8.0, 8.0, 8.0, 8.0, 7.0, 7.0, 0.0, 8.0, 7.0, 7.0, 7.0, 7.0, 7.0, 7.0, 7.0, 7.0, 7.0, 7.0, 7.0, 7.0, 7.0, 7.0, 0.0, 8.0, 0.0, 6.0, 7.0, 0.0, 6.0, 8.0, 6.0, 7.0, 6.0, 7.0, 6.0, 6.0, 9.0, 0.0, 0.0, 9.0, 0.0, 0.0, 0.0, 0.0, 0.0, 0.0, 0.0, 0.0, 0.0, 9.0, 9.0, 0.0, 0.0, 0.0, 9.0, 9.0, 9.0, 9.0, 9.0, 9.0, 8.0, 9.0, 9.0, 9.0, 9.0, 9.0, 9.0, 9.0, 0.0, 0.0, 9.0, 8.0, 8.0, 8.0, 8.0, 9.0, 9.0, 9.0, 8.0, 8.0, 8.0, 8.0, 8.0, 8.0, 8.0, 8.0, 0.0, 8.0, 7.0, 6.0, 8.0, 8.0, 8.0, 8.0, 7.0, 8.0, 7.0, 0.0, 0.0, 7.0, 7.0, 7.0, 8.0, 8.0, 8.0, 7.0, 7.0, 7.0, 7.0, 7.0, 7.0, 7.0, 8.0, 0.0, 9.0, 0.0, 6.0, 7.0, 0.0, 7.0, 7.0, 7.0, 7.0, 6.0, 8.0, 7.0, 7.0, 8.0, 0.0, 0.0, 9.0, 0.0, 0.0, 0.0, 9.0, 0.0, 0.0, 0.0, 0.0, 9.0, 9.0, 9.0, 0.0, 0.0, 0.0, 9.0, 8.0, 9.0, 8.0, 8.0, 8.0, 8.0, 8.0, 8.0, 9.0, 9.0, 9.0, 9.0, 9.0, 9.0, 0.0, 9.0, 10.0, 8.0, 9.0, 9.0, 8.0, 9.0, 9.0, 9.0, 8.0, 8.0, 8.0, 8.0, 8.0, 8.0, 8.0, 0.0, 0.0, 8.0, 8.0, 8.0, 8.0, 8.0, 8.0, 8.0, 8.0, 8.0, 8.0, 0.0, 7.0, 8.0, 8.0, 8.0, 8.0, 8.0, 7.0, 8.0, 7.0, 7.0, 7.0, 8.0, 7.0, 8.0, 9.0, 0.0, 0.0, 7.0, 7.0, 0.0, 8.0, 8.0, 7.0, 7.0, 6.0, 7.0, 8.0, 8.0, 9.0, 0.0, 0.0, 9.0, 0.0, 0.0, 0.0, 9.0, 0.0, 0.0, 0.0, 0.0, 0.0, 9.0, 8.0, 0.0, 0.0, 0.0, 8.0, 8.0, 9.0, 9.0, 9.0, 9.0, 9.0, 9.0, 9.0, 9.0, 9.0, 9.0, 9.0, 9.0, 0.0, 0.0, 9.0, 8.0, 8.0, 8.0, 8.0, 9.0, 9.0, 8.0, 8.0, 7.0, 9.0, 8.0, 8.0, 8.0, 8.0, 8.0, 0.0, 7.0, 8.0, 8.0, 8.0, 8.0, 8.0, 8.0, 8.0, 7.0, 7.0, 0.0, 0.0, 7.0, 7.0, 7.0, 7.0, 7.0, 8.0, 7.0, 7.0, 7.0, 7.0, 7.0, 7.0, 7.0, 8.0, 0.0, 0.0, 0.0, 6.0, 7.0, 0.0, 7.0, 7.0, 6.0, 7.0, 6.0, 7.0, 7.0, 7.0, 7.0, 0.0, 0.0, 9.0, 0.0, 0.0, 0.0, 8.0, 8.0, 9.0, 0.0, 0.0, 8.0, 9.0, 8.0, 0.0, 0.0, 0.0, 9.0, 9.0, 8.0, 8.0, 8.0, 8.0, 8.0, 8.0, 8.0, 8.0, 9.0, 9.0, 8.0, 9.0, 9.0, 9.0, 9.0, 8.0, 8.0, 9.0, 9.0, 8.0, 9.0, 9.0, 10.0, 10.0, 10.0, 0.0, 9.0, 9.0, 9.0, 9.0, 0.0, 0.0, 8.0, 8.0, 7.0, 8.0, 8.0, 8.0, 9.0, 8.0, 8.0, 0.0, 0.0, 7.0, 7.0, 8.0, 8.0, 9.0, 8.0, 7.0, 7.0, 7.0, 8.0, 8.0, 8.0, 8.0, 0.0, 9.0, 8.0, 0.0, 7.0, 8.0, 0.0, 7.0, 8.0, 8.0, 8.0, 7.0, 7.0, 7.0, 7.0, 7.0, 0.0, 0.0, 9.0, 0.0, 0.0, 0.0, 8.0, 0.0, 0.0, 0.0, 8.0, 0.0, 9.0, 9.0, 0.0, 0.0, 0.0, 9.0, 9.0, 8.0, 8.0, 8.0, 0.0, 9.0, 8.0, 0.0, 8.0, 9.0, 9.0, 9.0, 9.0, 9.0, 0.0, 9.0, 9.0, 8.0, 8.0, 9.0, 8.0, 8.0, 9.0, 10.0, 10.0, 9.0, 8.0, 9.0, 9.0, 7.0, 9.0, 0.0, 0.0, 8.0, 8.0, 8.0, 8.0, 8.0, 8.0, 9.0, 7.0, 7.0, 0.0, 0.0, 8.0, 7.0, 8.0, 8.0, 9.0, 8.0, 7.0, 8.0, 7.0, 8.0, 8.0, 8.0, 8.0, 8.0, 9.0, 8.0, 0.0, 7.0, 7.0, 0.0, 6.0, 8.0, 8.0, 8.0, 7.0, 7.0, 6.0, 6.0]\n",
            "[9.0, 9.0, 7.0, 9.0, 9.0, 9.0, 7.0, 7.0, 9.0, 9.0, 9.0, 7.0, 0.0, 5.0, 5.0, 7.0, 7.0, 5.0, 5.0, 7.0, 9.0, 9.0, 7.0, 7.0, 5.0, 7.0, 9.0, 10.0, 8.0, 5.0, 5.0, 7.0, 7.0, 5.0, 5.0, 5.0, 7.0, 5.0, 5.0, 5.0, 7.0, 7.0, 5.0, 7.0, 9.0, 8.0, 5.0, 7.0, 5.0, 7.0, 7.0, 10.0, 10.0, 10.0, 10.0, 10.0, 10.0, 9.0, 5.0, 5.0, 5.0, 9.0, 7.0, 5.0, 5.0, 5.0, 7.0, 7.0, 10.0, 5.0, 9.0, 7.0, 9.0, 10.0, 10.0, 0.0, 0.0, 5.0, 5.0, 7.0, 7.0, 7.0, 8.0, 10.0, 7.0, 7.0, 10.0, 10.0, 0.0, 10.0, 8.0, 8.0, 8.0, 8.0, 8.0, 8.0, 8.0, 8.0, 8.0, 8.0, 8.0, 8.0, 0.0, 5.0, 4.0, 5.0, 5.0, 0.0, 5.0, 5.0, 5.0, 0.0, 5.0, 8.0, 7.0, 8.0, 10.0, 10.0, 0.0, 7.0, 7.0, 7.0, 7.0, 7.0, 0.0, 0.0, 0.0, 0.0, 7.0, 7.0, 8.0, 8.0, 0.0, 5.0, 8.0, 0.0, 8.0, 0.0, 0.0, 5.0, 5.0, 0.0, 0.0, 10.0, 10.0, 10.0, 0.0, 8.0, 0.0, 7.0, 0.0, 8.0, 0.0, 5.0, 0.0, 0.0, 5.0, 10.0, 10.0, 7.0, 7.0, 8.0, 8.0, 10.0, 10.0, 0.0, 0.0, 5.0, 5.0, 7.0, 8.0, 9.0, 10.0, 9.0, 7.0, 7.0, 8.0, 9.0, 10.0, 10.0, 8.0, 8.0, 8.0, 8.0, 8.0, 10.0, 8.0, 8.0, 8.0, 8.0, 8.0, 8.0, 0.0, 8.0, 8.0, 8.0, 8.0, 8.0, 8.0, 8.0, 8.0, 8.0, 8.0, 8.0, 8.0, 8.0, 10.0, 10.0, 8.0, 7.0, 7.0, 7.0, 7.0, 7.0, 0.0, 8.0, 0.0, 5.0, 7.0, 7.0, 8.0, 8.0, 8.0, 8.0, 8.0, 0.0, 8.0, 8.0, 0.0, 8.0, 8.0, 0.0, 10.0, 8.0, 10.0, 10.0, 0.0, 8.0, 0.0, 7.0, 0.0, 8.0, 0.0, 7.0, 0.0, 0.0, 8.0, 10.0, 10.0, 7.0, 8.0, 10.0, 8.0, 10.0, 10.0, 10.0, 0.0, 5.0, 5.0, 7.0, 8.0, 10.0, 10.0, 10.0, 7.0, 7.0, 7.0, 9.0, 10.0, 10.0, 7.0, 7.0, 7.0, 8.0, 8.0, 10.0, 8.0, 7.0, 8.0, 10.0, 10.0, 8.0, 8.0, 7.0, 7.0, 7.0, 7.0, 0.0, 7.0, 7.0, 8.0, 0.0, 10.0, 6.0, 8.0, 8.0, 10.0, 0.0, 8.0, 5.0, 7.0, 8.0, 7.0, 7.0, 0.0, 7.0, 0.0, 5.0, 7.0, 7.0, 8.0, 8.0, 0.0, 8.0, 8.0, 0.0, 8.0, 8.0, 0.0, 7.0, 7.0, 0.0, 10.0, 10.0, 10.0, 10.0, 0.0, 7.0, 0.0, 5.0, 8.0, 10.0, 0.0, 5.0, 0.0, 0.0, 8.0, 10.0, 10.0, 5.0, 7.0, 10.0, 10.0, 10.0, 10.0, 9.0, 0.0, 5.0, 5.0, 7.0, 6.0, 10.0, 8.0, 9.0, 7.0, 7.0, 7.0, 9.0, 9.0, 9.0, 8.0, 7.0, 8.0, 8.0, 8.0, 10.0, 8.0, 8.0, 8.0, 0.0, 8.0, 8.0, 0.0, 7.0, 7.0, 8.0, 8.0, 0.0, 8.0, 8.0, 8.0, 8.0, 8.0, 8.0, 8.0, 8.0, 0.0, 10.0, 0.0, 5.0, 8.0, 8.0, 7.0, 7.0, 0.0, 8.0, 0.0, 5.0, 7.0, 7.0, 8.0, 8.0, 0.0, 8.0, 8.0, 0.0, 8.0, 8.0, 0.0, 7.0, 7.0, 0.0, 10.0, 8.0, 10.0, 10.0, 0.0, 8.0, 0.0, 7.0, 8.0, 8.0, 0.0, 0.0, 0.0, 8.0, 8.0, 10.0, 10.0, 5.0, 8.0, 8.0, 10.0, 10.0, 10.0, 10.0, 0.0, 5.0, 5.0, 7.0, 6.0, 10.0, 10.0, 10.0, 7.0, 7.0, 7.0, 7.0, 10.0, 10.0, 8.0, 0.0, 5.0, 5.0, 6.0, 6.0, 6.0, 5.0, 7.0, 6.0, 6.0, 5.0, 0.0, 5.0, 5.0, 5.0, 5.0, 6.0, 5.0, 5.0, 5.0, 6.0, 6.0, 6.0, 5.0, 6.0, 8.0, 8.0, 0.0, 6.0, 6.0, 5.0, 5.0, 5.0, 5.0, 0.0, 0.0, 0.0, 5.0, 5.0, 5.0, 8.0, 6.0, 6.0, 7.0, 0.0, 6.0, 5.0, 0.0, 7.0, 5.0, 8.0, 10.0, 0.0, 8.0, 8.0, 6.0, 8.0, 0.0, 5.0, 0.0, 8.0, 8.0, 5.0, 5.0, 0.0, 6.0, 8.0, 6.0, 5.0, 5.0, 6.0, 7.0, 9.0, 8.0, 10.0, 0.0, 6.0, 5.0, 5.0, 5.0, 7.0, 7.0, 7.0, 5.0, 8.0, 8.0, 8.0, 0.0, 0.0, 8.0, 8.0, 7.0, 8.0, 8.0, 10.0, 10.0, 7.0, 8.0, 10.0, 10.0, 8.0, 0.0, 8.0, 7.0, 8.0, 8.0, 7.0, 8.0, 8.0, 8.0, 0.0, 8.0, 9.0, 7.0, 8.0, 10.0, 0.0, 8.0, 5.0, 7.0, 7.0, 7.0, 7.0, 0.0, 0.0, 0.0, 0.0, 7.0, 7.0, 8.0, 8.0, 0.0, 0.0, 8.0, 0.0, 7.0, 0.0, 0.0, 8.0, 8.0, 0.0, 10.0, 8.0, 10.0, 10.0, 0.0, 8.0, 0.0, 5.0, 0.0, 8.0, 0.0, 5.0, 0.0, 0.0, 8.0, 10.0, 10.0, 7.0, 7.0, 8.0, 8.0, 10.0, 10.0, 10.0, 0.0, 5.0, 5.0, 7.0, 8.0, 9.0, 10.0, 9.0, 7.0, 7.0, 7.0, 7.0, 8.0, 10.0, 8.0, 7.0, 7.0, 0.0, 7.0, 0.0, 7.0, 7.0, 7.0, 0.0, 7.0, 7.0, 0.0, 5.0, 5.0, 5.0, 0.0, 5.0, 0.0, 8.0, 0.0, 7.0, 8.0, 7.0, 7.0, 8.0, 0.0, 8.0, 6.0, 0.0, 0.0, 0.0, 2.0, 3.0, 0.0, 0.0, 0.0, 0.0, 0.0, 0.0, 0.0, 0.0, 0.0, 0.0, 0.0, 0.0, 0.0, 0.0, 0.0, 0.0, 3.0, 0.0, 10.0, 10.0, 10.0, 10.0, 0.0, 7.0, 0.0, 6.0, 0.0, 8.0, 8.0, 0.0, 0.0, 5.0, 8.0, 8.0, 5.0, 5.0, 7.0, 8.0, 8.0, 10.0, 10.0, 0.0, 0.0, 0.0, 0.0, 5.0, 8.0, 8.0, 8.0, 7.0, 5.0, 5.0, 9.0, 7.0, 7.0, 8.0, 9.0, 9.0, 7.0, 9.0, 9.0, 9.0, 9.0, 7.0, 9.0, 9.0, 9.0, 7.0, 0.0, 5.0, 7.0, 7.0, 7.0, 7.0, 7.0, 7.0, 7.0, 9.0, 9.0, 7.0, 5.0, 9.0, 9.0, 10.0, 10.0, 5.0, 5.0, 7.0, 7.0, 7.0, 7.0, 7.0, 7.0, 5.0, 7.0, 5.0, 7.0, 7.0, 7.0, 9.0, 9.0, 10.0, 7.0, 5.0, 5.0, 7.0, 9.0, 9.0, 0.0, 0.0, 0.0, 10.0, 0.0, 9.0, 5.0, 5.0, 7.0, 9.0, 7.0, 5.0, 5.0, 5.0, 9.0, 9.0, 0.0, 7.0, 7.0, 9.0, 9.0, 9.0, 10.0, 10.0, 7.0, 5.0, 5.0, 7.0, 7.0, 7.0, 10.0, 10.0, 9.0, 10.0, 10.0, 10.0, 0.0, 9.0, 9.0, 9.0, 7.0, 7.0, 7.0, 7.0, 7.0, 9.0, 7.0, 7.0, 9.0, 7.0, 0.0, 5.0, 5.0, 5.0, 5.0, 7.0, 5.0, 5.0, 7.0, 7.0, 7.0, 7.0, 7.0, 7.0, 9.0, 9.0, 8.0, 5.0, 5.0, 5.0, 5.0, 5.0, 7.0, 5.0, 5.0, 5.0, 5.0, 5.0, 5.0, 5.0, 5.0, 7.0, 9.0, 7.0, 7.0, 5.0, 5.0, 7.0, 9.0, 9.0, 0.0, 0.0, 0.0, 10.0, 0.0, 9.0, 0.0, 5.0, 7.0, 9.0, 7.0, 5.0, 5.0, 7.0, 7.0, 7.0, 10.0, 5.0, 7.0, 7.0, 9.0, 9.0, 9.0, 10.0, 7.0, 5.0, 5.0, 5.0, 7.0, 7.0, 7.0, 10.0, 9.0, 9.0, 10.0, 10.0, 0.0, 9.0, 9.0, 9.0, 7.0, 9.0, 9.0, 9.0, 9.0, 9.0, 9.0, 9.0, 9.0, 7.0, 0.0, 5.0, 5.0, 5.0, 5.0, 9.0, 5.0, 7.0, 7.0, 7.0, 9.0, 7.0, 7.0, 9.0, 9.0, 9.0, 0.0, 5.0, 5.0, 5.0, 5.0, 5.0, 7.0, 5.0, 7.0, 5.0, 5.0, 5.0, 7.0, 7.0, 7.0, 9.0, 9.0, 7.0, 7.0, 5.0, 0.0, 7.0, 9.0, 9.0, 0.0, 0.0, 0.0, 10.0, 0.0, 7.0, 5.0, 5.0, 9.0, 9.0, 9.0, 5.0, 5.0, 7.0, 9.0, 9.0, 8.0, 5.0, 9.0, 7.0, 9.0, 9.0, 10.0, 9.0, 7.0, 5.0, 5.0, 5.0, 7.0, 9.0, 7.0, 10.0, 9.0, 10.0, 10.0, 10.0, 0.0, 10.0, 7.0, 9.0, 5.0, 7.0, 10.0, 10.0, 7.0, 7.0, 9.0, 10.0, 10.0, 9.0, 0.0, 2.0, 2.0, 2.0, 4.0, 0.0, 5.0, 7.0, 8.0, 10.0, 10.0, 8.0, 7.0, 10.0, 10.0, 0.0, 0.0, 5.0, 5.0, 8.0, 5.0, 7.0, 7.0, 5.0, 0.0, 2.0, 2.0, 2.0, 4.0, 8.0, 0.0, 5.0, 9.0, 0.0, 6.0, 7.0, 0.0, 7.0, 7.0, 0.0, 0.0, 8.0, 10.0, 10.0, 0.0, 9.0, 0.0, 2.0, 0.0, 9.0, 0.0, 5.0, 0.0, 0.0, 3.0, 10.0, 8.0, 5.0, 7.0, 10.0, 10.0, 10.0, 9.0, 9.0, 0.0, 0.0, 2.0, 5.0, 8.0, 10.0, 8.0, 7.0, 5.0, 9.0, 9.0, 9.0, 7.0, 9.0, 5.0, 7.0, 5.0, 7.0, 9.0, 8.0, 7.0, 5.0, 9.0, 0.0, 10.0, 7.0, 0.0, 5.0, 5.0, 5.0, 0.0, 0.0, 5.0, 7.0, 7.0, 0.0, 8.0, 8.0, 7.0, 10.0, 8.0, 0.0, 6.0, 5.0, 5.0, 7.0, 5.0, 7.0, 5.0, 5.0, 0.0, 2.0, 5.0, 5.0, 7.0, 7.0, 0.0, 5.0, 7.0, 8.0, 6.0, 0.0, 3.0, 5.0, 7.0, 0.0, 8.0, 8.0, 8.0, 10.0, 0.0, 7.0, 0.0, 5.0, 6.0, 7.0, 8.0, 5.0, 0.0, 0.0, 5.0, 8.0, 8.0, 5.0, 7.0, 8.0, 10.0, 10.0, 10.0, 9.0, 0.0, 0.0, 2.0, 5.0, 8.0, 8.0, 8.0, 7.0, 5.0, 5.0, 9.0, 7.0, 7.0, 9.0, 7.0, 9.0, 7.0, 7.0, 8.0, 10.0, 9.0, 7.0, 7.0, 10.0, 10.0, 9.0, 0.0, 7.0, 7.0, 7.0, 7.0, 7.0, 7.0, 7.0, 8.0, 8.0, 8.0, 10.0, 7.0, 8.0, 10.0, 0.0, 0.0, 5.0, 7.0, 8.0, 7.0, 7.0, 7.0, 7.0, 0.0, 0.0, 7.0, 7.0, 7.0, 8.0, 0.0, 10.0, 8.0, 10.0, 8.0, 7.0, 0.0, 7.0, 7.0, 0.0, 0.0, 10.0, 10.0, 10.0, 0.0, 10.0, 0.0, 7.0, 8.0, 8.0, 0.0, 5.0, 0.0, 0.0, 8.0, 10.0, 9.0, 7.0, 7.0, 10.0, 10.0, 9.0, 9.0, 9.0, 0.0, 0.0, 5.0, 7.0, 8.0, 9.0, 9.0, 9.0, 9.0, 9.0, 9.0, 9.0, 9.0, 9.0, 10.0, 8.0, 7.0, 0.0, 9.0, 10.0, 7.0, 0.0, 9.0, 9.0, 9.0, 7.0, 0.0, 0.0, 0.0, 0.0, 0.0, 0.0, 0.0, 0.0, 0.0, 0.0, 5.0, 0.0, 0.0, 5.0, 4.0, 10.0, 0.0, 0.0, 0.0, 0.0, 0.0, 0.0, 0.0, 0.0, 0.0, 0.0, 0.0, 0.0, 0.0, 0.0, 0.0, 0.0, 0.0, 0.0, 0.0, 0.0, 0.0, 0.0, 0.0, 0.0, 0.0, 0.0, 5.0, 8.0, 0.0, 7.0, 0.0, 0.0, 0.0, 7.0, 0.0, 5.0, 5.0, 0.0, 7.0, 7.0, 0.0, 0.0, 0.0, 0.0, 7.0, 8.0, 10.0, 8.0, 0.0, 0.0, 0.0, 0.0, 0.0, 4.0, 7.0, 8.0, 0.0, 10.0, 8.0, 8.0, 8.0, 8.0, 9.0, 9.0, 7.0, 8.0, 10.0, 10.0, 10.0, 7.0, 8.0, 10.0, 10.0, 9.0, 0.0, 5.0, 5.0, 5.0, 7.0, 0.0, 7.0, 8.0, 8.0, 0.0, 10.0, 0.0, 8.0, 10.0, 10.0, 10.0, 0.0, 5.0, 8.0, 8.0, 7.0, 7.0, 8.0, 5.0, 0.0, 2.0, 2.0, 5.0, 5.0, 5.0, 0.0, 7.0, 9.0, 8.0, 6.0, 0.0, 0.0, 7.0, 7.0, 0.0, 10.0, 10.0, 10.0, 10.0, 0.0, 10.0, 0.0, 2.0, 8.0, 10.0, 0.0, 0.0, 0.0, 0.0, 5.0, 10.0, 8.0, 5.0, 7.0, 10.0, 10.0, 10.0, 10.0, 10.0, 0.0, 0.0, 2.0, 5.0, 8.0, 10.0, 8.0, 8.0, 5.0, 9.0, 9.0, 9.0, 7.0, 9.0, 7.0, 8.0, 7.0, 7.0, 8.0, 8.0, 10.0, 7.0, 7.0, 10.0, 10.0, 9.0, 0.0, 7.0, 7.0, 7.0, 8.0, 0.0, 7.0, 7.0, 8.0, 8.0, 8.0, 9.0, 7.0, 8.0, 10.0, 10.0, 0.0, 5.0, 7.0, 8.0, 7.0, 7.0, 7.0, 7.0, 0.0, 0.0, 7.0, 7.0, 7.0, 8.0, 0.0, 0.0, 7.0, 10.0, 7.0, 0.0, 0.0, 8.0, 8.0, 0.0, 0.0, 10.0, 10.0, 10.0, 0.0, 10.0, 0.0, 7.0, 0.0, 8.0, 0.0, 5.0, 0.0, 0.0, 8.0, 10.0, 10.0, 7.0, 7.0, 8.0, 10.0, 9.0, 9.0, 0.0, 0.0, 0.0, 5.0, 7.0, 8.0, 9.0, 9.0, 9.0, 9.0, 9.0, 9.0, 9.0, 9.0, 9.0, 8.0, 8.0, 7.0, 8.0, 8.0, 8.0, 8.0, 8.0, 8.0, 10.0, 10.0, 9.0, 0.0, 7.0, 7.0, 7.0, 8.0, 0.0, 7.0, 8.0, 8.0, 0.0, 8.0, 10.0, 8.0, 8.0, 8.0, 10.0, 0.0, 5.0, 8.0, 8.0, 8.0, 7.0, 7.0, 0.0, 0.0, 0.0, 7.0, 7.0, 7.0, 8.0, 8.0, 10.0, 8.0, 10.0, 6.0, 0.0, 0.0, 8.0, 8.0, 0.0, 0.0, 10.0, 10.0, 10.0, 0.0, 10.0, 0.0, 5.0, 8.0, 8.0, 0.0, 5.0, 0.0, 0.0, 8.0, 10.0, 10.0, 5.0, 7.0, 8.0, 10.0, 10.0, 9.0, 0.0, 0.0, 0.0, 5.0, 5.0, 8.0, 10.0, 9.0, 9.0, 7.0, 9.0, 9.0, 9.0, 7.0, 9.0, 9.0, 9.0, 10.0, 8.0, 0.0, 10.0, 10.0, 8.0, 8.0, 0.0, 10.0, 9.0, 0.0, 5.0, 5.0, 5.0, 8.0, 0.0, 7.0, 8.0, 0.0, 8.0, 10.0, 8.0, 0.0, 10.0, 10.0, 10.0, 0.0, 6.0, 0.0, 8.0, 8.0, 8.0, 0.0, 6.0, 0.0, 0.0, 8.0, 8.0, 8.0, 8.0, 0.0, 8.0, 9.0, 0.0, 6.0, 0.0, 0.0, 7.0, 7.0, 0.0, 0.0, 8.0, 10.0, 10.0, 0.0, 7.0, 0.0, 6.0, 8.0, 10.0, 0.0, 0.0, 0.0, 0.0, 8.0, 8.0, 10.0, 5.0, 8.0, 8.0, 10.0, 10.0, 10.0, 10.0, 0.0, 0.0, 5.0, 5.0, 6.0, 8.0, 8.0, 8.0, 5.0, 9.0, 10.0, 7.0, 7.0, 9.0, 9.0, 9.0, 9.0, 7.0, 7.0, 9.0, 7.0, 7.0, 9.0, 9.0, 9.0, 9.0, 7.0, 5.0, 5.0, 5.0, 5.0, 7.0, 5.0, 5.0, 7.0, 7.0, 7.0, 7.0, 7.0, 7.0, 7.0, 10.0, 0.0, 5.0, 5.0, 5.0, 5.0, 5.0, 5.0, 5.0, 5.0, 0.0, 5.0, 5.0, 5.0, 5.0, 5.0, 7.0, 10.0, 7.0, 7.0, 5.0, 0.0, 7.0, 9.0, 7.0, 0.0, 0.0, 0.0, 10.0, 0.0, 7.0, 5.0, 5.0, 5.0, 7.0, 0.0, 5.0, 5.0, 7.0, 7.0, 7.0, 8.0, 5.0, 5.0, 7.0, 7.0, 10.0, 10.0, 0.0, 0.0, 5.0, 5.0, 5.0, 7.0, 7.0, 7.0, 8.0, 8.0, 10.0, 10.0, 8.0, 8.0, 8.0, 9.0, 9.0, 9.0, 7.0, 8.0, 10.0, 10.0, 7.0, 7.0, 9.0, 10.0, 9.0, 0.0, 5.0, 7.0, 7.0, 7.0, 0.0, 7.0, 7.0, 8.0, 10.0, 10.0, 10.0, 7.0, 10.0, 10.0, 10.0, 0.0, 0.0, 0.0, 0.0, 5.0, 4.0, 5.0, 0.0, 0.0, 0.0, 4.0, 4.0, 4.0, 5.0, 0.0, 7.0, 9.0, 10.0, 5.0, 7.0, 0.0, 4.0, 7.0, 0.0, 0.0, 8.0, 10.0, 10.0, 0.0, 9.0, 0.0, 7.0, 7.0, 9.0, 0.0, 0.0, 4.0, 0.0, 7.0, 10.0, 10.0, 5.0, 7.0, 10.0, 10.0, 9.0, 9.0, 9.0, 8.0, 0.0, 0.0, 7.0, 10.0, 10.0, 9.0, 9.0, 9.0, 9.0, 9.0, 9.0, 7.0, 9.0, 9.0, 9.0, 10.0, 8.0, 8.0, 10.0, 10.0, 8.0, 9.0, 10.0, 10.0, 9.0, 0.0, 5.0, 7.0, 7.0, 7.0, 8.0, 7.0, 7.0, 8.0, 10.0, 10.0, 10.0, 8.0, 8.0, 10.0, 10.0, 0.0, 3.0, 5.0, 0.0, 5.0, 5.0, 8.0, 0.0, 0.0, 0.0, 4.0, 5.0, 5.0, 5.0, 0.0, 7.0, 9.0, 10.0, 5.0, 8.0, 0.0, 7.0, 7.0, 0.0, 0.0, 10.0, 10.0, 10.0, 0.0, 9.0, 0.0, 7.0, 8.0, 10.0, 0.0, 5.0, 0.0, 0.0, 7.0, 10.0, 10.0, 5.0, 7.0, 10.0, 10.0, 9.0, 9.0, 0.0, 0.0, 0.0, 0.0, 0.0, 10.0, 10.0, 9.0, 9.0, 9.0, 9.0, 10.0, 7.0, 7.0, 10.0, 5.0, 7.0, 5.0, 5.0, 8.0, 8.0, 10.0, 5.0, 5.0, 9.0, 10.0, 7.0, 0.0, 5.0, 5.0, 5.0, 5.0, 5.0, 5.0, 5.0, 8.0, 6.0, 10.0, 7.0, 5.0, 8.0, 8.0, 10.0, 0.0, 0.0, 6.0, 0.0, 5.0, 5.0, 8.0, 0.0, 0.0, 0.0, 5.0, 5.0, 5.0, 8.0, 0.0, 8.0, 9.0, 7.0, 5.0, 0.0, 0.0, 7.0, 7.0, 0.0, 0.0, 8.0, 10.0, 10.0, 0.0, 7.0, 0.0, 0.0, 5.0, 7.0, 0.0, 5.0, 0.0, 0.0, 7.0, 10.0, 7.0, 5.0, 5.0, 7.0, 10.0, 9.0, 9.0, 0.0, 0.0, 0.0, 0.0, 0.0, 7.0, 7.0, 7.0, 7.0, 5.0, 9.0, 0.0, 7.0, 7.0, 0.0, 7.0, 9.0, 9.0, 7.0, 8.0, 10.0, 10.0, 7.0, 7.0, 9.0, 10.0, 9.0, 0.0, 2.0, 5.0, 5.0, 7.0, 7.0, 5.0, 7.0, 7.0, 8.0, 8.0, 9.0, 5.0, 8.0, 8.0, 10.0, 0.0, 5.0, 5.0, 8.0, 7.0, 5.0, 7.0, 7.0, 7.0, 0.0, 5.0, 5.0, 7.0, 7.0, 8.0, 10.0, 9.0, 9.0, 5.0, 5.0, 0.0, 7.0, 7.0, 0.0, 0.0, 10.0, 10.0, 10.0, 0.0, 9.0, 5.0, 5.0, 7.0, 7.0, 0.0, 5.0, 5.0, 5.0, 7.0, 10.0, 9.0, 5.0, 5.0, 7.0, 10.0, 9.0, 9.0, 0.0, 0.0, 0.0, 5.0, 5.0, 5.0, 9.0, 9.0, 7.0, 7.0, 9.0, 10.0, 9.0, 7.0, 10.0, 9.0, 9.0, 9.0, 7.0, 8.0, 10.0, 10.0, 7.0, 7.0, 10.0, 10.0, 9.0, 0.0, 5.0, 5.0, 5.0, 5.0, 8.0, 5.0, 7.0, 8.0, 8.0, 10.0, 8.0, 5.0, 8.0, 8.0, 10.0, 0.0, 0.0, 5.0, 0.0, 7.0, 5.0, 8.0, 5.0, 0.0, 0.0, 5.0, 5.0, 7.0, 8.0, 8.0, 10.0, 9.0, 10.0, 5.0, 0.0, 0.0, 7.0, 7.0, 0.0, 0.0, 10.0, 10.0, 10.0, 0.0, 9.0, 0.0, 5.0, 7.0, 7.0, 0.0, 5.0, 7.0, 0.0, 7.0, 10.0, 7.0, 5.0, 5.0, 10.0, 10.0, 9.0, 9.0, 0.0, 0.0, 0.0, 5.0, 5.0, 7.0, 7.0, 9.0, 7.0, 7.0, 9.0, 0.0, 10.0, 9.0, 0.0, 9.0, 9.0, 7.0, 7.0, 7.0, 7.0, 7.0, 7.0, 7.0, 9.0, 9.0, 9.0, 7.0, 5.0, 5.0, 5.0, 5.0, 7.0, 5.0, 5.0, 7.0, 7.0, 7.0, 7.0, 7.0, 7.0, 10.0, 10.0, 8.0, 5.0, 5.0, 8.0, 5.0, 5.0, 5.0, 5.0, 5.0, 0.0, 5.0, 5.0, 5.0, 5.0, 5.0, 9.0, 9.0, 7.0, 7.0, 5.0, 0.0, 7.0, 9.0, 0.0, 10.0, 0.0, 0.0, 8.0, 0.0, 7.0, 7.0, 5.0, 7.0, 7.0, 0.0, 5.0, 5.0, 7.0, 7.0, 9.0, 7.0, 7.0, 7.0, 7.0, 10.0, 9.0, 9.0, 0.0, 0.0, 5.0, 5.0, 5.0, 7.0, 9.0, 7.0, 10.0, 7.0, 7.0, 0.0, 0.0, 8.0, 10.0, 7.0, 9.0, 9.0, 10.0, 10.0, 10.0, 10.0, 10.0, 9.0, 10.0, 10.0, 9.0, 0.0, 5.0, 7.0, 8.0, 8.0, 0.0, 7.0, 7.0, 0.0, 10.0, 10.0, 8.0, 0.0, 10.0, 10.0, 10.0, 0.0, 0.0, 0.0, 0.0, 0.0, 8.0, 8.0, 0.0, 0.0, 0.0, 0.0, 7.0, 8.0, 8.0, 0.0, 8.0, 9.0, 8.0, 6.0, 8.0, 0.0, 7.0, 9.0, 0.0, 0.0, 10.0, 10.0, 10.0, 0.0, 9.0, 0.0, 6.0, 10.0, 10.0, 0.0, 0.0, 0.0, 0.0, 9.0, 8.0, 10.0, 5.0, 8.0, 10.0, 10.0, 10.0, 10.0, 0.0, 0.0, 0.0, 0.0, 6.0, 8.0, 8.0, 7.0, 8.0, 9.0, 9.0, 0.0, 9.0, 7.0, 10.0, 9.0, 9.0, 7.0, 7.0, 10.0, 10.0, 10.0, 7.0, 9.0, 9.0, 10.0, 7.0, 7.0, 5.0, 5.0, 5.0, 5.0, 5.0, 5.0, 5.0, 7.0, 10.0, 10.0, 7.0, 5.0, 10.0, 0.0, 10.0, 0.0, 0.0, 5.0, 8.0, 5.0, 5.0, 7.0, 5.0, 5.0, 0.0, 5.0, 5.0, 7.0, 8.0, 8.0, 9.0, 9.0, 9.0, 7.0, 5.0, 6.0, 7.0, 7.0, 0.0, 0.0, 0.0, 10.0, 10.0, 0.0, 7.0, 6.0, 5.0, 7.0, 10.0, 0.0, 5.0, 5.0, 5.0, 9.0, 10.0, 10.0, 5.0, 7.0, 9.0, 10.0, 10.0, 9.0, 0.0, 0.0, 5.0, 5.0, 5.0, 7.0, 7.0, 9.0, 7.0, 7.0, 9.0, 0.0, 8.0, 8.0, 0.0, 9.0, 9.0, 10.0, 8.0, 10.0, 10.0, 10.0, 10.0, 9.0, 9.0, 10.0, 9.0, 0.0, 5.0, 7.0, 7.0, 8.0, 0.0, 7.0, 7.0, 10.0, 10.0, 10.0, 8.0, 0.0, 10.0, 0.0, 10.0, 0.0, 0.0, 0.0, 5.0, 7.0, 7.0, 8.0, 6.0, 0.0, 0.0, 5.0, 5.0, 5.0, 5.0, 0.0, 7.0, 10.0, 8.0, 6.0, 7.0, 0.0, 7.0, 9.0, 0.0, 0.0, 10.0, 10.0, 10.0, 0.0, 7.0, 0.0, 5.0, 8.0, 0.0, 0.0, 0.0, 7.0, 0.0, 9.0, 10.0, 10.0, 5.0, 7.0, 10.0, 10.0, 9.0, 9.0, 0.0, 0.0, 0.0, 0.0, 3.0, 10.0, 10.0, 7.0, 8.0, 9.0, 9.0, 0.0, 9.0, 9.0, 0.0, 7.0, 9.0, 7.0, 7.0, 9.0, 9.0, 9.0, 7.0, 9.0, 9.0, 10.0, 9.0, 7.0, 5.0, 5.0, 5.0, 5.0, 9.0, 5.0, 5.0, 7.0, 9.0, 9.0, 9.0, 7.0, 9.0, 0.0, 10.0, 0.0, 5.0, 5.0, 7.0, 7.0, 5.0, 7.0, 7.0, 5.0, 0.0, 5.0, 5.0, 5.0, 7.0, 7.0, 9.0, 9.0, 10.0, 7.0, 5.0, 5.0, 7.0, 9.0, 0.0, 0.0, 0.0, 8.0, 10.0, 0.0, 8.0, 0.0, 5.0, 9.0, 7.0, 0.0, 5.0, 7.0, 7.0, 9.0, 9.0, 9.0, 7.0, 7.0, 7.0, 10.0, 10.0, 9.0, 0.0, 0.0, 5.0, 5.0, 5.0, 7.0, 7.0, 7.0, 7.0, 7.0, 9.0, 0.0, 0.0, 8.0, 10.0, 9.0, 9.0, 7.0, 7.0, 9.0, 9.0, 9.0, 9.0, 9.0, 9.0, 10.0, 9.0, 9.0, 7.0, 7.0, 7.0, 7.0, 9.0, 7.0, 7.0, 7.0, 9.0, 10.0, 9.0, 9.0, 9.0, 0.0, 10.0, 0.0, 0.0, 7.0, 7.0, 7.0, 7.0, 7.0, 7.0, 7.0, 5.0, 7.0, 7.0, 7.0, 7.0, 7.0, 9.0, 9.0, 10.0, 9.0, 7.0, 7.0, 7.0, 9.0, 0.0, 0.0, 10.0, 9.0, 10.0, 0.0, 9.0, 9.0, 5.0, 9.0, 9.0, 0.0, 7.0, 7.0, 9.0, 9.0, 9.0, 9.0, 7.0, 7.0, 9.0, 9.0, 9.0, 9.0, 0.0, 0.0, 7.0, 7.0, 7.0, 9.0, 10.0, 9.0, 9.0, 7.0, 9.0, 0.0, 0.0, 7.0, 10.0, 9.0, 9.0, 9.0, 9.0, 9.0, 10.0, 10.0, 9.0, 9.0, 9.0, 10.0, 9.0, 0.0, 5.0, 5.0, 8.0, 7.0, 10.0, 7.0, 7.0, 8.0, 10.0, 10.0, 10.0, 10.0, 10.0, 0.0, 10.0, 0.0, 0.0, 0.0, 0.0, 0.0, 4.0, 5.0, 8.0, 0.0, 0.0, 2.0, 4.0, 5.0, 5.0, 5.0, 7.0, 10.0, 10.0, 6.0, 8.0, 0.0, 7.0, 9.0, 0.0, 0.0, 0.0, 10.0, 10.0, 0.0, 7.0, 0.0, 5.0, 0.0, 0.0, 0.0, 7.0, 7.0, 0.0, 9.0, 10.0, 10.0, 7.0, 9.0, 9.0, 10.0, 9.0, 9.0, 9.0, 0.0, 0.0, 0.0, 0.0, 7.0, 10.0, 10.0, 10.0, 9.0, 9.0, 0.0, 8.0, 7.0, 0.0, 7.0, 7.0, 7.0, 7.0, 7.0, 7.0, 9.0, 7.0, 9.0, 7.0, 9.0, 7.0, 7.0, 5.0, 5.0, 5.0, 5.0, 7.0, 5.0, 7.0, 7.0, 7.0, 7.0, 7.0, 7.0, 7.0, 0.0, 10.0, 0.0, 0.0, 5.0, 5.0, 5.0, 5.0, 9.0, 7.0, 5.0, 5.0, 5.0, 5.0, 7.0, 5.0, 5.0, 7.0, 9.0, 8.0, 7.0, 5.0, 5.0, 7.0, 10.0, 0.0, 0.0, 0.0, 8.0, 8.0, 0.0, 9.0, 7.0, 5.0, 7.0, 9.0, 0.0, 7.0, 5.0, 7.0, 7.0, 7.0, 7.0, 7.0, 7.0, 7.0, 9.0, 10.0, 9.0, 0.0, 0.0, 7.0, 5.0, 5.0, 7.0, 8.0, 7.0, 7.0, 7.0, 9.0, 0.0, 0.0, 8.0, 8.0, 7.0, 7.0, 7.0, 7.0, 9.0, 10.0, 10.0, 9.0, 9.0, 9.0, 10.0, 9.0, 7.0, 5.0, 5.0, 5.0, 7.0, 9.0, 5.0, 7.0, 9.0, 10.0, 10.0, 7.0, 9.0, 10.0, 0.0, 10.0, 0.0, 0.0, 5.0, 7.0, 9.0, 7.0, 9.0, 7.0, 5.0, 0.0, 5.0, 5.0, 7.0, 8.0, 8.0, 10.0, 10.0, 10.0, 7.0, 5.0, 8.0, 5.0, 10.0, 0.0, 0.0, 0.0, 8.0, 8.0, 0.0, 7.0, 7.0, 5.0, 9.0, 0.0, 0.0, 7.0, 7.0, 7.0, 9.0, 10.0, 10.0, 7.0, 9.0, 10.0, 10.0, 10.0, 10.0, 0.0, 0.0, 7.0, 5.0, 5.0, 8.0, 8.0, 8.0, 8.0, 9.0, 7.0, 0.0, 0.0, 8.0, 8.0, 7.0, 7.0, 8.0, 8.0, 8.0, 10.0, 8.0, 8.0, 7.0, 10.0, 10.0, 8.0, 0.0, 0.0, 3.0, 6.0, 8.0, 8.0, 5.0, 8.0, 8.0, 10.0, 10.0, 8.0, 7.0, 10.0, 0.0, 10.0, 0.0, 0.0, 0.0, 3.0, 0.0, 6.0, 10.0, 0.0, 0.0, 0.0, 0.0, 0.0, 0.0, 3.0, 0.0, 5.0, 10.0, 8.0, 6.0, 0.0, 0.0, 5.0, 7.0, 0.0, 0.0, 0.0, 10.0, 10.0, 0.0, 8.0, 0.0, 0.0, 8.0, 0.0, 0.0, 6.0, 6.0, 0.0, 9.0, 8.0, 8.0, 5.0, 6.0, 10.0, 10.0, 10.0, 10.0, 0.0, 0.0, 0.0, 0.0, 0.0, 8.0, 8.0, 8.0, 8.0, 8.0, 8.0, 0.0, 0.0, 7.0, 0.0, 7.0, 7.0, 7.0, 7.0, 7.0, 7.0, 7.0, 7.0, 9.0, 9.0, 8.0, 7.0, 7.0, 5.0, 5.0, 5.0, 5.0, 7.0, 5.0, 7.0, 7.0, 8.0, 10.0, 7.0, 7.0, 10.0, 0.0, 10.0, 0.0, 0.0, 5.0, 6.0, 5.0, 5.0, 9.0, 7.0, 5.0, 0.0, 5.0, 5.0, 6.0, 6.0, 7.0, 8.0, 10.0, 8.0, 7.0, 5.0, 8.0, 5.0, 7.0, 0.0, 0.0, 0.0, 8.0, 8.0, 0.0, 7.0, 0.0, 0.0, 8.0, 0.0, 0.0, 5.0, 5.0, 0.0, 9.0, 8.0, 7.0, 7.0, 7.0, 7.0, 7.0, 10.0, 9.0, 0.0, 8.0, 7.0, 0.0, 5.0, 7.0, 8.0, 8.0, 8.0, 7.0, 7.0, 0.0, 0.0, 7.0, 0.0, 7.0, 8.0, 0.0, 8.0, 8.0, 8.0, 8.0, 8.0, 8.0, 8.0, 10.0, 7.0, 0.0, 0.0, 0.0, 0.0, 0.0, 8.0, 7.0, 0.0, 7.0, 9.0, 8.0, 8.0, 7.0, 7.0, 0.0, 10.0, 0.0, 0.0, 0.0, 4.0, 0.0, 8.0, 8.0, 0.0, 0.0, 0.0, 0.0, 0.0, 0.0, 0.0, 0.0, 5.0, 8.0, 8.0, 8.0, 0.0, 0.0, 6.0, 8.0, 0.0, 0.0, 0.0, 10.0, 10.0, 0.0, 7.0, 8.0, 3.0, 8.0, 0.0, 0.0, 8.0, 8.0, 0.0, 8.0, 8.0, 8.0, 8.0, 8.0, 10.0, 10.0, 10.0, 8.0, 0.0, 0.0, 0.0, 0.0, 6.0, 8.0, 8.0, 7.0, 8.0, 8.0, 8.0, 0.0, 0.0, 8.0, 0.0, 9.0, 9.0, 9.0, 10.0, 10.0, 10.0, 10.0, 10.0, 9.0, 9.0, 10.0, 9.0, 0.0, 6.0, 7.0, 8.0, 8.0, 10.0, 5.0, 10.0, 10.0, 10.0, 10.0, 8.0, 7.0, 10.0, 0.0, 10.0, 0.0, 0.0, 6.0, 10.0, 10.0, 8.0, 10.0, 8.0, 0.0, 0.0, 8.0, 8.0, 8.0, 8.0, 10.0, 10.0, 10.0, 8.0, 8.0, 6.0, 0.0, 7.0, 10.0, 0.0, 0.0, 0.0, 0.0, 8.0, 0.0, 9.0, 0.0, 0.0, 10.0, 0.0, 0.0, 5.0, 10.0, 0.0, 9.0, 10.0, 8.0, 7.0, 9.0, 10.0, 10.0, 10.0, 9.0, 0.0, 8.0, 0.0, 0.0, 6.0, 8.0, 8.0, 7.0, 8.0, 9.0, 9.0, 0.0, 0.0, 7.0, 8.0, 7.0, 7.0, 0.0, 8.0, 10.0, 10.0, 8.0, 8.0, 8.0, 10.0, 10.0, 8.0, 0.0, 0.0, 0.0, 0.0, 8.0, 6.0, 5.0, 0.0, 8.0, 8.0, 10.0, 8.0, 0.0, 10.0, 0.0, 10.0, 0.0, 0.0, 0.0, 0.0, 0.0, 6.0, 8.0, 0.0, 0.0, 0.0, 6.0, 8.0, 8.0, 8.0, 0.0, 8.0, 10.0, 8.0, 6.0, 0.0, 0.0, 5.0, 9.0, 0.0, 0.0, 0.0, 10.0, 10.0, 0.0, 8.0, 0.0, 0.0, 8.0, 0.0, 0.0, 5.0, 0.0, 0.0, 7.0, 10.0, 8.0, 5.0, 5.0, 10.0, 10.0, 10.0, 10.0, 0.0, 0.0, 0.0, 0.0, 0.0, 8.0, 8.0, 7.0, 8.0, 5.0, 7.0, 0.0, 0.0, 7.0, 0.0, 9.0, 9.0, 7.0, 7.0, 10.0, 8.0, 10.0, 8.0, 8.0, 9.0, 10.0, 7.0, 0.0, 5.0, 5.0, 6.0, 6.0, 8.0, 5.0, 5.0, 8.0, 8.0, 8.0, 8.0, 6.0, 8.0, 0.0, 10.0, 0.0, 6.0, 6.0, 8.0, 0.0, 5.0, 8.0, 6.0, 0.0, 0.0, 6.0, 6.0, 6.0, 8.0, 8.0, 10.0, 10.0, 10.0, 6.0, 6.0, 0.0, 5.0, 8.0, 0.0, 0.0, 0.0, 10.0, 10.0, 0.0, 7.0, 0.0, 6.0, 8.0, 0.0, 0.0, 5.0, 5.0, 0.0, 9.0, 10.0, 7.0, 5.0, 5.0, 7.0, 10.0, 10.0, 9.0, 0.0, 0.0, 0.0, 6.0, 6.0, 8.0, 10.0, 10.0, 8.0, 7.0, 9.0, 0.0, 0.0, 7.0, 10.0, 8.0, 9.0, 8.0, 8.0, 10.0, 10.0, 10.0, 8.0, 8.0, 10.0, 10.0, 9.0, 0.0, 5.0, 0.0, 0.0, 8.0, 8.0, 8.0, 8.0, 8.0, 10.0, 10.0, 7.0, 8.0, 10.0, 10.0, 10.0, 8.0, 6.0, 0.0, 0.0, 5.0, 8.0, 0.0, 8.0, 0.0, 0.0, 0.0, 0.0, 5.0, 5.0, 0.0, 7.0, 8.0, 10.0, 8.0, 0.0, 0.0, 8.0, 8.0, 0.0, 0.0, 10.0, 10.0, 10.0, 0.0, 9.0, 0.0, 8.0, 8.0, 10.0, 0.0, 0.0, 0.0, 4.0, 10.0, 10.0, 10.0, 7.0, 7.0, 10.0, 10.0, 10.0, 10.0, 0.0, 10.0, 0.0, 2.0, 5.0, 8.0, 8.0, 7.0, 7.0, 7.0, 9.0, 10.0, 7.0, 9.0, 9.0, 7.0, 7.0, 7.0, 7.0, 9.0, 10.0, 10.0, 8.0, 10.0, 9.0, 10.0, 7.0, 7.0, 0.0, 8.0, 0.0, 8.0, 7.0, 7.0, 7.0, 7.0, 9.0, 9.0, 7.0, 7.0, 9.0, 0.0, 10.0, 0.0, 0.0, 0.0, 7.0, 7.0, 7.0, 9.0, 8.0, 0.0, 0.0, 0.0, 0.0, 5.0, 0.0, 0.0, 7.0, 8.0, 8.0, 8.0, 0.0, 7.0, 9.0, 9.0, 0.0, 0.0, 0.0, 0.0, 8.0, 0.0, 9.0, 0.0, 0.0, 7.0, 10.0, 0.0, 7.0, 7.0, 0.0, 9.0, 8.0, 8.0, 7.0, 8.0, 10.0, 10.0, 9.0, 9.0, 0.0, 8.0, 7.0, 0.0, 0.0, 7.0, 7.0, 7.0, 7.0, 9.0, 8.0, 0.0, 0.0, 8.0, 0.0, 8.0, 8.0, 8.0, 8.0, 8.0, 8.0, 8.0, 8.0, 8.0, 8.0, 8.0, 8.0, 8.0, 0.0, 0.0, 0.0, 0.0, 8.0, 8.0, 0.0, 7.0, 8.0, 8.0, 8.0, 8.0, 8.0, 0.0, 8.0, 0.0, 0.0, 0.0, 8.0, 8.0, 8.0, 8.0, 8.0, 0.0, 6.0, 6.0, 0.0, 0.0, 0.0, 0.0, 7.0, 8.0, 8.0, 8.0, 8.0, 7.0, 8.0, 8.0, 0.0, 0.0, 0.0, 0.0, 8.0, 0.0, 8.0, 8.0, 8.0, 8.0, 0.0, 0.0, 8.0, 8.0, 0.0, 0.0, 8.0, 8.0, 8.0, 8.0, 8.0, 8.0, 7.0, 8.0, 0.0, 8.0, 0.0, 6.0, 8.0, 8.0, 8.0, 8.0, 8.0, 8.0, 8.0, 0.0, 0.0, 8.0, 8.0, 9.0, 9.0, 7.0, 7.0, 9.0, 7.0, 9.0, 10.0, 10.0, 9.0, 10.0, 7.0, 0.0, 0.0, 8.0, 0.0, 10.0, 9.0, 7.0, 9.0, 9.0, 9.0, 10.0, 7.0, 7.0, 10.0, 0.0, 0.0, 0.0, 0.0, 0.0, 0.0, 10.0, 9.0, 10.0, 8.0, 0.0, 0.0, 0.0, 0.0, 0.0, 0.0, 0.0, 7.0, 10.0, 8.0, 8.0, 0.0, 7.0, 9.0, 10.0, 0.0, 0.0, 0.0, 8.0, 8.0, 0.0, 7.0, 7.0, 0.0, 7.0, 0.0, 0.0, 7.0, 9.0, 0.0, 0.0, 10.0, 7.0, 7.0, 7.0, 9.0, 10.0, 9.0, 9.0, 0.0, 8.0, 0.0, 0.0, 0.0, 7.0, 7.0, 7.0, 7.0, 7.0, 7.0, 0.0, 0.0, 8.0, 0.0, 10.0, 10.0, 9.0, 10.0, 10.0, 10.0, 10.0, 10.0, 10.0, 10.0, 0.0, 10.0, 9.0, 10.0, 10.0, 10.0, 10.0, 10.0, 9.0, 10.0, 10.0, 9.0, 10.0, 10.0, 9.0, 10.0, 0.0, 10.0, 0.0, 0.0, 0.0, 10.0, 10.0, 10.0, 10.0, 10.0, 0.0, 0.0, 0.0, 0.0, 7.0, 0.0, 10.0, 9.0, 10.0, 8.0, 10.0, 10.0, 7.0, 10.0, 10.0, 0.0, 0.0, 0.0, 0.0, 8.0, 0.0, 10.0, 8.0, 10.0, 10.0, 0.0, 0.0, 9.0, 10.0, 0.0, 0.0, 10.0, 10.0, 10.0, 10.0, 10.0, 10.0, 10.0, 9.0, 0.0, 10.0, 0.0, 0.0, 0.0, 10.0, 8.0, 8.0, 10.0, 9.0, 10.0, 0.0, 0.0, 8.0, 0.0, 9.0, 9.0, 9.0, 9.0, 10.0, 10.0, 10.0, 10.0, 8.0, 10.0, 10.0, 9.0, 9.0, 5.0, 7.0, 7.0, 7.0, 8.0, 5.0, 7.0, 8.0, 8.0, 8.0, 9.0, 9.0, 8.0, 0.0, 10.0, 0.0, 0.0, 7.0, 8.0, 7.0, 7.0, 8.0, 7.0, 7.0, 5.0, 7.0, 7.0, 8.0, 8.0, 8.0, 10.0, 10.0, 10.0, 9.0, 7.0, 0.0, 7.0, 8.0, 0.0, 0.0, 0.0, 10.0, 10.0, 0.0, 10.0, 7.0, 7.0, 8.0, 0.0, 0.0, 7.0, 7.0, 9.0, 7.0, 10.0, 10.0, 9.0, 7.0, 9.0, 10.0, 10.0, 9.0, 0.0, 10.0, 7.0, 5.0, 7.0, 9.0, 10.0, 9.0, 9.0, 9.0, 9.0, 0.0, 0.0, 9.0, 0.0, 7.0, 9.0, 7.0, 8.0, 8.0, 10.0, 9.0, 7.0, 8.0, 0.0, 10.0, 8.0, 0.0, 7.0, 7.0, 7.0, 0.0, 0.0, 7.0, 8.0, 8.0, 8.0, 10.0, 8.0, 8.0, 8.0, 0.0, 0.0, 0.0, 5.0, 7.0, 8.0, 7.0, 7.0, 7.0, 7.0, 0.0, 5.0, 7.0, 7.0, 8.0, 8.0, 0.0, 8.0, 7.0, 0.0, 8.0, 8.0, 0.0, 7.0, 7.0, 0.0, 10.0, 8.0, 10.0, 10.0, 0.0, 9.0, 0.0, 5.0, 8.0, 10.0, 0.0, 5.0, 0.0, 7.0, 8.0, 10.0, 10.0, 7.0, 8.0, 10.0, 10.0, 10.0, 10.0, 10.0, 0.0, 0.0, 5.0, 7.0, 8.0, 10.0, 8.0, 9.0, 7.0, 7.0, 7.0, 9.0, 7.0, 9.0, 7.0, 9.0, 7.0, 8.0, 8.0, 10.0, 10.0, 7.0, 8.0, 10.0, 10.0, 9.0, 0.0, 5.0, 7.0, 7.0, 8.0, 0.0, 7.0, 8.0, 8.0, 8.0, 8.0, 10.0, 7.0, 8.0, 10.0, 0.0, 0.0, 5.0, 7.0, 8.0, 7.0, 7.0, 7.0, 7.0, 0.0, 0.0, 7.0, 7.0, 8.0, 8.0, 0.0, 10.0, 8.0, 0.0, 7.0, 0.0, 0.0, 7.0, 8.0, 0.0, 0.0, 10.0, 10.0, 10.0, 0.0, 9.0, 0.0, 5.0, 0.0, 8.0, 0.0, 5.0, 0.0, 0.0, 8.0, 10.0, 10.0, 5.0, 7.0, 8.0, 10.0, 10.0, 10.0, 0.0, 0.0, 0.0, 5.0, 7.0, 8.0, 9.0, 10.0, 10.0, 7.0, 9.0, 9.0, 9.0, 9.0, 10.0, 7.0, 9.0, 7.0, 7.0, 8.0, 10.0, 10.0, 7.0, 8.0, 10.0, 10.0, 9.0, 0.0, 7.0, 7.0, 7.0, 8.0, 0.0, 7.0, 8.0, 8.0, 0.0, 8.0, 0.0, 7.0, 8.0, 10.0, 10.0, 0.0, 5.0, 8.0, 8.0, 7.0, 7.0, 8.0, 0.0, 0.0, 0.0, 7.0, 7.0, 8.0, 8.0, 0.0, 10.0, 7.0, 10.0, 8.0, 0.0, 0.0, 7.0, 8.0, 0.0, 0.0, 10.0, 10.0, 10.0, 0.0, 9.0, 0.0, 5.0, 0.0, 8.0, 0.0, 0.0, 0.0, 0.0, 8.0, 10.0, 10.0, 7.0, 7.0, 8.0, 10.0, 10.0, 9.0, 0.0, 0.0, 0.0, 5.0, 7.0, 8.0, 10.0, 10.0, 9.0, 9.0, 9.0, 9.0, 9.0, 0.0, 10.0, 8.0, 8.0, 7.0, 8.0, 8.0, 10.0, 9.0, 8.0, 8.0, 10.0, 10.0, 8.0, 0.0, 7.0, 7.0, 7.0, 7.0, 7.0, 7.0, 8.0, 8.0, 8.0, 8.0, 7.0, 5.0, 8.0, 10.0, 10.0, 0.0, 7.0, 5.0, 7.0, 7.0, 7.0, 0.0, 0.0, 0.0, 0.0, 7.0, 7.0, 8.0, 8.0, 0.0, 8.0, 7.0, 10.0, 7.0, 0.0, 0.0, 8.0, 8.0, 0.0, 10.0, 8.0, 10.0, 10.0, 0.0, 8.0, 0.0, 5.0, 0.0, 8.0, 0.0, 5.0, 0.0, 0.0, 8.0, 8.0, 9.0, 7.0, 7.0, 10.0, 10.0, 10.0, 10.0, 10.0, 0.0, 5.0, 5.0, 7.0, 6.0, 7.0, 9.0, 9.0, 7.0, 7.0, 7.0, 9.0, 10.0, 9.0, 8.0, 8.0, 7.0, 8.0, 8.0, 8.0, 9.0, 7.0, 8.0, 10.0, 10.0, 8.0, 0.0, 7.0, 8.0, 8.0, 8.0, 0.0, 8.0, 8.0, 8.0, 8.0, 8.0, 8.0, 7.0, 8.0, 10.0, 0.0, 0.0, 5.0, 8.0, 8.0, 7.0, 7.0, 8.0, 0.0, 0.0, 0.0, 7.0, 7.0, 8.0, 8.0, 0.0, 8.0, 8.0, 0.0, 7.0, 0.0, 0.0, 8.0, 8.0, 0.0, 0.0, 10.0, 10.0, 10.0, 0.0, 8.0, 0.0, 7.0, 0.0, 8.0, 0.0, 5.0, 0.0, 0.0, 8.0, 10.0, 9.0, 7.0, 7.0, 8.0, 10.0, 10.0, 9.0, 9.0, 0.0, 7.0, 5.0, 7.0, 8.0, 9.0, 9.0, 9.0, 7.0, 7.0, 7.0, 9.0, 10.0, 9.0, 7.0, 7.0, 7.0, 7.0, 8.0, 7.0, 7.0, 7.0, 7.0, 10.0, 10.0, 7.0, 0.0, 7.0, 7.0, 7.0, 7.0, 8.0, 7.0, 7.0, 7.0, 8.0, 8.0, 7.0, 7.0, 8.0, 7.0, 8.0, 8.0, 7.0, 7.0, 7.0, 7.0, 7.0, 7.0, 7.0, 7.0, 0.0, 7.0, 7.0, 7.0, 7.0, 7.0, 6.0, 7.0, 8.0, 7.0, 7.0, 0.0, 7.0, 7.0, 10.0, 10.0, 0.0, 0.0, 8.0, 10.0, 7.0, 0.0, 5.0, 8.0, 7.0, 0.0, 7.0, 0.0, 5.0, 5.0, 10.0, 9.0, 7.0, 7.0, 7.0, 9.0, 9.0, 9.0, 10.0, 8.0, 7.0, 7.0, 7.0, 5.0, 7.0, 7.0, 9.0, 7.0, 8.0, 9.0, 10.0, 0.0, 10.0, 8.0, 0.0, 8.0, 7.0, 8.0, 8.0, 7.0, 7.0, 7.0, 10.0, 10.0, 7.0, 0.0, 7.0, 7.0, 7.0, 7.0, 6.0, 7.0, 7.0, 8.0, 8.0, 8.0, 7.0, 5.0, 8.0, 8.0, 10.0, 8.0, 5.0, 5.0, 7.0, 5.0, 5.0, 7.0, 5.0, 0.0, 0.0, 5.0, 5.0, 7.0, 8.0, 0.0, 8.0, 7.0, 0.0, 5.0, 5.0, 0.0, 8.0, 8.0, 0.0, 0.0, 8.0, 10.0, 10.0, 0.0, 8.0, 0.0, 5.0, 0.0, 8.0, 0.0, 5.0, 0.0, 0.0, 7.0, 10.0, 7.0, 5.0, 5.0, 8.0, 10.0, 10.0, 9.0, 10.0, 0.0, 0.0, 5.0, 7.0, 5.0, 7.0, 7.0, 7.0, 7.0, 7.0, 8.0, 9.0, 10.0, 9.0, 8.0, 8.0, 8.0, 8.0, 8.0, 8.0, 8.0, 7.0, 8.0, 8.0, 8.0, 7.0, 0.0, 7.0, 7.0, 7.0, 8.0, 0.0, 8.0, 8.0, 8.0, 0.0, 8.0, 0.0, 7.0, 8.0, 8.0, 10.0, 0.0, 5.0, 8.0, 8.0, 7.0, 7.0, 8.0, 7.0, 0.0, 0.0, 7.0, 7.0, 8.0, 8.0, 0.0, 0.0, 8.0, 10.0, 8.0, 0.0, 0.0, 8.0, 8.0, 0.0, 0.0, 8.0, 10.0, 10.0, 0.0, 8.0, 0.0, 5.0, 0.0, 8.0, 0.0, 5.0, 0.0, 0.0, 8.0, 10.0, 10.0, 5.0, 7.0, 8.0, 10.0, 10.0, 10.0, 10.0, 0.0, 0.0, 5.0, 7.0, 8.0, 10.0, 9.0, 9.0, 7.0, 7.0, 10.0, 9.0, 10.0, 10.0, 8.0, 8.0, 8.0, 8.0, 8.0, 8.0, 8.0, 8.0, 8.0, 10.0, 10.0, 9.0, 0.0, 5.0, 7.0, 8.0, 8.0, 0.0, 7.0, 8.0, 8.0, 8.0, 8.0, 10.0, 8.0, 8.0, 8.0, 10.0, 0.0, 0.0, 8.0, 0.0, 8.0, 8.0, 8.0, 0.0, 0.0, 0.0, 7.0, 8.0, 8.0, 8.0, 0.0, 10.0, 8.0, 10.0, 8.0, 0.0, 0.0, 8.0, 8.0, 0.0, 0.0, 10.0, 10.0, 10.0, 0.0, 10.0, 0.0, 0.0, 8.0, 8.0, 0.0, 0.0, 0.0, 0.0, 8.0, 10.0, 10.0, 7.0, 7.0, 8.0, 10.0, 10.0, 10.0, 0.0, 0.0, 0.0, 0.0, 8.0, 8.0, 10.0, 9.0, 10.0, 7.0, 9.0, 10.0, 10.0, 9.0, 10.0, 8.0, 9.0, 8.0, 8.0, 8.0, 10.0, 10.0, 8.0, 8.0, 10.0, 10.0, 9.0, 0.0, 7.0, 7.0, 7.0, 8.0, 0.0, 7.0, 8.0, 8.0, 8.0, 10.0, 10.0, 8.0, 8.0, 10.0, 10.0, 0.0, 6.0, 8.0, 8.0, 8.0, 8.0, 8.0, 0.0, 0.0, 0.0, 8.0, 8.0, 8.0, 8.0, 0.0, 10.0, 8.0, 10.0, 8.0, 8.0, 0.0, 7.0, 8.0, 0.0, 0.0, 8.0, 10.0, 10.0, 0.0, 10.0, 0.0, 7.0, 8.0, 8.0, 0.0, 7.0, 0.0, 0.0, 8.0, 10.0, 10.0, 7.0, 7.0, 7.0, 10.0, 10.0, 10.0, 10.0, 0.0, 0.0, 5.0, 7.0, 8.0, 10.0, 10.0, 10.0, 7.0, 9.0, 10.0, 9.0, 7.0, 10.0, 9.0, 9.0, 10.0, 10.0, 0.0, 10.0, 10.0, 8.0, 9.0, 10.0, 10.0, 9.0, 0.0, 5.0, 0.0, 8.0, 8.0, 0.0, 7.0, 7.0, 0.0, 10.0, 10.0, 10.0, 10.0, 10.0, 10.0, 10.0, 0.0, 0.0, 0.0, 0.0, 8.0, 8.0, 8.0, 6.0, 0.0, 0.0, 0.0, 0.0, 8.0, 8.0, 0.0, 10.0, 9.0, 8.0, 8.0, 0.0, 0.0, 7.0, 9.0, 0.0, 0.0, 10.0, 10.0, 10.0, 0.0, 9.0, 0.0, 8.0, 10.0, 7.0, 0.0, 0.0, 0.0, 0.0, 10.0, 8.0, 10.0, 7.0, 8.0, 10.0, 10.0, 10.0, 10.0, 0.0, 0.0, 0.0, 0.0, 7.0, 8.0, 8.0, 7.0, 8.0, 7.0, 9.0, 0.0, 9.0, 9.0, 9.0, 8.0, 9.0, 8.0, 8.0, 10.0, 10.0, 10.0, 8.0, 8.0, 10.0, 10.0, 9.0, 0.0, 7.0, 7.0, 8.0, 8.0, 8.0, 7.0, 8.0, 0.0, 8.0, 10.0, 10.0, 8.0, 8.0, 8.0, 10.0, 0.0, 0.0, 0.0, 0.0, 8.0, 8.0, 8.0, 0.0, 0.0, 0.0, 8.0, 8.0, 8.0, 8.0, 0.0, 8.0, 10.0, 10.0, 8.0, 0.0, 0.0, 7.0, 8.0, 0.0, 0.0, 10.0, 10.0, 10.0, 0.0, 9.0, 0.0, 7.0, 8.0, 10.0, 0.0, 0.0, 0.0, 0.0, 8.0, 10.0, 10.0, 7.0, 8.0, 8.0, 10.0, 10.0, 10.0, 0.0, 0.0, 0.0, 6.0, 8.0, 8.0, 10.0, 10.0, 10.0, 7.0, 9.0, 0.0, 9.0, 7.0, 10.0, 8.0, 8.0, 8.0, 8.0, 8.0, 8.0, 10.0, 8.0, 8.0, 10.0, 10.0, 10.0, 0.0, 7.0, 7.0, 8.0, 8.0, 8.0, 7.0, 7.0, 0.0, 8.0, 10.0, 10.0, 8.0, 8.0, 8.0, 10.0, 0.0, 0.0, 0.0, 0.0, 8.0, 8.0, 8.0, 0.0, 0.0, 0.0, 8.0, 8.0, 8.0, 8.0, 0.0, 10.0, 10.0, 10.0, 8.0, 0.0, 0.0, 8.0, 8.0, 0.0, 0.0, 10.0, 10.0, 10.0, 0.0, 10.0, 0.0, 7.0, 8.0, 10.0, 0.0, 5.0, 0.0, 0.0, 7.0, 10.0, 10.0, 7.0, 8.0, 8.0, 10.0, 10.0, 9.0, 0.0, 0.0, 0.0, 5.0, 8.0, 8.0, 8.0, 7.0, 9.0, 9.0, 9.0, 0.0, 9.0, 7.0, 0.0, 7.0, 9.0, 9.0, 8.0, 8.0, 10.0, 10.0, 7.0, 7.0, 10.0, 10.0, 9.0, 0.0, 5.0, 5.0, 7.0, 7.0, 0.0, 7.0, 7.0, 8.0, 8.0, 10.0, 9.0, 0.0, 8.0, 10.0, 10.0, 0.0, 0.0, 8.0, 0.0, 8.0, 8.0, 8.0, 5.0, 0.0, 0.0, 7.0, 8.0, 8.0, 8.0, 0.0, 10.0, 9.0, 10.0, 7.0, 7.0, 0.0, 7.0, 7.0, 0.0, 0.0, 10.0, 10.0, 9.0, 0.0, 9.0, 0.0, 5.0, 7.0, 10.0, 0.0, 5.0, 0.0, 0.0, 7.0, 10.0, 10.0, 5.0, 7.0, 10.0, 10.0, 9.0, 9.0, 0.0, 0.0, 0.0, 0.0, 0.0, 10.0, 9.0, 7.0, 7.0, 7.0, 9.0, 9.0, 9.0, 7.0, 10.0, 9.0, 9.0, 0.0, 8.0, 10.0, 10.0, 10.0, 10.0, 10.0, 10.0, 10.0, 10.0, 0.0, 7.0, 0.0, 0.0, 8.0, 10.0, 7.0, 8.0, 10.0, 10.0, 10.0, 10.0, 0.0, 10.0, 0.0, 10.0, 0.0, 0.0, 0.0, 0.0, 0.0, 8.0, 8.0, 0.0, 0.0, 0.0, 8.0, 8.0, 8.0, 8.0, 0.0, 10.0, 10.0, 10.0, 8.0, 8.0, 0.0, 8.0, 8.0, 0.0, 0.0, 0.0, 10.0, 10.0, 0.0, 10.0, 0.0, 0.0, 10.0, 0.0, 0.0, 7.0, 8.0, 0.0, 9.0, 10.0, 10.0, 8.0, 8.0, 10.0, 10.0, 10.0, 10.0, 0.0, 0.0, 0.0, 0.0, 0.0, 8.0, 8.0, 7.0, 8.0, 9.0, 10.0, 0.0, 8.0, 7.0, 10.0, 7.0, 9.0, 8.0, 8.0, 8.0, 8.0, 10.0, 8.0, 8.0, 10.0, 10.0, 10.0, 0.0, 7.0, 8.0, 7.0, 8.0, 0.0, 7.0, 8.0, 0.0, 8.0, 8.0, 10.0, 0.0, 8.0, 0.0, 10.0, 0.0, 0.0, 0.0, 0.0, 0.0, 8.0, 8.0, 0.0, 0.0, 0.0, 8.0, 8.0, 8.0, 8.0, 0.0, 8.0, 10.0, 10.0, 8.0, 7.0, 0.0, 8.0, 8.0, 0.0, 0.0, 0.0, 10.0, 10.0, 0.0, 9.0, 0.0, 8.0, 8.0, 0.0, 0.0, 0.0, 0.0, 0.0, 8.0, 8.0, 10.0, 7.0, 8.0, 8.0, 10.0, 10.0, 10.0, 0.0, 0.0, 0.0, 0.0, 0.0, 8.0, 10.0, 10.0, 10.0, 9.0, 9.0, 0.0, 10.0, 9.0, 0.0, 7.0, 9.0, 10.0, 8.0, 10.0, 10.0, 10.0, 10.0, 7.0, 10.0, 10.0, 10.0, 0.0, 5.0, 7.0, 8.0, 8.0, 0.0, 7.0, 7.0, 8.0, 10.0, 10.0, 10.0, 0.0, 10.0, 0.0, 10.0, 0.0, 0.0, 0.0, 0.0, 0.0, 8.0, 8.0, 0.0, 0.0, 0.0, 8.0, 8.0, 8.0, 8.0, 0.0, 10.0, 10.0, 8.0, 6.0, 8.0, 0.0, 7.0, 7.0, 0.0, 0.0, 0.0, 10.0, 10.0, 0.0, 10.0, 0.0, 0.0, 10.0, 0.0, 0.0, 0.0, 0.0, 0.0, 9.0, 10.0, 10.0, 5.0, 7.0, 10.0, 10.0, 9.0, 9.0, 0.0, 0.0, 0.0, 0.0, 0.0, 8.0, 8.0, 7.0, 8.0, 7.0, 9.0, 0.0, 10.0, 9.0, 0.0, 9.0, 9.0, 10.0, 8.0, 10.0, 10.0, 10.0, 8.0, 8.0, 10.0, 10.0, 9.0, 0.0, 7.0, 7.0, 8.0, 8.0, 0.0, 7.0, 7.0, 8.0, 8.0, 8.0, 10.0, 8.0, 8.0, 0.0, 10.0, 0.0, 0.0, 0.0, 8.0, 0.0, 8.0, 8.0, 8.0, 0.0, 0.0, 0.0, 8.0, 8.0, 8.0, 0.0, 10.0, 10.0, 10.0, 8.0, 7.0, 0.0, 8.0, 8.0, 0.0, 0.0, 8.0, 0.0, 10.0, 0.0, 9.0, 0.0, 8.0, 8.0, 0.0, 0.0, 7.0, 0.0, 0.0, 8.0, 10.0, 10.0, 7.0, 7.0, 8.0, 10.0, 9.0, 9.0, 0.0, 0.0, 0.0, 0.0, 0.0, 8.0, 10.0, 8.0, 10.0, 9.0, 9.0, 0.0, 0.0, 7.0, 0.0, 8.0, 8.0, 8.0, 8.0, 8.0, 8.0, 8.0, 8.0, 8.0, 10.0, 10.0, 10.0, 0.0, 5.0, 6.0, 8.0, 8.0, 0.0, 5.0, 8.0, 8.0, 8.0, 8.0, 8.0, 8.0, 8.0, 0.0, 10.0, 0.0, 0.0, 0.0, 0.0, 0.0, 8.0, 8.0, 0.0, 0.0, 0.0, 8.0, 8.0, 8.0, 8.0, 0.0, 10.0, 10.0, 8.0, 6.0, 8.0, 0.0, 8.0, 8.0, 0.0, 0.0, 0.0, 10.0, 10.0, 0.0, 6.0, 0.0, 6.0, 8.0, 0.0, 0.0, 5.0, 7.0, 0.0, 8.0, 8.0, 10.0, 5.0, 8.0, 8.0, 10.0, 10.0, 10.0, 0.0, 0.0, 0.0, 0.0, 6.0, 8.0, 8.0, 7.0, 7.0, 7.0, 9.0, 0.0, 8.0, 8.0, 0.0, 9.0, 9.0, 0.0, 10.0, 10.0, 10.0, 10.0, 10.0, 9.0, 10.0, 10.0, 10.0, 0.0, 0.0, 5.0, 0.0, 8.0, 8.0, 5.0, 8.0, 8.0, 8.0, 10.0, 10.0, 0.0, 10.0, 0.0, 10.0, 0.0, 6.0, 8.0, 8.0, 8.0, 8.0, 8.0, 0.0, 0.0, 0.0, 8.0, 8.0, 8.0, 8.0, 0.0, 10.0, 10.0, 8.0, 6.0, 8.0, 0.0, 7.0, 9.0, 0.0, 0.0, 10.0, 10.0, 10.0, 0.0, 9.0, 0.0, 0.0, 10.0, 10.0, 0.0, 5.0, 7.0, 0.0, 9.0, 10.0, 10.0, 5.0, 7.0, 10.0, 10.0, 9.0, 9.0, 0.0, 8.0, 0.0, 0.0, 6.0, 10.0, 10.0, 7.0, 8.0, 7.0, 9.0, 0.0, 10.0, 9.0, 10.0, 9.0, 9.0, 10.0, 10.0, 10.0, 10.0, 10.0, 10.0, 9.0, 10.0, 10.0, 10.0, 0.0, 6.0, 0.0, 0.0, 8.0, 0.0, 5.0, 0.0, 8.0, 8.0, 10.0, 10.0, 0.0, 10.0, 0.0, 10.0, 0.0, 0.0, 0.0, 0.0, 0.0, 8.0, 8.0, 0.0, 0.0, 0.0, 0.0, 0.0, 8.0, 8.0, 0.0, 10.0, 10.0, 8.0, 6.0, 0.0, 0.0, 7.0, 9.0, 0.0, 0.0, 0.0, 0.0, 0.0, 0.0, 7.0, 0.0, 0.0, 10.0, 0.0, 0.0, 5.0, 7.0, 0.0, 9.0, 10.0, 10.0, 5.0, 7.0, 10.0, 10.0, 10.0, 10.0, 0.0, 0.0, 0.0, 0.0, 0.0, 10.0, 8.0, 7.0, 8.0, 5.0, 7.0, 0.0, 0.0, 9.0, 0.0, 9.0, 9.0, 7.0, 7.0, 9.0, 9.0, 10.0, 9.0, 9.0, 9.0, 10.0, 9.0, 9.0, 5.0, 5.0, 5.0, 5.0, 9.0, 5.0, 7.0, 7.0, 9.0, 10.0, 9.0, 9.0, 9.0, 0.0, 10.0, 0.0, 0.0, 5.0, 7.0, 7.0, 7.0, 7.0, 7.0, 5.0, 0.0, 5.0, 5.0, 7.0, 7.0, 7.0, 9.0, 9.0, 10.0, 7.0, 5.0, 5.0, 7.0, 9.0, 0.0, 0.0, 0.0, 10.0, 10.0, 0.0, 9.0, 7.0, 5.0, 9.0, 9.0, 0.0, 5.0, 7.0, 9.0, 9.0, 9.0, 9.0, 7.0, 7.0, 9.0, 10.0, 10.0, 9.0, 0.0, 0.0, 5.0, 5.0, 5.0, 7.0, 10.0, 7.0, 9.0, 9.0, 9.0, 0.0, 0.0, 9.0, 10.0, 9.0, 9.0, 10.0, 8.0, 8.0, 10.0, 10.0, 8.0, 8.0, 10.0, 10.0, 9.0, 0.0, 5.0, 7.0, 8.0, 8.0, 0.0, 5.0, 8.0, 8.0, 8.0, 8.0, 8.0, 0.0, 8.0, 0.0, 10.0, 0.0, 0.0, 0.0, 0.0, 0.0, 8.0, 8.0, 0.0, 0.0, 0.0, 8.0, 8.0, 8.0, 8.0, 0.0, 8.0, 10.0, 10.0, 6.0, 8.0, 0.0, 8.0, 8.0, 0.0, 0.0, 0.0, 10.0, 10.0, 0.0, 9.0, 0.0, 0.0, 8.0, 0.0, 0.0, 5.0, 7.0, 0.0, 8.0, 10.0, 10.0, 5.0, 7.0, 8.0, 10.0, 9.0, 9.0, 0.0, 0.0, 0.0, 0.0, 0.0, 8.0, 10.0, 10.0, 10.0, 7.0, 9.0, 0.0, 0.0, 7.0, 0.0, 9.0, 9.0, 7.0, 9.0, 9.0, 10.0, 10.0, 9.0, 9.0, 9.0, 10.0, 9.0, 9.0, 5.0, 5.0, 5.0, 7.0, 9.0, 5.0, 9.0, 9.0, 10.0, 10.0, 9.0, 9.0, 9.0, 0.0, 10.0, 0.0, 0.0, 7.0, 8.0, 7.0, 5.0, 9.0, 9.0, 7.0, 0.0, 5.0, 7.0, 7.0, 8.0, 7.0, 10.0, 10.0, 10.0, 7.0, 5.0, 0.0, 7.0, 9.0, 0.0, 0.0, 0.0, 8.0, 10.0, 0.0, 9.0, 7.0, 5.0, 9.0, 10.0, 0.0, 7.0, 7.0, 9.0, 9.0, 10.0, 10.0, 7.0, 9.0, 9.0, 10.0, 10.0, 9.0, 0.0, 0.0, 7.0, 5.0, 5.0, 9.0, 10.0, 10.0, 9.0, 9.0, 9.0, 0.0, 0.0, 7.0, 10.0, 9.0, 9.0, 9.0, 9.0, 9.0, 10.0, 10.0, 9.0, 9.0, 10.0, 10.0, 9.0, 7.0, 5.0, 5.0, 5.0, 5.0, 9.0, 7.0, 9.0, 9.0, 10.0, 10.0, 7.0, 9.0, 10.0, 0.0, 10.0, 0.0, 0.0, 5.0, 8.0, 7.0, 7.0, 7.0, 7.0, 5.0, 5.0, 5.0, 5.0, 8.0, 8.0, 8.0, 10.0, 10.0, 8.0, 7.0, 5.0, 5.0, 7.0, 10.0, 0.0, 0.0, 0.0, 8.0, 8.0, 0.0, 10.0, 7.0, 5.0, 7.0, 10.0, 0.0, 7.0, 7.0, 9.0, 9.0, 10.0, 10.0, 7.0, 7.0, 9.0, 10.0, 10.0, 10.0, 0.0, 0.0, 7.0, 5.0, 5.0, 7.0, 8.0, 8.0, 7.0, 9.0, 7.0, 0.0, 0.0, 8.0, 8.0, 7.0, 7.0, 7.0, 7.0, 7.0, 8.0, 8.0, 8.0, 8.0, 10.0, 8.0, 7.0, 7.0, 5.0, 5.0, 6.0, 6.0, 8.0, 5.0, 5.0, 6.0, 10.0, 10.0, 7.0, 8.0, 10.0, 0.0, 10.0, 0.0, 0.0, 0.0, 6.0, 6.0, 5.0, 10.0, 6.0, 0.0, 0.0, 5.0, 6.0, 6.0, 8.0, 6.0, 10.0, 10.0, 8.0, 7.0, 5.0, 0.0, 5.0, 10.0, 0.0, 0.0, 0.0, 8.0, 8.0, 0.0, 7.0, 8.0, 6.0, 8.0, 0.0, 0.0, 5.0, 5.0, 0.0, 9.0, 10.0, 8.0, 7.0, 7.0, 7.0, 10.0, 10.0, 9.0, 0.0, 8.0, 0.0, 6.0, 6.0, 8.0, 10.0, 8.0, 8.0, 7.0, 9.0, 0.0, 0.0, 7.0, 0.0, 9.0, 9.0, 7.0, 7.0, 10.0, 10.0, 10.0, 10.0, 9.0, 10.0, 10.0, 7.0, 0.0, 0.0, 7.0, 6.0, 8.0, 10.0, 5.0, 8.0, 8.0, 10.0, 10.0, 8.0, 8.0, 10.0, 0.0, 10.0, 0.0, 0.0, 0.0, 0.0, 0.0, 6.0, 10.0, 6.0, 8.0, 0.0, 0.0, 0.0, 0.0, 0.0, 8.0, 10.0, 10.0, 8.0, 6.0, 6.0, 0.0, 5.0, 10.0, 0.0, 0.0, 0.0, 10.0, 10.0, 0.0, 7.0, 0.0, 0.0, 8.0, 0.0, 0.0, 5.0, 8.0, 0.0, 9.0, 10.0, 10.0, 5.0, 7.0, 10.0, 10.0, 9.0, 9.0, 0.0, 0.0, 0.0, 0.0, 0.0, 10.0, 10.0, 10.0, 8.0, 7.0, 9.0, 0.0, 0.0, 7.0, 0.0, 9.0, 9.0, 7.0, 10.0, 10.0, 10.0, 10.0, 10.0, 9.0, 10.0, 10.0, 10.0, 0.0, 5.0, 7.0, 8.0, 8.0, 8.0, 5.0, 8.0, 8.0, 8.0, 10.0, 8.0, 8.0, 10.0, 0.0, 10.0, 0.0, 0.0, 0.0, 8.0, 8.0, 8.0, 8.0, 6.0, 0.0, 0.0, 8.0, 8.0, 8.0, 8.0, 8.0, 10.0, 10.0, 10.0, 6.0, 6.0, 0.0, 7.0, 8.0, 0.0, 0.0, 0.0, 10.0, 10.0, 0.0, 7.0, 0.0, 6.0, 8.0, 0.0, 0.0, 5.0, 8.0, 0.0, 9.0, 10.0, 10.0, 5.0, 7.0, 10.0, 10.0, 10.0, 9.0, 0.0, 0.0, 0.0, 0.0, 6.0, 10.0, 10.0, 10.0, 10.0, 7.0, 9.0, 0.0, 0.0, 7.0, 0.0, 9.0, 9.0, 10.0, 10.0, 10.0, 10.0, 10.0, 10.0, 8.0, 10.0, 10.0, 10.0, 10.0, 0.0, 8.0, 8.0, 8.0, 8.0, 5.0, 8.0, 8.0, 10.0, 10.0, 10.0, 8.0, 10.0, 0.0, 10.0, 0.0, 0.0, 0.0, 8.0, 8.0, 8.0, 8.0, 8.0, 0.0, 0.0, 0.0, 0.0, 8.0, 8.0, 8.0, 10.0, 10.0, 8.0, 6.0, 8.0, 0.0, 7.0, 10.0, 0.0, 0.0, 0.0, 10.0, 10.0, 0.0, 8.0, 0.0, 0.0, 8.0, 0.0, 0.0, 8.0, 8.0, 0.0, 8.0, 10.0, 8.0, 7.0, 8.0, 8.0, 10.0, 10.0, 10.0, 10.0, 0.0, 0.0, 0.0, 6.0, 8.0, 8.0, 8.0, 8.0, 7.0, 9.0, 0.0, 0.0, 7.0, 8.0, 9.0, 9.0, 9.0, 9.0, 10.0, 10.0, 10.0, 10.0, 10.0, 10.0, 10.0, 9.0, 10.0, 7.0, 7.0, 8.0, 8.0, 8.0, 5.0, 8.0, 8.0, 8.0, 10.0, 9.0, 10.0, 10.0, 0.0, 10.0, 0.0, 6.0, 8.0, 8.0, 8.0, 7.0, 8.0, 8.0, 8.0, 6.0, 8.0, 8.0, 8.0, 8.0, 8.0, 10.0, 10.0, 10.0, 5.0, 7.0, 8.0, 7.0, 10.0, 0.0, 0.0, 0.0, 10.0, 10.0, 0.0, 10.0, 6.0, 6.0, 8.0, 0.0, 0.0, 5.0, 7.0, 0.0, 9.0, 10.0, 10.0, 5.0, 9.0, 9.0, 10.0, 10.0, 9.0, 0.0, 8.0, 5.0, 0.0, 6.0, 10.0, 10.0, 9.0, 10.0, 9.0, 9.0, 0.0, 0.0, 7.0, 10.0, 9.0, 9.0, 10.0, 7.0, 10.0, 10.0, 7.0, 8.0, 8.0, 10.0, 10.0, 10.0, 7.0, 5.0, 7.0, 7.0, 7.0, 5.0, 7.0, 7.0, 8.0, 8.0, 8.0, 5.0, 5.0, 8.0, 0.0, 10.0, 0.0, 5.0, 7.0, 8.0, 8.0, 7.0, 8.0, 7.0, 7.0, 0.0, 7.0, 5.0, 8.0, 8.0, 8.0, 10.0, 10.0, 8.0, 7.0, 5.0, 0.0, 7.0, 8.0, 0.0, 0.0, 0.0, 8.0, 10.0, 0.0, 10.0, 7.0, 5.0, 8.0, 0.0, 0.0, 7.0, 7.0, 9.0, 7.0, 10.0, 9.0, 7.0, 7.0, 9.0, 10.0, 10.0, 9.0, 0.0, 0.0, 7.0, 5.0, 5.0, 9.0, 8.0, 7.0, 7.0, 9.0, 9.0, 0.0, 0.0, 7.0, 10.0, 7.0, 9.0, 9.0, 7.0, 10.0, 10.0, 10.0, 8.0, 8.0, 10.0, 10.0, 9.0, 0.0, 5.0, 7.0, 5.0, 7.0, 8.0, 5.0, 7.0, 7.0, 8.0, 8.0, 7.0, 5.0, 8.0, 0.0, 10.0, 0.0, 5.0, 5.0, 8.0, 7.0, 7.0, 8.0, 5.0, 7.0, 5.0, 7.0, 7.0, 8.0, 8.0, 8.0, 10.0, 10.0, 8.0, 5.0, 5.0, 0.0, 7.0, 8.0, 0.0, 0.0, 0.0, 10.0, 10.0, 0.0, 9.0, 0.0, 5.0, 8.0, 0.0, 0.0, 5.0, 5.0, 0.0, 7.0, 10.0, 7.0, 5.0, 5.0, 9.0, 10.0, 9.0, 9.0, 0.0, 0.0, 0.0, 5.0, 5.0, 7.0, 7.0, 7.0, 7.0, 7.0, 9.0, 0.0, 10.0, 7.0, 0.0, 9.0, 9.0, 9.0, 9.0, 9.0, 9.0, 9.0, 9.0, 9.0, 9.0, 10.0, 9.0, 0.0, 5.0, 7.0, 7.0, 7.0, 9.0, 5.0, 7.0, 9.0, 10.0, 10.0, 7.0, 7.0, 7.0, 0.0, 10.0, 0.0, 0.0, 5.0, 8.0, 7.0, 7.0, 9.0, 7.0, 5.0, 0.0, 7.0, 7.0, 8.0, 8.0, 7.0, 10.0, 9.0, 10.0, 7.0, 5.0, 0.0, 7.0, 9.0, 0.0, 0.0, 0.0, 7.0, 7.0, 0.0, 9.0, 0.0, 5.0, 9.0, 0.0, 0.0, 5.0, 7.0, 7.0, 9.0, 10.0, 9.0, 5.0, 9.0, 9.0, 9.0, 9.0, 9.0, 0.0, 0.0, 5.0, 6.0, 5.0, 9.0, 10.0, 7.0, 7.0, 9.0, 9.0, 0.0, 0.0, 7.0, 0.0, 7.0, 7.0, 8.0, 8.0, 10.0, 10.0, 10.0, 10.0, 10.0, 10.0, 10.0, 8.0, 8.0, 0.0, 6.0, 0.0, 8.0, 8.0, 6.0, 0.0, 10.0, 10.0, 10.0, 8.0, 7.0, 10.0, 0.0, 10.0, 0.0, 0.0, 0.0, 0.0, 0.0, 8.0, 8.0, 0.0, 0.0, 0.0, 0.0, 0.0, 0.0, 8.0, 0.0, 10.0, 10.0, 8.0, 8.0, 0.0, 0.0, 6.0, 10.0, 0.0, 0.0, 0.0, 10.0, 10.0, 0.0, 8.0, 0.0, 6.0, 10.0, 0.0, 0.0, 6.0, 10.0, 0.0, 10.0, 10.0, 8.0, 8.0, 8.0, 10.0, 10.0, 10.0, 10.0, 0.0, 8.0, 0.0, 0.0, 0.0, 8.0, 8.0, 7.0, 8.0, 8.0, 7.0, 0.0, 0.0, 7.0, 0.0, 8.0, 8.0, 7.0, 8.0, 8.0, 8.0, 8.0, 7.0, 7.0, 8.0, 8.0, 7.0, 0.0, 7.0, 5.0, 5.0, 7.0, 8.0, 7.0, 8.0, 8.0, 8.0, 8.0, 8.0, 7.0, 8.0, 8.0, 8.0, 8.0, 7.0, 7.0, 8.0, 7.0, 7.0, 7.0, 7.0, 0.0, 0.0, 5.0, 7.0, 7.0, 8.0, 8.0, 0.0, 8.0, 10.0, 7.0, 7.0, 0.0, 8.0, 8.0, 0.0, 0.0, 10.0, 10.0, 8.0, 0.0, 8.0, 8.0, 5.0, 8.0, 8.0, 0.0, 5.0, 0.0, 0.0, 8.0, 8.0, 10.0, 7.0, 7.0, 8.0, 8.0, 10.0, 10.0, 0.0, 0.0, 5.0, 5.0, 7.0, 5.0, 9.0, 9.0, 9.0, 7.0, 7.0, 10.0, 10.0, 10.0, 10.0, 7.0, 9.0, 7.0, 5.0, 6.0, 8.0, 7.0, 5.0, 7.0, 10.0, 10.0, 7.0, 0.0, 5.0, 5.0, 5.0, 5.0, 5.0, 5.0, 5.0, 5.0, 6.0, 8.0, 8.0, 5.0, 8.0, 8.0, 10.0, 6.0, 5.0, 5.0, 5.0, 5.0, 5.0, 5.0, 5.0, 5.0, 0.0, 5.0, 5.0, 5.0, 8.0, 8.0, 10.0, 5.0, 10.0, 5.0, 0.0, 0.0, 7.0, 8.0, 0.0, 0.0, 10.0, 10.0, 10.0, 0.0, 7.0, 0.0, 5.0, 5.0, 7.0, 0.0, 5.0, 5.0, 0.0, 7.0, 10.0, 7.0, 5.0, 5.0, 8.0, 10.0, 9.0, 9.0, 0.0, 0.0, 0.0, 5.0, 5.0, 5.0, 7.0, 7.0, 7.0, 7.0, 9.0, 10.0, 10.0, 8.0, 10.0, 9.0, 9.0, 7.0, 7.0, 8.0, 10.0, 10.0, 7.0, 7.0, 10.0, 10.0, 7.0, 0.0, 5.0, 5.0, 5.0, 7.0, 8.0, 5.0, 7.0, 8.0, 8.0, 10.0, 8.0, 5.0, 8.0, 8.0, 10.0, 6.0, 5.0, 5.0, 8.0, 5.0, 5.0, 7.0, 5.0, 0.0, 0.0, 5.0, 5.0, 7.0, 8.0, 0.0, 10.0, 9.0, 10.0, 5.0, 5.0, 0.0, 7.0, 7.0, 0.0, 0.0, 10.0, 10.0, 10.0, 0.0, 7.0, 0.0, 5.0, 7.0, 7.0, 0.0, 5.0, 5.0, 0.0, 7.0, 10.0, 7.0, 5.0, 5.0, 10.0, 10.0, 9.0, 9.0, 0.0, 0.0, 0.0, 5.0, 5.0, 9.0, 7.0, 7.0, 7.0, 7.0, 9.0, 10.0, 10.0, 8.0, 10.0, 8.0, 8.0, 7.0, 7.0, 8.0, 8.0, 8.0, 7.0, 7.0, 10.0, 10.0, 7.0, 8.0, 5.0, 5.0, 5.0, 7.0, 7.0, 5.0, 7.0, 8.0, 8.0, 8.0, 7.0, 5.0, 8.0, 8.0, 8.0, 0.0, 5.0, 5.0, 6.0, 5.0, 5.0, 7.0, 5.0, 7.0, 0.0, 5.0, 5.0, 7.0, 8.0, 8.0, 8.0, 10.0, 10.0, 5.0, 5.0, 0.0, 7.0, 7.0, 8.0, 0.0, 0.0, 0.0, 10.0, 0.0, 10.0, 5.0, 5.0, 5.0, 7.0, 0.0, 5.0, 5.0, 5.0, 7.0, 8.0, 7.0, 5.0, 5.0, 7.0, 10.0, 10.0, 9.0, 0.0, 0.0, 0.0, 5.0, 5.0, 5.0, 7.0, 9.0, 7.0, 9.0, 7.0, 10.0, 10.0, 7.0, 10.0, 9.0, 9.0, 7.0, 7.0, 7.0, 7.0, 7.0, 7.0, 9.0, 7.0, 9.0, 7.0, 7.0, 5.0, 5.0, 5.0, 5.0, 5.0, 5.0, 5.0, 7.0, 9.0, 7.0, 7.0, 7.0, 9.0, 9.0, 9.0, 0.0, 5.0, 5.0, 7.0, 7.0, 5.0, 5.0, 5.0, 5.0, 0.0, 5.0, 5.0, 5.0, 7.0, 5.0, 7.0, 10.0, 7.0, 7.0, 5.0, 0.0, 7.0, 9.0, 9.0, 0.0, 0.0, 0.0, 10.0, 0.0, 7.0, 5.0, 5.0, 7.0, 9.0, 0.0, 5.0, 5.0, 7.0, 7.0, 9.0, 7.0, 5.0, 5.0, 7.0, 10.0, 7.0, 10.0, 0.0, 0.0, 5.0, 5.0, 5.0, 7.0, 7.0, 7.0, 8.0, 10.0, 10.0, 10.0, 7.0, 8.0, 10.0, 8.0, 8.0, 8.0, 8.0, 8.0, 8.0, 8.0, 8.0, 7.0, 10.0, 10.0, 10.0, 0.0, 5.0, 7.0, 7.0, 7.0, 7.0, 7.0, 7.0, 8.0, 8.0, 8.0, 10.0, 7.0, 8.0, 8.0, 8.0, 0.0, 5.0, 7.0, 0.0, 8.0, 8.0, 8.0, 7.0, 7.0, 0.0, 7.0, 8.0, 8.0, 8.0, 8.0, 8.0, 8.0, 10.0, 7.0, 7.0, 8.0, 7.0, 7.0, 0.0, 0.0, 0.0, 10.0, 10.0, 0.0, 10.0, 0.0, 5.0, 8.0, 8.0, 0.0, 5.0, 7.0, 7.0, 7.0, 8.0, 10.0, 5.0, 7.0, 8.0, 10.0, 10.0, 9.0, 0.0, 0.0, 0.0, 5.0, 7.0, 8.0, 10.0, 9.0, 9.0, 9.0, 9.0, 0.0, 10.0, 10.0, 0.0, 9.0, 9.0, 9.0, 9.0, 10.0, 10.0, 10.0, 9.0, 7.0, 9.0, 10.0, 9.0, 0.0, 7.0, 5.0, 7.0, 7.0, 7.0, 7.0, 7.0, 8.0, 8.0, 8.0, 9.0, 7.0, 8.0, 10.0, 10.0, 0.0, 5.0, 7.0, 0.0, 7.0, 7.0, 7.0, 7.0, 7.0, 0.0, 7.0, 7.0, 7.0, 8.0, 8.0, 9.0, 9.0, 9.0, 7.0, 7.0, 0.0, 7.0, 7.0, 0.0, 0.0, 10.0, 10.0, 10.0, 0.0, 9.0, 0.0, 5.0, 7.0, 9.0, 0.0, 7.0, 7.0, 7.0, 7.0, 10.0, 9.0, 7.0, 7.0, 9.0, 10.0, 9.0, 9.0, 0.0, 0.0, 0.0, 5.0, 0.0, 9.0, 9.0, 9.0, 9.0, 9.0, 9.0, 0.0, 10.0, 9.0, 0.0, 7.0, 9.0, 7.0, 7.0, 10.0, 10.0, 10.0, 7.0, 7.0, 10.0, 10.0, 7.0, 8.0, 5.0, 5.0, 5.0, 5.0, 7.0, 5.0, 5.0, 7.0, 8.0, 10.0, 7.0, 5.0, 8.0, 10.0, 10.0, 0.0, 5.0, 5.0, 8.0, 5.0, 5.0, 7.0, 5.0, 5.0, 5.0, 5.0, 5.0, 7.0, 8.0, 8.0, 8.0, 9.0, 10.0, 7.0, 5.0, 6.0, 7.0, 7.0, 0.0, 10.0, 0.0, 10.0, 10.0, 0.0, 9.0, 6.0, 5.0, 7.0, 9.0, 0.0, 5.0, 5.0, 7.0, 9.0, 10.0, 9.0, 5.0, 5.0, 7.0, 10.0, 10.0, 9.0, 0.0, 0.0, 5.0, 5.0, 5.0, 7.0, 9.0, 9.0, 7.0, 7.0, 9.0, 0.0, 8.0, 8.0, 10.0, 9.0, 9.0, 7.0, 7.0, 7.0, 8.0, 8.0, 7.0, 7.0, 7.0, 10.0, 7.0, 0.0, 5.0, 5.0, 5.0, 5.0, 5.0, 5.0, 5.0, 5.0, 8.0, 10.0, 7.0, 5.0, 8.0, 0.0, 8.0, 8.0, 0.0, 5.0, 6.0, 5.0, 5.0, 5.0, 5.0, 5.0, 5.0, 5.0, 5.0, 5.0, 7.0, 6.0, 7.0, 10.0, 8.0, 7.0, 5.0, 5.0, 5.0, 7.0, 10.0, 0.0, 0.0, 0.0, 10.0, 0.0, 7.0, 5.0, 5.0, 5.0, 9.0, 0.0, 5.0, 5.0, 7.0, 7.0, 9.0, 7.0, 5.0, 5.0, 7.0, 10.0, 10.0, 9.0, 0.0, 0.0, 5.0, 5.0, 5.0, 7.0, 7.0, 7.0, 7.0, 7.0, 9.0, 0.0, 0.0, 8.0, 10.0, 7.0, 7.0, 9.0, 7.0, 8.0, 10.0, 10.0, 8.0, 7.0, 10.0, 10.0, 9.0, 8.0, 5.0, 5.0, 5.0, 7.0, 8.0, 7.0, 7.0, 8.0, 8.0, 8.0, 10.0, 5.0, 8.0, 0.0, 10.0, 10.0, 5.0, 7.0, 8.0, 7.0, 7.0, 8.0, 7.0, 8.0, 0.0, 7.0, 7.0, 8.0, 8.0, 8.0, 10.0, 10.0, 10.0, 5.0, 5.0, 0.0, 7.0, 8.0, 0.0, 0.0, 0.0, 10.0, 10.0, 0.0, 9.0, 6.0, 5.0, 8.0, 0.0, 0.0, 5.0, 7.0, 0.0, 7.0, 10.0, 10.0, 5.0, 7.0, 7.0, 10.0, 9.0, 9.0, 0.0, 0.0, 0.0, 5.0, 5.0, 9.0, 7.0, 9.0, 9.0, 9.0, 9.0, 0.0, 0.0, 8.0, 0.0, 8.0, 10.0, 10.0, 8.0, 10.0, 10.0, 10.0, 8.0, 8.0, 10.0, 10.0, 9.0, 9.0, 7.0, 7.0, 7.0, 8.0, 8.0, 7.0, 7.0, 8.0, 8.0, 8.0, 10.0, 8.0, 8.0, 0.0, 10.0, 0.0, 7.0, 7.0, 8.0, 8.0, 8.0, 8.0, 7.0, 8.0, 5.0, 8.0, 8.0, 8.0, 8.0, 8.0, 10.0, 10.0, 10.0, 9.0, 7.0, 0.0, 7.0, 8.0, 0.0, 0.0, 0.0, 10.0, 10.0, 0.0, 10.0, 8.0, 7.0, 8.0, 0.0, 0.0, 7.0, 7.0, 0.0, 7.0, 10.0, 10.0, 7.0, 7.0, 10.0, 10.0, 10.0, 9.0, 0.0, 0.0, 7.0, 5.0, 7.0, 9.0, 10.0, 9.0, 9.0, 9.0, 9.0, 0.0, 0.0, 10.0, 0.0, 9.0, 9.0, 9.0, 9.0, 9.0, 10.0, 10.0, 9.0, 9.0, 10.0, 10.0, 9.0, 9.0, 5.0, 7.0, 7.0, 7.0, 7.0, 7.0, 7.0, 8.0, 8.0, 8.0, 9.0, 7.0, 8.0, 0.0, 10.0, 0.0, 5.0, 7.0, 8.0, 7.0, 7.0, 7.0, 7.0, 7.0, 5.0, 7.0, 7.0, 7.0, 8.0, 8.0, 8.0, 10.0, 10.0, 9.0, 7.0, 7.0, 7.0, 7.0, 0.0, 0.0, 10.0, 10.0, 10.0, 0.0, 9.0, 9.0, 5.0, 8.0, 10.0, 0.0, 5.0, 7.0, 9.0, 7.0, 10.0, 9.0, 7.0, 7.0, 9.0, 10.0, 10.0, 9.0, 0.0, 0.0, 7.0, 5.0, 7.0, 9.0, 10.0, 10.0, 9.0, 9.0, 9.0, 0.0, 0.0, 9.0, 10.0, 9.0, 9.0, 7.0, 7.0, 10.0, 10.0, 10.0, 7.0, 7.0, 10.0, 10.0, 7.0, 0.0, 5.0, 5.0, 5.0, 5.0, 5.0, 5.0, 5.0, 7.0, 10.0, 8.0, 7.0, 5.0, 8.0, 0.0, 10.0, 0.0, 5.0, 5.0, 6.0, 5.0, 5.0, 7.0, 5.0, 7.0, 0.0, 5.0, 5.0, 8.0, 8.0, 8.0, 10.0, 10.0, 10.0, 5.0, 5.0, 0.0, 7.0, 8.0, 0.0, 0.0, 0.0, 10.0, 10.0, 0.0, 7.0, 6.0, 5.0, 8.0, 0.0, 0.0, 5.0, 5.0, 0.0, 7.0, 10.0, 7.0, 5.0, 7.0, 9.0, 10.0, 9.0, 9.0, 0.0, 0.0, 0.0, 5.0, 5.0, 7.0, 10.0, 9.0, 7.0, 9.0, 9.0, 0.0, 0.0, 10.0, 0.0, 9.0, 9.0, 9.0, 9.0, 10.0, 10.0, 10.0, 9.0, 9.0, 10.0, 10.0, 9.0, 9.0, 5.0, 7.0, 5.0, 7.0, 9.0, 5.0, 9.0, 10.0, 10.0, 10.0, 9.0, 9.0, 10.0, 0.0, 10.0, 0.0, 0.0, 5.0, 7.0, 7.0, 7.0, 9.0, 9.0, 7.0, 5.0, 7.0, 7.0, 8.0, 8.0, 8.0, 9.0, 10.0, 10.0, 9.0, 7.0, 7.0, 7.0, 10.0, 0.0, 0.0, 0.0, 0.0, 10.0, 0.0, 9.0, 9.0, 5.0, 9.0, 0.0, 0.0, 9.0, 7.0, 9.0, 9.0, 10.0, 10.0, 9.0, 9.0, 9.0, 10.0, 10.0, 10.0, 0.0, 10.0, 7.0, 5.0, 5.0, 9.0, 8.0, 10.0, 8.0, 9.0, 9.0, 0.0, 0.0, 8.0, 10.0, 9.0, 9.0, 9.0, 9.0, 10.0, 10.0, 10.0, 9.0, 9.0, 9.0, 10.0, 9.0, 9.0, 5.0, 7.0, 7.0, 7.0, 9.0, 7.0, 7.0, 9.0, 10.0, 10.0, 9.0, 9.0, 10.0, 0.0, 10.0, 0.0, 0.0, 7.0, 8.0, 8.0, 7.0, 8.0, 9.0, 7.0, 0.0, 7.0, 7.0, 8.0, 8.0, 8.0, 10.0, 10.0, 10.0, 7.0, 7.0, 6.0, 7.0, 9.0, 0.0, 0.0, 0.0, 0.0, 10.0, 0.0, 10.0, 7.0, 5.0, 10.0, 0.0, 0.0, 5.0, 7.0, 9.0, 9.0, 10.0, 9.0, 7.0, 7.0, 9.0, 10.0, 10.0, 9.0, 0.0, 8.0, 0.0, 5.0, 5.0, 9.0, 10.0, 9.0, 7.0, 9.0, 9.0, 0.0, 0.0, 8.0, 0.0]\n"
          ],
          "name": "stdout"
        }
      ]
    },
    {
      "cell_type": "code",
      "metadata": {
        "id": "U0SF5zuj14Qa"
      },
      "source": [
        "from sklearn.model_selection import train_test_split\n",
        "X_train, X_test, y_train, y_test = train_test_split(train_spring, y_label_spring, test_size=0.3, random_state=42)"
      ],
      "execution_count": null,
      "outputs": []
    },
    {
      "cell_type": "code",
      "metadata": {
        "id": "hOV7fEPH1K2D"
      },
      "source": [
        "from sklearn.neighbors import KNeighborsRegressor\n",
        "neigh = KNeighborsRegressor(n_neighbors=10)\n",
        "neigh.fit(X_train, y_train)\n",
        "\n",
        "y_pred = neigh.predict(X_test)\n"
      ],
      "execution_count": null,
      "outputs": []
    },
    {
      "cell_type": "code",
      "metadata": {
        "colab": {
          "base_uri": "https://localhost:8080/"
        },
        "id": "fk4Lqk212leU",
        "outputId": "b77c64f4-a117-43c2-b49d-b5326b433e91"
      },
      "source": [
        "from sklearn.metrics import r2_score\n",
        "r2_score(y_test, y_pred)"
      ],
      "execution_count": null,
      "outputs": [
        {
          "output_type": "execute_result",
          "data": {
            "text/plain": [
              "0.6986494914777108"
            ]
          },
          "metadata": {
            "tags": []
          },
          "execution_count": 55
        }
      ]
    },
    {
      "cell_type": "code",
      "metadata": {
        "id": "BDQkc5K_293c"
      },
      "source": [
        "from sklearn import svm\n",
        "regr = svm.SVR(C=500)\n",
        "regr.fit(X_train, y_train)\n",
        "y_pred = regr.predict(X_test)"
      ],
      "execution_count": null,
      "outputs": []
    },
    {
      "cell_type": "code",
      "metadata": {
        "colab": {
          "base_uri": "https://localhost:8080/"
        },
        "id": "AAFG3Z_v3MAp",
        "outputId": "dcd3a685-c059-4f19-e090-d77904b9e9e8"
      },
      "source": [
        "from sklearn.metrics import r2_score\n",
        "r2_score(y_test, y_pred)"
      ],
      "execution_count": null,
      "outputs": [
        {
          "output_type": "execute_result",
          "data": {
            "text/plain": [
              "0.6318079802765615"
            ]
          },
          "metadata": {
            "tags": []
          },
          "execution_count": 57
        }
      ]
    },
    {
      "cell_type": "code",
      "metadata": {
        "colab": {
          "base_uri": "https://localhost:8080/"
        },
        "id": "1Za1xY6n4UK-",
        "outputId": "3bb82704-928c-45eb-b69f-034e45c24bc6"
      },
      "source": [
        "from sklearn.ensemble import RandomForestRegressor\n",
        "regr = RandomForestRegressor(max_depth=2, random_state=0)\n",
        "regr.fit(train_spring, y_label_spring)\n",
        "\n",
        "y_pred = regr.predict(X_test)\n",
        "\n",
        "print(y_pred)"
      ],
      "execution_count": null,
      "outputs": [
        {
          "output_type": "stream",
          "text": [
            "[5.9993025 5.9993025 5.9993025 ... 7.8363773 0.        5.9993025]\n"
          ],
          "name": "stdout"
        }
      ]
    },
    {
      "cell_type": "code",
      "metadata": {
        "colab": {
          "base_uri": "https://localhost:8080/"
        },
        "id": "g39A2Il9oxEj",
        "outputId": "34c21d16-400e-4e36-e62d-19b3112d3a28"
      },
      "source": [
        "import sys\n",
        "import numpy as np\n",
        "\n",
        "np.set_printoptions(threshold=sys.maxsize)\n",
        "\n",
        "print(y_pred)"
      ],
      "execution_count": null,
      "outputs": [
        {
          "output_type": "stream",
          "text": [
            "[5.9993025 5.9993025 5.9993025 7.8363773 5.9993025 5.9993025 5.9993025\n",
            " 5.9993025 7.8363773 7.8363773 5.9993025 5.9993025 7.8363773 5.9993025\n",
            " 0.        0.        5.9993025 5.9993025 5.9993025 5.9993025 5.9993025\n",
            " 5.9993025 5.9993025 7.8363773 5.9993025 7.8363773 5.9993025 5.9993025\n",
            " 7.8363773 5.9993025 5.9993025 0.        5.9993025 7.8363773 5.9993025\n",
            " 0.        5.9993025 5.9993025 5.9993025 5.9993025 5.9993025 5.9993025\n",
            " 0.        5.9993025 5.9993025 7.8363773 7.8363773 0.        5.9993025\n",
            " 5.9993025 0.        7.8363773 7.8363773 5.9993025 5.9993025 0.\n",
            " 0.        5.9993025 5.9993025 7.8363773 5.9993025 0.        5.9993025\n",
            " 0.        5.9993025 0.        7.8363773 5.9993025 5.9993025 7.8363773\n",
            " 0.        5.9993025 7.8363773 5.9993025 5.9993025 0.        5.9993025\n",
            " 5.9993025 0.        7.8363773 5.9993025 5.9993025 7.8363773 5.9993025\n",
            " 0.        0.        0.        5.9993025 5.9993025 0.        5.9993025\n",
            " 7.8363773 5.9993025 0.        5.9993025 0.        5.9993025 5.9993025\n",
            " 0.        0.        7.8363773 0.        5.9993025 0.        5.9993025\n",
            " 7.8363773 5.9993025 5.9993025 5.9993025 5.9993025 0.        5.9993025\n",
            " 5.9993025 7.8363773 5.9993025 0.        7.8363773 5.9993025 5.9993025\n",
            " 5.9993025 5.9993025 0.        5.9993025 0.        5.9993025 5.9993025\n",
            " 7.8363773 0.        5.9993025 5.9993025 5.9993025 5.9993025 0.\n",
            " 0.        7.8363773 0.        5.9993025 7.8363773 5.9993025 5.9993025\n",
            " 5.9993025 0.        5.9993025 7.8363773 7.8363773 5.9993025 5.9993025\n",
            " 5.9993025 5.9993025 5.9993025 7.8363773 7.8363773 0.        5.9993025\n",
            " 0.        7.8363773 5.9993025 5.9993025 5.9993025 5.9993025 5.9993025\n",
            " 0.        5.9993025 0.        0.        7.8363773 5.9993025 0.\n",
            " 5.9993025 5.9993025 5.9993025 5.9993025 5.9993025 7.8363773 5.9993025\n",
            " 0.        7.8363773 0.        0.        5.9993025 5.9993025 5.9993025\n",
            " 5.9993025 7.8363773 5.9993025 5.9993025 0.        5.9993025 5.9993025\n",
            " 5.9993025 5.9993025 5.9993025 5.9993025 5.9993025 0.        0.\n",
            " 5.9993025 7.8363773 5.9993025 5.9993025 5.9993025 5.9993025 5.9993025\n",
            " 0.        5.9993025 5.9993025 5.9993025 5.9993025 7.8363773 5.9993025\n",
            " 5.9993025 5.9993025 5.9993025 0.        5.9993025 0.        7.8363773\n",
            " 5.9993025 5.9993025 5.9993025 5.9993025 5.9993025 5.9993025 5.9993025\n",
            " 0.        5.9993025 7.8363773 0.        5.9993025 7.8363773 5.9993025\n",
            " 5.9993025 7.8363773 5.9993025 5.9993025 0.        5.9993025 5.9993025\n",
            " 5.9993025 5.9993025 5.9993025 0.        7.8363773 5.9993025 7.8363773\n",
            " 0.        0.        5.9993025 5.9993025 7.8363773 7.8363773 0.\n",
            " 0.        5.9993025 0.        5.9993025 5.9993025 5.9993025 0.\n",
            " 0.        5.9993025 5.9993025 5.9993025 7.8363773 5.9993025 5.9993025\n",
            " 5.9993025 0.        5.9993025 5.9993025 0.        0.        5.9993025\n",
            " 5.9993025 5.9993025 5.9993025 0.        5.9993025 5.9993025 5.9993025\n",
            " 5.9993025 5.9993025 5.9993025 0.        5.9993025 5.9993025 5.9993025\n",
            " 5.9993025 5.9993025 5.9993025 0.        5.9993025 5.9993025 5.9993025\n",
            " 0.        5.9993025 7.8363773 0.        5.9993025 5.9993025 5.9993025\n",
            " 0.        7.8363773 5.9993025 7.8363773 0.        5.9993025 5.9993025\n",
            " 5.9993025 5.9993025 7.8363773 7.8363773 5.9993025 5.9993025 7.8363773\n",
            " 5.9993025 5.9993025 5.9993025 5.9993025 5.9993025 5.9993025 5.9993025\n",
            " 0.        5.9993025 5.9993025 5.9993025 5.9993025 5.9993025 5.9993025\n",
            " 5.9993025 0.        5.9993025 5.9993025 5.9993025 0.        7.8363773\n",
            " 7.8363773 5.9993025 0.        5.9993025 5.9993025 0.        5.9993025\n",
            " 5.9993025 0.        5.9993025 5.9993025 7.8363773 5.9993025 0.\n",
            " 5.9993025 5.9993025 7.8363773 5.9993025 5.9993025 5.9993025 5.9993025\n",
            " 5.9993025 5.9993025 5.9993025 7.8363773 5.9993025 5.9993025 5.9993025\n",
            " 5.9993025 0.        0.        5.9993025 0.        5.9993025 5.9993025\n",
            " 5.9993025 5.9993025 7.8363773 0.        5.9993025 5.9993025 0.\n",
            " 5.9993025 5.9993025 5.9993025 5.9993025 0.        5.9993025 0.\n",
            " 5.9993025 5.9993025 5.9993025 7.8363773 5.9993025 5.9993025 5.9993025\n",
            " 7.8363773 5.9993025 5.9993025 5.9993025 0.        5.9993025 7.8363773\n",
            " 5.9993025 0.        0.        7.8363773 0.        0.        5.9993025\n",
            " 7.8363773 0.        7.8363773 5.9993025 5.9993025 5.9993025 7.8363773\n",
            " 0.        0.        5.9993025 5.9993025 5.9993025 0.        5.9993025\n",
            " 5.9993025 5.9993025 5.9993025 5.9993025 0.        5.9993025 0.\n",
            " 5.9993025 0.        0.        5.9993025 5.9993025 5.9993025 5.9993025\n",
            " 5.9993025 0.        5.9993025 5.9993025 0.        5.9993025 5.9993025\n",
            " 0.        5.9993025 5.9993025 0.        5.9993025 0.        5.9993025\n",
            " 0.        7.8363773 5.9993025 5.9993025 0.        5.9993025 7.8363773\n",
            " 5.9993025 5.9993025 0.        7.8363773 5.9993025 7.8363773 5.9993025\n",
            " 7.8363773 5.9993025 5.9993025 5.9993025 5.9993025 0.        7.8363773\n",
            " 5.9993025 5.9993025 5.9993025 5.9993025 5.9993025 7.8363773 0.\n",
            " 0.        5.9993025 5.9993025 0.        7.8363773 5.9993025 0.\n",
            " 5.9993025 0.        0.        5.9993025 7.8363773 5.9993025 5.9993025\n",
            " 5.9993025 5.9993025 7.8363773 5.9993025 7.8363773 7.8363773 5.9993025\n",
            " 5.9993025 5.9993025 5.9993025 5.9993025 5.9993025 5.9993025 5.9993025\n",
            " 7.8363773 5.9993025 5.9993025 7.8363773 0.        0.        5.9993025\n",
            " 0.        5.9993025 5.9993025 5.9993025 5.9993025 5.9993025 5.9993025\n",
            " 5.9993025 5.9993025 5.9993025 5.9993025 7.8363773 5.9993025 5.9993025\n",
            " 5.9993025 5.9993025 5.9993025 5.9993025 5.9993025 5.9993025 5.9993025\n",
            " 5.9993025 5.9993025 5.9993025 5.9993025 5.9993025 7.8363773 0.\n",
            " 0.        5.9993025 7.8363773 5.9993025 0.        5.9993025 5.9993025\n",
            " 0.        7.8363773 0.        7.8363773 0.        0.        0.\n",
            " 5.9993025 5.9993025 5.9993025 0.        7.8363773 0.        7.8363773\n",
            " 7.8363773 5.9993025 7.8363773 5.9993025 5.9993025 5.9993025 5.9993025\n",
            " 5.9993025 5.9993025 5.9993025 0.        7.8363773 7.8363773 5.9993025\n",
            " 5.9993025 5.9993025 5.9993025 5.9993025 7.8363773 7.8363773 7.8363773\n",
            " 5.9993025 0.        5.9993025 0.        5.9993025 5.9993025 0.\n",
            " 5.9993025 5.9993025 0.        5.9993025 0.        0.        5.9993025\n",
            " 7.8363773 5.9993025 5.9993025 7.8363773 7.8363773 5.9993025 7.8363773\n",
            " 7.8363773 0.        0.        0.        5.9993025 0.        7.8363773\n",
            " 5.9993025 0.        0.        5.9993025 5.9993025 5.9993025 5.9993025\n",
            " 5.9993025 7.8363773 0.        5.9993025 5.9993025 5.9993025 0.\n",
            " 0.        7.8363773 0.        5.9993025 5.9993025 5.9993025 5.9993025\n",
            " 5.9993025 0.        5.9993025 0.        5.9993025 5.9993025 5.9993025\n",
            " 5.9993025 5.9993025 0.        5.9993025 5.9993025 7.8363773 5.9993025\n",
            " 0.        0.        7.8363773 5.9993025 0.        5.9993025 7.8363773\n",
            " 5.9993025 5.9993025 7.8363773 0.        0.        7.8363773 5.9993025\n",
            " 0.        5.9993025 0.        0.        0.        5.9993025 5.9993025\n",
            " 5.9993025 0.        5.9993025 0.        5.9993025 5.9993025 5.9993025\n",
            " 7.8363773 5.9993025 5.9993025 7.8363773 5.9993025 5.9993025 5.9993025\n",
            " 5.9993025 5.9993025 5.9993025 5.9993025 5.9993025 5.9993025 7.8363773\n",
            " 0.        5.9993025 5.9993025 0.        7.8363773 5.9993025 5.9993025\n",
            " 5.9993025 5.9993025 0.        7.8363773 5.9993025 5.9993025 5.9993025\n",
            " 7.8363773 5.9993025 5.9993025 5.9993025 5.9993025 5.9993025 0.\n",
            " 5.9993025 0.        0.        5.9993025 0.        7.8363773 0.\n",
            " 5.9993025 0.        7.8363773 0.        7.8363773 0.        7.8363773\n",
            " 5.9993025 5.9993025 5.9993025 5.9993025 5.9993025 5.9993025 5.9993025\n",
            " 5.9993025 5.9993025 5.9993025 5.9993025 5.9993025 0.        0.\n",
            " 5.9993025 5.9993025 5.9993025 5.9993025 5.9993025 5.9993025 7.8363773\n",
            " 5.9993025 5.9993025 7.8363773 5.9993025 5.9993025 5.9993025 7.8363773\n",
            " 5.9993025 0.        5.9993025 5.9993025 0.        5.9993025 5.9993025\n",
            " 0.        5.9993025 5.9993025 0.        5.9993025 0.        7.8363773\n",
            " 5.9993025 5.9993025 5.9993025 0.        7.8363773 5.9993025 5.9993025\n",
            " 5.9993025 5.9993025 5.9993025 7.8363773 0.        7.8363773 5.9993025\n",
            " 5.9993025 5.9993025 5.9993025 5.9993025 5.9993025 5.9993025 5.9993025\n",
            " 5.9993025 5.9993025 5.9993025 5.9993025 5.9993025 0.        7.8363773\n",
            " 5.9993025 5.9993025 5.9993025 5.9993025 5.9993025 5.9993025 0.\n",
            " 7.8363773 0.        5.9993025 5.9993025 5.9993025 5.9993025 5.9993025\n",
            " 5.9993025 5.9993025 5.9993025 5.9993025 0.        5.9993025 5.9993025\n",
            " 5.9993025 7.8363773 5.9993025 5.9993025 7.8363773 0.        5.9993025\n",
            " 5.9993025 0.        0.        5.9993025 5.9993025 7.8363773 5.9993025\n",
            " 5.9993025 5.9993025 5.9993025 5.9993025 5.9993025 0.        5.9993025\n",
            " 5.9993025 5.9993025 5.9993025 5.9993025 5.9993025 5.9993025 5.9993025\n",
            " 5.9993025 7.8363773 5.9993025 0.        5.9993025 5.9993025 0.\n",
            " 0.        7.8363773 5.9993025 5.9993025 5.9993025 0.        0.\n",
            " 5.9993025 0.        5.9993025 5.9993025 7.8363773 7.8363773 5.9993025\n",
            " 5.9993025 0.        0.        0.        5.9993025 5.9993025 5.9993025\n",
            " 0.        5.9993025 5.9993025 5.9993025 7.8363773 0.        5.9993025\n",
            " 5.9993025 7.8363773 5.9993025 5.9993025 0.        0.        5.9993025\n",
            " 5.9993025 5.9993025 5.9993025 5.9993025 5.9993025 5.9993025 0.\n",
            " 0.        7.8363773 5.9993025 5.9993025 7.8363773 5.9993025 0.\n",
            " 5.9993025 5.9993025 5.9993025 0.        5.9993025 5.9993025 5.9993025\n",
            " 5.9993025 0.        5.9993025 5.9993025 0.        5.9993025 5.9993025\n",
            " 5.9993025 0.        5.9993025 5.9993025 0.        5.9993025 5.9993025\n",
            " 0.        5.9993025 5.9993025 5.9993025 0.        7.8363773 5.9993025\n",
            " 5.9993025 7.8363773 5.9993025 5.9993025 5.9993025 5.9993025 5.9993025\n",
            " 5.9993025 5.9993025 0.        7.8363773 5.9993025 5.9993025 7.8363773\n",
            " 0.        5.9993025 5.9993025 0.        5.9993025 5.9993025 5.9993025\n",
            " 0.        0.        0.        5.9993025 0.        0.        7.8363773\n",
            " 5.9993025 7.8363773 5.9993025 5.9993025 0.        5.9993025 0.\n",
            " 0.        5.9993025 7.8363773 5.9993025 5.9993025 5.9993025 5.9993025\n",
            " 5.9993025 7.8363773 0.        0.        5.9993025 0.        5.9993025\n",
            " 5.9993025 7.8363773 5.9993025 0.        5.9993025 5.9993025 5.9993025\n",
            " 5.9993025 5.9993025 0.        7.8363773 0.        5.9993025 5.9993025\n",
            " 5.9993025 5.9993025 5.9993025 0.        0.        5.9993025 5.9993025\n",
            " 0.        0.        5.9993025 5.9993025 7.8363773 5.9993025 7.8363773\n",
            " 7.8363773 7.8363773 5.9993025 7.8363773 0.        0.        5.9993025\n",
            " 5.9993025 5.9993025 5.9993025 5.9993025 0.        0.        5.9993025\n",
            " 5.9993025 0.        7.8363773 5.9993025 5.9993025 7.8363773 5.9993025\n",
            " 5.9993025 7.8363773 0.        5.9993025 5.9993025 5.9993025 7.8363773\n",
            " 7.8363773 7.8363773 5.9993025 0.        5.9993025 7.8363773 7.8363773\n",
            " 5.9993025 5.9993025 7.8363773 5.9993025 5.9993025 0.        5.9993025\n",
            " 7.8363773 5.9993025 7.8363773 7.8363773 5.9993025 7.8363773 7.8363773\n",
            " 5.9993025 5.9993025 0.        5.9993025 7.8363773 7.8363773 5.9993025\n",
            " 0.        5.9993025 5.9993025 5.9993025 5.9993025 5.9993025 0.\n",
            " 7.8363773 5.9993025 5.9993025 0.        0.        7.8363773 5.9993025\n",
            " 5.9993025 5.9993025 5.9993025 5.9993025 5.9993025 7.8363773 5.9993025\n",
            " 0.        5.9993025 0.        5.9993025 7.8363773 5.9993025 0.\n",
            " 7.8363773 7.8363773 5.9993025 5.9993025 5.9993025 5.9993025 0.\n",
            " 0.        7.8363773 7.8363773 5.9993025 5.9993025 7.8363773 5.9993025\n",
            " 7.8363773 5.9993025 5.9993025 0.        5.9993025 5.9993025 5.9993025\n",
            " 7.8363773 0.        7.8363773 5.9993025 5.9993025 5.9993025 5.9993025\n",
            " 5.9993025 0.        5.9993025 0.        5.9993025 5.9993025 5.9993025\n",
            " 5.9993025 0.        5.9993025 7.8363773 0.        0.        5.9993025\n",
            " 5.9993025 5.9993025 5.9993025 5.9993025 5.9993025 5.9993025 5.9993025\n",
            " 0.        5.9993025 5.9993025 5.9993025 5.9993025 5.9993025 5.9993025\n",
            " 5.9993025 5.9993025 5.9993025 5.9993025 5.9993025 0.        5.9993025\n",
            " 5.9993025 5.9993025 5.9993025 7.8363773 5.9993025 0.        5.9993025\n",
            " 5.9993025 5.9993025 5.9993025 5.9993025 5.9993025 0.        5.9993025\n",
            " 5.9993025 5.9993025 5.9993025 7.8363773 0.        5.9993025 5.9993025\n",
            " 0.        5.9993025 5.9993025 5.9993025 5.9993025 5.9993025 5.9993025\n",
            " 5.9993025 0.        7.8363773 5.9993025 5.9993025 5.9993025 0.\n",
            " 5.9993025 5.9993025 5.9993025 0.        5.9993025 5.9993025 5.9993025\n",
            " 5.9993025 5.9993025 5.9993025 5.9993025 5.9993025 5.9993025 5.9993025\n",
            " 5.9993025 5.9993025 5.9993025 5.9993025 5.9993025 0.        7.8363773\n",
            " 0.        5.9993025 7.8363773 5.9993025 5.9993025 5.9993025 5.9993025\n",
            " 7.8363773 5.9993025 5.9993025 5.9993025 5.9993025 0.        5.9993025\n",
            " 7.8363773 0.        5.9993025 0.        5.9993025 5.9993025 5.9993025\n",
            " 5.9993025 7.8363773 5.9993025 5.9993025 5.9993025 5.9993025 5.9993025\n",
            " 5.9993025 5.9993025 5.9993025 5.9993025 0.        5.9993025 0.\n",
            " 7.8363773 7.8363773 7.8363773 0.        5.9993025 5.9993025 5.9993025\n",
            " 0.        5.9993025 5.9993025 5.9993025 0.        0.        0.\n",
            " 5.9993025 5.9993025 7.8363773 5.9993025 7.8363773 7.8363773 0.\n",
            " 5.9993025 5.9993025 7.8363773 7.8363773 0.        5.9993025 0.\n",
            " 7.8363773 5.9993025 7.8363773 5.9993025 5.9993025 5.9993025 0.\n",
            " 7.8363773 5.9993025 0.        5.9993025 7.8363773 5.9993025 5.9993025\n",
            " 5.9993025 5.9993025 5.9993025 7.8363773 0.        7.8363773 5.9993025\n",
            " 5.9993025 5.9993025 5.9993025 5.9993025 7.8363773 0.        5.9993025\n",
            " 7.8363773 7.8363773 5.9993025 5.9993025 7.8363773 5.9993025 5.9993025\n",
            " 7.8363773 5.9993025 0.        7.8363773 5.9993025 5.9993025 5.9993025\n",
            " 5.9993025 5.9993025 7.8363773 5.9993025 5.9993025 0.        5.9993025\n",
            " 0.        5.9993025 5.9993025 5.9993025 5.9993025 5.9993025 5.9993025\n",
            " 5.9993025 5.9993025 5.9993025 5.9993025 5.9993025 7.8363773 5.9993025\n",
            " 5.9993025 7.8363773 5.9993025 5.9993025 5.9993025 5.9993025 5.9993025\n",
            " 0.        7.8363773 0.        5.9993025 7.8363773 5.9993025 0.\n",
            " 5.9993025 7.8363773 5.9993025 5.9993025 5.9993025 7.8363773 5.9993025\n",
            " 5.9993025 5.9993025 0.        0.        7.8363773 5.9993025 5.9993025\n",
            " 0.        0.        0.        7.8363773 5.9993025 5.9993025 5.9993025\n",
            " 5.9993025 0.        5.9993025 5.9993025 0.        5.9993025 0.\n",
            " 0.        5.9993025 5.9993025 7.8363773 0.        5.9993025 5.9993025\n",
            " 5.9993025 7.8363773 5.9993025 5.9993025 5.9993025 5.9993025 7.8363773\n",
            " 5.9993025 5.9993025 7.8363773 0.        5.9993025 5.9993025 5.9993025\n",
            " 7.8363773 0.        5.9993025 5.9993025 7.8363773 7.8363773 7.8363773\n",
            " 5.9993025 5.9993025 5.9993025 0.        5.9993025 5.9993025 7.8363773\n",
            " 0.        5.9993025 5.9993025 5.9993025 5.9993025 5.9993025 7.8363773\n",
            " 0.        5.9993025 5.9993025 0.        0.        0.        0.\n",
            " 0.        0.        0.        5.9993025 5.9993025 5.9993025 5.9993025\n",
            " 5.9993025 5.9993025 5.9993025 5.9993025 5.9993025 5.9993025 5.9993025\n",
            " 7.8363773 0.        5.9993025 5.9993025 7.8363773 0.        5.9993025\n",
            " 5.9993025 7.8363773 0.        5.9993025 7.8363773 0.        7.8363773\n",
            " 5.9993025 5.9993025 0.        7.8363773 0.        7.8363773 0.\n",
            " 5.9993025 5.9993025 5.9993025 5.9993025 5.9993025 5.9993025 5.9993025\n",
            " 5.9993025 5.9993025 5.9993025 5.9993025 7.8363773 5.9993025 7.8363773\n",
            " 7.8363773 0.        5.9993025 0.        5.9993025 0.        5.9993025\n",
            " 0.        5.9993025 7.8363773 5.9993025 0.        0.        5.9993025\n",
            " 5.9993025 5.9993025 5.9993025 0.        5.9993025 5.9993025 5.9993025\n",
            " 5.9993025 5.9993025 0.        7.8363773 5.9993025 5.9993025 5.9993025\n",
            " 5.9993025 5.9993025 5.9993025 0.        0.        0.        5.9993025\n",
            " 5.9993025 5.9993025 5.9993025 7.8363773 5.9993025 5.9993025 0.\n",
            " 5.9993025 0.        5.9993025 5.9993025 5.9993025 5.9993025 5.9993025\n",
            " 5.9993025 5.9993025 5.9993025 0.        7.8363773 0.        5.9993025\n",
            " 7.8363773 5.9993025 5.9993025 0.        0.        5.9993025 5.9993025\n",
            " 0.        7.8363773 7.8363773 7.8363773 0.        0.        5.9993025\n",
            " 0.        5.9993025 7.8363773 5.9993025 5.9993025 5.9993025 7.8363773\n",
            " 7.8363773 5.9993025 5.9993025 5.9993025 5.9993025 5.9993025 5.9993025\n",
            " 5.9993025 5.9993025 7.8363773 7.8363773 5.9993025 5.9993025 0.\n",
            " 5.9993025 5.9993025 5.9993025 5.9993025 5.9993025 5.9993025 7.8363773\n",
            " 7.8363773 5.9993025 5.9993025 5.9993025 5.9993025 5.9993025 5.9993025\n",
            " 5.9993025 5.9993025 0.        5.9993025 5.9993025 5.9993025 5.9993025\n",
            " 5.9993025 5.9993025 5.9993025 5.9993025 7.8363773 0.        5.9993025\n",
            " 5.9993025 0.        0.        5.9993025 0.        5.9993025 7.8363773\n",
            " 7.8363773 5.9993025 5.9993025 5.9993025 5.9993025 0.        5.9993025\n",
            " 5.9993025 5.9993025 5.9993025 0.        5.9993025 7.8363773 5.9993025\n",
            " 7.8363773 5.9993025 7.8363773 5.9993025 5.9993025 0.        0.\n",
            " 0.        5.9993025 5.9993025 5.9993025 5.9993025 5.9993025 5.9993025\n",
            " 5.9993025 7.8363773 5.9993025 5.9993025 5.9993025 5.9993025 7.8363773\n",
            " 5.9993025 5.9993025 5.9993025 7.8363773 7.8363773 5.9993025 5.9993025\n",
            " 7.8363773 7.8363773 7.8363773 0.        5.9993025 7.8363773 0.\n",
            " 0.        0.        5.9993025 0.        7.8363773 0.        7.8363773\n",
            " 7.8363773 5.9993025 5.9993025 5.9993025 0.        0.        0.\n",
            " 0.        0.        5.9993025 0.        5.9993025 7.8363773 0.\n",
            " 5.9993025 5.9993025 7.8363773 0.        5.9993025 5.9993025 5.9993025\n",
            " 0.        0.        0.        0.        0.        5.9993025 0.\n",
            " 5.9993025 0.        5.9993025 5.9993025 5.9993025 5.9993025 5.9993025\n",
            " 0.        7.8363773 5.9993025 7.8363773 5.9993025 0.        0.\n",
            " 7.8363773 0.        5.9993025 7.8363773 0.        0.        5.9993025\n",
            " 5.9993025 5.9993025 0.        5.9993025 5.9993025 5.9993025 7.8363773\n",
            " 7.8363773 7.8363773 7.8363773 5.9993025 5.9993025 5.9993025 5.9993025\n",
            " 0.        5.9993025 5.9993025 7.8363773 5.9993025 5.9993025 5.9993025\n",
            " 5.9993025 5.9993025 7.8363773 0.        5.9993025 0.        5.9993025\n",
            " 0.        5.9993025 0.        0.        5.9993025 5.9993025 0.\n",
            " 5.9993025 5.9993025 5.9993025 5.9993025 5.9993025 0.        5.9993025\n",
            " 5.9993025 5.9993025 7.8363773 0.        0.        5.9993025 5.9993025\n",
            " 5.9993025 5.9993025 7.8363773 5.9993025 5.9993025 7.8363773 7.8363773\n",
            " 5.9993025 5.9993025 0.        7.8363773 5.9993025 5.9993025 5.9993025\n",
            " 7.8363773 5.9993025 5.9993025 5.9993025 5.9993025 0.        5.9993025\n",
            " 7.8363773 5.9993025 5.9993025 0.        5.9993025 5.9993025 5.9993025\n",
            " 0.        7.8363773 0.        5.9993025 5.9993025 5.9993025 0.\n",
            " 5.9993025 5.9993025 5.9993025 7.8363773 0.        5.9993025 5.9993025\n",
            " 5.9993025 5.9993025 5.9993025 0.        7.8363773 5.9993025 7.8363773\n",
            " 0.        0.        5.9993025 0.        5.9993025 0.        0.\n",
            " 0.        0.        5.9993025 5.9993025 7.8363773 0.        0.\n",
            " 5.9993025 7.8363773 5.9993025 7.8363773 0.        5.9993025 0.\n",
            " 7.8363773 0.        5.9993025 0.        5.9993025 0.        0.\n",
            " 5.9993025 5.9993025 5.9993025 5.9993025 5.9993025 5.9993025 7.8363773\n",
            " 5.9993025 5.9993025 5.9993025 5.9993025 0.        5.9993025 5.9993025\n",
            " 0.        5.9993025 5.9993025 0.        7.8363773 0.        7.8363773\n",
            " 0.        5.9993025 5.9993025 5.9993025 5.9993025 5.9993025 5.9993025\n",
            " 5.9993025 5.9993025 5.9993025 5.9993025 5.9993025 5.9993025 5.9993025\n",
            " 5.9993025 5.9993025 0.        5.9993025 5.9993025 0.        5.9993025\n",
            " 5.9993025 5.9993025 0.        0.        5.9993025 5.9993025 5.9993025\n",
            " 5.9993025 5.9993025 0.        5.9993025 5.9993025 5.9993025 0.\n",
            " 5.9993025 0.        5.9993025 5.9993025 7.8363773 7.8363773 5.9993025\n",
            " 5.9993025 5.9993025 0.        5.9993025 5.9993025 5.9993025 5.9993025\n",
            " 5.9993025 5.9993025 5.9993025 5.9993025 5.9993025 0.        5.9993025\n",
            " 7.8363773 5.9993025 5.9993025 5.9993025 0.        5.9993025 5.9993025\n",
            " 5.9993025 5.9993025 5.9993025 5.9993025 5.9993025 0.        5.9993025\n",
            " 7.8363773 5.9993025 0.        5.9993025 5.9993025 5.9993025 5.9993025\n",
            " 7.8363773 5.9993025 7.8363773 7.8363773 0.        5.9993025 5.9993025\n",
            " 5.9993025 0.        5.9993025 7.8363773 5.9993025 5.9993025 5.9993025\n",
            " 5.9993025 0.        7.8363773 0.        5.9993025 5.9993025 5.9993025\n",
            " 5.9993025 5.9993025 0.        5.9993025 0.        7.8363773 5.9993025\n",
            " 5.9993025 0.        5.9993025 7.8363773 7.8363773 5.9993025 0.\n",
            " 5.9993025 5.9993025 5.9993025 5.9993025 5.9993025 7.8363773 5.9993025\n",
            " 5.9993025 0.        5.9993025 5.9993025 5.9993025 5.9993025 0.\n",
            " 5.9993025 5.9993025 7.8363773 0.        5.9993025 7.8363773 5.9993025\n",
            " 0.        5.9993025 0.        0.        0.        5.9993025 5.9993025\n",
            " 5.9993025 0.        5.9993025 0.        5.9993025 7.8363773 5.9993025\n",
            " 5.9993025 0.        5.9993025 7.8363773 7.8363773 5.9993025 7.8363773\n",
            " 5.9993025 5.9993025 5.9993025 5.9993025 5.9993025 0.        5.9993025\n",
            " 5.9993025 5.9993025 0.        5.9993025 0.        0.        5.9993025\n",
            " 5.9993025 7.8363773 0.        5.9993025 5.9993025 0.        5.9993025\n",
            " 5.9993025 5.9993025 5.9993025 5.9993025 0.        7.8363773 7.8363773\n",
            " 5.9993025 5.9993025 5.9993025 0.        5.9993025 5.9993025 0.\n",
            " 0.        5.9993025 7.8363773 0.        7.8363773 5.9993025 5.9993025\n",
            " 5.9993025 5.9993025 5.9993025 5.9993025 5.9993025 7.8363773 5.9993025\n",
            " 5.9993025 5.9993025 5.9993025 0.        0.        7.8363773 5.9993025\n",
            " 5.9993025 5.9993025 5.9993025 7.8363773 7.8363773 5.9993025 7.8363773\n",
            " 7.8363773 5.9993025 0.        5.9993025 0.        0.        5.9993025\n",
            " 5.9993025 5.9993025 5.9993025 0.        5.9993025 7.8363773 0.\n",
            " 0.        5.9993025 7.8363773 0.        5.9993025 5.9993025 7.8363773\n",
            " 5.9993025 5.9993025 5.9993025 5.9993025 5.9993025 7.8363773 5.9993025\n",
            " 5.9993025 0.        0.        5.9993025 7.8363773 0.        5.9993025\n",
            " 5.9993025 5.9993025 0.        5.9993025 5.9993025 5.9993025 5.9993025\n",
            " 0.        5.9993025 0.        5.9993025 5.9993025 0.        0.\n",
            " 0.        5.9993025 5.9993025 5.9993025 0.        5.9993025 5.9993025\n",
            " 0.        5.9993025 5.9993025 7.8363773 5.9993025 5.9993025 7.8363773\n",
            " 5.9993025 7.8363773 5.9993025 0.        5.9993025 5.9993025 7.8363773\n",
            " 7.8363773 5.9993025 5.9993025 5.9993025 7.8363773 5.9993025 5.9993025\n",
            " 7.8363773 5.9993025 5.9993025 0.        5.9993025 5.9993025 5.9993025\n",
            " 5.9993025 5.9993025 5.9993025 0.        0.        7.8363773 5.9993025\n",
            " 5.9993025 0.        5.9993025 5.9993025 5.9993025 0.        5.9993025\n",
            " 5.9993025 5.9993025 5.9993025 0.        5.9993025 5.9993025 5.9993025\n",
            " 0.        5.9993025 0.        5.9993025 5.9993025 7.8363773 5.9993025\n",
            " 5.9993025 7.8363773 7.8363773 7.8363773 7.8363773 0.        5.9993025\n",
            " 5.9993025 7.8363773 7.8363773 7.8363773 5.9993025 0.        5.9993025\n",
            " 0.        5.9993025 5.9993025 5.9993025 5.9993025 0.        5.9993025\n",
            " 0.        5.9993025 5.9993025 5.9993025 7.8363773 5.9993025 7.8363773\n",
            " 5.9993025 5.9993025 5.9993025 5.9993025 5.9993025 5.9993025 5.9993025\n",
            " 5.9993025 0.        5.9993025 5.9993025 7.8363773 0.        0.\n",
            " 5.9993025 5.9993025 5.9993025 0.        5.9993025 5.9993025 5.9993025\n",
            " 5.9993025 7.8363773 0.        5.9993025 5.9993025 5.9993025 0.\n",
            " 5.9993025 5.9993025 5.9993025 5.9993025 5.9993025 5.9993025 5.9993025\n",
            " 5.9993025 5.9993025 5.9993025 5.9993025 5.9993025 0.        5.9993025\n",
            " 5.9993025 5.9993025 0.        5.9993025 5.9993025 5.9993025 5.9993025\n",
            " 7.8363773 0.        5.9993025 5.9993025 5.9993025 5.9993025 5.9993025\n",
            " 5.9993025 0.        7.8363773 0.        7.8363773 5.9993025 7.8363773\n",
            " 5.9993025 5.9993025 5.9993025 0.        5.9993025 5.9993025 5.9993025\n",
            " 5.9993025 0.        7.8363773 5.9993025 5.9993025 5.9993025 0.\n",
            " 5.9993025 0.        5.9993025 5.9993025 5.9993025 5.9993025 5.9993025\n",
            " 5.9993025 5.9993025 7.8363773 5.9993025 7.8363773 5.9993025 5.9993025\n",
            " 5.9993025 5.9993025 0.        7.8363773 5.9993025 0.        5.9993025\n",
            " 5.9993025 5.9993025 0.        7.8363773 0.        5.9993025 5.9993025\n",
            " 7.8363773 5.9993025 7.8363773 5.9993025 5.9993025 5.9993025 0.\n",
            " 5.9993025 7.8363773 0.        0.        5.9993025 0.        5.9993025\n",
            " 5.9993025 5.9993025 5.9993025 5.9993025 5.9993025 5.9993025 0.\n",
            " 0.        0.        5.9993025 7.8363773 7.8363773 0.        0.\n",
            " 5.9993025 0.        5.9993025 5.9993025 5.9993025 5.9993025 7.8363773\n",
            " 0.        0.        5.9993025 5.9993025 7.8363773 5.9993025 0.\n",
            " 5.9993025 5.9993025 5.9993025 7.8363773 5.9993025 0.        5.9993025\n",
            " 0.        5.9993025 5.9993025 0.        0.        5.9993025 0.\n",
            " 7.8363773 0.        5.9993025 5.9993025 5.9993025 5.9993025 5.9993025\n",
            " 5.9993025 5.9993025 5.9993025 0.        0.        0.        0.\n",
            " 7.8363773 5.9993025 5.9993025 5.9993025 0.        0.        5.9993025\n",
            " 5.9993025 0.        5.9993025 7.8363773 5.9993025 7.8363773 7.8363773\n",
            " 5.9993025 5.9993025 5.9993025 5.9993025 5.9993025 0.        5.9993025\n",
            " 5.9993025 5.9993025 5.9993025 7.8363773 0.        7.8363773 7.8363773\n",
            " 5.9993025 5.9993025 7.8363773 5.9993025 5.9993025 7.8363773 7.8363773\n",
            " 0.        5.9993025 5.9993025 0.        5.9993025 5.9993025 0.\n",
            " 5.9993025 5.9993025 5.9993025 7.8363773 5.9993025 5.9993025 5.9993025\n",
            " 5.9993025 5.9993025 7.8363773 5.9993025 5.9993025 5.9993025 5.9993025\n",
            " 5.9993025 5.9993025 5.9993025 7.8363773 5.9993025 7.8363773 5.9993025\n",
            " 5.9993025 0.        7.8363773 0.        7.8363773 5.9993025 5.9993025\n",
            " 0.        5.9993025 0.        0.        5.9993025 5.9993025 5.9993025\n",
            " 0.        7.8363773 0.        5.9993025 5.9993025 5.9993025 5.9993025\n",
            " 0.        5.9993025 5.9993025 5.9993025 5.9993025 5.9993025 0.\n",
            " 0.        5.9993025 5.9993025 7.8363773 0.        5.9993025 0.\n",
            " 5.9993025 7.8363773 0.        7.8363773 5.9993025 5.9993025 7.8363773\n",
            " 5.9993025 7.8363773 5.9993025 5.9993025 5.9993025 7.8363773 0.\n",
            " 5.9993025 7.8363773 5.9993025 5.9993025 0.        5.9993025 5.9993025\n",
            " 0.        0.        5.9993025 7.8363773 0.        0.        0.\n",
            " 5.9993025 5.9993025 5.9993025 5.9993025 0.        0.        0.\n",
            " 5.9993025 5.9993025 5.9993025 5.9993025 5.9993025 5.9993025 5.9993025\n",
            " 5.9993025 0.        5.9993025 5.9993025 5.9993025 5.9993025 5.9993025\n",
            " 5.9993025 5.9993025 7.8363773 5.9993025 5.9993025 7.8363773 0.\n",
            " 7.8363773 5.9993025 5.9993025 5.9993025 5.9993025 5.9993025 5.9993025\n",
            " 7.8363773 5.9993025 0.        5.9993025 5.9993025 7.8363773 5.9993025\n",
            " 5.9993025 7.8363773 5.9993025 7.8363773 7.8363773 5.9993025 5.9993025\n",
            " 5.9993025 5.9993025 5.9993025 5.9993025 5.9993025 0.        5.9993025\n",
            " 0.        5.9993025 5.9993025 7.8363773 5.9993025 5.9993025 5.9993025\n",
            " 5.9993025 0.        5.9993025 5.9993025 5.9993025 5.9993025 7.8363773\n",
            " 0.        5.9993025 5.9993025 0.        5.9993025 5.9993025 5.9993025\n",
            " 0.        7.8363773 0.        5.9993025 0.        5.9993025 0.\n",
            " 5.9993025 0.        5.9993025 0.        0.        0.        7.8363773\n",
            " 7.8363773 0.        5.9993025 5.9993025 5.9993025 5.9993025 0.\n",
            " 0.        0.        0.        0.        5.9993025 5.9993025 5.9993025\n",
            " 0.        0.        5.9993025 7.8363773 0.        5.9993025 5.9993025\n",
            " 7.8363773 0.        5.9993025]\n"
          ],
          "name": "stdout"
        }
      ]
    },
    {
      "cell_type": "code",
      "metadata": {
        "colab": {
          "base_uri": "https://localhost:8080/"
        },
        "id": "pCpasS1ynG4F",
        "outputId": "4a83e406-6814-499d-bde0-44ef517fae72"
      },
      "source": [
        "y_predict = regr.predict(test_spring)\n",
        "print(max(y_predict))\n",
        "y_predict=y_predict.tolist()\n",
        "for i in range(len(y_predict)):\n",
        "  if y_predict[i]==max(y_predict):\n",
        "    print(max(y_predict),i)"
      ],
      "execution_count": null,
      "outputs": [
        {
          "output_type": "stream",
          "text": [
            "7.8363773014086\n",
            "7.8363773014086 214\n",
            "7.8363773014086 215\n",
            "7.8363773014086 217\n",
            "7.8363773014086 219\n",
            "7.8363773014086 222\n",
            "7.8363773014086 225\n",
            "7.8363773014086 235\n",
            "7.8363773014086 257\n",
            "7.8363773014086 260\n",
            "7.8363773014086 266\n",
            "7.8363773014086 268\n",
            "7.8363773014086 272\n",
            "7.8363773014086 276\n",
            "7.8363773014086 280\n",
            "7.8363773014086 282\n",
            "7.8363773014086 284\n"
          ],
          "name": "stdout"
        }
      ]
    },
    {
      "cell_type": "code",
      "metadata": {
        "colab": {
          "base_uri": "https://localhost:8080/"
        },
        "id": "aqouRTCa4uOy",
        "outputId": "36b64ef7-fa93-4e8e-d026-15491de120d6"
      },
      "source": [
        "from sklearn.metrics import r2_score\n",
        "r2_score(y_test, y_pred)"
      ],
      "execution_count": null,
      "outputs": [
        {
          "output_type": "execute_result",
          "data": {
            "text/plain": [
              "0.9557758902558627"
            ]
          },
          "metadata": {
            "tags": []
          },
          "execution_count": 61
        }
      ]
    },
    {
      "cell_type": "code",
      "metadata": {
        "id": "Om3qv6FummnG"
      },
      "source": [
        ""
      ],
      "execution_count": null,
      "outputs": []
    }
  ]
}